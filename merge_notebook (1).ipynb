{
  "nbformat": 4,
  "nbformat_minor": 0,
  "metadata": {
    "kernelspec": {
      "display_name": "Python 3",
      "language": "python",
      "name": "python3"
    },
    "language_info": {
      "codemirror_mode": {
        "name": "ipython",
        "version": 3
      },
      "file_extension": ".py",
      "mimetype": "text/x-python",
      "name": "python",
      "nbconvert_exporter": "python",
      "pygments_lexer": "ipython3",
      "version": "3.8.3"
    },
    "colab": {
      "name": "merge-notebook.ipynb",
      "provenance": [],
      "collapsed_sections": [
        "Gq136HZxpEfG"
      ]
    }
  },
  "cells": [
    {
      "cell_type": "markdown",
      "metadata": {
        "id": "WJGO0vSVpEex"
      },
      "source": [
        "# P3"
      ]
    },
    {
      "cell_type": "code",
      "metadata": {
        "id": "JnJMLfxEpEe1"
      },
      "source": [
        "%matplotlib inline\n",
        "%load_ext autoreload\n",
        "%autoreload 2"
      ],
      "execution_count": null,
      "outputs": []
    },
    {
      "cell_type": "code",
      "metadata": {
        "id": "ERroSG0spEe2"
      },
      "source": [
        "import pandas as pd\n",
        "import numpy as np\n",
        "import networkx as nx"
      ],
      "execution_count": 45,
      "outputs": []
    },
    {
      "cell_type": "code",
      "metadata": {
        "colab": {
          "base_uri": "https://localhost:8080/"
        },
        "id": "UoAxlca_6Ezl",
        "outputId": "91fd43d4-79f7-4815-8fde-83e8bf3a7eec"
      },
      "source": [
        "from google.colab import drive\n",
        "drive.mount('/content/drive')"
      ],
      "execution_count": 46,
      "outputs": [
        {
          "output_type": "stream",
          "text": [
            "Drive already mounted at /content/drive; to attempt to forcibly remount, call drive.mount(\"/content/drive\", force_remount=True).\n"
          ],
          "name": "stdout"
        }
      ]
    },
    {
      "cell_type": "markdown",
      "metadata": {
        "id": "NfVCbElVpEe3"
      },
      "source": [
        "# Part 1\n",
        "\n",
        "## 1.1] Replicate Table 3 for the Reddit data\n",
        "\n",
        "### 1.1.1]Load the Reddit data and do some basic analysis\n",
        "\n",
        "**Load the data**"
      ]
    },
    {
      "cell_type": "code",
      "metadata": {
        "id": "5SBiU2uSpEe3",
        "colab": {
          "base_uri": "https://localhost:8080/",
          "height": 165
        },
        "outputId": "d89abaaa-57ab-4a2d-8fe3-6b2a70ecba76"
      },
      "source": [
        "DATAFOLDER = '/content/drive/MyDrive/ADA - dataset/'\n",
        "reddit_data_body_file = DATAFOLDER + 'soc-redditHyperlinks-body.tsv'\n",
        "reddit_data_title_file = DATAFOLDER + 'soc-redditHyperlinks-title.tsv'\n",
        "wikipedia_file = DATAFOLDER + 'wikiElec.ElecBs3.txt'\n",
        "\n",
        "\n",
        "data_body = pd.read_csv(reddit_data_body_file, sep = '\\t')\n",
        "data_title = pd.read_csv(reddit_data_title_file, sep = '\\t')\n",
        "data_body.head(2)"
      ],
      "execution_count": 51,
      "outputs": [
        {
          "output_type": "execute_result",
          "data": {
            "text/html": [
              "<div>\n",
              "<style scoped>\n",
              "    .dataframe tbody tr th:only-of-type {\n",
              "        vertical-align: middle;\n",
              "    }\n",
              "\n",
              "    .dataframe tbody tr th {\n",
              "        vertical-align: top;\n",
              "    }\n",
              "\n",
              "    .dataframe thead th {\n",
              "        text-align: right;\n",
              "    }\n",
              "</style>\n",
              "<table border=\"1\" class=\"dataframe\">\n",
              "  <thead>\n",
              "    <tr style=\"text-align: right;\">\n",
              "      <th></th>\n",
              "      <th>SOURCE_SUBREDDIT</th>\n",
              "      <th>TARGET_SUBREDDIT</th>\n",
              "      <th>POST_ID</th>\n",
              "      <th>TIMESTAMP</th>\n",
              "      <th>LINK_SENTIMENT</th>\n",
              "      <th>PROPERTIES</th>\n",
              "    </tr>\n",
              "  </thead>\n",
              "  <tbody>\n",
              "    <tr>\n",
              "      <th>0</th>\n",
              "      <td>leagueoflegends</td>\n",
              "      <td>teamredditteams</td>\n",
              "      <td>1u4nrps</td>\n",
              "      <td>2013-12-31 16:39:58</td>\n",
              "      <td>1</td>\n",
              "      <td>345.0,298.0,0.75652173913,0.0173913043478,0.08...</td>\n",
              "    </tr>\n",
              "    <tr>\n",
              "      <th>1</th>\n",
              "      <td>theredlion</td>\n",
              "      <td>soccer</td>\n",
              "      <td>1u4qkd</td>\n",
              "      <td>2013-12-31 18:18:37</td>\n",
              "      <td>-1</td>\n",
              "      <td>101.0,98.0,0.742574257426,0.019801980198,0.049...</td>\n",
              "    </tr>\n",
              "  </tbody>\n",
              "</table>\n",
              "</div>"
            ],
            "text/plain": [
              "  SOURCE_SUBREDDIT  ...                                         PROPERTIES\n",
              "0  leagueoflegends  ...  345.0,298.0,0.75652173913,0.0173913043478,0.08...\n",
              "1       theredlion  ...  101.0,98.0,0.742574257426,0.019801980198,0.049...\n",
              "\n",
              "[2 rows x 6 columns]"
            ]
          },
          "metadata": {
            "tags": []
          },
          "execution_count": 51
        }
      ]
    },
    {
      "cell_type": "markdown",
      "metadata": {
        "id": "JP8gFPExpEe4"
      },
      "source": [
        "We rename the sign column, to have consistency with datasets like wikipedia, slashdot, epinions"
      ]
    },
    {
      "cell_type": "code",
      "metadata": {
        "id": "SrapOY4lpEe4",
        "colab": {
          "base_uri": "https://localhost:8080/",
          "height": 549
        },
        "outputId": "8ac47448-1335-4cda-de71-0179d1506a05"
      },
      "source": [
        "data_body = data_body.rename(columns = {'LINK_SENTIMENT' : 'Sign'})\n",
        "data_title = data_title.rename(columns = {'LINK_SENTIMENT' : 'Sign'})\n",
        "data_body.head(10)"
      ],
      "execution_count": 52,
      "outputs": [
        {
          "output_type": "execute_result",
          "data": {
            "text/html": [
              "<div>\n",
              "<style scoped>\n",
              "    .dataframe tbody tr th:only-of-type {\n",
              "        vertical-align: middle;\n",
              "    }\n",
              "\n",
              "    .dataframe tbody tr th {\n",
              "        vertical-align: top;\n",
              "    }\n",
              "\n",
              "    .dataframe thead th {\n",
              "        text-align: right;\n",
              "    }\n",
              "</style>\n",
              "<table border=\"1\" class=\"dataframe\">\n",
              "  <thead>\n",
              "    <tr style=\"text-align: right;\">\n",
              "      <th></th>\n",
              "      <th>SOURCE_SUBREDDIT</th>\n",
              "      <th>TARGET_SUBREDDIT</th>\n",
              "      <th>POST_ID</th>\n",
              "      <th>TIMESTAMP</th>\n",
              "      <th>Sign</th>\n",
              "      <th>PROPERTIES</th>\n",
              "    </tr>\n",
              "  </thead>\n",
              "  <tbody>\n",
              "    <tr>\n",
              "      <th>0</th>\n",
              "      <td>leagueoflegends</td>\n",
              "      <td>teamredditteams</td>\n",
              "      <td>1u4nrps</td>\n",
              "      <td>2013-12-31 16:39:58</td>\n",
              "      <td>1</td>\n",
              "      <td>345.0,298.0,0.75652173913,0.0173913043478,0.08...</td>\n",
              "    </tr>\n",
              "    <tr>\n",
              "      <th>1</th>\n",
              "      <td>theredlion</td>\n",
              "      <td>soccer</td>\n",
              "      <td>1u4qkd</td>\n",
              "      <td>2013-12-31 18:18:37</td>\n",
              "      <td>-1</td>\n",
              "      <td>101.0,98.0,0.742574257426,0.019801980198,0.049...</td>\n",
              "    </tr>\n",
              "    <tr>\n",
              "      <th>2</th>\n",
              "      <td>inlandempire</td>\n",
              "      <td>bikela</td>\n",
              "      <td>1u4qlzs</td>\n",
              "      <td>2014-01-01 14:54:35</td>\n",
              "      <td>1</td>\n",
              "      <td>85.0,85.0,0.752941176471,0.0235294117647,0.082...</td>\n",
              "    </tr>\n",
              "    <tr>\n",
              "      <th>3</th>\n",
              "      <td>nfl</td>\n",
              "      <td>cfb</td>\n",
              "      <td>1u4sjvs</td>\n",
              "      <td>2013-12-31 17:37:55</td>\n",
              "      <td>1</td>\n",
              "      <td>1124.0,949.0,0.772241992883,0.0017793594306,0....</td>\n",
              "    </tr>\n",
              "    <tr>\n",
              "      <th>4</th>\n",
              "      <td>playmygame</td>\n",
              "      <td>gamedev</td>\n",
              "      <td>1u4w5ss</td>\n",
              "      <td>2014-01-01 02:51:13</td>\n",
              "      <td>1</td>\n",
              "      <td>715.0,622.0,0.777622377622,0.00699300699301,0....</td>\n",
              "    </tr>\n",
              "    <tr>\n",
              "      <th>5</th>\n",
              "      <td>dogemarket</td>\n",
              "      <td>dogecoin</td>\n",
              "      <td>1u4w7bs</td>\n",
              "      <td>2013-12-31 18:35:44</td>\n",
              "      <td>1</td>\n",
              "      <td>1328.0,1110.0,0.768825301205,0.0143072289157,0...</td>\n",
              "    </tr>\n",
              "    <tr>\n",
              "      <th>6</th>\n",
              "      <td>locationbot</td>\n",
              "      <td>legaladvice</td>\n",
              "      <td>1u4wfes</td>\n",
              "      <td>2014-01-07 20:17:41</td>\n",
              "      <td>1</td>\n",
              "      <td>184.0,172.0,0.744565217391,0.0326086956522,0.0...</td>\n",
              "    </tr>\n",
              "    <tr>\n",
              "      <th>7</th>\n",
              "      <td>indiefied</td>\n",
              "      <td>aww</td>\n",
              "      <td>1u50pos</td>\n",
              "      <td>2014-03-03 17:00:35</td>\n",
              "      <td>1</td>\n",
              "      <td>295.0,256.0,0.749152542373,0.0203389830508,0.0...</td>\n",
              "    </tr>\n",
              "    <tr>\n",
              "      <th>8</th>\n",
              "      <td>posthardcore</td>\n",
              "      <td>bestof2013</td>\n",
              "      <td>1u5ccus</td>\n",
              "      <td>2013-12-31 23:16:20</td>\n",
              "      <td>1</td>\n",
              "      <td>3927.0,3488.0,0.719887955182,0.0229182582124,0...</td>\n",
              "    </tr>\n",
              "    <tr>\n",
              "      <th>9</th>\n",
              "      <td>posthardcore</td>\n",
              "      <td>corejerk</td>\n",
              "      <td>1u5ccus</td>\n",
              "      <td>2013-12-31 23:16:20</td>\n",
              "      <td>1</td>\n",
              "      <td>3927.0,3488.0,0.719887955182,0.0229182582124,0...</td>\n",
              "    </tr>\n",
              "  </tbody>\n",
              "</table>\n",
              "</div>"
            ],
            "text/plain": [
              "  SOURCE_SUBREDDIT  ...                                         PROPERTIES\n",
              "0  leagueoflegends  ...  345.0,298.0,0.75652173913,0.0173913043478,0.08...\n",
              "1       theredlion  ...  101.0,98.0,0.742574257426,0.019801980198,0.049...\n",
              "2     inlandempire  ...  85.0,85.0,0.752941176471,0.0235294117647,0.082...\n",
              "3              nfl  ...  1124.0,949.0,0.772241992883,0.0017793594306,0....\n",
              "4       playmygame  ...  715.0,622.0,0.777622377622,0.00699300699301,0....\n",
              "5       dogemarket  ...  1328.0,1110.0,0.768825301205,0.0143072289157,0...\n",
              "6      locationbot  ...  184.0,172.0,0.744565217391,0.0326086956522,0.0...\n",
              "7        indiefied  ...  295.0,256.0,0.749152542373,0.0203389830508,0.0...\n",
              "8     posthardcore  ...  3927.0,3488.0,0.719887955182,0.0229182582124,0...\n",
              "9     posthardcore  ...  3927.0,3488.0,0.719887955182,0.0229182582124,0...\n",
              "\n",
              "[10 rows x 6 columns]"
            ]
          },
          "metadata": {
            "tags": []
          },
          "execution_count": 52
        }
      ]
    },
    {
      "cell_type": "markdown",
      "metadata": {
        "id": "SV22wRd3pEe5"
      },
      "source": [
        "**Create the dataframe containing body + title links**"
      ]
    },
    {
      "cell_type": "code",
      "metadata": {
        "id": "-qMNLQOhpEe6",
        "colab": {
          "base_uri": "https://localhost:8080/",
          "height": 309
        },
        "outputId": "6ea6f241-9be6-4077-e7e9-2059d93e4fba"
      },
      "source": [
        "data_total = pd.concat([data_body,data_title], ignore_index = True)\n",
        "data_total.head()"
      ],
      "execution_count": 53,
      "outputs": [
        {
          "output_type": "execute_result",
          "data": {
            "text/html": [
              "<div>\n",
              "<style scoped>\n",
              "    .dataframe tbody tr th:only-of-type {\n",
              "        vertical-align: middle;\n",
              "    }\n",
              "\n",
              "    .dataframe tbody tr th {\n",
              "        vertical-align: top;\n",
              "    }\n",
              "\n",
              "    .dataframe thead th {\n",
              "        text-align: right;\n",
              "    }\n",
              "</style>\n",
              "<table border=\"1\" class=\"dataframe\">\n",
              "  <thead>\n",
              "    <tr style=\"text-align: right;\">\n",
              "      <th></th>\n",
              "      <th>SOURCE_SUBREDDIT</th>\n",
              "      <th>TARGET_SUBREDDIT</th>\n",
              "      <th>POST_ID</th>\n",
              "      <th>TIMESTAMP</th>\n",
              "      <th>Sign</th>\n",
              "      <th>PROPERTIES</th>\n",
              "    </tr>\n",
              "  </thead>\n",
              "  <tbody>\n",
              "    <tr>\n",
              "      <th>0</th>\n",
              "      <td>leagueoflegends</td>\n",
              "      <td>teamredditteams</td>\n",
              "      <td>1u4nrps</td>\n",
              "      <td>2013-12-31 16:39:58</td>\n",
              "      <td>1</td>\n",
              "      <td>345.0,298.0,0.75652173913,0.0173913043478,0.08...</td>\n",
              "    </tr>\n",
              "    <tr>\n",
              "      <th>1</th>\n",
              "      <td>theredlion</td>\n",
              "      <td>soccer</td>\n",
              "      <td>1u4qkd</td>\n",
              "      <td>2013-12-31 18:18:37</td>\n",
              "      <td>-1</td>\n",
              "      <td>101.0,98.0,0.742574257426,0.019801980198,0.049...</td>\n",
              "    </tr>\n",
              "    <tr>\n",
              "      <th>2</th>\n",
              "      <td>inlandempire</td>\n",
              "      <td>bikela</td>\n",
              "      <td>1u4qlzs</td>\n",
              "      <td>2014-01-01 14:54:35</td>\n",
              "      <td>1</td>\n",
              "      <td>85.0,85.0,0.752941176471,0.0235294117647,0.082...</td>\n",
              "    </tr>\n",
              "    <tr>\n",
              "      <th>3</th>\n",
              "      <td>nfl</td>\n",
              "      <td>cfb</td>\n",
              "      <td>1u4sjvs</td>\n",
              "      <td>2013-12-31 17:37:55</td>\n",
              "      <td>1</td>\n",
              "      <td>1124.0,949.0,0.772241992883,0.0017793594306,0....</td>\n",
              "    </tr>\n",
              "    <tr>\n",
              "      <th>4</th>\n",
              "      <td>playmygame</td>\n",
              "      <td>gamedev</td>\n",
              "      <td>1u4w5ss</td>\n",
              "      <td>2014-01-01 02:51:13</td>\n",
              "      <td>1</td>\n",
              "      <td>715.0,622.0,0.777622377622,0.00699300699301,0....</td>\n",
              "    </tr>\n",
              "  </tbody>\n",
              "</table>\n",
              "</div>"
            ],
            "text/plain": [
              "  SOURCE_SUBREDDIT  ...                                         PROPERTIES\n",
              "0  leagueoflegends  ...  345.0,298.0,0.75652173913,0.0173913043478,0.08...\n",
              "1       theredlion  ...  101.0,98.0,0.742574257426,0.019801980198,0.049...\n",
              "2     inlandempire  ...  85.0,85.0,0.752941176471,0.0235294117647,0.082...\n",
              "3              nfl  ...  1124.0,949.0,0.772241992883,0.0017793594306,0....\n",
              "4       playmygame  ...  715.0,622.0,0.777622377622,0.00699300699301,0....\n",
              "\n",
              "[5 rows x 6 columns]"
            ]
          },
          "metadata": {
            "tags": []
          },
          "execution_count": 53
        }
      ]
    },
    {
      "cell_type": "markdown",
      "metadata": {
        "id": "bT91JBggpEe6"
      },
      "source": [
        "**Convert the names into ids**"
      ]
    },
    {
      "cell_type": "code",
      "metadata": {
        "id": "e9T7pMZFpEe7"
      },
      "source": [
        "from gensim.corpora import Dictionary\n",
        "\n",
        "unique_subreddits = [[element] for element in list(pd.concat([data_total['SOURCE_SUBREDDIT'], data_total['TARGET_SUBREDDIT']]).sort_values().unique())]\n",
        "dct = Dictionary(unique_subreddits)\n",
        "\n",
        "data_total['FromNodeId'] = dct.doc2idx(data_total['SOURCE_SUBREDDIT'].values)\n",
        "data_total['ToNodeId'] = dct.doc2idx(data_total['TARGET_SUBREDDIT'].values)"
      ],
      "execution_count": null,
      "outputs": []
    },
    {
      "cell_type": "code",
      "metadata": {
        "id": "_mqz_k_ZpEe8",
        "outputId": "1a3961c3-80c2-4ff1-8781-76a8e4ac2540"
      },
      "source": [
        "test = data_body[data_body['SOURCE_SUBREDDIT'] == 'leagueoflegends']\n",
        "test[test['TARGET_SUBREDDIT'] == 'leagueoflegendsmeta']"
      ],
      "execution_count": null,
      "outputs": [
        {
          "output_type": "execute_result",
          "data": {
            "text/html": [
              "<div>\n",
              "<style scoped>\n",
              "    .dataframe tbody tr th:only-of-type {\n",
              "        vertical-align: middle;\n",
              "    }\n",
              "\n",
              "    .dataframe tbody tr th {\n",
              "        vertical-align: top;\n",
              "    }\n",
              "\n",
              "    .dataframe thead th {\n",
              "        text-align: right;\n",
              "    }\n",
              "</style>\n",
              "<table border=\"1\" class=\"dataframe\">\n",
              "  <thead>\n",
              "    <tr style=\"text-align: right;\">\n",
              "      <th></th>\n",
              "      <th>SOURCE_SUBREDDIT</th>\n",
              "      <th>TARGET_SUBREDDIT</th>\n",
              "      <th>POST_ID</th>\n",
              "      <th>TIMESTAMP</th>\n",
              "      <th>Sign</th>\n",
              "      <th>PROPERTIES</th>\n",
              "    </tr>\n",
              "  </thead>\n",
              "  <tbody>\n",
              "    <tr>\n",
              "      <th>311</th>\n",
              "      <td>leagueoflegends</td>\n",
              "      <td>leagueoflegendsmeta</td>\n",
              "      <td>1ue5u4s</td>\n",
              "      <td>2014-01-04 07:15:08</td>\n",
              "      <td>1</td>\n",
              "      <td>705.0,604.0,0.756028368794,0.00567375886525,0....</td>\n",
              "    </tr>\n",
              "    <tr>\n",
              "      <th>27785</th>\n",
              "      <td>leagueoflegends</td>\n",
              "      <td>leagueoflegendsmeta</td>\n",
              "      <td>28luias</td>\n",
              "      <td>2014-06-19 20:03:26</td>\n",
              "      <td>1</td>\n",
              "      <td>1763.0,1431.0,0.667612024957,0.0328984685196,0...</td>\n",
              "    </tr>\n",
              "    <tr>\n",
              "      <th>78113</th>\n",
              "      <td>leagueoflegends</td>\n",
              "      <td>leagueoflegendsmeta</td>\n",
              "      <td>2ygs2ns</td>\n",
              "      <td>2015-03-09 12:18:40</td>\n",
              "      <td>1</td>\n",
              "      <td>1963.0,1643.0,0.792154865003,0.00254712175242,...</td>\n",
              "    </tr>\n",
              "    <tr>\n",
              "      <th>108915</th>\n",
              "      <td>leagueoflegends</td>\n",
              "      <td>leagueoflegendsmeta</td>\n",
              "      <td>3d3lkls</td>\n",
              "      <td>2015-07-13 00:32:14</td>\n",
              "      <td>1</td>\n",
              "      <td>4002.0,3336.0,0.755872063968,0.0114942528736,0...</td>\n",
              "    </tr>\n",
              "    <tr>\n",
              "      <th>136923</th>\n",
              "      <td>leagueoflegends</td>\n",
              "      <td>leagueoflegendsmeta</td>\n",
              "      <td>3qzyi1s</td>\n",
              "      <td>2015-10-31 20:19:30</td>\n",
              "      <td>1</td>\n",
              "      <td>1809.0,1512.0,0.782752902156,0.00110558319514,...</td>\n",
              "    </tr>\n",
              "  </tbody>\n",
              "</table>\n",
              "</div>"
            ],
            "text/plain": [
              "       SOURCE_SUBREDDIT     TARGET_SUBREDDIT  POST_ID            TIMESTAMP  \\\n",
              "311     leagueoflegends  leagueoflegendsmeta  1ue5u4s  2014-01-04 07:15:08   \n",
              "27785   leagueoflegends  leagueoflegendsmeta  28luias  2014-06-19 20:03:26   \n",
              "78113   leagueoflegends  leagueoflegendsmeta  2ygs2ns  2015-03-09 12:18:40   \n",
              "108915  leagueoflegends  leagueoflegendsmeta  3d3lkls  2015-07-13 00:32:14   \n",
              "136923  leagueoflegends  leagueoflegendsmeta  3qzyi1s  2015-10-31 20:19:30   \n",
              "\n",
              "        Sign                                         PROPERTIES  \n",
              "311        1  705.0,604.0,0.756028368794,0.00567375886525,0....  \n",
              "27785      1  1763.0,1431.0,0.667612024957,0.0328984685196,0...  \n",
              "78113      1  1963.0,1643.0,0.792154865003,0.00254712175242,...  \n",
              "108915     1  4002.0,3336.0,0.755872063968,0.0114942528736,0...  \n",
              "136923     1  1809.0,1512.0,0.782752902156,0.00110558319514,...  "
            ]
          },
          "metadata": {
            "tags": []
          },
          "execution_count": 22
        }
      ]
    },
    {
      "cell_type": "code",
      "metadata": {
        "id": "IkupUgJxpEe9",
        "outputId": "4ea65f9d-b599-4b96-9046-7ccfd8673371"
      },
      "source": [
        "\n",
        "np.count_nonzero(data_body[data_body['SOURCE_SUBREDDIT'] == 'leagueoflegends']['TARGET_SUBREDDIT'].values == 'leagueoflegendsmeta')"
      ],
      "execution_count": null,
      "outputs": [
        {
          "output_type": "execute_result",
          "data": {
            "text/plain": [
              "5"
            ]
          },
          "metadata": {
            "tags": []
          },
          "execution_count": 21
        }
      ]
    },
    {
      "cell_type": "markdown",
      "metadata": {
        "id": "9bfUxnSBpEe-"
      },
      "source": [
        "**Count the number of nodes and edges**"
      ]
    },
    {
      "cell_type": "code",
      "metadata": {
        "id": "4VZ7lpl2pEe_",
        "outputId": "cad3fb69-484d-4426-c9ff-5981cc58189c"
      },
      "source": [
        "table = pd.DataFrame(columns = ['body', 'title', 'total'], index = ['Nodes', 'Edges', '+ edges', '- edges'])\n",
        "\n",
        "nb_edges_body = data_body.shape[0]\n",
        "nb_nodes_body = np.unique(np.concatenate((data_body['SOURCE_SUBREDDIT'].values , data_body['TARGET_SUBREDDIT'].values))).shape[0]\n",
        "\n",
        "nb_edges_title = data_title.shape[0]\n",
        "nb_nodes_title = np.unique(np.concatenate((data_title['SOURCE_SUBREDDIT'].values , data_title['TARGET_SUBREDDIT'].values))).shape[0]\n",
        "\n",
        "nb_edges_total = data_total.shape[0]\n",
        "nb_nodes_total = np.unique(np.concatenate((data_total['SOURCE_SUBREDDIT'].values , data_total['TARGET_SUBREDDIT'].values))).shape[0]\n",
        "\n",
        "\n",
        "table.loc['Nodes'] = [nb_nodes_body, nb_nodes_title, nb_nodes_total]\n",
        "table.loc['Edges'] = [nb_edges_body, nb_edges_title, nb_edges_total]\n",
        "\n",
        "table.head()"
      ],
      "execution_count": null,
      "outputs": [
        {
          "output_type": "execute_result",
          "data": {
            "text/html": [
              "<div>\n",
              "<style scoped>\n",
              "    .dataframe tbody tr th:only-of-type {\n",
              "        vertical-align: middle;\n",
              "    }\n",
              "\n",
              "    .dataframe tbody tr th {\n",
              "        vertical-align: top;\n",
              "    }\n",
              "\n",
              "    .dataframe thead th {\n",
              "        text-align: right;\n",
              "    }\n",
              "</style>\n",
              "<table border=\"1\" class=\"dataframe\">\n",
              "  <thead>\n",
              "    <tr style=\"text-align: right;\">\n",
              "      <th></th>\n",
              "      <th>body</th>\n",
              "      <th>title</th>\n",
              "      <th>total</th>\n",
              "    </tr>\n",
              "  </thead>\n",
              "  <tbody>\n",
              "    <tr>\n",
              "      <th>Nodes</th>\n",
              "      <td>35776</td>\n",
              "      <td>54075</td>\n",
              "      <td>67180</td>\n",
              "    </tr>\n",
              "    <tr>\n",
              "      <th>Edges</th>\n",
              "      <td>286561</td>\n",
              "      <td>571927</td>\n",
              "      <td>858488</td>\n",
              "    </tr>\n",
              "    <tr>\n",
              "      <th>+ edges</th>\n",
              "      <td>NaN</td>\n",
              "      <td>NaN</td>\n",
              "      <td>NaN</td>\n",
              "    </tr>\n",
              "    <tr>\n",
              "      <th>- edges</th>\n",
              "      <td>NaN</td>\n",
              "      <td>NaN</td>\n",
              "      <td>NaN</td>\n",
              "    </tr>\n",
              "  </tbody>\n",
              "</table>\n",
              "</div>"
            ],
            "text/plain": [
              "           body   title   total\n",
              "Nodes     35776   54075   67180\n",
              "Edges    286561  571927  858488\n",
              "+ edges     NaN     NaN     NaN\n",
              "- edges     NaN     NaN     NaN"
            ]
          },
          "metadata": {
            "tags": []
          },
          "execution_count": 7
        }
      ]
    },
    {
      "cell_type": "markdown",
      "metadata": {
        "id": "34i36lOXpEfA"
      },
      "source": [
        "**Count the proportion of positives and negative edges**\n",
        "\n",
        "To apply this to several datasets, we create a function"
      ]
    },
    {
      "cell_type": "code",
      "metadata": {
        "id": "c41bPlzcpEfB"
      },
      "source": [
        "#Number of positive (negative) edges :\n",
        "#We first filter the data by keeping only +1 (or -1) values and then we find the number of lines (edges) that this filtering gives\n",
        "nb_pos_edges_body = data_body[data_body['Sign']==1].shape[0] \n",
        "nb_neg_edges_body = data_body[data_body['Sign']==-1].shape[0]\n",
        "\n",
        "nb_pos_edges_title = data_title[data_title['Sign']==1].shape[0] \n",
        "nb_neg_edges_title= data_title[data_title['Sign']==-1].shape[0]\n",
        "\n",
        "nb_pos_edges_total = data_total[data_total['Sign']==1].shape[0] \n",
        "nb_neg_edges_total = data_total[data_total['Sign']==-1].shape[0]\n",
        "\n",
        "#Proportion of positive/negative edges:\n",
        "#We divide the number of positive (or negative) edges previouly found and divide it by the total number of edges\n",
        "#We use the table1 to find the total number of edges as we already filled these informations\n",
        "perc_pos_body = nb_pos_edges_body / table.loc['Edges']['body']\n",
        "perc_neg_body = nb_neg_edges_body / table.loc['Edges']['body']\n",
        "\n",
        "perc_pos_title = nb_pos_edges_title / table.loc['Edges']['title']\n",
        "perc_neg_title = nb_neg_edges_title / table.loc['Edges']['title']\n",
        "\n",
        "perc_pos_total = nb_pos_edges_total / table.loc['Edges']['total']\n",
        "perc_neg_total = nb_neg_edges_total / table.loc['Edges']['total']"
      ],
      "execution_count": null,
      "outputs": []
    },
    {
      "cell_type": "code",
      "metadata": {
        "id": "6h_wKvoTpEfB",
        "outputId": "fe018530-f26e-4c3f-c699-a227635bb931"
      },
      "source": [
        "#We must indicate a percentage format : we use the {:.1%} format to have a percentage with only one decimal, as in the paper \n",
        "table.loc['+ edges'] = ['{:.1%}'.format(perc_pos_body), '{:.1%}'.format(perc_pos_title), '{:.1%}'.format(perc_pos_total)]\n",
        "table.loc['- edges'] = ['{:.1%}'.format(perc_neg_body), '{:.1%}'.format(perc_neg_title), '{:.1%}'.format(perc_neg_total)]\n",
        "\n",
        "table.head()"
      ],
      "execution_count": null,
      "outputs": [
        {
          "output_type": "execute_result",
          "data": {
            "text/html": [
              "<div>\n",
              "<style scoped>\n",
              "    .dataframe tbody tr th:only-of-type {\n",
              "        vertical-align: middle;\n",
              "    }\n",
              "\n",
              "    .dataframe tbody tr th {\n",
              "        vertical-align: top;\n",
              "    }\n",
              "\n",
              "    .dataframe thead th {\n",
              "        text-align: right;\n",
              "    }\n",
              "</style>\n",
              "<table border=\"1\" class=\"dataframe\">\n",
              "  <thead>\n",
              "    <tr style=\"text-align: right;\">\n",
              "      <th></th>\n",
              "      <th>body</th>\n",
              "      <th>title</th>\n",
              "      <th>total</th>\n",
              "    </tr>\n",
              "  </thead>\n",
              "  <tbody>\n",
              "    <tr>\n",
              "      <th>Nodes</th>\n",
              "      <td>35776</td>\n",
              "      <td>54075</td>\n",
              "      <td>67180</td>\n",
              "    </tr>\n",
              "    <tr>\n",
              "      <th>Edges</th>\n",
              "      <td>286561</td>\n",
              "      <td>571927</td>\n",
              "      <td>858488</td>\n",
              "    </tr>\n",
              "    <tr>\n",
              "      <th>+ edges</th>\n",
              "      <td>92.6%</td>\n",
              "      <td>89.3%</td>\n",
              "      <td>90.4%</td>\n",
              "    </tr>\n",
              "    <tr>\n",
              "      <th>- edges</th>\n",
              "      <td>7.4%</td>\n",
              "      <td>10.7%</td>\n",
              "      <td>9.6%</td>\n",
              "    </tr>\n",
              "  </tbody>\n",
              "</table>\n",
              "</div>"
            ],
            "text/plain": [
              "           body   title   total\n",
              "Nodes     35776   54075   67180\n",
              "Edges    286561  571927  858488\n",
              "+ edges   92.6%   89.3%   90.4%\n",
              "- edges    7.4%   10.7%    9.6%"
            ]
          },
          "metadata": {
            "tags": []
          },
          "execution_count": 9
        }
      ]
    },
    {
      "cell_type": "markdown",
      "metadata": {
        "id": "yUTpFQXqpEfC"
      },
      "source": [
        "In the following, we take the total dataframe."
      ]
    },
    {
      "cell_type": "markdown",
      "metadata": {
        "id": "nT0rGIwopEfD"
      },
      "source": [
        "### 1.1.2] Replicate table 3\n",
        "\n",
        "**Create the graph with networkx**"
      ]
    },
    {
      "cell_type": "code",
      "metadata": {
        "id": "9rQp_t-bpEfD"
      },
      "source": [
        "from table3 import create_table3\n",
        "\n",
        "table3_reddit = create_table3(data_total, data_type = 'reddit')"
      ],
      "execution_count": null,
      "outputs": []
    },
    {
      "cell_type": "code",
      "metadata": {
        "id": "1jqznYE7pEfD",
        "outputId": "a79fb8c2-930a-4bab-ba2f-cb77ab62ed89"
      },
      "source": [
        "table3_reddit.head()"
      ],
      "execution_count": null,
      "outputs": [
        {
          "output_type": "execute_result",
          "data": {
            "text/html": [
              "<div>\n",
              "<style scoped>\n",
              "    .dataframe tbody tr th:only-of-type {\n",
              "        vertical-align: middle;\n",
              "    }\n",
              "\n",
              "    .dataframe tbody tr th {\n",
              "        vertical-align: top;\n",
              "    }\n",
              "\n",
              "    .dataframe thead th {\n",
              "        text-align: right;\n",
              "    }\n",
              "</style>\n",
              "<table border=\"1\" class=\"dataframe\">\n",
              "  <thead>\n",
              "    <tr style=\"text-align: right;\">\n",
              "      <th></th>\n",
              "      <th>Triad Ti</th>\n",
              "      <th>|Ti|</th>\n",
              "      <th>p(Ti)</th>\n",
              "      <th>p0(Ti)</th>\n",
              "      <th>s(Ti)</th>\n",
              "    </tr>\n",
              "  </thead>\n",
              "  <tbody>\n",
              "    <tr>\n",
              "      <th>0</th>\n",
              "      <td>T3 +++</td>\n",
              "      <td>1644323</td>\n",
              "      <td>0.863557</td>\n",
              "      <td>0.895420</td>\n",
              "      <td>-143.680338</td>\n",
              "    </tr>\n",
              "    <tr>\n",
              "      <th>1</th>\n",
              "      <td>T1 +--</td>\n",
              "      <td>41431</td>\n",
              "      <td>0.021759</td>\n",
              "      <td>0.009851</td>\n",
              "      <td>166.372390</td>\n",
              "    </tr>\n",
              "    <tr>\n",
              "      <th>2</th>\n",
              "      <td>T2 ++-</td>\n",
              "      <td>209148</td>\n",
              "      <td>0.109839</td>\n",
              "      <td>0.093704</td>\n",
              "      <td>76.401376</td>\n",
              "    </tr>\n",
              "    <tr>\n",
              "      <th>3</th>\n",
              "      <td>T1 ---</td>\n",
              "      <td>9225</td>\n",
              "      <td>0.004845</td>\n",
              "      <td>0.001024</td>\n",
              "      <td>164.806020</td>\n",
              "    </tr>\n",
              "  </tbody>\n",
              "</table>\n",
              "</div>"
            ],
            "text/plain": [
              "  Triad Ti     |Ti|     p(Ti)    p0(Ti)       s(Ti)\n",
              "0   T3 +++  1644323  0.863557  0.895420 -143.680338\n",
              "1   T1 +--    41431  0.021759  0.009851  166.372390\n",
              "2   T2 ++-   209148  0.109839  0.093704   76.401376\n",
              "3   T1 ---     9225  0.004845  0.001024  164.806020"
            ]
          },
          "metadata": {
            "tags": []
          },
          "execution_count": 36
        }
      ]
    },
    {
      "cell_type": "markdown",
      "metadata": {
        "id": "qSI3qi3YpEfE"
      },
      "source": [
        "## 1.2] Study the impact of the proportion of positive edge on the table 3\n",
        "\n",
        "By studying the results of this change on table 3, we can study how the proportion of positive edges impact the balance theory.\n",
        "\n",
        "### 1.2.1] Remove some lines with positive link to have a dataset with 70% of positive edges"
      ]
    },
    {
      "cell_type": "code",
      "metadata": {
        "id": "0gyABlRKpEfE",
        "outputId": "7b524ee5-79ad-4176-a58b-e37e238d091b"
      },
      "source": [
        "data_remove = pd.concat((data_total[data_total['Sign']==-1], data_total[data_total['Sign']==1].sample(frac = 1).head(192000)))\n",
        "\n",
        "nb_edges_remove = data_remove.shape[0]\n",
        "nb_nodes_remove = np.unique(np.concatenate((data_remove['SOURCE_SUBREDDIT'].values , data_remove['TARGET_SUBREDDIT'].values))).shape[0]\n",
        "\n",
        "nb_pos_edges_remove = data_remove[data_remove['Sign']==1].shape[0] \n",
        "nb_neg_edges_remove = data_remove[data_remove['Sign']==-1].shape[0]\n",
        "\n",
        "perc_pos_remove = nb_pos_edges_remove / nb_edges_remove\n",
        "perc_neg_remove = nb_neg_edges_remove / nb_edges_remove\n",
        "\n",
        "table['remove_70'] = [nb_nodes_remove, nb_edges_remove, '{:.1%}'.format(perc_pos_remove), '{:.1%}'.format(perc_neg_remove)]\n",
        "table.head()"
      ],
      "execution_count": null,
      "outputs": [
        {
          "output_type": "execute_result",
          "data": {
            "text/html": [
              "<div>\n",
              "<style scoped>\n",
              "    .dataframe tbody tr th:only-of-type {\n",
              "        vertical-align: middle;\n",
              "    }\n",
              "\n",
              "    .dataframe tbody tr th {\n",
              "        vertical-align: top;\n",
              "    }\n",
              "\n",
              "    .dataframe thead th {\n",
              "        text-align: right;\n",
              "    }\n",
              "</style>\n",
              "<table border=\"1\" class=\"dataframe\">\n",
              "  <thead>\n",
              "    <tr style=\"text-align: right;\">\n",
              "      <th></th>\n",
              "      <th>body</th>\n",
              "      <th>title</th>\n",
              "      <th>total</th>\n",
              "      <th>remove</th>\n",
              "    </tr>\n",
              "  </thead>\n",
              "  <tbody>\n",
              "    <tr>\n",
              "      <th>Nodes</th>\n",
              "      <td>35776</td>\n",
              "      <td>54075</td>\n",
              "      <td>67180</td>\n",
              "      <td>40375</td>\n",
              "    </tr>\n",
              "    <tr>\n",
              "      <th>Edges</th>\n",
              "      <td>286561</td>\n",
              "      <td>571927</td>\n",
              "      <td>858488</td>\n",
              "      <td>274152</td>\n",
              "    </tr>\n",
              "    <tr>\n",
              "      <th>+ edges</th>\n",
              "      <td>92.6%</td>\n",
              "      <td>89.3%</td>\n",
              "      <td>90.4%</td>\n",
              "      <td>70.0%</td>\n",
              "    </tr>\n",
              "    <tr>\n",
              "      <th>- edges</th>\n",
              "      <td>7.4%</td>\n",
              "      <td>10.7%</td>\n",
              "      <td>9.6%</td>\n",
              "      <td>30.0%</td>\n",
              "    </tr>\n",
              "  </tbody>\n",
              "</table>\n",
              "</div>"
            ],
            "text/plain": [
              "           body   title   total  remove\n",
              "Nodes     35776   54075   67180   40375\n",
              "Edges    286561  571927  858488  274152\n",
              "+ edges   92.6%   89.3%   90.4%   70.0%\n",
              "- edges    7.4%   10.7%    9.6%   30.0%"
            ]
          },
          "metadata": {
            "tags": []
          },
          "execution_count": 41
        }
      ]
    },
    {
      "cell_type": "markdown",
      "metadata": {
        "id": "YRpZwFp3pEfF"
      },
      "source": [
        "**Create table 3 for this dataset, after removal of some positive edges**"
      ]
    },
    {
      "cell_type": "code",
      "metadata": {
        "id": "HH5Ls6OSpEfF"
      },
      "source": [
        "from table3 import create_table3\n",
        "\n",
        "table3_reddit = create_table3(data_remove, data_type = 'reddit')"
      ],
      "execution_count": null,
      "outputs": []
    },
    {
      "cell_type": "code",
      "metadata": {
        "id": "GKOclOjdpEfF",
        "outputId": "4cb85011-0ca8-4591-821d-3351a2b0b300"
      },
      "source": [
        "table3_reddit.head()"
      ],
      "execution_count": null,
      "outputs": [
        {
          "output_type": "execute_result",
          "data": {
            "text/html": [
              "<div>\n",
              "<style scoped>\n",
              "    .dataframe tbody tr th:only-of-type {\n",
              "        vertical-align: middle;\n",
              "    }\n",
              "\n",
              "    .dataframe tbody tr th {\n",
              "        vertical-align: top;\n",
              "    }\n",
              "\n",
              "    .dataframe thead th {\n",
              "        text-align: right;\n",
              "    }\n",
              "</style>\n",
              "<table border=\"1\" class=\"dataframe\">\n",
              "  <thead>\n",
              "    <tr style=\"text-align: right;\">\n",
              "      <th></th>\n",
              "      <th>Triad Ti</th>\n",
              "      <th>|Ti|</th>\n",
              "      <th>p(Ti)</th>\n",
              "      <th>p0(Ti)</th>\n",
              "      <th>s(Ti)</th>\n",
              "    </tr>\n",
              "  </thead>\n",
              "  <tbody>\n",
              "    <tr>\n",
              "      <th>0</th>\n",
              "      <td>T3 +++</td>\n",
              "      <td>323566</td>\n",
              "      <td>0.823078</td>\n",
              "      <td>0.591102</td>\n",
              "      <td>295.845970</td>\n",
              "    </tr>\n",
              "    <tr>\n",
              "      <th>1</th>\n",
              "      <td>T1 +--</td>\n",
              "      <td>10727</td>\n",
              "      <td>0.027287</td>\n",
              "      <td>0.108622</td>\n",
              "      <td>-163.888680</td>\n",
              "    </tr>\n",
              "    <tr>\n",
              "      <th>2</th>\n",
              "      <td>T2 ++-</td>\n",
              "      <td>56703</td>\n",
              "      <td>0.144240</td>\n",
              "      <td>0.253402</td>\n",
              "      <td>-157.356572</td>\n",
              "    </tr>\n",
              "    <tr>\n",
              "      <th>3</th>\n",
              "      <td>T1 ---</td>\n",
              "      <td>2121</td>\n",
              "      <td>0.005395</td>\n",
              "      <td>0.046874</td>\n",
              "      <td>-123.039876</td>\n",
              "    </tr>\n",
              "  </tbody>\n",
              "</table>\n",
              "</div>"
            ],
            "text/plain": [
              "  Triad Ti    |Ti|     p(Ti)    p0(Ti)       s(Ti)\n",
              "0   T3 +++  323566  0.823078  0.591102  295.845970\n",
              "1   T1 +--   10727  0.027287  0.108622 -163.888680\n",
              "2   T2 ++-   56703  0.144240  0.253402 -157.356572\n",
              "3   T1 ---    2121  0.005395  0.046874 -123.039876"
            ]
          },
          "metadata": {
            "tags": []
          },
          "execution_count": 44
        }
      ]
    },
    {
      "cell_type": "markdown",
      "metadata": {
        "id": "Gq136HZxpEfG"
      },
      "source": [
        "### 1.2.2] Remove some lines with positive link to have a dataset with 50% of positive edges"
      ]
    },
    {
      "cell_type": "code",
      "metadata": {
        "id": "Ig2jBggnpEfG",
        "outputId": "efc9266a-9ffd-4d26-8ddc-2d2624d15186"
      },
      "source": [
        "data_remove = pd.concat((data_total[data_total['Sign']==-1], data_total[data_total['Sign']==1].sample(frac = 1).head(82000)))\n",
        "\n",
        "nb_edges_remove = data_remove.shape[0]\n",
        "nb_nodes_remove = np.unique(np.concatenate((data_remove['SOURCE_SUBREDDIT'].values , data_remove['TARGET_SUBREDDIT'].values))).shape[0]\n",
        "\n",
        "nb_pos_edges_remove = data_remove[data_remove['Sign']==1].shape[0] \n",
        "nb_neg_edges_remove = data_remove[data_remove['Sign']==-1].shape[0]\n",
        "\n",
        "perc_pos_remove = nb_pos_edges_remove / nb_edges_remove\n",
        "perc_neg_remove = nb_neg_edges_remove / nb_edges_remove\n",
        "\n",
        "table['remove_50'] = [nb_nodes_remove, nb_edges_remove, '{:.1%}'.format(perc_pos_remove), '{:.1%}'.format(perc_neg_remove)]\n",
        "table.head()"
      ],
      "execution_count": null,
      "outputs": [
        {
          "output_type": "execute_result",
          "data": {
            "text/html": [
              "<div>\n",
              "<style scoped>\n",
              "    .dataframe tbody tr th:only-of-type {\n",
              "        vertical-align: middle;\n",
              "    }\n",
              "\n",
              "    .dataframe tbody tr th {\n",
              "        vertical-align: top;\n",
              "    }\n",
              "\n",
              "    .dataframe thead th {\n",
              "        text-align: right;\n",
              "    }\n",
              "</style>\n",
              "<table border=\"1\" class=\"dataframe\">\n",
              "  <thead>\n",
              "    <tr style=\"text-align: right;\">\n",
              "      <th></th>\n",
              "      <th>body</th>\n",
              "      <th>title</th>\n",
              "      <th>total</th>\n",
              "      <th>remove</th>\n",
              "      <th>remove_50</th>\n",
              "    </tr>\n",
              "  </thead>\n",
              "  <tbody>\n",
              "    <tr>\n",
              "      <th>Nodes</th>\n",
              "      <td>35776</td>\n",
              "      <td>54075</td>\n",
              "      <td>67180</td>\n",
              "      <td>40375</td>\n",
              "      <td>31507</td>\n",
              "    </tr>\n",
              "    <tr>\n",
              "      <th>Edges</th>\n",
              "      <td>286561</td>\n",
              "      <td>571927</td>\n",
              "      <td>858488</td>\n",
              "      <td>274152</td>\n",
              "      <td>164152</td>\n",
              "    </tr>\n",
              "    <tr>\n",
              "      <th>+ edges</th>\n",
              "      <td>92.6%</td>\n",
              "      <td>89.3%</td>\n",
              "      <td>90.4%</td>\n",
              "      <td>70.0%</td>\n",
              "      <td>50.0%</td>\n",
              "    </tr>\n",
              "    <tr>\n",
              "      <th>- edges</th>\n",
              "      <td>7.4%</td>\n",
              "      <td>10.7%</td>\n",
              "      <td>9.6%</td>\n",
              "      <td>30.0%</td>\n",
              "      <td>50.0%</td>\n",
              "    </tr>\n",
              "  </tbody>\n",
              "</table>\n",
              "</div>"
            ],
            "text/plain": [
              "           body   title   total  remove remove_50\n",
              "Nodes     35776   54075   67180   40375     31507\n",
              "Edges    286561  571927  858488  274152    164152\n",
              "+ edges   92.6%   89.3%   90.4%   70.0%     50.0%\n",
              "- edges    7.4%   10.7%    9.6%   30.0%     50.0%"
            ]
          },
          "metadata": {
            "tags": []
          },
          "execution_count": 50
        }
      ]
    },
    {
      "cell_type": "code",
      "metadata": {
        "id": "_s7yTHhNpEfH",
        "outputId": "90f13be0-b8e4-48f8-eeec-49823e5231e1"
      },
      "source": [
        "table3_reddit = create_table3(data_remove, data_type = 'reddit')\n",
        "table3_reddit.head()"
      ],
      "execution_count": null,
      "outputs": [
        {
          "output_type": "execute_result",
          "data": {
            "text/html": [
              "<div>\n",
              "<style scoped>\n",
              "    .dataframe tbody tr th:only-of-type {\n",
              "        vertical-align: middle;\n",
              "    }\n",
              "\n",
              "    .dataframe tbody tr th {\n",
              "        vertical-align: top;\n",
              "    }\n",
              "\n",
              "    .dataframe thead th {\n",
              "        text-align: right;\n",
              "    }\n",
              "</style>\n",
              "<table border=\"1\" class=\"dataframe\">\n",
              "  <thead>\n",
              "    <tr style=\"text-align: right;\">\n",
              "      <th></th>\n",
              "      <th>Triad Ti</th>\n",
              "      <th>|Ti|</th>\n",
              "      <th>p(Ti)</th>\n",
              "      <th>p0(Ti)</th>\n",
              "      <th>s(Ti)</th>\n",
              "    </tr>\n",
              "  </thead>\n",
              "  <tbody>\n",
              "    <tr>\n",
              "      <th>0</th>\n",
              "      <td>T3 +++</td>\n",
              "      <td>92894</td>\n",
              "      <td>0.608858</td>\n",
              "      <td>0.589994</td>\n",
              "      <td>14.980611</td>\n",
              "    </tr>\n",
              "    <tr>\n",
              "      <th>1</th>\n",
              "      <td>T1 +--</td>\n",
              "      <td>15752</td>\n",
              "      <td>0.103244</td>\n",
              "      <td>0.108608</td>\n",
              "      <td>-6.733679</td>\n",
              "    </tr>\n",
              "    <tr>\n",
              "      <th>2</th>\n",
              "      <td>T2 ++-</td>\n",
              "      <td>36952</td>\n",
              "      <td>0.242195</td>\n",
              "      <td>0.254555</td>\n",
              "      <td>-11.082951</td>\n",
              "    </tr>\n",
              "    <tr>\n",
              "      <th>3</th>\n",
              "      <td>T1 ---</td>\n",
              "      <td>6973</td>\n",
              "      <td>0.045703</td>\n",
              "      <td>0.046842</td>\n",
              "      <td>-2.105825</td>\n",
              "    </tr>\n",
              "  </tbody>\n",
              "</table>\n",
              "</div>"
            ],
            "text/plain": [
              "  Triad Ti   |Ti|     p(Ti)    p0(Ti)      s(Ti)\n",
              "0   T3 +++  92894  0.608858  0.589994  14.980611\n",
              "1   T1 +--  15752  0.103244  0.108608  -6.733679\n",
              "2   T2 ++-  36952  0.242195  0.254555 -11.082951\n",
              "3   T1 ---   6973  0.045703  0.046842  -2.105825"
            ]
          },
          "metadata": {
            "tags": []
          },
          "execution_count": 51
        }
      ]
    },
    {
      "cell_type": "markdown",
      "metadata": {
        "id": "XIGKDYJxpEfI"
      },
      "source": [
        "## 1.3] Study of reciprocated links\n",
        "\n",
        "This part consist in replicating table 4 for the reddit data to enforce or refute the conclusion the authors do about reciprocated edges : balance theory is good to predict the sign of the reciprocated link of a positive link, and status explains well the sign of the reciprocated link of a negative link. \n",
        "\n",
        "We first replicate the table 4 for the wikipedia dataset to prove that our process is correct, and to ensure the reproducibility of this part of the paper.\n",
        "\n",
        "### 1.3.1] Reciprocation of table 4 for the wikipedia dataset\n",
        "\n",
        "**Load the wikipedia data and remove its neutral links**\n",
        "\n",
        "We use the parsed file we created in P2."
      ]
    },
    {
      "cell_type": "code",
      "metadata": {
        "id": "4fr9YF2ZpEfI"
      },
      "source": [
        "wiki_data = pd.read_csv('wiki_parsed.txt', sep = '\\t', header = None) #we load the data\n",
        "wiki = wiki_data.rename(columns={0: \"FromNodeId\", 1 : \"ToNodeId\", 2 : \"Sign\"}) #renamethe columns\n",
        "neutral_indx = wiki[wiki.Sign==0].index.values #We filter the dataset to keep neutral links and find the values of the indexes\n",
        "wiki = wiki.drop(neutral_indx) #We drop these lines"
      ],
      "execution_count": null,
      "outputs": []
    },
    {
      "cell_type": "code",
      "metadata": {
        "id": "QSbPIrODpEfJ"
      },
      "source": [
        "import networkx as nx\n",
        "\n",
        "G = nx.from_pandas_edgelist(wiki, 'FromNodeId', 'ToNodeId', edge_attr = 'Sign')"
      ],
      "execution_count": null,
      "outputs": []
    },
    {
      "cell_type": "code",
      "metadata": {
        "id": "ERgNj_tDpEfJ"
      },
      "source": [
        "L = []\n",
        "for node in G.nodes():\n",
        "    neighbors = G[node]\n",
        "    for neighbor in neighbors:\n",
        "        if node in G[neighbor]:\n",
        "            L.append((node, neighbor))"
      ],
      "execution_count": null,
      "outputs": []
    },
    {
      "cell_type": "code",
      "metadata": {
        "id": "CHnntU81pEfL",
        "outputId": "21e2f8e3-6c6c-407f-dab7-169b601a6aa9"
      },
      "source": [
        "len(L)"
      ],
      "execution_count": null,
      "outputs": [
        {
          "output_type": "execute_result",
          "data": {
            "text/plain": [
              "201582"
            ]
          },
          "metadata": {
            "tags": []
          },
          "execution_count": 105
        }
      ]
    },
    {
      "cell_type": "markdown",
      "metadata": {
        "id": "fchuweD9pEfL"
      },
      "source": [
        "**Create a dataframe that contains only reciprocated edges**\n",
        "\n",
        "Notation : if A links towards B, we name A as the starting node, and B as the target node.<br>\n",
        "Let A links towards B, a simple description of our strategy  to find if B links to A is to find all edges that have B as a starting node. If A is a part of the target nodes of B, then B links to A. We create a dataframe for which we only include reciprocated edges, we add both the edges from A to B, and from B to A.\n",
        "\n",
        "The detailed code strategy to find reciprocated edges is : \n",
        "- Initialization : create a dataframe that will contain the edges for which we have a reciprocation.\n",
        "- 1st loop : we loop over all starting nodes, namely we loop over each `from_node`. For each `from_node`, we filter the original dataset to only have edges that have `from_node` as starting node.\n",
        "- 2nd loop : we loop over each target node of `from_node`. For each of these `to_node`, we filter the dataset to have edges that starts from `to_node`.\n",
        "- Test assignement : if `from_node` is a part of the target node of `to_node`, then we add the edges. Sometimes there is the same edge several times : we have $A \\rightarrow B$ several times. We decide to only have each edge one time : we just include $A \\rightarrow B$ one time and $B \\rightarrow A$ one time."
      ]
    },
    {
      "cell_type": "code",
      "metadata": {
        "id": "vZzIn8Y5pEfL",
        "outputId": "b03902eb-2e97-4839-9397-101e6e0f6570"
      },
      "source": [
        "#Initialization\n",
        "wiki_reci = pd.DataFrame()\n",
        "\n",
        "#1st loop : #for all starting nodes\n",
        "for from_node in wiki['FromNodeId'].unique(): \n",
        "    #filter the dataset to have only the edges that have from_node as a starting node\n",
        "    from_df = wiki[wiki['FromNodeId'] == from_node]\n",
        "    \n",
        "    #2nd loop : for each target node for 'from_node', the starting node \n",
        "    for to_node in from_df['ToNodeId'].values : \n",
        "        #filter the dataset to have the edges that have as starting node, the target node of 'from_node'\n",
        "        to_df = wiki[wiki['FromNodeId'] == to_node] \n",
        "        \n",
        "        if from_node in to_df['ToNodeId'].values: #\n",
        "            #we add both edges\n",
        "            wiki_reci = pd.concat([wiki_reci, wiki.loc[(wiki['FromNodeId'] ==from_node) & (wiki['ToNodeId']==to_node)].head(1)])\n",
        "            wiki_reci = pd.concat([wiki_reci, wiki.loc[(wiki['FromNodeId'] == to_node) & (wiki['ToNodeId']==from_node)].head(1)])\n",
        "            #we need to drop at least one edge from the original data to not add the reciprocation several times\n",
        "            wiki = wiki.drop(wiki.loc[(wiki['FromNodeId'] ==from_node) & (wiki['ToNodeId']==to_node)].index)\n",
        "            wiki = wiki.drop(wiki.loc[(wiki['FromNodeId'] ==to_node) & (wiki['ToNodeId']==from_node)].index)\n",
        "            \n",
        "wiki_reci.head() #2min30"
      ],
      "execution_count": null,
      "outputs": [
        {
          "output_type": "execute_result",
          "data": {
            "text/html": [
              "<div>\n",
              "<style scoped>\n",
              "    .dataframe tbody tr th:only-of-type {\n",
              "        vertical-align: middle;\n",
              "    }\n",
              "\n",
              "    .dataframe tbody tr th {\n",
              "        vertical-align: top;\n",
              "    }\n",
              "\n",
              "    .dataframe thead th {\n",
              "        text-align: right;\n",
              "    }\n",
              "</style>\n",
              "<table border=\"1\" class=\"dataframe\">\n",
              "  <thead>\n",
              "    <tr style=\"text-align: right;\">\n",
              "      <th></th>\n",
              "      <th>FromNodeId</th>\n",
              "      <th>ToNodeId</th>\n",
              "      <th>Sign</th>\n",
              "    </tr>\n",
              "  </thead>\n",
              "  <tbody>\n",
              "    <tr>\n",
              "      <th>33</th>\n",
              "      <td>3</td>\n",
              "      <td>54</td>\n",
              "      <td>1</td>\n",
              "    </tr>\n",
              "    <tr>\n",
              "      <th>1157</th>\n",
              "      <td>54</td>\n",
              "      <td>3</td>\n",
              "      <td>1</td>\n",
              "    </tr>\n",
              "    <tr>\n",
              "      <th>720</th>\n",
              "      <td>3</td>\n",
              "      <td>28</td>\n",
              "      <td>1</td>\n",
              "    </tr>\n",
              "    <tr>\n",
              "      <th>1180</th>\n",
              "      <td>28</td>\n",
              "      <td>3</td>\n",
              "      <td>1</td>\n",
              "    </tr>\n",
              "    <tr>\n",
              "      <th>2144</th>\n",
              "      <td>3</td>\n",
              "      <td>178</td>\n",
              "      <td>1</td>\n",
              "    </tr>\n",
              "  </tbody>\n",
              "</table>\n",
              "</div>"
            ],
            "text/plain": [
              "      FromNodeId  ToNodeId  Sign\n",
              "33             3        54     1\n",
              "1157          54         3     1\n",
              "720            3        28     1\n",
              "1180          28         3     1\n",
              "2144           3       178     1"
            ]
          },
          "metadata": {
            "tags": []
          },
          "execution_count": 76
        }
      ]
    },
    {
      "cell_type": "code",
      "metadata": {
        "id": "7go3Is8LpEfM"
      },
      "source": [
        "wiki_reci.shape[0]"
      ],
      "execution_count": null,
      "outputs": []
    },
    {
      "cell_type": "markdown",
      "metadata": {
        "id": "Wh2NaKhHpEfM"
      },
      "source": [
        "We first want to know what part of the original wikipedia reciprocated edges represent. The authors say that about 3-5% of the original dataset's edges are reciprocation of existing links. \n",
        "\n",
        "To check this, we divide the number of edges of this dataframe containing reciprocated edges by two time the number of edges in the original dataset (because we counted the link and its reciprocation, while in the paper they only count the reciprocation)."
      ]
    },
    {
      "cell_type": "code",
      "metadata": {
        "id": "D59pkNbXpEfN",
        "outputId": "6d0e784a-f157-4b9a-f86f-570306728bd7"
      },
      "source": [
        "#we compute the proportion\n",
        "print('propotion of reciprocated edges : {:.2%}'.format(wiki_reci.shape[0]/(2*wiki.shape[0])))"
      ],
      "execution_count": null,
      "outputs": [
        {
          "output_type": "stream",
          "text": [
            "propotion of reciprocated edges : 2.96%\n"
          ],
          "name": "stdout"
        }
      ]
    },
    {
      "cell_type": "markdown",
      "metadata": {
        "id": "Q8C6qG9bpEfN"
      },
      "source": [
        "It seems we have a similar result than with the paper. Now we replicate table 4\n",
        "\n",
        "**Replication of table 4 for the wikipedia dataset**\n",
        "\n",
        "To do this, we first create the networkx graph associated with this dataframe. Then we replicate table 4. The idea to find the `P(+|+)` and `P(-|+)` is the following : for each node, we find each of its neighbors linked with a positive sign to it, and then we test what is the sign of the reciprocated link, and add a count to the corresponding field."
      ]
    },
    {
      "cell_type": "code",
      "metadata": {
        "id": "HTWOFbxdpEfO",
        "outputId": "69a0763d-062b-4805-de8d-d97f1f34bcce"
      },
      "source": [
        "from table4 import create_table4\n",
        "\n",
        "table4_wiki = create_table4(wiki_reci, name_data = 'wikipedia')\n",
        "table4_wiki.head()"
      ],
      "execution_count": null,
      "outputs": [
        {
          "output_type": "execute_result",
          "data": {
            "text/html": [
              "<div>\n",
              "<style scoped>\n",
              "    .dataframe tbody tr th:only-of-type {\n",
              "        vertical-align: middle;\n",
              "    }\n",
              "\n",
              "    .dataframe tbody tr th {\n",
              "        vertical-align: top;\n",
              "    }\n",
              "\n",
              "    .dataframe thead th {\n",
              "        text-align: right;\n",
              "    }\n",
              "</style>\n",
              "<table border=\"1\" class=\"dataframe\">\n",
              "  <thead>\n",
              "    <tr style=\"text-align: right;\">\n",
              "      <th></th>\n",
              "      <th>wikipedia</th>\n",
              "      <th>Count</th>\n",
              "      <th>Fraction</th>\n",
              "    </tr>\n",
              "  </thead>\n",
              "  <tbody>\n",
              "    <tr>\n",
              "      <th>0</th>\n",
              "      <td>P(+|+)</td>\n",
              "      <td>2542</td>\n",
              "      <td>0.950636</td>\n",
              "    </tr>\n",
              "    <tr>\n",
              "      <th>1</th>\n",
              "      <td>P(-|+)</td>\n",
              "      <td>132</td>\n",
              "      <td>0.049364</td>\n",
              "    </tr>\n",
              "    <tr>\n",
              "      <th>2</th>\n",
              "      <td>P(+|-)</td>\n",
              "      <td>206</td>\n",
              "      <td>0.662379</td>\n",
              "    </tr>\n",
              "    <tr>\n",
              "      <th>3</th>\n",
              "      <td>P(-|-)</td>\n",
              "      <td>105</td>\n",
              "      <td>0.337621</td>\n",
              "    </tr>\n",
              "  </tbody>\n",
              "</table>\n",
              "</div>"
            ],
            "text/plain": [
              "  wikipedia  Count  Fraction\n",
              "0    P(+|+)   2542  0.950636\n",
              "1    P(-|+)    132  0.049364\n",
              "2    P(+|-)    206  0.662379\n",
              "3    P(-|-)    105  0.337621"
            ]
          },
          "metadata": {
            "tags": []
          },
          "execution_count": 78
        }
      ]
    },
    {
      "cell_type": "markdown",
      "metadata": {
        "id": "ce4YOhlmpEfP"
      },
      "source": [
        "Here is the table 4 from the paper :\n",
        ">![image.png](attachment:efcb5830-fd78-4266-b9b0-a7c11f80fc6a.png)\n",
        "\n",
        "Our results are not the exact same, but are very close to the ones in the paper. We conclude on a good replication power of the paper for this table. We use the same process for the reddit data."
      ]
    },
    {
      "cell_type": "markdown",
      "metadata": {
        "id": "l8XzowoYpEfP"
      },
      "source": [
        "### 1.3.2] Replication of table 4 for the reddit dataset\n",
        "\n",
        "We basically copy the functions from before, but with the reddit data\n",
        "\n",
        "**Create a dataframe that contains only reciprocated edges**\n",
        "\n",
        "We use the exact same code as before, but his time we use the reddit dataset."
      ]
    },
    {
      "cell_type": "code",
      "metadata": {
        "id": "e_gPQ7EHpEfQ",
        "outputId": "ad977264-7725-4b27-c9b3-4ef25e6b258f"
      },
      "source": [
        "reddit = data_total\n",
        "\n",
        "reddit_reci = pd.DataFrame()\n",
        "for from_node in reddit['FromNodeId'].unique(): #for all unique nodes\n",
        "    #filter the dataset to have only the edges that have from_node as a starting node\n",
        "    from_df = reddit[reddit['FromNodeId'] == from_node]\n",
        "    for to_node in from_df['ToNodeId'].values : #for all target node of 'from_node'\n",
        "        to_df = reddit[reddit['FromNodeId'] == to_node]\n",
        "        if from_node in to_df['ToNodeId'].values:\n",
        "            #we add both edges\n",
        "            reddit_reci = pd.concat([reddit_reci, reddit.loc[(reddit['FromNodeId'] ==from_node) & (reddit['ToNodeId']==to_node)].head(1)])\n",
        "            reddit_reci = pd.concat([reddit_reci, reddit.loc[(reddit['FromNodeId'] == to_node) & (reddit['ToNodeId']==from_node)].head(1)])\n",
        "            #we need to drop at least one edge from the original data to not add the reciprocation several times\n",
        "            reddit = reddit.drop(reddit.loc[(reddit['FromNodeId'] ==from_node) & (reddit['ToNodeId']==to_node)].index)\n",
        "            reddit = reddit.drop(reddit.loc[(reddit['FromNodeId'] ==to_node) & (reddit['ToNodeId']==from_node)].index)\n",
        "            \n",
        "reddit_reci.head() "
      ],
      "execution_count": null,
      "outputs": [
        {
          "output_type": "execute_result",
          "data": {
            "text/html": [
              "<div>\n",
              "<style scoped>\n",
              "    .dataframe tbody tr th:only-of-type {\n",
              "        vertical-align: middle;\n",
              "    }\n",
              "\n",
              "    .dataframe tbody tr th {\n",
              "        vertical-align: top;\n",
              "    }\n",
              "\n",
              "    .dataframe thead th {\n",
              "        text-align: right;\n",
              "    }\n",
              "</style>\n",
              "<table border=\"1\" class=\"dataframe\">\n",
              "  <thead>\n",
              "    <tr style=\"text-align: right;\">\n",
              "      <th></th>\n",
              "      <th>SOURCE_SUBREDDIT</th>\n",
              "      <th>TARGET_SUBREDDIT</th>\n",
              "      <th>POST_ID</th>\n",
              "      <th>TIMESTAMP</th>\n",
              "      <th>Sign</th>\n",
              "      <th>PROPERTIES</th>\n",
              "      <th>FromNodeId</th>\n",
              "      <th>ToNodeId</th>\n",
              "    </tr>\n",
              "  </thead>\n",
              "  <tbody>\n",
              "    <tr>\n",
              "      <th>0</th>\n",
              "      <td>leagueoflegends</td>\n",
              "      <td>teamredditteams</td>\n",
              "      <td>1u4nrps</td>\n",
              "      <td>2013-12-31 16:39:58</td>\n",
              "      <td>1</td>\n",
              "      <td>345.0,298.0,0.75652173913,0.0173913043478,0.08...</td>\n",
              "      <td>32023</td>\n",
              "      <td>57105</td>\n",
              "    </tr>\n",
              "    <tr>\n",
              "      <th>6172</th>\n",
              "      <td>teamredditteams</td>\n",
              "      <td>leagueoflegends</td>\n",
              "      <td>1xoxyes</td>\n",
              "      <td>2014-02-11 23:07:12</td>\n",
              "      <td>1</td>\n",
              "      <td>288.0,252.0,0.774305555556,0.00694444444444,0....</td>\n",
              "      <td>57105</td>\n",
              "      <td>32023</td>\n",
              "    </tr>\n",
              "    <tr>\n",
              "      <th>311</th>\n",
              "      <td>leagueoflegends</td>\n",
              "      <td>leagueoflegendsmeta</td>\n",
              "      <td>1ue5u4s</td>\n",
              "      <td>2014-01-04 07:15:08</td>\n",
              "      <td>1</td>\n",
              "      <td>705.0,604.0,0.756028368794,0.00567375886525,0....</td>\n",
              "      <td>32023</td>\n",
              "      <td>32026</td>\n",
              "    </tr>\n",
              "    <tr>\n",
              "      <th>4196</th>\n",
              "      <td>leagueoflegendsmeta</td>\n",
              "      <td>leagueoflegends</td>\n",
              "      <td>1wl2hzs</td>\n",
              "      <td>2014-01-30 12:32:16</td>\n",
              "      <td>1</td>\n",
              "      <td>1117.0,928.0,0.761862130707,0.000895255147717,...</td>\n",
              "      <td>32026</td>\n",
              "      <td>32023</td>\n",
              "    </tr>\n",
              "    <tr>\n",
              "      <th>320</th>\n",
              "      <td>leagueoflegends</td>\n",
              "      <td>iama</td>\n",
              "      <td>1ueax1s</td>\n",
              "      <td>2014-01-04 08:32:51</td>\n",
              "      <td>1</td>\n",
              "      <td>110.0,110.0,0.763636363636,0.0363636363636,0.0...</td>\n",
              "      <td>32023</td>\n",
              "      <td>27319</td>\n",
              "    </tr>\n",
              "  </tbody>\n",
              "</table>\n",
              "</div>"
            ],
            "text/plain": [
              "         SOURCE_SUBREDDIT     TARGET_SUBREDDIT  POST_ID            TIMESTAMP  \\\n",
              "0         leagueoflegends      teamredditteams  1u4nrps  2013-12-31 16:39:58   \n",
              "6172      teamredditteams      leagueoflegends  1xoxyes  2014-02-11 23:07:12   \n",
              "311       leagueoflegends  leagueoflegendsmeta  1ue5u4s  2014-01-04 07:15:08   \n",
              "4196  leagueoflegendsmeta      leagueoflegends  1wl2hzs  2014-01-30 12:32:16   \n",
              "320       leagueoflegends                 iama  1ueax1s  2014-01-04 08:32:51   \n",
              "\n",
              "      Sign                                         PROPERTIES  FromNodeId  \\\n",
              "0        1  345.0,298.0,0.75652173913,0.0173913043478,0.08...       32023   \n",
              "6172     1  288.0,252.0,0.774305555556,0.00694444444444,0....       57105   \n",
              "311      1  705.0,604.0,0.756028368794,0.00567375886525,0....       32023   \n",
              "4196     1  1117.0,928.0,0.761862130707,0.000895255147717,...       32026   \n",
              "320      1  110.0,110.0,0.763636363636,0.0363636363636,0.0...       32023   \n",
              "\n",
              "      ToNodeId  \n",
              "0        57105  \n",
              "6172     32023  \n",
              "311      32026  \n",
              "4196     32023  \n",
              "320      27319  "
            ]
          },
          "metadata": {
            "tags": []
          },
          "execution_count": 10
        }
      ]
    },
    {
      "cell_type": "markdown",
      "metadata": {
        "id": "HdyqLvdDpEfQ"
      },
      "source": [
        "This operation took a very long time (hours), so i save it into a csv file to not running it again if needed."
      ]
    },
    {
      "cell_type": "code",
      "metadata": {
        "id": "m_lhRktvpEfQ"
      },
      "source": [
        "#save it into a csv file\n",
        "reddit_reci.to_csv('reddit_reciprocation.csv')"
      ],
      "execution_count": null,
      "outputs": []
    },
    {
      "cell_type": "code",
      "metadata": {
        "id": "mGqWBQYwpEfR"
      },
      "source": [
        "#If we saved the csv file, we can load it :\n",
        "reddit_reci = pd.read_csv('reddit_reciprocation.csv')"
      ],
      "execution_count": null,
      "outputs": []
    },
    {
      "cell_type": "code",
      "metadata": {
        "id": "F4eU54_WpEfR",
        "outputId": "fde857cf-527a-453a-bb0f-ec03475cc81a"
      },
      "source": [
        "#we compute the proportion\n",
        "print('propotion of reciprocated edges : {:.2%}'.format(reddit_reci.shape[0]/(2*reddit.shape[0])))"
      ],
      "execution_count": null,
      "outputs": [
        {
          "output_type": "stream",
          "text": [
            "propotion of reciprocated edges : 5.38%\n"
          ],
          "name": "stdout"
        }
      ]
    },
    {
      "cell_type": "markdown",
      "metadata": {
        "id": "NItopJePpEfR"
      },
      "source": [
        "The proportion of the original dataset to be reciprocated edges is higher than for the wikipedia dataset."
      ]
    },
    {
      "cell_type": "markdown",
      "metadata": {
        "id": "BUblecfVpEfR"
      },
      "source": [
        "**Replication of table 4**"
      ]
    },
    {
      "cell_type": "code",
      "metadata": {
        "id": "IHXd1wGfpEfS",
        "outputId": "d7ed3139-5d2a-44ac-e195-7c1a972cc153"
      },
      "source": [
        "from table4 import create_table4\n",
        "\n",
        "table4_reddit = create_table4(reddit_reci, name_data = 'reddit')\n",
        "table4_reddit.head()"
      ],
      "execution_count": null,
      "outputs": [
        {
          "output_type": "execute_result",
          "data": {
            "text/html": [
              "<div>\n",
              "<style scoped>\n",
              "    .dataframe tbody tr th:only-of-type {\n",
              "        vertical-align: middle;\n",
              "    }\n",
              "\n",
              "    .dataframe tbody tr th {\n",
              "        vertical-align: top;\n",
              "    }\n",
              "\n",
              "    .dataframe thead th {\n",
              "        text-align: right;\n",
              "    }\n",
              "</style>\n",
              "<table border=\"1\" class=\"dataframe\">\n",
              "  <thead>\n",
              "    <tr style=\"text-align: right;\">\n",
              "      <th></th>\n",
              "      <th>reddit</th>\n",
              "      <th>Count</th>\n",
              "      <th>Fraction</th>\n",
              "    </tr>\n",
              "  </thead>\n",
              "  <tbody>\n",
              "    <tr>\n",
              "      <th>0</th>\n",
              "      <td>P(+|+)</td>\n",
              "      <td>27002</td>\n",
              "      <td>0.954505</td>\n",
              "    </tr>\n",
              "    <tr>\n",
              "      <th>1</th>\n",
              "      <td>P(-|+)</td>\n",
              "      <td>1287</td>\n",
              "      <td>0.045495</td>\n",
              "    </tr>\n",
              "    <tr>\n",
              "      <th>2</th>\n",
              "      <td>P(+|-)</td>\n",
              "      <td>1482</td>\n",
              "      <td>0.878483</td>\n",
              "    </tr>\n",
              "    <tr>\n",
              "      <th>3</th>\n",
              "      <td>P(-|-)</td>\n",
              "      <td>205</td>\n",
              "      <td>0.121517</td>\n",
              "    </tr>\n",
              "  </tbody>\n",
              "</table>\n",
              "</div>"
            ],
            "text/plain": [
              "   reddit  Count  Fraction\n",
              "0  P(+|+)  27002  0.954505\n",
              "1  P(-|+)   1287  0.045495\n",
              "2  P(+|-)   1482  0.878483\n",
              "3  P(-|-)    205  0.121517"
            ]
          },
          "metadata": {
            "tags": []
          },
          "execution_count": 23
        }
      ]
    },
    {
      "cell_type": "markdown",
      "metadata": {
        "id": "VpMgf3S3pEfS"
      },
      "source": [
        "The results seems to be consistent with the conclusion authors make : if A-B is positive, we have in 95.4% of cases that B-A is positive as well, which is higher than the 90% os positive links in the data. So balance theory explains well the proportion of $P(+|+)$, as a reciprocation of a positive link should be positive as well. \n",
        "\n",
        "Plus, if A-B is negative, B-A is positive in 87.8% of cases. Which is (a bit) lower than the 90% of positive edges. Therefore we say that status theory explains well the high proportion of $P(+|-)$, as if A links negatively to B (A thinks B has a ower status), then B should link positively to A (B thinks A has a higher status). "
      ]
    },
    {
      "cell_type": "markdown",
      "metadata": {
        "id": "zaopHb3fpEfS"
      },
      "source": [
        "**By curiosity, we can see several examples of links that satisfies $P(-|+)$, $P(+|-)$ and $P(-|-)$**"
      ]
    },
    {
      "cell_type": "code",
      "metadata": {
        "id": "KVUbRdg6pEfT",
        "outputId": "2b719ee0-8c86-4e88-e556-9dede344533a"
      },
      "source": [
        "#Examples of links satisfying P(-|+)\n",
        "from table4 import print_p2\n",
        "\n",
        "print_p2(reddit_reci, name_data = 'reddit', nb_ex = 10)"
      ],
      "execution_count": null,
      "outputs": [
        {
          "output_type": "stream",
          "text": [
            "Examples of subreddits (A,B) satisfying P(-|+) : A link positive to B, B link negative to A \n",
            "example 1 :\n",
            "A : leagueoflegends\n",
            "B : gaming\n",
            "\n",
            "example 2 :\n",
            "A : leagueoflegends\n",
            "B : leagueofmemes\n",
            "\n",
            "example 3 :\n",
            "A : nfl\n",
            "B : chibears\n",
            "\n",
            "example 4 :\n",
            "A : nfl\n",
            "B : detroitlions\n",
            "\n",
            "example 5 :\n",
            "A : nfl\n",
            "B : steelers\n",
            "\n",
            "example 6 :\n",
            "A : nfl\n",
            "B : showerthoughts\n",
            "\n",
            "example 7 :\n",
            "A : dogemarket\n",
            "B : dogecoinscamwatch\n",
            "\n",
            "example 8 :\n",
            "A : metalcore\n",
            "B : music\n",
            "\n",
            "example 9 :\n",
            "A : suicidewatch\n",
            "B : needadvice\n",
            "\n",
            "example 10 :\n",
            "A : suicidewatch\n",
            "B : mensrights\n",
            "\n"
          ],
          "name": "stdout"
        }
      ]
    },
    {
      "cell_type": "code",
      "metadata": {
        "id": "SlEdcPsUpEfT",
        "outputId": "56b1b8cc-9814-4710-dfd2-609a825eb955"
      },
      "source": [
        "#Examples of links satisfying P(+|-)\n",
        "from table4 import print_p3\n",
        "\n",
        "print_p3(reddit_reci, name_data = 'reddit', nb_ex = 4)"
      ],
      "execution_count": null,
      "outputs": [
        {
          "output_type": "stream",
          "text": [
            "Examples of subreddits (A,B) satisfying P(+|-) : A link negative to B, B link positive to A \n",
            "example 1 :\n",
            "A : leagueoflegends\n",
            "B : cringepics\n",
            "\n",
            "example 2 :\n",
            "A : leagueoflegends\n",
            "B : gameofthrones\n",
            "\n",
            "example 3 :\n",
            "A : leagueoflegends\n",
            "B : todayilearned\n",
            "\n",
            "example 4 :\n",
            "A : leagueoflegends\n",
            "B : caitlynmains\n",
            "\n"
          ],
          "name": "stdout"
        }
      ]
    },
    {
      "cell_type": "code",
      "metadata": {
        "id": "pxMKavKQpEfU",
        "outputId": "2ee55c32-6f55-45cc-9ef2-b1791403a12d"
      },
      "source": [
        "#Examples of links satisfying P(-|-)\n",
        "from table4 import print_p4\n",
        "\n",
        "print_p4(reddit_reci, name_data = 'reddit', nb_ex = 4)"
      ],
      "execution_count": null,
      "outputs": [
        {
          "output_type": "stream",
          "text": [
            "Examples of subreddits (A,B) satisfying P(-|-) : A link negative to B, B link positive to A \n",
            "example 1 :\n",
            "A : leagueoflegends\n",
            "B : bestof\n",
            "\n",
            "example 2 :\n",
            "A : leagueoflegends\n",
            "B : dotamasterrace\n",
            "\n",
            "example 3 :\n",
            "A : suicidewatch\n",
            "B : bestof\n",
            "\n",
            "example 4 :\n",
            "A : circlebroke\n",
            "B : shitredditsays\n",
            "\n"
          ],
          "name": "stdout"
        }
      ]
    },
    {
      "cell_type": "code",
      "metadata": {
        "id": "ilK7XsiXpEfU"
      },
      "source": [
        ""
      ],
      "execution_count": null,
      "outputs": []
    },
    {
      "cell_type": "markdown",
      "metadata": {
        "id": "2QomaG4BpGLy"
      },
      "source": [
        "# Analysis of Time "
      ]
    },
    {
      "cell_type": "markdown",
      "metadata": {
        "id": "7uAmzAoPpHv3"
      },
      "source": [
        "## Analyzing the global trend "
      ]
    },
    {
      "cell_type": "markdown",
      "metadata": {
        "id": "DgaGHAE6pK1u"
      },
      "source": [
        "**NOTE FOR PART 2** : On the following analysis we will only consider the body dataset from reddit. As we will use sentiment score, it seams more relevant to use the one computed from a text than from a single title as it will be more nuanced and thus will represent better the overall idea of the post. "
      ]
    },
    {
      "cell_type": "markdown",
      "metadata": {
        "id": "-mdp_dRqpNMt"
      },
      "source": [
        "## Global pathway of the analysis --------------------------------------------------------------------------- \n",
        "\n",
        "1) Work on the Reddit dataset\n",
        "- step 0 : work with Date data\n",
        "- step 1 : analysis of the year \n",
        "- step 2 : analysis of the month \n",
        "- step 3 : analysis of the day of the month and of the week \n",
        "- step 4 : analyis of the hour \n",
        "\n",
        "Aim : identify the main trends among the time data, and thus define new subgraphs\n",
        "\n",
        "2) Do the structural analysis of these subgraphs \n",
        "Parameters : Centrality, Clustering, Behavior\n",
        "3) First conclusion\n",
        "\n",
        "4) Work on the wikipedia and slashdot dataset\n",
        "- same steps 0, 1, 2, 3, 4\n",
        "Aim : identify the main trends among the time data, and thus define new subgraphs\n",
        "\n",
        "5) Do the structural analysis of these second subgraphs \n",
        "Parameters : Centrality, Clustering, Behavior\n",
        "\n",
        "6) Second Conclusion\n",
        "\n",
        "7) Draw the scheme of a situation, to illustrate how the time can influence the formation of new edges compared to status and balance theory. (Abstract, with a drawing)\n",
        "\n",
        "## -----------------------------------------------------------------------------------------------------------------------------"
      ]
    },
    {
      "cell_type": "markdown",
      "metadata": {
        "id": "y9CV8lCcpQXy"
      },
      "source": [
        "## 1) Work on the Reddit dataset\n",
        "### **Step 0**  : Work with datetime data"
      ]
    },
    {
      "cell_type": "markdown",
      "metadata": {
        "id": "qF9w4ke0m4Eu"
      },
      "source": [
        "## 1) Work on the Reddit dataset\n",
        "### **Step 0**  : Work with datetime data"
      ]
    },
    {
      "cell_type": "code",
      "metadata": {
        "colab": {
          "base_uri": "https://localhost:8080/"
        },
        "id": "jJvwpUkHm4Ev",
        "outputId": "48c99d4f-1620-467b-c69f-56e05141ce9e"
      },
      "source": [
        "print('Exemple : the date of the first post of the dataset is : {}'.format(data_body['TIMESTAMP'][3]))\n",
        "print(' Its type is ',type(data_body['TIMESTAMP'][3]))"
      ],
      "execution_count": null,
      "outputs": [
        {
          "output_type": "stream",
          "text": [
            "Exemple : the date of the first post of the dataset is : 2013-12-31 17:37:55\n",
            " Its type is  <class 'str'>\n"
          ],
          "name": "stdout"
        }
      ]
    },
    {
      "cell_type": "markdown",
      "metadata": {
        "id": "Mvmw17nwm4Ew"
      },
      "source": [
        "Here the date are strings, so we need to convert them into datetime form as we want to do time manipulation (e.g. year example). "
      ]
    },
    {
      "cell_type": "code",
      "metadata": {
        "id": "lEeHJ9KKm4Ew"
      },
      "source": [
        "# Useful libraries \n",
        "from datetime import datetime, date, time\n",
        "import calendar "
      ],
      "execution_count": 47,
      "outputs": []
    },
    {
      "cell_type": "code",
      "metadata": {
        "colab": {
          "base_uri": "https://localhost:8080/",
          "height": 204
        },
        "id": "v-FAqAR0m4Ew",
        "outputId": "714f7cd6-7ed8-493c-f40b-e155e054ba1a"
      },
      "source": [
        "# create the new column in the dataframe\n",
        "#data_body['DATETIME'] = 0.0\n",
        "#data_body.head()"
      ],
      "execution_count": null,
      "outputs": [
        {
          "output_type": "execute_result",
          "data": {
            "text/html": [
              "<div>\n",
              "<style scoped>\n",
              "    .dataframe tbody tr th:only-of-type {\n",
              "        vertical-align: middle;\n",
              "    }\n",
              "\n",
              "    .dataframe tbody tr th {\n",
              "        vertical-align: top;\n",
              "    }\n",
              "\n",
              "    .dataframe thead th {\n",
              "        text-align: right;\n",
              "    }\n",
              "</style>\n",
              "<table border=\"1\" class=\"dataframe\">\n",
              "  <thead>\n",
              "    <tr style=\"text-align: right;\">\n",
              "      <th></th>\n",
              "      <th>SOURCE_SUBREDDIT</th>\n",
              "      <th>TARGET_SUBREDDIT</th>\n",
              "      <th>POST_ID</th>\n",
              "      <th>TIMESTAMP</th>\n",
              "      <th>LINK_SENTIMENT</th>\n",
              "      <th>PROPERTIES</th>\n",
              "      <th>DATETIME</th>\n",
              "    </tr>\n",
              "  </thead>\n",
              "  <tbody>\n",
              "    <tr>\n",
              "      <th>0</th>\n",
              "      <td>leagueoflegends</td>\n",
              "      <td>teamredditteams</td>\n",
              "      <td>1u4nrps</td>\n",
              "      <td>2013-12-31 16:39:58</td>\n",
              "      <td>1</td>\n",
              "      <td>345.0,298.0,0.75652173913,0.0173913043478,0.08...</td>\n",
              "      <td>0.0</td>\n",
              "    </tr>\n",
              "    <tr>\n",
              "      <th>1</th>\n",
              "      <td>theredlion</td>\n",
              "      <td>soccer</td>\n",
              "      <td>1u4qkd</td>\n",
              "      <td>2013-12-31 18:18:37</td>\n",
              "      <td>-1</td>\n",
              "      <td>101.0,98.0,0.742574257426,0.019801980198,0.049...</td>\n",
              "      <td>0.0</td>\n",
              "    </tr>\n",
              "    <tr>\n",
              "      <th>2</th>\n",
              "      <td>inlandempire</td>\n",
              "      <td>bikela</td>\n",
              "      <td>1u4qlzs</td>\n",
              "      <td>2014-01-01 14:54:35</td>\n",
              "      <td>1</td>\n",
              "      <td>85.0,85.0,0.752941176471,0.0235294117647,0.082...</td>\n",
              "      <td>0.0</td>\n",
              "    </tr>\n",
              "    <tr>\n",
              "      <th>3</th>\n",
              "      <td>nfl</td>\n",
              "      <td>cfb</td>\n",
              "      <td>1u4sjvs</td>\n",
              "      <td>2013-12-31 17:37:55</td>\n",
              "      <td>1</td>\n",
              "      <td>1124.0,949.0,0.772241992883,0.0017793594306,0....</td>\n",
              "      <td>0.0</td>\n",
              "    </tr>\n",
              "    <tr>\n",
              "      <th>4</th>\n",
              "      <td>playmygame</td>\n",
              "      <td>gamedev</td>\n",
              "      <td>1u4w5ss</td>\n",
              "      <td>2014-01-01 02:51:13</td>\n",
              "      <td>1</td>\n",
              "      <td>715.0,622.0,0.777622377622,0.00699300699301,0....</td>\n",
              "      <td>0.0</td>\n",
              "    </tr>\n",
              "  </tbody>\n",
              "</table>\n",
              "</div>"
            ],
            "text/plain": [
              "  SOURCE_SUBREDDIT  ... DATETIME\n",
              "0  leagueoflegends  ...      0.0\n",
              "1       theredlion  ...      0.0\n",
              "2     inlandempire  ...      0.0\n",
              "3              nfl  ...      0.0\n",
              "4       playmygame  ...      0.0\n",
              "\n",
              "[5 rows x 7 columns]"
            ]
          },
          "metadata": {
            "tags": []
          },
          "execution_count": 10
        }
      ]
    },
    {
      "cell_type": "code",
      "metadata": {
        "id": "15P7Dzjxm4Ex"
      },
      "source": [
        "data_body['TIMESTAMP'] = pd.to_datetime(data_body['TIMESTAMP'], format='%Y-%m-%d %H:%M:%S', errors='coerce')"
      ],
      "execution_count": 54,
      "outputs": []
    },
    {
      "cell_type": "code",
      "metadata": {
        "colab": {
          "base_uri": "https://localhost:8080/",
          "height": 309
        },
        "id": "l20NW8j-m4Ex",
        "outputId": "520bff21-7418-4fdd-996d-63d7e9bbff46"
      },
      "source": [
        "data_body.head()"
      ],
      "execution_count": 55,
      "outputs": [
        {
          "output_type": "execute_result",
          "data": {
            "text/html": [
              "<div>\n",
              "<style scoped>\n",
              "    .dataframe tbody tr th:only-of-type {\n",
              "        vertical-align: middle;\n",
              "    }\n",
              "\n",
              "    .dataframe tbody tr th {\n",
              "        vertical-align: top;\n",
              "    }\n",
              "\n",
              "    .dataframe thead th {\n",
              "        text-align: right;\n",
              "    }\n",
              "</style>\n",
              "<table border=\"1\" class=\"dataframe\">\n",
              "  <thead>\n",
              "    <tr style=\"text-align: right;\">\n",
              "      <th></th>\n",
              "      <th>SOURCE_SUBREDDIT</th>\n",
              "      <th>TARGET_SUBREDDIT</th>\n",
              "      <th>POST_ID</th>\n",
              "      <th>TIMESTAMP</th>\n",
              "      <th>Sign</th>\n",
              "      <th>PROPERTIES</th>\n",
              "    </tr>\n",
              "  </thead>\n",
              "  <tbody>\n",
              "    <tr>\n",
              "      <th>0</th>\n",
              "      <td>leagueoflegends</td>\n",
              "      <td>teamredditteams</td>\n",
              "      <td>1u4nrps</td>\n",
              "      <td>2013-12-31 16:39:58</td>\n",
              "      <td>1</td>\n",
              "      <td>345.0,298.0,0.75652173913,0.0173913043478,0.08...</td>\n",
              "    </tr>\n",
              "    <tr>\n",
              "      <th>1</th>\n",
              "      <td>theredlion</td>\n",
              "      <td>soccer</td>\n",
              "      <td>1u4qkd</td>\n",
              "      <td>2013-12-31 18:18:37</td>\n",
              "      <td>-1</td>\n",
              "      <td>101.0,98.0,0.742574257426,0.019801980198,0.049...</td>\n",
              "    </tr>\n",
              "    <tr>\n",
              "      <th>2</th>\n",
              "      <td>inlandempire</td>\n",
              "      <td>bikela</td>\n",
              "      <td>1u4qlzs</td>\n",
              "      <td>2014-01-01 14:54:35</td>\n",
              "      <td>1</td>\n",
              "      <td>85.0,85.0,0.752941176471,0.0235294117647,0.082...</td>\n",
              "    </tr>\n",
              "    <tr>\n",
              "      <th>3</th>\n",
              "      <td>nfl</td>\n",
              "      <td>cfb</td>\n",
              "      <td>1u4sjvs</td>\n",
              "      <td>2013-12-31 17:37:55</td>\n",
              "      <td>1</td>\n",
              "      <td>1124.0,949.0,0.772241992883,0.0017793594306,0....</td>\n",
              "    </tr>\n",
              "    <tr>\n",
              "      <th>4</th>\n",
              "      <td>playmygame</td>\n",
              "      <td>gamedev</td>\n",
              "      <td>1u4w5ss</td>\n",
              "      <td>2014-01-01 02:51:13</td>\n",
              "      <td>1</td>\n",
              "      <td>715.0,622.0,0.777622377622,0.00699300699301,0....</td>\n",
              "    </tr>\n",
              "  </tbody>\n",
              "</table>\n",
              "</div>"
            ],
            "text/plain": [
              "  SOURCE_SUBREDDIT  ...                                         PROPERTIES\n",
              "0  leagueoflegends  ...  345.0,298.0,0.75652173913,0.0173913043478,0.08...\n",
              "1       theredlion  ...  101.0,98.0,0.742574257426,0.019801980198,0.049...\n",
              "2     inlandempire  ...  85.0,85.0,0.752941176471,0.0235294117647,0.082...\n",
              "3              nfl  ...  1124.0,949.0,0.772241992883,0.0017793594306,0....\n",
              "4       playmygame  ...  715.0,622.0,0.777622377622,0.00699300699301,0....\n",
              "\n",
              "[5 rows x 6 columns]"
            ]
          },
          "metadata": {
            "tags": []
          },
          "execution_count": 55
        }
      ]
    },
    {
      "cell_type": "code",
      "metadata": {
        "id": "_JK7POMam4Ey",
        "colab": {
          "base_uri": "https://localhost:8080/"
        },
        "outputId": "abb458ab-a64d-4235-8f3c-d82121b8dfa9"
      },
      "source": [
        "print(type(data_body['TIMESTAMP'][0]))"
      ],
      "execution_count": 56,
      "outputs": [
        {
          "output_type": "stream",
          "text": [
            "<class 'pandas._libs.tslibs.timestamps.Timestamp'>\n"
          ],
          "name": "stdout"
        }
      ]
    },
    {
      "cell_type": "markdown",
      "metadata": {
        "id": "ssPqEr8Im4Ey"
      },
      "source": [
        "**Split the dataset into positive and negative edges**"
      ]
    },
    {
      "cell_type": "markdown",
      "metadata": {
        "id": "4fJNsjz7m4Ez"
      },
      "source": [
        "*Positif*"
      ]
    },
    {
      "cell_type": "code",
      "metadata": {
        "colab": {
          "base_uri": "https://localhost:8080/"
        },
        "id": "nhQuc8nBm4Ez",
        "outputId": "36f18af8-3399-4505-f349-aed2c62080b6"
      },
      "source": [
        "body_pos = data_body.copy()\n",
        "body_pos = body_pos.drop(body_pos[body_pos.Sign == -1.0].index).reset_index(drop=True)\n",
        "print('data body original .{}'.format(data_body.shape))\n",
        "print('body POS {}'.format(body_pos.shape))"
      ],
      "execution_count": 57,
      "outputs": [
        {
          "output_type": "stream",
          "text": [
            "data body original .(286561, 6)\n",
            "body POS (265491, 6)\n"
          ],
          "name": "stdout"
        }
      ]
    },
    {
      "cell_type": "code",
      "metadata": {
        "colab": {
          "base_uri": "https://localhost:8080/"
        },
        "id": "aRMYsASEm4Ez",
        "outputId": "98ee9fe6-9607-44e9-d65d-2384e492666b"
      },
      "source": [
        "print('In data body : sign of post 4 = ', data_body.iloc[1][4])\n",
        "print('In body pos : sign of post 4 = ', body_pos.iloc[1][4])"
      ],
      "execution_count": 58,
      "outputs": [
        {
          "output_type": "stream",
          "text": [
            "In data body : sign of post 4 =  -1\n",
            "In body pos : sign of post 4 =  1\n"
          ],
          "name": "stdout"
        }
      ]
    },
    {
      "cell_type": "code",
      "metadata": {
        "colab": {
          "base_uri": "https://localhost:8080/",
          "height": 309
        },
        "id": "0hxiBSxGm4Ez",
        "outputId": "a42a7327-e661-455f-f364-718199a73e6b"
      },
      "source": [
        "body_pos.head()"
      ],
      "execution_count": 59,
      "outputs": [
        {
          "output_type": "execute_result",
          "data": {
            "text/html": [
              "<div>\n",
              "<style scoped>\n",
              "    .dataframe tbody tr th:only-of-type {\n",
              "        vertical-align: middle;\n",
              "    }\n",
              "\n",
              "    .dataframe tbody tr th {\n",
              "        vertical-align: top;\n",
              "    }\n",
              "\n",
              "    .dataframe thead th {\n",
              "        text-align: right;\n",
              "    }\n",
              "</style>\n",
              "<table border=\"1\" class=\"dataframe\">\n",
              "  <thead>\n",
              "    <tr style=\"text-align: right;\">\n",
              "      <th></th>\n",
              "      <th>SOURCE_SUBREDDIT</th>\n",
              "      <th>TARGET_SUBREDDIT</th>\n",
              "      <th>POST_ID</th>\n",
              "      <th>TIMESTAMP</th>\n",
              "      <th>Sign</th>\n",
              "      <th>PROPERTIES</th>\n",
              "    </tr>\n",
              "  </thead>\n",
              "  <tbody>\n",
              "    <tr>\n",
              "      <th>0</th>\n",
              "      <td>leagueoflegends</td>\n",
              "      <td>teamredditteams</td>\n",
              "      <td>1u4nrps</td>\n",
              "      <td>2013-12-31 16:39:58</td>\n",
              "      <td>1</td>\n",
              "      <td>345.0,298.0,0.75652173913,0.0173913043478,0.08...</td>\n",
              "    </tr>\n",
              "    <tr>\n",
              "      <th>1</th>\n",
              "      <td>inlandempire</td>\n",
              "      <td>bikela</td>\n",
              "      <td>1u4qlzs</td>\n",
              "      <td>2014-01-01 14:54:35</td>\n",
              "      <td>1</td>\n",
              "      <td>85.0,85.0,0.752941176471,0.0235294117647,0.082...</td>\n",
              "    </tr>\n",
              "    <tr>\n",
              "      <th>2</th>\n",
              "      <td>nfl</td>\n",
              "      <td>cfb</td>\n",
              "      <td>1u4sjvs</td>\n",
              "      <td>2013-12-31 17:37:55</td>\n",
              "      <td>1</td>\n",
              "      <td>1124.0,949.0,0.772241992883,0.0017793594306,0....</td>\n",
              "    </tr>\n",
              "    <tr>\n",
              "      <th>3</th>\n",
              "      <td>playmygame</td>\n",
              "      <td>gamedev</td>\n",
              "      <td>1u4w5ss</td>\n",
              "      <td>2014-01-01 02:51:13</td>\n",
              "      <td>1</td>\n",
              "      <td>715.0,622.0,0.777622377622,0.00699300699301,0....</td>\n",
              "    </tr>\n",
              "    <tr>\n",
              "      <th>4</th>\n",
              "      <td>dogemarket</td>\n",
              "      <td>dogecoin</td>\n",
              "      <td>1u4w7bs</td>\n",
              "      <td>2013-12-31 18:35:44</td>\n",
              "      <td>1</td>\n",
              "      <td>1328.0,1110.0,0.768825301205,0.0143072289157,0...</td>\n",
              "    </tr>\n",
              "  </tbody>\n",
              "</table>\n",
              "</div>"
            ],
            "text/plain": [
              "  SOURCE_SUBREDDIT  ...                                         PROPERTIES\n",
              "0  leagueoflegends  ...  345.0,298.0,0.75652173913,0.0173913043478,0.08...\n",
              "1     inlandempire  ...  85.0,85.0,0.752941176471,0.0235294117647,0.082...\n",
              "2              nfl  ...  1124.0,949.0,0.772241992883,0.0017793594306,0....\n",
              "3       playmygame  ...  715.0,622.0,0.777622377622,0.00699300699301,0....\n",
              "4       dogemarket  ...  1328.0,1110.0,0.768825301205,0.0143072289157,0...\n",
              "\n",
              "[5 rows x 6 columns]"
            ]
          },
          "metadata": {
            "tags": []
          },
          "execution_count": 59
        }
      ]
    },
    {
      "cell_type": "markdown",
      "metadata": {
        "id": "FwgAZXcKm4E0"
      },
      "source": [
        "*Negatif*"
      ]
    },
    {
      "cell_type": "code",
      "metadata": {
        "colab": {
          "base_uri": "https://localhost:8080/"
        },
        "id": "ZqtCbrjSm4E0",
        "outputId": "83621214-3357-40be-8b4e-354a1f482f68"
      },
      "source": [
        "body_neg = data_body.copy()\n",
        "body_neg= body_neg.drop(body_neg[body_neg.Sign == 1.0].index).reset_index(drop=True)\n",
        "print('data body original .{}'.format(data_body.shape))\n",
        "print('body NEG {}'.format(body_neg.shape))"
      ],
      "execution_count": 33,
      "outputs": [
        {
          "output_type": "stream",
          "text": [
            "data body original .(286561, 8)\n",
            "body NEG (21070, 8)\n"
          ],
          "name": "stdout"
        }
      ]
    },
    {
      "cell_type": "code",
      "metadata": {
        "colab": {
          "base_uri": "https://localhost:8080/"
        },
        "id": "pexBSRm1m4E0",
        "outputId": "f9612c81-6f0d-4c96-a683-e4bd552db62d"
      },
      "source": [
        "print('In data body : sign of post 4 = ', data_body.iloc[0][4])\n",
        "print('In body pos : sign of post 4 = ', body_neg.iloc[0][4])"
      ],
      "execution_count": 60,
      "outputs": [
        {
          "output_type": "stream",
          "text": [
            "In data body : sign of post 4 =  1\n",
            "In body pos : sign of post 4 =  -1\n"
          ],
          "name": "stdout"
        }
      ]
    },
    {
      "cell_type": "code",
      "metadata": {
        "colab": {
          "base_uri": "https://localhost:8080/",
          "height": 394
        },
        "id": "tizAhV9Xm4E1",
        "outputId": "3f36823e-4ec8-43eb-a82a-d588149b8f46"
      },
      "source": [
        "body_neg.head()"
      ],
      "execution_count": 61,
      "outputs": [
        {
          "output_type": "execute_result",
          "data": {
            "text/html": [
              "<div>\n",
              "<style scoped>\n",
              "    .dataframe tbody tr th:only-of-type {\n",
              "        vertical-align: middle;\n",
              "    }\n",
              "\n",
              "    .dataframe tbody tr th {\n",
              "        vertical-align: top;\n",
              "    }\n",
              "\n",
              "    .dataframe thead th {\n",
              "        text-align: right;\n",
              "    }\n",
              "</style>\n",
              "<table border=\"1\" class=\"dataframe\">\n",
              "  <thead>\n",
              "    <tr style=\"text-align: right;\">\n",
              "      <th></th>\n",
              "      <th>SOURCE_SUBREDDIT</th>\n",
              "      <th>TARGET_SUBREDDIT</th>\n",
              "      <th>POST_ID</th>\n",
              "      <th>TIMESTAMP</th>\n",
              "      <th>Sign</th>\n",
              "      <th>PROPERTIES</th>\n",
              "      <th>DATETIME2</th>\n",
              "      <th>DATETIME</th>\n",
              "    </tr>\n",
              "  </thead>\n",
              "  <tbody>\n",
              "    <tr>\n",
              "      <th>0</th>\n",
              "      <td>theredlion</td>\n",
              "      <td>soccer</td>\n",
              "      <td>1u4qkd</td>\n",
              "      <td>2013-12-31 18:18:37</td>\n",
              "      <td>-1</td>\n",
              "      <td>101.0,98.0,0.742574257426,0.019801980198,0.049...</td>\n",
              "      <td>2013-12-31 18:18:37</td>\n",
              "      <td>2013-12-31 18:18:37</td>\n",
              "    </tr>\n",
              "    <tr>\n",
              "      <th>1</th>\n",
              "      <td>karmaconspiracy</td>\n",
              "      <td>funny</td>\n",
              "      <td>1u6fz3</td>\n",
              "      <td>2014-01-01 12:44:19</td>\n",
              "      <td>-1</td>\n",
              "      <td>186.0,182.0,0.741935483871,0.0376344086022,0.0...</td>\n",
              "      <td>2014-01-01 12:44:19</td>\n",
              "      <td>2014-01-01 12:44:19</td>\n",
              "    </tr>\n",
              "    <tr>\n",
              "      <th>2</th>\n",
              "      <td>badkarma</td>\n",
              "      <td>gamesell</td>\n",
              "      <td>1u6t4g</td>\n",
              "      <td>2014-01-01 16:42:14</td>\n",
              "      <td>-1</td>\n",
              "      <td>262.0,258.0,0.725190839695,0.0381679389313,0.0...</td>\n",
              "      <td>2014-01-01 16:42:14</td>\n",
              "      <td>2014-01-01 16:42:14</td>\n",
              "    </tr>\n",
              "    <tr>\n",
              "      <th>3</th>\n",
              "      <td>casualiama</td>\n",
              "      <td>teenagers</td>\n",
              "      <td>1u70s8</td>\n",
              "      <td>2014-01-01 17:09:46</td>\n",
              "      <td>-1</td>\n",
              "      <td>91.0,91.0,0.78021978022,0.032967032967,0.04395...</td>\n",
              "      <td>2014-01-01 17:09:46</td>\n",
              "      <td>2014-01-01 17:09:46</td>\n",
              "    </tr>\n",
              "    <tr>\n",
              "      <th>4</th>\n",
              "      <td>australia</td>\n",
              "      <td>sydney</td>\n",
              "      <td>1u71zd</td>\n",
              "      <td>2014-01-01 17:24:46</td>\n",
              "      <td>-1</td>\n",
              "      <td>2547.0,2158.0,0.801334903808,0.0051040439733,0...</td>\n",
              "      <td>2014-01-01 17:24:46</td>\n",
              "      <td>2014-01-01 17:24:46</td>\n",
              "    </tr>\n",
              "  </tbody>\n",
              "</table>\n",
              "</div>"
            ],
            "text/plain": [
              "  SOURCE_SUBREDDIT TARGET_SUBREDDIT  ...           DATETIME2            DATETIME\n",
              "0       theredlion           soccer  ... 2013-12-31 18:18:37 2013-12-31 18:18:37\n",
              "1  karmaconspiracy            funny  ... 2014-01-01 12:44:19 2014-01-01 12:44:19\n",
              "2         badkarma         gamesell  ... 2014-01-01 16:42:14 2014-01-01 16:42:14\n",
              "3       casualiama        teenagers  ... 2014-01-01 17:09:46 2014-01-01 17:09:46\n",
              "4        australia           sydney  ... 2014-01-01 17:24:46 2014-01-01 17:24:46\n",
              "\n",
              "[5 rows x 8 columns]"
            ]
          },
          "metadata": {
            "tags": []
          },
          "execution_count": 61
        }
      ]
    },
    {
      "cell_type": "markdown",
      "metadata": {
        "id": "JgmeT9ATm4E1"
      },
      "source": [
        "### Step 1 : Analysis of the year"
      ]
    },
    {
      "cell_type": "code",
      "metadata": {
        "id": "ZeKRM8pBm4E1"
      },
      "source": [
        "import matplotlib.pyplot as plt"
      ],
      "execution_count": 68,
      "outputs": []
    },
    {
      "cell_type": "code",
      "metadata": {
        "colab": {
          "base_uri": "https://localhost:8080/"
        },
        "id": "UvsxLn89m4E2",
        "outputId": "86f24a8b-76eb-4882-981b-cd54a5f66165"
      },
      "source": [
        "# verify the type of data time \n",
        "print(type(data_body.TIMESTAMP [0]))\n",
        "print(type(body_pos.TIMESTAMP [0]))"
      ],
      "execution_count": 69,
      "outputs": [
        {
          "output_type": "stream",
          "text": [
            "<class 'pandas._libs.tslibs.timestamps.Timestamp'>\n",
            "<class 'pandas._libs.tslibs.timestamps.Timestamp'>\n"
          ],
          "name": "stdout"
        }
      ]
    },
    {
      "cell_type": "code",
      "metadata": {
        "colab": {
          "base_uri": "https://localhost:8080/"
        },
        "id": "iP3jzVkpm4E2",
        "scrolled": true,
        "outputId": "3a1a6365-a43e-4afe-bf13-ffb811541cb8"
      },
      "source": [
        "# Just to have an idea of what it'll look like. \n",
        "year_positive = body_pos.groupby(data_body['TIMESTAMP'].dt.year).size()\n",
        "year_negative = body_neg.groupby(data_body['TIMESTAMP'].dt.year).size()\n",
        "\n",
        "print('Year Positive', year_positive)\n",
        "print('Year Negative', year_negative)"
      ],
      "execution_count": 70,
      "outputs": [
        {
          "output_type": "stream",
          "text": [
            "Year Positive TIMESTAMP\n",
            "2013        7\n",
            "2014    63342\n",
            "2015    88572\n",
            "2016    98167\n",
            "2017    15403\n",
            "dtype: int64\n",
            "Year Negative TIMESTAMP\n",
            "2013        7\n",
            "2014    21038\n",
            "2015       20\n",
            "2016        4\n",
            "2017        1\n",
            "dtype: int64\n"
          ],
          "name": "stdout"
        }
      ]
    },
    {
      "cell_type": "markdown",
      "metadata": {
        "id": "rZHVH_yUm4E2"
      },
      "source": [
        "So there are 5 years presented in the dataset : 2013, 2014, 2015, 2016 and 2017. "
      ]
    },
    {
      "cell_type": "code",
      "metadata": {
        "colab": {
          "base_uri": "https://localhost:8080/",
          "height": 295
        },
        "id": "vEv4Fl0tm4E2",
        "outputId": "f9e1218e-dedd-4b5c-bf57-1f4383292af2"
      },
      "source": [
        "N = 5\n",
        "ind = np.arange(N)  # the x locations for the groups\n",
        "width = 0.27       # the width of the bars\n",
        "\n",
        "fig = plt.figure()\n",
        "ax = fig.add_subplot(111)\n",
        "\n",
        " \n",
        "year_pos = body_pos.groupby(data_body['TIMESTAMP'].dt.year).size()\n",
        "rects1 = ax.bar(ind, year_pos, width, color='g')\n",
        "year_neg = body_neg.groupby(data_body['TIMESTAMP'].dt.year).size()\n",
        "\n",
        "rects2 = ax.bar(ind+width, year_neg, width, color='r')\n",
        "\n",
        "ax.set_ylabel('Number of posts')\n",
        "ax.set_xlabel('Year')\n",
        "ax.set_title('Distribution of the positive and negative posts along the year')\n",
        "ax.set_xticks(ind+width)\n",
        "ax.set_xticklabels( ('2013', '2014', '2015', '2016', '2017') )\n",
        "ax.legend( (rects1[0], rects2[0]), ('positif', 'negatif') )\n",
        "\n",
        "plt.show()"
      ],
      "execution_count": 71,
      "outputs": [
        {
          "output_type": "display_data",
          "data": {
            "image/png": "[encoded data removed]",
            "text/plain": [
              "<Figure size 432x288 with 1 Axes>"
            ]
          },
          "metadata": {
            "tags": [],
            "needs_background": "light"
          }
        }
      ]
    },
    {
      "cell_type": "markdown",
      "metadata": {
        "id": "HYKicZclm4E3"
      },
      "source": [
        "**Analysis :** \n",
        "- the number of post in 2013 is inexistant on the graph"
      ]
    },
    {
      "cell_type": "code",
      "metadata": {
        "colab": {
          "base_uri": "https://localhost:8080/",
          "height": 300
        },
        "id": "JYL1EAa9m4E4",
        "outputId": "928d333c-2697-4c17-d2fc-d8fba48ca4a9"
      },
      "source": [
        "print('The number of positive posts in 2013 is ', year_pos.iloc[0])\n",
        "print('The number of negative posts in 2013 is ', year_neg.iloc[0])\n",
        "print('So the total number of posts in 2013 is {} while in 2016 it is {}'.format(year_pos.iloc[0]+year_neg.iloc[0], vals_pos.iloc[3]+year_neg.iloc[3]))\n",
        "\n",
        "print('The number of positive posts in 2015 is {}, in 2016 is {} and in 2017 is {}'.format(year_neg.iloc[2], year_neg.iloc[3], year_neg.iloc[4]))"
      ],
      "execution_count": 72,
      "outputs": [
        {
          "output_type": "stream",
          "text": [
            "The number of positive posts in 2013 is  7\n",
            "The number of negative posts in 2013 is  7\n"
          ],
          "name": "stdout"
        },
        {
          "output_type": "error",
          "ename": "NameError",
          "evalue": "ignored",
          "traceback": [
            "\u001b[0;31m---------------------------------------------------------------------------\u001b[0m",
            "\u001b[0;31mNameError\u001b[0m                                 Traceback (most recent call last)",
            "\u001b[0;32m<ipython-input-72-d6f75780dd01>\u001b[0m in \u001b[0;36m<module>\u001b[0;34m()\u001b[0m\n\u001b[1;32m      1\u001b[0m \u001b[0mprint\u001b[0m\u001b[0;34m(\u001b[0m\u001b[0;34m'The number of positive posts in 2013 is '\u001b[0m\u001b[0;34m,\u001b[0m \u001b[0myear_pos\u001b[0m\u001b[0;34m.\u001b[0m\u001b[0miloc\u001b[0m\u001b[0;34m[\u001b[0m\u001b[0;36m0\u001b[0m\u001b[0;34m]\u001b[0m\u001b[0;34m)\u001b[0m\u001b[0;34m\u001b[0m\u001b[0;34m\u001b[0m\u001b[0m\n\u001b[1;32m      2\u001b[0m \u001b[0mprint\u001b[0m\u001b[0;34m(\u001b[0m\u001b[0;34m'The number of negative posts in 2013 is '\u001b[0m\u001b[0;34m,\u001b[0m \u001b[0myear_neg\u001b[0m\u001b[0;34m.\u001b[0m\u001b[0miloc\u001b[0m\u001b[0;34m[\u001b[0m\u001b[0;36m0\u001b[0m\u001b[0;34m]\u001b[0m\u001b[0;34m)\u001b[0m\u001b[0;34m\u001b[0m\u001b[0;34m\u001b[0m\u001b[0m\n\u001b[0;32m----> 3\u001b[0;31m \u001b[0mprint\u001b[0m\u001b[0;34m(\u001b[0m\u001b[0;34m'So the total number of posts in 2013 is {} while in 2016 it is {}'\u001b[0m\u001b[0;34m.\u001b[0m\u001b[0mformat\u001b[0m\u001b[0;34m(\u001b[0m\u001b[0myear_pos\u001b[0m\u001b[0;34m.\u001b[0m\u001b[0miloc\u001b[0m\u001b[0;34m[\u001b[0m\u001b[0;36m0\u001b[0m\u001b[0;34m]\u001b[0m\u001b[0;34m+\u001b[0m\u001b[0myear_neg\u001b[0m\u001b[0;34m.\u001b[0m\u001b[0miloc\u001b[0m\u001b[0;34m[\u001b[0m\u001b[0;36m0\u001b[0m\u001b[0;34m]\u001b[0m\u001b[0;34m,\u001b[0m \u001b[0mvals_pos\u001b[0m\u001b[0;34m.\u001b[0m\u001b[0miloc\u001b[0m\u001b[0;34m[\u001b[0m\u001b[0;36m3\u001b[0m\u001b[0;34m]\u001b[0m\u001b[0;34m+\u001b[0m\u001b[0myear_neg\u001b[0m\u001b[0;34m.\u001b[0m\u001b[0miloc\u001b[0m\u001b[0;34m[\u001b[0m\u001b[0;36m3\u001b[0m\u001b[0;34m]\u001b[0m\u001b[0;34m)\u001b[0m\u001b[0;34m)\u001b[0m\u001b[0;34m\u001b[0m\u001b[0;34m\u001b[0m\u001b[0m\n\u001b[0m\u001b[1;32m      4\u001b[0m \u001b[0;34m\u001b[0m\u001b[0m\n\u001b[1;32m      5\u001b[0m \u001b[0mprint\u001b[0m\u001b[0;34m(\u001b[0m\u001b[0;34m'The number of positive posts in 2015 is {}, in 2016 is {} and in 2017 is {}'\u001b[0m\u001b[0;34m.\u001b[0m\u001b[0mformat\u001b[0m\u001b[0;34m(\u001b[0m\u001b[0myear_neg\u001b[0m\u001b[0;34m.\u001b[0m\u001b[0miloc\u001b[0m\u001b[0;34m[\u001b[0m\u001b[0;36m2\u001b[0m\u001b[0;34m]\u001b[0m\u001b[0;34m,\u001b[0m \u001b[0myear_neg\u001b[0m\u001b[0;34m.\u001b[0m\u001b[0miloc\u001b[0m\u001b[0;34m[\u001b[0m\u001b[0;36m3\u001b[0m\u001b[0;34m]\u001b[0m\u001b[0;34m,\u001b[0m \u001b[0myear_neg\u001b[0m\u001b[0;34m.\u001b[0m\u001b[0miloc\u001b[0m\u001b[0;34m[\u001b[0m\u001b[0;36m4\u001b[0m\u001b[0;34m]\u001b[0m\u001b[0;34m)\u001b[0m\u001b[0;34m)\u001b[0m\u001b[0;34m\u001b[0m\u001b[0;34m\u001b[0m\u001b[0m\n",
            "\u001b[0;31mNameError\u001b[0m: name 'vals_pos' is not defined"
          ]
        }
      ]
    },
    {
      "cell_type": "markdown",
      "metadata": {
        "id": "u9-7IzfAm4E4"
      },
      "source": [
        "- As we can see here, it might come from a problem of scale, as sometimes even if the amount of post is not null, no bar appear.The total amount of posts (positive and negative) during 2013 is very very small compared to the number of posts 2016. It is the same for the 2015 2016 and 2017 for the negative posts that don't appear, even if when we are calling the numbers they do exists. Their value is too small compared to the value of negative posts in 2014 to be seen on a graph, even when plotted alone. The small amount of posts in 2013 could be explained by the gain of popularity of the website, or the change in behavior of the population (who is more and more connected via internet and social network, and have better access to technology). The big amount of negative votes might comes from an external events. \n",
        "\n",
        "- the brutal decrease in 2017 in both positive and negative edges might be explained by loose of popularity, or the apparition of another website more performant than reddit. \n",
        "\n",
        "To be able to identify the trend among the year, we compute the ratio of neg/pos*100. "
      ]
    },
    {
      "cell_type": "code",
      "metadata": {
        "id": "vLInQVW-m4E4",
        "colab": {
          "base_uri": "https://localhost:8080/",
          "height": 295
        },
        "outputId": "c4a593d5-23af-406c-8fd5-f8dff2354b9a"
      },
      "source": [
        "ratio = [(int(b) / int(m))*100 for b,m in zip(year_neg, year_pos)]\n",
        "N = 5\n",
        "ind = np.arange(N)  # the x locations for the groups\n",
        "width = 0.27       # the width of the bars\n",
        "\n",
        "fig = plt.figure()\n",
        "ax = fig.add_subplot(111)\n",
        "\n",
        "\n",
        "rects1 = ax.bar(ind, ratio, width, color='b')\n",
        "ax.set_ylabel('Ratio')\n",
        "ax.set_xlabel('Year')\n",
        "ax.set_title('Distribution of the ratio from January to December')\n",
        "ax.set_xticks(ind)\n",
        "ax.set_xticklabels( ('2013', '2014', '2015', '2016', '2017'))\n",
        "ax.legend('ratio neg/pos*100')\n",
        "\n",
        "plt.show()"
      ],
      "execution_count": 73,
      "outputs": [
        {
          "output_type": "display_data",
          "data": {
            "image/png": "[encoded data removed]",
            "text/plain": [
              "<Figure size 432x288 with 1 Axes>"
            ]
          },
          "metadata": {
            "tags": [],
            "needs_background": "light"
          }
        }
      ]
    },
    {
      "cell_type": "markdown",
      "metadata": {
        "id": "iVtSSXQCm4E5"
      },
      "source": [
        "- So here we see 3 parts : 2013 (lot of negative votes), 2014 (almost 50% 50%) and 2015-2016-2017 (almost no negative votes. \n",
        "- As we are doing this in order to compare the structure of the subnetworks, it will be easier if the networks are really different. So between 2015 2016 and 2017 we will choose 2016 as it is the year with the higher amount of positive votes, the negatives ones being quite constant along these 3 years. \n",
        "- in 2013 as we have seen there are only 7 positive and 7 negatives votes. So it is too small network to do an analysis. \n",
        "\n",
        "**Ccl :** In order to assess the impact of the **YEAR** on the structure of the network, we can compare 2 subgraphs : \n",
        "> - from the year 2014\n",
        "> - from the year 2016"
      ]
    },
    {
      "cell_type": "markdown",
      "metadata": {
        "id": "9bEGKmTsm4E5"
      },
      "source": [
        "### Step 2: Analysis of the month "
      ]
    },
    {
      "cell_type": "code",
      "metadata": {
        "id": "1fLejw_vm4E5",
        "colab": {
          "base_uri": "https://localhost:8080/"
        },
        "outputId": "0dca297a-9dc5-4fd8-b306-03ba5743594e"
      },
      "source": [
        "month_positive = body_pos.groupby(data_body['TIMESTAMP'].dt.month).size()\n",
        "month_negative = body_neg.groupby(data_body['TIMESTAMP'].dt.month).size()\n",
        "print('Month Positive', month_positive)\n",
        "print('Month Negative', month_negative)"
      ],
      "execution_count": 74,
      "outputs": [
        {
          "output_type": "stream",
          "text": [
            "Month Positive TIMESTAMP\n",
            "1     28143\n",
            "2     25743\n",
            "3     21491\n",
            "4     20343\n",
            "5     20469\n",
            "6     21184\n",
            "7     22312\n",
            "8     23195\n",
            "9     19522\n",
            "10    21067\n",
            "11    20528\n",
            "12    21494\n",
            "dtype: int64\n",
            "Month Negative TIMESTAMP\n",
            "1     4422\n",
            "2     4425\n",
            "3     5363\n",
            "4     4980\n",
            "5     1822\n",
            "6        9\n",
            "7       12\n",
            "8        3\n",
            "9        3\n",
            "10       1\n",
            "11      19\n",
            "12      11\n",
            "dtype: int64\n"
          ],
          "name": "stdout"
        }
      ]
    },
    {
      "cell_type": "markdown",
      "metadata": {
        "id": "vtGMT6QPm4E5"
      },
      "source": [
        "So 12 months are represented : 01 ... 12 in the dataset. "
      ]
    },
    {
      "cell_type": "code",
      "metadata": {
        "id": "IKf9K87_m4E6",
        "colab": {
          "base_uri": "https://localhost:8080/",
          "height": 295
        },
        "outputId": "005e4fbd-aa7f-4530-cc18-52219c2d66b4"
      },
      "source": [
        "N = 12\n",
        "ind = np.arange(N)  # the x locations for the groups\n",
        "width = 0.27       # the width of the bars\n",
        "\n",
        "fig = plt.figure()\n",
        "ax = fig.add_subplot(111)\n",
        "\n",
        " \n",
        "month_pos = body_pos.groupby(data_body['TIMESTAMP'].dt.month).size()\n",
        "rects1 = ax.bar(ind, month_pos, width, color='g')\n",
        "month_neg = body_neg.groupby(data_body['TIMESTAMP'].dt.month).size()\n",
        "rects2 = ax.bar(ind+width, month_neg, width, color='r')\n",
        "\n",
        "ax.set_ylabel('Number of posts')\n",
        "ax.set_xlabel('Month')\n",
        "ax.set_title('Distribution of the positive and negative posts from January to December')\n",
        "ax.set_xticks(ind+width)\n",
        "ax.set_xticklabels( ('01', '02', '03', '04', '05', '06', '07', '08', '09', '10', '11', '12'))\n",
        "ax.legend( (rects1[0], rects2[0]), ('positif', 'negatif') )\n",
        "\n",
        "plt.show()"
      ],
      "execution_count": 75,
      "outputs": [
        {
          "output_type": "display_data",
          "data": {
            "image/png": "[encoded data removed]",
            "text/plain": [
              "<Figure size 432x288 with 1 Axes>"
            ]
          },
          "metadata": {
            "tags": [],
            "needs_background": "light"
          }
        }
      ]
    },
    {
      "cell_type": "markdown",
      "metadata": {
        "id": "oN5_tbJEm4E6"
      },
      "source": [
        "**Analysis :**\n",
        "- All the month do have posts\n",
        "- The difference between the number of positive and negative posts is huge, all along the year and depsite intern fluctation\n",
        "- The number of negative posts is higher at the beginning of the year (01-05) than at the end of the year (06-12)\n",
        "- So we can identify to main part on the graph : when we have both green and red barplots (01-50) and when we don't have green and red. \n",
        "- Also we can identify 2 main values of counts : around 20 000 and around 25 000 \n",
        " "
      ]
    },
    {
      "cell_type": "markdown",
      "metadata": {
        "id": "quXKWVFDm4E6"
      },
      "source": [
        "First compute the ration of positive and negative posts, to se if it is quite constant or not. "
      ]
    },
    {
      "cell_type": "code",
      "metadata": {
        "id": "N4Pabqvlm4E7",
        "colab": {
          "base_uri": "https://localhost:8080/",
          "height": 295
        },
        "outputId": "9c70f5d7-6009-4735-ab2c-0ccc4b78d402"
      },
      "source": [
        "ratio = [(int(b) / int(m))*100 for b,m in zip(month_neg, month_pos)]\n",
        "N = 12\n",
        "ind = np.arange(N)  # the x locations for the groups\n",
        "width = 0.27       # the width of the bars\n",
        "\n",
        "fig = plt.figure()\n",
        "ax = fig.add_subplot(111)\n",
        "\n",
        "\n",
        "rects1 = ax.bar(ind, ratio, width, color='b')\n",
        "ax.set_ylabel('ratio')\n",
        "ax.set_xlabel('month')\n",
        "ax.set_title('Distribution of the ratio from January to December')\n",
        "ax.set_xticks(ind)\n",
        "ax.set_xticklabels( ('01', '02', '03', '04', '05', '06', '07', '08', '09', '10', '11', '12'))\n",
        "ax.legend('ratio neg/pos*100')\n",
        "\n",
        "plt.show()"
      ],
      "execution_count": 76,
      "outputs": [
        {
          "output_type": "display_data",
          "data": {
            "image/png": "[encoded data removed]",
            "text/plain": [
              "<Figure size 432x288 with 1 Axes>"
            ]
          },
          "metadata": {
            "tags": [],
            "needs_background": "light"
          }
        }
      ]
    },
    {
      "cell_type": "markdown",
      "metadata": {
        "id": "YG5ocSd-m4E7"
      },
      "source": [
        "- So here we have 3 parts : 01-02-05 with ratio between 10 and 15, 03-04 with ratio around 25 and 06-->12 with ratio very very small. So we'll pick one month representing each of this part to continue the analysis. "
      ]
    },
    {
      "cell_type": "code",
      "metadata": {
        "id": "IVKSfUfKm4E7"
      },
      "source": [
        "import statistics"
      ],
      "execution_count": 77,
      "outputs": []
    },
    {
      "cell_type": "code",
      "metadata": {
        "id": "wzinenJQm4E8",
        "colab": {
          "base_uri": "https://localhost:8080/"
        },
        "outputId": "108056c3-0719-4696-9b4e-b1edc3a7884d"
      },
      "source": [
        "# 01 - 02 - 05 \n",
        "mean_010205_pos = statistics.mean([month_pos.iloc[0], month_pos.iloc[1], month_pos.iloc[4]])\n",
        "print('The mean count of posts from jan. to apr. is ', mean_010205_pos)\n",
        "print('The difference between number of counts and mean for january, february and may is respectively: \\n',[abs(x - mean_010205_pos) for x in [month_pos.iloc[0], month_pos.iloc[1], month_pos.iloc[4]]])"
      ],
      "execution_count": 78,
      "outputs": [
        {
          "output_type": "stream",
          "text": [
            "The mean count of posts from jan. to apr. is  24785\n",
            "The difference between number of counts and mean for january, february and may is respectively: \n",
            " [3358, 958, 4316]\n"
          ],
          "name": "stdout"
        }
      ]
    },
    {
      "cell_type": "markdown",
      "metadata": {
        "id": "BRiMT-pzm4E8"
      },
      "source": [
        "So we see that the average value of positive post between january, february and may is 24785. We also see that the month with the number of counts the closer to this mean is february (it as the small difference, 358) and thus the more representative."
      ]
    },
    {
      "cell_type": "code",
      "metadata": {
        "id": "XkaWSZnem4E8",
        "colab": {
          "base_uri": "https://localhost:8080/"
        },
        "outputId": "1a5edcaf-876b-434a-d05e-09c18bdbfd33"
      },
      "source": [
        "# 03 - 04 \n",
        "mean_0304_pos = statistics.mean([month_pos.iloc[2], month_pos.iloc[3]])\n",
        "print('The mean count of posts from jan. to apr. is ', mean_0304_pos)\n",
        "print('The difference between number of counts and mean for march and april is respectively: \\n',[abs(x - mean_0304_pos) for x in [month_pos.iloc[2], month_pos.iloc[3]]])"
      ],
      "execution_count": 79,
      "outputs": [
        {
          "output_type": "stream",
          "text": [
            "The mean count of posts from jan. to apr. is  20917\n",
            "The difference between number of counts and mean for march and april is respectively: \n",
            " [574, 574]\n"
          ],
          "name": "stdout"
        }
      ]
    },
    {
      "cell_type": "markdown",
      "metadata": {
        "id": "grp7tgnsm4E8"
      },
      "source": [
        "So we see that the average number of positive counts between march and april is 20917. We also see that both are at equal distance to the mean. We will choose march because it has a high number of votes and thus might be more rich in the further analysis. "
      ]
    },
    {
      "cell_type": "code",
      "metadata": {
        "id": "pFfI_9rFm4E9",
        "colab": {
          "base_uri": "https://localhost:8080/"
        },
        "outputId": "3b51c674-b152-4404-f078-4e449d9fa076"
      },
      "source": [
        "# 06 - 12 \n",
        "# 03 - 04 \n",
        "mean_0612_pos = statistics.mean([month_pos.iloc[5], month_pos.iloc[6], month_pos.iloc[7], month_pos.iloc[8], month_pos.iloc[9], month_pos.iloc[10], month_pos.iloc[11]])\n",
        "print('The mean count of posts from jan. to apr. is ', mean_0612_pos)\n",
        "print('The difference between number of counts and mean for march and april is respectively: \\n',[abs(x - mean_0612_pos) for x in [month_pos.iloc[5], month_pos.iloc[6], month_pos.iloc[7], month_pos.iloc[8], month_pos.iloc[9], month_pos.iloc[10], month_pos.iloc[11]]])\n"
      ],
      "execution_count": 80,
      "outputs": [
        {
          "output_type": "stream",
          "text": [
            "The mean count of posts from jan. to apr. is  21328\n",
            "The difference between number of counts and mean for march and april is respectively: \n",
            " [144, 984, 1867, 1806, 261, 800, 166]\n"
          ],
          "name": "stdout"
        }
      ]
    },
    {
      "cell_type": "markdown",
      "metadata": {
        "id": "2BQfVxK5m4E9"
      },
      "source": [
        "So we see that the average number of positive edges between march and april is 21328. We also see that the month closer to this average is june (difference smaller, 144) and thus it is the more representative."
      ]
    },
    {
      "cell_type": "markdown",
      "metadata": {
        "id": "rfN6Sshzm4E9"
      },
      "source": [
        "**Ccl :** In order to assess the impact of the **MONTH** on the structure of the network, we can compare 2 subgraphs : \n",
        "> - from february (representative of the first group - ratio 10 -)\n",
        "> - from march (representative of the second group, -ratio 25-)\n",
        "> - from june (representative of the third group, -ration almost null)"
      ]
    },
    {
      "cell_type": "markdown",
      "metadata": {
        "id": "uiV-GXdem4E9"
      },
      "source": [
        "### Step 3: Analysis of the day"
      ]
    },
    {
      "cell_type": "code",
      "metadata": {
        "id": "vjfHYZzQm4E-",
        "colab": {
          "base_uri": "https://localhost:8080/"
        },
        "outputId": "0d342ed5-851f-43df-a286-9bbb4699cd97"
      },
      "source": [
        "day_positive = body_pos.groupby(data_body['TIMESTAMP'].dt.day).size()\n",
        "day_negative = body_neg.groupby(data_body['TIMESTAMP'].dt.day).size()\n",
        "print('Month Positive', day_positive)\n",
        "print('Month Negative', day_negative)"
      ],
      "execution_count": 82,
      "outputs": [
        {
          "output_type": "stream",
          "text": [
            "Month Positive TIMESTAMP\n",
            "1     8535\n",
            "2     9120\n",
            "3     8966\n",
            "4     8436\n",
            "5     8690\n",
            "6     8941\n",
            "7     8561\n",
            "8     8572\n",
            "9     8645\n",
            "10    8825\n",
            "11    9029\n",
            "12    8810\n",
            "13    8715\n",
            "14    8367\n",
            "15    8887\n",
            "16    9349\n",
            "17    9153\n",
            "18    8787\n",
            "19    8666\n",
            "20    9198\n",
            "21    8516\n",
            "22    8610\n",
            "23    8393\n",
            "24    8400\n",
            "25    8424\n",
            "26    8318\n",
            "27    8778\n",
            "28    8299\n",
            "29    8217\n",
            "30    8236\n",
            "31    5048\n",
            "dtype: int64\n",
            "Month Negative TIMESTAMP\n",
            "1     671\n",
            "2     764\n",
            "3     777\n",
            "4     773\n",
            "5     742\n",
            "6     909\n",
            "7     770\n",
            "8     806\n",
            "9     767\n",
            "10    797\n",
            "11    855\n",
            "12    625\n",
            "13    631\n",
            "14    618\n",
            "15    628\n",
            "16    692\n",
            "17    738\n",
            "18    617\n",
            "19    637\n",
            "20    603\n",
            "21    586\n",
            "22    640\n",
            "23    640\n",
            "24    691\n",
            "25    683\n",
            "26    630\n",
            "27    659\n",
            "28    664\n",
            "29    561\n",
            "30    531\n",
            "31    365\n",
            "dtype: int64\n"
          ],
          "name": "stdout"
        }
      ]
    },
    {
      "cell_type": "markdown",
      "metadata": {
        "id": "npKIVnS8m4E-"
      },
      "source": [
        "So we see that all the 31 days of a month are represented in the dataset. "
      ]
    },
    {
      "cell_type": "code",
      "metadata": {
        "id": "0sJszYcVm4E-",
        "colab": {
          "base_uri": "https://localhost:8080/",
          "height": 295
        },
        "outputId": "21f0495f-3838-4729-94af-10a47052f247"
      },
      "source": [
        "N = 31\n",
        "ind = np.arange(N)  # the x locations for the groups\n",
        "width = 0.27       # the width of the bars\n",
        "\n",
        "fig = plt.figure()\n",
        "ax = fig.add_subplot(111)\n",
        "\n",
        " \n",
        "day_pos = body_pos.groupby(data_body['TIMESTAMP'].dt.day).size()\n",
        "rects1 = ax.bar(ind, day_pos, width, color='g')\n",
        "day_neg = body_neg.groupby(data_body['TIMESTAMP'].dt.day).size()\n",
        "rects2 = ax.bar(ind+width, day_neg, width, color='r')\n",
        "\n",
        "ax.set_ylabel('Number of posts')\n",
        "ax.set_xlabel('Day')\n",
        "ax.set_title('Distribution of the positive and negative posts along the days of a month')\n",
        "ax.set_xticks(ind+width)\n",
        "ax.set_xticklabels( ('01', '02', '03', '04', '05', '06', '07', '08', '09', '10', '11', '12', '13', '14', '15', '16', '17', '18', '19', '20', '21', '22', '23', '24', '25', '26' ,'27', '28', '29', '30', '31'))\n",
        "ax.legend((rects1[0], rects2[0]), ('positif', 'negatif'))\n",
        "\n",
        "plt.show()"
      ],
      "execution_count": 83,
      "outputs": [
        {
          "output_type": "display_data",
          "data": {
            "image/png": "[encoded data removed]",
            "text/plain": [
              "<Figure size 432x288 with 1 Axes>"
            ]
          },
          "metadata": {
            "tags": [],
            "needs_background": "light"
          }
        }
      ]
    },
    {
      "cell_type": "markdown",
      "metadata": {
        "id": "Eg73EXE3m4E-"
      },
      "source": [
        "**Analysis :** \n",
        "- graph not very lisible (**Change the size ?**)\n",
        "- the abrupt decrease for day 31 is because only half of the month in a year have a 31th day, so obviously there are less posts (pos and neg) done that day\n",
        "- the amount of positive post is very small compared to amount of positif posts, for all the days \n",
        "- General manner : both positive and negative counts seams to be relatively constant along the days of a month, they are some fluctuations (more visible for positive posts) but it is hard to highlight clear trend. \n",
        "\n",
        "**Ccle :** We need to do further analysis on the days to be able to identify trends. So we are going to look at the number of posts according to the day of the weem: monday, tuesday ... sunday. \n",
        "\n",
        "Compute the ratio"
      ]
    },
    {
      "cell_type": "code",
      "metadata": {
        "id": "S83CLap2m4E_",
        "outputId": "4a9f501b-e851-43fd-b0c7-6a4ce59bf478"
      },
      "source": [
        "ratio = [(int(b) / int(m))*100 for b,m in zip(day_neg, day_pos)]\n",
        "N = 31\n",
        "ind = np.arange(N)  # the x locations for the groups\n",
        "width = 0.27       # the width of the bars\n",
        "\n",
        "fig = plt.figure()\n",
        "ax = fig.add_subplot(111)\n",
        "\n",
        "rects1 = ax.bar(ind, ratio, width, color='b')\n",
        "\n",
        "ax.set_ylabel('ratio')\n",
        "ax.set_xlabel('Day')\n",
        "ax.set_title('Distribution ratio  along the days of a month')\n",
        "ax.set_xticks(ind)\n",
        "ax.set_xticklabels( ('1', '2', '3', '4', '5', '6', '7', '8', '9', '10', '11', '12', '13', '14', '15', '16', '17', '18', '19', '20', '21', '22', '23', '24', '25', '26' ,'27', '28', '29', '30', '31'))\n",
        "ax.legend('ratio')\n",
        "plt.show()"
      ],
      "execution_count": null,
      "outputs": [
        {
          "output_type": "display_data",
          "data": {
            "image/png": "[encoded data removed]",
            "text/plain": [
              "<Figure size 432x288 with 1 Axes>"
            ]
          },
          "metadata": {
            "tags": []
          }
        }
      ]
    },
    {
      "cell_type": "markdown",
      "metadata": {
        "id": "BCSlifMFm4E_"
      },
      "source": [
        "- still hard to identify a trend. Have to look on the day og the week to try to identify pattern"
      ]
    },
    {
      "cell_type": "markdown",
      "metadata": {
        "id": "AX3Su0oFm4E_"
      },
      "source": [
        "#### Step 3 : cont. Analysis day of the week"
      ]
    },
    {
      "cell_type": "code",
      "metadata": {
        "id": "8L71fWgjm4E_",
        "colab": {
          "base_uri": "https://localhost:8080/"
        },
        "outputId": "906caca7-ad2f-4b9d-d55b-b564aab0f3fa"
      },
      "source": [
        "day_positive = body_pos.groupby(data_body['TIMESTAMP'].dt.weekday).size()\n",
        "day_negative = body_neg.groupby(data_body['TIMESTAMP'].dt.weekday).size()\n",
        "print('Month Positive', day_positive)\n",
        "print('Month Negative', day_negative)"
      ],
      "execution_count": 84,
      "outputs": [
        {
          "output_type": "stream",
          "text": [
            "Month Positive TIMESTAMP\n",
            "0    40390\n",
            "1    40945\n",
            "2    40052\n",
            "3    39617\n",
            "4    37373\n",
            "5    32527\n",
            "6    34587\n",
            "dtype: int64\n",
            "Month Negative TIMESTAMP\n",
            "0    3101\n",
            "1    3458\n",
            "2    3145\n",
            "3    3123\n",
            "4    2956\n",
            "5    2542\n",
            "6    2745\n",
            "dtype: int64\n"
          ],
          "name": "stdout"
        }
      ]
    },
    {
      "cell_type": "markdown",
      "metadata": {
        "id": "-Z81qpNMm4FA"
      },
      "source": [
        "So the days reprensented in the dataset are from 0 (monday) to 6 (sunday). "
      ]
    },
    {
      "cell_type": "code",
      "metadata": {
        "id": "icE3UOpam4FA",
        "colab": {
          "base_uri": "https://localhost:8080/",
          "height": 295
        },
        "outputId": "f987776e-91b1-4325-9768-52c7821a27e3"
      },
      "source": [
        "N = 7\n",
        "ind = np.arange(N)  # the x locations for the groups\n",
        "width = 0.27       # the width of the bars\n",
        "\n",
        "fig = plt.figure()\n",
        "ax = fig.add_subplot(111)\n",
        "\n",
        " \n",
        "dayw_pos = body_pos.groupby(data_body['TIMESTAMP'].dt.weekday).size()\n",
        "rects1 = ax.bar(ind, dayw_pos, width, color='g')\n",
        "dayw_neg = body_neg.groupby(data_body['TIMESTAMP'].dt.weekday).size()\n",
        "rects2 = ax.bar(ind+width, dayw_neg, width, color='r')\n",
        "\n",
        "ax.set_ylabel('Number of posts')\n",
        "ax.set_xlabel('Day')\n",
        "ax.set_title('Distribution of the positive and negative posts along the days of a week')\n",
        "ax.set_xticks(ind+width)\n",
        "ax.set_xticklabels( ('mon.', 'tue.', 'wed.', 'thu.', 'fri.', 'sat.', 'sun.'))\n",
        "ax.legend((rects1[0], rects2[0]), ('positif', 'negatif'))\n",
        "\n",
        "plt.show()"
      ],
      "execution_count": 85,
      "outputs": [
        {
          "output_type": "display_data",
          "data": {
            "image/png": "[encoded data removed]",
            "text/plain": [
              "<Figure size 432x288 with 1 Axes>"
            ]
          },
          "metadata": {
            "tags": [],
            "needs_background": "light"
          }
        }
      ]
    },
    {
      "cell_type": "markdown",
      "metadata": {
        "id": "Qo4S_lVdm4FA"
      },
      "source": [
        "**Analysis :**\n",
        "- As for the other parameter (year, month, day of the month), the amount of positive posts is higher than the amount of negative posts\n",
        "- The amount of negative posts is quite constant along the week \n",
        "- the amount of positive posts is smaller the week end, and quite constant during the week. It might be explained by the routine of the week, so the habits of beeing on the website for coffe break for example, while the week end, the events are more random and technology connection can be smaller. \n"
      ]
    },
    {
      "cell_type": "markdown",
      "metadata": {
        "id": "yu537mz8m4FA"
      },
      "source": [
        "Compute the ratio to ensure this analysis"
      ]
    },
    {
      "cell_type": "code",
      "metadata": {
        "id": "s2ZhmErdm4FB",
        "colab": {
          "base_uri": "https://localhost:8080/",
          "height": 332
        },
        "outputId": "c71afdbd-c395-4d16-8c85-8cb96c914de9"
      },
      "source": [
        "ratio = [(int(b) / int(m))*100 for b,m in zip(dayw_neg, dayw_pos)]\n",
        "print(ratio)\n",
        "N = 7\n",
        "ind = np.arange(N)  # the x locations for the groups\n",
        "width = 0.27       # the width of the bars\n",
        "\n",
        "fig = plt.figure()\n",
        "ax = fig.add_subplot(111)\n",
        "\n",
        "rects1 = ax.bar(ind, ratio, width, color='b')\n",
        "\n",
        "ax.set_ylabel('ratio')\n",
        "ax.set_xlabel('Day of the week')\n",
        "ax.set_title('Distribution ratio  along the days of a week')\n",
        "ax.set_xticks(ind)\n",
        "ax.set_xticklabels( ('mon.', 'tue.', 'wed.', 'thu.', 'fri.', 'sat.', 'sun.'))\n",
        "ax.legend('ratio')\n",
        "plt.show()"
      ],
      "execution_count": 86,
      "outputs": [
        {
          "output_type": "stream",
          "text": [
            "[7.677642980935875, 8.445475638051043, 7.852292020373515, 7.882979528990081, 7.909453348674177, 7.815045961816337, 7.936507936507936]\n"
          ],
          "name": "stdout"
        },
        {
          "output_type": "display_data",
          "data": {
            "image/png": "[encoded data removed]",
            "text/plain": [
              "<Figure size 432x288 with 1 Axes>"
            ]
          },
          "metadata": {
            "tags": [],
            "needs_background": "light"
          }
        }
      ]
    },
    {
      "cell_type": "markdown",
      "metadata": {
        "id": "uvnf1I6zm4FB"
      },
      "source": [
        "- here we can see that in fact the ratio of positive and negative edge is quite the same all along the week \n",
        "- there is only in tuesday that the ratio is a bit bigger. \n",
        "\n",
        "**Ccl :** We can do analysis on the subset from tuesday, and one from another day of the week (ratio is similar) but as the difference is not very big, not sure we ll see something on the structure of the network.\n",
        "\n",
        "We can also do subsets from the week and from the week, as the size of the pool of posts is not the same ???"
      ]
    },
    {
      "cell_type": "markdown",
      "metadata": {
        "id": "QyDvr0XEm4FB"
      },
      "source": [
        "#### Step 4: Analysis of the hour "
      ]
    },
    {
      "cell_type": "code",
      "metadata": {
        "id": "zmd0xTTNm4FB",
        "colab": {
          "base_uri": "https://localhost:8080/"
        },
        "outputId": "0507e417-3042-4d5c-99c6-116540fa60e8"
      },
      "source": [
        "hour_positive = body_pos.groupby(data_body['TIMESTAMP'].dt.hour).size()\n",
        "hour_negative = body_neg.groupby(data_body['TIMESTAMP'].dt.hour).size()\n",
        "print('Month Positive', hour_positive)\n",
        "print('Month Negative', hour_negative)"
      ],
      "execution_count": 87,
      "outputs": [
        {
          "output_type": "stream",
          "text": [
            "Month Positive TIMESTAMP\n",
            "0      7089\n",
            "1      6045\n",
            "2      5634\n",
            "3      6100\n",
            "4      6867\n",
            "5      7819\n",
            "6      9938\n",
            "7     12069\n",
            "8     13372\n",
            "9     14426\n",
            "10    14189\n",
            "11    14887\n",
            "12    14571\n",
            "13    14617\n",
            "14    14994\n",
            "15    14149\n",
            "16    13267\n",
            "17    13167\n",
            "18    12418\n",
            "19    11889\n",
            "20    10925\n",
            "21     9900\n",
            "22     8934\n",
            "23     8225\n",
            "dtype: int64\n",
            "Month Negative TIMESTAMP\n",
            "0      423\n",
            "1      378\n",
            "2      368\n",
            "3      331\n",
            "4      433\n",
            "5      509\n",
            "6      835\n",
            "7      830\n",
            "8      983\n",
            "9     1335\n",
            "10    1167\n",
            "11    1347\n",
            "12    1232\n",
            "13    1208\n",
            "14    1345\n",
            "15    1185\n",
            "16    1091\n",
            "17    1059\n",
            "18    1025\n",
            "19     961\n",
            "20     892\n",
            "21     816\n",
            "22     757\n",
            "23     560\n",
            "dtype: int64\n"
          ],
          "name": "stdout"
        }
      ]
    },
    {
      "cell_type": "code",
      "metadata": {
        "id": "b0BjH3Cdm4FC",
        "colab": {
          "base_uri": "https://localhost:8080/",
          "height": 295
        },
        "outputId": "101900eb-3b3c-4c57-fdaf-43d4431d362d"
      },
      "source": [
        "N = 24\n",
        "ind = np.arange(N)  # the x locations for the groups\n",
        "width = 0.27       # the width of the bars\n",
        "\n",
        "fig = plt.figure()\n",
        "ax = fig.add_subplot(111)\n",
        "\n",
        "hour_pos = body_pos.groupby(data_body['TIMESTAMP'].dt.hour).size()\n",
        "rects1 = ax.bar(ind, hour_pos, width, color='g')\n",
        "hour_neg = body_neg.groupby(data_body['TIMESTAMP'].dt.hour).size()\n",
        "rects2 = ax.bar(ind+width, hour_neg, width, color='r')\n",
        "\n",
        "ax.set_ylabel('Number of posts')\n",
        "ax.set_xlabel('Hour of the day')\n",
        "ax.set_title('Distribution of the positive and negative posts along the hours of a day')\n",
        "ax.set_xticks(ind+width)\n",
        "ax.set_xticklabels(('00', '01', '02', '03', '04', '05', '06', '07', '08', '09', '10', '11', '12', '13', '14', '15', '16', '17', '18', '19', '20', '21', '22', '23'))\n",
        "ax.legend((rects1[0], rects2[0]), ('positif', 'negatif'))\n",
        "\n",
        "plt.show()"
      ],
      "execution_count": 88,
      "outputs": [
        {
          "output_type": "display_data",
          "data": {
            "image/png": "[encoded data removed]",
            "text/plain": [
              "<Figure size 432x288 with 1 Axes>"
            ]
          },
          "metadata": {
            "tags": [],
            "needs_background": "light"
          }
        }
      ]
    },
    {
      "cell_type": "markdown",
      "metadata": {
        "id": "9rF-05JUm4FC"
      },
      "source": [
        "**Analysis :**\n",
        "- Seems to have smaller number of posts during night and a lot during the afternoon. Quite logical. Positive and negatives posts seams to have quite the same evolution, need to compute the ratio to show it more clearly."
      ]
    },
    {
      "cell_type": "code",
      "metadata": {
        "id": "8swV8pFdm4FC",
        "outputId": "e6e72585-0505-4f98-fc2d-6474fe838764"
      },
      "source": [
        "ratio = [(int(b) / int(m))*100 for b,m in zip(hour_neg, hour_pos)]\n",
        "N = 24\n",
        "ind = np.arange(N)  # the x locations for the groups\n",
        "width = 0.27       # the width of the bars\n",
        "\n",
        "fig = plt.figure()\n",
        "ax = fig.add_subplot(111)\n",
        "\n",
        "rects1 = ax.bar(ind, ratio, width, color='b')\n",
        "\n",
        "ax.set_ylabel('ratio')\n",
        "ax.set_xlabel('hours of a day')\n",
        "ax.set_title('Distribution ratio  along the hours of a day')\n",
        "ax.set_xticks(ind)\n",
        "ax.set_xticklabels(('00', '01', '02', '03', '04', '05', '06', '07', '08', '09', '10', '11', '12', '13', '14', '15', '16', '17', '18', '19', '20', '21', '22', '23'))\n",
        "ax.legend('ratio')\n",
        "plt.show()"
      ],
      "execution_count": null,
      "outputs": [
        {
          "output_type": "display_data",
          "data": {
            "image/png": "[encoded data removed]",
            "text/plain": [
              "<Figure size 432x288 with 1 Axes>"
            ]
          },
          "metadata": {
            "tags": []
          }
        }
      ]
    },
    {
      "cell_type": "markdown",
      "metadata": {
        "id": "qfc4QRXCm4FC"
      },
      "source": [
        "- we can identify three part : low ration (5-7) for 00, 01, 02, 03, 04, 05, 07, 23 ; middle ratio (8) for 06, 10, 12, 13, 15, 16, 17, 18, 19, 20, 21, 22 and high ratio (9) for 09, 11 and 14\n",
        "\n",
        "- need to find a relevent hour for each of these parts\n"
      ]
    },
    {
      "cell_type": "code",
      "metadata": {
        "id": "0iGp-QGpm4FL",
        "outputId": "5c798425-395f-4573-e3df-f28e5fc43d76"
      },
      "source": [
        "# ratio 5-7 \n",
        "mean_r57_pos = statistics.mean([hour_pos.iloc[0], hour_pos.iloc[1], hour_pos.iloc[2], hour_pos.iloc[3], hour_pos.iloc[4], hour_pos.iloc[5], hour_pos.iloc[7], hour_pos.iloc[23]])\n",
        "print('The mean count of posts from jan. to apr. is ', mean_r57_pos)\n",
        "print('The difference between number of counts and mean for march and april is respectively: \\n',[abs(x - mean_r57_pos) for x in[hour_pos.iloc[0], hour_pos.iloc[1], hour_pos.iloc[2], hour_pos.iloc[3], hour_pos.iloc[4], hour_pos.iloc[5], hour_pos.iloc[7], hour_pos.iloc[23]]])\n"
      ],
      "execution_count": null,
      "outputs": [
        {
          "output_type": "stream",
          "text": [
            "The mean count of posts from jan. to apr. is  7481\n",
            "The difference between number of counts and mean for march and april is respectively: \n",
            " [392, 1436, 1847, 1381, 614, 338, 4588, 744]\n"
          ],
          "name": "stdout"
        }
      ]
    },
    {
      "cell_type": "markdown",
      "metadata": {
        "id": "A_PKtzIsm4FL"
      },
      "source": [
        "- the more representative for the ratio 5-7 is 7h "
      ]
    },
    {
      "cell_type": "markdown",
      "metadata": {
        "id": "yPji7fUym4FN"
      },
      "source": [
        "## 2) Do the structural analysis of these subgraphs "
      ]
    },
    {
      "cell_type": "markdown",
      "metadata": {
        "id": "EMlDtnEem4FO"
      },
      "source": [
        "First, we begin with defining a function that gets all the properties, that are interesting to compare, for a subgraph. This is made by mostly using functions from the library networkx to get the properties in an efficient way. The function is defined below. "
      ]
    },
    {
      "cell_type": "code",
      "metadata": {
        "id": "RI7DNWEwm4FO"
      },
      "source": [
        "def graph_properties(G,weights=\"None\"):\n",
        "    \"\"\"\n",
        "    Calculate parameters for a subgraph. If weights is given for the network then this is taken into account \n",
        "    during the calculation of the degree. \n",
        "\n",
        "    Return a dataframe with all the parameters for the network, with rounded number to one decimal. \n",
        "\n",
        "    Input:\n",
        "    G - Graph\n",
        "    W(Optinal) - Weights inside the graph \n",
        "\n",
        "    Output:\n",
        "    df - Dataframe containing average,min and max for degree, clustering and closeness\n",
        "    \"\"\"\n",
        "\n",
        "\n",
        "    if weights == \"None\":\n",
        "        degree_sequence = sorted([d for n, d in G.degree()], reverse=True)\n",
        "        min_degree = min(degree_sequence)\n",
        "        max_degree = max(degree_sequence)\n",
        "        average_degree = np.mean(degree_sequence)\n",
        "    else:\n",
        "        degree_sequence = sorted([d for n, d in G.degree(weights)], reverse=True)\n",
        "        min_degree = min(degree_sequence)\n",
        "        max_degree = max(degree_sequence)\n",
        "        average_degree = np.mean(degree_sequence)\n",
        "\n",
        "\n",
        "    centrality = nx.degree_centrality(G)\n",
        "\n",
        "    centrality = [node_cent for node,node_cent in (nx.degree_centrality(G)).items()]\n",
        "    min_centrality = min(centrality)\n",
        "    max_centrality = max(centrality)\n",
        "    average_centrality = np.mean(centrality)\n",
        "    \n",
        "    \n",
        "\n",
        "    assortativity_degree = nx.degree_assortativity_coefficient(G)\n",
        "    \n",
        "    closeness = [node_c for node,node_c in (nx.closeness_centrality(G)).items()]\n",
        "    min_closeness = min(closeness)\n",
        "    max_closeness = max(closeness)\n",
        "    average_closeness = np.mean(closeness)\n",
        "\n",
        "    clustering = [clusters for node,clusters in (nx.clustering(G)).items()]\n",
        "    min_cluster = min(clustering)\n",
        "    max_cluster = max(clustering)\n",
        "    average_cluster = np.mean(clustering)\n",
        "\n",
        "    global_cluster = nx.transitivity(G)\n",
        "\n",
        "    #clustering = nx.average_clustering(G, nodes=None, weight=None, count_zeros=True)\n",
        "\n",
        "    data = {'Average': [average_degree,average_closeness,average_cluster,average_centrality],\n",
        "       'Max': [max_degree,max_closeness,max_cluster,max_centrality],\n",
        "       'Min': [min_degree,min_closeness,min_cluster,min_centrality]}\n",
        "    properties_graph = pd.DataFrame(data)\n",
        "    properties_graph.index=['Degree','Closeness','Local clustering coefficient','Centrality']\n",
        "    properties_graph.round(1)\n",
        "\n",
        "    number_of_triads,triad_type = triad(G)\n",
        "    \n",
        "    data = {'': [global_cluster,assortativity_degree,number_of_triads]}\n",
        "    #data = {'': [global_cluster,assortativity_degree]}\n",
        "    properties2_graph = pd.DataFrame(data)\n",
        "    properties2_graph.index=['Global clustering coefficient','Assortativity degree','Number of triads']\n",
        "    #properties2_graph.index=['Global clustering coefficient','Assortativity degree']\n",
        "    properties2_graph.round(1)\n",
        "\n",
        "    data = {'Triads': [triad_type['+++'],triad_type['++-'],triad_type['+--'],triad_type['---']]}\n",
        "    properties3_graph = pd.DataFrame(data)\n",
        "    properties3_graph.index=['+++','++-','+--','---']\n",
        "\n",
        "    \n",
        "    \n",
        "\n",
        "    return properties_graph,properties2_graph,properties3_graph"
      ],
      "execution_count": 89,
      "outputs": []
    },
    {
      "cell_type": "markdown",
      "metadata": {
        "id": "wdCkQfCfXVEN"
      },
      "source": [
        "So here the idea is to identify variables that are not taken into account in the status and balance theory but which may have an impact on the network structure. It could help us to identify the strength and limits of these social theories, and thus define better their range of applications.\n",
        "During the first part of this paper analysis, which is the replication of the results, we ignore some information about the dataset we used. Time is the major parameter we didn’t take into account during structure network analysis, so here we’ll try to see if in fact it may have an impact on it. It is our first variable. We will also consider a second variable, the weight of the edges. \n",
        "During this analysis, we will follow three steps: \n",
        "First the identification of the major trends. For the Time analysis we will consider the year, the month, the day and the hour as potential variables for the number of edges. \n",
        "**Axel** : complete the strategy for the Weight part\n",
        "After identifying the global trend, we create subgraphs accordingly.\n",
        "Then we will compute variables representing structural characteristics of the network. Here we have chosen to look at the centrality of the network\n",
        "\n",
        "Centrality : \n",
        "-- the degree : the number of incoming edges onto the node\n",
        "-- the closeness : this  index quantifies the node’s relationship to all other nodes in the network by taking into account the indirect connections from that node. Thus, a high closeness index indicates a short average distance of a given node to all the other nodes; also a  node with high closeness will be affected quickly by changes in any part of the network (butterfly effect) and its own changes can have consequences on other parts of the network rapidly.\n",
        "-- local clustering coefficient : is the ratio of edges that exist between the neighbours of a particular node relative and the total number of all possible edges between these neighbours. It can give cues on the local redundancy of the given node: if we remove this node, may it have an impact on the capacity of its neighbor to communicate and influence each other? Big clustering coefficient : the impact will be small because neighbor nodes will still be able to communicate while small coefficients reveal possible bad consequences for neighbor communication in case of removal.\n",
        "-- centrality of a node : It is  the number of edges attached to the node, incoming and outcoming combined\n",
        "Behaviour and clustering : \n",
        "-- global clustering coefficient : it is the ratio of  the number of closed triplets (or 3 x triangles) over the total number of triplets (both open and closed).\n",
        "-- Assortativity degree : assortative represent for a node the preference to attach other nodes that are similar in some way.\n",
        " The assortativity coefficient is the Pearson correlation coefficient of degree between pairs of linked nodes.[2] Positive values of r indicate a correlation between nodes of similar degree, while negative values indicate relationships between nodes of different degree. In general, r lies between −1 and 1. When r = 1, the network is said to have perfect assortative mixing patterns, when r = 0 the network is non-assortative, while at r = −1 the network is completely disassortative **Axel** : is it the one you have calculated??\n",
        "\n",
        "\n",
        "Finally we compare the results for each parameter between the subgraphs and we conclude on the importance or not of the variable in network structure.\n",
        "All along the analysis, we first start with the reddit dataset, and then with the wikipedia dataset used in the paper. \n",
        "We have chosen to use only the “body” part of the Reddit dataset because it seems that we will get the same conclusion from both body and title analysis and thus doing twice was not enriching the comprehension. Also as the “body” part contains all the text of the post, the sentiment score is raised from more content and thus is more representative of the post idea (more nuanced). \n",
        "We have chosen the wikipedia dataset from the 3 original ones because it was the only one with time given. Also, as it is a votation, it was easier to draw a structure for weight calculation. \n",
        "We define the subgraphs according to the trend. To do so, we base our subnetwork division on the important difference of positive versus negative number of edges ratio. Thus it allows us to have a more precise idea of a part of the network that is different from another. \n"
      ]
    },
    {
      "cell_type": "markdown",
      "metadata": {
        "id": "Mp3bGd6Jm4FO"
      },
      "source": [
        "The subgraph is analyzed using five different properties for the network. These properties are the following ones: <br></br>\n",
        "* Degree \n",
        "* Clossness \n",
        "* Local clustering coefficient \n",
        "* Centrality \n",
        "* Global clustering coefficient \n",
        "* Assortativity\n",
        "<br></br>\n",
        "\n",
        "For the properties degree, closeness, local clustering coefficient and centrality the max, min and average value for the subgraph is calculated. The average value will give a sense of property within the subgraph and the max, min value will give a rough indication of how big the spread is, in the form of outliers. The degree of the network will give a sense of how connected the nodes are in the graphs. Closeness in the graph tells how close the nodes are to each other. The local clustering coefficient gives information about the degree of how nodes cluster together with the neighbor nodes. To see the effect of nodes on other nodes the centrality is calculated. This gives an insight into the relative importance of a node to the other nodes. To get a sense of the clustering in the whole network the global clustering coefficient is used. Finally, the assortativity is used to get a better understanding of the subgraphs structure, in the form of how similar the nodes are attached. "
      ]
    },
    {
      "cell_type": "markdown",
      "metadata": {
        "id": "9uleXn7_m4FO"
      },
      "source": [
        "### Properties for the Reddits subgraphs "
      ]
    },
    {
      "cell_type": "markdown",
      "metadata": {
        "id": "7k5B0rW_m4FO"
      },
      "source": [
        "To compare the differente subgraph according to these properites the function is called on every subgraph. After that an analyze is made of the result. "
      ]
    },
    {
      "cell_type": "markdown",
      "metadata": {
        "id": "BLUI7ojwm4FP"
      },
      "source": [
        "#### Reddit - Year "
      ]
    },
    {
      "cell_type": "markdown",
      "metadata": {
        "id": "Ah_KK4LQm4FP"
      },
      "source": [
        "We begin by taking out the year we want to investigate. As previous written this is the year 2014 and 2016 for the reddit dataset. "
      ]
    },
    {
      "cell_type": "code",
      "metadata": {
        "id": "zaNxlx4Wm4FP"
      },
      "source": [
        "mask_2014 = (data_body['TIMESTAMP'] > '2014-1-1') & (data_body['TIMESTAMP'] <= '2014-12-31')\n",
        "mask_2016 = (data_body['TIMESTAMP'] > '2016-1-1') & (data_body['TIMESTAMP'] <= '2016-12-31')\n",
        "\n",
        "reddit_2014 = data_body.loc[mask_2014]\n",
        "reddit_2016 = data_body.loc[mask_2016]\n"
      ],
      "execution_count": null,
      "outputs": []
    },
    {
      "cell_type": "markdown",
      "metadata": {
        "id": "MAmkdYhi7qbx"
      },
      "source": [
        "Printing the data frame to see that everthing looks fine "
      ]
    },
    {
      "cell_type": "code",
      "metadata": {
        "colab": {
          "base_uri": "https://localhost:8080/",
          "height": 309
        },
        "id": "ApkaKLn-pUus",
        "outputId": "6ac69343-a066-495f-c27b-b256f1f6394b"
      },
      "source": [
        "reddit_2016.head()"
      ],
      "execution_count": 92,
      "outputs": [
        {
          "output_type": "execute_result",
          "data": {
            "text/html": [
              "<div>\n",
              "<style scoped>\n",
              "    .dataframe tbody tr th:only-of-type {\n",
              "        vertical-align: middle;\n",
              "    }\n",
              "\n",
              "    .dataframe tbody tr th {\n",
              "        vertical-align: top;\n",
              "    }\n",
              "\n",
              "    .dataframe thead th {\n",
              "        text-align: right;\n",
              "    }\n",
              "</style>\n",
              "<table border=\"1\" class=\"dataframe\">\n",
              "  <thead>\n",
              "    <tr style=\"text-align: right;\">\n",
              "      <th></th>\n",
              "      <th>SOURCE_SUBREDDIT</th>\n",
              "      <th>TARGET_SUBREDDIT</th>\n",
              "      <th>POST_ID</th>\n",
              "      <th>TIMESTAMP</th>\n",
              "      <th>Sign</th>\n",
              "      <th>PROPERTIES</th>\n",
              "      <th>DATETIME2</th>\n",
              "    </tr>\n",
              "  </thead>\n",
              "  <tbody>\n",
              "    <tr>\n",
              "      <th>984</th>\n",
              "      <td>movielists</td>\n",
              "      <td>movies</td>\n",
              "      <td>1usizvs</td>\n",
              "      <td>2016-01-19 01:22:55</td>\n",
              "      <td>1</td>\n",
              "      <td>14839.0,13680.0,0.545724105398,0.154794797493,...</td>\n",
              "      <td>2016-01-19 01:22:55</td>\n",
              "    </tr>\n",
              "    <tr>\n",
              "      <th>3776</th>\n",
              "      <td>dogemarket_mi</td>\n",
              "      <td>dogemarket</td>\n",
              "      <td>1wdljbs</td>\n",
              "      <td>2016-03-22 09:34:53</td>\n",
              "      <td>1</td>\n",
              "      <td>640.0,554.0,0.725,0.0265625,0.071875,0.165625,...</td>\n",
              "      <td>2016-03-22 09:34:53</td>\n",
              "    </tr>\n",
              "    <tr>\n",
              "      <th>13082</th>\n",
              "      <td>obrokeobroke</td>\n",
              "      <td>circlebroke</td>\n",
              "      <td>21e6ox</td>\n",
              "      <td>2016-02-29 16:15:43</td>\n",
              "      <td>-1</td>\n",
              "      <td>3377.0,2848.0,0.772283091501,0.00266508735564,...</td>\n",
              "      <td>2016-02-29 16:15:43</td>\n",
              "    </tr>\n",
              "    <tr>\n",
              "      <th>16949</th>\n",
              "      <td>formerneckbeards</td>\n",
              "      <td>justneckbeardthings</td>\n",
              "      <td>23asets</td>\n",
              "      <td>2016-09-20 10:53:10</td>\n",
              "      <td>1</td>\n",
              "      <td>1609.0,1416.0,0.754505904288,0.0118085767557,0...</td>\n",
              "      <td>2016-09-20 10:53:10</td>\n",
              "    </tr>\n",
              "    <tr>\n",
              "      <th>25709</th>\n",
              "      <td>shanghaigaybros</td>\n",
              "      <td>gaybros</td>\n",
              "      <td>27je0us</td>\n",
              "      <td>2016-07-22 00:25:57</td>\n",
              "      <td>1</td>\n",
              "      <td>250.0,221.0,0.772,0.016,0.048,0.136,0.076,40.0...</td>\n",
              "      <td>2016-07-22 00:25:57</td>\n",
              "    </tr>\n",
              "  </tbody>\n",
              "</table>\n",
              "</div>"
            ],
            "text/plain": [
              "       SOURCE_SUBREDDIT  ...           DATETIME2\n",
              "984          movielists  ... 2016-01-19 01:22:55\n",
              "3776      dogemarket_mi  ... 2016-03-22 09:34:53\n",
              "13082      obrokeobroke  ... 2016-02-29 16:15:43\n",
              "16949  formerneckbeards  ... 2016-09-20 10:53:10\n",
              "25709   shanghaigaybros  ... 2016-07-22 00:25:57\n",
              "\n",
              "[5 rows x 7 columns]"
            ]
          },
          "metadata": {
            "tags": []
          },
          "execution_count": 92
        }
      ]
    },
    {
      "cell_type": "code",
      "metadata": {
        "colab": {
          "base_uri": "https://localhost:8080/",
          "height": 309
        },
        "id": "n00YYkzspiV0",
        "outputId": "7670ee87-eaea-428c-b8a9-0f5fdbab6cf1"
      },
      "source": [
        "reddit_2014.head()"
      ],
      "execution_count": 93,
      "outputs": [
        {
          "output_type": "execute_result",
          "data": {
            "text/html": [
              "<div>\n",
              "<style scoped>\n",
              "    .dataframe tbody tr th:only-of-type {\n",
              "        vertical-align: middle;\n",
              "    }\n",
              "\n",
              "    .dataframe tbody tr th {\n",
              "        vertical-align: top;\n",
              "    }\n",
              "\n",
              "    .dataframe thead th {\n",
              "        text-align: right;\n",
              "    }\n",
              "</style>\n",
              "<table border=\"1\" class=\"dataframe\">\n",
              "  <thead>\n",
              "    <tr style=\"text-align: right;\">\n",
              "      <th></th>\n",
              "      <th>SOURCE_SUBREDDIT</th>\n",
              "      <th>TARGET_SUBREDDIT</th>\n",
              "      <th>POST_ID</th>\n",
              "      <th>TIMESTAMP</th>\n",
              "      <th>Sign</th>\n",
              "      <th>PROPERTIES</th>\n",
              "      <th>DATETIME2</th>\n",
              "    </tr>\n",
              "  </thead>\n",
              "  <tbody>\n",
              "    <tr>\n",
              "      <th>2</th>\n",
              "      <td>inlandempire</td>\n",
              "      <td>bikela</td>\n",
              "      <td>1u4qlzs</td>\n",
              "      <td>2014-01-01 14:54:35</td>\n",
              "      <td>1</td>\n",
              "      <td>85.0,85.0,0.752941176471,0.0235294117647,0.082...</td>\n",
              "      <td>2014-01-01 14:54:35</td>\n",
              "    </tr>\n",
              "    <tr>\n",
              "      <th>4</th>\n",
              "      <td>playmygame</td>\n",
              "      <td>gamedev</td>\n",
              "      <td>1u4w5ss</td>\n",
              "      <td>2014-01-01 02:51:13</td>\n",
              "      <td>1</td>\n",
              "      <td>715.0,622.0,0.777622377622,0.00699300699301,0....</td>\n",
              "      <td>2014-01-01 02:51:13</td>\n",
              "    </tr>\n",
              "    <tr>\n",
              "      <th>6</th>\n",
              "      <td>locationbot</td>\n",
              "      <td>legaladvice</td>\n",
              "      <td>1u4wfes</td>\n",
              "      <td>2014-01-07 20:17:41</td>\n",
              "      <td>1</td>\n",
              "      <td>184.0,172.0,0.744565217391,0.0326086956522,0.0...</td>\n",
              "      <td>2014-01-07 20:17:41</td>\n",
              "    </tr>\n",
              "    <tr>\n",
              "      <th>7</th>\n",
              "      <td>indiefied</td>\n",
              "      <td>aww</td>\n",
              "      <td>1u50pos</td>\n",
              "      <td>2014-03-03 17:00:35</td>\n",
              "      <td>1</td>\n",
              "      <td>295.0,256.0,0.749152542373,0.0203389830508,0.0...</td>\n",
              "      <td>2014-03-03 17:00:35</td>\n",
              "    </tr>\n",
              "    <tr>\n",
              "      <th>11</th>\n",
              "      <td>metalcore</td>\n",
              "      <td>bestof2013</td>\n",
              "      <td>1u5iets</td>\n",
              "      <td>2014-01-01 04:15:54</td>\n",
              "      <td>1</td>\n",
              "      <td>3455.0,3095.0,0.709406657019,0.027496382055,0....</td>\n",
              "      <td>2014-01-01 04:15:54</td>\n",
              "    </tr>\n",
              "  </tbody>\n",
              "</table>\n",
              "</div>"
            ],
            "text/plain": [
              "   SOURCE_SUBREDDIT  ...           DATETIME2\n",
              "2      inlandempire  ... 2014-01-01 14:54:35\n",
              "4        playmygame  ... 2014-01-01 02:51:13\n",
              "6       locationbot  ... 2014-01-07 20:17:41\n",
              "7         indiefied  ... 2014-03-03 17:00:35\n",
              "11        metalcore  ... 2014-01-01 04:15:54\n",
              "\n",
              "[5 rows x 7 columns]"
            ]
          },
          "metadata": {
            "tags": []
          },
          "execution_count": 93
        }
      ]
    },
    {
      "cell_type": "markdown",
      "metadata": {
        "id": "8U9YWKaA70DK"
      },
      "source": [
        "The two subgraphs are created using networkx. "
      ]
    },
    {
      "cell_type": "code",
      "metadata": {
        "id": "AdKhp8xT1juD"
      },
      "source": [
        "import networkx as nx \n",
        "reddit_2014_graph = nx.from_pandas_edgelist(reddit_2014,\"SOURCE_SUBREDDIT\",\"TARGET_SUBREDDIT\",edge_attr=\"Sign\",create_using=nx.DiGraph)\n",
        "reddit_2016_graph = nx.from_pandas_edgelist(reddit_2016,\"SOURCE_SUBREDDIT\",\"TARGET_SUBREDDIT\",edge_attr=\"Sign\",create_using=nx.DiGraph)"
      ],
      "execution_count": 94,
      "outputs": []
    },
    {
      "cell_type": "markdown",
      "metadata": {
        "id": "1QGDadrf78jD"
      },
      "source": [
        "To get the properties of the subgrahp the function graph properties is called."
      ]
    },
    {
      "cell_type": "code",
      "metadata": {
        "id": "aJRlvt6d2Iw-"
      },
      "source": [
        "reddit_2014_table1,reddit_2014_table2,reddit_2014_table3 = graph_properties(reddit_2014_graph)\n",
        "reddit_2016_table1,reddit_2016_table2,reddit_2016_table3 = graph_properties(reddit_2016_graph)"
      ],
      "execution_count": 95,
      "outputs": []
    },
    {
      "cell_type": "markdown",
      "metadata": {
        "id": "P7KmFl4S8GTo"
      },
      "source": [
        "Printing out the result for the first table containing degree, clossness, local cluster coefficient and centrality.  "
      ]
    },
    {
      "cell_type": "code",
      "metadata": {
        "colab": {
          "base_uri": "https://localhost:8080/",
          "height": 173
        },
        "id": "iFNIgoPg3qiK",
        "outputId": "339c1eb7-a487-4cd1-ff60-aed3ff4e2614"
      },
      "source": [
        "reddit_2014_table1.head()"
      ],
      "execution_count": 96,
      "outputs": [
        {
          "output_type": "execute_result",
          "data": {
            "text/html": [
              "<div>\n",
              "<style scoped>\n",
              "    .dataframe tbody tr th:only-of-type {\n",
              "        vertical-align: middle;\n",
              "    }\n",
              "\n",
              "    .dataframe tbody tr th {\n",
              "        vertical-align: top;\n",
              "    }\n",
              "\n",
              "    .dataframe thead th {\n",
              "        text-align: right;\n",
              "    }\n",
              "</style>\n",
              "<table border=\"1\" class=\"dataframe\">\n",
              "  <thead>\n",
              "    <tr style=\"text-align: right;\">\n",
              "      <th></th>\n",
              "      <th>Average</th>\n",
              "      <th>Max</th>\n",
              "      <th>Min</th>\n",
              "    </tr>\n",
              "  </thead>\n",
              "  <tbody>\n",
              "    <tr>\n",
              "      <th>Degree</th>\n",
              "      <td>5.768021</td>\n",
              "      <td>1144.000000</td>\n",
              "      <td>1.00000</td>\n",
              "    </tr>\n",
              "    <tr>\n",
              "      <th>Closeness</th>\n",
              "      <td>0.077004</td>\n",
              "      <td>0.283545</td>\n",
              "      <td>0.00000</td>\n",
              "    </tr>\n",
              "    <tr>\n",
              "      <th>Local clustering coefficient</th>\n",
              "      <td>0.104383</td>\n",
              "      <td>1.000000</td>\n",
              "      <td>0.00000</td>\n",
              "    </tr>\n",
              "    <tr>\n",
              "      <th>Centrality</th>\n",
              "      <td>0.000460</td>\n",
              "      <td>0.091330</td>\n",
              "      <td>0.00008</td>\n",
              "    </tr>\n",
              "  </tbody>\n",
              "</table>\n",
              "</div>"
            ],
            "text/plain": [
              "                               Average          Max      Min\n",
              "Degree                        5.768021  1144.000000  1.00000\n",
              "Closeness                     0.077004     0.283545  0.00000\n",
              "Local clustering coefficient  0.104383     1.000000  0.00000\n",
              "Centrality                    0.000460     0.091330  0.00008"
            ]
          },
          "metadata": {
            "tags": []
          },
          "execution_count": 96
        }
      ]
    },
    {
      "cell_type": "code",
      "metadata": {
        "colab": {
          "base_uri": "https://localhost:8080/",
          "height": 173
        },
        "id": "SECsogUt3u0v",
        "outputId": "42db6fe6-461f-45ba-eb0b-ffcfd5a43332"
      },
      "source": [
        "reddit_2016_table1.head()"
      ],
      "execution_count": 97,
      "outputs": [
        {
          "output_type": "execute_result",
          "data": {
            "text/html": [
              "<div>\n",
              "<style scoped>\n",
              "    .dataframe tbody tr th:only-of-type {\n",
              "        vertical-align: middle;\n",
              "    }\n",
              "\n",
              "    .dataframe tbody tr th {\n",
              "        vertical-align: top;\n",
              "    }\n",
              "\n",
              "    .dataframe thead th {\n",
              "        text-align: right;\n",
              "    }\n",
              "</style>\n",
              "<table border=\"1\" class=\"dataframe\">\n",
              "  <thead>\n",
              "    <tr style=\"text-align: right;\">\n",
              "      <th></th>\n",
              "      <th>Average</th>\n",
              "      <th>Max</th>\n",
              "      <th>Min</th>\n",
              "    </tr>\n",
              "  </thead>\n",
              "  <tbody>\n",
              "    <tr>\n",
              "      <th>Degree</th>\n",
              "      <td>5.856623</td>\n",
              "      <td>947.000000</td>\n",
              "      <td>1.000000</td>\n",
              "    </tr>\n",
              "    <tr>\n",
              "      <th>Closeness</th>\n",
              "      <td>0.067397</td>\n",
              "      <td>0.252930</td>\n",
              "      <td>0.000000</td>\n",
              "    </tr>\n",
              "    <tr>\n",
              "      <th>Local clustering coefficient</th>\n",
              "      <td>0.105627</td>\n",
              "      <td>1.000000</td>\n",
              "      <td>0.000000</td>\n",
              "    </tr>\n",
              "    <tr>\n",
              "      <th>Centrality</th>\n",
              "      <td>0.000300</td>\n",
              "      <td>0.048564</td>\n",
              "      <td>0.000051</td>\n",
              "    </tr>\n",
              "  </tbody>\n",
              "</table>\n",
              "</div>"
            ],
            "text/plain": [
              "                               Average         Max       Min\n",
              "Degree                        5.856623  947.000000  1.000000\n",
              "Closeness                     0.067397    0.252930  0.000000\n",
              "Local clustering coefficient  0.105627    1.000000  0.000000\n",
              "Centrality                    0.000300    0.048564  0.000051"
            ]
          },
          "metadata": {
            "tags": []
          },
          "execution_count": 97
        }
      ]
    },
    {
      "cell_type": "markdown",
      "metadata": {
        "id": "i3O10jsAzc6c"
      },
      "source": [
        "The table 2016, which is the subgraph with a higher amount of positive votes, shows a higher average degree per nodes. However, at the same trend is not have a significant difference, the closeness and centrality are at the same time higher in the nodes in the 2014 subgraph. This is somewhat contradictory as centrality is highly linked to the degree of the nodes. \n",
        "\n",
        "One can conclude that it did not show any big difference between the two subgraphs. To further investigate the analyses will be made by creating graphs on the other parameters, that were given under the previous chapter. "
      ]
    },
    {
      "cell_type": "markdown",
      "metadata": {
        "id": "wVZkP_FL3xUI"
      },
      "source": [
        "-------"
      ]
    },
    {
      "cell_type": "code",
      "metadata": {
        "colab": {
          "base_uri": "https://localhost:8080/",
          "height": 125
        },
        "id": "S2j2CsMK3y--",
        "outputId": "0fdb485e-9ffc-4c25-a07b-2d16ccb67fbf"
      },
      "source": [
        "reddit_2014_table2.head()"
      ],
      "execution_count": 98,
      "outputs": [
        {
          "output_type": "execute_result",
          "data": {
            "text/html": [
              "<div>\n",
              "<style scoped>\n",
              "    .dataframe tbody tr th:only-of-type {\n",
              "        vertical-align: middle;\n",
              "    }\n",
              "\n",
              "    .dataframe tbody tr th {\n",
              "        vertical-align: top;\n",
              "    }\n",
              "\n",
              "    .dataframe thead th {\n",
              "        text-align: right;\n",
              "    }\n",
              "</style>\n",
              "<table border=\"1\" class=\"dataframe\">\n",
              "  <thead>\n",
              "    <tr style=\"text-align: right;\">\n",
              "      <th></th>\n",
              "      <th></th>\n",
              "    </tr>\n",
              "  </thead>\n",
              "  <tbody>\n",
              "    <tr>\n",
              "      <th>Global clustering coefficient</th>\n",
              "      <td>0.052295</td>\n",
              "    </tr>\n",
              "    <tr>\n",
              "      <th>Assortativity degree</th>\n",
              "      <td>-0.073850</td>\n",
              "    </tr>\n",
              "    <tr>\n",
              "      <th>Number of triads</th>\n",
              "      <td>80088.000000</td>\n",
              "    </tr>\n",
              "  </tbody>\n",
              "</table>\n",
              "</div>"
            ],
            "text/plain": [
              "                                           \n",
              "Global clustering coefficient      0.052295\n",
              "Assortativity degree              -0.073850\n",
              "Number of triads               80088.000000"
            ]
          },
          "metadata": {
            "tags": []
          },
          "execution_count": 98
        }
      ]
    },
    {
      "cell_type": "code",
      "metadata": {
        "colab": {
          "base_uri": "https://localhost:8080/",
          "height": 125
        },
        "id": "JdPGst7J31rr",
        "outputId": "1ae3f72c-53ae-445a-ddd3-0cd0e6e28f51"
      },
      "source": [
        "reddit_2016_table2.head()"
      ],
      "execution_count": 99,
      "outputs": [
        {
          "output_type": "execute_result",
          "data": {
            "text/html": [
              "<div>\n",
              "<style scoped>\n",
              "    .dataframe tbody tr th:only-of-type {\n",
              "        vertical-align: middle;\n",
              "    }\n",
              "\n",
              "    .dataframe tbody tr th {\n",
              "        vertical-align: top;\n",
              "    }\n",
              "\n",
              "    .dataframe thead th {\n",
              "        text-align: right;\n",
              "    }\n",
              "</style>\n",
              "<table border=\"1\" class=\"dataframe\">\n",
              "  <thead>\n",
              "    <tr style=\"text-align: right;\">\n",
              "      <th></th>\n",
              "      <th></th>\n",
              "    </tr>\n",
              "  </thead>\n",
              "  <tbody>\n",
              "    <tr>\n",
              "      <th>Global clustering coefficient</th>\n",
              "      <td>0.051884</td>\n",
              "    </tr>\n",
              "    <tr>\n",
              "      <th>Assortativity degree</th>\n",
              "      <td>-0.068114</td>\n",
              "    </tr>\n",
              "    <tr>\n",
              "      <th>Number of triads</th>\n",
              "      <td>161401.000000</td>\n",
              "    </tr>\n",
              "  </tbody>\n",
              "</table>\n",
              "</div>"
            ],
            "text/plain": [
              "                                            \n",
              "Global clustering coefficient       0.051884\n",
              "Assortativity degree               -0.068114\n",
              "Number of triads               161401.000000"
            ]
          },
          "metadata": {
            "tags": []
          },
          "execution_count": 99
        }
      ]
    },
    {
      "cell_type": "markdown",
      "metadata": {
        "id": "Qj7mYoJg10wK"
      },
      "source": [
        "Regardring the information above the difference is very small between the two subgraphs. The tables give thus information about the networks in total seems to between similar even between year with big difference in the amount of negative or positive edges. "
      ]
    },
    {
      "cell_type": "markdown",
      "metadata": {
        "id": "tpE537KpjM6T"
      },
      "source": [
        "-------\n"
      ]
    },
    {
      "cell_type": "code",
      "metadata": {
        "colab": {
          "base_uri": "https://localhost:8080/",
          "height": 173
        },
        "id": "yNivrE1KjPPI",
        "outputId": "00392ce3-4522-43c3-c3a4-63e1f723f949"
      },
      "source": [
        "reddit_2014_table3"
      ],
      "execution_count": 100,
      "outputs": [
        {
          "output_type": "execute_result",
          "data": {
            "text/html": [
              "<div>\n",
              "<style scoped>\n",
              "    .dataframe tbody tr th:only-of-type {\n",
              "        vertical-align: middle;\n",
              "    }\n",
              "\n",
              "    .dataframe tbody tr th {\n",
              "        vertical-align: top;\n",
              "    }\n",
              "\n",
              "    .dataframe thead th {\n",
              "        text-align: right;\n",
              "    }\n",
              "</style>\n",
              "<table border=\"1\" class=\"dataframe\">\n",
              "  <thead>\n",
              "    <tr style=\"text-align: right;\">\n",
              "      <th></th>\n",
              "      <th>Triads</th>\n",
              "    </tr>\n",
              "  </thead>\n",
              "  <tbody>\n",
              "    <tr>\n",
              "      <th>+++</th>\n",
              "      <td>54643</td>\n",
              "    </tr>\n",
              "    <tr>\n",
              "      <th>++-</th>\n",
              "      <td>20436</td>\n",
              "    </tr>\n",
              "    <tr>\n",
              "      <th>+--</th>\n",
              "      <td>4625</td>\n",
              "    </tr>\n",
              "    <tr>\n",
              "      <th>---</th>\n",
              "      <td>384</td>\n",
              "    </tr>\n",
              "  </tbody>\n",
              "</table>\n",
              "</div>"
            ],
            "text/plain": [
              "     Triads\n",
              "+++   54643\n",
              "++-   20436\n",
              "+--    4625\n",
              "---     384"
            ]
          },
          "metadata": {
            "tags": []
          },
          "execution_count": 100
        }
      ]
    },
    {
      "cell_type": "code",
      "metadata": {
        "colab": {
          "base_uri": "https://localhost:8080/",
          "height": 173
        },
        "id": "frRESA5ajRFg",
        "outputId": "51285322-fe8b-4d36-c65c-48b87eb7ffba"
      },
      "source": [
        "reddit_2016_table3"
      ],
      "execution_count": 101,
      "outputs": [
        {
          "output_type": "execute_result",
          "data": {
            "text/html": [
              "<div>\n",
              "<style scoped>\n",
              "    .dataframe tbody tr th:only-of-type {\n",
              "        vertical-align: middle;\n",
              "    }\n",
              "\n",
              "    .dataframe tbody tr th {\n",
              "        vertical-align: top;\n",
              "    }\n",
              "\n",
              "    .dataframe thead th {\n",
              "        text-align: right;\n",
              "    }\n",
              "</style>\n",
              "<table border=\"1\" class=\"dataframe\">\n",
              "  <thead>\n",
              "    <tr style=\"text-align: right;\">\n",
              "      <th></th>\n",
              "      <th>Triads</th>\n",
              "    </tr>\n",
              "  </thead>\n",
              "  <tbody>\n",
              "    <tr>\n",
              "      <th>+++</th>\n",
              "      <td>123700</td>\n",
              "    </tr>\n",
              "    <tr>\n",
              "      <th>++-</th>\n",
              "      <td>29962</td>\n",
              "    </tr>\n",
              "    <tr>\n",
              "      <th>+--</th>\n",
              "      <td>6979</td>\n",
              "    </tr>\n",
              "    <tr>\n",
              "      <th>---</th>\n",
              "      <td>760</td>\n",
              "    </tr>\n",
              "  </tbody>\n",
              "</table>\n",
              "</div>"
            ],
            "text/plain": [
              "     Triads\n",
              "+++  123700\n",
              "++-   29962\n",
              "+--    6979\n",
              "---     760"
            ]
          },
          "metadata": {
            "tags": []
          },
          "execution_count": 101
        }
      ]
    },
    {
      "cell_type": "markdown",
      "metadata": {
        "id": "ALqD3eKsm4FP"
      },
      "source": [
        "#### Reddit - Month"
      ]
    },
    {
      "cell_type": "markdown",
      "metadata": {
        "id": "u91Koubkm4FQ"
      },
      "source": [
        "After the year the analyse is continued comapring the months. "
      ]
    },
    {
      "cell_type": "code",
      "metadata": {
        "id": "0EK-QqhBp1jT"
      },
      "source": [
        "mask_feb = (data_body['TIMESTAMP'].dt.month == 2)\n",
        "mask_march = (data_body['TIMESTAMP'].dt.month == 3)\n",
        "mask_june = (data_body['TIMESTAMP'].dt.month == 6)\n",
        "\n",
        "reddit_feb = data_body.loc[mask_feb]\n",
        "reddit_march = data_body.loc[mask_march]\n",
        "reddit_june = data_body.loc[mask_june]"
      ],
      "execution_count": null,
      "outputs": []
    },
    {
      "cell_type": "code",
      "metadata": {
        "id": "Nk4BYqYm2-Bx"
      },
      "source": [
        "reddit_feb_graph = nx.from_pandas_edgelist(reddit_feb,\"SOURCE_SUBREDDIT\",\"TARGET_SUBREDDIT\",edge_attr=\"Sign\",create_using=nx.DiGraph)\n",
        "reddit_march_graph = nx.from_pandas_edgelist(reddit_march,\"SOURCE_SUBREDDIT\",\"TARGET_SUBREDDIT\",edge_attr=\"Sign\",create_using=nx.DiGraph)\n",
        "reddit_june_graph = nx.from_pandas_edgelist(reddit_june,\"SOURCE_SUBREDDIT\",\"TARGET_SUBREDDIT\",edge_attr=\"Sign\",create_using=nx.DiGraph)"
      ],
      "execution_count": null,
      "outputs": []
    },
    {
      "cell_type": "code",
      "metadata": {
        "id": "-IffGx5v3NH5"
      },
      "source": [
        "reddit_feb_table1,reddit_feb_table2,reddit_feb_table3 = graph_properties(reddit_feb_graph)\n",
        "reddit_march_table1,reddit_march_table2,reddit_march_table3 = graph_properties(reddit_march_graph)\n",
        "reddit_june_table1,reddit_june_table2,reddit_june_table3 = graph_properties(reddit_june_graph)"
      ],
      "execution_count": null,
      "outputs": []
    },
    {
      "cell_type": "code",
      "metadata": {
        "colab": {
          "base_uri": "https://localhost:8080/",
          "height": 173
        },
        "id": "9w0VWM1K4pzV",
        "outputId": "d08d3280-e95c-42a9-848e-80fce40feb7a"
      },
      "source": [
        "reddit_feb_table1.head()"
      ],
      "execution_count": 309,
      "outputs": [
        {
          "output_type": "execute_result",
          "data": {
            "text/html": [
              "<div>\n",
              "<style scoped>\n",
              "    .dataframe tbody tr th:only-of-type {\n",
              "        vertical-align: middle;\n",
              "    }\n",
              "\n",
              "    .dataframe tbody tr th {\n",
              "        vertical-align: top;\n",
              "    }\n",
              "\n",
              "    .dataframe thead th {\n",
              "        text-align: right;\n",
              "    }\n",
              "</style>\n",
              "<table border=\"1\" class=\"dataframe\">\n",
              "  <thead>\n",
              "    <tr style=\"text-align: right;\">\n",
              "      <th></th>\n",
              "      <th>Average</th>\n",
              "      <th>Max</th>\n",
              "      <th>Min</th>\n",
              "    </tr>\n",
              "  </thead>\n",
              "  <tbody>\n",
              "    <tr>\n",
              "      <th>Degree</th>\n",
              "      <td>4.060255</td>\n",
              "      <td>456.000000</td>\n",
              "      <td>1.0000</td>\n",
              "    </tr>\n",
              "    <tr>\n",
              "      <th>Closeness</th>\n",
              "      <td>0.041900</td>\n",
              "      <td>0.191927</td>\n",
              "      <td>0.0000</td>\n",
              "    </tr>\n",
              "    <tr>\n",
              "      <th>Local clustering coefficient</th>\n",
              "      <td>0.071444</td>\n",
              "      <td>1.000000</td>\n",
              "      <td>0.0000</td>\n",
              "    </tr>\n",
              "    <tr>\n",
              "      <th>Centrality</th>\n",
              "      <td>0.000405</td>\n",
              "      <td>0.045495</td>\n",
              "      <td>0.0001</td>\n",
              "    </tr>\n",
              "  </tbody>\n",
              "</table>\n",
              "</div>"
            ],
            "text/plain": [
              "                               Average         Max     Min\n",
              "Degree                        4.060255  456.000000  1.0000\n",
              "Closeness                     0.041900    0.191927  0.0000\n",
              "Local clustering coefficient  0.071444    1.000000  0.0000\n",
              "Centrality                    0.000405    0.045495  0.0001"
            ]
          },
          "metadata": {
            "tags": []
          },
          "execution_count": 309
        }
      ]
    },
    {
      "cell_type": "code",
      "metadata": {
        "colab": {
          "base_uri": "https://localhost:8080/",
          "height": 173
        },
        "id": "ymDIyP184wCM",
        "outputId": "4cecb43f-5846-4813-80ee-b3ef4ec9fa2b"
      },
      "source": [
        "reddit_june_table1.head()"
      ],
      "execution_count": 310,
      "outputs": [
        {
          "output_type": "execute_result",
          "data": {
            "text/html": [
              "<div>\n",
              "<style scoped>\n",
              "    .dataframe tbody tr th:only-of-type {\n",
              "        vertical-align: middle;\n",
              "    }\n",
              "\n",
              "    .dataframe tbody tr th {\n",
              "        vertical-align: top;\n",
              "    }\n",
              "\n",
              "    .dataframe thead th {\n",
              "        text-align: right;\n",
              "    }\n",
              "</style>\n",
              "<table border=\"1\" class=\"dataframe\">\n",
              "  <thead>\n",
              "    <tr style=\"text-align: right;\">\n",
              "      <th></th>\n",
              "      <th>Average</th>\n",
              "      <th>Max</th>\n",
              "      <th>Min</th>\n",
              "    </tr>\n",
              "  </thead>\n",
              "  <tbody>\n",
              "    <tr>\n",
              "      <th>Degree</th>\n",
              "      <td>3.915435</td>\n",
              "      <td>437.000000</td>\n",
              "      <td>1.00000</td>\n",
              "    </tr>\n",
              "    <tr>\n",
              "      <th>Closeness</th>\n",
              "      <td>0.041402</td>\n",
              "      <td>0.193965</td>\n",
              "      <td>0.00000</td>\n",
              "    </tr>\n",
              "    <tr>\n",
              "      <th>Local clustering coefficient</th>\n",
              "      <td>0.055777</td>\n",
              "      <td>1.000000</td>\n",
              "      <td>0.00000</td>\n",
              "    </tr>\n",
              "    <tr>\n",
              "      <th>Centrality</th>\n",
              "      <td>0.000470</td>\n",
              "      <td>0.052499</td>\n",
              "      <td>0.00012</td>\n",
              "    </tr>\n",
              "  </tbody>\n",
              "</table>\n",
              "</div>"
            ],
            "text/plain": [
              "                               Average         Max      Min\n",
              "Degree                        3.915435  437.000000  1.00000\n",
              "Closeness                     0.041402    0.193965  0.00000\n",
              "Local clustering coefficient  0.055777    1.000000  0.00000\n",
              "Centrality                    0.000470    0.052499  0.00012"
            ]
          },
          "metadata": {
            "tags": []
          },
          "execution_count": 310
        }
      ]
    },
    {
      "cell_type": "code",
      "metadata": {
        "colab": {
          "base_uri": "https://localhost:8080/",
          "height": 173
        },
        "id": "FYaEMp7K4siN",
        "outputId": "078b8293-ceb1-497a-da15-f85b9312e3f7"
      },
      "source": [
        "reddit_march_table1.head()"
      ],
      "execution_count": 311,
      "outputs": [
        {
          "output_type": "execute_result",
          "data": {
            "text/html": [
              "<div>\n",
              "<style scoped>\n",
              "    .dataframe tbody tr th:only-of-type {\n",
              "        vertical-align: middle;\n",
              "    }\n",
              "\n",
              "    .dataframe tbody tr th {\n",
              "        vertical-align: top;\n",
              "    }\n",
              "\n",
              "    .dataframe thead th {\n",
              "        text-align: right;\n",
              "    }\n",
              "</style>\n",
              "<table border=\"1\" class=\"dataframe\">\n",
              "  <thead>\n",
              "    <tr style=\"text-align: right;\">\n",
              "      <th></th>\n",
              "      <th>Average</th>\n",
              "      <th>Max</th>\n",
              "      <th>Min</th>\n",
              "    </tr>\n",
              "  </thead>\n",
              "  <tbody>\n",
              "    <tr>\n",
              "      <th>Degree</th>\n",
              "      <td>4.211471</td>\n",
              "      <td>534.000000</td>\n",
              "      <td>1.000000</td>\n",
              "    </tr>\n",
              "    <tr>\n",
              "      <th>Closeness</th>\n",
              "      <td>0.044221</td>\n",
              "      <td>0.199613</td>\n",
              "      <td>0.000000</td>\n",
              "    </tr>\n",
              "    <tr>\n",
              "      <th>Local clustering coefficient</th>\n",
              "      <td>0.066476</td>\n",
              "      <td>1.000000</td>\n",
              "      <td>0.000000</td>\n",
              "    </tr>\n",
              "    <tr>\n",
              "      <th>Centrality</th>\n",
              "      <td>0.000398</td>\n",
              "      <td>0.050463</td>\n",
              "      <td>0.000095</td>\n",
              "    </tr>\n",
              "  </tbody>\n",
              "</table>\n",
              "</div>"
            ],
            "text/plain": [
              "                               Average         Max       Min\n",
              "Degree                        4.211471  534.000000  1.000000\n",
              "Closeness                     0.044221    0.199613  0.000000\n",
              "Local clustering coefficient  0.066476    1.000000  0.000000\n",
              "Centrality                    0.000398    0.050463  0.000095"
            ]
          },
          "metadata": {
            "tags": []
          },
          "execution_count": 311
        }
      ]
    },
    {
      "cell_type": "markdown",
      "metadata": {
        "id": "jucx53lnNQLv"
      },
      "source": [
        "-----"
      ]
    },
    {
      "cell_type": "code",
      "metadata": {
        "colab": {
          "base_uri": "https://localhost:8080/",
          "height": 125
        },
        "id": "foyevbQGNSod",
        "outputId": "ec24cbe4-dbe9-4d90-9835-69dcbac9bab5"
      },
      "source": [
        "reddit_feb_table2.head()"
      ],
      "execution_count": 312,
      "outputs": [
        {
          "output_type": "execute_result",
          "data": {
            "text/html": [
              "<div>\n",
              "<style scoped>\n",
              "    .dataframe tbody tr th:only-of-type {\n",
              "        vertical-align: middle;\n",
              "    }\n",
              "\n",
              "    .dataframe tbody tr th {\n",
              "        vertical-align: top;\n",
              "    }\n",
              "\n",
              "    .dataframe thead th {\n",
              "        text-align: right;\n",
              "    }\n",
              "</style>\n",
              "<table border=\"1\" class=\"dataframe\">\n",
              "  <thead>\n",
              "    <tr style=\"text-align: right;\">\n",
              "      <th></th>\n",
              "      <th></th>\n",
              "    </tr>\n",
              "  </thead>\n",
              "  <tbody>\n",
              "    <tr>\n",
              "      <th>Global clustering coefficient</th>\n",
              "      <td>0.111181</td>\n",
              "    </tr>\n",
              "    <tr>\n",
              "      <th>Assortativity degree</th>\n",
              "      <td>-0.043712</td>\n",
              "    </tr>\n",
              "    <tr>\n",
              "      <th>Number of triads</th>\n",
              "      <td>54457.000000</td>\n",
              "    </tr>\n",
              "  </tbody>\n",
              "</table>\n",
              "</div>"
            ],
            "text/plain": [
              "                                           \n",
              "Global clustering coefficient      0.111181\n",
              "Assortativity degree              -0.043712\n",
              "Number of triads               54457.000000"
            ]
          },
          "metadata": {
            "tags": []
          },
          "execution_count": 312
        }
      ]
    },
    {
      "cell_type": "code",
      "metadata": {
        "colab": {
          "base_uri": "https://localhost:8080/",
          "height": 125
        },
        "id": "v7Jp_EWhNWC-",
        "outputId": "6c2618bb-867d-4d08-dab5-e382e2dd9b46"
      },
      "source": [
        "reddit_june_table2.head()"
      ],
      "execution_count": 313,
      "outputs": [
        {
          "output_type": "execute_result",
          "data": {
            "text/html": [
              "<div>\n",
              "<style scoped>\n",
              "    .dataframe tbody tr th:only-of-type {\n",
              "        vertical-align: middle;\n",
              "    }\n",
              "\n",
              "    .dataframe tbody tr th {\n",
              "        vertical-align: top;\n",
              "    }\n",
              "\n",
              "    .dataframe thead th {\n",
              "        text-align: right;\n",
              "    }\n",
              "</style>\n",
              "<table border=\"1\" class=\"dataframe\">\n",
              "  <thead>\n",
              "    <tr style=\"text-align: right;\">\n",
              "      <th></th>\n",
              "      <th></th>\n",
              "    </tr>\n",
              "  </thead>\n",
              "  <tbody>\n",
              "    <tr>\n",
              "      <th>Global clustering coefficient</th>\n",
              "      <td>0.038852</td>\n",
              "    </tr>\n",
              "    <tr>\n",
              "      <th>Assortativity degree</th>\n",
              "      <td>-0.036498</td>\n",
              "    </tr>\n",
              "    <tr>\n",
              "      <th>Number of triads</th>\n",
              "      <td>13312.000000</td>\n",
              "    </tr>\n",
              "  </tbody>\n",
              "</table>\n",
              "</div>"
            ],
            "text/plain": [
              "                                           \n",
              "Global clustering coefficient      0.038852\n",
              "Assortativity degree              -0.036498\n",
              "Number of triads               13312.000000"
            ]
          },
          "metadata": {
            "tags": []
          },
          "execution_count": 313
        }
      ]
    },
    {
      "cell_type": "code",
      "metadata": {
        "colab": {
          "base_uri": "https://localhost:8080/",
          "height": 125
        },
        "id": "dBL9ByA_NRAU",
        "outputId": "eb6a621e-4f53-4a9e-e9a5-8ee32bed7fb2"
      },
      "source": [
        "reddit_march_table2.head()"
      ],
      "execution_count": 314,
      "outputs": [
        {
          "output_type": "execute_result",
          "data": {
            "text/html": [
              "<div>\n",
              "<style scoped>\n",
              "    .dataframe tbody tr th:only-of-type {\n",
              "        vertical-align: middle;\n",
              "    }\n",
              "\n",
              "    .dataframe tbody tr th {\n",
              "        vertical-align: top;\n",
              "    }\n",
              "\n",
              "    .dataframe thead th {\n",
              "        text-align: right;\n",
              "    }\n",
              "</style>\n",
              "<table border=\"1\" class=\"dataframe\">\n",
              "  <thead>\n",
              "    <tr style=\"text-align: right;\">\n",
              "      <th></th>\n",
              "      <th></th>\n",
              "    </tr>\n",
              "  </thead>\n",
              "  <tbody>\n",
              "    <tr>\n",
              "      <th>Global clustering coefficient</th>\n",
              "      <td>0.073097</td>\n",
              "    </tr>\n",
              "    <tr>\n",
              "      <th>Assortativity degree</th>\n",
              "      <td>-0.040618</td>\n",
              "    </tr>\n",
              "    <tr>\n",
              "      <th>Number of triads</th>\n",
              "      <td>43642.000000</td>\n",
              "    </tr>\n",
              "  </tbody>\n",
              "</table>\n",
              "</div>"
            ],
            "text/plain": [
              "                                           \n",
              "Global clustering coefficient      0.073097\n",
              "Assortativity degree              -0.040618\n",
              "Number of triads               43642.000000"
            ]
          },
          "metadata": {
            "tags": []
          },
          "execution_count": 314
        }
      ]
    },
    {
      "cell_type": "markdown",
      "metadata": {
        "id": "1tFFCDLzNg6O"
      },
      "source": [
        "-----"
      ]
    },
    {
      "cell_type": "code",
      "metadata": {
        "colab": {
          "base_uri": "https://localhost:8080/",
          "height": 173
        },
        "id": "sIlYqvr9NiPA",
        "outputId": "20926547-eef5-4cd8-f84f-d65c3bf3c02d"
      },
      "source": [
        "reddit_feb_table3.head()"
      ],
      "execution_count": 315,
      "outputs": [
        {
          "output_type": "execute_result",
          "data": {
            "text/html": [
              "<div>\n",
              "<style scoped>\n",
              "    .dataframe tbody tr th:only-of-type {\n",
              "        vertical-align: middle;\n",
              "    }\n",
              "\n",
              "    .dataframe tbody tr th {\n",
              "        vertical-align: top;\n",
              "    }\n",
              "\n",
              "    .dataframe thead th {\n",
              "        text-align: right;\n",
              "    }\n",
              "</style>\n",
              "<table border=\"1\" class=\"dataframe\">\n",
              "  <thead>\n",
              "    <tr style=\"text-align: right;\">\n",
              "      <th></th>\n",
              "      <th>Triads</th>\n",
              "    </tr>\n",
              "  </thead>\n",
              "  <tbody>\n",
              "    <tr>\n",
              "      <th>+++</th>\n",
              "      <td>50229</td>\n",
              "    </tr>\n",
              "    <tr>\n",
              "      <th>++-</th>\n",
              "      <td>3389</td>\n",
              "    </tr>\n",
              "    <tr>\n",
              "      <th>+--</th>\n",
              "      <td>750</td>\n",
              "    </tr>\n",
              "    <tr>\n",
              "      <th>---</th>\n",
              "      <td>89</td>\n",
              "    </tr>\n",
              "  </tbody>\n",
              "</table>\n",
              "</div>"
            ],
            "text/plain": [
              "     Triads\n",
              "+++   50229\n",
              "++-    3389\n",
              "+--     750\n",
              "---      89"
            ]
          },
          "metadata": {
            "tags": []
          },
          "execution_count": 315
        }
      ]
    },
    {
      "cell_type": "code",
      "metadata": {
        "colab": {
          "base_uri": "https://localhost:8080/",
          "height": 173
        },
        "id": "OLvlyNHyNja_",
        "outputId": "c3e37f23-9669-45a5-c42a-385172a075a7"
      },
      "source": [
        "reddit_june_table3.head()"
      ],
      "execution_count": 316,
      "outputs": [
        {
          "output_type": "execute_result",
          "data": {
            "text/html": [
              "<div>\n",
              "<style scoped>\n",
              "    .dataframe tbody tr th:only-of-type {\n",
              "        vertical-align: middle;\n",
              "    }\n",
              "\n",
              "    .dataframe tbody tr th {\n",
              "        vertical-align: top;\n",
              "    }\n",
              "\n",
              "    .dataframe thead th {\n",
              "        text-align: right;\n",
              "    }\n",
              "</style>\n",
              "<table border=\"1\" class=\"dataframe\">\n",
              "  <thead>\n",
              "    <tr style=\"text-align: right;\">\n",
              "      <th></th>\n",
              "      <th>Triads</th>\n",
              "    </tr>\n",
              "  </thead>\n",
              "  <tbody>\n",
              "    <tr>\n",
              "      <th>+++</th>\n",
              "      <td>8961</td>\n",
              "    </tr>\n",
              "    <tr>\n",
              "      <th>++-</th>\n",
              "      <td>3289</td>\n",
              "    </tr>\n",
              "    <tr>\n",
              "      <th>+--</th>\n",
              "      <td>959</td>\n",
              "    </tr>\n",
              "    <tr>\n",
              "      <th>---</th>\n",
              "      <td>103</td>\n",
              "    </tr>\n",
              "  </tbody>\n",
              "</table>\n",
              "</div>"
            ],
            "text/plain": [
              "     Triads\n",
              "+++    8961\n",
              "++-    3289\n",
              "+--     959\n",
              "---     103"
            ]
          },
          "metadata": {
            "tags": []
          },
          "execution_count": 316
        }
      ]
    },
    {
      "cell_type": "code",
      "metadata": {
        "colab": {
          "base_uri": "https://localhost:8080/",
          "height": 173
        },
        "id": "7e_bIq5JNl0x",
        "outputId": "3a7e10a2-21de-42f5-ca4c-e49148fb516d"
      },
      "source": [
        "reddit_march_table3.head()"
      ],
      "execution_count": 317,
      "outputs": [
        {
          "output_type": "execute_result",
          "data": {
            "text/html": [
              "<div>\n",
              "<style scoped>\n",
              "    .dataframe tbody tr th:only-of-type {\n",
              "        vertical-align: middle;\n",
              "    }\n",
              "\n",
              "    .dataframe tbody tr th {\n",
              "        vertical-align: top;\n",
              "    }\n",
              "\n",
              "    .dataframe thead th {\n",
              "        text-align: right;\n",
              "    }\n",
              "</style>\n",
              "<table border=\"1\" class=\"dataframe\">\n",
              "  <thead>\n",
              "    <tr style=\"text-align: right;\">\n",
              "      <th></th>\n",
              "      <th>Triads</th>\n",
              "    </tr>\n",
              "  </thead>\n",
              "  <tbody>\n",
              "    <tr>\n",
              "      <th>+++</th>\n",
              "      <td>37524</td>\n",
              "    </tr>\n",
              "    <tr>\n",
              "      <th>++-</th>\n",
              "      <td>4960</td>\n",
              "    </tr>\n",
              "    <tr>\n",
              "      <th>+--</th>\n",
              "      <td>1061</td>\n",
              "    </tr>\n",
              "    <tr>\n",
              "      <th>---</th>\n",
              "      <td>97</td>\n",
              "    </tr>\n",
              "  </tbody>\n",
              "</table>\n",
              "</div>"
            ],
            "text/plain": [
              "     Triads\n",
              "+++   37524\n",
              "++-    4960\n",
              "+--    1061\n",
              "---      97"
            ]
          },
          "metadata": {
            "tags": []
          },
          "execution_count": 317
        }
      ]
    },
    {
      "cell_type": "markdown",
      "metadata": {
        "id": "kIX70mZmF3eq"
      },
      "source": [
        "The representation of the different subgraphs was given as follows: \n",
        "*   February - low number of positive edges \n",
        "*   June - mean number of positive edges\n",
        "*   March - high number of positive edges \n",
        "\n",
        "But investigating the number in table 1 for the different subgraphs one can see that march nodes have a higher degree and closeness. At the same time, February has a degree, closeness, and local clustering coefficient than June. By this, we can conclude that there does not seem to be much of a trend between the number of positive edges and the investigated properties in table 1.\n",
        "\n",
        " One thing to notice is that the higher degree the subgraph has a higher max number of the highest node it has. This might seem logical, but it can be depending on it is one node that makes the higher average or that the degrees of the nodes are higher on average. To get a better understanding this needs to be investigating more. \n",
        "\n",
        "\n",
        "\n",
        "\n"
      ]
    },
    {
      "cell_type": "markdown",
      "metadata": {
        "id": "bYuPdKCk46k-"
      },
      "source": [
        "-------------\n"
      ]
    },
    {
      "cell_type": "code",
      "metadata": {
        "id": "N3RJ83eP48Qg"
      },
      "source": [
        "reddit_feb_table2.head()"
      ],
      "execution_count": null,
      "outputs": []
    },
    {
      "cell_type": "code",
      "metadata": {
        "id": "QtijhNK44-bM"
      },
      "source": [
        "reddit_march_table2.head()"
      ],
      "execution_count": null,
      "outputs": []
    },
    {
      "cell_type": "code",
      "metadata": {
        "id": "4LtUY9Zb5CAg"
      },
      "source": [
        "reddit_june_table2.head()"
      ],
      "execution_count": null,
      "outputs": []
    },
    {
      "cell_type": "markdown",
      "metadata": {
        "id": "OPuFfZR8saUu"
      },
      "source": [
        "#### Reddit - Day"
      ]
    },
    {
      "cell_type": "code",
      "metadata": {
        "colab": {
          "base_uri": "https://localhost:8080/",
          "height": 309
        },
        "id": "1QV6J-xLum7v",
        "outputId": "cad2d67d-f2e2-40b9-f8f6-d6d1796b4212"
      },
      "source": [
        "data_body.head()"
      ],
      "execution_count": 119,
      "outputs": [
        {
          "output_type": "execute_result",
          "data": {
            "text/html": [
              "<div>\n",
              "<style scoped>\n",
              "    .dataframe tbody tr th:only-of-type {\n",
              "        vertical-align: middle;\n",
              "    }\n",
              "\n",
              "    .dataframe tbody tr th {\n",
              "        vertical-align: top;\n",
              "    }\n",
              "\n",
              "    .dataframe thead th {\n",
              "        text-align: right;\n",
              "    }\n",
              "</style>\n",
              "<table border=\"1\" class=\"dataframe\">\n",
              "  <thead>\n",
              "    <tr style=\"text-align: right;\">\n",
              "      <th></th>\n",
              "      <th>SOURCE_SUBREDDIT</th>\n",
              "      <th>TARGET_SUBREDDIT</th>\n",
              "      <th>POST_ID</th>\n",
              "      <th>TIMESTAMP</th>\n",
              "      <th>Sign</th>\n",
              "      <th>PROPERTIES</th>\n",
              "    </tr>\n",
              "  </thead>\n",
              "  <tbody>\n",
              "    <tr>\n",
              "      <th>0</th>\n",
              "      <td>leagueoflegends</td>\n",
              "      <td>teamredditteams</td>\n",
              "      <td>1u4nrps</td>\n",
              "      <td>2013-12-31 16:39:58</td>\n",
              "      <td>1</td>\n",
              "      <td>345.0,298.0,0.75652173913,0.0173913043478,0.08...</td>\n",
              "    </tr>\n",
              "    <tr>\n",
              "      <th>1</th>\n",
              "      <td>theredlion</td>\n",
              "      <td>soccer</td>\n",
              "      <td>1u4qkd</td>\n",
              "      <td>2013-12-31 18:18:37</td>\n",
              "      <td>-1</td>\n",
              "      <td>101.0,98.0,0.742574257426,0.019801980198,0.049...</td>\n",
              "    </tr>\n",
              "    <tr>\n",
              "      <th>2</th>\n",
              "      <td>inlandempire</td>\n",
              "      <td>bikela</td>\n",
              "      <td>1u4qlzs</td>\n",
              "      <td>2014-01-01 14:54:35</td>\n",
              "      <td>1</td>\n",
              "      <td>85.0,85.0,0.752941176471,0.0235294117647,0.082...</td>\n",
              "    </tr>\n",
              "    <tr>\n",
              "      <th>3</th>\n",
              "      <td>nfl</td>\n",
              "      <td>cfb</td>\n",
              "      <td>1u4sjvs</td>\n",
              "      <td>2013-12-31 17:37:55</td>\n",
              "      <td>1</td>\n",
              "      <td>1124.0,949.0,0.772241992883,0.0017793594306,0....</td>\n",
              "    </tr>\n",
              "    <tr>\n",
              "      <th>4</th>\n",
              "      <td>playmygame</td>\n",
              "      <td>gamedev</td>\n",
              "      <td>1u4w5ss</td>\n",
              "      <td>2014-01-01 02:51:13</td>\n",
              "      <td>1</td>\n",
              "      <td>715.0,622.0,0.777622377622,0.00699300699301,0....</td>\n",
              "    </tr>\n",
              "  </tbody>\n",
              "</table>\n",
              "</div>"
            ],
            "text/plain": [
              "  SOURCE_SUBREDDIT  ...                                         PROPERTIES\n",
              "0  leagueoflegends  ...  345.0,298.0,0.75652173913,0.0173913043478,0.08...\n",
              "1       theredlion  ...  101.0,98.0,0.742574257426,0.019801980198,0.049...\n",
              "2     inlandempire  ...  85.0,85.0,0.752941176471,0.0235294117647,0.082...\n",
              "3              nfl  ...  1124.0,949.0,0.772241992883,0.0017793594306,0....\n",
              "4       playmygame  ...  715.0,622.0,0.777622377622,0.00699300699301,0....\n",
              "\n",
              "[5 rows x 6 columns]"
            ]
          },
          "metadata": {
            "tags": []
          },
          "execution_count": 119
        }
      ]
    },
    {
      "cell_type": "code",
      "metadata": {
        "id": "qmyi8ffSsbEy"
      },
      "source": [
        "\n",
        "mask_tuesday = (data_body['TIMESTAMP'].dt.weekday == 1)\n",
        "reddit_tuesday = data_body.loc[mask_tuesday]\n"
      ],
      "execution_count": 120,
      "outputs": []
    },
    {
      "cell_type": "code",
      "metadata": {
        "id": "EJ9KBnl33iTR"
      },
      "source": [
        "reddit_tuesday_graph = nx.from_pandas_edgelist(reddit_tuesday,\"SOURCE_SUBREDDIT\",\"TARGET_SUBREDDIT\",edge_attr=\"Sign\",create_using=nx.DiGraph)\n"
      ],
      "execution_count": 121,
      "outputs": []
    },
    {
      "cell_type": "code",
      "metadata": {
        "id": "QWNNAONt5OUR"
      },
      "source": [
        "reddit_tuseday_table1,reddit_tuesday_table2,reddit_tuesday_table3 = graph_properties(reddit_tuesday_graph)"
      ],
      "execution_count": 124,
      "outputs": []
    },
    {
      "cell_type": "code",
      "metadata": {
        "colab": {
          "base_uri": "https://localhost:8080/",
          "height": 173
        },
        "id": "Isid1YjtDVDd",
        "outputId": "f5281555-933f-45df-e15c-1ea2d9d35c6d"
      },
      "source": [
        "reddit_tuseday_table1"
      ],
      "execution_count": 125,
      "outputs": [
        {
          "output_type": "execute_result",
          "data": {
            "text/html": [
              "<div>\n",
              "<style scoped>\n",
              "    .dataframe tbody tr th:only-of-type {\n",
              "        vertical-align: middle;\n",
              "    }\n",
              "\n",
              "    .dataframe tbody tr th {\n",
              "        vertical-align: top;\n",
              "    }\n",
              "\n",
              "    .dataframe thead th {\n",
              "        text-align: right;\n",
              "    }\n",
              "</style>\n",
              "<table border=\"1\" class=\"dataframe\">\n",
              "  <thead>\n",
              "    <tr style=\"text-align: right;\">\n",
              "      <th></th>\n",
              "      <th>Average</th>\n",
              "      <th>Max</th>\n",
              "      <th>Min</th>\n",
              "    </tr>\n",
              "  </thead>\n",
              "  <tbody>\n",
              "    <tr>\n",
              "      <th>Degree</th>\n",
              "      <td>4.443965</td>\n",
              "      <td>737.000000</td>\n",
              "      <td>1.000000</td>\n",
              "    </tr>\n",
              "    <tr>\n",
              "      <th>Closeness</th>\n",
              "      <td>0.050463</td>\n",
              "      <td>0.222599</td>\n",
              "      <td>0.000000</td>\n",
              "    </tr>\n",
              "    <tr>\n",
              "      <th>Local clustering coefficient</th>\n",
              "      <td>0.070541</td>\n",
              "      <td>1.000000</td>\n",
              "      <td>0.000000</td>\n",
              "    </tr>\n",
              "    <tr>\n",
              "      <th>Centrality</th>\n",
              "      <td>0.000320</td>\n",
              "      <td>0.053052</td>\n",
              "      <td>0.000072</td>\n",
              "    </tr>\n",
              "  </tbody>\n",
              "</table>\n",
              "</div>"
            ],
            "text/plain": [
              "                               Average         Max       Min\n",
              "Degree                        4.443965  737.000000  1.000000\n",
              "Closeness                     0.050463    0.222599  0.000000\n",
              "Local clustering coefficient  0.070541    1.000000  0.000000\n",
              "Centrality                    0.000320    0.053052  0.000072"
            ]
          },
          "metadata": {
            "tags": []
          },
          "execution_count": 125
        }
      ]
    },
    {
      "cell_type": "code",
      "metadata": {
        "colab": {
          "base_uri": "https://localhost:8080/",
          "height": 125
        },
        "id": "MnWZMrekDXuM",
        "outputId": "0e93e2ce-3791-4851-8bb5-f13a18273394"
      },
      "source": [
        "reddit_tuesday_table2"
      ],
      "execution_count": 126,
      "outputs": [
        {
          "output_type": "execute_result",
          "data": {
            "text/html": [
              "<div>\n",
              "<style scoped>\n",
              "    .dataframe tbody tr th:only-of-type {\n",
              "        vertical-align: middle;\n",
              "    }\n",
              "\n",
              "    .dataframe tbody tr th {\n",
              "        vertical-align: top;\n",
              "    }\n",
              "\n",
              "    .dataframe thead th {\n",
              "        text-align: right;\n",
              "    }\n",
              "</style>\n",
              "<table border=\"1\" class=\"dataframe\">\n",
              "  <thead>\n",
              "    <tr style=\"text-align: right;\">\n",
              "      <th></th>\n",
              "      <th></th>\n",
              "    </tr>\n",
              "  </thead>\n",
              "  <tbody>\n",
              "    <tr>\n",
              "      <th>Global clustering coefficient</th>\n",
              "      <td>0.049076</td>\n",
              "    </tr>\n",
              "    <tr>\n",
              "      <th>Assortativity degree</th>\n",
              "      <td>-0.045391</td>\n",
              "    </tr>\n",
              "    <tr>\n",
              "      <th>Number of triads</th>\n",
              "      <td>46940.000000</td>\n",
              "    </tr>\n",
              "  </tbody>\n",
              "</table>\n",
              "</div>"
            ],
            "text/plain": [
              "                                           \n",
              "Global clustering coefficient      0.049076\n",
              "Assortativity degree              -0.045391\n",
              "Number of triads               46940.000000"
            ]
          },
          "metadata": {
            "tags": []
          },
          "execution_count": 126
        }
      ]
    },
    {
      "cell_type": "code",
      "metadata": {
        "colab": {
          "base_uri": "https://localhost:8080/",
          "height": 173
        },
        "id": "CmRqy5_fsngx",
        "outputId": "1134019e-e8f6-49ff-ce21-922fd9339f42"
      },
      "source": [
        "reddit_tuesday_table3"
      ],
      "execution_count": 127,
      "outputs": [
        {
          "output_type": "execute_result",
          "data": {
            "text/html": [
              "<div>\n",
              "<style scoped>\n",
              "    .dataframe tbody tr th:only-of-type {\n",
              "        vertical-align: middle;\n",
              "    }\n",
              "\n",
              "    .dataframe tbody tr th {\n",
              "        vertical-align: top;\n",
              "    }\n",
              "\n",
              "    .dataframe thead th {\n",
              "        text-align: right;\n",
              "    }\n",
              "</style>\n",
              "<table border=\"1\" class=\"dataframe\">\n",
              "  <thead>\n",
              "    <tr style=\"text-align: right;\">\n",
              "      <th></th>\n",
              "      <th>Triads</th>\n",
              "    </tr>\n",
              "  </thead>\n",
              "  <tbody>\n",
              "    <tr>\n",
              "      <th>+++</th>\n",
              "      <td>36236</td>\n",
              "    </tr>\n",
              "    <tr>\n",
              "      <th>++-</th>\n",
              "      <td>8800</td>\n",
              "    </tr>\n",
              "    <tr>\n",
              "      <th>+--</th>\n",
              "      <td>1763</td>\n",
              "    </tr>\n",
              "    <tr>\n",
              "      <th>---</th>\n",
              "      <td>141</td>\n",
              "    </tr>\n",
              "  </tbody>\n",
              "</table>\n",
              "</div>"
            ],
            "text/plain": [
              "     Triads\n",
              "+++   36236\n",
              "++-    8800\n",
              "+--    1763\n",
              "---     141"
            ]
          },
          "metadata": {
            "tags": []
          },
          "execution_count": 127
        }
      ]
    },
    {
      "cell_type": "markdown",
      "metadata": {
        "id": "PupO-tJCx_Bc"
      },
      "source": [
        "#### Reddit - hour "
      ]
    },
    {
      "cell_type": "code",
      "metadata": {
        "id": "pfqgNhRkyBIQ"
      },
      "source": [
        "mask_7h = (data_body['TIMESTAMP'].dt.hour == 7)\n",
        "mask_18h = (data_body['TIMESTAMP'].dt.hour == 18)\n",
        "mask_12h = (data_body['TIMESTAMP'].dt.hour == 12)\n",
        "\n",
        "reddit_7h = data_body.loc[mask_7h]\n",
        "reddit_18h = data_body.loc[mask_18h]\n",
        "reddit_12h = data_body.loc[mask_12h]"
      ],
      "execution_count": 139,
      "outputs": []
    },
    {
      "cell_type": "code",
      "metadata": {
        "colab": {
          "base_uri": "https://localhost:8080/",
          "height": 309
        },
        "id": "5i7ImyunyaCg",
        "outputId": "6bc0bcbb-22b5-4f87-f727-df697a373165"
      },
      "source": [
        "reddit_7h.head()"
      ],
      "execution_count": 140,
      "outputs": [
        {
          "output_type": "execute_result",
          "data": {
            "text/html": [
              "<div>\n",
              "<style scoped>\n",
              "    .dataframe tbody tr th:only-of-type {\n",
              "        vertical-align: middle;\n",
              "    }\n",
              "\n",
              "    .dataframe tbody tr th {\n",
              "        vertical-align: top;\n",
              "    }\n",
              "\n",
              "    .dataframe thead th {\n",
              "        text-align: right;\n",
              "    }\n",
              "</style>\n",
              "<table border=\"1\" class=\"dataframe\">\n",
              "  <thead>\n",
              "    <tr style=\"text-align: right;\">\n",
              "      <th></th>\n",
              "      <th>SOURCE_SUBREDDIT</th>\n",
              "      <th>TARGET_SUBREDDIT</th>\n",
              "      <th>POST_ID</th>\n",
              "      <th>TIMESTAMP</th>\n",
              "      <th>Sign</th>\n",
              "      <th>PROPERTIES</th>\n",
              "    </tr>\n",
              "  </thead>\n",
              "  <tbody>\n",
              "    <tr>\n",
              "      <th>16</th>\n",
              "      <td>kpop</td>\n",
              "      <td>dota2</td>\n",
              "      <td>1u5qg2s</td>\n",
              "      <td>2014-01-01 07:05:10</td>\n",
              "      <td>1</td>\n",
              "      <td>1050.0,938.0,0.705714285714,0.0419047619048,0....</td>\n",
              "    </tr>\n",
              "    <tr>\n",
              "      <th>17</th>\n",
              "      <td>airsoft</td>\n",
              "      <td>airsoftmarket</td>\n",
              "      <td>1u5r7js</td>\n",
              "      <td>2014-01-01 07:09:16</td>\n",
              "      <td>1</td>\n",
              "      <td>3788.0,3206.0,0.737856388596,0.0145195353749,0...</td>\n",
              "    </tr>\n",
              "    <tr>\n",
              "      <th>21</th>\n",
              "      <td>fl_vapers</td>\n",
              "      <td>vaperequests</td>\n",
              "      <td>1u5uchs</td>\n",
              "      <td>2014-01-03 07:21:14</td>\n",
              "      <td>1</td>\n",
              "      <td>218.0,197.0,0.756880733945,0.0137614678899,0.0...</td>\n",
              "    </tr>\n",
              "    <tr>\n",
              "      <th>30</th>\n",
              "      <td>metafitnesscirclejerk</td>\n",
              "      <td>fitnesscirclejerk</td>\n",
              "      <td>1u6b38s</td>\n",
              "      <td>2014-01-03 07:20:26</td>\n",
              "      <td>1</td>\n",
              "      <td>162.0,149.0,0.777777777778,0.0123456790123,0.0...</td>\n",
              "    </tr>\n",
              "    <tr>\n",
              "      <th>46</th>\n",
              "      <td>bluebirds</td>\n",
              "      <td>soccer</td>\n",
              "      <td>1u6y0qs</td>\n",
              "      <td>2014-01-01 07:52:46</td>\n",
              "      <td>1</td>\n",
              "      <td>223.0,215.0,0.704035874439,0.0582959641256,0.0...</td>\n",
              "    </tr>\n",
              "  </tbody>\n",
              "</table>\n",
              "</div>"
            ],
            "text/plain": [
              "         SOURCE_SUBREDDIT  ...                                         PROPERTIES\n",
              "16                   kpop  ...  1050.0,938.0,0.705714285714,0.0419047619048,0....\n",
              "17                airsoft  ...  3788.0,3206.0,0.737856388596,0.0145195353749,0...\n",
              "21              fl_vapers  ...  218.0,197.0,0.756880733945,0.0137614678899,0.0...\n",
              "30  metafitnesscirclejerk  ...  162.0,149.0,0.777777777778,0.0123456790123,0.0...\n",
              "46              bluebirds  ...  223.0,215.0,0.704035874439,0.0582959641256,0.0...\n",
              "\n",
              "[5 rows x 6 columns]"
            ]
          },
          "metadata": {
            "tags": []
          },
          "execution_count": 140
        }
      ]
    },
    {
      "cell_type": "code",
      "metadata": {
        "colab": {
          "base_uri": "https://localhost:8080/",
          "height": 309
        },
        "id": "GhA9IVENyfvH",
        "outputId": "5fe767fc-e6b8-43cd-e61e-542468503b24"
      },
      "source": [
        "reddit_18h.head()"
      ],
      "execution_count": 141,
      "outputs": [
        {
          "output_type": "execute_result",
          "data": {
            "text/html": [
              "<div>\n",
              "<style scoped>\n",
              "    .dataframe tbody tr th:only-of-type {\n",
              "        vertical-align: middle;\n",
              "    }\n",
              "\n",
              "    .dataframe tbody tr th {\n",
              "        vertical-align: top;\n",
              "    }\n",
              "\n",
              "    .dataframe thead th {\n",
              "        text-align: right;\n",
              "    }\n",
              "</style>\n",
              "<table border=\"1\" class=\"dataframe\">\n",
              "  <thead>\n",
              "    <tr style=\"text-align: right;\">\n",
              "      <th></th>\n",
              "      <th>SOURCE_SUBREDDIT</th>\n",
              "      <th>TARGET_SUBREDDIT</th>\n",
              "      <th>POST_ID</th>\n",
              "      <th>TIMESTAMP</th>\n",
              "      <th>Sign</th>\n",
              "      <th>PROPERTIES</th>\n",
              "    </tr>\n",
              "  </thead>\n",
              "  <tbody>\n",
              "    <tr>\n",
              "      <th>1</th>\n",
              "      <td>theredlion</td>\n",
              "      <td>soccer</td>\n",
              "      <td>1u4qkd</td>\n",
              "      <td>2013-12-31 18:18:37</td>\n",
              "      <td>-1</td>\n",
              "      <td>101.0,98.0,0.742574257426,0.019801980198,0.049...</td>\n",
              "    </tr>\n",
              "    <tr>\n",
              "      <th>5</th>\n",
              "      <td>dogemarket</td>\n",
              "      <td>dogecoin</td>\n",
              "      <td>1u4w7bs</td>\n",
              "      <td>2013-12-31 18:35:44</td>\n",
              "      <td>1</td>\n",
              "      <td>1328.0,1110.0,0.768825301205,0.0143072289157,0...</td>\n",
              "    </tr>\n",
              "    <tr>\n",
              "      <th>49</th>\n",
              "      <td>badhistory</td>\n",
              "      <td>worldpolitics</td>\n",
              "      <td>1u6zefs</td>\n",
              "      <td>2014-01-01 18:22:33</td>\n",
              "      <td>1</td>\n",
              "      <td>2796.0,2433.0,0.775751072961,0.0125178826896,0...</td>\n",
              "    </tr>\n",
              "    <tr>\n",
              "      <th>56</th>\n",
              "      <td>minnesotavikings</td>\n",
              "      <td>nfl</td>\n",
              "      <td>1u73nms</td>\n",
              "      <td>2014-01-01 18:13:47</td>\n",
              "      <td>1</td>\n",
              "      <td>423.0,359.0,0.77304964539,0.00709219858156,0.0...</td>\n",
              "    </tr>\n",
              "    <tr>\n",
              "      <th>58</th>\n",
              "      <td>booksuggestions</td>\n",
              "      <td>books</td>\n",
              "      <td>1u75lns</td>\n",
              "      <td>2014-01-01 18:06:46</td>\n",
              "      <td>1</td>\n",
              "      <td>1080.0,918.0,0.781481481481,0.00925925925926,0...</td>\n",
              "    </tr>\n",
              "  </tbody>\n",
              "</table>\n",
              "</div>"
            ],
            "text/plain": [
              "    SOURCE_SUBREDDIT  ...                                         PROPERTIES\n",
              "1         theredlion  ...  101.0,98.0,0.742574257426,0.019801980198,0.049...\n",
              "5         dogemarket  ...  1328.0,1110.0,0.768825301205,0.0143072289157,0...\n",
              "49        badhistory  ...  2796.0,2433.0,0.775751072961,0.0125178826896,0...\n",
              "56  minnesotavikings  ...  423.0,359.0,0.77304964539,0.00709219858156,0.0...\n",
              "58   booksuggestions  ...  1080.0,918.0,0.781481481481,0.00925925925926,0...\n",
              "\n",
              "[5 rows x 6 columns]"
            ]
          },
          "metadata": {
            "tags": []
          },
          "execution_count": 141
        }
      ]
    },
    {
      "cell_type": "code",
      "metadata": {
        "colab": {
          "base_uri": "https://localhost:8080/",
          "height": 309
        },
        "id": "yqfUUeK0yh1F",
        "outputId": "e09fb47f-a42e-4ecf-fa60-519a7113041e"
      },
      "source": [
        "reddit_12h.head()"
      ],
      "execution_count": 142,
      "outputs": [
        {
          "output_type": "execute_result",
          "data": {
            "text/html": [
              "<div>\n",
              "<style scoped>\n",
              "    .dataframe tbody tr th:only-of-type {\n",
              "        vertical-align: middle;\n",
              "    }\n",
              "\n",
              "    .dataframe tbody tr th {\n",
              "        vertical-align: top;\n",
              "    }\n",
              "\n",
              "    .dataframe thead th {\n",
              "        text-align: right;\n",
              "    }\n",
              "</style>\n",
              "<table border=\"1\" class=\"dataframe\">\n",
              "  <thead>\n",
              "    <tr style=\"text-align: right;\">\n",
              "      <th></th>\n",
              "      <th>SOURCE_SUBREDDIT</th>\n",
              "      <th>TARGET_SUBREDDIT</th>\n",
              "      <th>POST_ID</th>\n",
              "      <th>TIMESTAMP</th>\n",
              "      <th>Sign</th>\n",
              "      <th>PROPERTIES</th>\n",
              "    </tr>\n",
              "  </thead>\n",
              "  <tbody>\n",
              "    <tr>\n",
              "      <th>27</th>\n",
              "      <td>politicaldiscussion</td>\n",
              "      <td>todayilearned</td>\n",
              "      <td>1u64d9s</td>\n",
              "      <td>2014-01-01 12:50:53</td>\n",
              "      <td>1</td>\n",
              "      <td>232.0,213.0,0.771551724138,0.0172413793103,0.0...</td>\n",
              "    </tr>\n",
              "    <tr>\n",
              "      <th>34</th>\n",
              "      <td>karmaconspiracy</td>\n",
              "      <td>funny</td>\n",
              "      <td>1u6fz3</td>\n",
              "      <td>2014-01-01 12:44:19</td>\n",
              "      <td>-1</td>\n",
              "      <td>186.0,182.0,0.741935483871,0.0376344086022,0.0...</td>\n",
              "    </tr>\n",
              "    <tr>\n",
              "      <th>41</th>\n",
              "      <td>highqualitygifs</td>\n",
              "      <td>bestof2013</td>\n",
              "      <td>1u6pq6s</td>\n",
              "      <td>2014-01-01 12:43:00</td>\n",
              "      <td>1</td>\n",
              "      <td>1403.0,1331.0,0.700641482537,0.0306486101212,0...</td>\n",
              "    </tr>\n",
              "    <tr>\n",
              "      <th>48</th>\n",
              "      <td>hailcorporate</td>\n",
              "      <td>firstworldanarchists</td>\n",
              "      <td>1u6zays</td>\n",
              "      <td>2014-01-01 12:19:58</td>\n",
              "      <td>1</td>\n",
              "      <td>241.0,212.0,0.775933609959,0.0124481327801,0.0...</td>\n",
              "    </tr>\n",
              "    <tr>\n",
              "      <th>67</th>\n",
              "      <td>hailcorporate</td>\n",
              "      <td>cfb</td>\n",
              "      <td>1u7gtms</td>\n",
              "      <td>2014-01-01 12:19:58</td>\n",
              "      <td>1</td>\n",
              "      <td>966.0,818.0,0.760869565217,0.00931677018634,0....</td>\n",
              "    </tr>\n",
              "  </tbody>\n",
              "</table>\n",
              "</div>"
            ],
            "text/plain": [
              "       SOURCE_SUBREDDIT  ...                                         PROPERTIES\n",
              "27  politicaldiscussion  ...  232.0,213.0,0.771551724138,0.0172413793103,0.0...\n",
              "34      karmaconspiracy  ...  186.0,182.0,0.741935483871,0.0376344086022,0.0...\n",
              "41      highqualitygifs  ...  1403.0,1331.0,0.700641482537,0.0306486101212,0...\n",
              "48        hailcorporate  ...  241.0,212.0,0.775933609959,0.0124481327801,0.0...\n",
              "67        hailcorporate  ...  966.0,818.0,0.760869565217,0.00931677018634,0....\n",
              "\n",
              "[5 rows x 6 columns]"
            ]
          },
          "metadata": {
            "tags": []
          },
          "execution_count": 142
        }
      ]
    },
    {
      "cell_type": "code",
      "metadata": {
        "id": "5MTtlBM35WAr"
      },
      "source": [
        "reddit_7h_graph = nx.from_pandas_edgelist(reddit_7h,\"SOURCE_SUBREDDIT\",\"TARGET_SUBREDDIT\",edge_attr=\"Sign\",create_using=nx.DiGraph)\n",
        "reddit_18h_graph = nx.from_pandas_edgelist(reddit_18h,\"SOURCE_SUBREDDIT\",\"TARGET_SUBREDDIT\",edge_attr=\"Sign\",create_using=nx.DiGraph)\n",
        "reddit_12h_graph = nx.from_pandas_edgelist(reddit_12h,\"SOURCE_SUBREDDIT\",\"TARGET_SUBREDDIT\",edge_attr=\"Sign\",create_using=nx.DiGraph)\n"
      ],
      "execution_count": 143,
      "outputs": []
    },
    {
      "cell_type": "code",
      "metadata": {
        "id": "bim7Vr1g5pWr"
      },
      "source": [
        "reddit_7h_table1,reddit_7h_table2,reddit_7h_table3 = graph_properties(reddit_7h_graph)\n",
        "reddit_18h_table1,reddit_18h_table2,reddit_18h_table3 = graph_properties(reddit_18h_graph)\n",
        "reddit_12h_table1,reddit_12h_table2,reddit_12h_table3 = graph_properties(reddit_12h_graph)"
      ],
      "execution_count": 144,
      "outputs": []
    },
    {
      "cell_type": "code",
      "metadata": {
        "colab": {
          "base_uri": "https://localhost:8080/",
          "height": 173
        },
        "id": "3l-hp7sj595m",
        "outputId": "0b2e62d2-745d-404c-eade-bfd5c7f056b0"
      },
      "source": [
        "reddit_7h_table1.head()"
      ],
      "execution_count": 145,
      "outputs": [
        {
          "output_type": "execute_result",
          "data": {
            "text/html": [
              "<div>\n",
              "<style scoped>\n",
              "    .dataframe tbody tr th:only-of-type {\n",
              "        vertical-align: middle;\n",
              "    }\n",
              "\n",
              "    .dataframe tbody tr th {\n",
              "        vertical-align: top;\n",
              "    }\n",
              "\n",
              "    .dataframe thead th {\n",
              "        text-align: right;\n",
              "    }\n",
              "</style>\n",
              "<table border=\"1\" class=\"dataframe\">\n",
              "  <thead>\n",
              "    <tr style=\"text-align: right;\">\n",
              "      <th></th>\n",
              "      <th>Average</th>\n",
              "      <th>Max</th>\n",
              "      <th>Min</th>\n",
              "    </tr>\n",
              "  </thead>\n",
              "  <tbody>\n",
              "    <tr>\n",
              "      <th>Degree</th>\n",
              "      <td>3.213051</td>\n",
              "      <td>290.000000</td>\n",
              "      <td>1.00000</td>\n",
              "    </tr>\n",
              "    <tr>\n",
              "      <th>Closeness</th>\n",
              "      <td>0.024986</td>\n",
              "      <td>0.145379</td>\n",
              "      <td>0.00000</td>\n",
              "    </tr>\n",
              "    <tr>\n",
              "      <th>Local clustering coefficient</th>\n",
              "      <td>0.036419</td>\n",
              "      <td>1.000000</td>\n",
              "      <td>0.00000</td>\n",
              "    </tr>\n",
              "    <tr>\n",
              "      <th>Centrality</th>\n",
              "      <td>0.000483</td>\n",
              "      <td>0.043609</td>\n",
              "      <td>0.00015</td>\n",
              "    </tr>\n",
              "  </tbody>\n",
              "</table>\n",
              "</div>"
            ],
            "text/plain": [
              "                               Average         Max      Min\n",
              "Degree                        3.213051  290.000000  1.00000\n",
              "Closeness                     0.024986    0.145379  0.00000\n",
              "Local clustering coefficient  0.036419    1.000000  0.00000\n",
              "Centrality                    0.000483    0.043609  0.00015"
            ]
          },
          "metadata": {
            "tags": []
          },
          "execution_count": 145
        }
      ]
    },
    {
      "cell_type": "code",
      "metadata": {
        "colab": {
          "base_uri": "https://localhost:8080/",
          "height": 173
        },
        "id": "Ea4tx4Tm6A_-",
        "outputId": "ab36c4be-047c-4079-f7d3-8679f7d27b24"
      },
      "source": [
        "reddit_18h_table1.head()"
      ],
      "execution_count": 146,
      "outputs": [
        {
          "output_type": "execute_result",
          "data": {
            "text/html": [
              "<div>\n",
              "<style scoped>\n",
              "    .dataframe tbody tr th:only-of-type {\n",
              "        vertical-align: middle;\n",
              "    }\n",
              "\n",
              "    .dataframe tbody tr th {\n",
              "        vertical-align: top;\n",
              "    }\n",
              "\n",
              "    .dataframe thead th {\n",
              "        text-align: right;\n",
              "    }\n",
              "</style>\n",
              "<table border=\"1\" class=\"dataframe\">\n",
              "  <thead>\n",
              "    <tr style=\"text-align: right;\">\n",
              "      <th></th>\n",
              "      <th>Average</th>\n",
              "      <th>Max</th>\n",
              "      <th>Min</th>\n",
              "    </tr>\n",
              "  </thead>\n",
              "  <tbody>\n",
              "    <tr>\n",
              "      <th>Degree</th>\n",
              "      <td>3.081127</td>\n",
              "      <td>285.000000</td>\n",
              "      <td>1.000000</td>\n",
              "    </tr>\n",
              "    <tr>\n",
              "      <th>Closeness</th>\n",
              "      <td>0.023130</td>\n",
              "      <td>0.142895</td>\n",
              "      <td>0.000000</td>\n",
              "    </tr>\n",
              "    <tr>\n",
              "      <th>Local clustering coefficient</th>\n",
              "      <td>0.036773</td>\n",
              "      <td>1.000000</td>\n",
              "      <td>0.000000</td>\n",
              "    </tr>\n",
              "    <tr>\n",
              "      <th>Centrality</th>\n",
              "      <td>0.000439</td>\n",
              "      <td>0.040569</td>\n",
              "      <td>0.000142</td>\n",
              "    </tr>\n",
              "  </tbody>\n",
              "</table>\n",
              "</div>"
            ],
            "text/plain": [
              "                               Average         Max       Min\n",
              "Degree                        3.081127  285.000000  1.000000\n",
              "Closeness                     0.023130    0.142895  0.000000\n",
              "Local clustering coefficient  0.036773    1.000000  0.000000\n",
              "Centrality                    0.000439    0.040569  0.000142"
            ]
          },
          "metadata": {
            "tags": []
          },
          "execution_count": 146
        }
      ]
    },
    {
      "cell_type": "code",
      "metadata": {
        "colab": {
          "base_uri": "https://localhost:8080/",
          "height": 173
        },
        "id": "pTPHOnNT6FQu",
        "outputId": "e33b7c6e-a552-40c6-dd52-42bd54edd17a"
      },
      "source": [
        "reddit_12h_table1.head()"
      ],
      "execution_count": 147,
      "outputs": [
        {
          "output_type": "execute_result",
          "data": {
            "text/html": [
              "<div>\n",
              "<style scoped>\n",
              "    .dataframe tbody tr th:only-of-type {\n",
              "        vertical-align: middle;\n",
              "    }\n",
              "\n",
              "    .dataframe tbody tr th {\n",
              "        vertical-align: top;\n",
              "    }\n",
              "\n",
              "    .dataframe thead th {\n",
              "        text-align: right;\n",
              "    }\n",
              "</style>\n",
              "<table border=\"1\" class=\"dataframe\">\n",
              "  <thead>\n",
              "    <tr style=\"text-align: right;\">\n",
              "      <th></th>\n",
              "      <th>Average</th>\n",
              "      <th>Max</th>\n",
              "      <th>Min</th>\n",
              "    </tr>\n",
              "  </thead>\n",
              "  <tbody>\n",
              "    <tr>\n",
              "      <th>Degree</th>\n",
              "      <td>3.260215</td>\n",
              "      <td>316.000000</td>\n",
              "      <td>1.000000</td>\n",
              "    </tr>\n",
              "    <tr>\n",
              "      <th>Closeness</th>\n",
              "      <td>0.028511</td>\n",
              "      <td>0.158988</td>\n",
              "      <td>0.000000</td>\n",
              "    </tr>\n",
              "    <tr>\n",
              "      <th>Local clustering coefficient</th>\n",
              "      <td>0.041013</td>\n",
              "      <td>1.000000</td>\n",
              "      <td>0.000000</td>\n",
              "    </tr>\n",
              "    <tr>\n",
              "      <th>Centrality</th>\n",
              "      <td>0.000416</td>\n",
              "      <td>0.040352</td>\n",
              "      <td>0.000128</td>\n",
              "    </tr>\n",
              "  </tbody>\n",
              "</table>\n",
              "</div>"
            ],
            "text/plain": [
              "                               Average         Max       Min\n",
              "Degree                        3.260215  316.000000  1.000000\n",
              "Closeness                     0.028511    0.158988  0.000000\n",
              "Local clustering coefficient  0.041013    1.000000  0.000000\n",
              "Centrality                    0.000416    0.040352  0.000128"
            ]
          },
          "metadata": {
            "tags": []
          },
          "execution_count": 147
        }
      ]
    },
    {
      "cell_type": "markdown",
      "metadata": {
        "id": "i2HrfMq0tPis"
      },
      "source": [
        "----"
      ]
    },
    {
      "cell_type": "code",
      "metadata": {
        "colab": {
          "base_uri": "https://localhost:8080/",
          "height": 125
        },
        "id": "gzgTahpqtTjV",
        "outputId": "3ffa7224-6090-4550-82e5-e7da3fd8a67d"
      },
      "source": [
        "reddit_7h_table2.head()"
      ],
      "execution_count": 150,
      "outputs": [
        {
          "output_type": "execute_result",
          "data": {
            "text/html": [
              "<div>\n",
              "<style scoped>\n",
              "    .dataframe tbody tr th:only-of-type {\n",
              "        vertical-align: middle;\n",
              "    }\n",
              "\n",
              "    .dataframe tbody tr th {\n",
              "        vertical-align: top;\n",
              "    }\n",
              "\n",
              "    .dataframe thead th {\n",
              "        text-align: right;\n",
              "    }\n",
              "</style>\n",
              "<table border=\"1\" class=\"dataframe\">\n",
              "  <thead>\n",
              "    <tr style=\"text-align: right;\">\n",
              "      <th></th>\n",
              "      <th></th>\n",
              "    </tr>\n",
              "  </thead>\n",
              "  <tbody>\n",
              "    <tr>\n",
              "      <th>Global clustering coefficient</th>\n",
              "      <td>0.064473</td>\n",
              "    </tr>\n",
              "    <tr>\n",
              "      <th>Assortativity degree</th>\n",
              "      <td>-0.015193</td>\n",
              "    </tr>\n",
              "    <tr>\n",
              "      <th>Number of triads</th>\n",
              "      <td>9913.000000</td>\n",
              "    </tr>\n",
              "  </tbody>\n",
              "</table>\n",
              "</div>"
            ],
            "text/plain": [
              "                                          \n",
              "Global clustering coefficient     0.064473\n",
              "Assortativity degree             -0.015193\n",
              "Number of triads               9913.000000"
            ]
          },
          "metadata": {
            "tags": []
          },
          "execution_count": 150
        }
      ]
    },
    {
      "cell_type": "code",
      "metadata": {
        "colab": {
          "base_uri": "https://localhost:8080/",
          "height": 125
        },
        "id": "uixmsEtwtU4-",
        "outputId": "b667ecef-bf64-46df-9136-2b5ac54b34d6"
      },
      "source": [
        "reddit_18h_table2.head()"
      ],
      "execution_count": 151,
      "outputs": [
        {
          "output_type": "execute_result",
          "data": {
            "text/html": [
              "<div>\n",
              "<style scoped>\n",
              "    .dataframe tbody tr th:only-of-type {\n",
              "        vertical-align: middle;\n",
              "    }\n",
              "\n",
              "    .dataframe tbody tr th {\n",
              "        vertical-align: top;\n",
              "    }\n",
              "\n",
              "    .dataframe thead th {\n",
              "        text-align: right;\n",
              "    }\n",
              "</style>\n",
              "<table border=\"1\" class=\"dataframe\">\n",
              "  <thead>\n",
              "    <tr style=\"text-align: right;\">\n",
              "      <th></th>\n",
              "      <th></th>\n",
              "    </tr>\n",
              "  </thead>\n",
              "  <tbody>\n",
              "    <tr>\n",
              "      <th>Global clustering coefficient</th>\n",
              "      <td>0.028567</td>\n",
              "    </tr>\n",
              "    <tr>\n",
              "      <th>Assortativity degree</th>\n",
              "      <td>-0.008251</td>\n",
              "    </tr>\n",
              "    <tr>\n",
              "      <th>Number of triads</th>\n",
              "      <td>3796.000000</td>\n",
              "    </tr>\n",
              "  </tbody>\n",
              "</table>\n",
              "</div>"
            ],
            "text/plain": [
              "                                          \n",
              "Global clustering coefficient     0.028567\n",
              "Assortativity degree             -0.008251\n",
              "Number of triads               3796.000000"
            ]
          },
          "metadata": {
            "tags": []
          },
          "execution_count": 151
        }
      ]
    },
    {
      "cell_type": "code",
      "metadata": {
        "colab": {
          "base_uri": "https://localhost:8080/",
          "height": 125
        },
        "id": "R9jo-LOotQz8",
        "outputId": "e5f5c995-7b66-4f84-b17c-8dd28ae12fb6"
      },
      "source": [
        "reddit_12h_table2.head()"
      ],
      "execution_count": 152,
      "outputs": [
        {
          "output_type": "execute_result",
          "data": {
            "text/html": [
              "<div>\n",
              "<style scoped>\n",
              "    .dataframe tbody tr th:only-of-type {\n",
              "        vertical-align: middle;\n",
              "    }\n",
              "\n",
              "    .dataframe tbody tr th {\n",
              "        vertical-align: top;\n",
              "    }\n",
              "\n",
              "    .dataframe thead th {\n",
              "        text-align: right;\n",
              "    }\n",
              "</style>\n",
              "<table border=\"1\" class=\"dataframe\">\n",
              "  <thead>\n",
              "    <tr style=\"text-align: right;\">\n",
              "      <th></th>\n",
              "      <th></th>\n",
              "    </tr>\n",
              "  </thead>\n",
              "  <tbody>\n",
              "    <tr>\n",
              "      <th>Global clustering coefficient</th>\n",
              "      <td>0.036184</td>\n",
              "    </tr>\n",
              "    <tr>\n",
              "      <th>Assortativity degree</th>\n",
              "      <td>-0.024376</td>\n",
              "    </tr>\n",
              "    <tr>\n",
              "      <th>Number of triads</th>\n",
              "      <td>6455.000000</td>\n",
              "    </tr>\n",
              "  </tbody>\n",
              "</table>\n",
              "</div>"
            ],
            "text/plain": [
              "                                          \n",
              "Global clustering coefficient     0.036184\n",
              "Assortativity degree             -0.024376\n",
              "Number of triads               6455.000000"
            ]
          },
          "metadata": {
            "tags": []
          },
          "execution_count": 152
        }
      ]
    },
    {
      "cell_type": "markdown",
      "metadata": {
        "id": "c8fNcp0eta1Y"
      },
      "source": [
        "-----"
      ]
    },
    {
      "cell_type": "code",
      "metadata": {
        "colab": {
          "base_uri": "https://localhost:8080/",
          "height": 173
        },
        "id": "Qre2khJTtYTx",
        "outputId": "c87a1893-be25-43fb-8ce9-10d9ef9c48d2"
      },
      "source": [
        "reddit_7h_table3.head()"
      ],
      "execution_count": 153,
      "outputs": [
        {
          "output_type": "execute_result",
          "data": {
            "text/html": [
              "<div>\n",
              "<style scoped>\n",
              "    .dataframe tbody tr th:only-of-type {\n",
              "        vertical-align: middle;\n",
              "    }\n",
              "\n",
              "    .dataframe tbody tr th {\n",
              "        vertical-align: top;\n",
              "    }\n",
              "\n",
              "    .dataframe thead th {\n",
              "        text-align: right;\n",
              "    }\n",
              "</style>\n",
              "<table border=\"1\" class=\"dataframe\">\n",
              "  <thead>\n",
              "    <tr style=\"text-align: right;\">\n",
              "      <th></th>\n",
              "      <th>Triads</th>\n",
              "    </tr>\n",
              "  </thead>\n",
              "  <tbody>\n",
              "    <tr>\n",
              "      <th>+++</th>\n",
              "      <td>9004</td>\n",
              "    </tr>\n",
              "    <tr>\n",
              "      <th>++-</th>\n",
              "      <td>758</td>\n",
              "    </tr>\n",
              "    <tr>\n",
              "      <th>+--</th>\n",
              "      <td>144</td>\n",
              "    </tr>\n",
              "    <tr>\n",
              "      <th>---</th>\n",
              "      <td>7</td>\n",
              "    </tr>\n",
              "  </tbody>\n",
              "</table>\n",
              "</div>"
            ],
            "text/plain": [
              "     Triads\n",
              "+++    9004\n",
              "++-     758\n",
              "+--     144\n",
              "---       7"
            ]
          },
          "metadata": {
            "tags": []
          },
          "execution_count": 153
        }
      ]
    },
    {
      "cell_type": "code",
      "metadata": {
        "colab": {
          "base_uri": "https://localhost:8080/",
          "height": 173
        },
        "id": "opLbdX6UtdJk",
        "outputId": "e66bd823-c541-4e56-8905-6490f945d710"
      },
      "source": [
        "reddit_18h_table3.head()"
      ],
      "execution_count": 154,
      "outputs": [
        {
          "output_type": "execute_result",
          "data": {
            "text/html": [
              "<div>\n",
              "<style scoped>\n",
              "    .dataframe tbody tr th:only-of-type {\n",
              "        vertical-align: middle;\n",
              "    }\n",
              "\n",
              "    .dataframe tbody tr th {\n",
              "        vertical-align: top;\n",
              "    }\n",
              "\n",
              "    .dataframe thead th {\n",
              "        text-align: right;\n",
              "    }\n",
              "</style>\n",
              "<table border=\"1\" class=\"dataframe\">\n",
              "  <thead>\n",
              "    <tr style=\"text-align: right;\">\n",
              "      <th></th>\n",
              "      <th>Triads</th>\n",
              "    </tr>\n",
              "  </thead>\n",
              "  <tbody>\n",
              "    <tr>\n",
              "      <th>+++</th>\n",
              "      <td>2601</td>\n",
              "    </tr>\n",
              "    <tr>\n",
              "      <th>++-</th>\n",
              "      <td>931</td>\n",
              "    </tr>\n",
              "    <tr>\n",
              "      <th>+--</th>\n",
              "      <td>240</td>\n",
              "    </tr>\n",
              "    <tr>\n",
              "      <th>---</th>\n",
              "      <td>24</td>\n",
              "    </tr>\n",
              "  </tbody>\n",
              "</table>\n",
              "</div>"
            ],
            "text/plain": [
              "     Triads\n",
              "+++    2601\n",
              "++-     931\n",
              "+--     240\n",
              "---      24"
            ]
          },
          "metadata": {
            "tags": []
          },
          "execution_count": 154
        }
      ]
    },
    {
      "cell_type": "code",
      "metadata": {
        "colab": {
          "base_uri": "https://localhost:8080/",
          "height": 173
        },
        "id": "TfEdGPDbtjAm",
        "outputId": "1c8a79d7-cd3c-408c-ec83-d2a97a324612"
      },
      "source": [
        "reddit_12h_table3.head()"
      ],
      "execution_count": 155,
      "outputs": [
        {
          "output_type": "execute_result",
          "data": {
            "text/html": [
              "<div>\n",
              "<style scoped>\n",
              "    .dataframe tbody tr th:only-of-type {\n",
              "        vertical-align: middle;\n",
              "    }\n",
              "\n",
              "    .dataframe tbody tr th {\n",
              "        vertical-align: top;\n",
              "    }\n",
              "\n",
              "    .dataframe thead th {\n",
              "        text-align: right;\n",
              "    }\n",
              "</style>\n",
              "<table border=\"1\" class=\"dataframe\">\n",
              "  <thead>\n",
              "    <tr style=\"text-align: right;\">\n",
              "      <th></th>\n",
              "      <th>Triads</th>\n",
              "    </tr>\n",
              "  </thead>\n",
              "  <tbody>\n",
              "    <tr>\n",
              "      <th>+++</th>\n",
              "      <td>4510</td>\n",
              "    </tr>\n",
              "    <tr>\n",
              "      <th>++-</th>\n",
              "      <td>1468</td>\n",
              "    </tr>\n",
              "    <tr>\n",
              "      <th>+--</th>\n",
              "      <td>428</td>\n",
              "    </tr>\n",
              "    <tr>\n",
              "      <th>---</th>\n",
              "      <td>49</td>\n",
              "    </tr>\n",
              "  </tbody>\n",
              "</table>\n",
              "</div>"
            ],
            "text/plain": [
              "     Triads\n",
              "+++    4510\n",
              "++-    1468\n",
              "+--     428\n",
              "---      49"
            ]
          },
          "metadata": {
            "tags": []
          },
          "execution_count": 155
        }
      ]
    },
    {
      "cell_type": "markdown",
      "metadata": {
        "id": "tqIa44YI3Hnl"
      },
      "source": [
        "To recap, the data from seven am representing a low level of positive edges, the data from six pm represent a medium level of positive edges and the last dataset from twelve represent the higgest level of positive edges. \n",
        "\n",
        "By first glance we can here see that degree, clossness, local clustering coefficient and centrality is the higgest in the subgraph with higest level of positive edges. On the same time the the 6 pm subgraph, which has a medium level of positivie edges, has lower degree, clossness and centrality than the subgraph that represent the lowest level of postive edges. \n",
        "\n",
        "What can be seen is that in every case where the degree and closeness is higher in average, the subgraphs node with max value in the two propeties is also higher. \n",
        "\n",
        "investigate more if it is one big outlier?? "
      ]
    },
    {
      "cell_type": "code",
      "metadata": {
        "id": "p-U4Lsqym4FL",
        "colab": {
          "base_uri": "https://localhost:8080/"
        },
        "outputId": "5cd648f7-1c5a-4c0f-bb97-dbcba9b7f86e"
      },
      "source": [
        "# ratio 8\n",
        "mean_r8_pos = statistics.mean([hour_pos.iloc[6], hour_pos.iloc[10], hour_pos.iloc[12], hour_pos.iloc[13], hour_pos.iloc[15], hour_pos.iloc[16], hour_pos.iloc[17], hour_pos.iloc[18], hour_pos.iloc[19], hour_pos.iloc[20], hour_pos.iloc[21], hour_pos.iloc[22]])\n",
        "print('The mean count of posts from jan. to apr. is ', mean_r8_pos)\n",
        "print('The difference between number of counts and mean for march and april is respectively: \\n',[abs(x - mean_r8_pos) for x in [hour_pos.iloc[6], hour_pos.iloc[10], hour_pos.iloc[12], hour_pos.iloc[13], hour_pos.iloc[15], hour_pos.iloc[16], hour_pos.iloc[17], hour_pos.iloc[18], hour_pos.iloc[19], hour_pos.iloc[20], hour_pos.iloc[21], hour_pos.iloc[22]]])"
      ],
      "execution_count": 149,
      "outputs": [
        {
          "output_type": "stream",
          "text": [
            "The mean count of posts from jan. to apr. is  12330\n",
            "The difference between number of counts and mean for march and april is respectively: \n",
            " [2392, 1859, 2241, 2287, 1819, 937, 837, 88, 441, 1405, 2430, 3396]\n"
          ],
          "name": "stdout"
        }
      ]
    },
    {
      "cell_type": "markdown",
      "metadata": {
        "id": "QM9lDhucm4FQ"
      },
      "source": [
        " ## 3) First conclusion"
      ]
    },
    {
      "cell_type": "markdown",
      "metadata": {
        "id": "Orbmm_t_JlIR"
      },
      "source": [
        "By comparing all the different properties that were investigated it was hard to find a real trend between the number of positive edges and the properties of the graph. However, as this is only one dataset it needs to be investigating in more datasets to have a stronger conclusion. "
      ]
    },
    {
      "cell_type": "markdown",
      "metadata": {
        "id": "PUR8OosJm4FQ"
      },
      "source": [
        "## 4) Work on the wikipedia and slashdot dataset\n",
        " \n",
        "\n",
        "### **Step 0**  : Work with TIMESTAMP  data"
      ]
    },
    {
      "cell_type": "markdown",
      "metadata": {
        "id": "QMJ5rC_6m4FQ"
      },
      "source": [
        "Load the wikipedia dataset "
      ]
    },
    {
      "cell_type": "code",
      "metadata": {
        "id": "Ep3YOcRhBBjz"
      },
      "source": [
        "wikipedia_file = \"/content/drive/MyDrive/ADA - dataset/wikiElec.ElecBs3.txt\"\n",
        "wikidata = [] #Declaring that wikidata is a list \n",
        "with open(wikipedia_file, \"r\",encoding='latin-1') as a_file: #Opening and reading data from Wikipedia. Use encoding so the format match.\n",
        "    for line in a_file: #Iterating over every lines in the file \n",
        "        if \"U\t\" in line: #When U   exist in a line, change the user id of the person being nominated\n",
        "            candidate = [line for line in line.split()] #Splits up the line/string, where each word is a list item, to get the user id of the user to consider for a promotion\n",
        "        if \"V\t\" in line: #When V\t exists in a line we know that is a new voted \n",
        "            voter = [line for line in line.split()] #Splits up the line/string, where each word is a list item, to get the user id of the voter and the type of vote \n",
        "            if int(voter[1]) == 0: #If the user has voted 0, which is neutral, there is no link between the user that voted and the nominated user\n",
        "                continue #We, therefore, want to continue to the next line\n",
        "            else: #This means that the vote is 1 or -1\n",
        "                wikidata.append(int(voter[2])) #Store the 3 element of the voter string, which is user id of voter \n",
        "                wikidata.append(int(candidate[1])) #Store the 2 element of the candidate string, which is user id of the nominated user\n",
        "                wikidata.append(int(voter[1])) #Store the 2 element of the voter string, which is type of vote, 1 or -1\n",
        "                wikidata.append(voter[3]+voter[4])\n",
        "wikidata = np.reshape(wikidata, (int(len(wikidata)/4),4)) #Shapes the list to an array that has three columns and 1/3 of rows from the length of the list, because we now have split it up in three columns "
      ],
      "execution_count": 160,
      "outputs": []
    },
    {
      "cell_type": "code",
      "metadata": {
        "id": "51iFIMm7BUVL"
      },
      "source": [
        "Wiki_votes = pd.DataFrame(data=wikidata,columns = [\"FromNodeId\", \"ToNodeId\",\"Sign\",\"Date\"])"
      ],
      "execution_count": 161,
      "outputs": []
    },
    {
      "cell_type": "markdown",
      "metadata": {
        "id": "b5q32ztcm4FS"
      },
      "source": [
        "So we need to convert, as for reddit"
      ]
    },
    {
      "cell_type": "code",
      "metadata": {
        "colab": {
          "base_uri": "https://localhost:8080/",
          "height": 204
        },
        "id": "-B-0o9X8Fns7",
        "outputId": "34e7a42e-023c-4738-8c76-e53d6ac53814"
      },
      "source": [
        "Wiki_votes['Date'] = pd.to_datetime(Wiki_votes['Date'], format='%Y-%m-%d%H:%M:%S', errors='coerce')\n",
        "Wiki_votes.head()\n"
      ],
      "execution_count": 162,
      "outputs": [
        {
          "output_type": "execute_result",
          "data": {
            "text/html": [
              "<div>\n",
              "<style scoped>\n",
              "    .dataframe tbody tr th:only-of-type {\n",
              "        vertical-align: middle;\n",
              "    }\n",
              "\n",
              "    .dataframe tbody tr th {\n",
              "        vertical-align: top;\n",
              "    }\n",
              "\n",
              "    .dataframe thead th {\n",
              "        text-align: right;\n",
              "    }\n",
              "</style>\n",
              "<table border=\"1\" class=\"dataframe\">\n",
              "  <thead>\n",
              "    <tr style=\"text-align: right;\">\n",
              "      <th></th>\n",
              "      <th>FromNodeId</th>\n",
              "      <th>ToNodeId</th>\n",
              "      <th>Sign</th>\n",
              "      <th>Date</th>\n",
              "    </tr>\n",
              "  </thead>\n",
              "  <tbody>\n",
              "    <tr>\n",
              "      <th>0</th>\n",
              "      <td>3</td>\n",
              "      <td>30</td>\n",
              "      <td>1</td>\n",
              "      <td>2004-09-14 16:26:00</td>\n",
              "    </tr>\n",
              "    <tr>\n",
              "      <th>1</th>\n",
              "      <td>25</td>\n",
              "      <td>30</td>\n",
              "      <td>-1</td>\n",
              "      <td>2004-09-14 16:53:00</td>\n",
              "    </tr>\n",
              "    <tr>\n",
              "      <th>2</th>\n",
              "      <td>4</td>\n",
              "      <td>30</td>\n",
              "      <td>1</td>\n",
              "      <td>2004-09-14 17:08:00</td>\n",
              "    </tr>\n",
              "    <tr>\n",
              "      <th>3</th>\n",
              "      <td>5</td>\n",
              "      <td>30</td>\n",
              "      <td>1</td>\n",
              "      <td>2004-09-14 17:37:00</td>\n",
              "    </tr>\n",
              "    <tr>\n",
              "      <th>4</th>\n",
              "      <td>6</td>\n",
              "      <td>30</td>\n",
              "      <td>1</td>\n",
              "      <td>2004-09-14 19:28:00</td>\n",
              "    </tr>\n",
              "  </tbody>\n",
              "</table>\n",
              "</div>"
            ],
            "text/plain": [
              "  FromNodeId ToNodeId Sign                Date\n",
              "0          3       30    1 2004-09-14 16:26:00\n",
              "1         25       30   -1 2004-09-14 16:53:00\n",
              "2          4       30    1 2004-09-14 17:08:00\n",
              "3          5       30    1 2004-09-14 17:37:00\n",
              "4          6       30    1 2004-09-14 19:28:00"
            ]
          },
          "metadata": {
            "tags": []
          },
          "execution_count": 162
        }
      ]
    },
    {
      "cell_type": "markdown",
      "metadata": {
        "id": "l0GqQizrm4FS"
      },
      "source": [
        "check the type of the data"
      ]
    },
    {
      "cell_type": "code",
      "metadata": {
        "colab": {
          "base_uri": "https://localhost:8080/"
        },
        "id": "IxHL8eZqm4FS",
        "outputId": "1cc84d3f-49d5-43b5-f82e-97044e5f7a1c"
      },
      "source": [
        "print('Exemple : the date of the first post of the dataset is : {}'.format(Wiki_votes['Date'][3]))\n",
        "print(' Its type is ',type(Wiki_votes['Date'][3]))"
      ],
      "execution_count": 163,
      "outputs": [
        {
          "output_type": "stream",
          "text": [
            "Exemple : the date of the first post of the dataset is : 2004-09-14 17:37:00\n",
            " Its type is  <class 'pandas._libs.tslibs.timestamps.Timestamp'>\n"
          ],
          "name": "stdout"
        }
      ]
    },
    {
      "cell_type": "code",
      "metadata": {
        "id": "hknzKhVuFe6n",
        "colab": {
          "base_uri": "https://localhost:8080/",
          "height": 204
        },
        "outputId": "32e7a864-41c8-43f6-d93f-1bcd02fd69fa"
      },
      "source": [
        "Wiki_votes.head()"
      ],
      "execution_count": 164,
      "outputs": [
        {
          "output_type": "execute_result",
          "data": {
            "text/html": [
              "<div>\n",
              "<style scoped>\n",
              "    .dataframe tbody tr th:only-of-type {\n",
              "        vertical-align: middle;\n",
              "    }\n",
              "\n",
              "    .dataframe tbody tr th {\n",
              "        vertical-align: top;\n",
              "    }\n",
              "\n",
              "    .dataframe thead th {\n",
              "        text-align: right;\n",
              "    }\n",
              "</style>\n",
              "<table border=\"1\" class=\"dataframe\">\n",
              "  <thead>\n",
              "    <tr style=\"text-align: right;\">\n",
              "      <th></th>\n",
              "      <th>FromNodeId</th>\n",
              "      <th>ToNodeId</th>\n",
              "      <th>Sign</th>\n",
              "      <th>Date</th>\n",
              "    </tr>\n",
              "  </thead>\n",
              "  <tbody>\n",
              "    <tr>\n",
              "      <th>0</th>\n",
              "      <td>3</td>\n",
              "      <td>30</td>\n",
              "      <td>1</td>\n",
              "      <td>2004-09-14 16:26:00</td>\n",
              "    </tr>\n",
              "    <tr>\n",
              "      <th>1</th>\n",
              "      <td>25</td>\n",
              "      <td>30</td>\n",
              "      <td>-1</td>\n",
              "      <td>2004-09-14 16:53:00</td>\n",
              "    </tr>\n",
              "    <tr>\n",
              "      <th>2</th>\n",
              "      <td>4</td>\n",
              "      <td>30</td>\n",
              "      <td>1</td>\n",
              "      <td>2004-09-14 17:08:00</td>\n",
              "    </tr>\n",
              "    <tr>\n",
              "      <th>3</th>\n",
              "      <td>5</td>\n",
              "      <td>30</td>\n",
              "      <td>1</td>\n",
              "      <td>2004-09-14 17:37:00</td>\n",
              "    </tr>\n",
              "    <tr>\n",
              "      <th>4</th>\n",
              "      <td>6</td>\n",
              "      <td>30</td>\n",
              "      <td>1</td>\n",
              "      <td>2004-09-14 19:28:00</td>\n",
              "    </tr>\n",
              "  </tbody>\n",
              "</table>\n",
              "</div>"
            ],
            "text/plain": [
              "  FromNodeId ToNodeId Sign                Date\n",
              "0          3       30    1 2004-09-14 16:26:00\n",
              "1         25       30   -1 2004-09-14 16:53:00\n",
              "2          4       30    1 2004-09-14 17:08:00\n",
              "3          5       30    1 2004-09-14 17:37:00\n",
              "4          6       30    1 2004-09-14 19:28:00"
            ]
          },
          "metadata": {
            "tags": []
          },
          "execution_count": 164
        }
      ]
    },
    {
      "cell_type": "code",
      "metadata": {
        "id": "DTev319pm4FS",
        "colab": {
          "base_uri": "https://localhost:8080/"
        },
        "outputId": "07642fec-06fb-4d5b-abec-d1e50cad113c"
      },
      "source": [
        "print('Exemple : the date of the first post of the dataset is : {}'.format(Wiki_votes['Date'][3]))\n",
        "print(' Its type is ',type(Wiki_votes['Date'][3]))"
      ],
      "execution_count": 165,
      "outputs": [
        {
          "output_type": "stream",
          "text": [
            "Exemple : the date of the first post of the dataset is : 2004-09-14 17:37:00\n",
            " Its type is  <class 'pandas._libs.tslibs.timestamps.Timestamp'>\n"
          ],
          "name": "stdout"
        }
      ]
    },
    {
      "cell_type": "markdown",
      "metadata": {
        "id": "_oC-KfHYm4FT"
      },
      "source": [
        "split into positive and negative dataset\n",
        "\n",
        "*Positive*"
      ]
    },
    {
      "cell_type": "code",
      "metadata": {
        "id": "j5mnzh8wm4FT",
        "colab": {
          "base_uri": "https://localhost:8080/"
        },
        "outputId": "9ade5957-afa4-42cd-cfb6-38ddd0d998e8"
      },
      "source": [
        "wiki_pos = Wiki_votes.copy()\n",
        "wiki_pos = wiki_pos.drop(wiki_pos[wiki_pos.Sign == '-1'].index).reset_index(drop=True)\n",
        "wiki_pos = wiki_pos.drop(wiki_pos[wiki_pos.Sign == '0'].index).reset_index(drop=True)\n",
        "print('data body original .{}'.format(Wiki_votes.shape))\n",
        "print('body POS {}'.format(wiki_pos.shape))"
      ],
      "execution_count": 166,
      "outputs": [
        {
          "output_type": "stream",
          "text": [
            "data body original .(107080, 4)\n",
            "body POS (83962, 4)\n"
          ],
          "name": "stdout"
        }
      ]
    },
    {
      "cell_type": "code",
      "metadata": {
        "id": "7PAf-Rg7m4FT",
        "colab": {
          "base_uri": "https://localhost:8080/",
          "height": 204
        },
        "outputId": "07a6d78a-eccc-40ff-a68b-19d9fcd49353"
      },
      "source": [
        "wiki_pos.head()"
      ],
      "execution_count": 167,
      "outputs": [
        {
          "output_type": "execute_result",
          "data": {
            "text/html": [
              "<div>\n",
              "<style scoped>\n",
              "    .dataframe tbody tr th:only-of-type {\n",
              "        vertical-align: middle;\n",
              "    }\n",
              "\n",
              "    .dataframe tbody tr th {\n",
              "        vertical-align: top;\n",
              "    }\n",
              "\n",
              "    .dataframe thead th {\n",
              "        text-align: right;\n",
              "    }\n",
              "</style>\n",
              "<table border=\"1\" class=\"dataframe\">\n",
              "  <thead>\n",
              "    <tr style=\"text-align: right;\">\n",
              "      <th></th>\n",
              "      <th>FromNodeId</th>\n",
              "      <th>ToNodeId</th>\n",
              "      <th>Sign</th>\n",
              "      <th>Date</th>\n",
              "    </tr>\n",
              "  </thead>\n",
              "  <tbody>\n",
              "    <tr>\n",
              "      <th>0</th>\n",
              "      <td>3</td>\n",
              "      <td>30</td>\n",
              "      <td>1</td>\n",
              "      <td>2004-09-14 16:26:00</td>\n",
              "    </tr>\n",
              "    <tr>\n",
              "      <th>1</th>\n",
              "      <td>4</td>\n",
              "      <td>30</td>\n",
              "      <td>1</td>\n",
              "      <td>2004-09-14 17:08:00</td>\n",
              "    </tr>\n",
              "    <tr>\n",
              "      <th>2</th>\n",
              "      <td>5</td>\n",
              "      <td>30</td>\n",
              "      <td>1</td>\n",
              "      <td>2004-09-14 17:37:00</td>\n",
              "    </tr>\n",
              "    <tr>\n",
              "      <th>3</th>\n",
              "      <td>6</td>\n",
              "      <td>30</td>\n",
              "      <td>1</td>\n",
              "      <td>2004-09-14 19:28:00</td>\n",
              "    </tr>\n",
              "    <tr>\n",
              "      <th>4</th>\n",
              "      <td>7</td>\n",
              "      <td>30</td>\n",
              "      <td>1</td>\n",
              "      <td>2004-09-14 19:37:00</td>\n",
              "    </tr>\n",
              "  </tbody>\n",
              "</table>\n",
              "</div>"
            ],
            "text/plain": [
              "  FromNodeId ToNodeId Sign                Date\n",
              "0          3       30    1 2004-09-14 16:26:00\n",
              "1          4       30    1 2004-09-14 17:08:00\n",
              "2          5       30    1 2004-09-14 17:37:00\n",
              "3          6       30    1 2004-09-14 19:28:00\n",
              "4          7       30    1 2004-09-14 19:37:00"
            ]
          },
          "metadata": {
            "tags": []
          },
          "execution_count": 167
        }
      ]
    },
    {
      "cell_type": "code",
      "metadata": {
        "id": "zAubb59im4FT",
        "colab": {
          "base_uri": "https://localhost:8080/"
        },
        "outputId": "761cbb85-71d6-4251-dd8b-fbf022ac2b7f"
      },
      "source": [
        "# check \n",
        "print('In data wiki votes : sign of post 1 = ', Wiki_votes['Sign'][1])\n",
        "print('In wiki pos : sign of post 4 = ', wiki_pos['Sign'][1])"
      ],
      "execution_count": 168,
      "outputs": [
        {
          "output_type": "stream",
          "text": [
            "In data wiki votes : sign of post 1 =  -1\n",
            "In wiki pos : sign of post 4 =  1\n"
          ],
          "name": "stdout"
        }
      ]
    },
    {
      "cell_type": "markdown",
      "metadata": {
        "id": "3ftowkQ9m4FU"
      },
      "source": [
        "*Negative*"
      ]
    },
    {
      "cell_type": "code",
      "metadata": {
        "id": "YbjHazpkm4FU",
        "colab": {
          "base_uri": "https://localhost:8080/"
        },
        "outputId": "905b494c-dcf1-4caf-f620-9b2153cdd9e9"
      },
      "source": [
        "wiki_neg = Wiki_votes.copy()\n",
        "wiki_neg = wiki_neg.drop(wiki_neg[wiki_neg.Sign == '1'].index).reset_index(drop=True)\n",
        "wiki_neg = wiki_neg.drop(wiki_neg[wiki_neg.Sign == '0'].index).reset_index(drop=True)\n",
        "print('data body original .{}'.format(Wiki_votes.shape))\n",
        "print('body POS {}'.format(wiki_neg.shape))\n"
      ],
      "execution_count": 169,
      "outputs": [
        {
          "output_type": "stream",
          "text": [
            "data body original .(107080, 4)\n",
            "body POS (23118, 4)\n"
          ],
          "name": "stdout"
        }
      ]
    },
    {
      "cell_type": "code",
      "metadata": {
        "id": "DujEErejm4FU",
        "colab": {
          "base_uri": "https://localhost:8080/",
          "height": 204
        },
        "outputId": "5218fba4-c648-44ab-ec76-d9cc0b3a2bb2"
      },
      "source": [
        "wiki_neg.head()"
      ],
      "execution_count": 170,
      "outputs": [
        {
          "output_type": "execute_result",
          "data": {
            "text/html": [
              "<div>\n",
              "<style scoped>\n",
              "    .dataframe tbody tr th:only-of-type {\n",
              "        vertical-align: middle;\n",
              "    }\n",
              "\n",
              "    .dataframe tbody tr th {\n",
              "        vertical-align: top;\n",
              "    }\n",
              "\n",
              "    .dataframe thead th {\n",
              "        text-align: right;\n",
              "    }\n",
              "</style>\n",
              "<table border=\"1\" class=\"dataframe\">\n",
              "  <thead>\n",
              "    <tr style=\"text-align: right;\">\n",
              "      <th></th>\n",
              "      <th>FromNodeId</th>\n",
              "      <th>ToNodeId</th>\n",
              "      <th>Sign</th>\n",
              "      <th>Date</th>\n",
              "    </tr>\n",
              "  </thead>\n",
              "  <tbody>\n",
              "    <tr>\n",
              "      <th>0</th>\n",
              "      <td>25</td>\n",
              "      <td>30</td>\n",
              "      <td>-1</td>\n",
              "      <td>2004-09-14 16:53:00</td>\n",
              "    </tr>\n",
              "    <tr>\n",
              "      <th>1</th>\n",
              "      <td>25</td>\n",
              "      <td>6</td>\n",
              "      <td>-1</td>\n",
              "      <td>2004-09-12 03:46:00</td>\n",
              "    </tr>\n",
              "    <tr>\n",
              "      <th>2</th>\n",
              "      <td>4</td>\n",
              "      <td>8</td>\n",
              "      <td>-1</td>\n",
              "      <td>2004-09-14 22:25:00</td>\n",
              "    </tr>\n",
              "    <tr>\n",
              "      <th>3</th>\n",
              "      <td>12</td>\n",
              "      <td>8</td>\n",
              "      <td>-1</td>\n",
              "      <td>2004-09-15 06:38:00</td>\n",
              "    </tr>\n",
              "    <tr>\n",
              "      <th>4</th>\n",
              "      <td>78</td>\n",
              "      <td>8</td>\n",
              "      <td>-1</td>\n",
              "      <td>2004-09-15 19:25:00</td>\n",
              "    </tr>\n",
              "  </tbody>\n",
              "</table>\n",
              "</div>"
            ],
            "text/plain": [
              "  FromNodeId ToNodeId Sign                Date\n",
              "0         25       30   -1 2004-09-14 16:53:00\n",
              "1         25        6   -1 2004-09-12 03:46:00\n",
              "2          4        8   -1 2004-09-14 22:25:00\n",
              "3         12        8   -1 2004-09-15 06:38:00\n",
              "4         78        8   -1 2004-09-15 19:25:00"
            ]
          },
          "metadata": {
            "tags": []
          },
          "execution_count": 170
        }
      ]
    },
    {
      "cell_type": "code",
      "metadata": {
        "id": "XynfuiZom4FV",
        "colab": {
          "base_uri": "https://localhost:8080/"
        },
        "outputId": "716f7fd7-066e-405b-cb17-db819030ba2e"
      },
      "source": [
        "# check \n",
        "print('In data wiki votes : sign of post 1 = ', Wiki_votes['Sign'][0])\n",
        "print('In wiki pos : sign of post 4 = ', wiki_neg['Sign'][0])"
      ],
      "execution_count": 171,
      "outputs": [
        {
          "output_type": "stream",
          "text": [
            "In data wiki votes : sign of post 1 =  1\n",
            "In wiki pos : sign of post 4 =  -1\n"
          ],
          "name": "stdout"
        }
      ]
    },
    {
      "cell_type": "markdown",
      "metadata": {
        "id": "1-2i-49Gm4FV"
      },
      "source": [
        "#### Step 1 : Analysis of the year "
      ]
    },
    {
      "cell_type": "code",
      "metadata": {
        "id": "Daw88nrjm4FV",
        "colab": {
          "base_uri": "https://localhost:8080/"
        },
        "outputId": "d836b59a-616a-4f46-cf03-75df467ac20e"
      },
      "source": [
        "# Just to have an idea of what it'll look like. \n",
        "year_positive_wiki = wiki_pos.groupby(wiki_pos['Date'].dt.year).size()\n",
        "year_negative_wiki = wiki_neg.groupby(wiki_neg['Date'].dt.year).size()\n",
        "\n",
        "print('Year Positive', year_positive_wiki)\n",
        "print('Year Negative', year_negative_wiki)"
      ],
      "execution_count": 172,
      "outputs": [
        {
          "output_type": "stream",
          "text": [
            "Year Positive Date\n",
            "2004     2569\n",
            "2005    17057\n",
            "2006    31915\n",
            "2007    31903\n",
            "2008      509\n",
            "2063        1\n",
            "2064        1\n",
            "2065        1\n",
            "2067        1\n",
            "2070        1\n",
            "2074        1\n",
            "2086        1\n",
            "2096        1\n",
            "2105        1\n",
            "dtype: int64\n",
            "Year Negative Date\n",
            "2004     748\n",
            "2005    3161\n",
            "2006    9806\n",
            "2007    9294\n",
            "2008     109\n",
            "dtype: int64\n"
          ],
          "name": "stdout"
        }
      ]
    },
    {
      "cell_type": "code",
      "metadata": {
        "id": "5w4-0U9Em4FV",
        "colab": {
          "base_uri": "https://localhost:8080/"
        },
        "outputId": "d9d85134-8d6e-4bfa-a15f-077ccdb9568e"
      },
      "source": [
        "print(wiki_pos[wiki_pos['Date'].dt.year == 2063])"
      ],
      "execution_count": 173,
      "outputs": [
        {
          "output_type": "stream",
          "text": [
            "      FromNodeId ToNodeId Sign                Date\n",
            "49060       4963     5092    1 2063-01-22 01:04:00\n"
          ],
          "name": "stdout"
        }
      ]
    },
    {
      "cell_type": "markdown",
      "metadata": {
        "id": "2HW5IRYEm4FW"
      },
      "source": [
        "Here we see that some of the year are not understandable as 2063. Thus we will filter the dataset to remove all the impossible years. "
      ]
    },
    {
      "cell_type": "code",
      "metadata": {
        "id": "bJkGjtSEm4FW"
      },
      "source": [
        "wiki_neg = wiki_neg.drop(wiki_neg[wiki_neg['Date'].dt.year > 2020].index).reset_index(drop=True)\n",
        "wiki_pos = wiki_pos.drop(wiki_pos[wiki_pos['Date'].dt.year > 2020].index).reset_index(drop=True)"
      ],
      "execution_count": 174,
      "outputs": []
    },
    {
      "cell_type": "code",
      "metadata": {
        "id": "72O5zS9cm4FW",
        "colab": {
          "base_uri": "https://localhost:8080/"
        },
        "outputId": "a08775f9-7d7c-4397-ec29-29a76fd35539"
      },
      "source": [
        "print(wiki_pos[wiki_pos['Date'].dt.year == 2063])"
      ],
      "execution_count": 175,
      "outputs": [
        {
          "output_type": "stream",
          "text": [
            "Empty DataFrame\n",
            "Columns: [FromNodeId, ToNodeId, Sign, Date]\n",
            "Index: []\n"
          ],
          "name": "stdout"
        }
      ]
    },
    {
      "cell_type": "code",
      "metadata": {
        "id": "POeLsLk0m4FW",
        "colab": {
          "base_uri": "https://localhost:8080/"
        },
        "outputId": "ca575999-e69c-4ab0-ac78-a67dc0cde3ff"
      },
      "source": [
        "# Check again the year distribution \n",
        "year_positive_wiki = wiki_pos.groupby(wiki_pos['Date'].dt.year).size()\n",
        "year_negative_wiki = wiki_neg.groupby(wiki_neg['Date'].dt.year).size()\n",
        "\n",
        "print('Year Positive', year_positive_wiki)\n",
        "print('Year Negative', year_negative_wiki)"
      ],
      "execution_count": 176,
      "outputs": [
        {
          "output_type": "stream",
          "text": [
            "Year Positive Date\n",
            "2004     2569\n",
            "2005    17057\n",
            "2006    31915\n",
            "2007    31903\n",
            "2008      509\n",
            "dtype: int64\n",
            "Year Negative Date\n",
            "2004     748\n",
            "2005    3161\n",
            "2006    9806\n",
            "2007    9294\n",
            "2008     109\n",
            "dtype: int64\n"
          ],
          "name": "stdout"
        }
      ]
    },
    {
      "cell_type": "markdown",
      "metadata": {
        "id": "6RppgFqHm4FX"
      },
      "source": [
        "So years represented are from 2004 to 2008. "
      ]
    },
    {
      "cell_type": "code",
      "metadata": {
        "id": "Lord-ak2m4FX",
        "colab": {
          "base_uri": "https://localhost:8080/",
          "height": 295
        },
        "outputId": "4660e817-a70e-43e7-d64e-2de028cd69f4"
      },
      "source": [
        "N = 5\n",
        "ind = np.arange(N)  # the x locations for the groups\n",
        "width = 0.27       # the width of the bars\n",
        "\n",
        "fig = plt.figure()\n",
        "ax = fig.add_subplot(111)\n",
        "\n",
        " \n",
        "year_pos_wiki = wiki_pos.groupby(wiki_pos['Date'].dt.year).size()\n",
        "rects1 = ax.bar(ind, year_pos_wiki, width, color='g')\n",
        "year_neg_wiki = wiki_neg.groupby(wiki_neg['Date'].dt.year).size()\n",
        "rects2 = ax.bar(ind+width, year_neg_wiki, width, color='r')\n",
        "\n",
        "ax.set_ylabel('Number of posts')\n",
        "ax.set_xlabel('Year')\n",
        "ax.set_title('Distribution of the positive and negative posts along the years')\n",
        "ax.set_xticks(ind+width)\n",
        "ax.set_xticklabels( ('2004', '2005', '2006', '2007', '2008'))\n",
        "ax.legend((rects1[0], rects2[0]), ('positif', 'negatif'))\n",
        "\n",
        "plt.show()"
      ],
      "execution_count": 177,
      "outputs": [
        {
          "output_type": "display_data",
          "data": {
            "image/png": "[encoded data removed]",
            "text/plain": [
              "<Figure size 432x288 with 1 Axes>"
            ]
          },
          "metadata": {
            "tags": [],
            "needs_background": "light"
          }
        }
      ]
    },
    {
      "cell_type": "markdown",
      "metadata": {
        "id": "HFyx2gGhm4FX"
      },
      "source": [
        "**Analysis :**\n",
        "- So here both the amount of positive votes is higher than the negative ones, but both seams to have the same evolution along the year. We have to compute the ratio to make sure. "
      ]
    },
    {
      "cell_type": "code",
      "metadata": {
        "id": "6qVqpTY3m4FX",
        "colab": {
          "base_uri": "https://localhost:8080/",
          "height": 295
        },
        "outputId": "76e3e5fb-5426-43ea-c99c-56d6b416fc40"
      },
      "source": [
        "ratio_wiki = [(int(b) / int(m))*100 for b,m in zip(year_neg_wiki, year_pos_wiki)]\n",
        "N = 5\n",
        "ind = np.arange(N)  # the x locations for the groups\n",
        "width = 0.27       # the width of the bars\n",
        "\n",
        "fig = plt.figure()\n",
        "ax = fig.add_subplot(111)\n",
        "\n",
        "\n",
        "rects1 = ax.bar(ind, ratio_wiki, width, color='b')\n",
        "ax.set_ylabel('Number of posts')\n",
        "ax.set_xlabel('Month')\n",
        "ax.set_title('WIKIPEDIA : Distribution of the ratio from January to December')\n",
        "ax.set_xticks(ind)\n",
        "ax.set_xticklabels( ('2004', '2005', '2006', '2007', '2008'))\n",
        "ax.legend('ratio neg/pos*100')\n",
        "\n",
        "plt.show()"
      ],
      "execution_count": 178,
      "outputs": [
        {
          "output_type": "display_data",
          "data": {
            "image/png": "[encoded data removed]",
            "text/plain": [
              "<Figure size 432x288 with 1 Axes>"
            ]
          },
          "metadata": {
            "tags": [],
            "needs_background": "light"
          }
        }
      ]
    },
    {
      "cell_type": "markdown",
      "metadata": {
        "id": "nuIV8-gLm4FY"
      },
      "source": [
        "- so in 2005 the ratio neg/pos*100 is smaller than in 2006 and 2007. We can see on the previous graph that between 2004 and 2007 there is a huge increase of positive votes. \n",
        "- as we want to compare two different subgraphs based on year analysis, it is more intersting to take 2005 and 2007 as 2004 and 2007 have quite the same ratio (thus 2007 is an enlargement of the situation in 2004). \n",
        "\n",
        "**Ccl :** In order to assess the impact of the **HOUR** on the structure of the network, we can compare  3 subgraphs : \n",
        "> - from 2005 (representative of the first group - ratio  15-20- )\n",
        "> - from 2007 (representative of the second group, -ratio 25-30-)\n",
        "> - from 2008 (representative of the third group, -ration 20-25-)"
      ]
    },
    {
      "cell_type": "markdown",
      "metadata": {
        "id": "E5ZOHqM5m4FY"
      },
      "source": [
        "#### Step 2 : Analysis of the month "
      ]
    },
    {
      "cell_type": "code",
      "metadata": {
        "id": "aXkP6BK9m4FY",
        "colab": {
          "base_uri": "https://localhost:8080/"
        },
        "outputId": "7e305522-3984-48cc-b58e-32f5b9435d4f"
      },
      "source": [
        "month_positive_wiki = wiki_pos.groupby(wiki_pos['Date'].dt.month).size()\n",
        "month_negative_wiki = wiki_neg.groupby(wiki_neg['Date'].dt.month).size()\n",
        "print('Month Positive', month_positive_wiki)\n",
        "print('Month Negative', month_negative_wiki)"
      ],
      "execution_count": 179,
      "outputs": [
        {
          "output_type": "stream",
          "text": [
            "Month Positive Date\n",
            "1     6610\n",
            "2     5815\n",
            "3     6766\n",
            "4     6477\n",
            "5     7760\n",
            "6     6893\n",
            "7     6438\n",
            "8     5989\n",
            "9     6353\n",
            "10    8610\n",
            "11    8748\n",
            "12    7494\n",
            "dtype: int64\n",
            "Month Negative Date\n",
            "1     2006\n",
            "2     1605\n",
            "3     1894\n",
            "4     1857\n",
            "5     2272\n",
            "6     1830\n",
            "7     2134\n",
            "8     1818\n",
            "9     1817\n",
            "10    2279\n",
            "11    1602\n",
            "12    2004\n",
            "dtype: int64\n"
          ],
          "name": "stdout"
        }
      ]
    },
    {
      "cell_type": "code",
      "metadata": {
        "id": "q5vfW5sjm4FY",
        "colab": {
          "base_uri": "https://localhost:8080/",
          "height": 295
        },
        "outputId": "377310de-2f9b-48ff-9beb-284db14f3f2e"
      },
      "source": [
        "N = 12\n",
        "ind = np.arange(N)  # the x locations for the groups\n",
        "width = 0.27       # the width of the bars\n",
        "\n",
        "fig = plt.figure()\n",
        "ax = fig.add_subplot(111)\n",
        "\n",
        " \n",
        "month_pos_wiki = wiki_pos.groupby(wiki_pos['Date'].dt.month).size()\n",
        "rects1 = ax.bar(ind, month_pos_wiki, width, color='g')\n",
        "month_neg_wiki = wiki_neg.groupby(wiki_neg['Date'].dt.month).size()\n",
        "rects2 = ax.bar(ind+width, month_neg_wiki, width, color='r')\n",
        "\n",
        "ax.set_ylabel('Number of posts')\n",
        "ax.set_xlabel('Month')\n",
        "ax.set_title('WIKIPEDIA : Distribution of the positive and negative posts from January to December')\n",
        "ax.set_xticks(ind+width)\n",
        "ax.set_xticklabels( ('01', '02', '03', '04', '05', '06', '07', '08', '09', '10', '11', '12'))\n",
        "ax.legend( (rects1[0], rects2[0]), ('positif', 'negatif') )\n",
        "\n",
        "plt.show()"
      ],
      "execution_count": 180,
      "outputs": [
        {
          "output_type": "display_data",
          "data": {
            "image/png": "[encoded data removed]",
            "text/plain": [
              "<Figure size 432x288 with 1 Axes>"
            ]
          },
          "metadata": {
            "tags": [],
            "needs_background": "light"
          }
        }
      ]
    },
    {
      "cell_type": "markdown",
      "metadata": {
        "id": "b1FkjFsjm4FZ"
      },
      "source": [
        "**Analysis :**\n",
        "- hard to see if pos and neg have the same trend, need to compute the ratio"
      ]
    },
    {
      "cell_type": "code",
      "metadata": {
        "id": "FokRsKZQm4FZ",
        "colab": {
          "base_uri": "https://localhost:8080/",
          "height": 295
        },
        "outputId": "ac95814b-4384-473a-9dea-cdcaad859e34"
      },
      "source": [
        "ratio_w = [(int(b) / int(m))*100 for b,m in zip(month_neg_wiki, month_pos_wiki)]\n",
        "N = 12\n",
        "ind = np.arange(N)  # the x locations for the groups\n",
        "width = 0.27       # the width of the bars\n",
        "\n",
        "fig = plt.figure()\n",
        "ax = fig.add_subplot(111)\n",
        "\n",
        "\n",
        "rects1 = ax.bar(ind, ratio_w, width, color='b')\n",
        "ax.set_ylabel('ratio')\n",
        "ax.set_xlabel('month')\n",
        "ax.set_title('WIKIPEDIA : Distribution of the ratio from January to December')\n",
        "ax.set_xticks(ind)\n",
        "ax.set_xticklabels( ('01', '02', '03', '04', '05', '06', '07', '08', '09', '10', '11', '12'))\n",
        "ax.legend('ratio neg/pos*100')\n",
        "\n",
        "plt.show()"
      ],
      "execution_count": 181,
      "outputs": [
        {
          "output_type": "display_data",
          "data": {
            "image/png": "[encoded data removed]",
            "text/plain": [
              "<Figure size 432x288 with 1 Axes>"
            ]
          },
          "metadata": {
            "tags": [],
            "needs_background": "light"
          }
        }
      ]
    },
    {
      "cell_type": "markdown",
      "metadata": {
        "id": "quzhqGQkm4Fa"
      },
      "source": [
        "- three parts : small ratio : month 11, high ratio : month 7, middle ratio : month 1-2-3-4-5-6-8-9-10-12\n",
        "- we have to find the more representative month for middle ratio"
      ]
    },
    {
      "cell_type": "code",
      "metadata": {
        "id": "Bq4qCz2pm4Fa",
        "colab": {
          "base_uri": "https://localhost:8080/"
        },
        "outputId": "afc64799-0bcb-4c80-d3c3-285b43e384e1"
      },
      "source": [
        "# ratio middle\n",
        "mean_middle_pos = statistics.mean([month_pos_wiki.iloc[0], month_pos_wiki.iloc[1], month_pos_wiki.iloc[2], month_pos_wiki.iloc[3], month_pos_wiki.iloc[4], month_pos_wiki.iloc[5], month_pos_wiki.iloc[7], month_pos_wiki.iloc[10], month_pos_wiki.iloc[11]])\n",
        "print('The mean count of posts from jan. to apr. is ', mean_middle_pos)\n",
        "print('The difference between number of counts and mean for march and april is respectively: \\n',[abs(x - mean_middle_pos) for x in[month_pos_wiki.iloc[0], month_pos_wiki.iloc[1], month_pos_wiki.iloc[2], month_pos_wiki.iloc[3], month_pos_wiki.iloc[4], month_pos_wiki.iloc[5], month_pos_wiki.iloc[7], month_pos_wiki.iloc[10], month_pos_wiki.iloc[11]]])"
      ],
      "execution_count": 182,
      "outputs": [
        {
          "output_type": "stream",
          "text": [
            "The mean count of posts from jan. to apr. is  6950\n",
            "The difference between number of counts and mean for march and april is respectively: \n",
            " [340, 1135, 184, 473, 810, 57, 961, 1798, 544]\n"
          ],
          "name": "stdout"
        }
      ]
    },
    {
      "cell_type": "markdown",
      "metadata": {
        "id": "0Gf-al34m4Fa"
      },
      "source": [
        "- more representative for the middle ratio is june (06) because the difference with the average value is the smaller. "
      ]
    },
    {
      "cell_type": "markdown",
      "metadata": {
        "id": "HypzhNtjm4Fb"
      },
      "source": [
        "**Ccl :** In order to assess the impact of the **MONTH** on the structure of the network, we can compare  3 subgraphs : \n",
        "> - from novembre (11) (representative of the first group - low ratio < 20- )\n",
        "> - from july (07) (representative of the second group, -high ratio > 30-)\n",
        "> - from june (06) (representative of the third group, -middle ratio around 25-)"
      ]
    },
    {
      "cell_type": "markdown",
      "metadata": {
        "id": "4OuJDIJGm4Fb"
      },
      "source": [
        "#### Step 3 :  Analysis of the day "
      ]
    },
    {
      "cell_type": "code",
      "metadata": {
        "id": "H7cP38dBm4Fb",
        "colab": {
          "base_uri": "https://localhost:8080/"
        },
        "outputId": "f3a1e310-275b-468c-83e2-35b8f5623dee"
      },
      "source": [
        "day_positive_wiki = wiki_pos.groupby(wiki_pos['Date'].dt.day).size()\n",
        "day_negative_wiki = wiki_neg.groupby(wiki_neg['Date'].dt.day).size()\n",
        "print('Month Positive', day_positive_wiki)\n",
        "print('Month Negative', day_negative_wiki)"
      ],
      "execution_count": 183,
      "outputs": [
        {
          "output_type": "stream",
          "text": [
            "Month Positive Date\n",
            "1     3056\n",
            "2     2906\n",
            "3     2962\n",
            "4     3107\n",
            "5     3325\n",
            "6     2930\n",
            "7     2987\n",
            "8     2934\n",
            "9     2801\n",
            "10    3194\n",
            "11    2921\n",
            "12    2772\n",
            "13    2777\n",
            "14    2790\n",
            "15    2690\n",
            "16    2643\n",
            "17    2521\n",
            "18    2509\n",
            "19    2418\n",
            "20    2569\n",
            "21    2486\n",
            "22    2686\n",
            "23    2742\n",
            "24    2754\n",
            "25    2343\n",
            "26    2504\n",
            "27    2392\n",
            "28    2669\n",
            "29    2252\n",
            "30    2479\n",
            "31    1834\n",
            "dtype: int64\n",
            "Month Negative Date\n",
            "1     845\n",
            "2     915\n",
            "3     851\n",
            "4     825\n",
            "5     789\n",
            "6     860\n",
            "7     800\n",
            "8     808\n",
            "9     842\n",
            "10    795\n",
            "11    701\n",
            "12    693\n",
            "13    761\n",
            "14    621\n",
            "15    608\n",
            "16    732\n",
            "17    667\n",
            "18    699\n",
            "19    634\n",
            "20    643\n",
            "21    726\n",
            "22    763\n",
            "23    854\n",
            "24    755\n",
            "25    650\n",
            "26    672\n",
            "27    696\n",
            "28    733\n",
            "29    839\n",
            "30    781\n",
            "31    560\n",
            "dtype: int64\n"
          ],
          "name": "stdout"
        }
      ]
    },
    {
      "cell_type": "code",
      "metadata": {
        "id": "EnmHlSePm4Fb",
        "colab": {
          "base_uri": "https://localhost:8080/",
          "height": 295
        },
        "outputId": "fd549611-902c-476e-c5c3-5bc8a69eeb84"
      },
      "source": [
        "N = 31\n",
        "ind = np.arange(N)  # the x locations for the groups\n",
        "width = 0.27       # the width of the bars\n",
        "\n",
        "fig = plt.figure()\n",
        "ax = fig.add_subplot(111)\n",
        "\n",
        " \n",
        "day_pos_wiki = wiki_pos.groupby(wiki_pos['Date'].dt.day).size()\n",
        "rects1 = ax.bar(ind, day_pos_wiki, width, color='g')\n",
        "day_neg_wiki = wiki_neg.groupby(wiki_neg['Date'].dt.day).size()\n",
        "rects2 = ax.bar(ind+width, day_neg_wiki, width, color='r')\n",
        "\n",
        "ax.set_ylabel('Number of posts')\n",
        "ax.set_xlabel('Day')\n",
        "ax.set_title('WIKIPEDIA : Distribution of the positive and negative posts along the days of a month')\n",
        "ax.set_xticks(ind+width)\n",
        "ax.set_xticklabels( ('1', '2', '3', '4', '5', '6', '7', '8', '9', '10', '11', '12', '13', '14', '15', '16', '17', '18', '19', '20', '21', '22', '23', '24', '25', '26' ,'27', '28', '29', '30', '31'))\n",
        "ax.legend((rects1[0], rects2[0]), ('positif', 'negatif'))\n",
        "\n",
        "plt.show()"
      ],
      "execution_count": 184,
      "outputs": [
        {
          "output_type": "display_data",
          "data": {
            "image/png": "[encoded data removed]",
            "text/plain": [
              "<Figure size 432x288 with 1 Axes>"
            ]
          },
          "metadata": {
            "tags": [],
            "needs_background": "light"
          }
        }
      ]
    },
    {
      "cell_type": "markdown",
      "metadata": {
        "id": "5XxgPZWRm4Fc"
      },
      "source": [
        "**Analysis :**\n",
        "- compared to other graph, color red very present, it means that the ratio will probably be higher with this observation according to the day of the month \n",
        "- need to compute the ration to see overall trend"
      ]
    },
    {
      "cell_type": "code",
      "metadata": {
        "id": "1BwghgXbm4Ff",
        "colab": {
          "base_uri": "https://localhost:8080/",
          "height": 295
        },
        "outputId": "c30893f6-8b2d-4588-f212-f39b5715cba2"
      },
      "source": [
        "ratio_w = [(int(b) / int(m))*100 for b,m in zip(day_neg_wiki, day_pos_wiki)]\n",
        "N = 31\n",
        "ind = np.arange(N)  # the x locations for the groups\n",
        "width = 0.27       # the width of the bars\n",
        "\n",
        "fig = plt.figure()\n",
        "ax = fig.add_subplot(111)\n",
        "\n",
        "rects1 = ax.bar(ind, ratio_w, width, color='b')\n",
        "\n",
        "ax.set_ylabel('ratio')\n",
        "ax.set_xlabel('Day')\n",
        "ax.set_title('WIKIPEDIA : Distribution ratio  along the days of a month')\n",
        "ax.set_xticks(ind)\n",
        "ax.set_xticklabels( ('1', '2', '3', '4', '5', '6', '7', '8', '9', '10', '11', '12', '13', '14', '15', '16', '17', '18', '19', '20', '21', '22', '23', '24', '25', '26' ,'27', '28', '29', '30', '31'))\n",
        "ax.legend('ratio')\n",
        "plt.show()"
      ],
      "execution_count": 185,
      "outputs": [
        {
          "output_type": "display_data",
          "data": {
            "image/png": "[encoded data removed]",
            "text/plain": [
              "<Figure size 432x288 with 1 Axes>"
            ]
          },
          "metadata": {
            "tags": [],
            "needs_background": "light"
          }
        }
      ]
    },
    {
      "cell_type": "markdown",
      "metadata": {
        "id": "UYlvC1qum4Fg"
      },
      "source": [
        "- as for Reddit, the approach look at the day in a month not very clear, we focus on day of the week"
      ]
    },
    {
      "cell_type": "code",
      "metadata": {
        "id": "WA8Q2ylRm4Fg",
        "colab": {
          "base_uri": "https://localhost:8080/"
        },
        "outputId": "dacd1bc1-4e4d-4461-d5df-c63b84802861"
      },
      "source": [
        "day_positive_wiki = wiki_pos.groupby(wiki_pos['Date'].dt.weekday).size()\n",
        "day_negative_wiki = wiki_neg.groupby(wiki_neg['Date'].dt.weekday).size()\n",
        "print('Month Positive', day_positive_wiki)\n",
        "print('Month Negative', day_negative_wiki)"
      ],
      "execution_count": 186,
      "outputs": [
        {
          "output_type": "stream",
          "text": [
            "Month Positive Date\n",
            "0    12181\n",
            "1    13259\n",
            "2    12409\n",
            "3    12257\n",
            "4    12252\n",
            "5    11081\n",
            "6    10514\n",
            "dtype: int64\n",
            "Month Negative Date\n",
            "0    3203\n",
            "1    3513\n",
            "2    3353\n",
            "3    3488\n",
            "4    3602\n",
            "5    2827\n",
            "6    3132\n",
            "dtype: int64\n"
          ],
          "name": "stdout"
        }
      ]
    },
    {
      "cell_type": "code",
      "metadata": {
        "id": "HNhCCi3tm4Fg",
        "colab": {
          "base_uri": "https://localhost:8080/",
          "height": 295
        },
        "outputId": "31cbd763-4737-4fe9-cf96-08b4b83d612a"
      },
      "source": [
        "N = 7\n",
        "ind = np.arange(N)  # the x locations for the groups\n",
        "width = 0.27       # the width of the bars\n",
        "\n",
        "fig = plt.figure()\n",
        "ax = fig.add_subplot(111)\n",
        "\n",
        " \n",
        "dayw_pos_wiki = wiki_pos.groupby(wiki_pos['Date'].dt.weekday).size()\n",
        "rects1 = ax.bar(ind, dayw_pos_wiki, width, color='g')\n",
        "dayw_neg_wiki = wiki_neg.groupby(wiki_neg['Date'].dt.weekday).size()\n",
        "rects2 = ax.bar(ind+width, dayw_neg_wiki, width, color='r')\n",
        "\n",
        "ax.set_ylabel('Number of posts')\n",
        "ax.set_xlabel('Day')\n",
        "ax.set_title('WIKIPEDIA : Distribution of the positive and negative posts along the days of a week')\n",
        "ax.set_xticks(ind+width)\n",
        "ax.set_xticklabels( ('mon.', 'tue.', 'wed.', 'thu.', 'fri.', 'sat.', 'sun.'))\n",
        "ax.legend((rects1[0], rects2[0]), ('positif', 'negatif'))\n",
        "\n",
        "plt.show()"
      ],
      "execution_count": 187,
      "outputs": [
        {
          "output_type": "display_data",
          "data": {
            "image/png": "[encoded data removed]",
            "text/plain": [
              "<Figure size 432x288 with 1 Axes>"
            ]
          },
          "metadata": {
            "tags": [],
            "needs_background": "light"
          }
        }
      ]
    },
    {
      "cell_type": "markdown",
      "metadata": {
        "id": "Uy-FCoj_m4Fh"
      },
      "source": [
        "- As to compute the ratio"
      ]
    },
    {
      "cell_type": "code",
      "metadata": {
        "id": "xnZ6zYFXm4Fh",
        "colab": {
          "base_uri": "https://localhost:8080/",
          "height": 295
        },
        "outputId": "9c14ec10-ce42-49c6-fd63-56a423e498a2"
      },
      "source": [
        "ratio_w = [(int(b) / int(m))*100 for b,m in zip(dayw_neg_wiki, dayw_pos_wiki)]\n",
        "N = 7\n",
        "ind = np.arange(N)  # the x locations for the groups\n",
        "width = 0.27       # the width of the bars\n",
        "\n",
        "fig = plt.figure()\n",
        "ax = fig.add_subplot(111)\n",
        "\n",
        "rects1 = ax.bar(ind, ratio_w, width, color='b')\n",
        "\n",
        "ax.set_ylabel('ratio')\n",
        "ax.set_xlabel('Day of the week')\n",
        "ax.set_title('WIKIPEDIA : Distribution ratio  along the days of a week')\n",
        "ax.set_xticks(ind)\n",
        "ax.set_xticklabels( ('mon.', 'tue.', 'wed.', 'thu.', 'fri.', 'sat.', 'sun.'))\n",
        "ax.legend('ratio')\n",
        "plt.show()"
      ],
      "execution_count": 188,
      "outputs": [
        {
          "output_type": "display_data",
          "data": {
            "image/png": "[encoded data removed]",
            "text/plain": [
              "<Figure size 432x288 with 1 Axes>"
            ]
          },
          "metadata": {
            "tags": [],
            "needs_background": "light"
          }
        }
      ]
    },
    {
      "cell_type": "markdown",
      "metadata": {
        "id": "3j_qcqImm4Fh"
      },
      "source": [
        "- increase during the work week (monday to friday) and different from saturday to sunday. Saturday looks like the beginning of the week while sunday looks like friday\n",
        "- so we will focus on the extrem : monday and friday"
      ]
    },
    {
      "cell_type": "markdown",
      "metadata": {
        "id": "KMNe128Om4Fi"
      },
      "source": [
        "**Ccl :** In order to assess the impact of the **MONTH** on the structure of the network, we can compare  3 subgraphs : \n",
        "> - from monday \n",
        "> - from friday"
      ]
    },
    {
      "cell_type": "markdown",
      "metadata": {
        "id": "lOIkd2vcm4Fi"
      },
      "source": [
        "#### Step 4 : Analysis of the hour "
      ]
    },
    {
      "cell_type": "code",
      "metadata": {
        "id": "suRGFP_km4Fi",
        "colab": {
          "base_uri": "https://localhost:8080/"
        },
        "outputId": "13f76878-79a8-4b5e-b0aa-0b146e3a20a2"
      },
      "source": [
        "hour_positive_wiki = wiki_pos.groupby(wiki_pos['Date'].dt.hour).size()\n",
        "hour_negative_wiki = wiki_neg.groupby(wiki_neg['Date'].dt.hour).size()\n",
        "print('Month Positive', hour_positive_wiki)\n",
        "print('Month Negative', hour_negative_wiki)"
      ],
      "execution_count": 190,
      "outputs": [
        {
          "output_type": "stream",
          "text": [
            "Month Positive Date\n",
            "0     4784\n",
            "1     4417\n",
            "2     4196\n",
            "3     3879\n",
            "4     3597\n",
            "5     3196\n",
            "6     2821\n",
            "7     2507\n",
            "8     2400\n",
            "9     2073\n",
            "10    2290\n",
            "11    2421\n",
            "12    2539\n",
            "13    2877\n",
            "14    3215\n",
            "15    3585\n",
            "16    3784\n",
            "17    3978\n",
            "18    4067\n",
            "19    3939\n",
            "20    4144\n",
            "21    4574\n",
            "22    4313\n",
            "23    4357\n",
            "dtype: int64\n",
            "Month Negative Date\n",
            "0     1273\n",
            "1     1173\n",
            "2     1149\n",
            "3     1081\n",
            "4      952\n",
            "5      913\n",
            "6      767\n",
            "7      713\n",
            "8      595\n",
            "9      544\n",
            "10     555\n",
            "11     548\n",
            "12     686\n",
            "13     778\n",
            "14     887\n",
            "15    1040\n",
            "16    1047\n",
            "17    1157\n",
            "18    1183\n",
            "19    1093\n",
            "20    1175\n",
            "21    1270\n",
            "22    1302\n",
            "23    1237\n",
            "dtype: int64\n"
          ],
          "name": "stdout"
        }
      ]
    },
    {
      "cell_type": "code",
      "metadata": {
        "id": "A9jNqTd0m4Fi",
        "colab": {
          "base_uri": "https://localhost:8080/",
          "height": 295
        },
        "outputId": "76af2eee-ff20-4cf0-e749-1a8ad97ff5a7"
      },
      "source": [
        "N = 24\n",
        "ind = np.arange(N)  # the x locations for the groups\n",
        "width = 0.27       # the width of the bars\n",
        "\n",
        "fig = plt.figure()\n",
        "ax = fig.add_subplot(111)\n",
        "\n",
        "hour_pos_wiki = wiki_pos.groupby(wiki_pos['Date'].dt.hour).size()\n",
        "rects1 = ax.bar(ind, hour_pos_wiki, width, color='g')\n",
        "hour_neg_wiki = wiki_neg.groupby(wiki_neg['Date'].dt.hour).size()\n",
        "rects2 = ax.bar(ind+width, hour_neg_wiki, width, color='r')\n",
        "\n",
        "ax.set_ylabel('Number of posts')\n",
        "ax.set_xlabel('Hour of the day')\n",
        "ax.set_title('Distribution of the positive and negative posts along the hours of a day')\n",
        "ax.set_xticks(ind+width)\n",
        "ax.set_xticklabels(('00', '01', '02', '03', '04', '05', '06', '07', '08', '09', '10', '11', '12', '13', '14', '15', '16', '17', '18', '19', '20', '21', '22', '23'))\n",
        "ax.legend((rects1[0], rects2[0]), ('positif', 'negatif'))\n",
        "\n",
        "plt.show()"
      ],
      "execution_count": 192,
      "outputs": [
        {
          "output_type": "display_data",
          "data": {
            "image/png": "[encoded data removed]",
            "text/plain": [
              "<Figure size 432x288 with 1 Axes>"
            ]
          },
          "metadata": {
            "tags": [],
            "needs_background": "light"
          }
        }
      ]
    },
    {
      "cell_type": "markdown",
      "metadata": {
        "id": "MdUtQgAYm4Fi"
      },
      "source": [
        "**Analysis :**\n",
        "- crazy trend :) It is to have very less vote at morning - mid day then during night ... (is it because of jetlag somehow??)\n",
        "- both positive and negative seams to have the same trend, but positive seams to be more marked. Compute the ratio to check"
      ]
    },
    {
      "cell_type": "code",
      "metadata": {
        "id": "WhFjL_WHm4Fj",
        "colab": {
          "base_uri": "https://localhost:8080/",
          "height": 295
        },
        "outputId": "bd77e313-2766-4fd6-8c10-55a3b132303b"
      },
      "source": [
        "ratio_ww = [(int(b) / int(m))*100 for b,m in zip(hour_neg_wiki, hour_pos_wiki)]\n",
        "N = 24\n",
        "ind = np.arange(N)  # the x locations for the groups\n",
        "width = 0.27       # the width of the bars\n",
        "\n",
        "fig = plt.figure()\n",
        "ax = fig.add_subplot(111)\n",
        "\n",
        "rects1 = ax.bar(ind, ratio_ww, width, color='b')\n",
        "\n",
        "ax.set_ylabel('ratio')\n",
        "ax.set_xlabel('hours of a day')\n",
        "ax.set_title('WIKIPEDIA : Distribution ratio  along the hours of a day')\n",
        "ax.set_xticks(ind)\n",
        "ax.set_xticklabels(('00', '01', '02', '03', '04', '05', '06', '07', '08', '09', '10', '11', '12', '13', '14', '15', '16', '17', '18', '19', '20', '21', '22', '23'))\n",
        "ax.legend('ratio')\n",
        "plt.show()"
      ],
      "execution_count": 193,
      "outputs": [
        {
          "output_type": "display_data",
          "data": {
            "image/png": "[encoded data removed]",
            "text/plain": [
              "<Figure size 432x288 with 1 Axes>"
            ]
          },
          "metadata": {
            "tags": [],
            "needs_background": "light"
          }
        }
      ]
    },
    {
      "cell_type": "markdown",
      "metadata": {
        "id": "wnfZgCI8m4Fj"
      },
      "source": [
        "- kind of loosing the previous trend : so both positve and negative where behaving quite similar\n",
        "- here 2 parts : low ratio (around morning : 8, 10, 11 and then middle one (00, 01, 02, 03, 04, 05, 06, 07, 09, 12, 13, 14, 15, 16, 17, 18, 19, 20, 21, 22, 23)"
      ]
    },
    {
      "cell_type": "code",
      "metadata": {
        "id": "EOX4ckS1m4Fj",
        "colab": {
          "base_uri": "https://localhost:8080/"
        },
        "outputId": "8f300e2e-ee2d-48ad-8b67-d7423213bbc5"
      },
      "source": [
        "# ratio low \n",
        "mean_rlow_pos = statistics.mean([hour_pos.iloc[8], hour_pos.iloc[10], hour_pos.iloc[11]])\n",
        "print('The mean count of posts from jan. to apr. is ', mean_rlow_pos)\n",
        "print('The difference between number of counts and mean for march and april is respectively: \\n',[abs(x - mean_rlow_pos) for x in[hour_pos.iloc[8], hour_pos.iloc[10], hour_pos.iloc[11]]])\n"
      ],
      "execution_count": 194,
      "outputs": [
        {
          "output_type": "stream",
          "text": [
            "The mean count of posts from jan. to apr. is  14149\n",
            "The difference between number of counts and mean for march and april is respectively: \n",
            " [777, 40, 738]\n"
          ],
          "name": "stdout"
        }
      ]
    },
    {
      "cell_type": "markdown",
      "metadata": {
        "id": "Wses6bHnm4Fk"
      },
      "source": [
        "- 10h is representative of low ratio"
      ]
    },
    {
      "cell_type": "code",
      "metadata": {
        "id": "qvE9gdHnm4Fk",
        "colab": {
          "base_uri": "https://localhost:8080/"
        },
        "outputId": "0b7846d6-a4ef-4223-d868-baa5abc73856"
      },
      "source": [
        "# ratio middle \n",
        "mean_rmiddle_pos = statistics.mean([hour_pos.iloc[0], hour_pos.iloc[1], hour_pos.iloc[2], hour_pos.iloc[3], hour_pos.iloc[4], hour_pos.iloc[5], hour_pos.iloc[6], hour_pos.iloc[7], hour_pos.iloc[9], hour_pos.iloc[12], hour_pos.iloc[13], hour_pos.iloc[14], hour_pos.iloc[15], hour_pos.iloc[16], hour_pos.iloc[17], hour_pos.iloc[18], hour_pos.iloc[19], hour_pos.iloc[20], hour_pos.iloc[21], hour_pos.iloc[22], hour_pos.iloc[23]])\n",
        "print('The mean count of posts from jan. to apr. is ', mean_rmiddle_pos)\n",
        "print('The difference between number of counts and mean for march and april is respectively: \\n',[abs(x - mean_rmiddle_pos) for x in[hour_pos.iloc[0], hour_pos.iloc[1], hour_pos.iloc[2], hour_pos.iloc[3], hour_pos.iloc[4], hour_pos.iloc[5], hour_pos.iloc[6], hour_pos.iloc[7], hour_pos.iloc[9], hour_pos.iloc[12], hour_pos.iloc[13], hour_pos.iloc[14], hour_pos.iloc[15], hour_pos.iloc[16], hour_pos.iloc[17], hour_pos.iloc[18], hour_pos.iloc[19], hour_pos.iloc[20], hour_pos.iloc[21], hour_pos.iloc[22], hour_pos.iloc[23]]])\n"
      ],
      "execution_count": 195,
      "outputs": [
        {
          "output_type": "stream",
          "text": [
            "The mean count of posts from jan. to apr. is  10621\n",
            "The difference between number of counts and mean for march and april is respectively: \n",
            " [3532, 4576, 4987, 4521, 3754, 2802, 683, 1448, 3805, 3950, 3996, 4373, 3528, 2646, 2546, 1797, 1268, 304, 721, 1687, 2396]\n"
          ],
          "name": "stdout"
        }
      ]
    },
    {
      "cell_type": "markdown",
      "metadata": {
        "id": "oxNRC754m4Fl"
      },
      "source": [
        "- 6h is representative of the middle ratio"
      ]
    },
    {
      "cell_type": "markdown",
      "metadata": {
        "id": "5Miotlklm4Fl"
      },
      "source": [
        "**Ccl :** In order to assess the impact of the **MONTH** on the structure of the network, we can compare  3 subgraphs : \n",
        "> - from 10h \n",
        "> - from 6h"
      ]
    },
    {
      "cell_type": "markdown",
      "metadata": {
        "id": "L2MIgE0R-q1m"
      },
      "source": [
        "### Structural analysis on wikipedia subgraphs\n",
        "\n",
        "Then let’s have a look on the wikipedia dataset.\n",
        " Three subgraphs have been computed from this dataset according to the year global trend. One from 2005, representing the ratio 15-20 group, one from 2007 representing the 25-30 ratio group and the third one from 2008 representing the 20-25 ratio group.\n",
        "\n",
        "Here are presented the parameters for the centrality analysis : so degree, closeness, local clustering coefficient and of course centrality degree. As these parameters are calculated for a single node, we are presenting here the min, max and average in the total network.\n"
      ]
    },
    {
      "cell_type": "markdown",
      "metadata": {
        "id": "HpADYctE-0fi"
      },
      "source": [
        "#### Wikipedia - Year "
      ]
    },
    {
      "cell_type": "code",
      "metadata": {
        "colab": {
          "base_uri": "https://localhost:8080/",
          "height": 419
        },
        "id": "L-4BFRj0wj8m",
        "outputId": "6b4fe2a4-6485-432e-918d-bbe5171fd88e"
      },
      "source": [
        "Wiki_votes"
      ],
      "execution_count": 248,
      "outputs": [
        {
          "output_type": "execute_result",
          "data": {
            "text/html": [
              "<div>\n",
              "<style scoped>\n",
              "    .dataframe tbody tr th:only-of-type {\n",
              "        vertical-align: middle;\n",
              "    }\n",
              "\n",
              "    .dataframe tbody tr th {\n",
              "        vertical-align: top;\n",
              "    }\n",
              "\n",
              "    .dataframe thead th {\n",
              "        text-align: right;\n",
              "    }\n",
              "</style>\n",
              "<table border=\"1\" class=\"dataframe\">\n",
              "  <thead>\n",
              "    <tr style=\"text-align: right;\">\n",
              "      <th></th>\n",
              "      <th>FromNodeId</th>\n",
              "      <th>ToNodeId</th>\n",
              "      <th>Sign</th>\n",
              "      <th>Date</th>\n",
              "    </tr>\n",
              "  </thead>\n",
              "  <tbody>\n",
              "    <tr>\n",
              "      <th>0</th>\n",
              "      <td>3</td>\n",
              "      <td>30</td>\n",
              "      <td>1</td>\n",
              "      <td>2004-09-14 16:26:00</td>\n",
              "    </tr>\n",
              "    <tr>\n",
              "      <th>1</th>\n",
              "      <td>25</td>\n",
              "      <td>30</td>\n",
              "      <td>-1</td>\n",
              "      <td>2004-09-14 16:53:00</td>\n",
              "    </tr>\n",
              "    <tr>\n",
              "      <th>2</th>\n",
              "      <td>4</td>\n",
              "      <td>30</td>\n",
              "      <td>1</td>\n",
              "      <td>2004-09-14 17:08:00</td>\n",
              "    </tr>\n",
              "    <tr>\n",
              "      <th>3</th>\n",
              "      <td>5</td>\n",
              "      <td>30</td>\n",
              "      <td>1</td>\n",
              "      <td>2004-09-14 17:37:00</td>\n",
              "    </tr>\n",
              "    <tr>\n",
              "      <th>4</th>\n",
              "      <td>6</td>\n",
              "      <td>30</td>\n",
              "      <td>1</td>\n",
              "      <td>2004-09-14 19:28:00</td>\n",
              "    </tr>\n",
              "    <tr>\n",
              "      <th>...</th>\n",
              "      <td>...</td>\n",
              "      <td>...</td>\n",
              "      <td>...</td>\n",
              "      <td>...</td>\n",
              "    </tr>\n",
              "    <tr>\n",
              "      <th>107075</th>\n",
              "      <td>8045</td>\n",
              "      <td>6307</td>\n",
              "      <td>-1</td>\n",
              "      <td>2008-01-05 23:34:00</td>\n",
              "    </tr>\n",
              "    <tr>\n",
              "      <th>107076</th>\n",
              "      <td>7053</td>\n",
              "      <td>6307</td>\n",
              "      <td>-1</td>\n",
              "      <td>2008-01-05 23:36:00</td>\n",
              "    </tr>\n",
              "    <tr>\n",
              "      <th>107077</th>\n",
              "      <td>6885</td>\n",
              "      <td>6307</td>\n",
              "      <td>-1</td>\n",
              "      <td>2008-01-06 00:44:00</td>\n",
              "    </tr>\n",
              "    <tr>\n",
              "      <th>107078</th>\n",
              "      <td>8243</td>\n",
              "      <td>6307</td>\n",
              "      <td>-1</td>\n",
              "      <td>2008-01-06 01:07:00</td>\n",
              "    </tr>\n",
              "    <tr>\n",
              "      <th>107079</th>\n",
              "      <td>3404</td>\n",
              "      <td>6307</td>\n",
              "      <td>-1</td>\n",
              "      <td>2008-01-06 01:09:00</td>\n",
              "    </tr>\n",
              "  </tbody>\n",
              "</table>\n",
              "<p>107080 rows × 4 columns</p>\n",
              "</div>"
            ],
            "text/plain": [
              "       FromNodeId ToNodeId Sign                Date\n",
              "0               3       30    1 2004-09-14 16:26:00\n",
              "1              25       30   -1 2004-09-14 16:53:00\n",
              "2               4       30    1 2004-09-14 17:08:00\n",
              "3               5       30    1 2004-09-14 17:37:00\n",
              "4               6       30    1 2004-09-14 19:28:00\n",
              "...           ...      ...  ...                 ...\n",
              "107075       8045     6307   -1 2008-01-05 23:34:00\n",
              "107076       7053     6307   -1 2008-01-05 23:36:00\n",
              "107077       6885     6307   -1 2008-01-06 00:44:00\n",
              "107078       8243     6307   -1 2008-01-06 01:07:00\n",
              "107079       3404     6307   -1 2008-01-06 01:09:00\n",
              "\n",
              "[107080 rows x 4 columns]"
            ]
          },
          "metadata": {
            "tags": []
          },
          "execution_count": 248
        }
      ]
    },
    {
      "cell_type": "code",
      "metadata": {
        "id": "fHGU5sN9-5RQ"
      },
      "source": [
        "mask_2005 = (Wiki_votes['Date'] > '2005-1-1') & (Wiki_votes['Date'] <= '2005-12-31')\n",
        "mask_2007 = (Wiki_votes['Date'] > '2007-1-1') & (Wiki_votes['Date'] <= '2007-12-31')\n",
        "mask_2008 = (Wiki_votes['Date'] > '2008-1-1') & (Wiki_votes['Date'] <= '2008-12-31')\n",
        "\n",
        "wikipedia_2005 = Wiki_votes.loc[mask_2005]\n",
        "wikipedia_2007 = Wiki_votes.loc[mask_2007]\n",
        "wikipedia_2008 = Wiki_votes.loc[mask_2008]"
      ],
      "execution_count": 249,
      "outputs": []
    },
    {
      "cell_type": "code",
      "metadata": {
        "colab": {
          "base_uri": "https://localhost:8080/",
          "height": 204
        },
        "id": "ZLxDKX2oBn4i",
        "outputId": "2969c214-e864-4fd5-def8-9cdae5e4cbed"
      },
      "source": [
        "wikipedia_2007.head()"
      ],
      "execution_count": 250,
      "outputs": [
        {
          "output_type": "execute_result",
          "data": {
            "text/html": [
              "<div>\n",
              "<style scoped>\n",
              "    .dataframe tbody tr th:only-of-type {\n",
              "        vertical-align: middle;\n",
              "    }\n",
              "\n",
              "    .dataframe tbody tr th {\n",
              "        vertical-align: top;\n",
              "    }\n",
              "\n",
              "    .dataframe thead th {\n",
              "        text-align: right;\n",
              "    }\n",
              "</style>\n",
              "<table border=\"1\" class=\"dataframe\">\n",
              "  <thead>\n",
              "    <tr style=\"text-align: right;\">\n",
              "      <th></th>\n",
              "      <th>FromNodeId</th>\n",
              "      <th>ToNodeId</th>\n",
              "      <th>Sign</th>\n",
              "      <th>Date</th>\n",
              "    </tr>\n",
              "  </thead>\n",
              "  <tbody>\n",
              "    <tr>\n",
              "      <th>3370</th>\n",
              "      <td>625</td>\n",
              "      <td>624</td>\n",
              "      <td>1</td>\n",
              "      <td>2007-02-20 00:47:00</td>\n",
              "    </tr>\n",
              "    <tr>\n",
              "      <th>7091</th>\n",
              "      <td>1004</td>\n",
              "      <td>789</td>\n",
              "      <td>1</td>\n",
              "      <td>2007-04-12 23:16:00</td>\n",
              "    </tr>\n",
              "    <tr>\n",
              "      <th>33734</th>\n",
              "      <td>3194</td>\n",
              "      <td>3195</td>\n",
              "      <td>-1</td>\n",
              "      <td>2007-08-14 16:01:00</td>\n",
              "    </tr>\n",
              "    <tr>\n",
              "      <th>33943</th>\n",
              "      <td>3224</td>\n",
              "      <td>2237</td>\n",
              "      <td>-1</td>\n",
              "      <td>2007-07-10 13:06:00</td>\n",
              "    </tr>\n",
              "    <tr>\n",
              "      <th>42745</th>\n",
              "      <td>3794</td>\n",
              "      <td>3797</td>\n",
              "      <td>1</td>\n",
              "      <td>2007-01-06 21:49:00</td>\n",
              "    </tr>\n",
              "  </tbody>\n",
              "</table>\n",
              "</div>"
            ],
            "text/plain": [
              "      FromNodeId ToNodeId Sign                Date\n",
              "3370         625      624    1 2007-02-20 00:47:00\n",
              "7091        1004      789    1 2007-04-12 23:16:00\n",
              "33734       3194     3195   -1 2007-08-14 16:01:00\n",
              "33943       3224     2237   -1 2007-07-10 13:06:00\n",
              "42745       3794     3797    1 2007-01-06 21:49:00"
            ]
          },
          "metadata": {
            "tags": []
          },
          "execution_count": 250
        }
      ]
    },
    {
      "cell_type": "code",
      "metadata": {
        "colab": {
          "base_uri": "https://localhost:8080/",
          "height": 204
        },
        "id": "m3AB2zGYGNp8",
        "outputId": "a6f2b08c-f9db-4f3b-c3a1-23dbab486264"
      },
      "source": [
        "wikipedia_2005.head()"
      ],
      "execution_count": 251,
      "outputs": [
        {
          "output_type": "execute_result",
          "data": {
            "text/html": [
              "<div>\n",
              "<style scoped>\n",
              "    .dataframe tbody tr th:only-of-type {\n",
              "        vertical-align: middle;\n",
              "    }\n",
              "\n",
              "    .dataframe tbody tr th {\n",
              "        vertical-align: top;\n",
              "    }\n",
              "\n",
              "    .dataframe thead th {\n",
              "        text-align: right;\n",
              "    }\n",
              "</style>\n",
              "<table border=\"1\" class=\"dataframe\">\n",
              "  <thead>\n",
              "    <tr style=\"text-align: right;\">\n",
              "      <th></th>\n",
              "      <th>FromNodeId</th>\n",
              "      <th>ToNodeId</th>\n",
              "      <th>Sign</th>\n",
              "      <th>Date</th>\n",
              "    </tr>\n",
              "  </thead>\n",
              "  <tbody>\n",
              "    <tr>\n",
              "      <th>404</th>\n",
              "      <td>165</td>\n",
              "      <td>167</td>\n",
              "      <td>-1</td>\n",
              "      <td>2005-01-31 13:01:00</td>\n",
              "    </tr>\n",
              "    <tr>\n",
              "      <th>1149</th>\n",
              "      <td>304</td>\n",
              "      <td>322</td>\n",
              "      <td>1</td>\n",
              "      <td>2005-05-24 20:28:00</td>\n",
              "    </tr>\n",
              "    <tr>\n",
              "      <th>1150</th>\n",
              "      <td>72</td>\n",
              "      <td>322</td>\n",
              "      <td>1</td>\n",
              "      <td>2005-05-24 20:39:00</td>\n",
              "    </tr>\n",
              "    <tr>\n",
              "      <th>1151</th>\n",
              "      <td>94</td>\n",
              "      <td>322</td>\n",
              "      <td>-1</td>\n",
              "      <td>2005-05-24 21:20:00</td>\n",
              "    </tr>\n",
              "    <tr>\n",
              "      <th>1152</th>\n",
              "      <td>25</td>\n",
              "      <td>322</td>\n",
              "      <td>-1</td>\n",
              "      <td>2005-05-24 21:59:00</td>\n",
              "    </tr>\n",
              "  </tbody>\n",
              "</table>\n",
              "</div>"
            ],
            "text/plain": [
              "     FromNodeId ToNodeId Sign                Date\n",
              "404         165      167   -1 2005-01-31 13:01:00\n",
              "1149        304      322    1 2005-05-24 20:28:00\n",
              "1150         72      322    1 2005-05-24 20:39:00\n",
              "1151         94      322   -1 2005-05-24 21:20:00\n",
              "1152         25      322   -1 2005-05-24 21:59:00"
            ]
          },
          "metadata": {
            "tags": []
          },
          "execution_count": 251
        }
      ]
    },
    {
      "cell_type": "code",
      "metadata": {
        "id": "J84OSEgM-3bS"
      },
      "source": [
        "wikipedia_2005_graph = nx.from_pandas_edgelist(wikipedia_2005,\"FromNodeId\",\"ToNodeId\",edge_attr=\"Sign\",create_using=nx.DiGraph)\n",
        "wikipedia_2008_graph = nx.from_pandas_edgelist(wikipedia_2008,\"FromNodeId\",\"ToNodeId\",edge_attr=\"Sign\",create_using=nx.DiGraph)\n",
        "wikipedia_2007_graph = nx.from_pandas_edgelist(wikipedia_2007,\"FromNodeId\",\"ToNodeId\",edge_attr=\"Sign\",create_using=nx.DiGraph)\n",
        "wikipedia_2005_table1,wikipedia_2005_table2,wikipedia_2005_table3 = graph_properties(wikipedia_2005_graph)\n",
        "wikipedia_2007_table1,wikipedia_2007_table2,wikipedia_2007_table3 = graph_properties(wikipedia_2007_graph)\n",
        "wikipedia_2008_table1,wikipedia_2008_table2,wikipedia_2008_table3 = graph_properties(wikipedia_2008_graph)"
      ],
      "execution_count": 252,
      "outputs": []
    },
    {
      "cell_type": "code",
      "metadata": {
        "colab": {
          "base_uri": "https://localhost:8080/",
          "height": 173
        },
        "id": "-tbJXPyWGtRB",
        "outputId": "c2c3c244-1b4d-480b-e09e-2f578f5ddb37"
      },
      "source": [
        "wikipedia_2005_table1"
      ],
      "execution_count": 253,
      "outputs": [
        {
          "output_type": "execute_result",
          "data": {
            "text/html": [
              "<div>\n",
              "<style scoped>\n",
              "    .dataframe tbody tr th:only-of-type {\n",
              "        vertical-align: middle;\n",
              "    }\n",
              "\n",
              "    .dataframe tbody tr th {\n",
              "        vertical-align: top;\n",
              "    }\n",
              "\n",
              "    .dataframe thead th {\n",
              "        text-align: right;\n",
              "    }\n",
              "</style>\n",
              "<table border=\"1\" class=\"dataframe\">\n",
              "  <thead>\n",
              "    <tr style=\"text-align: right;\">\n",
              "      <th></th>\n",
              "      <th>Average</th>\n",
              "      <th>Max</th>\n",
              "      <th>Min</th>\n",
              "    </tr>\n",
              "  </thead>\n",
              "  <tbody>\n",
              "    <tr>\n",
              "      <th>Degree</th>\n",
              "      <td>20.407061</td>\n",
              "      <td>422.000000</td>\n",
              "      <td>1.000000</td>\n",
              "    </tr>\n",
              "    <tr>\n",
              "      <th>Closeness</th>\n",
              "      <td>0.067255</td>\n",
              "      <td>0.304447</td>\n",
              "      <td>0.000000</td>\n",
              "    </tr>\n",
              "    <tr>\n",
              "      <th>Local clustering coefficient</th>\n",
              "      <td>0.078754</td>\n",
              "      <td>1.000000</td>\n",
              "      <td>0.000000</td>\n",
              "    </tr>\n",
              "    <tr>\n",
              "      <th>Centrality</th>\n",
              "      <td>0.010601</td>\n",
              "      <td>0.219221</td>\n",
              "      <td>0.000519</td>\n",
              "    </tr>\n",
              "  </tbody>\n",
              "</table>\n",
              "</div>"
            ],
            "text/plain": [
              "                                Average         Max       Min\n",
              "Degree                        20.407061  422.000000  1.000000\n",
              "Closeness                      0.067255    0.304447  0.000000\n",
              "Local clustering coefficient   0.078754    1.000000  0.000000\n",
              "Centrality                     0.010601    0.219221  0.000519"
            ]
          },
          "metadata": {
            "tags": []
          },
          "execution_count": 253
        }
      ]
    },
    {
      "cell_type": "code",
      "metadata": {
        "colab": {
          "base_uri": "https://localhost:8080/",
          "height": 173
        },
        "id": "n3RPG_ENs_I2",
        "outputId": "e87ef6ce-e211-430b-861d-882f44c822c7"
      },
      "source": [
        "wikipedia_2007_table1"
      ],
      "execution_count": 254,
      "outputs": [
        {
          "output_type": "execute_result",
          "data": {
            "text/html": [
              "<div>\n",
              "<style scoped>\n",
              "    .dataframe tbody tr th:only-of-type {\n",
              "        vertical-align: middle;\n",
              "    }\n",
              "\n",
              "    .dataframe tbody tr th {\n",
              "        vertical-align: top;\n",
              "    }\n",
              "\n",
              "    .dataframe thead th {\n",
              "        text-align: right;\n",
              "    }\n",
              "</style>\n",
              "<table border=\"1\" class=\"dataframe\">\n",
              "  <thead>\n",
              "    <tr style=\"text-align: right;\">\n",
              "      <th></th>\n",
              "      <th>Average</th>\n",
              "      <th>Max</th>\n",
              "      <th>Min</th>\n",
              "    </tr>\n",
              "  </thead>\n",
              "  <tbody>\n",
              "    <tr>\n",
              "      <th>Degree</th>\n",
              "      <td>21.853923</td>\n",
              "      <td>533.000000</td>\n",
              "      <td>1.000000</td>\n",
              "    </tr>\n",
              "    <tr>\n",
              "      <th>Closeness</th>\n",
              "      <td>0.057548</td>\n",
              "      <td>0.316734</td>\n",
              "      <td>0.000000</td>\n",
              "    </tr>\n",
              "    <tr>\n",
              "      <th>Local clustering coefficient</th>\n",
              "      <td>0.074431</td>\n",
              "      <td>1.000000</td>\n",
              "      <td>0.000000</td>\n",
              "    </tr>\n",
              "    <tr>\n",
              "      <th>Centrality</th>\n",
              "      <td>0.005935</td>\n",
              "      <td>0.144758</td>\n",
              "      <td>0.000272</td>\n",
              "    </tr>\n",
              "  </tbody>\n",
              "</table>\n",
              "</div>"
            ],
            "text/plain": [
              "                                Average         Max       Min\n",
              "Degree                        21.853923  533.000000  1.000000\n",
              "Closeness                      0.057548    0.316734  0.000000\n",
              "Local clustering coefficient   0.074431    1.000000  0.000000\n",
              "Centrality                     0.005935    0.144758  0.000272"
            ]
          },
          "metadata": {
            "tags": []
          },
          "execution_count": 254
        }
      ]
    },
    {
      "cell_type": "code",
      "metadata": {
        "colab": {
          "base_uri": "https://localhost:8080/",
          "height": 173
        },
        "id": "cgi1KL3SGuhq",
        "outputId": "58bfe255-bda3-435b-d95b-5f4879e19968"
      },
      "source": [
        "wikipedia_2008_table1"
      ],
      "execution_count": 255,
      "outputs": [
        {
          "output_type": "execute_result",
          "data": {
            "text/html": [
              "<div>\n",
              "<style scoped>\n",
              "    .dataframe tbody tr th:only-of-type {\n",
              "        vertical-align: middle;\n",
              "    }\n",
              "\n",
              "    .dataframe tbody tr th {\n",
              "        vertical-align: top;\n",
              "    }\n",
              "\n",
              "    .dataframe thead th {\n",
              "        text-align: right;\n",
              "    }\n",
              "</style>\n",
              "<table border=\"1\" class=\"dataframe\">\n",
              "  <thead>\n",
              "    <tr style=\"text-align: right;\">\n",
              "      <th></th>\n",
              "      <th>Average</th>\n",
              "      <th>Max</th>\n",
              "      <th>Min</th>\n",
              "    </tr>\n",
              "  </thead>\n",
              "  <tbody>\n",
              "    <tr>\n",
              "      <th>Degree</th>\n",
              "      <td>4.291667</td>\n",
              "      <td>114.000000</td>\n",
              "      <td>1.000000</td>\n",
              "    </tr>\n",
              "    <tr>\n",
              "      <th>Closeness</th>\n",
              "      <td>0.010002</td>\n",
              "      <td>0.413115</td>\n",
              "      <td>0.000000</td>\n",
              "    </tr>\n",
              "    <tr>\n",
              "      <th>Local clustering coefficient</th>\n",
              "      <td>0.062715</td>\n",
              "      <td>1.000000</td>\n",
              "      <td>0.000000</td>\n",
              "    </tr>\n",
              "    <tr>\n",
              "      <th>Centrality</th>\n",
              "      <td>0.014954</td>\n",
              "      <td>0.397213</td>\n",
              "      <td>0.003484</td>\n",
              "    </tr>\n",
              "  </tbody>\n",
              "</table>\n",
              "</div>"
            ],
            "text/plain": [
              "                               Average         Max       Min\n",
              "Degree                        4.291667  114.000000  1.000000\n",
              "Closeness                     0.010002    0.413115  0.000000\n",
              "Local clustering coefficient  0.062715    1.000000  0.000000\n",
              "Centrality                    0.014954    0.397213  0.003484"
            ]
          },
          "metadata": {
            "tags": []
          },
          "execution_count": 255
        }
      ]
    },
    {
      "cell_type": "markdown",
      "metadata": {
        "id": "c6iqpV-RZZXS"
      },
      "source": [
        "First 2005 and 2007 have pretty similar average node degrees while 2008 have a very smaller one. All the three have a minimum node degree of 1 which means that there is no isolated node. \n",
        "**Axel** : do you agree ? \n",
        "\n",
        "However both 2005 and 2008 have a similar average centrality value, while 2007 has a very lower one (factor 2). This means that there is a dissymmetry in the network structure between the years. A high average degree means that nodes tend to have a lot of incoming edges, and a high value of centrality means that nodes tend to have a high number of connections (in total both incoming and outgoing).So in the case of 2008, the high average centrality means a lot of connection per for each node. The quite low average degree is pretty surprising but could mean a disequilibrium of the sent and received number of edges.\n",
        "\n",
        "we can see that the closeness average is 6 or 5 times smaller for 2008 than for 2005 and 2007. A small average closeness indicates an important average distance between a node with all the nodes. This could mean that the nodes tend to be linked to more distant ones. \n",
        "\n",
        "All the subgraphs seem to have the same clustering coefficient, and thus neighbors of a random node seem to be equally connected."
      ]
    },
    {
      "cell_type": "markdown",
      "metadata": {
        "id": "-OORydlSG0Af"
      },
      "source": [
        "-----------\n"
      ]
    },
    {
      "cell_type": "markdown",
      "metadata": {
        "id": "oIJzze96Ze_u"
      },
      "source": [
        "Now let’s have a look at the behaviour and clustering analysis. \n"
      ]
    },
    {
      "cell_type": "code",
      "metadata": {
        "colab": {
          "base_uri": "https://localhost:8080/",
          "height": 125
        },
        "id": "p0btOlpRG1Sx",
        "outputId": "9af1f623-2687-4816-cf57-f7b663465042"
      },
      "source": [
        "wikipedia_2005_table2"
      ],
      "execution_count": 256,
      "outputs": [
        {
          "output_type": "execute_result",
          "data": {
            "text/html": [
              "<div>\n",
              "<style scoped>\n",
              "    .dataframe tbody tr th:only-of-type {\n",
              "        vertical-align: middle;\n",
              "    }\n",
              "\n",
              "    .dataframe tbody tr th {\n",
              "        vertical-align: top;\n",
              "    }\n",
              "\n",
              "    .dataframe thead th {\n",
              "        text-align: right;\n",
              "    }\n",
              "</style>\n",
              "<table border=\"1\" class=\"dataframe\">\n",
              "  <thead>\n",
              "    <tr style=\"text-align: right;\">\n",
              "      <th></th>\n",
              "      <th></th>\n",
              "    </tr>\n",
              "  </thead>\n",
              "  <tbody>\n",
              "    <tr>\n",
              "      <th>Global clustering coefficient</th>\n",
              "      <td>0.062375</td>\n",
              "    </tr>\n",
              "    <tr>\n",
              "      <th>Assortativity degree</th>\n",
              "      <td>-0.110852</td>\n",
              "    </tr>\n",
              "    <tr>\n",
              "      <th>Number of triads</th>\n",
              "      <td>88438.000000</td>\n",
              "    </tr>\n",
              "  </tbody>\n",
              "</table>\n",
              "</div>"
            ],
            "text/plain": [
              "                                           \n",
              "Global clustering coefficient      0.062375\n",
              "Assortativity degree              -0.110852\n",
              "Number of triads               88438.000000"
            ]
          },
          "metadata": {
            "tags": []
          },
          "execution_count": 256
        }
      ]
    },
    {
      "cell_type": "code",
      "metadata": {
        "colab": {
          "base_uri": "https://localhost:8080/",
          "height": 125
        },
        "id": "fNMvsNkftCkC",
        "outputId": "276791d9-7128-4a2f-b518-f8a1388d6885"
      },
      "source": [
        "wikipedia_2007_table2"
      ],
      "execution_count": 257,
      "outputs": [
        {
          "output_type": "execute_result",
          "data": {
            "text/html": [
              "<div>\n",
              "<style scoped>\n",
              "    .dataframe tbody tr th:only-of-type {\n",
              "        vertical-align: middle;\n",
              "    }\n",
              "\n",
              "    .dataframe tbody tr th {\n",
              "        vertical-align: top;\n",
              "    }\n",
              "\n",
              "    .dataframe thead th {\n",
              "        text-align: right;\n",
              "    }\n",
              "</style>\n",
              "<table border=\"1\" class=\"dataframe\">\n",
              "  <thead>\n",
              "    <tr style=\"text-align: right;\">\n",
              "      <th></th>\n",
              "      <th></th>\n",
              "    </tr>\n",
              "  </thead>\n",
              "  <tbody>\n",
              "    <tr>\n",
              "      <th>Global clustering coefficient</th>\n",
              "      <td>0.061274</td>\n",
              "    </tr>\n",
              "    <tr>\n",
              "      <th>Assortativity degree</th>\n",
              "      <td>-0.153825</td>\n",
              "    </tr>\n",
              "    <tr>\n",
              "      <th>Number of triads</th>\n",
              "      <td>231341.000000</td>\n",
              "    </tr>\n",
              "  </tbody>\n",
              "</table>\n",
              "</div>"
            ],
            "text/plain": [
              "                                            \n",
              "Global clustering coefficient       0.061274\n",
              "Assortativity degree               -0.153825\n",
              "Number of triads               231341.000000"
            ]
          },
          "metadata": {
            "tags": []
          },
          "execution_count": 257
        }
      ]
    },
    {
      "cell_type": "code",
      "metadata": {
        "colab": {
          "base_uri": "https://localhost:8080/",
          "height": 125
        },
        "id": "VTgihq9mG2Yh",
        "outputId": "cc228c4f-288e-4948-b989-8ab3293cf276"
      },
      "source": [
        "wikipedia_2008_table2"
      ],
      "execution_count": 258,
      "outputs": [
        {
          "output_type": "execute_result",
          "data": {
            "text/html": [
              "<div>\n",
              "<style scoped>\n",
              "    .dataframe tbody tr th:only-of-type {\n",
              "        vertical-align: middle;\n",
              "    }\n",
              "\n",
              "    .dataframe tbody tr th {\n",
              "        vertical-align: top;\n",
              "    }\n",
              "\n",
              "    .dataframe thead th {\n",
              "        text-align: right;\n",
              "    }\n",
              "</style>\n",
              "<table border=\"1\" class=\"dataframe\">\n",
              "  <thead>\n",
              "    <tr style=\"text-align: right;\">\n",
              "      <th></th>\n",
              "      <th></th>\n",
              "    </tr>\n",
              "  </thead>\n",
              "  <tbody>\n",
              "    <tr>\n",
              "      <th>Global clustering coefficient</th>\n",
              "      <td>0.120192</td>\n",
              "    </tr>\n",
              "    <tr>\n",
              "      <th>Assortativity degree</th>\n",
              "      <td>-0.178545</td>\n",
              "    </tr>\n",
              "    <tr>\n",
              "      <th>Number of triads</th>\n",
              "      <td>226.000000</td>\n",
              "    </tr>\n",
              "  </tbody>\n",
              "</table>\n",
              "</div>"
            ],
            "text/plain": [
              "                                         \n",
              "Global clustering coefficient    0.120192\n",
              "Assortativity degree            -0.178545\n",
              "Number of triads               226.000000"
            ]
          },
          "metadata": {
            "tags": []
          },
          "execution_count": 258
        }
      ]
    },
    {
      "cell_type": "markdown",
      "metadata": {
        "id": "brLXPyFyZQPE"
      },
      "source": [
        "First we can see that the global clustering coefficient is the highest for 2008, compared to 2007 which is itself higher than 2005. This is in accordance with our previous observations about the high connectivity of this network.  We could also interpret this high global clustering coefficient as a bigger probability to have an edge between two nodes with a common neighbor, because its means a higher proportion of triangles in the graph.\n",
        "For the assortativity degree, we do not see a particular trend along the 3 years. \n"
      ]
    },
    {
      "cell_type": "markdown",
      "metadata": {
        "id": "w6Mwcam8LzQ6"
      },
      "source": [
        "-----"
      ]
    },
    {
      "cell_type": "markdown",
      "metadata": {
        "id": "llBASs91ZkUV"
      },
      "source": [
        "Then we have a look at the proportion of triad types. \n"
      ]
    },
    {
      "cell_type": "code",
      "metadata": {
        "colab": {
          "base_uri": "https://localhost:8080/",
          "height": 173
        },
        "id": "mb7FpRKkL0Sv",
        "outputId": "db49a7a6-bbaa-48b1-e6a9-760c1c735acb"
      },
      "source": [
        "wikipedia_2005_table3"
      ],
      "execution_count": 259,
      "outputs": [
        {
          "output_type": "execute_result",
          "data": {
            "text/html": [
              "<div>\n",
              "<style scoped>\n",
              "    .dataframe tbody tr th:only-of-type {\n",
              "        vertical-align: middle;\n",
              "    }\n",
              "\n",
              "    .dataframe tbody tr th {\n",
              "        vertical-align: top;\n",
              "    }\n",
              "\n",
              "    .dataframe thead th {\n",
              "        text-align: right;\n",
              "    }\n",
              "</style>\n",
              "<table border=\"1\" class=\"dataframe\">\n",
              "  <thead>\n",
              "    <tr style=\"text-align: right;\">\n",
              "      <th></th>\n",
              "      <th>Triads</th>\n",
              "    </tr>\n",
              "  </thead>\n",
              "  <tbody>\n",
              "    <tr>\n",
              "      <th>+++</th>\n",
              "      <td>72215</td>\n",
              "    </tr>\n",
              "    <tr>\n",
              "      <th>++-</th>\n",
              "      <td>10924</td>\n",
              "    </tr>\n",
              "    <tr>\n",
              "      <th>+--</th>\n",
              "      <td>4819</td>\n",
              "    </tr>\n",
              "    <tr>\n",
              "      <th>---</th>\n",
              "      <td>480</td>\n",
              "    </tr>\n",
              "  </tbody>\n",
              "</table>\n",
              "</div>"
            ],
            "text/plain": [
              "     Triads\n",
              "+++   72215\n",
              "++-   10924\n",
              "+--    4819\n",
              "---     480"
            ]
          },
          "metadata": {
            "tags": []
          },
          "execution_count": 259
        }
      ]
    },
    {
      "cell_type": "code",
      "metadata": {
        "colab": {
          "base_uri": "https://localhost:8080/",
          "height": 173
        },
        "id": "2hY-JDf1L1SA",
        "outputId": "bd164a61-4451-48b1-a3a5-a983ea5661fc"
      },
      "source": [
        "wikipedia_2007_table3"
      ],
      "execution_count": 260,
      "outputs": [
        {
          "output_type": "execute_result",
          "data": {
            "text/html": [
              "<div>\n",
              "<style scoped>\n",
              "    .dataframe tbody tr th:only-of-type {\n",
              "        vertical-align: middle;\n",
              "    }\n",
              "\n",
              "    .dataframe tbody tr th {\n",
              "        vertical-align: top;\n",
              "    }\n",
              "\n",
              "    .dataframe thead th {\n",
              "        text-align: right;\n",
              "    }\n",
              "</style>\n",
              "<table border=\"1\" class=\"dataframe\">\n",
              "  <thead>\n",
              "    <tr style=\"text-align: right;\">\n",
              "      <th></th>\n",
              "      <th>Triads</th>\n",
              "    </tr>\n",
              "  </thead>\n",
              "  <tbody>\n",
              "    <tr>\n",
              "      <th>+++</th>\n",
              "      <td>163849</td>\n",
              "    </tr>\n",
              "    <tr>\n",
              "      <th>++-</th>\n",
              "      <td>47615</td>\n",
              "    </tr>\n",
              "    <tr>\n",
              "      <th>+--</th>\n",
              "      <td>17099</td>\n",
              "    </tr>\n",
              "    <tr>\n",
              "      <th>---</th>\n",
              "      <td>2778</td>\n",
              "    </tr>\n",
              "  </tbody>\n",
              "</table>\n",
              "</div>"
            ],
            "text/plain": [
              "     Triads\n",
              "+++  163849\n",
              "++-   47615\n",
              "+--   17099\n",
              "---    2778"
            ]
          },
          "metadata": {
            "tags": []
          },
          "execution_count": 260
        }
      ]
    },
    {
      "cell_type": "code",
      "metadata": {
        "colab": {
          "base_uri": "https://localhost:8080/",
          "height": 173
        },
        "id": "rv1H0W6_L2at",
        "outputId": "f0281b5c-1133-466e-aa7a-0ba434aa4bce"
      },
      "source": [
        "wikipedia_2008_table3"
      ],
      "execution_count": 261,
      "outputs": [
        {
          "output_type": "execute_result",
          "data": {
            "text/html": [
              "<div>\n",
              "<style scoped>\n",
              "    .dataframe tbody tr th:only-of-type {\n",
              "        vertical-align: middle;\n",
              "    }\n",
              "\n",
              "    .dataframe tbody tr th {\n",
              "        vertical-align: top;\n",
              "    }\n",
              "\n",
              "    .dataframe thead th {\n",
              "        text-align: right;\n",
              "    }\n",
              "</style>\n",
              "<table border=\"1\" class=\"dataframe\">\n",
              "  <thead>\n",
              "    <tr style=\"text-align: right;\">\n",
              "      <th></th>\n",
              "      <th>Triads</th>\n",
              "    </tr>\n",
              "  </thead>\n",
              "  <tbody>\n",
              "    <tr>\n",
              "      <th>+++</th>\n",
              "      <td>199</td>\n",
              "    </tr>\n",
              "    <tr>\n",
              "      <th>++-</th>\n",
              "      <td>20</td>\n",
              "    </tr>\n",
              "    <tr>\n",
              "      <th>+--</th>\n",
              "      <td>7</td>\n",
              "    </tr>\n",
              "    <tr>\n",
              "      <th>---</th>\n",
              "      <td>0</td>\n",
              "    </tr>\n",
              "  </tbody>\n",
              "</table>\n",
              "</div>"
            ],
            "text/plain": [
              "     Triads\n",
              "+++     199\n",
              "++-      20\n",
              "+--       7\n",
              "---       0"
            ]
          },
          "metadata": {
            "tags": []
          },
          "execution_count": 261
        }
      ]
    },
    {
      "cell_type": "markdown",
      "metadata": {
        "id": "MFiNpy0cY8_N"
      },
      "source": [
        "\n",
        "Here we are able to see changes in the network structure according to the year, especially concerning the clustering. In fact the year 2008 appears to be more tightly connected than the 2005 and 2007. It is quite important to notice this in the context of votation because it changes the possible consequences of an event at one part of the network on the final output. As population mass manipulation if you are nominated, it is very important to know this in order to assess the impact of your choice of campaign.\n",
        "These results are not aberrant in our connected world, where everyone tends to be more and more connected, even to people away (geographically, socially, culturally).\n",
        "However, these results are not obvious and further computation should be done. Here it is just an highlighting of the possible impact on the structure, to raise conscientiousness about this variable.\n",
        "\n"
      ]
    },
    {
      "cell_type": "markdown",
      "metadata": {
        "id": "_4w1Z03LHOgW"
      },
      "source": [
        "#### Wikipedia - Month "
      ]
    },
    {
      "cell_type": "markdown",
      "metadata": {
        "id": "BrUBz30iZsjc"
      },
      "source": [
        "So now we are considering time trends according to the month. \n"
      ]
    },
    {
      "cell_type": "code",
      "metadata": {
        "id": "P4qQB5nG-zGR"
      },
      "source": [
        "mask_nov = (Wiki_votes['Date'].dt.month == 11)\n",
        "mask_july = (Wiki_votes['Date'].dt.month == 7)\n",
        "mask_june = (Wiki_votes['Date'].dt.month == 6)\n",
        "\n",
        "wikipedia_nov = Wiki_votes.loc[mask_nov]\n",
        "wikipedia_july = Wiki_votes.loc[mask_july]\n",
        "wikipedia_june = Wiki_votes.loc[mask_june]"
      ],
      "execution_count": 218,
      "outputs": []
    },
    {
      "cell_type": "code",
      "metadata": {
        "colab": {
          "base_uri": "https://localhost:8080/",
          "height": 419
        },
        "id": "1Xu2DIPyHtd1",
        "outputId": "3eb14f60-8f97-42d5-9bf4-1894147e4e03"
      },
      "source": [
        "wikipedia_july.head(20000)"
      ],
      "execution_count": 219,
      "outputs": [
        {
          "output_type": "execute_result",
          "data": {
            "text/html": [
              "<div>\n",
              "<style scoped>\n",
              "    .dataframe tbody tr th:only-of-type {\n",
              "        vertical-align: middle;\n",
              "    }\n",
              "\n",
              "    .dataframe tbody tr th {\n",
              "        vertical-align: top;\n",
              "    }\n",
              "\n",
              "    .dataframe thead th {\n",
              "        text-align: right;\n",
              "    }\n",
              "</style>\n",
              "<table border=\"1\" class=\"dataframe\">\n",
              "  <thead>\n",
              "    <tr style=\"text-align: right;\">\n",
              "      <th></th>\n",
              "      <th>FromNodeId</th>\n",
              "      <th>ToNodeId</th>\n",
              "      <th>Sign</th>\n",
              "      <th>Date</th>\n",
              "    </tr>\n",
              "  </thead>\n",
              "  <tbody>\n",
              "    <tr>\n",
              "      <th>2106</th>\n",
              "      <td>453</td>\n",
              "      <td>192</td>\n",
              "      <td>1</td>\n",
              "      <td>2004-07-11 00:23:00</td>\n",
              "    </tr>\n",
              "    <tr>\n",
              "      <th>2107</th>\n",
              "      <td>18</td>\n",
              "      <td>192</td>\n",
              "      <td>-1</td>\n",
              "      <td>2004-07-11 00:37:00</td>\n",
              "    </tr>\n",
              "    <tr>\n",
              "      <th>2108</th>\n",
              "      <td>101</td>\n",
              "      <td>192</td>\n",
              "      <td>-1</td>\n",
              "      <td>2004-07-11 00:38:00</td>\n",
              "    </tr>\n",
              "    <tr>\n",
              "      <th>2109</th>\n",
              "      <td>352</td>\n",
              "      <td>192</td>\n",
              "      <td>-1</td>\n",
              "      <td>2004-07-11 00:43:00</td>\n",
              "    </tr>\n",
              "    <tr>\n",
              "      <th>2110</th>\n",
              "      <td>56</td>\n",
              "      <td>192</td>\n",
              "      <td>1</td>\n",
              "      <td>2004-07-11 00:46:00</td>\n",
              "    </tr>\n",
              "    <tr>\n",
              "      <th>...</th>\n",
              "      <td>...</td>\n",
              "      <td>...</td>\n",
              "      <td>...</td>\n",
              "      <td>...</td>\n",
              "    </tr>\n",
              "    <tr>\n",
              "      <th>90764</th>\n",
              "      <td>1549</td>\n",
              "      <td>5288</td>\n",
              "      <td>1</td>\n",
              "      <td>2007-07-31 22:45:00</td>\n",
              "    </tr>\n",
              "    <tr>\n",
              "      <th>90765</th>\n",
              "      <td>4795</td>\n",
              "      <td>5288</td>\n",
              "      <td>1</td>\n",
              "      <td>2007-07-31 22:53:00</td>\n",
              "    </tr>\n",
              "    <tr>\n",
              "      <th>90766</th>\n",
              "      <td>4455</td>\n",
              "      <td>5288</td>\n",
              "      <td>1</td>\n",
              "      <td>2007-07-31 23:23:00</td>\n",
              "    </tr>\n",
              "    <tr>\n",
              "      <th>90767</th>\n",
              "      <td>737</td>\n",
              "      <td>5288</td>\n",
              "      <td>1</td>\n",
              "      <td>2007-07-31 23:41:00</td>\n",
              "    </tr>\n",
              "    <tr>\n",
              "      <th>90820</th>\n",
              "      <td>7194</td>\n",
              "      <td>7195</td>\n",
              "      <td>-1</td>\n",
              "      <td>2007-07-31 13:56:00</td>\n",
              "    </tr>\n",
              "  </tbody>\n",
              "</table>\n",
              "<p>8572 rows × 4 columns</p>\n",
              "</div>"
            ],
            "text/plain": [
              "      FromNodeId ToNodeId Sign                Date\n",
              "2106         453      192    1 2004-07-11 00:23:00\n",
              "2107          18      192   -1 2004-07-11 00:37:00\n",
              "2108         101      192   -1 2004-07-11 00:38:00\n",
              "2109         352      192   -1 2004-07-11 00:43:00\n",
              "2110          56      192    1 2004-07-11 00:46:00\n",
              "...          ...      ...  ...                 ...\n",
              "90764       1549     5288    1 2007-07-31 22:45:00\n",
              "90765       4795     5288    1 2007-07-31 22:53:00\n",
              "90766       4455     5288    1 2007-07-31 23:23:00\n",
              "90767        737     5288    1 2007-07-31 23:41:00\n",
              "90820       7194     7195   -1 2007-07-31 13:56:00\n",
              "\n",
              "[8572 rows x 4 columns]"
            ]
          },
          "metadata": {
            "tags": []
          },
          "execution_count": 219
        }
      ]
    },
    {
      "cell_type": "code",
      "metadata": {
        "id": "Ge5QbjovH1xL"
      },
      "source": [
        "wikipedia_nov_graph = nx.from_pandas_edgelist(wikipedia_nov,\"FromNodeId\",\"ToNodeId\",edge_attr=\"Sign\",create_using=nx.DiGraph)\n",
        "wikipedia_july_graph = nx.from_pandas_edgelist(wikipedia_july,\"FromNodeId\",\"ToNodeId\",edge_attr=\"Sign\",create_using=nx.DiGraph)\n",
        "wikipedia_june_graph = nx.from_pandas_edgelist(wikipedia_june,\"FromNodeId\",\"ToNodeId\",edge_attr=\"Sign\",create_using=nx.DiGraph)\n",
        "wikipedia_nov_table1,wikipedia_nov_table2,wikipedia_nov_table3 = graph_properties(wikipedia_nov_graph)\n",
        "wikipedia_july_table1,wikipedia_july_table2,wikipedia_july_table3 = graph_properties(wikipedia_july_graph)\n",
        "wikipedia_june_table1,wikipedia_june_table2,wikipedia_june_table3 = graph_properties(wikipedia_june_graph)"
      ],
      "execution_count": 220,
      "outputs": []
    },
    {
      "cell_type": "markdown",
      "metadata": {
        "id": "Ik4SmaRxZyr8"
      },
      "source": [
        "Let’s have a look on the wikipedia dataset. As a reminder, we splitted the data according to 3 ratio neg/pos edges different. The first part is from november and represent the group with low ratio (not a lot of neg edges), the second part is from june and represent the group with middle ratio (quite the same amount of  pos and neg edges) and finally the third one is from july and represent the group with a high ratio (quite a lot  of negative edges). \n",
        "Here are presented the results for centrality parameters. We can see : \n",
        "The average degree value is quite the same for all the 3 months \n",
        "The closeness average value is also quite constant among the 3 months \n",
        "The local clustering coefficient is rising according to the proportion of negative edges. This means that it is small in november, higher in june and even higher in july (which has the biggest ratio). Even if it is hard to do a guess about why do we see a such trend, the arrival of the summer and holidays may have a link with people's activity and thus their amount of connections to each other. In fact a higher local clustering coefficient means that the removal of a given node will have less impact on the ability of communication of influence of its neighbor. It is quite important to notice that during votation process because it means on the other side that during winter (e.g. november), node’s communication/influence are more dependant to each other and thus individual position-taking can have a big consequences, and its nature -an opposite leader or a supporter- may become important.\n",
        "The centrality coefficient is a bit higher in june compared to other ones, but as for the closeness, the difference may not be big enough to allow any conclusions\n"
      ]
    },
    {
      "cell_type": "code",
      "metadata": {
        "colab": {
          "base_uri": "https://localhost:8080/",
          "height": 173
        },
        "id": "M3rWBcCWIZh1",
        "outputId": "d8723c60-e403-402a-9c2b-91831f26e103"
      },
      "source": [
        "wikipedia_nov_table1"
      ],
      "execution_count": 221,
      "outputs": [
        {
          "output_type": "execute_result",
          "data": {
            "text/html": [
              "<div>\n",
              "<style scoped>\n",
              "    .dataframe tbody tr th:only-of-type {\n",
              "        vertical-align: middle;\n",
              "    }\n",
              "\n",
              "    .dataframe tbody tr th {\n",
              "        vertical-align: top;\n",
              "    }\n",
              "\n",
              "    .dataframe thead th {\n",
              "        text-align: right;\n",
              "    }\n",
              "</style>\n",
              "<table border=\"1\" class=\"dataframe\">\n",
              "  <thead>\n",
              "    <tr style=\"text-align: right;\">\n",
              "      <th></th>\n",
              "      <th>Average</th>\n",
              "      <th>Max</th>\n",
              "      <th>Min</th>\n",
              "    </tr>\n",
              "  </thead>\n",
              "  <tbody>\n",
              "    <tr>\n",
              "      <th>Degree</th>\n",
              "      <td>10.051506</td>\n",
              "      <td>189.000000</td>\n",
              "      <td>1.000000</td>\n",
              "    </tr>\n",
              "    <tr>\n",
              "      <th>Closeness</th>\n",
              "      <td>0.016710</td>\n",
              "      <td>0.253044</td>\n",
              "      <td>0.000000</td>\n",
              "    </tr>\n",
              "    <tr>\n",
              "      <th>Local clustering coefficient</th>\n",
              "      <td>0.058889</td>\n",
              "      <td>1.000000</td>\n",
              "      <td>0.000000</td>\n",
              "    </tr>\n",
              "    <tr>\n",
              "      <th>Centrality</th>\n",
              "      <td>0.004886</td>\n",
              "      <td>0.091881</td>\n",
              "      <td>0.000486</td>\n",
              "    </tr>\n",
              "  </tbody>\n",
              "</table>\n",
              "</div>"
            ],
            "text/plain": [
              "                                Average         Max       Min\n",
              "Degree                        10.051506  189.000000  1.000000\n",
              "Closeness                      0.016710    0.253044  0.000000\n",
              "Local clustering coefficient   0.058889    1.000000  0.000000\n",
              "Centrality                     0.004886    0.091881  0.000486"
            ]
          },
          "metadata": {
            "tags": []
          },
          "execution_count": 221
        }
      ]
    },
    {
      "cell_type": "code",
      "metadata": {
        "colab": {
          "base_uri": "https://localhost:8080/",
          "height": 173
        },
        "id": "BIjXin5QIa-B",
        "outputId": "1ab5d84f-aaf6-48ca-ad94-8e1ad6b85ebd"
      },
      "source": [
        "wikipedia_july_table1"
      ],
      "execution_count": 222,
      "outputs": [
        {
          "output_type": "execute_result",
          "data": {
            "text/html": [
              "<div>\n",
              "<style scoped>\n",
              "    .dataframe tbody tr th:only-of-type {\n",
              "        vertical-align: middle;\n",
              "    }\n",
              "\n",
              "    .dataframe tbody tr th {\n",
              "        vertical-align: top;\n",
              "    }\n",
              "\n",
              "    .dataframe thead th {\n",
              "        text-align: right;\n",
              "    }\n",
              "</style>\n",
              "<table border=\"1\" class=\"dataframe\">\n",
              "  <thead>\n",
              "    <tr style=\"text-align: right;\">\n",
              "      <th></th>\n",
              "      <th>Average</th>\n",
              "      <th>Max</th>\n",
              "      <th>Min</th>\n",
              "    </tr>\n",
              "  </thead>\n",
              "  <tbody>\n",
              "    <tr>\n",
              "      <th>Degree</th>\n",
              "      <td>9.592821</td>\n",
              "      <td>244.000000</td>\n",
              "      <td>1.000000</td>\n",
              "    </tr>\n",
              "    <tr>\n",
              "      <th>Closeness</th>\n",
              "      <td>0.021830</td>\n",
              "      <td>0.287275</td>\n",
              "      <td>0.000000</td>\n",
              "    </tr>\n",
              "    <tr>\n",
              "      <th>Local clustering coefficient</th>\n",
              "      <td>0.086298</td>\n",
              "      <td>1.000000</td>\n",
              "      <td>0.000000</td>\n",
              "    </tr>\n",
              "    <tr>\n",
              "      <th>Centrality</th>\n",
              "      <td>0.005383</td>\n",
              "      <td>0.136925</td>\n",
              "      <td>0.000561</td>\n",
              "    </tr>\n",
              "  </tbody>\n",
              "</table>\n",
              "</div>"
            ],
            "text/plain": [
              "                               Average         Max       Min\n",
              "Degree                        9.592821  244.000000  1.000000\n",
              "Closeness                     0.021830    0.287275  0.000000\n",
              "Local clustering coefficient  0.086298    1.000000  0.000000\n",
              "Centrality                    0.005383    0.136925  0.000561"
            ]
          },
          "metadata": {
            "tags": []
          },
          "execution_count": 222
        }
      ]
    },
    {
      "cell_type": "code",
      "metadata": {
        "colab": {
          "base_uri": "https://localhost:8080/",
          "height": 173
        },
        "id": "bkT7LOfHIdN1",
        "outputId": "fe9f94ff-33cf-4846-f232-f95520d4a995"
      },
      "source": [
        "wikipedia_june_table1"
      ],
      "execution_count": 223,
      "outputs": [
        {
          "output_type": "execute_result",
          "data": {
            "text/html": [
              "<div>\n",
              "<style scoped>\n",
              "    .dataframe tbody tr th:only-of-type {\n",
              "        vertical-align: middle;\n",
              "    }\n",
              "\n",
              "    .dataframe tbody tr th {\n",
              "        vertical-align: top;\n",
              "    }\n",
              "\n",
              "    .dataframe thead th {\n",
              "        text-align: right;\n",
              "    }\n",
              "</style>\n",
              "<table border=\"1\" class=\"dataframe\">\n",
              "  <thead>\n",
              "    <tr style=\"text-align: right;\">\n",
              "      <th></th>\n",
              "      <th>Average</th>\n",
              "      <th>Max</th>\n",
              "      <th>Min</th>\n",
              "    </tr>\n",
              "  </thead>\n",
              "  <tbody>\n",
              "    <tr>\n",
              "      <th>Degree</th>\n",
              "      <td>10.283019</td>\n",
              "      <td>186.000000</td>\n",
              "      <td>1.00000</td>\n",
              "    </tr>\n",
              "    <tr>\n",
              "      <th>Closeness</th>\n",
              "      <td>0.018842</td>\n",
              "      <td>0.234398</td>\n",
              "      <td>0.00000</td>\n",
              "    </tr>\n",
              "    <tr>\n",
              "      <th>Local clustering coefficient</th>\n",
              "      <td>0.078658</td>\n",
              "      <td>1.000000</td>\n",
              "      <td>0.00000</td>\n",
              "    </tr>\n",
              "    <tr>\n",
              "      <th>Centrality</th>\n",
              "      <td>0.006067</td>\n",
              "      <td>0.109735</td>\n",
              "      <td>0.00059</td>\n",
              "    </tr>\n",
              "  </tbody>\n",
              "</table>\n",
              "</div>"
            ],
            "text/plain": [
              "                                Average         Max      Min\n",
              "Degree                        10.283019  186.000000  1.00000\n",
              "Closeness                      0.018842    0.234398  0.00000\n",
              "Local clustering coefficient   0.078658    1.000000  0.00000\n",
              "Centrality                     0.006067    0.109735  0.00059"
            ]
          },
          "metadata": {
            "tags": []
          },
          "execution_count": 223
        }
      ]
    },
    {
      "cell_type": "markdown",
      "metadata": {
        "id": "kYBhBlulIiKP"
      },
      "source": [
        "------"
      ]
    },
    {
      "cell_type": "markdown",
      "metadata": {
        "id": "ylaZ3qy_Z3_5"
      },
      "source": [
        "Now let’s have a look at the clustering and behavior parameters"
      ]
    },
    {
      "cell_type": "code",
      "metadata": {
        "colab": {
          "base_uri": "https://localhost:8080/",
          "height": 125
        },
        "id": "Ix4Mm4PaIjvT",
        "outputId": "713823a8-6504-4842-a2a2-72daf5621c80"
      },
      "source": [
        "wikipedia_nov_table2"
      ],
      "execution_count": 224,
      "outputs": [
        {
          "output_type": "execute_result",
          "data": {
            "text/html": [
              "<div>\n",
              "<style scoped>\n",
              "    .dataframe tbody tr th:only-of-type {\n",
              "        vertical-align: middle;\n",
              "    }\n",
              "\n",
              "    .dataframe tbody tr th {\n",
              "        vertical-align: top;\n",
              "    }\n",
              "\n",
              "    .dataframe thead th {\n",
              "        text-align: right;\n",
              "    }\n",
              "</style>\n",
              "<table border=\"1\" class=\"dataframe\">\n",
              "  <thead>\n",
              "    <tr style=\"text-align: right;\">\n",
              "      <th></th>\n",
              "      <th></th>\n",
              "    </tr>\n",
              "  </thead>\n",
              "  <tbody>\n",
              "    <tr>\n",
              "      <th>Global clustering coefficient</th>\n",
              "      <td>0.061379</td>\n",
              "    </tr>\n",
              "    <tr>\n",
              "      <th>Assortativity degree</th>\n",
              "      <td>-0.078402</td>\n",
              "    </tr>\n",
              "    <tr>\n",
              "      <th>Number of triads</th>\n",
              "      <td>12531.000000</td>\n",
              "    </tr>\n",
              "  </tbody>\n",
              "</table>\n",
              "</div>"
            ],
            "text/plain": [
              "                                           \n",
              "Global clustering coefficient      0.061379\n",
              "Assortativity degree              -0.078402\n",
              "Number of triads               12531.000000"
            ]
          },
          "metadata": {
            "tags": []
          },
          "execution_count": 224
        }
      ]
    },
    {
      "cell_type": "code",
      "metadata": {
        "colab": {
          "base_uri": "https://localhost:8080/",
          "height": 125
        },
        "id": "NxYYO_mPIl0s",
        "outputId": "0597474a-9ec4-4706-e4be-c26068df640b"
      },
      "source": [
        "wikipedia_june_table2"
      ],
      "execution_count": 225,
      "outputs": [
        {
          "output_type": "execute_result",
          "data": {
            "text/html": [
              "<div>\n",
              "<style scoped>\n",
              "    .dataframe tbody tr th:only-of-type {\n",
              "        vertical-align: middle;\n",
              "    }\n",
              "\n",
              "    .dataframe tbody tr th {\n",
              "        vertical-align: top;\n",
              "    }\n",
              "\n",
              "    .dataframe thead th {\n",
              "        text-align: right;\n",
              "    }\n",
              "</style>\n",
              "<table border=\"1\" class=\"dataframe\">\n",
              "  <thead>\n",
              "    <tr style=\"text-align: right;\">\n",
              "      <th></th>\n",
              "      <th></th>\n",
              "    </tr>\n",
              "  </thead>\n",
              "  <tbody>\n",
              "    <tr>\n",
              "      <th>Global clustering coefficient</th>\n",
              "      <td>0.093659</td>\n",
              "    </tr>\n",
              "    <tr>\n",
              "      <th>Assortativity degree</th>\n",
              "      <td>-0.059507</td>\n",
              "    </tr>\n",
              "    <tr>\n",
              "      <th>Number of triads</th>\n",
              "      <td>14723.000000</td>\n",
              "    </tr>\n",
              "  </tbody>\n",
              "</table>\n",
              "</div>"
            ],
            "text/plain": [
              "                                           \n",
              "Global clustering coefficient      0.093659\n",
              "Assortativity degree              -0.059507\n",
              "Number of triads               14723.000000"
            ]
          },
          "metadata": {
            "tags": []
          },
          "execution_count": 225
        }
      ]
    },
    {
      "cell_type": "code",
      "metadata": {
        "colab": {
          "base_uri": "https://localhost:8080/",
          "height": 125
        },
        "id": "tMMbJIwGInlR",
        "outputId": "97208218-b93d-4454-8f08-af3a888b8605"
      },
      "source": [
        "wikipedia_july_table2"
      ],
      "execution_count": 226,
      "outputs": [
        {
          "output_type": "execute_result",
          "data": {
            "text/html": [
              "<div>\n",
              "<style scoped>\n",
              "    .dataframe tbody tr th:only-of-type {\n",
              "        vertical-align: middle;\n",
              "    }\n",
              "\n",
              "    .dataframe tbody tr th {\n",
              "        vertical-align: top;\n",
              "    }\n",
              "\n",
              "    .dataframe thead th {\n",
              "        text-align: right;\n",
              "    }\n",
              "</style>\n",
              "<table border=\"1\" class=\"dataframe\">\n",
              "  <thead>\n",
              "    <tr style=\"text-align: right;\">\n",
              "      <th></th>\n",
              "      <th></th>\n",
              "    </tr>\n",
              "  </thead>\n",
              "  <tbody>\n",
              "    <tr>\n",
              "      <th>Global clustering coefficient</th>\n",
              "      <td>0.098919</td>\n",
              "    </tr>\n",
              "    <tr>\n",
              "      <th>Assortativity degree</th>\n",
              "      <td>-0.100510</td>\n",
              "    </tr>\n",
              "    <tr>\n",
              "      <th>Number of triads</th>\n",
              "      <td>14680.000000</td>\n",
              "    </tr>\n",
              "  </tbody>\n",
              "</table>\n",
              "</div>"
            ],
            "text/plain": [
              "                                           \n",
              "Global clustering coefficient      0.098919\n",
              "Assortativity degree              -0.100510\n",
              "Number of triads               14680.000000"
            ]
          },
          "metadata": {
            "tags": []
          },
          "execution_count": 226
        }
      ]
    },
    {
      "cell_type": "markdown",
      "metadata": {
        "id": "T3Axq1psZ9Xa"
      },
      "source": [
        "The global clustering coefficient is higher in summer (june - july) than in winter (november). It means that nodes tend to create more close triangles during summer than winter. As the local clustering coefficient, this trend may be explained by the atmosphere of the summer, and the rise of activating associated. What we can say is that the summer months present a network more connected. \n",
        "The assortativity doesn't have a very clear global trend. We can only say that July is the closest one to zero, which means that it tends to be more non-assortative and November and even more July tend to be more disassortative. It is quite hard to explain these observations. \n"
      ]
    },
    {
      "cell_type": "markdown",
      "metadata": {
        "id": "DdNPD5VUMC-i"
      },
      "source": [
        "------"
      ]
    },
    {
      "cell_type": "markdown",
      "metadata": {
        "id": "A8fDrs6AaBNR"
      },
      "source": [
        "Let’s have a look on the triads type proportions. \n"
      ]
    },
    {
      "cell_type": "code",
      "metadata": {
        "colab": {
          "base_uri": "https://localhost:8080/",
          "height": 173
        },
        "id": "-UPaTy6KMETN",
        "outputId": "54a4f172-5cdb-4f95-f6f6-a6f543f6ad9c"
      },
      "source": [
        "wikipedia_nov_table3"
      ],
      "execution_count": 227,
      "outputs": [
        {
          "output_type": "execute_result",
          "data": {
            "text/html": [
              "<div>\n",
              "<style scoped>\n",
              "    .dataframe tbody tr th:only-of-type {\n",
              "        vertical-align: middle;\n",
              "    }\n",
              "\n",
              "    .dataframe tbody tr th {\n",
              "        vertical-align: top;\n",
              "    }\n",
              "\n",
              "    .dataframe thead th {\n",
              "        text-align: right;\n",
              "    }\n",
              "</style>\n",
              "<table border=\"1\" class=\"dataframe\">\n",
              "  <thead>\n",
              "    <tr style=\"text-align: right;\">\n",
              "      <th></th>\n",
              "      <th>Triads</th>\n",
              "    </tr>\n",
              "  </thead>\n",
              "  <tbody>\n",
              "    <tr>\n",
              "      <th>+++</th>\n",
              "      <td>10032</td>\n",
              "    </tr>\n",
              "    <tr>\n",
              "      <th>++-</th>\n",
              "      <td>1913</td>\n",
              "    </tr>\n",
              "    <tr>\n",
              "      <th>+--</th>\n",
              "      <td>516</td>\n",
              "    </tr>\n",
              "    <tr>\n",
              "      <th>---</th>\n",
              "      <td>70</td>\n",
              "    </tr>\n",
              "  </tbody>\n",
              "</table>\n",
              "</div>"
            ],
            "text/plain": [
              "     Triads\n",
              "+++   10032\n",
              "++-    1913\n",
              "+--     516\n",
              "---      70"
            ]
          },
          "metadata": {
            "tags": []
          },
          "execution_count": 227
        }
      ]
    },
    {
      "cell_type": "code",
      "metadata": {
        "colab": {
          "base_uri": "https://localhost:8080/",
          "height": 173
        },
        "id": "V-Ewmq4oMGuj",
        "outputId": "1e3adfad-5b07-4301-d1fb-39ddfadd53e9"
      },
      "source": [
        "wikipedia_july_table3"
      ],
      "execution_count": 228,
      "outputs": [
        {
          "output_type": "execute_result",
          "data": {
            "text/html": [
              "<div>\n",
              "<style scoped>\n",
              "    .dataframe tbody tr th:only-of-type {\n",
              "        vertical-align: middle;\n",
              "    }\n",
              "\n",
              "    .dataframe tbody tr th {\n",
              "        vertical-align: top;\n",
              "    }\n",
              "\n",
              "    .dataframe thead th {\n",
              "        text-align: right;\n",
              "    }\n",
              "</style>\n",
              "<table border=\"1\" class=\"dataframe\">\n",
              "  <thead>\n",
              "    <tr style=\"text-align: right;\">\n",
              "      <th></th>\n",
              "      <th>Triads</th>\n",
              "    </tr>\n",
              "  </thead>\n",
              "  <tbody>\n",
              "    <tr>\n",
              "      <th>+++</th>\n",
              "      <td>10211</td>\n",
              "    </tr>\n",
              "    <tr>\n",
              "      <th>++-</th>\n",
              "      <td>2870</td>\n",
              "    </tr>\n",
              "    <tr>\n",
              "      <th>+--</th>\n",
              "      <td>1388</td>\n",
              "    </tr>\n",
              "    <tr>\n",
              "      <th>---</th>\n",
              "      <td>211</td>\n",
              "    </tr>\n",
              "  </tbody>\n",
              "</table>\n",
              "</div>"
            ],
            "text/plain": [
              "     Triads\n",
              "+++   10211\n",
              "++-    2870\n",
              "+--    1388\n",
              "---     211"
            ]
          },
          "metadata": {
            "tags": []
          },
          "execution_count": 228
        }
      ]
    },
    {
      "cell_type": "code",
      "metadata": {
        "colab": {
          "base_uri": "https://localhost:8080/",
          "height": 173
        },
        "id": "MVDNy5WwMI3L",
        "outputId": "4ac670a7-69d9-4d11-b13e-b0f0939a388e"
      },
      "source": [
        "wikipedia_june_table3"
      ],
      "execution_count": 229,
      "outputs": [
        {
          "output_type": "execute_result",
          "data": {
            "text/html": [
              "<div>\n",
              "<style scoped>\n",
              "    .dataframe tbody tr th:only-of-type {\n",
              "        vertical-align: middle;\n",
              "    }\n",
              "\n",
              "    .dataframe tbody tr th {\n",
              "        vertical-align: top;\n",
              "    }\n",
              "\n",
              "    .dataframe thead th {\n",
              "        text-align: right;\n",
              "    }\n",
              "</style>\n",
              "<table border=\"1\" class=\"dataframe\">\n",
              "  <thead>\n",
              "    <tr style=\"text-align: right;\">\n",
              "      <th></th>\n",
              "      <th>Triads</th>\n",
              "    </tr>\n",
              "  </thead>\n",
              "  <tbody>\n",
              "    <tr>\n",
              "      <th>+++</th>\n",
              "      <td>11579</td>\n",
              "    </tr>\n",
              "    <tr>\n",
              "      <th>++-</th>\n",
              "      <td>2193</td>\n",
              "    </tr>\n",
              "    <tr>\n",
              "      <th>+--</th>\n",
              "      <td>846</td>\n",
              "    </tr>\n",
              "    <tr>\n",
              "      <th>---</th>\n",
              "      <td>105</td>\n",
              "    </tr>\n",
              "  </tbody>\n",
              "</table>\n",
              "</div>"
            ],
            "text/plain": [
              "     Triads\n",
              "+++   11579\n",
              "++-    2193\n",
              "+--     846\n",
              "---     105"
            ]
          },
          "metadata": {
            "tags": []
          },
          "execution_count": 229
        }
      ]
    },
    {
      "cell_type": "markdown",
      "metadata": {
        "id": "GWibwDuGaH3v"
      },
      "source": [
        "Conclusion\n",
        "It is quite hard to explain all the trends, sometimes quite small or illogical. However these observations and understanding could be important in a votation process because as we have seen that may have an impact on the global structure of the network. With the local clustering coefficient, we have seen that the network tends to be more influenceable in winter than in summer, thus political calculations may take it into account. Also it appears that the summer network tends to be more connected, so with more closed triangles than in winter. Thus people are more connected and as they are influencing each other, the strategy of communication of a candidate may change (could focus on a group of people, because they tend to be more connected than patchy ones in the winter where it would be more difficult to talk to a group). Finally, even if the trend is not very logical, assortativity may give important information on the network structure. November and July seem to be more diss-assortative, thus it means that links between nodes are not very similar. So for a candidate talking to a group, it is important to have conscious of this, an adapt its speech : it would be perhaps more nuanced than if all people were similar, because its aim is to gather as many people as possible, so not to offend/ hurt or shock any part of the listening assembly.\n"
      ]
    },
    {
      "cell_type": "markdown",
      "metadata": {
        "id": "pwpkSTFZKQC7"
      },
      "source": [
        "#### Wikipedia - Day "
      ]
    },
    {
      "cell_type": "code",
      "metadata": {
        "id": "gTaKl2vpKRgm"
      },
      "source": [
        "mask_monday = (Wiki_votes['Date'].dt.weekday == 0)\n",
        "mask_friday = (Wiki_votes['Date'].dt.weekday == 4)\n",
        "\n",
        "wikipedia_monday = Wiki_votes.loc[mask_monday]\n",
        "wikipedia_friday = Wiki_votes.loc[mask_friday]"
      ],
      "execution_count": 230,
      "outputs": []
    },
    {
      "cell_type": "code",
      "metadata": {
        "id": "Z9nJCr7qK4eF"
      },
      "source": [
        "wikipedia_monday_graph = nx.from_pandas_edgelist(wikipedia_monday,\"FromNodeId\",\"ToNodeId\",edge_attr=\"Sign\",create_using=nx.DiGraph)\n",
        "wikipedia_friday_graph = nx.from_pandas_edgelist(wikipedia_friday,\"FromNodeId\",\"ToNodeId\",edge_attr=\"Sign\",create_using=nx.DiGraph)\n",
        "\n",
        "\n",
        "wikipedia_monday_table1,wikipedia_monday_table2,wikipedia_monday_table3 = graph_properties(wikipedia_monday_graph)\n",
        "wikipedia_friday_table1,wikipedia_friday_table2,wikipedia_friday_table3 = graph_properties(wikipedia_friday_graph)"
      ],
      "execution_count": 231,
      "outputs": []
    },
    {
      "cell_type": "markdown",
      "metadata": {
        "id": "q4WEcqbyaOrD"
      },
      "source": [
        "Now we are going to focus on the influence of the weekday on the voting behavior. As a reminder, we have created 2 subgraphs according to the trend observed along the week. We have seen that the ratio neg/pos is becoming more important along the workweek, and that during the week-end, saturday looks like monday and sunday looks like friday. With very basic psychology, one interpretation would be that along the week people are getting more and more tired and are generally fed up. On saturday it is the beginning of the weekend, so people are more happy and then tend to vote less negatively, while on sunday it is the end of the weekend, so people are sad and annoyed by the situation. This try of explanation is based on the idea that people’s mood influences the vote. To be more precise in the analysis of trend’s observations we would need to go further in social analysis/explanation, but we are not competent here. Anyway, this trial of explanation can give an idea. \n",
        "So here we have chosen to build a subgraph from votes on monday, representing the low ratio of the beginning of the week (and saturday, people happy?), and one from friday, representing the end of workweek and sunday (people fed up?). \n",
        "Let’s have a look at the centrality parameters first.\n"
      ]
    },
    {
      "cell_type": "code",
      "metadata": {
        "colab": {
          "base_uri": "https://localhost:8080/",
          "height": 173
        },
        "id": "mJsrgIayLPnb",
        "outputId": "bed15767-00b5-4235-b4eb-0f0190317b77"
      },
      "source": [
        "wikipedia_monday_table1"
      ],
      "execution_count": 232,
      "outputs": [
        {
          "output_type": "execute_result",
          "data": {
            "text/html": [
              "<div>\n",
              "<style scoped>\n",
              "    .dataframe tbody tr th:only-of-type {\n",
              "        vertical-align: middle;\n",
              "    }\n",
              "\n",
              "    .dataframe tbody tr th {\n",
              "        vertical-align: top;\n",
              "    }\n",
              "\n",
              "    .dataframe thead th {\n",
              "        text-align: right;\n",
              "    }\n",
              "</style>\n",
              "<table border=\"1\" class=\"dataframe\">\n",
              "  <thead>\n",
              "    <tr style=\"text-align: right;\">\n",
              "      <th></th>\n",
              "      <th>Average</th>\n",
              "      <th>Max</th>\n",
              "      <th>Min</th>\n",
              "    </tr>\n",
              "  </thead>\n",
              "  <tbody>\n",
              "    <tr>\n",
              "      <th>Degree</th>\n",
              "      <td>8.846087</td>\n",
              "      <td>166.000000</td>\n",
              "      <td>1.000000</td>\n",
              "    </tr>\n",
              "    <tr>\n",
              "      <th>Closeness</th>\n",
              "      <td>0.047316</td>\n",
              "      <td>0.179846</td>\n",
              "      <td>0.000000</td>\n",
              "    </tr>\n",
              "    <tr>\n",
              "      <th>Local clustering coefficient</th>\n",
              "      <td>0.017640</td>\n",
              "      <td>1.000000</td>\n",
              "      <td>0.000000</td>\n",
              "    </tr>\n",
              "    <tr>\n",
              "      <th>Centrality</th>\n",
              "      <td>0.002555</td>\n",
              "      <td>0.047949</td>\n",
              "      <td>0.000289</td>\n",
              "    </tr>\n",
              "  </tbody>\n",
              "</table>\n",
              "</div>"
            ],
            "text/plain": [
              "                               Average         Max       Min\n",
              "Degree                        8.846087  166.000000  1.000000\n",
              "Closeness                     0.047316    0.179846  0.000000\n",
              "Local clustering coefficient  0.017640    1.000000  0.000000\n",
              "Centrality                    0.002555    0.047949  0.000289"
            ]
          },
          "metadata": {
            "tags": []
          },
          "execution_count": 232
        }
      ]
    },
    {
      "cell_type": "code",
      "metadata": {
        "colab": {
          "base_uri": "https://localhost:8080/",
          "height": 173
        },
        "id": "nGTR592BLRNM",
        "outputId": "8ed2e02a-e19a-445d-9c69-312d374d2465"
      },
      "source": [
        "wikipedia_friday_table1"
      ],
      "execution_count": 233,
      "outputs": [
        {
          "output_type": "execute_result",
          "data": {
            "text/html": [
              "<div>\n",
              "<style scoped>\n",
              "    .dataframe tbody tr th:only-of-type {\n",
              "        vertical-align: middle;\n",
              "    }\n",
              "\n",
              "    .dataframe tbody tr th {\n",
              "        vertical-align: top;\n",
              "    }\n",
              "\n",
              "    .dataframe thead th {\n",
              "        text-align: right;\n",
              "    }\n",
              "</style>\n",
              "<table border=\"1\" class=\"dataframe\">\n",
              "  <thead>\n",
              "    <tr style=\"text-align: right;\">\n",
              "      <th></th>\n",
              "      <th>Average</th>\n",
              "      <th>Max</th>\n",
              "      <th>Min</th>\n",
              "    </tr>\n",
              "  </thead>\n",
              "  <tbody>\n",
              "    <tr>\n",
              "      <th>Degree</th>\n",
              "      <td>8.909245</td>\n",
              "      <td>233.000000</td>\n",
              "      <td>1.000000</td>\n",
              "    </tr>\n",
              "    <tr>\n",
              "      <th>Closeness</th>\n",
              "      <td>0.047259</td>\n",
              "      <td>0.197214</td>\n",
              "      <td>0.000000</td>\n",
              "    </tr>\n",
              "    <tr>\n",
              "      <th>Local clustering coefficient</th>\n",
              "      <td>0.019541</td>\n",
              "      <td>0.500000</td>\n",
              "      <td>0.000000</td>\n",
              "    </tr>\n",
              "    <tr>\n",
              "      <th>Centrality</th>\n",
              "      <td>0.002520</td>\n",
              "      <td>0.065894</td>\n",
              "      <td>0.000283</td>\n",
              "    </tr>\n",
              "  </tbody>\n",
              "</table>\n",
              "</div>"
            ],
            "text/plain": [
              "                               Average         Max       Min\n",
              "Degree                        8.909245  233.000000  1.000000\n",
              "Closeness                     0.047259    0.197214  0.000000\n",
              "Local clustering coefficient  0.019541    0.500000  0.000000\n",
              "Centrality                    0.002520    0.065894  0.000283"
            ]
          },
          "metadata": {
            "tags": []
          },
          "execution_count": 233
        }
      ]
    },
    {
      "cell_type": "markdown",
      "metadata": {
        "id": "Y5NJuOBeLUnR"
      },
      "source": [
        "----------"
      ]
    },
    {
      "cell_type": "code",
      "metadata": {
        "colab": {
          "base_uri": "https://localhost:8080/",
          "height": 125
        },
        "id": "icPQtdfDLT9R",
        "outputId": "6eb1b49a-5c23-41f4-e104-0cddbb23f862"
      },
      "source": [
        "wikipedia_monday_table2"
      ],
      "execution_count": 234,
      "outputs": [
        {
          "output_type": "execute_result",
          "data": {
            "text/html": [
              "<div>\n",
              "<style scoped>\n",
              "    .dataframe tbody tr th:only-of-type {\n",
              "        vertical-align: middle;\n",
              "    }\n",
              "\n",
              "    .dataframe tbody tr th {\n",
              "        vertical-align: top;\n",
              "    }\n",
              "\n",
              "    .dataframe thead th {\n",
              "        text-align: right;\n",
              "    }\n",
              "</style>\n",
              "<table border=\"1\" class=\"dataframe\">\n",
              "  <thead>\n",
              "    <tr style=\"text-align: right;\">\n",
              "      <th></th>\n",
              "      <th></th>\n",
              "    </tr>\n",
              "  </thead>\n",
              "  <tbody>\n",
              "    <tr>\n",
              "      <th>Global clustering coefficient</th>\n",
              "      <td>0.017420</td>\n",
              "    </tr>\n",
              "    <tr>\n",
              "      <th>Assortativity degree</th>\n",
              "      <td>-0.015305</td>\n",
              "    </tr>\n",
              "    <tr>\n",
              "      <th>Number of triads</th>\n",
              "      <td>6062.000000</td>\n",
              "    </tr>\n",
              "  </tbody>\n",
              "</table>\n",
              "</div>"
            ],
            "text/plain": [
              "                                          \n",
              "Global clustering coefficient     0.017420\n",
              "Assortativity degree             -0.015305\n",
              "Number of triads               6062.000000"
            ]
          },
          "metadata": {
            "tags": []
          },
          "execution_count": 234
        }
      ]
    },
    {
      "cell_type": "code",
      "metadata": {
        "colab": {
          "base_uri": "https://localhost:8080/",
          "height": 125
        },
        "id": "wOerM9HfLXau",
        "outputId": "05543e0a-1855-415a-bab5-f3790785088c"
      },
      "source": [
        "wikipedia_friday_table2"
      ],
      "execution_count": 235,
      "outputs": [
        {
          "output_type": "execute_result",
          "data": {
            "text/html": [
              "<div>\n",
              "<style scoped>\n",
              "    .dataframe tbody tr th:only-of-type {\n",
              "        vertical-align: middle;\n",
              "    }\n",
              "\n",
              "    .dataframe tbody tr th {\n",
              "        vertical-align: top;\n",
              "    }\n",
              "\n",
              "    .dataframe thead th {\n",
              "        text-align: right;\n",
              "    }\n",
              "</style>\n",
              "<table border=\"1\" class=\"dataframe\">\n",
              "  <thead>\n",
              "    <tr style=\"text-align: right;\">\n",
              "      <th></th>\n",
              "      <th></th>\n",
              "    </tr>\n",
              "  </thead>\n",
              "  <tbody>\n",
              "    <tr>\n",
              "      <th>Global clustering coefficient</th>\n",
              "      <td>0.019813</td>\n",
              "    </tr>\n",
              "    <tr>\n",
              "      <th>Assortativity degree</th>\n",
              "      <td>-0.012944</td>\n",
              "    </tr>\n",
              "    <tr>\n",
              "      <th>Number of triads</th>\n",
              "      <td>7406.000000</td>\n",
              "    </tr>\n",
              "  </tbody>\n",
              "</table>\n",
              "</div>"
            ],
            "text/plain": [
              "                                          \n",
              "Global clustering coefficient     0.019813\n",
              "Assortativity degree             -0.012944\n",
              "Number of triads               7406.000000"
            ]
          },
          "metadata": {
            "tags": []
          },
          "execution_count": 235
        }
      ]
    },
    {
      "cell_type": "markdown",
      "metadata": {
        "id": "jKVf_uK3MPOM"
      },
      "source": [
        "-----"
      ]
    },
    {
      "cell_type": "code",
      "metadata": {
        "colab": {
          "base_uri": "https://localhost:8080/",
          "height": 173
        },
        "id": "JKnuSznFMQ2f",
        "outputId": "13ab04d0-e463-4567-aa8f-400fe7edc977"
      },
      "source": [
        "wikipedia_monday_table3"
      ],
      "execution_count": 236,
      "outputs": [
        {
          "output_type": "execute_result",
          "data": {
            "text/html": [
              "<div>\n",
              "<style scoped>\n",
              "    .dataframe tbody tr th:only-of-type {\n",
              "        vertical-align: middle;\n",
              "    }\n",
              "\n",
              "    .dataframe tbody tr th {\n",
              "        vertical-align: top;\n",
              "    }\n",
              "\n",
              "    .dataframe thead th {\n",
              "        text-align: right;\n",
              "    }\n",
              "</style>\n",
              "<table border=\"1\" class=\"dataframe\">\n",
              "  <thead>\n",
              "    <tr style=\"text-align: right;\">\n",
              "      <th></th>\n",
              "      <th>Triads</th>\n",
              "    </tr>\n",
              "  </thead>\n",
              "  <tbody>\n",
              "    <tr>\n",
              "      <th>+++</th>\n",
              "      <td>4264</td>\n",
              "    </tr>\n",
              "    <tr>\n",
              "      <th>++-</th>\n",
              "      <td>1197</td>\n",
              "    </tr>\n",
              "    <tr>\n",
              "      <th>+--</th>\n",
              "      <td>530</td>\n",
              "    </tr>\n",
              "    <tr>\n",
              "      <th>---</th>\n",
              "      <td>71</td>\n",
              "    </tr>\n",
              "  </tbody>\n",
              "</table>\n",
              "</div>"
            ],
            "text/plain": [
              "     Triads\n",
              "+++    4264\n",
              "++-    1197\n",
              "+--     530\n",
              "---      71"
            ]
          },
          "metadata": {
            "tags": []
          },
          "execution_count": 236
        }
      ]
    },
    {
      "cell_type": "code",
      "metadata": {
        "colab": {
          "base_uri": "https://localhost:8080/",
          "height": 173
        },
        "id": "hJpyZx_6MSbC",
        "outputId": "4c46bcdb-fc61-441f-fba7-a7cf174787be"
      },
      "source": [
        "wikipedia_friday_table3"
      ],
      "execution_count": 237,
      "outputs": [
        {
          "output_type": "execute_result",
          "data": {
            "text/html": [
              "<div>\n",
              "<style scoped>\n",
              "    .dataframe tbody tr th:only-of-type {\n",
              "        vertical-align: middle;\n",
              "    }\n",
              "\n",
              "    .dataframe tbody tr th {\n",
              "        vertical-align: top;\n",
              "    }\n",
              "\n",
              "    .dataframe thead th {\n",
              "        text-align: right;\n",
              "    }\n",
              "</style>\n",
              "<table border=\"1\" class=\"dataframe\">\n",
              "  <thead>\n",
              "    <tr style=\"text-align: right;\">\n",
              "      <th></th>\n",
              "      <th>Triads</th>\n",
              "    </tr>\n",
              "  </thead>\n",
              "  <tbody>\n",
              "    <tr>\n",
              "      <th>+++</th>\n",
              "      <td>5203</td>\n",
              "    </tr>\n",
              "    <tr>\n",
              "      <th>++-</th>\n",
              "      <td>1375</td>\n",
              "    </tr>\n",
              "    <tr>\n",
              "      <th>+--</th>\n",
              "      <td>696</td>\n",
              "    </tr>\n",
              "    <tr>\n",
              "      <th>---</th>\n",
              "      <td>132</td>\n",
              "    </tr>\n",
              "  </tbody>\n",
              "</table>\n",
              "</div>"
            ],
            "text/plain": [
              "     Triads\n",
              "+++    5203\n",
              "++-    1375\n",
              "+--     696\n",
              "---     132"
            ]
          },
          "metadata": {
            "tags": []
          },
          "execution_count": 237
        }
      ]
    },
    {
      "cell_type": "markdown",
      "metadata": {
        "id": "9IHEMWxYLwxc"
      },
      "source": [
        "#### Wikipedia - Hour"
      ]
    },
    {
      "cell_type": "markdown",
      "metadata": {
        "id": "uD34bcRdaUC3"
      },
      "source": [
        "Now we focus on the hour of the day. After plotting the ratio of neg/pos edges according to the hour of the day, we were able to identify 2 groups. We have drawn a first subgraph from 10h, representing the group with low ratio, and a second one from 6h representative from the high ratio. As we were able to see on the graph of the ratio, lower one corresponds to the mid-day period, while higher one corresponds to the afternoon/night and morning period. One could understand it during the lunch break, people tend to be more happy and thus vote less negatively. Of course it is only an hypothesis, but it can give an idea. \n",
        "Let’s have a look at the centrality parameters. \n"
      ]
    },
    {
      "cell_type": "code",
      "metadata": {
        "id": "bgzMz4APm4Fm"
      },
      "source": [
        "mask_10h = (Wiki_votes['Date'].dt.hour == 10)\n",
        "mask_6h = (Wiki_votes['Date'].dt.hour == 6)\n",
        "\n",
        "wikipedia_10h = Wiki_votes.loc[mask_10h]\n",
        "wikipedia_6h = Wiki_votes.loc[mask_6h]"
      ],
      "execution_count": 238,
      "outputs": []
    },
    {
      "cell_type": "code",
      "metadata": {
        "colab": {
          "base_uri": "https://localhost:8080/",
          "height": 204
        },
        "id": "uNW8dzywMhV8",
        "outputId": "20ce1c43-8721-44d7-da94-fa1bbeca4aa8"
      },
      "source": [
        "wikipedia_6h.head()"
      ],
      "execution_count": 239,
      "outputs": [
        {
          "output_type": "execute_result",
          "data": {
            "text/html": [
              "<div>\n",
              "<style scoped>\n",
              "    .dataframe tbody tr th:only-of-type {\n",
              "        vertical-align: middle;\n",
              "    }\n",
              "\n",
              "    .dataframe tbody tr th {\n",
              "        vertical-align: top;\n",
              "    }\n",
              "\n",
              "    .dataframe thead th {\n",
              "        text-align: right;\n",
              "    }\n",
              "</style>\n",
              "<table border=\"1\" class=\"dataframe\">\n",
              "  <thead>\n",
              "    <tr style=\"text-align: right;\">\n",
              "      <th></th>\n",
              "      <th>FromNodeId</th>\n",
              "      <th>ToNodeId</th>\n",
              "      <th>Sign</th>\n",
              "      <th>Date</th>\n",
              "    </tr>\n",
              "  </thead>\n",
              "  <tbody>\n",
              "    <tr>\n",
              "      <th>10</th>\n",
              "      <td>12</td>\n",
              "      <td>30</td>\n",
              "      <td>1</td>\n",
              "      <td>2004-09-15 06:56:00</td>\n",
              "    </tr>\n",
              "    <tr>\n",
              "      <th>68</th>\n",
              "      <td>11</td>\n",
              "      <td>61</td>\n",
              "      <td>1</td>\n",
              "      <td>2004-09-12 06:21:00</td>\n",
              "    </tr>\n",
              "    <tr>\n",
              "      <th>84</th>\n",
              "      <td>27</td>\n",
              "      <td>6</td>\n",
              "      <td>1</td>\n",
              "      <td>2004-09-11 06:13:00</td>\n",
              "    </tr>\n",
              "    <tr>\n",
              "      <th>85</th>\n",
              "      <td>11</td>\n",
              "      <td>6</td>\n",
              "      <td>1</td>\n",
              "      <td>2004-09-11 06:50:00</td>\n",
              "    </tr>\n",
              "    <tr>\n",
              "      <th>128</th>\n",
              "      <td>12</td>\n",
              "      <td>8</td>\n",
              "      <td>-1</td>\n",
              "      <td>2004-09-15 06:38:00</td>\n",
              "    </tr>\n",
              "  </tbody>\n",
              "</table>\n",
              "</div>"
            ],
            "text/plain": [
              "    FromNodeId ToNodeId Sign                Date\n",
              "10          12       30    1 2004-09-15 06:56:00\n",
              "68          11       61    1 2004-09-12 06:21:00\n",
              "84          27        6    1 2004-09-11 06:13:00\n",
              "85          11        6    1 2004-09-11 06:50:00\n",
              "128         12        8   -1 2004-09-15 06:38:00"
            ]
          },
          "metadata": {
            "tags": []
          },
          "execution_count": 239
        }
      ]
    },
    {
      "cell_type": "code",
      "metadata": {
        "colab": {
          "base_uri": "https://localhost:8080/",
          "height": 204
        },
        "id": "oiKTPtdzMjCC",
        "outputId": "580f071f-070c-48f8-a293-e631fb5e5737"
      },
      "source": [
        "wikipedia_10h.head()"
      ],
      "execution_count": 240,
      "outputs": [
        {
          "output_type": "execute_result",
          "data": {
            "text/html": [
              "<div>\n",
              "<style scoped>\n",
              "    .dataframe tbody tr th:only-of-type {\n",
              "        vertical-align: middle;\n",
              "    }\n",
              "\n",
              "    .dataframe tbody tr th {\n",
              "        vertical-align: top;\n",
              "    }\n",
              "\n",
              "    .dataframe thead th {\n",
              "        text-align: right;\n",
              "    }\n",
              "</style>\n",
              "<table border=\"1\" class=\"dataframe\">\n",
              "  <thead>\n",
              "    <tr style=\"text-align: right;\">\n",
              "      <th></th>\n",
              "      <th>FromNodeId</th>\n",
              "      <th>ToNodeId</th>\n",
              "      <th>Sign</th>\n",
              "      <th>Date</th>\n",
              "    </tr>\n",
              "  </thead>\n",
              "  <tbody>\n",
              "    <tr>\n",
              "      <th>50</th>\n",
              "      <td>47</td>\n",
              "      <td>54</td>\n",
              "      <td>1</td>\n",
              "      <td>2004-09-16 10:28:00</td>\n",
              "    </tr>\n",
              "    <tr>\n",
              "      <th>51</th>\n",
              "      <td>48</td>\n",
              "      <td>54</td>\n",
              "      <td>1</td>\n",
              "      <td>2004-09-16 10:39:00</td>\n",
              "    </tr>\n",
              "    <tr>\n",
              "      <th>55</th>\n",
              "      <td>50</td>\n",
              "      <td>54</td>\n",
              "      <td>1</td>\n",
              "      <td>2004-09-17 10:47:00</td>\n",
              "    </tr>\n",
              "    <tr>\n",
              "      <th>75</th>\n",
              "      <td>14</td>\n",
              "      <td>61</td>\n",
              "      <td>1</td>\n",
              "      <td>2004-09-13 10:22:00</td>\n",
              "    </tr>\n",
              "    <tr>\n",
              "      <th>137</th>\n",
              "      <td>45</td>\n",
              "      <td>8</td>\n",
              "      <td>-1</td>\n",
              "      <td>2004-09-16 10:08:00</td>\n",
              "    </tr>\n",
              "  </tbody>\n",
              "</table>\n",
              "</div>"
            ],
            "text/plain": [
              "    FromNodeId ToNodeId Sign                Date\n",
              "50          47       54    1 2004-09-16 10:28:00\n",
              "51          48       54    1 2004-09-16 10:39:00\n",
              "55          50       54    1 2004-09-17 10:47:00\n",
              "75          14       61    1 2004-09-13 10:22:00\n",
              "137         45        8   -1 2004-09-16 10:08:00"
            ]
          },
          "metadata": {
            "tags": []
          },
          "execution_count": 240
        }
      ]
    },
    {
      "cell_type": "code",
      "metadata": {
        "id": "QIvp2XJ3L0Px"
      },
      "source": [
        "wikipedia_10h_graph = nx.from_pandas_edgelist(wikipedia_10h,\"FromNodeId\",\"ToNodeId\",edge_attr=\"Sign\",create_using=nx.DiGraph)\n",
        "wikipedia_6h_graph = nx.from_pandas_edgelist(wikipedia_6h,\"FromNodeId\",\"ToNodeId\",edge_attr=\"Sign\",create_using=nx.DiGraph)\n",
        "\n",
        "\n",
        "wikipedia_10h_table1,wikipedia_10h_table2,wikipedia_10h_table3 = graph_properties(wikipedia_10h_graph)\n",
        "wikipedia_6h_table1,wikipedia_6h_table2,wikipedia_6h_table3 = graph_properties(wikipedia_6h_graph)"
      ],
      "execution_count": 241,
      "outputs": []
    },
    {
      "cell_type": "code",
      "metadata": {
        "colab": {
          "base_uri": "https://localhost:8080/",
          "height": 173
        },
        "id": "R_bh8AHJN6SN",
        "outputId": "34cb67ac-6e14-4fd8-85ea-9f9215ac6c2f"
      },
      "source": [
        "wikipedia_10h_table1"
      ],
      "execution_count": 242,
      "outputs": [
        {
          "output_type": "execute_result",
          "data": {
            "text/html": [
              "<div>\n",
              "<style scoped>\n",
              "    .dataframe tbody tr th:only-of-type {\n",
              "        vertical-align: middle;\n",
              "    }\n",
              "\n",
              "    .dataframe tbody tr th {\n",
              "        vertical-align: top;\n",
              "    }\n",
              "\n",
              "    .dataframe thead th {\n",
              "        text-align: right;\n",
              "    }\n",
              "</style>\n",
              "<table border=\"1\" class=\"dataframe\">\n",
              "  <thead>\n",
              "    <tr style=\"text-align: right;\">\n",
              "      <th></th>\n",
              "      <th>Average</th>\n",
              "      <th>Max</th>\n",
              "      <th>Min</th>\n",
              "    </tr>\n",
              "  </thead>\n",
              "  <tbody>\n",
              "    <tr>\n",
              "      <th>Degree</th>\n",
              "      <td>3.057558</td>\n",
              "      <td>82.000000</td>\n",
              "      <td>1.000000</td>\n",
              "    </tr>\n",
              "    <tr>\n",
              "      <th>Closeness</th>\n",
              "      <td>0.002978</td>\n",
              "      <td>0.027898</td>\n",
              "      <td>0.000000</td>\n",
              "    </tr>\n",
              "    <tr>\n",
              "      <th>Local clustering coefficient</th>\n",
              "      <td>0.005650</td>\n",
              "      <td>0.500000</td>\n",
              "      <td>0.000000</td>\n",
              "    </tr>\n",
              "    <tr>\n",
              "      <th>Centrality</th>\n",
              "      <td>0.001646</td>\n",
              "      <td>0.044133</td>\n",
              "      <td>0.000538</td>\n",
              "    </tr>\n",
              "  </tbody>\n",
              "</table>\n",
              "</div>"
            ],
            "text/plain": [
              "                               Average        Max       Min\n",
              "Degree                        3.057558  82.000000  1.000000\n",
              "Closeness                     0.002978   0.027898  0.000000\n",
              "Local clustering coefficient  0.005650   0.500000  0.000000\n",
              "Centrality                    0.001646   0.044133  0.000538"
            ]
          },
          "metadata": {
            "tags": []
          },
          "execution_count": 242
        }
      ]
    },
    {
      "cell_type": "code",
      "metadata": {
        "colab": {
          "base_uri": "https://localhost:8080/",
          "height": 173
        },
        "id": "_YbnZ9BEN7XA",
        "outputId": "307158e4-b445-49e4-b2ea-3aafdcd1c1f3"
      },
      "source": [
        "wikipedia_6h_table1"
      ],
      "execution_count": 243,
      "outputs": [
        {
          "output_type": "execute_result",
          "data": {
            "text/html": [
              "<div>\n",
              "<style scoped>\n",
              "    .dataframe tbody tr th:only-of-type {\n",
              "        vertical-align: middle;\n",
              "    }\n",
              "\n",
              "    .dataframe tbody tr th {\n",
              "        vertical-align: top;\n",
              "    }\n",
              "\n",
              "    .dataframe thead th {\n",
              "        text-align: right;\n",
              "    }\n",
              "</style>\n",
              "<table border=\"1\" class=\"dataframe\">\n",
              "  <thead>\n",
              "    <tr style=\"text-align: right;\">\n",
              "      <th></th>\n",
              "      <th>Average</th>\n",
              "      <th>Max</th>\n",
              "      <th>Min</th>\n",
              "    </tr>\n",
              "  </thead>\n",
              "  <tbody>\n",
              "    <tr>\n",
              "      <th>Degree</th>\n",
              "      <td>3.427887</td>\n",
              "      <td>63.000000</td>\n",
              "      <td>1.000000</td>\n",
              "    </tr>\n",
              "    <tr>\n",
              "      <th>Closeness</th>\n",
              "      <td>0.005022</td>\n",
              "      <td>0.036394</td>\n",
              "      <td>0.000000</td>\n",
              "    </tr>\n",
              "    <tr>\n",
              "      <th>Local clustering coefficient</th>\n",
              "      <td>0.004731</td>\n",
              "      <td>0.500000</td>\n",
              "      <td>0.000000</td>\n",
              "    </tr>\n",
              "    <tr>\n",
              "      <th>Centrality</th>\n",
              "      <td>0.001643</td>\n",
              "      <td>0.030201</td>\n",
              "      <td>0.000479</td>\n",
              "    </tr>\n",
              "  </tbody>\n",
              "</table>\n",
              "</div>"
            ],
            "text/plain": [
              "                               Average        Max       Min\n",
              "Degree                        3.427887  63.000000  1.000000\n",
              "Closeness                     0.005022   0.036394  0.000000\n",
              "Local clustering coefficient  0.004731   0.500000  0.000000\n",
              "Centrality                    0.001643   0.030201  0.000479"
            ]
          },
          "metadata": {
            "tags": []
          },
          "execution_count": 243
        }
      ]
    },
    {
      "cell_type": "markdown",
      "metadata": {
        "id": "zie6zFYOacAK"
      },
      "source": [
        "we can see : \n",
        "The degree average looks the same for both 10h and 6h. However the range of possible values is bigger at 10h than at 6h, but as it is deeply linked with the size of the sample, we have to be careful on these observations. \n",
        "The closeness is small for both, but higher at 6h then at 10h so the network in the morning/afternoon may be more edge-sensitize (affected quickly for an event on another part of the network) than at mid-day\n",
        "The local clustering coefficient is also very similar, the small difference doesn’t allow use to draw any conclusions\n",
        "The centrality is also very similar\n",
        "For now we can say that both subgraphs are quite similar according to centrality parameters. Let’s have a look at behavior and clustering ones. \n"
      ]
    },
    {
      "cell_type": "markdown",
      "metadata": {
        "id": "--otcw5gN-Mk"
      },
      "source": [
        "------"
      ]
    },
    {
      "cell_type": "code",
      "metadata": {
        "colab": {
          "base_uri": "https://localhost:8080/",
          "height": 125
        },
        "id": "eIXncdR3N_SY",
        "outputId": "d4198b4a-2e8b-4fe2-cfaf-2f9350d36d32"
      },
      "source": [
        "wikipedia_10h_table2"
      ],
      "execution_count": 244,
      "outputs": [
        {
          "output_type": "execute_result",
          "data": {
            "text/html": [
              "<div>\n",
              "<style scoped>\n",
              "    .dataframe tbody tr th:only-of-type {\n",
              "        vertical-align: middle;\n",
              "    }\n",
              "\n",
              "    .dataframe tbody tr th {\n",
              "        vertical-align: top;\n",
              "    }\n",
              "\n",
              "    .dataframe thead th {\n",
              "        text-align: right;\n",
              "    }\n",
              "</style>\n",
              "<table border=\"1\" class=\"dataframe\">\n",
              "  <thead>\n",
              "    <tr style=\"text-align: right;\">\n",
              "      <th></th>\n",
              "      <th></th>\n",
              "    </tr>\n",
              "  </thead>\n",
              "  <tbody>\n",
              "    <tr>\n",
              "      <th>Global clustering coefficient</th>\n",
              "      <td>0.002137</td>\n",
              "    </tr>\n",
              "    <tr>\n",
              "      <th>Assortativity degree</th>\n",
              "      <td>-0.099332</td>\n",
              "    </tr>\n",
              "    <tr>\n",
              "      <th>Number of triads</th>\n",
              "      <td>66.000000</td>\n",
              "    </tr>\n",
              "  </tbody>\n",
              "</table>\n",
              "</div>"
            ],
            "text/plain": [
              "                                        \n",
              "Global clustering coefficient   0.002137\n",
              "Assortativity degree           -0.099332\n",
              "Number of triads               66.000000"
            ]
          },
          "metadata": {
            "tags": []
          },
          "execution_count": 244
        }
      ]
    },
    {
      "cell_type": "code",
      "metadata": {
        "colab": {
          "base_uri": "https://localhost:8080/",
          "height": 125
        },
        "id": "Pm9l0hSJOBR8",
        "outputId": "98fca612-d227-42a5-deda-93e3be2934ce"
      },
      "source": [
        "wikipedia_6h_table2"
      ],
      "execution_count": 245,
      "outputs": [
        {
          "output_type": "execute_result",
          "data": {
            "text/html": [
              "<div>\n",
              "<style scoped>\n",
              "    .dataframe tbody tr th:only-of-type {\n",
              "        vertical-align: middle;\n",
              "    }\n",
              "\n",
              "    .dataframe tbody tr th {\n",
              "        vertical-align: top;\n",
              "    }\n",
              "\n",
              "    .dataframe thead th {\n",
              "        text-align: right;\n",
              "    }\n",
              "</style>\n",
              "<table border=\"1\" class=\"dataframe\">\n",
              "  <thead>\n",
              "    <tr style=\"text-align: right;\">\n",
              "      <th></th>\n",
              "      <th></th>\n",
              "    </tr>\n",
              "  </thead>\n",
              "  <tbody>\n",
              "    <tr>\n",
              "      <th>Global clustering coefficient</th>\n",
              "      <td>0.002967</td>\n",
              "    </tr>\n",
              "    <tr>\n",
              "      <th>Assortativity degree</th>\n",
              "      <td>-0.088337</td>\n",
              "    </tr>\n",
              "    <tr>\n",
              "      <th>Number of triads</th>\n",
              "      <td>98.000000</td>\n",
              "    </tr>\n",
              "  </tbody>\n",
              "</table>\n",
              "</div>"
            ],
            "text/plain": [
              "                                        \n",
              "Global clustering coefficient   0.002967\n",
              "Assortativity degree           -0.088337\n",
              "Number of triads               98.000000"
            ]
          },
          "metadata": {
            "tags": []
          },
          "execution_count": 245
        }
      ]
    },
    {
      "cell_type": "markdown",
      "metadata": {
        "id": "A1Vmfo86agcQ"
      },
      "source": [
        "Behavior and clustering parameters. We can see : \n",
        "Both global clustering and assortativity values are really similar for 6 and 10h. There is a slight increase in global clustering coefficient for 6h and a small diminution of assortativity degree. That may mean that the nodes are less aggregated to similar ones and that they tend to form more triangles. Thus the network at 6h would be more connected, and with more heterogeneous groups than at 10h. \n",
        "However these differences are so small that we would need further analysis to be able to assess this conclusion. Here it is just to raise curiosity about this trend, and there is a cue that something could be impacted.\n"
      ]
    },
    {
      "cell_type": "markdown",
      "metadata": {
        "id": "SVTnPl03Mccf"
      },
      "source": [
        "-----"
      ]
    },
    {
      "cell_type": "code",
      "metadata": {
        "colab": {
          "base_uri": "https://localhost:8080/",
          "height": 173
        },
        "id": "c5inVbaTMeMM",
        "outputId": "d3e41309-16cb-4b20-8253-935aade9fb55"
      },
      "source": [
        "wikipedia_10h_table3"
      ],
      "execution_count": 246,
      "outputs": [
        {
          "output_type": "execute_result",
          "data": {
            "text/html": [
              "<div>\n",
              "<style scoped>\n",
              "    .dataframe tbody tr th:only-of-type {\n",
              "        vertical-align: middle;\n",
              "    }\n",
              "\n",
              "    .dataframe tbody tr th {\n",
              "        vertical-align: top;\n",
              "    }\n",
              "\n",
              "    .dataframe thead th {\n",
              "        text-align: right;\n",
              "    }\n",
              "</style>\n",
              "<table border=\"1\" class=\"dataframe\">\n",
              "  <thead>\n",
              "    <tr style=\"text-align: right;\">\n",
              "      <th></th>\n",
              "      <th>Triads</th>\n",
              "    </tr>\n",
              "  </thead>\n",
              "  <tbody>\n",
              "    <tr>\n",
              "      <th>+++</th>\n",
              "      <td>38</td>\n",
              "    </tr>\n",
              "    <tr>\n",
              "      <th>++-</th>\n",
              "      <td>18</td>\n",
              "    </tr>\n",
              "    <tr>\n",
              "      <th>+--</th>\n",
              "      <td>9</td>\n",
              "    </tr>\n",
              "    <tr>\n",
              "      <th>---</th>\n",
              "      <td>1</td>\n",
              "    </tr>\n",
              "  </tbody>\n",
              "</table>\n",
              "</div>"
            ],
            "text/plain": [
              "     Triads\n",
              "+++      38\n",
              "++-      18\n",
              "+--       9\n",
              "---       1"
            ]
          },
          "metadata": {
            "tags": []
          },
          "execution_count": 246
        }
      ]
    },
    {
      "cell_type": "code",
      "metadata": {
        "colab": {
          "base_uri": "https://localhost:8080/",
          "height": 173
        },
        "id": "0N06to0uMfla",
        "outputId": "6e89941e-9ea7-461e-ea96-617c29868f80"
      },
      "source": [
        "wikipedia_6h_table3"
      ],
      "execution_count": 247,
      "outputs": [
        {
          "output_type": "execute_result",
          "data": {
            "text/html": [
              "<div>\n",
              "<style scoped>\n",
              "    .dataframe tbody tr th:only-of-type {\n",
              "        vertical-align: middle;\n",
              "    }\n",
              "\n",
              "    .dataframe tbody tr th {\n",
              "        vertical-align: top;\n",
              "    }\n",
              "\n",
              "    .dataframe thead th {\n",
              "        text-align: right;\n",
              "    }\n",
              "</style>\n",
              "<table border=\"1\" class=\"dataframe\">\n",
              "  <thead>\n",
              "    <tr style=\"text-align: right;\">\n",
              "      <th></th>\n",
              "      <th>Triads</th>\n",
              "    </tr>\n",
              "  </thead>\n",
              "  <tbody>\n",
              "    <tr>\n",
              "      <th>+++</th>\n",
              "      <td>60</td>\n",
              "    </tr>\n",
              "    <tr>\n",
              "      <th>++-</th>\n",
              "      <td>27</td>\n",
              "    </tr>\n",
              "    <tr>\n",
              "      <th>+--</th>\n",
              "      <td>9</td>\n",
              "    </tr>\n",
              "    <tr>\n",
              "      <th>---</th>\n",
              "      <td>2</td>\n",
              "    </tr>\n",
              "  </tbody>\n",
              "</table>\n",
              "</div>"
            ],
            "text/plain": [
              "     Triads\n",
              "+++      60\n",
              "++-      27\n",
              "+--       9\n",
              "---       2"
            ]
          },
          "metadata": {
            "tags": []
          },
          "execution_count": 247
        }
      ]
    },
    {
      "cell_type": "markdown",
      "metadata": {
        "id": "x32n6nVxanog"
      },
      "source": [
        "Conclusion : \n",
        "So here we have analysed the possible impact of the hour on the voting network structure of wikipedia. As we were able to see comparing the different parameters between the 6h and 10h subgraphs, the differences are very very small and don’t allow us to draw sure conclusions. We could say that hour of the day may not influence the network structure that much and thus doesn’t need to be taken into account in network structure analysis. \n",
        "We had to do this analysis to carefully say this. However, further analysis is needed to properly exclude this variable from the group of network structure influencing ones.\n"
      ]
    },
    {
      "cell_type": "markdown",
      "metadata": {
        "id": "d2m4Mx-ihIz8"
      },
      "source": [
        "#5) Weights \n"
      ]
    },
    {
      "cell_type": "code",
      "metadata": {
        "id": "4-Dib6W3hNvS"
      },
      "source": [
        "sentiment = data_body['PROPERTIES'].apply(lambda x: x.split(','))\n",
        "data_body['Sentiment'] = sentiment.apply(lambda x: float(x[20]))"
      ],
      "execution_count": 264,
      "outputs": []
    },
    {
      "cell_type": "code",
      "metadata": {
        "id": "wgaohD4PiJ9z"
      },
      "source": [
        "negtive_sentiment = (data_body['Sentiment'] < 0)\n",
        "positive_sentiment = (data_body['Sentiment'] >= 0)\n",
        "\n",
        "data_body_neg_sentiment = data_body.loc[negtive_sentiment]\n",
        "data_body_pos_sentiment = data_body.loc[positive_sentiment]"
      ],
      "execution_count": 265,
      "outputs": []
    },
    {
      "cell_type": "code",
      "metadata": {
        "colab": {
          "base_uri": "https://localhost:8080/",
          "height": 609
        },
        "id": "Yflzu1rbi5_Z",
        "outputId": "c458adc0-0c93-42d5-8dfc-cdcb08ce7054"
      },
      "source": [
        "data_body_neg_sentiment"
      ],
      "execution_count": 266,
      "outputs": [
        {
          "output_type": "execute_result",
          "data": {
            "text/html": [
              "<div>\n",
              "<style scoped>\n",
              "    .dataframe tbody tr th:only-of-type {\n",
              "        vertical-align: middle;\n",
              "    }\n",
              "\n",
              "    .dataframe tbody tr th {\n",
              "        vertical-align: top;\n",
              "    }\n",
              "\n",
              "    .dataframe thead th {\n",
              "        text-align: right;\n",
              "    }\n",
              "</style>\n",
              "<table border=\"1\" class=\"dataframe\">\n",
              "  <thead>\n",
              "    <tr style=\"text-align: right;\">\n",
              "      <th></th>\n",
              "      <th>SOURCE_SUBREDDIT</th>\n",
              "      <th>TARGET_SUBREDDIT</th>\n",
              "      <th>POST_ID</th>\n",
              "      <th>TIMESTAMP</th>\n",
              "      <th>Sign</th>\n",
              "      <th>PROPERTIES</th>\n",
              "      <th>Sentiment</th>\n",
              "    </tr>\n",
              "  </thead>\n",
              "  <tbody>\n",
              "    <tr>\n",
              "      <th>13</th>\n",
              "      <td>suicidewatch</td>\n",
              "      <td>offmychest</td>\n",
              "      <td>1u5k33s</td>\n",
              "      <td>2014-01-01 03:01:53</td>\n",
              "      <td>1</td>\n",
              "      <td>183.0,162.0,0.75956284153,0.0109289617486,0.03...</td>\n",
              "      <td>-0.5008</td>\n",
              "    </tr>\n",
              "    <tr>\n",
              "      <th>19</th>\n",
              "      <td>tribes</td>\n",
              "      <td>games</td>\n",
              "      <td>1u5syks</td>\n",
              "      <td>2014-01-01 09:06:30</td>\n",
              "      <td>1</td>\n",
              "      <td>1316.0,1108.0,0.788753799392,0.00303951367781,...</td>\n",
              "      <td>-0.8319</td>\n",
              "    </tr>\n",
              "    <tr>\n",
              "      <th>23</th>\n",
              "      <td>corejerk</td>\n",
              "      <td>bestof2013</td>\n",
              "      <td>1u5w42s</td>\n",
              "      <td>2014-01-01 04:58:04</td>\n",
              "      <td>1</td>\n",
              "      <td>2735.0,2451.0,0.722120658135,0.0197440585009,0...</td>\n",
              "      <td>-0.2869</td>\n",
              "    </tr>\n",
              "    <tr>\n",
              "      <th>26</th>\n",
              "      <td>thedoctorstravels</td>\n",
              "      <td>hungergamesrp</td>\n",
              "      <td>1u638cs</td>\n",
              "      <td>2014-01-01 10:08:48</td>\n",
              "      <td>1</td>\n",
              "      <td>201.0,181.0,0.766169154229,0.0149253731343,0.0...</td>\n",
              "      <td>-0.1685</td>\n",
              "    </tr>\n",
              "    <tr>\n",
              "      <th>37</th>\n",
              "      <td>civcraft</td>\n",
              "      <td>leningrad</td>\n",
              "      <td>1u6iw5s</td>\n",
              "      <td>2014-01-01 14:01:28</td>\n",
              "      <td>1</td>\n",
              "      <td>1096.0,930.0,0.797445255474,0.00547445255474,0...</td>\n",
              "      <td>-0.9652</td>\n",
              "    </tr>\n",
              "    <tr>\n",
              "      <th>...</th>\n",
              "      <td>...</td>\n",
              "      <td>...</td>\n",
              "      <td>...</td>\n",
              "      <td>...</td>\n",
              "      <td>...</td>\n",
              "      <td>...</td>\n",
              "      <td>...</td>\n",
              "    </tr>\n",
              "    <tr>\n",
              "      <th>286554</th>\n",
              "      <td>subredditdrama</td>\n",
              "      <td>funny</td>\n",
              "      <td>68iigy</td>\n",
              "      <td>2017-04-30 16:05:45</td>\n",
              "      <td>-1</td>\n",
              "      <td>345.0,305.0,0.747826086957,0.0173913043478,0.0...</td>\n",
              "      <td>-0.6705</td>\n",
              "    </tr>\n",
              "    <tr>\n",
              "      <th>286555</th>\n",
              "      <td>negareddit</td>\n",
              "      <td>cringeanarchy</td>\n",
              "      <td>68im20s</td>\n",
              "      <td>2017-04-30 16:31:26</td>\n",
              "      <td>1</td>\n",
              "      <td>441.0,405.0,0.775510204082,0.0294784580499,0.0...</td>\n",
              "      <td>-0.2593</td>\n",
              "    </tr>\n",
              "    <tr>\n",
              "      <th>286556</th>\n",
              "      <td>negareddit</td>\n",
              "      <td>debatefascism</td>\n",
              "      <td>68im20s</td>\n",
              "      <td>2017-04-30 16:31:26</td>\n",
              "      <td>1</td>\n",
              "      <td>441.0,405.0,0.775510204082,0.0294784580499,0.0...</td>\n",
              "      <td>-0.2593</td>\n",
              "    </tr>\n",
              "    <tr>\n",
              "      <th>286557</th>\n",
              "      <td>mildlynomil</td>\n",
              "      <td>justnomil</td>\n",
              "      <td>68imlas</td>\n",
              "      <td>2017-04-30 04:19:03</td>\n",
              "      <td>1</td>\n",
              "      <td>2226.0,1855.0,0.786163522013,0.00224618149146,...</td>\n",
              "      <td>-0.9726</td>\n",
              "    </tr>\n",
              "    <tr>\n",
              "      <th>286560</th>\n",
              "      <td>mgtow</td>\n",
              "      <td>dataisbeautiful</td>\n",
              "      <td>68ipeos</td>\n",
              "      <td>2017-04-30 16:52:59</td>\n",
              "      <td>1</td>\n",
              "      <td>1129.0,975.0,0.795394154119,0.0150575730735,0....</td>\n",
              "      <td>-0.0643</td>\n",
              "    </tr>\n",
              "  </tbody>\n",
              "</table>\n",
              "<p>70320 rows × 7 columns</p>\n",
              "</div>"
            ],
            "text/plain": [
              "         SOURCE_SUBREDDIT  ... Sentiment\n",
              "13           suicidewatch  ...   -0.5008\n",
              "19                 tribes  ...   -0.8319\n",
              "23               corejerk  ...   -0.2869\n",
              "26      thedoctorstravels  ...   -0.1685\n",
              "37               civcraft  ...   -0.9652\n",
              "...                   ...  ...       ...\n",
              "286554     subredditdrama  ...   -0.6705\n",
              "286555         negareddit  ...   -0.2593\n",
              "286556         negareddit  ...   -0.2593\n",
              "286557        mildlynomil  ...   -0.9726\n",
              "286560              mgtow  ...   -0.0643\n",
              "\n",
              "[70320 rows x 7 columns]"
            ]
          },
          "metadata": {
            "tags": []
          },
          "execution_count": 266
        }
      ]
    },
    {
      "cell_type": "code",
      "metadata": {
        "colab": {
          "base_uri": "https://localhost:8080/",
          "height": 609
        },
        "id": "0gosIsvvjOsp",
        "outputId": "942ed579-027a-421a-caf2-1886c718309c"
      },
      "source": [
        "data_body_pos_sentiment"
      ],
      "execution_count": 267,
      "outputs": [
        {
          "output_type": "execute_result",
          "data": {
            "text/html": [
              "<div>\n",
              "<style scoped>\n",
              "    .dataframe tbody tr th:only-of-type {\n",
              "        vertical-align: middle;\n",
              "    }\n",
              "\n",
              "    .dataframe tbody tr th {\n",
              "        vertical-align: top;\n",
              "    }\n",
              "\n",
              "    .dataframe thead th {\n",
              "        text-align: right;\n",
              "    }\n",
              "</style>\n",
              "<table border=\"1\" class=\"dataframe\">\n",
              "  <thead>\n",
              "    <tr style=\"text-align: right;\">\n",
              "      <th></th>\n",
              "      <th>SOURCE_SUBREDDIT</th>\n",
              "      <th>TARGET_SUBREDDIT</th>\n",
              "      <th>POST_ID</th>\n",
              "      <th>TIMESTAMP</th>\n",
              "      <th>Sign</th>\n",
              "      <th>PROPERTIES</th>\n",
              "      <th>Sentiment</th>\n",
              "    </tr>\n",
              "  </thead>\n",
              "  <tbody>\n",
              "    <tr>\n",
              "      <th>0</th>\n",
              "      <td>leagueoflegends</td>\n",
              "      <td>teamredditteams</td>\n",
              "      <td>1u4nrps</td>\n",
              "      <td>2013-12-31 16:39:58</td>\n",
              "      <td>1</td>\n",
              "      <td>345.0,298.0,0.75652173913,0.0173913043478,0.08...</td>\n",
              "      <td>0.1748</td>\n",
              "    </tr>\n",
              "    <tr>\n",
              "      <th>1</th>\n",
              "      <td>theredlion</td>\n",
              "      <td>soccer</td>\n",
              "      <td>1u4qkd</td>\n",
              "      <td>2013-12-31 18:18:37</td>\n",
              "      <td>-1</td>\n",
              "      <td>101.0,98.0,0.742574257426,0.019801980198,0.049...</td>\n",
              "      <td>0.5538</td>\n",
              "    </tr>\n",
              "    <tr>\n",
              "      <th>2</th>\n",
              "      <td>inlandempire</td>\n",
              "      <td>bikela</td>\n",
              "      <td>1u4qlzs</td>\n",
              "      <td>2014-01-01 14:54:35</td>\n",
              "      <td>1</td>\n",
              "      <td>85.0,85.0,0.752941176471,0.0235294117647,0.082...</td>\n",
              "      <td>0.0000</td>\n",
              "    </tr>\n",
              "    <tr>\n",
              "      <th>3</th>\n",
              "      <td>nfl</td>\n",
              "      <td>cfb</td>\n",
              "      <td>1u4sjvs</td>\n",
              "      <td>2013-12-31 17:37:55</td>\n",
              "      <td>1</td>\n",
              "      <td>1124.0,949.0,0.772241992883,0.0017793594306,0....</td>\n",
              "      <td>0.9672</td>\n",
              "    </tr>\n",
              "    <tr>\n",
              "      <th>4</th>\n",
              "      <td>playmygame</td>\n",
              "      <td>gamedev</td>\n",
              "      <td>1u4w5ss</td>\n",
              "      <td>2014-01-01 02:51:13</td>\n",
              "      <td>1</td>\n",
              "      <td>715.0,622.0,0.777622377622,0.00699300699301,0....</td>\n",
              "      <td>0.8906</td>\n",
              "    </tr>\n",
              "    <tr>\n",
              "      <th>...</th>\n",
              "      <td>...</td>\n",
              "      <td>...</td>\n",
              "      <td>...</td>\n",
              "      <td>...</td>\n",
              "      <td>...</td>\n",
              "      <td>...</td>\n",
              "      <td>...</td>\n",
              "    </tr>\n",
              "    <tr>\n",
              "      <th>286551</th>\n",
              "      <td>swart</td>\n",
              "      <td>summonerswar</td>\n",
              "      <td>68igk8s</td>\n",
              "      <td>2017-04-29 18:54:37</td>\n",
              "      <td>1</td>\n",
              "      <td>9817.0,8070.0,0.777325048385,0.000916777019456...</td>\n",
              "      <td>0.9976</td>\n",
              "    </tr>\n",
              "    <tr>\n",
              "      <th>286552</th>\n",
              "      <td>skincareexchange</td>\n",
              "      <td>asianbeautyexchange</td>\n",
              "      <td>68ignes</td>\n",
              "      <td>2017-04-30 15:01:04</td>\n",
              "      <td>1</td>\n",
              "      <td>590.0,520.0,0.703389830508,0.0457627118644,0.0...</td>\n",
              "      <td>0.4019</td>\n",
              "    </tr>\n",
              "    <tr>\n",
              "      <th>286553</th>\n",
              "      <td>weedstocks</td>\n",
              "      <td>wallstreetbets</td>\n",
              "      <td>68ihozs</td>\n",
              "      <td>2017-04-30 14:28:25</td>\n",
              "      <td>1</td>\n",
              "      <td>870.0,748.0,0.766666666667,0.00459770114943,0....</td>\n",
              "      <td>0.9274</td>\n",
              "    </tr>\n",
              "    <tr>\n",
              "      <th>286558</th>\n",
              "      <td>mmorpg</td>\n",
              "      <td>blackdesertonline</td>\n",
              "      <td>68ip5os</td>\n",
              "      <td>2017-04-30 16:54:08</td>\n",
              "      <td>1</td>\n",
              "      <td>1100.0,909.0,0.778181818182,0.00181818181818,0...</td>\n",
              "      <td>0.6052</td>\n",
              "    </tr>\n",
              "    <tr>\n",
              "      <th>286559</th>\n",
              "      <td>electricskateboards</td>\n",
              "      <td>askreddit</td>\n",
              "      <td>68ipb2s</td>\n",
              "      <td>2017-04-30 16:41:53</td>\n",
              "      <td>1</td>\n",
              "      <td>1876.0,1567.0,0.78144989339,0.00692963752665,0...</td>\n",
              "      <td>0.8071</td>\n",
              "    </tr>\n",
              "  </tbody>\n",
              "</table>\n",
              "<p>216241 rows × 7 columns</p>\n",
              "</div>"
            ],
            "text/plain": [
              "           SOURCE_SUBREDDIT  ... Sentiment\n",
              "0           leagueoflegends  ...    0.1748\n",
              "1                theredlion  ...    0.5538\n",
              "2              inlandempire  ...    0.0000\n",
              "3                       nfl  ...    0.9672\n",
              "4                playmygame  ...    0.8906\n",
              "...                     ...  ...       ...\n",
              "286551                swart  ...    0.9976\n",
              "286552     skincareexchange  ...    0.4019\n",
              "286553           weedstocks  ...    0.9274\n",
              "286558               mmorpg  ...    0.6052\n",
              "286559  electricskateboards  ...    0.8071\n",
              "\n",
              "[216241 rows x 7 columns]"
            ]
          },
          "metadata": {
            "tags": []
          },
          "execution_count": 267
        }
      ]
    },
    {
      "cell_type": "code",
      "metadata": {
        "id": "TjnyMBAUjO5I"
      },
      "source": [
        "import networkx as nx \n",
        "\n",
        "reddit_pos_sentiment_graph = nx.from_pandas_edgelist(data_body_pos_sentiment,\"SOURCE_SUBREDDIT\",\"TARGET_SUBREDDIT\",edge_attr=\"Sign\",create_using=nx.DiGraph)\n",
        "reddit_neg_sentiment_graph= nx.from_pandas_edgelist(data_body_neg_sentiment,\"SOURCE_SUBREDDIT\",\"TARGET_SUBREDDIT\",edge_attr=\"Sign\",create_using=nx.DiGraph)\n"
      ],
      "execution_count": 268,
      "outputs": []
    },
    {
      "cell_type": "code",
      "metadata": {
        "id": "LBe-qX3kk6kq"
      },
      "source": [
        "reddit_pos_sentiment_table1,reddit_pos_sentiment_table2,reddit_pos_sentiment_table3 = graph_properties(reddit_pos_sentiment_graph) #,data_body_pos_sentiment[\"Sentiment\"])\n",
        "reddit_neg_sentiment_table1,reddit_neg_sentiment_table2,reddit_neg_sentiment_table3 = graph_properties(reddit_neg_sentiment_graph) #,data_body_pos_sentiment[\"Sentiment\"])"
      ],
      "execution_count": 270,
      "outputs": []
    },
    {
      "cell_type": "code",
      "metadata": {
        "colab": {
          "base_uri": "https://localhost:8080/",
          "height": 173
        },
        "id": "ZJYwsHvs7lDB",
        "outputId": "844eb924-ba86-479a-a0de-214afe475366"
      },
      "source": [
        "reddit_pos_sentiment_table1"
      ],
      "execution_count": 271,
      "outputs": [
        {
          "output_type": "execute_result",
          "data": {
            "text/html": [
              "<div>\n",
              "<style scoped>\n",
              "    .dataframe tbody tr th:only-of-type {\n",
              "        vertical-align: middle;\n",
              "    }\n",
              "\n",
              "    .dataframe tbody tr th {\n",
              "        vertical-align: top;\n",
              "    }\n",
              "\n",
              "    .dataframe thead th {\n",
              "        text-align: right;\n",
              "    }\n",
              "</style>\n",
              "<table border=\"1\" class=\"dataframe\">\n",
              "  <thead>\n",
              "    <tr style=\"text-align: right;\">\n",
              "      <th></th>\n",
              "      <th>Average</th>\n",
              "      <th>Max</th>\n",
              "      <th>Min</th>\n",
              "    </tr>\n",
              "  </thead>\n",
              "  <tbody>\n",
              "    <tr>\n",
              "      <th>Degree</th>\n",
              "      <td>6.919743</td>\n",
              "      <td>2133.000000</td>\n",
              "      <td>1.000000</td>\n",
              "    </tr>\n",
              "    <tr>\n",
              "      <th>Closeness</th>\n",
              "      <td>0.083344</td>\n",
              "      <td>0.303221</td>\n",
              "      <td>0.000000</td>\n",
              "    </tr>\n",
              "    <tr>\n",
              "      <th>Local clustering coefficient</th>\n",
              "      <td>0.128603</td>\n",
              "      <td>1.000000</td>\n",
              "      <td>0.000000</td>\n",
              "    </tr>\n",
              "    <tr>\n",
              "      <th>Centrality</th>\n",
              "      <td>0.000214</td>\n",
              "      <td>0.065843</td>\n",
              "      <td>0.000031</td>\n",
              "    </tr>\n",
              "  </tbody>\n",
              "</table>\n",
              "</div>"
            ],
            "text/plain": [
              "                               Average          Max       Min\n",
              "Degree                        6.919743  2133.000000  1.000000\n",
              "Closeness                     0.083344     0.303221  0.000000\n",
              "Local clustering coefficient  0.128603     1.000000  0.000000\n",
              "Centrality                    0.000214     0.065843  0.000031"
            ]
          },
          "metadata": {
            "tags": []
          },
          "execution_count": 271
        }
      ]
    },
    {
      "cell_type": "code",
      "metadata": {
        "colab": {
          "base_uri": "https://localhost:8080/",
          "height": 173
        },
        "id": "S8zjHk4O7lvM",
        "outputId": "19a4dd37-e4b4-4d51-d523-fd1252388d56"
      },
      "source": [
        "reddit_neg_sentiment_table1"
      ],
      "execution_count": 272,
      "outputs": [
        {
          "output_type": "execute_result",
          "data": {
            "text/html": [
              "<div>\n",
              "<style scoped>\n",
              "    .dataframe tbody tr th:only-of-type {\n",
              "        vertical-align: middle;\n",
              "    }\n",
              "\n",
              "    .dataframe tbody tr th {\n",
              "        vertical-align: top;\n",
              "    }\n",
              "\n",
              "    .dataframe thead th {\n",
              "        text-align: right;\n",
              "    }\n",
              "</style>\n",
              "<table border=\"1\" class=\"dataframe\">\n",
              "  <thead>\n",
              "    <tr style=\"text-align: right;\">\n",
              "      <th></th>\n",
              "      <th>Average</th>\n",
              "      <th>Max</th>\n",
              "      <th>Min</th>\n",
              "    </tr>\n",
              "  </thead>\n",
              "  <tbody>\n",
              "    <tr>\n",
              "      <th>Degree</th>\n",
              "      <td>5.744742</td>\n",
              "      <td>1127.000000</td>\n",
              "      <td>1.000000</td>\n",
              "    </tr>\n",
              "    <tr>\n",
              "      <th>Closeness</th>\n",
              "      <td>0.065195</td>\n",
              "      <td>0.244835</td>\n",
              "      <td>0.000000</td>\n",
              "    </tr>\n",
              "    <tr>\n",
              "      <th>Local clustering coefficient</th>\n",
              "      <td>0.091463</td>\n",
              "      <td>1.000000</td>\n",
              "      <td>0.000000</td>\n",
              "    </tr>\n",
              "    <tr>\n",
              "      <th>Centrality</th>\n",
              "      <td>0.000391</td>\n",
              "      <td>0.076719</td>\n",
              "      <td>0.000068</td>\n",
              "    </tr>\n",
              "  </tbody>\n",
              "</table>\n",
              "</div>"
            ],
            "text/plain": [
              "                               Average          Max       Min\n",
              "Degree                        5.744742  1127.000000  1.000000\n",
              "Closeness                     0.065195     0.244835  0.000000\n",
              "Local clustering coefficient  0.091463     1.000000  0.000000\n",
              "Centrality                    0.000391     0.076719  0.000068"
            ]
          },
          "metadata": {
            "tags": []
          },
          "execution_count": 272
        }
      ]
    },
    {
      "cell_type": "code",
      "metadata": {
        "colab": {
          "base_uri": "https://localhost:8080/",
          "height": 125
        },
        "id": "Me3v7Dr77m-d",
        "outputId": "9a40da13-5ad2-4f62-8c4e-04b17e71d095"
      },
      "source": [
        "reddit_pos_sentiment_table2"
      ],
      "execution_count": 273,
      "outputs": [
        {
          "output_type": "execute_result",
          "data": {
            "text/html": [
              "<div>\n",
              "<style scoped>\n",
              "    .dataframe tbody tr th:only-of-type {\n",
              "        vertical-align: middle;\n",
              "    }\n",
              "\n",
              "    .dataframe tbody tr th {\n",
              "        vertical-align: top;\n",
              "    }\n",
              "\n",
              "    .dataframe thead th {\n",
              "        text-align: right;\n",
              "    }\n",
              "</style>\n",
              "<table border=\"1\" class=\"dataframe\">\n",
              "  <thead>\n",
              "    <tr style=\"text-align: right;\">\n",
              "      <th></th>\n",
              "      <th></th>\n",
              "    </tr>\n",
              "  </thead>\n",
              "  <tbody>\n",
              "    <tr>\n",
              "      <th>Global clustering coefficient</th>\n",
              "      <td>0.056951</td>\n",
              "    </tr>\n",
              "    <tr>\n",
              "      <th>Assortativity degree</th>\n",
              "      <td>-0.072501</td>\n",
              "    </tr>\n",
              "    <tr>\n",
              "      <th>Number of triads</th>\n",
              "      <td>434450.000000</td>\n",
              "    </tr>\n",
              "  </tbody>\n",
              "</table>\n",
              "</div>"
            ],
            "text/plain": [
              "                                            \n",
              "Global clustering coefficient       0.056951\n",
              "Assortativity degree               -0.072501\n",
              "Number of triads               434450.000000"
            ]
          },
          "metadata": {
            "tags": []
          },
          "execution_count": 273
        }
      ]
    },
    {
      "cell_type": "code",
      "metadata": {
        "colab": {
          "base_uri": "https://localhost:8080/",
          "height": 125
        },
        "id": "VPv5Z09L7oPJ",
        "outputId": "276cdba5-64d1-472d-ae01-c8702e398f3b"
      },
      "source": [
        "reddit_neg_sentiment_table2"
      ],
      "execution_count": 274,
      "outputs": [
        {
          "output_type": "execute_result",
          "data": {
            "text/html": [
              "<div>\n",
              "<style scoped>\n",
              "    .dataframe tbody tr th:only-of-type {\n",
              "        vertical-align: middle;\n",
              "    }\n",
              "\n",
              "    .dataframe tbody tr th {\n",
              "        vertical-align: top;\n",
              "    }\n",
              "\n",
              "    .dataframe thead th {\n",
              "        text-align: right;\n",
              "    }\n",
              "</style>\n",
              "<table border=\"1\" class=\"dataframe\">\n",
              "  <thead>\n",
              "    <tr style=\"text-align: right;\">\n",
              "      <th></th>\n",
              "      <th></th>\n",
              "    </tr>\n",
              "  </thead>\n",
              "  <tbody>\n",
              "    <tr>\n",
              "      <th>Global clustering coefficient</th>\n",
              "      <td>0.050851</td>\n",
              "    </tr>\n",
              "    <tr>\n",
              "      <th>Assortativity degree</th>\n",
              "      <td>-0.083903</td>\n",
              "    </tr>\n",
              "    <tr>\n",
              "      <th>Number of triads</th>\n",
              "      <td>162694.000000</td>\n",
              "    </tr>\n",
              "  </tbody>\n",
              "</table>\n",
              "</div>"
            ],
            "text/plain": [
              "                                            \n",
              "Global clustering coefficient       0.050851\n",
              "Assortativity degree               -0.083903\n",
              "Number of triads               162694.000000"
            ]
          },
          "metadata": {
            "tags": []
          },
          "execution_count": 274
        }
      ]
    },
    {
      "cell_type": "code",
      "metadata": {
        "colab": {
          "base_uri": "https://localhost:8080/",
          "height": 173
        },
        "id": "xuYHMfxg7pxV",
        "outputId": "45660a24-eeff-4220-8b6d-8ec69bae9f2d"
      },
      "source": [
        "reddit_pos_sentiment_table3"
      ],
      "execution_count": 275,
      "outputs": [
        {
          "output_type": "execute_result",
          "data": {
            "text/html": [
              "<div>\n",
              "<style scoped>\n",
              "    .dataframe tbody tr th:only-of-type {\n",
              "        vertical-align: middle;\n",
              "    }\n",
              "\n",
              "    .dataframe tbody tr th {\n",
              "        vertical-align: top;\n",
              "    }\n",
              "\n",
              "    .dataframe thead th {\n",
              "        text-align: right;\n",
              "    }\n",
              "</style>\n",
              "<table border=\"1\" class=\"dataframe\">\n",
              "  <thead>\n",
              "    <tr style=\"text-align: right;\">\n",
              "      <th></th>\n",
              "      <th>Triads</th>\n",
              "    </tr>\n",
              "  </thead>\n",
              "  <tbody>\n",
              "    <tr>\n",
              "      <th>+++</th>\n",
              "      <td>349631</td>\n",
              "    </tr>\n",
              "    <tr>\n",
              "      <th>++-</th>\n",
              "      <td>73868</td>\n",
              "    </tr>\n",
              "    <tr>\n",
              "      <th>+--</th>\n",
              "      <td>10317</td>\n",
              "    </tr>\n",
              "    <tr>\n",
              "      <th>---</th>\n",
              "      <td>634</td>\n",
              "    </tr>\n",
              "  </tbody>\n",
              "</table>\n",
              "</div>"
            ],
            "text/plain": [
              "     Triads\n",
              "+++  349631\n",
              "++-   73868\n",
              "+--   10317\n",
              "---     634"
            ]
          },
          "metadata": {
            "tags": []
          },
          "execution_count": 275
        }
      ]
    },
    {
      "cell_type": "code",
      "metadata": {
        "colab": {
          "base_uri": "https://localhost:8080/",
          "height": 173
        },
        "id": "12Zu2Lkc7qu3",
        "outputId": "cf4e2625-6f3f-45e6-af09-d91f9bd15c30"
      },
      "source": [
        "reddit_pos_sentiment_table3"
      ],
      "execution_count": 276,
      "outputs": [
        {
          "output_type": "execute_result",
          "data": {
            "text/html": [
              "<div>\n",
              "<style scoped>\n",
              "    .dataframe tbody tr th:only-of-type {\n",
              "        vertical-align: middle;\n",
              "    }\n",
              "\n",
              "    .dataframe tbody tr th {\n",
              "        vertical-align: top;\n",
              "    }\n",
              "\n",
              "    .dataframe thead th {\n",
              "        text-align: right;\n",
              "    }\n",
              "</style>\n",
              "<table border=\"1\" class=\"dataframe\">\n",
              "  <thead>\n",
              "    <tr style=\"text-align: right;\">\n",
              "      <th></th>\n",
              "      <th>Triads</th>\n",
              "    </tr>\n",
              "  </thead>\n",
              "  <tbody>\n",
              "    <tr>\n",
              "      <th>+++</th>\n",
              "      <td>349631</td>\n",
              "    </tr>\n",
              "    <tr>\n",
              "      <th>++-</th>\n",
              "      <td>73868</td>\n",
              "    </tr>\n",
              "    <tr>\n",
              "      <th>+--</th>\n",
              "      <td>10317</td>\n",
              "    </tr>\n",
              "    <tr>\n",
              "      <th>---</th>\n",
              "      <td>634</td>\n",
              "    </tr>\n",
              "  </tbody>\n",
              "</table>\n",
              "</div>"
            ],
            "text/plain": [
              "     Triads\n",
              "+++  349631\n",
              "++-   73868\n",
              "+--   10317\n",
              "---     634"
            ]
          },
          "metadata": {
            "tags": []
          },
          "execution_count": 276
        }
      ]
    },
    {
      "cell_type": "markdown",
      "metadata": {
        "id": "PK4Swx_Mm4Fl"
      },
      "source": [
        "## General question -----------------------------------------------------------------------------------------------\n",
        "\n",
        "Do you agree to define the subsets according to the ratio or do you want to divid the subsets according to the size of the sample (so the number of posts-votes for a given day/hour/year)? \n",
        "\n",
        "## ---------------------------------------------------------------------------------------------------------------------------"
      ]
    },
    {
      "cell_type": "markdown",
      "metadata": {
        "id": "FaHzxo1mm4FM"
      },
      "source": [
        "- the most representative is 18h"
      ]
    },
    {
      "cell_type": "code",
      "metadata": {
        "id": "CjtQn0Zxm4FM"
      },
      "source": [
        "# ratio 9\n",
        "mean_r9_pos = statistics.mean([hour_pos.iloc[9], hour_pos.iloc[11], hour_pos.iloc[14]])\n",
        "print('The mean count of posts from jan. to apr. is ', mean_r9_pos)\n",
        "print('The difference between number of counts and mean for march and april is respectively: \\n',[abs(x - mean_r9_pos) for x in [hour_pos.iloc[9], hour_pos.iloc[11], hour_pos.iloc[14]]])"
      ],
      "execution_count": null,
      "outputs": []
    },
    {
      "cell_type": "markdown",
      "metadata": {
        "id": "phc-Yg8Ym4FN"
      },
      "source": [
        "- the most representative is 12h"
      ]
    },
    {
      "cell_type": "markdown",
      "metadata": {
        "id": "CNmr-il6m4FN"
      },
      "source": [
        "**Ccl :** In order to assess the impact of the **HOUR** on the structure of the network, we can compare  3 subgraphs : \n",
        "> - from 7h (representative of the first group - ratio 5-7 -)\n",
        "> - from 18h (representative of the second group, -ratio 8-)\n",
        "> - from 12h (representative of the third group, -ration 9-)"
      ]
    },
    {
      "cell_type": "code",
      "metadata": {
        "colab": {
          "base_uri": "https://localhost:8080/",
          "height": 265
        },
        "id": "FQR8GiA_6AJz",
        "outputId": "99681867-bfaf-4344-c94c-87d7918bf2b2"
      },
      "source": [
        "\n",
        "fig = plt.figure()\n",
        "plt.hist(data_body['Sentiment'].tolist())\n",
        "plt.show()"
      ],
      "execution_count": 290,
      "outputs": [
        {
          "output_type": "display_data",
          "data": {
            "image/png": "[encoded data removed]",
            "text/plain": [
              "<Figure size 432x288 with 1 Axes>"
            ]
          },
          "metadata": {
            "tags": [],
            "needs_background": "light"
          }
        }
      ]
    },
    {
      "cell_type": "markdown",
      "metadata": {
        "id": "pCFOG2RICEIL"
      },
      "source": [
        "Out of the information about the distribution in the histogram, three subgraphs will be formed for further analyses. These three will represent one with a low sentiment score, mean sentiment score, and high sentiment score. \n",
        "\n",
        "By looking at the histogram we can see that a large number of the post have a score between -1.00 and -0.875, thus this will represent the subgraph with a low sentiment score. At the same time, one can see a large number of posts with a sentiment score between 0 and 0.125. That will represent the middle number. Lastly one can see that the score between 0.875 and 1 includes a very large number of posts, therefore this will be used as representing the subgraph with a high score. \n",
        "\n"
      ]
    },
    {
      "cell_type": "code",
      "metadata": {
        "id": "vi2J3uUGHuZI"
      },
      "source": [
        "mask_low_sentiment = (data_body['Sentiment'] >= -1) & (data_body['Sentiment'] <= -0.875)\n",
        "mask_middle_sentiment = (data_body['Sentiment'] >= 0) & (data_body['Sentiment'] <= 0.125)\n",
        "mask_high_sentiment = (data_body['Sentiment'] <= 1) & (data_body['Sentiment'] >= 0.875)\n",
        "\n",
        "reddit_low_sentiment = data_body.loc[mask_low_sentiment]\n",
        "reddit_middle_sentiment = data_body.loc[mask_middle_sentiment]\n",
        "reddit_high_sentiment = data_body.loc[mask_high_sentiment]"
      ],
      "execution_count": 294,
      "outputs": []
    },
    {
      "cell_type": "code",
      "metadata": {
        "id": "0vKvWzRYPNGM"
      },
      "source": [
        "reddit_low_sentiment_graph = nx.from_pandas_edgelist(reddit_low_sentiment,\"SOURCE_SUBREDDIT\",\"TARGET_SUBREDDIT\",edge_attr=\"Sign\",create_using=nx.DiGraph)\n",
        "reddit_middle_sentiment_graph= nx.from_pandas_edgelist(reddit_middle_sentiment,\"SOURCE_SUBREDDIT\",\"TARGET_SUBREDDIT\",edge_attr=\"Sign\",create_using=nx.DiGraph)\n",
        "reddit_high_sentiment_graph= nx.from_pandas_edgelist(reddit_high_sentiment,\"SOURCE_SUBREDDIT\",\"TARGET_SUBREDDIT\",edge_attr=\"Sign\",create_using=nx.DiGraph)\n"
      ],
      "execution_count": 298,
      "outputs": []
    },
    {
      "cell_type": "code",
      "metadata": {
        "id": "8tYODF3rPliG"
      },
      "source": [
        "reddit_low_sentiment_table1,reddit_low_sentiment_table2,reddit_low_sentiment_table3 = graph_properties(reddit_low_sentiment_graph) \n",
        "reddit_middle_sentiment_table1,reddit_middle_sentiment_table2,reddit_middle_sentiment_table3 = graph_properties(reddit_middle_sentiment_graph) \n",
        "reddit_high_sentiment_table1,reddit_high_sentiment_table2,reddit_high_sentiment_table3 = graph_properties(reddit_high_sentiment_graph) "
      ],
      "execution_count": 299,
      "outputs": []
    },
    {
      "cell_type": "code",
      "metadata": {
        "colab": {
          "base_uri": "https://localhost:8080/",
          "height": 173
        },
        "id": "YZC1-PPVV7_H",
        "outputId": "79d124eb-b854-4ac5-a016-1253d9026f9f"
      },
      "source": [
        "reddit_low_sentiment_table1"
      ],
      "execution_count": 300,
      "outputs": [
        {
          "output_type": "execute_result",
          "data": {
            "text/html": [
              "<div>\n",
              "<style scoped>\n",
              "    .dataframe tbody tr th:only-of-type {\n",
              "        vertical-align: middle;\n",
              "    }\n",
              "\n",
              "    .dataframe tbody tr th {\n",
              "        vertical-align: top;\n",
              "    }\n",
              "\n",
              "    .dataframe thead th {\n",
              "        text-align: right;\n",
              "    }\n",
              "</style>\n",
              "<table border=\"1\" class=\"dataframe\">\n",
              "  <thead>\n",
              "    <tr style=\"text-align: right;\">\n",
              "      <th></th>\n",
              "      <th>Average</th>\n",
              "      <th>Max</th>\n",
              "      <th>Min</th>\n",
              "    </tr>\n",
              "  </thead>\n",
              "  <tbody>\n",
              "    <tr>\n",
              "      <th>Degree</th>\n",
              "      <td>4.594022</td>\n",
              "      <td>609.000000</td>\n",
              "      <td>1.000000</td>\n",
              "    </tr>\n",
              "    <tr>\n",
              "      <th>Closeness</th>\n",
              "      <td>0.045287</td>\n",
              "      <td>0.180528</td>\n",
              "      <td>0.000000</td>\n",
              "    </tr>\n",
              "    <tr>\n",
              "      <th>Local clustering coefficient</th>\n",
              "      <td>0.073576</td>\n",
              "      <td>1.000000</td>\n",
              "      <td>0.000000</td>\n",
              "    </tr>\n",
              "    <tr>\n",
              "      <th>Centrality</th>\n",
              "      <td>0.000616</td>\n",
              "      <td>0.081635</td>\n",
              "      <td>0.000134</td>\n",
              "    </tr>\n",
              "  </tbody>\n",
              "</table>\n",
              "</div>"
            ],
            "text/plain": [
              "                               Average         Max       Min\n",
              "Degree                        4.594022  609.000000  1.000000\n",
              "Closeness                     0.045287    0.180528  0.000000\n",
              "Local clustering coefficient  0.073576    1.000000  0.000000\n",
              "Centrality                    0.000616    0.081635  0.000134"
            ]
          },
          "metadata": {
            "tags": []
          },
          "execution_count": 300
        }
      ]
    },
    {
      "cell_type": "code",
      "metadata": {
        "colab": {
          "base_uri": "https://localhost:8080/",
          "height": 173
        },
        "id": "uQII7Ho-V9VE",
        "outputId": "4d28b54c-d771-48df-f783-def622fa1156"
      },
      "source": [
        "reddit_middle_sentiment_table1"
      ],
      "execution_count": 301,
      "outputs": [
        {
          "output_type": "execute_result",
          "data": {
            "text/html": [
              "<div>\n",
              "<style scoped>\n",
              "    .dataframe tbody tr th:only-of-type {\n",
              "        vertical-align: middle;\n",
              "    }\n",
              "\n",
              "    .dataframe tbody tr th {\n",
              "        vertical-align: top;\n",
              "    }\n",
              "\n",
              "    .dataframe thead th {\n",
              "        text-align: right;\n",
              "    }\n",
              "</style>\n",
              "<table border=\"1\" class=\"dataframe\">\n",
              "  <thead>\n",
              "    <tr style=\"text-align: right;\">\n",
              "      <th></th>\n",
              "      <th>Average</th>\n",
              "      <th>Max</th>\n",
              "      <th>Min</th>\n",
              "    </tr>\n",
              "  </thead>\n",
              "  <tbody>\n",
              "    <tr>\n",
              "      <th>Degree</th>\n",
              "      <td>4.276664</td>\n",
              "      <td>976.000000</td>\n",
              "      <td>1.000000</td>\n",
              "    </tr>\n",
              "    <tr>\n",
              "      <th>Closeness</th>\n",
              "      <td>0.043907</td>\n",
              "      <td>0.222027</td>\n",
              "      <td>0.000000</td>\n",
              "    </tr>\n",
              "    <tr>\n",
              "      <th>Local clustering coefficient</th>\n",
              "      <td>0.054479</td>\n",
              "      <td>1.000000</td>\n",
              "      <td>0.000000</td>\n",
              "    </tr>\n",
              "    <tr>\n",
              "      <th>Centrality</th>\n",
              "      <td>0.000311</td>\n",
              "      <td>0.070915</td>\n",
              "      <td>0.000073</td>\n",
              "    </tr>\n",
              "  </tbody>\n",
              "</table>\n",
              "</div>"
            ],
            "text/plain": [
              "                               Average         Max       Min\n",
              "Degree                        4.276664  976.000000  1.000000\n",
              "Closeness                     0.043907    0.222027  0.000000\n",
              "Local clustering coefficient  0.054479    1.000000  0.000000\n",
              "Centrality                    0.000311    0.070915  0.000073"
            ]
          },
          "metadata": {
            "tags": []
          },
          "execution_count": 301
        }
      ]
    },
    {
      "cell_type": "code",
      "metadata": {
        "colab": {
          "base_uri": "https://localhost:8080/",
          "height": 173
        },
        "id": "7Q6i8U1EWAwA",
        "outputId": "19936602-7ac5-49d9-ee14-03f03cea07d4"
      },
      "source": [
        "reddit_high_sentiment_table1"
      ],
      "execution_count": 302,
      "outputs": [
        {
          "output_type": "execute_result",
          "data": {
            "text/html": [
              "<div>\n",
              "<style scoped>\n",
              "    .dataframe tbody tr th:only-of-type {\n",
              "        vertical-align: middle;\n",
              "    }\n",
              "\n",
              "    .dataframe tbody tr th {\n",
              "        vertical-align: top;\n",
              "    }\n",
              "\n",
              "    .dataframe thead th {\n",
              "        text-align: right;\n",
              "    }\n",
              "</style>\n",
              "<table border=\"1\" class=\"dataframe\">\n",
              "  <thead>\n",
              "    <tr style=\"text-align: right;\">\n",
              "      <th></th>\n",
              "      <th>Average</th>\n",
              "      <th>Max</th>\n",
              "      <th>Min</th>\n",
              "    </tr>\n",
              "  </thead>\n",
              "  <tbody>\n",
              "    <tr>\n",
              "      <th>Degree</th>\n",
              "      <td>5.259896</td>\n",
              "      <td>787.000000</td>\n",
              "      <td>1.00000</td>\n",
              "    </tr>\n",
              "    <tr>\n",
              "      <th>Closeness</th>\n",
              "      <td>0.069383</td>\n",
              "      <td>0.253256</td>\n",
              "      <td>0.00000</td>\n",
              "    </tr>\n",
              "    <tr>\n",
              "      <th>Local clustering coefficient</th>\n",
              "      <td>0.111606</td>\n",
              "      <td>1.000000</td>\n",
              "      <td>0.00000</td>\n",
              "    </tr>\n",
              "    <tr>\n",
              "      <th>Centrality</th>\n",
              "      <td>0.000263</td>\n",
              "      <td>0.039336</td>\n",
              "      <td>0.00005</td>\n",
              "    </tr>\n",
              "  </tbody>\n",
              "</table>\n",
              "</div>"
            ],
            "text/plain": [
              "                               Average         Max      Min\n",
              "Degree                        5.259896  787.000000  1.00000\n",
              "Closeness                     0.069383    0.253256  0.00000\n",
              "Local clustering coefficient  0.111606    1.000000  0.00000\n",
              "Centrality                    0.000263    0.039336  0.00005"
            ]
          },
          "metadata": {
            "tags": []
          },
          "execution_count": 302
        }
      ]
    },
    {
      "cell_type": "markdown",
      "metadata": {
        "id": "W6ZhMb_IWDL9"
      },
      "source": [
        "------"
      ]
    },
    {
      "cell_type": "code",
      "metadata": {
        "colab": {
          "base_uri": "https://localhost:8080/",
          "height": 125
        },
        "id": "Kn9R3ki1WEWL",
        "outputId": "fbf99d88-982d-4c71-ce37-44f810c80641"
      },
      "source": [
        "reddit_low_sentiment_table2"
      ],
      "execution_count": 303,
      "outputs": [
        {
          "output_type": "execute_result",
          "data": {
            "text/html": [
              "<div>\n",
              "<style scoped>\n",
              "    .dataframe tbody tr th:only-of-type {\n",
              "        vertical-align: middle;\n",
              "    }\n",
              "\n",
              "    .dataframe tbody tr th {\n",
              "        vertical-align: top;\n",
              "    }\n",
              "\n",
              "    .dataframe thead th {\n",
              "        text-align: right;\n",
              "    }\n",
              "</style>\n",
              "<table border=\"1\" class=\"dataframe\">\n",
              "  <thead>\n",
              "    <tr style=\"text-align: right;\">\n",
              "      <th></th>\n",
              "      <th></th>\n",
              "    </tr>\n",
              "  </thead>\n",
              "  <tbody>\n",
              "    <tr>\n",
              "      <th>Global clustering coefficient</th>\n",
              "      <td>0.032196</td>\n",
              "    </tr>\n",
              "    <tr>\n",
              "      <th>Assortativity degree</th>\n",
              "      <td>-0.094474</td>\n",
              "    </tr>\n",
              "    <tr>\n",
              "      <th>Number of triads</th>\n",
              "      <td>30015.000000</td>\n",
              "    </tr>\n",
              "  </tbody>\n",
              "</table>\n",
              "</div>"
            ],
            "text/plain": [
              "                                           \n",
              "Global clustering coefficient      0.032196\n",
              "Assortativity degree              -0.094474\n",
              "Number of triads               30015.000000"
            ]
          },
          "metadata": {
            "tags": []
          },
          "execution_count": 303
        }
      ]
    },
    {
      "cell_type": "code",
      "metadata": {
        "colab": {
          "base_uri": "https://localhost:8080/",
          "height": 125
        },
        "id": "zcMqJvvHWGKZ",
        "outputId": "d717226c-14e9-4b1c-d7dc-8c8116f746a3"
      },
      "source": [
        "reddit_middle_sentiment_table2"
      ],
      "execution_count": 304,
      "outputs": [
        {
          "output_type": "execute_result",
          "data": {
            "text/html": [
              "<div>\n",
              "<style scoped>\n",
              "    .dataframe tbody tr th:only-of-type {\n",
              "        vertical-align: middle;\n",
              "    }\n",
              "\n",
              "    .dataframe tbody tr th {\n",
              "        vertical-align: top;\n",
              "    }\n",
              "\n",
              "    .dataframe thead th {\n",
              "        text-align: right;\n",
              "    }\n",
              "</style>\n",
              "<table border=\"1\" class=\"dataframe\">\n",
              "  <thead>\n",
              "    <tr style=\"text-align: right;\">\n",
              "      <th></th>\n",
              "      <th></th>\n",
              "    </tr>\n",
              "  </thead>\n",
              "  <tbody>\n",
              "    <tr>\n",
              "      <th>Global clustering coefficient</th>\n",
              "      <td>0.030376</td>\n",
              "    </tr>\n",
              "    <tr>\n",
              "      <th>Assortativity degree</th>\n",
              "      <td>-0.095623</td>\n",
              "    </tr>\n",
              "    <tr>\n",
              "      <th>Number of triads</th>\n",
              "      <td>38006.000000</td>\n",
              "    </tr>\n",
              "  </tbody>\n",
              "</table>\n",
              "</div>"
            ],
            "text/plain": [
              "                                           \n",
              "Global clustering coefficient      0.030376\n",
              "Assortativity degree              -0.095623\n",
              "Number of triads               38006.000000"
            ]
          },
          "metadata": {
            "tags": []
          },
          "execution_count": 304
        }
      ]
    },
    {
      "cell_type": "code",
      "metadata": {
        "colab": {
          "base_uri": "https://localhost:8080/",
          "height": 125
        },
        "id": "VWvz4rQmWJCE",
        "outputId": "66d3f3ff-c704-4258-f52d-c909ca565790"
      },
      "source": [
        "reddit_high_sentiment_table2"
      ],
      "execution_count": 305,
      "outputs": [
        {
          "output_type": "execute_result",
          "data": {
            "text/html": [
              "<div>\n",
              "<style scoped>\n",
              "    .dataframe tbody tr th:only-of-type {\n",
              "        vertical-align: middle;\n",
              "    }\n",
              "\n",
              "    .dataframe tbody tr th {\n",
              "        vertical-align: top;\n",
              "    }\n",
              "\n",
              "    .dataframe thead th {\n",
              "        text-align: right;\n",
              "    }\n",
              "</style>\n",
              "<table border=\"1\" class=\"dataframe\">\n",
              "  <thead>\n",
              "    <tr style=\"text-align: right;\">\n",
              "      <th></th>\n",
              "      <th></th>\n",
              "    </tr>\n",
              "  </thead>\n",
              "  <tbody>\n",
              "    <tr>\n",
              "      <th>Global clustering coefficient</th>\n",
              "      <td>0.048057</td>\n",
              "    </tr>\n",
              "    <tr>\n",
              "      <th>Assortativity degree</th>\n",
              "      <td>-0.062167</td>\n",
              "    </tr>\n",
              "    <tr>\n",
              "      <th>Number of triads</th>\n",
              "      <td>87649.000000</td>\n",
              "    </tr>\n",
              "  </tbody>\n",
              "</table>\n",
              "</div>"
            ],
            "text/plain": [
              "                                           \n",
              "Global clustering coefficient      0.048057\n",
              "Assortativity degree              -0.062167\n",
              "Number of triads               87649.000000"
            ]
          },
          "metadata": {
            "tags": []
          },
          "execution_count": 305
        }
      ]
    },
    {
      "cell_type": "markdown",
      "metadata": {
        "id": "JhPiMoFRWM4W"
      },
      "source": [
        "-----"
      ]
    },
    {
      "cell_type": "code",
      "metadata": {
        "colab": {
          "base_uri": "https://localhost:8080/",
          "height": 173
        },
        "id": "mmag_FNEWMGt",
        "outputId": "14f337fd-dad9-4af5-e51b-56f1dc62a0ba"
      },
      "source": [
        "reddit_low_sentiment_table3"
      ],
      "execution_count": 306,
      "outputs": [
        {
          "output_type": "execute_result",
          "data": {
            "text/html": [
              "<div>\n",
              "<style scoped>\n",
              "    .dataframe tbody tr th:only-of-type {\n",
              "        vertical-align: middle;\n",
              "    }\n",
              "\n",
              "    .dataframe tbody tr th {\n",
              "        vertical-align: top;\n",
              "    }\n",
              "\n",
              "    .dataframe thead th {\n",
              "        text-align: right;\n",
              "    }\n",
              "</style>\n",
              "<table border=\"1\" class=\"dataframe\">\n",
              "  <thead>\n",
              "    <tr style=\"text-align: right;\">\n",
              "      <th></th>\n",
              "      <th>Triads</th>\n",
              "    </tr>\n",
              "  </thead>\n",
              "  <tbody>\n",
              "    <tr>\n",
              "      <th>+++</th>\n",
              "      <td>11813</td>\n",
              "    </tr>\n",
              "    <tr>\n",
              "      <th>++-</th>\n",
              "      <td>11877</td>\n",
              "    </tr>\n",
              "    <tr>\n",
              "      <th>+--</th>\n",
              "      <td>5380</td>\n",
              "    </tr>\n",
              "    <tr>\n",
              "      <th>---</th>\n",
              "      <td>945</td>\n",
              "    </tr>\n",
              "  </tbody>\n",
              "</table>\n",
              "</div>"
            ],
            "text/plain": [
              "     Triads\n",
              "+++   11813\n",
              "++-   11877\n",
              "+--    5380\n",
              "---     945"
            ]
          },
          "metadata": {
            "tags": []
          },
          "execution_count": 306
        }
      ]
    },
    {
      "cell_type": "code",
      "metadata": {
        "colab": {
          "base_uri": "https://localhost:8080/",
          "height": 173
        },
        "id": "b3FakHrxWP14",
        "outputId": "e6fcada6-0685-4dd1-db32-870ba900b2b2"
      },
      "source": [
        "reddit_middle_sentiment_table3"
      ],
      "execution_count": 307,
      "outputs": [
        {
          "output_type": "execute_result",
          "data": {
            "text/html": [
              "<div>\n",
              "<style scoped>\n",
              "    .dataframe tbody tr th:only-of-type {\n",
              "        vertical-align: middle;\n",
              "    }\n",
              "\n",
              "    .dataframe tbody tr th {\n",
              "        vertical-align: top;\n",
              "    }\n",
              "\n",
              "    .dataframe thead th {\n",
              "        text-align: right;\n",
              "    }\n",
              "</style>\n",
              "<table border=\"1\" class=\"dataframe\">\n",
              "  <thead>\n",
              "    <tr style=\"text-align: right;\">\n",
              "      <th></th>\n",
              "      <th>Triads</th>\n",
              "    </tr>\n",
              "  </thead>\n",
              "  <tbody>\n",
              "    <tr>\n",
              "      <th>+++</th>\n",
              "      <td>26873</td>\n",
              "    </tr>\n",
              "    <tr>\n",
              "      <th>++-</th>\n",
              "      <td>9295</td>\n",
              "    </tr>\n",
              "    <tr>\n",
              "      <th>+--</th>\n",
              "      <td>1707</td>\n",
              "    </tr>\n",
              "    <tr>\n",
              "      <th>---</th>\n",
              "      <td>131</td>\n",
              "    </tr>\n",
              "  </tbody>\n",
              "</table>\n",
              "</div>"
            ],
            "text/plain": [
              "     Triads\n",
              "+++   26873\n",
              "++-    9295\n",
              "+--    1707\n",
              "---     131"
            ]
          },
          "metadata": {
            "tags": []
          },
          "execution_count": 307
        }
      ]
    },
    {
      "cell_type": "code",
      "metadata": {
        "colab": {
          "base_uri": "https://localhost:8080/",
          "height": 173
        },
        "id": "r-iAAS6QWTBY",
        "outputId": "fa91759b-a47b-45d0-e8d6-ab4da533386d"
      },
      "source": [
        "reddit_high_sentiment_table3"
      ],
      "execution_count": 308,
      "outputs": [
        {
          "output_type": "execute_result",
          "data": {
            "text/html": [
              "<div>\n",
              "<style scoped>\n",
              "    .dataframe tbody tr th:only-of-type {\n",
              "        vertical-align: middle;\n",
              "    }\n",
              "\n",
              "    .dataframe tbody tr th {\n",
              "        vertical-align: top;\n",
              "    }\n",
              "\n",
              "    .dataframe thead th {\n",
              "        text-align: right;\n",
              "    }\n",
              "</style>\n",
              "<table border=\"1\" class=\"dataframe\">\n",
              "  <thead>\n",
              "    <tr style=\"text-align: right;\">\n",
              "      <th></th>\n",
              "      <th>Triads</th>\n",
              "    </tr>\n",
              "  </thead>\n",
              "  <tbody>\n",
              "    <tr>\n",
              "      <th>+++</th>\n",
              "      <td>75885</td>\n",
              "    </tr>\n",
              "    <tr>\n",
              "      <th>++-</th>\n",
              "      <td>10386</td>\n",
              "    </tr>\n",
              "    <tr>\n",
              "      <th>+--</th>\n",
              "      <td>1316</td>\n",
              "    </tr>\n",
              "    <tr>\n",
              "      <th>---</th>\n",
              "      <td>62</td>\n",
              "    </tr>\n",
              "  </tbody>\n",
              "</table>\n",
              "</div>"
            ],
            "text/plain": [
              "     Triads\n",
              "+++   75885\n",
              "++-   10386\n",
              "+--    1316\n",
              "---      62"
            ]
          },
          "metadata": {
            "tags": []
          },
          "execution_count": 308
        }
      ]
    }
  ]
}