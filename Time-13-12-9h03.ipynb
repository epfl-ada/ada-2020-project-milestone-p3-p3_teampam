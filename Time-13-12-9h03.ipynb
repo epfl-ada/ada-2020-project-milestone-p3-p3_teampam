{
 "cells": [
  {
   "cell_type": "markdown",
   "metadata": {},
   "source": [
    "# P3"
   ]
  },
  {
   "cell_type": "markdown",
   "metadata": {},
   "source": [
    "# 1.The data"
   ]
  },
  {
   "cell_type": "code",
   "execution_count": 31,
   "metadata": {},
   "outputs": [],
   "source": [
    "import pandas as pd\n",
    "import numpy as np"
   ]
  },
  {
   "cell_type": "markdown",
   "metadata": {},
   "source": [
    "## 1.1 Load the data"
   ]
  },
  {
   "cell_type": "code",
   "execution_count": 3,
   "metadata": {},
   "outputs": [
    {
     "data": {
      "text/html": [
       "<div>\n",
       "<style scoped>\n",
       "    .dataframe tbody tr th:only-of-type {\n",
       "        vertical-align: middle;\n",
       "    }\n",
       "\n",
       "    .dataframe tbody tr th {\n",
       "        vertical-align: top;\n",
       "    }\n",
       "\n",
       "    .dataframe thead th {\n",
       "        text-align: right;\n",
       "    }\n",
       "</style>\n",
       "<table border=\"1\" class=\"dataframe\">\n",
       "  <thead>\n",
       "    <tr style=\"text-align: right;\">\n",
       "      <th></th>\n",
       "      <th>SOURCE_SUBREDDIT</th>\n",
       "      <th>TARGET_SUBREDDIT</th>\n",
       "      <th>POST_ID</th>\n",
       "      <th>TIMESTAMP</th>\n",
       "      <th>LINK_SENTIMENT</th>\n",
       "      <th>PROPERTIES</th>\n",
       "    </tr>\n",
       "  </thead>\n",
       "  <tbody>\n",
       "    <tr>\n",
       "      <th>0</th>\n",
       "      <td>leagueoflegends</td>\n",
       "      <td>teamredditteams</td>\n",
       "      <td>1u4nrps</td>\n",
       "      <td>2013-12-31 16:39:58</td>\n",
       "      <td>1</td>\n",
       "      <td>345.0,298.0,0.75652173913,0.0173913043478,0.08...</td>\n",
       "    </tr>\n",
       "    <tr>\n",
       "      <th>1</th>\n",
       "      <td>theredlion</td>\n",
       "      <td>soccer</td>\n",
       "      <td>1u4qkd</td>\n",
       "      <td>2013-12-31 18:18:37</td>\n",
       "      <td>-1</td>\n",
       "      <td>101.0,98.0,0.742574257426,0.019801980198,0.049...</td>\n",
       "    </tr>\n",
       "    <tr>\n",
       "      <th>2</th>\n",
       "      <td>inlandempire</td>\n",
       "      <td>bikela</td>\n",
       "      <td>1u4qlzs</td>\n",
       "      <td>2014-01-01 14:54:35</td>\n",
       "      <td>1</td>\n",
       "      <td>85.0,85.0,0.752941176471,0.0235294117647,0.082...</td>\n",
       "    </tr>\n",
       "    <tr>\n",
       "      <th>3</th>\n",
       "      <td>nfl</td>\n",
       "      <td>cfb</td>\n",
       "      <td>1u4sjvs</td>\n",
       "      <td>2013-12-31 17:37:55</td>\n",
       "      <td>1</td>\n",
       "      <td>1124.0,949.0,0.772241992883,0.0017793594306,0....</td>\n",
       "    </tr>\n",
       "    <tr>\n",
       "      <th>4</th>\n",
       "      <td>playmygame</td>\n",
       "      <td>gamedev</td>\n",
       "      <td>1u4w5ss</td>\n",
       "      <td>2014-01-01 02:51:13</td>\n",
       "      <td>1</td>\n",
       "      <td>715.0,622.0,0.777622377622,0.00699300699301,0....</td>\n",
       "    </tr>\n",
       "  </tbody>\n",
       "</table>\n",
       "</div>"
      ],
      "text/plain": [
       "  SOURCE_SUBREDDIT TARGET_SUBREDDIT  POST_ID            TIMESTAMP  \\\n",
       "0  leagueoflegends  teamredditteams  1u4nrps  2013-12-31 16:39:58   \n",
       "1       theredlion           soccer   1u4qkd  2013-12-31 18:18:37   \n",
       "2     inlandempire           bikela  1u4qlzs  2014-01-01 14:54:35   \n",
       "3              nfl              cfb  1u4sjvs  2013-12-31 17:37:55   \n",
       "4       playmygame          gamedev  1u4w5ss  2014-01-01 02:51:13   \n",
       "\n",
       "   LINK_SENTIMENT                                         PROPERTIES  \n",
       "0               1  345.0,298.0,0.75652173913,0.0173913043478,0.08...  \n",
       "1              -1  101.0,98.0,0.742574257426,0.019801980198,0.049...  \n",
       "2               1  85.0,85.0,0.752941176471,0.0235294117647,0.082...  \n",
       "3               1  1124.0,949.0,0.772241992883,0.0017793594306,0....  \n",
       "4               1  715.0,622.0,0.777622377622,0.00699300699301,0....  "
      ]
     },
     "execution_count": 3,
     "metadata": {},
     "output_type": "execute_result"
    }
   ],
   "source": [
    "data_body = pd.read_csv('soc-redditHyperlinks-body.tsv', sep = '\\t')\n",
    "data_title = pd.read_csv('soc-redditHyperlinks-title.tsv', sep = '\\t')\n",
    "data_body.head()"
   ]
  },
  {
   "cell_type": "code",
   "execution_count": 5,
   "metadata": {},
   "outputs": [
    {
     "data": {
      "text/html": [
       "<div>\n",
       "<style scoped>\n",
       "    .dataframe tbody tr th:only-of-type {\n",
       "        vertical-align: middle;\n",
       "    }\n",
       "\n",
       "    .dataframe tbody tr th {\n",
       "        vertical-align: top;\n",
       "    }\n",
       "\n",
       "    .dataframe thead th {\n",
       "        text-align: right;\n",
       "    }\n",
       "</style>\n",
       "<table border=\"1\" class=\"dataframe\">\n",
       "  <thead>\n",
       "    <tr style=\"text-align: right;\">\n",
       "      <th></th>\n",
       "      <th>SOURCE_SUBREDDIT</th>\n",
       "      <th>TARGET_SUBREDDIT</th>\n",
       "      <th>POST_ID</th>\n",
       "      <th>TIMESTAMP</th>\n",
       "      <th>LINK_SENTIMENT</th>\n",
       "      <th>PROPERTIES</th>\n",
       "    </tr>\n",
       "  </thead>\n",
       "  <tbody>\n",
       "    <tr>\n",
       "      <th>0</th>\n",
       "      <td>rddtgaming</td>\n",
       "      <td>rddtrust</td>\n",
       "      <td>1u4pzzs</td>\n",
       "      <td>2013-12-31 16:39:18</td>\n",
       "      <td>1</td>\n",
       "      <td>25.0,23.0,0.76,0.0,0.44,0.12,0.12,4.0,4.0,0.0,...</td>\n",
       "    </tr>\n",
       "    <tr>\n",
       "      <th>1</th>\n",
       "      <td>xboxone</td>\n",
       "      <td>battlefield_4</td>\n",
       "      <td>1u4tmfs</td>\n",
       "      <td>2013-12-31 17:59:11</td>\n",
       "      <td>1</td>\n",
       "      <td>100.0,88.0,0.78,0.02,0.08,0.13,0.07,16.0,16.0,...</td>\n",
       "    </tr>\n",
       "    <tr>\n",
       "      <th>2</th>\n",
       "      <td>ps4</td>\n",
       "      <td>battlefield_4</td>\n",
       "      <td>1u4tmos</td>\n",
       "      <td>2013-12-31 17:59:40</td>\n",
       "      <td>1</td>\n",
       "      <td>100.0,88.0,0.78,0.02,0.08,0.13,0.07,16.0,16.0,...</td>\n",
       "    </tr>\n",
       "    <tr>\n",
       "      <th>3</th>\n",
       "      <td>fitnesscirclejerk</td>\n",
       "      <td>leangains</td>\n",
       "      <td>1u50xfs</td>\n",
       "      <td>2013-12-31 19:01:56</td>\n",
       "      <td>1</td>\n",
       "      <td>49.0,43.0,0.775510204082,0.0,0.265306122449,0....</td>\n",
       "    </tr>\n",
       "    <tr>\n",
       "      <th>4</th>\n",
       "      <td>fitnesscirclejerk</td>\n",
       "      <td>lifeprotips</td>\n",
       "      <td>1u51nps</td>\n",
       "      <td>2013-12-31 21:02:28</td>\n",
       "      <td>1</td>\n",
       "      <td>14.0,14.0,0.785714285714,0.0,0.428571428571,0....</td>\n",
       "    </tr>\n",
       "  </tbody>\n",
       "</table>\n",
       "</div>"
      ],
      "text/plain": [
       "    SOURCE_SUBREDDIT TARGET_SUBREDDIT  POST_ID            TIMESTAMP  \\\n",
       "0         rddtgaming         rddtrust  1u4pzzs  2013-12-31 16:39:18   \n",
       "1            xboxone    battlefield_4  1u4tmfs  2013-12-31 17:59:11   \n",
       "2                ps4    battlefield_4  1u4tmos  2013-12-31 17:59:40   \n",
       "3  fitnesscirclejerk        leangains  1u50xfs  2013-12-31 19:01:56   \n",
       "4  fitnesscirclejerk      lifeprotips  1u51nps  2013-12-31 21:02:28   \n",
       "\n",
       "   LINK_SENTIMENT                                         PROPERTIES  \n",
       "0               1  25.0,23.0,0.76,0.0,0.44,0.12,0.12,4.0,4.0,0.0,...  \n",
       "1               1  100.0,88.0,0.78,0.02,0.08,0.13,0.07,16.0,16.0,...  \n",
       "2               1  100.0,88.0,0.78,0.02,0.08,0.13,0.07,16.0,16.0,...  \n",
       "3               1  49.0,43.0,0.775510204082,0.0,0.265306122449,0....  \n",
       "4               1  14.0,14.0,0.785714285714,0.0,0.428571428571,0....  "
      ]
     },
     "execution_count": 5,
     "metadata": {},
     "output_type": "execute_result"
    }
   ],
   "source": [
    "data_title.head()"
   ]
  },
  {
   "cell_type": "markdown",
   "metadata": {},
   "source": [
    "**Create the dataframe containing body + title links**"
   ]
  },
  {
   "cell_type": "code",
   "execution_count": 6,
   "metadata": {},
   "outputs": [
    {
     "name": "stdout",
     "output_type": "stream",
     "text": [
      "Data total .(858488, 6)\n",
      "Data body .(286561, 6)\n",
      "Data title .(571927, 6)\n"
     ]
    }
   ],
   "source": [
    "data_total = pd.concat([data_body,data_title], ignore_index = True)\n",
    "print('Data total .{}'.format(data_total.shape))\n",
    "print('Data body .{}'.format(data_body.shape))\n",
    "print('Data title .{}'.format(data_title.shape))\n"
   ]
  },
  {
   "cell_type": "code",
   "execution_count": 7,
   "metadata": {},
   "outputs": [
    {
     "data": {
      "text/html": [
       "<div>\n",
       "<style scoped>\n",
       "    .dataframe tbody tr th:only-of-type {\n",
       "        vertical-align: middle;\n",
       "    }\n",
       "\n",
       "    .dataframe tbody tr th {\n",
       "        vertical-align: top;\n",
       "    }\n",
       "\n",
       "    .dataframe thead th {\n",
       "        text-align: right;\n",
       "    }\n",
       "</style>\n",
       "<table border=\"1\" class=\"dataframe\">\n",
       "  <thead>\n",
       "    <tr style=\"text-align: right;\">\n",
       "      <th></th>\n",
       "      <th>SOURCE_SUBREDDIT</th>\n",
       "      <th>TARGET_SUBREDDIT</th>\n",
       "      <th>POST_ID</th>\n",
       "      <th>TIMESTAMP</th>\n",
       "      <th>LINK_SENTIMENT</th>\n",
       "      <th>PROPERTIES</th>\n",
       "    </tr>\n",
       "  </thead>\n",
       "  <tbody>\n",
       "    <tr>\n",
       "      <th>0</th>\n",
       "      <td>leagueoflegends</td>\n",
       "      <td>teamredditteams</td>\n",
       "      <td>1u4nrps</td>\n",
       "      <td>2013-12-31 16:39:58</td>\n",
       "      <td>1</td>\n",
       "      <td>345.0,298.0,0.75652173913,0.0173913043478,0.08...</td>\n",
       "    </tr>\n",
       "    <tr>\n",
       "      <th>1</th>\n",
       "      <td>theredlion</td>\n",
       "      <td>soccer</td>\n",
       "      <td>1u4qkd</td>\n",
       "      <td>2013-12-31 18:18:37</td>\n",
       "      <td>-1</td>\n",
       "      <td>101.0,98.0,0.742574257426,0.019801980198,0.049...</td>\n",
       "    </tr>\n",
       "    <tr>\n",
       "      <th>2</th>\n",
       "      <td>inlandempire</td>\n",
       "      <td>bikela</td>\n",
       "      <td>1u4qlzs</td>\n",
       "      <td>2014-01-01 14:54:35</td>\n",
       "      <td>1</td>\n",
       "      <td>85.0,85.0,0.752941176471,0.0235294117647,0.082...</td>\n",
       "    </tr>\n",
       "    <tr>\n",
       "      <th>3</th>\n",
       "      <td>nfl</td>\n",
       "      <td>cfb</td>\n",
       "      <td>1u4sjvs</td>\n",
       "      <td>2013-12-31 17:37:55</td>\n",
       "      <td>1</td>\n",
       "      <td>1124.0,949.0,0.772241992883,0.0017793594306,0....</td>\n",
       "    </tr>\n",
       "    <tr>\n",
       "      <th>4</th>\n",
       "      <td>playmygame</td>\n",
       "      <td>gamedev</td>\n",
       "      <td>1u4w5ss</td>\n",
       "      <td>2014-01-01 02:51:13</td>\n",
       "      <td>1</td>\n",
       "      <td>715.0,622.0,0.777622377622,0.00699300699301,0....</td>\n",
       "    </tr>\n",
       "  </tbody>\n",
       "</table>\n",
       "</div>"
      ],
      "text/plain": [
       "  SOURCE_SUBREDDIT TARGET_SUBREDDIT  POST_ID            TIMESTAMP  \\\n",
       "0  leagueoflegends  teamredditteams  1u4nrps  2013-12-31 16:39:58   \n",
       "1       theredlion           soccer   1u4qkd  2013-12-31 18:18:37   \n",
       "2     inlandempire           bikela  1u4qlzs  2014-01-01 14:54:35   \n",
       "3              nfl              cfb  1u4sjvs  2013-12-31 17:37:55   \n",
       "4       playmygame          gamedev  1u4w5ss  2014-01-01 02:51:13   \n",
       "\n",
       "   LINK_SENTIMENT                                         PROPERTIES  \n",
       "0               1  345.0,298.0,0.75652173913,0.0173913043478,0.08...  \n",
       "1              -1  101.0,98.0,0.742574257426,0.019801980198,0.049...  \n",
       "2               1  85.0,85.0,0.752941176471,0.0235294117647,0.082...  \n",
       "3               1  1124.0,949.0,0.772241992883,0.0017793594306,0....  \n",
       "4               1  715.0,622.0,0.777622377622,0.00699300699301,0....  "
      ]
     },
     "execution_count": 7,
     "metadata": {},
     "output_type": "execute_result"
    }
   ],
   "source": [
    "data_total.head()"
   ]
  },
  {
   "cell_type": "markdown",
   "metadata": {},
   "source": [
    "**Note :** number of ligne (posts) in body : 286561\n",
    "number of ligne (posts) in title : 571927\n",
    "total number : 858488 = 286561 + 571927, so there is nothing in double in the 2 datasets"
   ]
  },
  {
   "cell_type": "markdown",
   "metadata": {},
   "source": [
    "## 1.2 Count the number of nodes and edges"
   ]
  },
  {
   "cell_type": "markdown",
   "metadata": {},
   "source": [
    "### Code"
   ]
  },
  {
   "cell_type": "code",
   "execution_count": 8,
   "metadata": {},
   "outputs": [
    {
     "data": {
      "text/html": [
       "<div>\n",
       "<style scoped>\n",
       "    .dataframe tbody tr th:only-of-type {\n",
       "        vertical-align: middle;\n",
       "    }\n",
       "\n",
       "    .dataframe tbody tr th {\n",
       "        vertical-align: top;\n",
       "    }\n",
       "\n",
       "    .dataframe thead th {\n",
       "        text-align: right;\n",
       "    }\n",
       "</style>\n",
       "<table border=\"1\" class=\"dataframe\">\n",
       "  <thead>\n",
       "    <tr style=\"text-align: right;\">\n",
       "      <th></th>\n",
       "      <th>body</th>\n",
       "      <th>title</th>\n",
       "      <th>total</th>\n",
       "    </tr>\n",
       "  </thead>\n",
       "  <tbody>\n",
       "    <tr>\n",
       "      <th>Nodes</th>\n",
       "      <td>35776</td>\n",
       "      <td>54075</td>\n",
       "      <td>67180</td>\n",
       "    </tr>\n",
       "    <tr>\n",
       "      <th>Edges</th>\n",
       "      <td>286561</td>\n",
       "      <td>571927</td>\n",
       "      <td>858488</td>\n",
       "    </tr>\n",
       "    <tr>\n",
       "      <th>+ edges</th>\n",
       "      <td>NaN</td>\n",
       "      <td>NaN</td>\n",
       "      <td>NaN</td>\n",
       "    </tr>\n",
       "    <tr>\n",
       "      <th>- edges</th>\n",
       "      <td>NaN</td>\n",
       "      <td>NaN</td>\n",
       "      <td>NaN</td>\n",
       "    </tr>\n",
       "    <tr>\n",
       "      <th>Triads</th>\n",
       "      <td>NaN</td>\n",
       "      <td>NaN</td>\n",
       "      <td>NaN</td>\n",
       "    </tr>\n",
       "  </tbody>\n",
       "</table>\n",
       "</div>"
      ],
      "text/plain": [
       "           body   title   total\n",
       "Nodes     35776   54075   67180\n",
       "Edges    286561  571927  858488\n",
       "+ edges     NaN     NaN     NaN\n",
       "- edges     NaN     NaN     NaN\n",
       "Triads      NaN     NaN     NaN"
      ]
     },
     "execution_count": 8,
     "metadata": {},
     "output_type": "execute_result"
    }
   ],
   "source": [
    "table = pd.DataFrame(columns = ['body', 'title', 'total'], index = ['Nodes', 'Edges', '+ edges', '- edges', 'Triads'])\n",
    "\n",
    "nb_edges_body = data_body.shape[0]\n",
    "nb_nodes_body = np.unique(np.concatenate((data_body['SOURCE_SUBREDDIT'].values , data_body['TARGET_SUBREDDIT'].values))).shape[0]\n",
    "\n",
    "nb_edges_title = data_title.shape[0]\n",
    "nb_nodes_title = np.unique(np.concatenate((data_title['SOURCE_SUBREDDIT'].values , data_title['TARGET_SUBREDDIT'].values))).shape[0]\n",
    "\n",
    "nb_edges_total = data_total.shape[0]\n",
    "nb_nodes_total = np.unique(np.concatenate((data_total['SOURCE_SUBREDDIT'].values , data_total['TARGET_SUBREDDIT'].values))).shape[0]\n",
    "\n",
    "\n",
    "table.loc['Nodes'] = [nb_nodes_body, nb_nodes_title, nb_nodes_total]\n",
    "table.loc['Edges'] = [nb_edges_body, nb_edges_title, nb_edges_total]\n",
    "\n",
    "table.head()"
   ]
  },
  {
   "cell_type": "markdown",
   "metadata": {},
   "source": [
    "### Discussion"
   ]
  },
  {
   "cell_type": "markdown",
   "metadata": {},
   "source": [
    "## 1.3 Count the proprtion of positives edges"
   ]
  },
  {
   "cell_type": "markdown",
   "metadata": {},
   "source": [
    " ### Code\n"
   ]
  },
  {
   "cell_type": "code",
   "execution_count": 9,
   "metadata": {},
   "outputs": [],
   "source": [
    "#Number of positive (negative) edges :\n",
    "#We first filter the data by keeping only +1 (or -1) values and then we find the number of lines (edges) that this filtering gives\n",
    "nb_pos_edges_body = data_body[data_body['LINK_SENTIMENT']==1].shape[0] \n",
    "nb_neg_edges_body = data_body[data_body['LINK_SENTIMENT']==-1].shape[0]\n",
    "\n",
    "nb_pos_edges_title = data_title[data_title['LINK_SENTIMENT']==1].shape[0] \n",
    "nb_neg_edges_title= data_title[data_title['LINK_SENTIMENT']==-1].shape[0]\n",
    "\n",
    "nb_pos_edges_total = data_total[data_total['LINK_SENTIMENT']==1].shape[0] \n",
    "nb_neg_edges_total = data_total[data_total['LINK_SENTIMENT']==-1].shape[0]\n",
    "\n",
    "#Proportion of positive/negative edges:\n",
    "#We divide the number of positive (or negative) edges previouly found and divide it by the total number of edges\n",
    "#We use the table1 to find the total number of edges as we already filled these informations\n",
    "perc_pos_body = nb_pos_edges_body / table.loc['Edges']['body']\n",
    "perc_neg_body = nb_neg_edges_body / table.loc['Edges']['body']\n",
    "\n",
    "perc_pos_title = nb_pos_edges_title / table.loc['Edges']['title']\n",
    "perc_neg_title = nb_neg_edges_title / table.loc['Edges']['title']\n",
    "\n",
    "perc_pos_total = nb_pos_edges_total / table.loc['Edges']['total']\n",
    "perc_neg_total = nb_neg_edges_total / table.loc['Edges']['total']"
   ]
  },
  {
   "cell_type": "code",
   "execution_count": 10,
   "metadata": {},
   "outputs": [
    {
     "data": {
      "text/html": [
       "<div>\n",
       "<style scoped>\n",
       "    .dataframe tbody tr th:only-of-type {\n",
       "        vertical-align: middle;\n",
       "    }\n",
       "\n",
       "    .dataframe tbody tr th {\n",
       "        vertical-align: top;\n",
       "    }\n",
       "\n",
       "    .dataframe thead th {\n",
       "        text-align: right;\n",
       "    }\n",
       "</style>\n",
       "<table border=\"1\" class=\"dataframe\">\n",
       "  <thead>\n",
       "    <tr style=\"text-align: right;\">\n",
       "      <th></th>\n",
       "      <th>body</th>\n",
       "      <th>title</th>\n",
       "      <th>total</th>\n",
       "    </tr>\n",
       "  </thead>\n",
       "  <tbody>\n",
       "    <tr>\n",
       "      <th>Nodes</th>\n",
       "      <td>35776</td>\n",
       "      <td>54075</td>\n",
       "      <td>67180</td>\n",
       "    </tr>\n",
       "    <tr>\n",
       "      <th>Edges</th>\n",
       "      <td>286561</td>\n",
       "      <td>571927</td>\n",
       "      <td>858488</td>\n",
       "    </tr>\n",
       "    <tr>\n",
       "      <th>+ edges</th>\n",
       "      <td>92.6%</td>\n",
       "      <td>89.3%</td>\n",
       "      <td>90.4%</td>\n",
       "    </tr>\n",
       "    <tr>\n",
       "      <th>- edges</th>\n",
       "      <td>7.4%</td>\n",
       "      <td>10.7%</td>\n",
       "      <td>9.6%</td>\n",
       "    </tr>\n",
       "    <tr>\n",
       "      <th>Triads</th>\n",
       "      <td>NaN</td>\n",
       "      <td>NaN</td>\n",
       "      <td>NaN</td>\n",
       "    </tr>\n",
       "  </tbody>\n",
       "</table>\n",
       "</div>"
      ],
      "text/plain": [
       "           body   title   total\n",
       "Nodes     35776   54075   67180\n",
       "Edges    286561  571927  858488\n",
       "+ edges   92.6%   89.3%   90.4%\n",
       "- edges    7.4%   10.7%    9.6%\n",
       "Triads      NaN     NaN     NaN"
      ]
     },
     "execution_count": 10,
     "metadata": {},
     "output_type": "execute_result"
    }
   ],
   "source": [
    "#We must indicate a percentage format : we use the {:.1%} format to have a percentage with only one decimal, as in the paper \n",
    "table.loc['+ edges'] = ['{:.1%}'.format(perc_pos_body), '{:.1%}'.format(perc_pos_title), '{:.1%}'.format(perc_pos_total)]\n",
    "table.loc['- edges'] = ['{:.1%}'.format(perc_neg_body), '{:.1%}'.format(perc_neg_title), '{:.1%}'.format(perc_neg_total)]\n",
    "\n",
    "table.head()"
   ]
  },
  {
   "cell_type": "markdown",
   "metadata": {},
   "source": [
    "### Discussion"
   ]
  },
  {
   "cell_type": "markdown",
   "metadata": {},
   "source": [
    "**ANALYSIS :**\n",
    "here we see +edges % is around 90 % (89.3 for hte title and 92.6% for the body). \n",
    "It is higher than the results for the 3 other datasets : Epinions (85%), Slashdot (77.4%) and Wiki (78.7%). \n",
    "/!\\ Have to take into account in further analysis ! "
   ]
  },
  {
   "cell_type": "code",
   "execution_count": 11,
   "metadata": {},
   "outputs": [],
   "source": [
    "#table['remove'] = [1,2,3,0,0]\n",
    "#table.head()"
   ]
  },
  {
   "cell_type": "code",
   "execution_count": 12,
   "metadata": {},
   "outputs": [],
   "source": [
    "#Remove some lines with positive link to have 80%**"
   ]
  },
  {
   "cell_type": "code",
   "execution_count": 13,
   "metadata": {},
   "outputs": [],
   "source": [
    "#data_remove = pd.concat((data_total[data_total['LINK_SENTIMENT']==-1], data_total[data_total['LINK_SENTIMENT']==1].head(329660)))\n",
    "\n",
    "#nb_edges_remove = data_remove.shape[0]\n",
    "#nb_nodes_remove = np.unique(np.concatenate((data_remove['SOURCE_SUBREDDIT'].values , data_remove['TARGET_SUBREDDIT'].values))).shape[0]\n",
    "\n",
    "#nb_pos_edges_remove = data_remove[data_remove['LINK_SENTIMENT']==1].shape[0] \n",
    "#nb_neg_edges_remove = data_remove[data_remove['LINK_SENTIMENT']==-1].shape[0]\n",
    "\n",
    "#perc_pos_remove = nb_pos_edges_remove / nb_edges_remove\n",
    "#perc_neg_remove = nb_neg_edges_remove / nb_edges_remove\n",
    "\n",
    "#table['remove'] = [nb_nodes_remove, nb_edges_remove, '{:.1%}'.format(perc_pos_remove), '{:.1%}'.format(perc_neg_remove), 0]\n",
    "#table.head()"
   ]
  },
  {
   "cell_type": "markdown",
   "metadata": {},
   "source": [
    "# Analysis of Time "
   ]
  },
  {
   "cell_type": "markdown",
   "metadata": {},
   "source": [
    "## Analyzing the global trend "
   ]
  },
  {
   "cell_type": "markdown",
   "metadata": {},
   "source": [
    "**NOTE FOR PART 2** : On the following analysis we will only consider the body dataset from reddit. As we will use sentiment score, it seams more relevant to use the one computed from a text than from a single title as it will be more nuanced and thus will represent better the overall idea of the post. "
   ]
  },
  {
   "cell_type": "markdown",
   "metadata": {},
   "source": [
    "### **Step 0**  : Work with datetime data"
   ]
  },
  {
   "cell_type": "code",
   "execution_count": 30,
   "metadata": {},
   "outputs": [
    {
     "name": "stdout",
     "output_type": "stream",
     "text": [
      "Exemple : the date of the first post of the dataset is : 2013-12-31 17:37:55\n",
      " Its type is  <class 'str'>\n"
     ]
    }
   ],
   "source": [
    "print('Exemple : the date of the first post of the dataset is : {}'.format(data_body['TIMESTAMP'][3]))\n",
    "print(' Its type is ',type(data_body['TIMESTAMP'][3]))"
   ]
  },
  {
   "cell_type": "markdown",
   "metadata": {},
   "source": [
    "Here the date are strings, so we need to convert them into datetime form as we want to do time manipulation (e.g. year example). "
   ]
  },
  {
   "cell_type": "code",
   "execution_count": 33,
   "metadata": {},
   "outputs": [],
   "source": [
    "# Useful libraries \n",
    "from datetime import datetime, date, time\n",
    "import calendar "
   ]
  },
  {
   "cell_type": "code",
   "execution_count": 34,
   "metadata": {},
   "outputs": [
    {
     "data": {
      "text/html": [
       "<div>\n",
       "<style scoped>\n",
       "    .dataframe tbody tr th:only-of-type {\n",
       "        vertical-align: middle;\n",
       "    }\n",
       "\n",
       "    .dataframe tbody tr th {\n",
       "        vertical-align: top;\n",
       "    }\n",
       "\n",
       "    .dataframe thead th {\n",
       "        text-align: right;\n",
       "    }\n",
       "</style>\n",
       "<table border=\"1\" class=\"dataframe\">\n",
       "  <thead>\n",
       "    <tr style=\"text-align: right;\">\n",
       "      <th></th>\n",
       "      <th>SOURCE_SUBREDDIT</th>\n",
       "      <th>TARGET_SUBREDDIT</th>\n",
       "      <th>POST_ID</th>\n",
       "      <th>TIMESTAMP</th>\n",
       "      <th>LINK_SENTIMENT</th>\n",
       "      <th>PROPERTIES</th>\n",
       "      <th>DATETIME</th>\n",
       "    </tr>\n",
       "  </thead>\n",
       "  <tbody>\n",
       "    <tr>\n",
       "      <th>0</th>\n",
       "      <td>leagueoflegends</td>\n",
       "      <td>teamredditteams</td>\n",
       "      <td>1u4nrps</td>\n",
       "      <td>2013-12-31 16:39:58</td>\n",
       "      <td>1</td>\n",
       "      <td>345.0,298.0,0.75652173913,0.0173913043478,0.08...</td>\n",
       "      <td>0.0</td>\n",
       "    </tr>\n",
       "    <tr>\n",
       "      <th>1</th>\n",
       "      <td>theredlion</td>\n",
       "      <td>soccer</td>\n",
       "      <td>1u4qkd</td>\n",
       "      <td>2013-12-31 18:18:37</td>\n",
       "      <td>-1</td>\n",
       "      <td>101.0,98.0,0.742574257426,0.019801980198,0.049...</td>\n",
       "      <td>0.0</td>\n",
       "    </tr>\n",
       "    <tr>\n",
       "      <th>2</th>\n",
       "      <td>inlandempire</td>\n",
       "      <td>bikela</td>\n",
       "      <td>1u4qlzs</td>\n",
       "      <td>2014-01-01 14:54:35</td>\n",
       "      <td>1</td>\n",
       "      <td>85.0,85.0,0.752941176471,0.0235294117647,0.082...</td>\n",
       "      <td>0.0</td>\n",
       "    </tr>\n",
       "    <tr>\n",
       "      <th>3</th>\n",
       "      <td>nfl</td>\n",
       "      <td>cfb</td>\n",
       "      <td>1u4sjvs</td>\n",
       "      <td>2013-12-31 17:37:55</td>\n",
       "      <td>1</td>\n",
       "      <td>1124.0,949.0,0.772241992883,0.0017793594306,0....</td>\n",
       "      <td>0.0</td>\n",
       "    </tr>\n",
       "    <tr>\n",
       "      <th>4</th>\n",
       "      <td>playmygame</td>\n",
       "      <td>gamedev</td>\n",
       "      <td>1u4w5ss</td>\n",
       "      <td>2014-01-01 02:51:13</td>\n",
       "      <td>1</td>\n",
       "      <td>715.0,622.0,0.777622377622,0.00699300699301,0....</td>\n",
       "      <td>0.0</td>\n",
       "    </tr>\n",
       "  </tbody>\n",
       "</table>\n",
       "</div>"
      ],
      "text/plain": [
       "  SOURCE_SUBREDDIT TARGET_SUBREDDIT  POST_ID            TIMESTAMP  \\\n",
       "0  leagueoflegends  teamredditteams  1u4nrps  2013-12-31 16:39:58   \n",
       "1       theredlion           soccer   1u4qkd  2013-12-31 18:18:37   \n",
       "2     inlandempire           bikela  1u4qlzs  2014-01-01 14:54:35   \n",
       "3              nfl              cfb  1u4sjvs  2013-12-31 17:37:55   \n",
       "4       playmygame          gamedev  1u4w5ss  2014-01-01 02:51:13   \n",
       "\n",
       "   LINK_SENTIMENT                                         PROPERTIES  DATETIME  \n",
       "0               1  345.0,298.0,0.75652173913,0.0173913043478,0.08...       0.0  \n",
       "1              -1  101.0,98.0,0.742574257426,0.019801980198,0.049...       0.0  \n",
       "2               1  85.0,85.0,0.752941176471,0.0235294117647,0.082...       0.0  \n",
       "3               1  1124.0,949.0,0.772241992883,0.0017793594306,0....       0.0  \n",
       "4               1  715.0,622.0,0.777622377622,0.00699300699301,0....       0.0  "
      ]
     },
     "execution_count": 34,
     "metadata": {},
     "output_type": "execute_result"
    }
   ],
   "source": [
    "# create the new column in the dataframe\n",
    "data_body['DATETIME'] = 0.0\n",
    "data_body.head()"
   ]
  },
  {
   "cell_type": "code",
   "execution_count": 35,
   "metadata": {},
   "outputs": [
    {
     "name": "stderr",
     "output_type": "stream",
     "text": [
      "<ipython-input-35-508a6d45eb1c>:3: SettingWithCopyWarning: \n",
      "A value is trying to be set on a copy of a slice from a DataFrame\n",
      "\n",
      "See the caveats in the documentation: https://pandas.pydata.org/pandas-docs/stable/user_guide/indexing.html#returning-a-view-versus-a-copy\n",
      "  data_body['DATETIME'][i] = datetime.strptime(data_body['TIMESTAMP'][0], \"%Y-%m-%d %H:%M:%S\")\n",
      "/home/laurine/anaconda3/lib/python3.8/site-packages/pandas/core/indexing.py:670: SettingWithCopyWarning: \n",
      "A value is trying to be set on a copy of a slice from a DataFrame\n",
      "\n",
      "See the caveats in the documentation: https://pandas.pydata.org/pandas-docs/stable/user_guide/indexing.html#returning-a-view-versus-a-copy\n",
      "  iloc._setitem_with_indexer(indexer, value)\n"
     ]
    },
    {
     "data": {
      "text/html": [
       "<div>\n",
       "<style scoped>\n",
       "    .dataframe tbody tr th:only-of-type {\n",
       "        vertical-align: middle;\n",
       "    }\n",
       "\n",
       "    .dataframe tbody tr th {\n",
       "        vertical-align: top;\n",
       "    }\n",
       "\n",
       "    .dataframe thead th {\n",
       "        text-align: right;\n",
       "    }\n",
       "</style>\n",
       "<table border=\"1\" class=\"dataframe\">\n",
       "  <thead>\n",
       "    <tr style=\"text-align: right;\">\n",
       "      <th></th>\n",
       "      <th>SOURCE_SUBREDDIT</th>\n",
       "      <th>TARGET_SUBREDDIT</th>\n",
       "      <th>POST_ID</th>\n",
       "      <th>TIMESTAMP</th>\n",
       "      <th>LINK_SENTIMENT</th>\n",
       "      <th>PROPERTIES</th>\n",
       "      <th>DATETIME</th>\n",
       "    </tr>\n",
       "  </thead>\n",
       "  <tbody>\n",
       "    <tr>\n",
       "      <th>0</th>\n",
       "      <td>leagueoflegends</td>\n",
       "      <td>teamredditteams</td>\n",
       "      <td>1u4nrps</td>\n",
       "      <td>2013-12-31 16:39:58</td>\n",
       "      <td>1</td>\n",
       "      <td>345.0,298.0,0.75652173913,0.0173913043478,0.08...</td>\n",
       "      <td>2013-12-31 16:39:58</td>\n",
       "    </tr>\n",
       "    <tr>\n",
       "      <th>1</th>\n",
       "      <td>theredlion</td>\n",
       "      <td>soccer</td>\n",
       "      <td>1u4qkd</td>\n",
       "      <td>2013-12-31 18:18:37</td>\n",
       "      <td>-1</td>\n",
       "      <td>101.0,98.0,0.742574257426,0.019801980198,0.049...</td>\n",
       "      <td>2013-12-31 16:39:58</td>\n",
       "    </tr>\n",
       "    <tr>\n",
       "      <th>2</th>\n",
       "      <td>inlandempire</td>\n",
       "      <td>bikela</td>\n",
       "      <td>1u4qlzs</td>\n",
       "      <td>2014-01-01 14:54:35</td>\n",
       "      <td>1</td>\n",
       "      <td>85.0,85.0,0.752941176471,0.0235294117647,0.082...</td>\n",
       "      <td>2013-12-31 16:39:58</td>\n",
       "    </tr>\n",
       "    <tr>\n",
       "      <th>3</th>\n",
       "      <td>nfl</td>\n",
       "      <td>cfb</td>\n",
       "      <td>1u4sjvs</td>\n",
       "      <td>2013-12-31 17:37:55</td>\n",
       "      <td>1</td>\n",
       "      <td>1124.0,949.0,0.772241992883,0.0017793594306,0....</td>\n",
       "      <td>2013-12-31 16:39:58</td>\n",
       "    </tr>\n",
       "    <tr>\n",
       "      <th>4</th>\n",
       "      <td>playmygame</td>\n",
       "      <td>gamedev</td>\n",
       "      <td>1u4w5ss</td>\n",
       "      <td>2014-01-01 02:51:13</td>\n",
       "      <td>1</td>\n",
       "      <td>715.0,622.0,0.777622377622,0.00699300699301,0....</td>\n",
       "      <td>2013-12-31 16:39:58</td>\n",
       "    </tr>\n",
       "  </tbody>\n",
       "</table>\n",
       "</div>"
      ],
      "text/plain": [
       "  SOURCE_SUBREDDIT TARGET_SUBREDDIT  POST_ID            TIMESTAMP  \\\n",
       "0  leagueoflegends  teamredditteams  1u4nrps  2013-12-31 16:39:58   \n",
       "1       theredlion           soccer   1u4qkd  2013-12-31 18:18:37   \n",
       "2     inlandempire           bikela  1u4qlzs  2014-01-01 14:54:35   \n",
       "3              nfl              cfb  1u4sjvs  2013-12-31 17:37:55   \n",
       "4       playmygame          gamedev  1u4w5ss  2014-01-01 02:51:13   \n",
       "\n",
       "   LINK_SENTIMENT                                         PROPERTIES  \\\n",
       "0               1  345.0,298.0,0.75652173913,0.0173913043478,0.08...   \n",
       "1              -1  101.0,98.0,0.742574257426,0.019801980198,0.049...   \n",
       "2               1  85.0,85.0,0.752941176471,0.0235294117647,0.082...   \n",
       "3               1  1124.0,949.0,0.772241992883,0.0017793594306,0....   \n",
       "4               1  715.0,622.0,0.777622377622,0.00699300699301,0....   \n",
       "\n",
       "              DATETIME  \n",
       "0  2013-12-31 16:39:58  \n",
       "1  2013-12-31 16:39:58  \n",
       "2  2013-12-31 16:39:58  \n",
       "3  2013-12-31 16:39:58  \n",
       "4  2013-12-31 16:39:58  "
      ]
     },
     "execution_count": 35,
     "metadata": {},
     "output_type": "execute_result"
    }
   ],
   "source": [
    "# fill this new column with the datetime content\n",
    "for i in range(0, len(data_body)):\n",
    "    data_body['DATETIME'][i] = datetime.strptime(data_body['TIMESTAMP'][0], \"%Y-%m-%d %H:%M:%S\")\n",
    "data_body.head()"
   ]
  },
  {
   "cell_type": "code",
   "execution_count": 73,
   "metadata": {},
   "outputs": [],
   "source": [
    "data_body['DATETIME2'] = pd.to_datetime(data_body['TIMESTAMP'], format='%Y-%m-%d %H:%M:%S', errors='coerce')"
   ]
  },
  {
   "cell_type": "code",
   "execution_count": 74,
   "metadata": {},
   "outputs": [
    {
     "data": {
      "text/html": [
       "<div>\n",
       "<style scoped>\n",
       "    .dataframe tbody tr th:only-of-type {\n",
       "        vertical-align: middle;\n",
       "    }\n",
       "\n",
       "    .dataframe tbody tr th {\n",
       "        vertical-align: top;\n",
       "    }\n",
       "\n",
       "    .dataframe thead th {\n",
       "        text-align: right;\n",
       "    }\n",
       "</style>\n",
       "<table border=\"1\" class=\"dataframe\">\n",
       "  <thead>\n",
       "    <tr style=\"text-align: right;\">\n",
       "      <th></th>\n",
       "      <th>SOURCE_SUBREDDIT</th>\n",
       "      <th>TARGET_SUBREDDIT</th>\n",
       "      <th>POST_ID</th>\n",
       "      <th>TIMESTAMP</th>\n",
       "      <th>LINK_SENTIMENT</th>\n",
       "      <th>PROPERTIES</th>\n",
       "      <th>DATETIME</th>\n",
       "      <th>DATETIME2</th>\n",
       "    </tr>\n",
       "  </thead>\n",
       "  <tbody>\n",
       "    <tr>\n",
       "      <th>0</th>\n",
       "      <td>leagueoflegends</td>\n",
       "      <td>teamredditteams</td>\n",
       "      <td>1u4nrps</td>\n",
       "      <td>2013-12-31 16:39:58</td>\n",
       "      <td>1</td>\n",
       "      <td>345.0,298.0,0.75652173913,0.0173913043478,0.08...</td>\n",
       "      <td>2013-12-31 16:39:58</td>\n",
       "      <td>2013-12-31 16:39:58</td>\n",
       "    </tr>\n",
       "    <tr>\n",
       "      <th>1</th>\n",
       "      <td>theredlion</td>\n",
       "      <td>soccer</td>\n",
       "      <td>1u4qkd</td>\n",
       "      <td>2013-12-31 18:18:37</td>\n",
       "      <td>-1</td>\n",
       "      <td>101.0,98.0,0.742574257426,0.019801980198,0.049...</td>\n",
       "      <td>2013-12-31 16:39:58</td>\n",
       "      <td>2013-12-31 18:18:37</td>\n",
       "    </tr>\n",
       "    <tr>\n",
       "      <th>2</th>\n",
       "      <td>inlandempire</td>\n",
       "      <td>bikela</td>\n",
       "      <td>1u4qlzs</td>\n",
       "      <td>2014-01-01 14:54:35</td>\n",
       "      <td>1</td>\n",
       "      <td>85.0,85.0,0.752941176471,0.0235294117647,0.082...</td>\n",
       "      <td>2013-12-31 16:39:58</td>\n",
       "      <td>2014-01-01 14:54:35</td>\n",
       "    </tr>\n",
       "    <tr>\n",
       "      <th>3</th>\n",
       "      <td>nfl</td>\n",
       "      <td>cfb</td>\n",
       "      <td>1u4sjvs</td>\n",
       "      <td>2013-12-31 17:37:55</td>\n",
       "      <td>1</td>\n",
       "      <td>1124.0,949.0,0.772241992883,0.0017793594306,0....</td>\n",
       "      <td>2013-12-31 16:39:58</td>\n",
       "      <td>2013-12-31 17:37:55</td>\n",
       "    </tr>\n",
       "    <tr>\n",
       "      <th>4</th>\n",
       "      <td>playmygame</td>\n",
       "      <td>gamedev</td>\n",
       "      <td>1u4w5ss</td>\n",
       "      <td>2014-01-01 02:51:13</td>\n",
       "      <td>1</td>\n",
       "      <td>715.0,622.0,0.777622377622,0.00699300699301,0....</td>\n",
       "      <td>2013-12-31 16:39:58</td>\n",
       "      <td>2014-01-01 02:51:13</td>\n",
       "    </tr>\n",
       "  </tbody>\n",
       "</table>\n",
       "</div>"
      ],
      "text/plain": [
       "  SOURCE_SUBREDDIT TARGET_SUBREDDIT  POST_ID            TIMESTAMP  \\\n",
       "0  leagueoflegends  teamredditteams  1u4nrps  2013-12-31 16:39:58   \n",
       "1       theredlion           soccer   1u4qkd  2013-12-31 18:18:37   \n",
       "2     inlandempire           bikela  1u4qlzs  2014-01-01 14:54:35   \n",
       "3              nfl              cfb  1u4sjvs  2013-12-31 17:37:55   \n",
       "4       playmygame          gamedev  1u4w5ss  2014-01-01 02:51:13   \n",
       "\n",
       "   LINK_SENTIMENT                                         PROPERTIES  \\\n",
       "0               1  345.0,298.0,0.75652173913,0.0173913043478,0.08...   \n",
       "1              -1  101.0,98.0,0.742574257426,0.019801980198,0.049...   \n",
       "2               1  85.0,85.0,0.752941176471,0.0235294117647,0.082...   \n",
       "3               1  1124.0,949.0,0.772241992883,0.0017793594306,0....   \n",
       "4               1  715.0,622.0,0.777622377622,0.00699300699301,0....   \n",
       "\n",
       "              DATETIME           DATETIME2  \n",
       "0  2013-12-31 16:39:58 2013-12-31 16:39:58  \n",
       "1  2013-12-31 16:39:58 2013-12-31 18:18:37  \n",
       "2  2013-12-31 16:39:58 2014-01-01 14:54:35  \n",
       "3  2013-12-31 16:39:58 2013-12-31 17:37:55  \n",
       "4  2013-12-31 16:39:58 2014-01-01 02:51:13  "
      ]
     },
     "execution_count": 74,
     "metadata": {},
     "output_type": "execute_result"
    }
   ],
   "source": [
    "data_body.head()"
   ]
  },
  {
   "cell_type": "code",
   "execution_count": 75,
   "metadata": {},
   "outputs": [
    {
     "name": "stdout",
     "output_type": "stream",
     "text": [
      "<class 'pandas._libs.tslibs.timestamps.Timestamp'>\n"
     ]
    }
   ],
   "source": [
    "print(type(data_body['DATETIME2'][0]))"
   ]
  },
  {
   "cell_type": "code",
   "execution_count": 67,
   "metadata": {},
   "outputs": [],
   "source": [
    "data_body['DATETIME'] = data_body['DATETIME'].dropna()"
   ]
  },
  {
   "cell_type": "markdown",
   "metadata": {},
   "source": [
    "**Split the dataset into positive and negative edges**"
   ]
  },
  {
   "cell_type": "markdown",
   "metadata": {},
   "source": [
    "*Positif*"
   ]
  },
  {
   "cell_type": "code",
   "execution_count": 81,
   "metadata": {},
   "outputs": [
    {
     "name": "stdout",
     "output_type": "stream",
     "text": [
      "data body original .(286561, 8)\n",
      "body pos (265491, 8)\n"
     ]
    }
   ],
   "source": [
    "body_pos = data_body.copy()\n",
    "body_pos = body_pos.drop(body_pos[body_pos.LINK_SENTIMENT == -1.0].index)\n",
    "print('data body original .{}'.format(data_body.shape))\n",
    "print('body POS {}'.format(body_pos.shape))"
   ]
  },
  {
   "cell_type": "code",
   "execution_count": 85,
   "metadata": {},
   "outputs": [
    {
     "name": "stdout",
     "output_type": "stream",
     "text": [
      "In data body : sign of post 4 =  -1\n",
      "In body pos : sign of post 4 =  1\n"
     ]
    }
   ],
   "source": [
    "print('In data body : sign of post 4 = ', data_body.iloc[1][4])\n",
    "print('In body pos : sign of post 4 = ', body_pos.iloc[1][4])"
   ]
  },
  {
   "cell_type": "markdown",
   "metadata": {},
   "source": [
    "*Negatif*"
   ]
  },
  {
   "cell_type": "code",
   "execution_count": 93,
   "metadata": {},
   "outputs": [
    {
     "name": "stdout",
     "output_type": "stream",
     "text": [
      "data body original .(286561, 8)\n",
      "body NEG (21070, 8)\n"
     ]
    }
   ],
   "source": [
    "body_neg = data_body.copy()\n",
    "body_neg= body_neg.drop(body_pos[body_pos.LINK_SENTIMENT == 1.0].index)\n",
    "print('data body original .{}'.format(data_body.shape))\n",
    "print('body NEG {}'.format(body_neg.shape))"
   ]
  },
  {
   "cell_type": "code",
   "execution_count": 96,
   "metadata": {},
   "outputs": [
    {
     "name": "stdout",
     "output_type": "stream",
     "text": [
      "In data body : sign of post 4 =  1\n",
      "In body pos : sign of post 4 =  -1\n"
     ]
    }
   ],
   "source": [
    "print('In data body : sign of post 4 = ', data_body.iloc[0][4])\n",
    "print('In body pos : sign of post 4 = ', body_neg.iloc[0][4])"
   ]
  },
  {
   "cell_type": "markdown",
   "metadata": {},
   "source": [
    "### Step 1 : Analysis of the year"
   ]
  },
  {
   "cell_type": "code",
   "execution_count": 68,
   "metadata": {},
   "outputs": [],
   "source": [
    "import matplotlib.pyplot as plt"
   ]
  },
  {
   "cell_type": "code",
   "execution_count": 105,
   "metadata": {},
   "outputs": [
    {
     "name": "stdout",
     "output_type": "stream",
     "text": [
      "<class 'pandas._libs.tslibs.timestamps.Timestamp'>\n",
      "<class 'pandas._libs.tslibs.timestamps.Timestamp'>\n"
     ]
    }
   ],
   "source": [
    "# verify the type of data time \n",
    "print(type(data_body.DATETIME2[0]))\n",
    "print(type(body_pos.DATETIME2[0]))"
   ]
  },
  {
   "cell_type": "code",
   "execution_count": 127,
   "metadata": {
    "scrolled": true
   },
   "outputs": [
    {
     "name": "stdout",
     "output_type": "stream",
     "text": [
      "Year Positive DATETIME2\n",
      "2013        6\n",
      "2014    58522\n",
      "2015    82189\n",
      "2016    90819\n",
      "2017    33955\n",
      "dtype: int64\n",
      "Year Negative DATETIME2\n",
      "2013        6\n",
      "2014    58522\n",
      "2015    82189\n",
      "2016    90819\n",
      "2017    33955\n",
      "dtype: int64\n"
     ]
    }
   ],
   "source": [
    "# Just to have an idea of what it'll look like. \n",
    "year_positive = body_pos.groupby(data_body['DATETIME2'].dt.year).size()\n",
    "year_negative = body_pos.groupby(data_body['DATETIME2'].dt.year).size()\n",
    "\n",
    "print('Year Positive', year_positive)\n",
    "print('Year Negative', year_negative)"
   ]
  },
  {
   "cell_type": "markdown",
   "metadata": {},
   "source": [
    "So there are 5 years presented in the dataset : 2013, 2014, 2015, 2016 and 2017. "
   ]
  },
  {
   "cell_type": "code",
   "execution_count": 134,
   "metadata": {},
   "outputs": [
    {
     "data": {
      "image/png": "[encoded data removed]",
      "text/plain": [
       "<Figure size 432x288 with 1 Axes>"
      ]
     },
     "metadata": {
      "needs_background": "light"
     },
     "output_type": "display_data"
    }
   ],
   "source": [
    "N = 5\n",
    "ind = np.arange(N)  # the x locations for the groups\n",
    "width = 0.27       # the width of the bars\n",
    "\n",
    "fig = plt.figure()\n",
    "ax = fig.add_subplot(111)\n",
    "\n",
    " \n",
    "year_pos = body_pos.groupby(data_body['DATETIME2'].dt.year).size()\n",
    "rects1 = ax.bar(ind, year_pos, width, color='g')\n",
    "year_neg = body_neg.groupby(data_body['DATETIME2'].dt.year).size()\n",
    "rects2 = ax.bar(ind+width, year_neg, width, color='r')\n",
    "\n",
    "ax.set_ylabel('Number of posts')\n",
    "ax.set_xlabel('Year')\n",
    "ax.set_title('Distribution of the positive and negative posts along the year')\n",
    "ax.set_xticks(ind+width)\n",
    "ax.set_xticklabels( ('2013', '2014', '2015', '2016', '2017') )\n",
    "ax.legend( (rects1[0], rects2[0]), ('positif', 'negatif') )\n",
    "\n",
    "plt.show()"
   ]
  },
  {
   "cell_type": "markdown",
   "metadata": {},
   "source": [
    "**Analysis :** \n",
    "- the number of post in 2013 is inexistant on the graph"
   ]
  },
  {
   "cell_type": "code",
   "execution_count": 122,
   "metadata": {},
   "outputs": [
    {
     "name": "stdout",
     "output_type": "stream",
     "text": [
      "The number of positive posts in 2013 is  6\n",
      "The number of negative posts in 2013 is  1\n",
      "So the total number of posts in 2013 is 7 while in 2016 it is 98229\n"
     ]
    }
   ],
   "source": [
    "print('The number of positive posts in 2013 is ', vals_pos.iloc[0])\n",
    "print('The number of negative posts in 2013 is ', vals_neg.iloc[0])\n",
    "print('So the total number of posts in 2013 is {} while in 2016 it is {}'.format(vals_pos.iloc[0]+vals_neg.iloc[0], vals_pos.iloc[3]+vals_neg.iloc[3]))"
   ]
  },
  {
   "cell_type": "markdown",
   "metadata": {},
   "source": [
    "As we can see here, it might come from a problem of scale, as the amount of posts during 2013 is very very small compared to the number of posts 2016. It could be explained by the gain of popularity of the website, or the change in behavior of the population (who is more and more connected via internet and social network, and have better access to technology). \n",
    "\n",
    "- the brutal decrease in 2017 in both positive and negative edges might be explained by loose of popularity, or the apparition of another website more performant than reddit. \n",
    "\n",
    "- the number of negative posts is quite constant among the year 2014-2015-2016\n",
    "- the number of positive posts increases between 2014 - 2016 \n",
    "\n",
    "**Ccl :** In order to assess the impact of the **YEAR** on the structure of the network, we can compare 2 subgraphs : \n",
    "> - from the year 2014\n",
    "> - from the year 2016 "
   ]
  },
  {
   "cell_type": "markdown",
   "metadata": {},
   "source": [
    "### Step 2: Analysis of the month "
   ]
  },
  {
   "cell_type": "code",
   "execution_count": 128,
   "metadata": {},
   "outputs": [
    {
     "name": "stdout",
     "output_type": "stream",
     "text": [
      "Month Positive DATETIME2\n",
      "1     26068\n",
      "2     26385\n",
      "3     28684\n",
      "4     27303\n",
      "5     18860\n",
      "6     19599\n",
      "7     20619\n",
      "8     21400\n",
      "9     18128\n",
      "10    19508\n",
      "11    19046\n",
      "12    19891\n",
      "dtype: int64\n",
      "Month Negative DATETIME2\n",
      "1     26068\n",
      "2     26385\n",
      "3     28684\n",
      "4     27303\n",
      "5     18860\n",
      "6     19599\n",
      "7     20619\n",
      "8     21400\n",
      "9     18128\n",
      "10    19508\n",
      "11    19046\n",
      "12    19891\n",
      "dtype: int64\n"
     ]
    }
   ],
   "source": [
    "month_positive = body_pos.groupby(data_body['DATETIME2'].dt.month).size()\n",
    "month_negative = body_pos.groupby(data_body['DATETIME2'].dt.month).size()\n",
    "print('Month Positive', month_positive)\n",
    "print('Month Negative', month_negative)"
   ]
  },
  {
   "cell_type": "markdown",
   "metadata": {},
   "source": [
    "So 12 months are represented : 01 ... 12 in the dataset. "
   ]
  },
  {
   "cell_type": "code",
   "execution_count": 135,
   "metadata": {},
   "outputs": [
    {
     "data": {
      "image/png": "[encoded data removed]",
      "text/plain": [
       "<Figure size 432x288 with 1 Axes>"
      ]
     },
     "metadata": {
      "needs_background": "light"
     },
     "output_type": "display_data"
    }
   ],
   "source": [
    "N = 12\n",
    "ind = np.arange(N)  # the x locations for the groups\n",
    "width = 0.27       # the width of the bars\n",
    "\n",
    "fig = plt.figure()\n",
    "ax = fig.add_subplot(111)\n",
    "\n",
    " \n",
    "month_pos = body_pos.groupby(data_body['DATETIME2'].dt.month).size()\n",
    "rects1 = ax.bar(ind, month_pos, width, color='g')\n",
    "month_neg = body_neg.groupby(data_body['DATETIME2'].dt.month).size()\n",
    "rects2 = ax.bar(ind+width, month_neg, width, color='r')\n",
    "\n",
    "ax.set_ylabel('Number of posts')\n",
    "ax.set_xlabel('Month')\n",
    "ax.set_title('Distribution of the positive and negative posts from January to December')\n",
    "ax.set_xticks(ind+width)\n",
    "ax.set_xticklabels( ('01', '02', '03', '04', '05', '06', '07', '08', '09', '10', '11', '12'))\n",
    "ax.legend( (rects1[0], rects2[0]), ('positif', 'negatif') )\n",
    "\n",
    "plt.show()"
   ]
  },
  {
   "cell_type": "markdown",
   "metadata": {},
   "source": [
    "**Analysis :**\n",
    "- All the month do have posts\n",
    "- The difference between the number of positive and negative posts is huge, all along the year and depsite intern fluctation\n",
    "- The number of negative posts can be considered quite constant along the months as its variation is significantly smaller than the one for positive posts counts. (**Computer statistical measure of the variation ??**)\n",
    "- For positive vote we can identify two big part. The first one from 01 to 04 included, which has number of counts around 25 000 - 30 000, and the second one from 05 to 12, whish has number of counts around 20 000\n"
   ]
  },
  {
   "cell_type": "code",
   "execution_count": 153,
   "metadata": {},
   "outputs": [],
   "source": [
    "import statistics"
   ]
  },
  {
   "cell_type": "code",
   "execution_count": 163,
   "metadata": {},
   "outputs": [
    {
     "name": "stdout",
     "output_type": "stream",
     "text": [
      "The mean count of posts from jan. to apr. is  27110\n",
      "The difference between number of counts and mean for jan. feb. march and april is respectively: \n",
      " [1042, 725, 1574, 193]\n"
     ]
    }
   ],
   "source": [
    "mean_0104_pos = statistics.mean([month_pos.iloc[0], month_pos.iloc[1], month_pos.iloc[2], month_pos.iloc[3]])\n",
    "print('The mean count of posts from jan. to apr. is ', mean_0104_pos)\n",
    "print('The difference between number of counts and mean for jan. feb. march and april is respectively: \\n',[abs(x - mean_0104_pos) for x in [month_pos.iloc[0], month_pos.iloc[1], month_pos.iloc[2], month_pos.iloc[3]]])"
   ]
  },
  {
   "cell_type": "markdown",
   "metadata": {},
   "source": [
    "So we see that the average value of positive post between january and april is 27110. We also see that the month with the number of counts the closer to this mean is april (it as the small difference, 193)."
   ]
  },
  {
   "cell_type": "code",
   "execution_count": 164,
   "metadata": {},
   "outputs": [
    {
     "name": "stdout",
     "output_type": "stream",
     "text": [
      "The mean count of posts from jan. to apr. is  19631\n",
      "The difference between number of counts and mean for jan. feb. march and april is respectively: \n",
      " [771, 32, 988, 1769, 1503, 123, 585, 260]\n"
     ]
    }
   ],
   "source": [
    "mean_0512_pos = statistics.mean([month_pos.iloc[4], month_pos.iloc[5], month_pos.iloc[6], month_pos.iloc[7], month_pos.iloc[8], month_pos.iloc[9], month_pos.iloc[10], month_pos.iloc[11]])\n",
    "print('The mean count of posts from jan. to apr. is ', mean_0512_pos)\n",
    "print('The difference between number of counts and mean for jan. feb. march and april is respectively: \\n',[abs(x - mean_0512_pos) for x in [month_pos.iloc[4], month_pos.iloc[5], month_pos.iloc[6], month_pos.iloc[7], month_pos.iloc[8], month_pos.iloc[9], month_pos.iloc[10], month_pos.iloc[11]]])"
   ]
  },
  {
   "cell_type": "markdown",
   "metadata": {},
   "source": [
    "So we see that the average number of positive counts between may and december is 19 631. We also see tha the month which has the closed number of counts compared to the average is june because is has the smalle difference (32)."
   ]
  },
  {
   "cell_type": "markdown",
   "metadata": {},
   "source": [
    "**Ccl :** In order to assess the impact of the **MONTH** on the structure of the network, we can compare 2 subgraphs : \n",
    "> - from april (representative of the first group, with counts between 25 000 and 30 000)\n",
    "> - from june (representative of the second group, with counts around 20 000)"
   ]
  },
  {
   "cell_type": "markdown",
   "metadata": {},
   "source": [
    "### Step 3: Analysis of the day"
   ]
  },
  {
   "cell_type": "code",
   "execution_count": 165,
   "metadata": {},
   "outputs": [
    {
     "name": "stdout",
     "output_type": "stream",
     "text": [
      "Month Positive DATETIME2\n",
      "1     8651\n",
      "2     9225\n",
      "3     8881\n",
      "4     8321\n",
      "5     8576\n",
      "6     8792\n",
      "7     8391\n",
      "8     8463\n",
      "9     8516\n",
      "10    8744\n",
      "11    8905\n",
      "12    8655\n",
      "13    8707\n",
      "14    8350\n",
      "15    8936\n",
      "16    9220\n",
      "17    9145\n",
      "18    8801\n",
      "19    8576\n",
      "20    9160\n",
      "21    8503\n",
      "22    8740\n",
      "23    8622\n",
      "24    8713\n",
      "25    8601\n",
      "26    8468\n",
      "27    8988\n",
      "28    8667\n",
      "29    8008\n",
      "30    8113\n",
      "31    5053\n",
      "dtype: int64\n",
      "Month Negative DATETIME2\n",
      "1     8651\n",
      "2     9225\n",
      "3     8881\n",
      "4     8321\n",
      "5     8576\n",
      "6     8792\n",
      "7     8391\n",
      "8     8463\n",
      "9     8516\n",
      "10    8744\n",
      "11    8905\n",
      "12    8655\n",
      "13    8707\n",
      "14    8350\n",
      "15    8936\n",
      "16    9220\n",
      "17    9145\n",
      "18    8801\n",
      "19    8576\n",
      "20    9160\n",
      "21    8503\n",
      "22    8740\n",
      "23    8622\n",
      "24    8713\n",
      "25    8601\n",
      "26    8468\n",
      "27    8988\n",
      "28    8667\n",
      "29    8008\n",
      "30    8113\n",
      "31    5053\n",
      "dtype: int64\n"
     ]
    }
   ],
   "source": [
    "day_positive = body_pos.groupby(data_body['DATETIME2'].dt.day).size()\n",
    "day_negative = body_pos.groupby(data_body['DATETIME2'].dt.day).size()\n",
    "print('Month Positive', day_positive)\n",
    "print('Month Negative', day_negative)"
   ]
  },
  {
   "cell_type": "markdown",
   "metadata": {},
   "source": [
    "So we see that all the 31 days of a month are represented in the dataset. "
   ]
  },
  {
   "cell_type": "code",
   "execution_count": 174,
   "metadata": {},
   "outputs": [
    {
     "data": {
      "image/png": "[encoded data removed]",
      "text/plain": [
       "<Figure size 432x288 with 1 Axes>"
      ]
     },
     "metadata": {
      "needs_background": "light"
     },
     "output_type": "display_data"
    }
   ],
   "source": [
    "N = 31\n",
    "ind = np.arange(N)  # the x locations for the groups\n",
    "width = 0.27       # the width of the bars\n",
    "\n",
    "fig = plt.figure()\n",
    "ax = fig.add_subplot(111)\n",
    "\n",
    " \n",
    "day_pos = body_pos.groupby(data_body['DATETIME2'].dt.day).size()\n",
    "rects1 = ax.bar(ind, day_pos, width, color='g')\n",
    "day_neg = body_neg.groupby(data_body['DATETIME2'].dt.day).size()\n",
    "rects2 = ax.bar(ind+width, day_neg, width, color='r')\n",
    "\n",
    "ax.set_ylabel('Number of posts')\n",
    "ax.set_xlabel('Day')\n",
    "ax.set_title('Distribution of the positive and negative posts along the days of a month')\n",
    "ax.set_xticks(ind+width)\n",
    "ax.set_xticklabels( ('01', '02', '03', '04', '05', '06', '07', '08', '09', '10', '11', '12', '13', '14', '15', '16', '17', '18', '19', '20', '21', '22', '23', '24', '25', '26' ,'27', '28', '29', '30', '31'))\n",
    "ax.legend((rects1[0], rects2[0]), ('positif', 'negatif'))\n",
    "\n",
    "plt.show()"
   ]
  },
  {
   "cell_type": "markdown",
   "metadata": {},
   "source": [
    "**Analysis :** \n",
    "- graph not very lisible (**Change the size ?**)\n",
    "- the abrupt decrease for day 31 is because only half of the month in a year have a 31th day, so obviously there are less posts (pos and neg) done that day\n",
    "- the amount of positive post is very small compared to amount of positif posts, for all the days \n",
    "- General manner : both positive and negative counts seams to be relatively constant along the days of a month, they are some fluctuations (more visible for positive posts) but it is hard to highlight clear trend. \n",
    "\n",
    "**Ccle :** We need to do further analysis on the days to be able to identify trends. So we are going to look at the number of posts according to the day of the weem: monday, tuesday ... sunday. "
   ]
  },
  {
   "cell_type": "markdown",
   "metadata": {},
   "source": [
    "#### Step 3 : cont. Analysis day of the week"
   ]
  },
  {
   "cell_type": "code",
   "execution_count": 175,
   "metadata": {},
   "outputs": [
    {
     "name": "stdout",
     "output_type": "stream",
     "text": [
      "Month Positive DATETIME2\n",
      "0    40159\n",
      "1    40843\n",
      "2    39901\n",
      "3    39640\n",
      "4    37585\n",
      "5    32792\n",
      "6    34571\n",
      "dtype: int64\n",
      "Month Negative DATETIME2\n",
      "0    40159\n",
      "1    40843\n",
      "2    39901\n",
      "3    39640\n",
      "4    37585\n",
      "5    32792\n",
      "6    34571\n",
      "dtype: int64\n"
     ]
    }
   ],
   "source": [
    "day_positive = body_pos.groupby(data_body['DATETIME2'].dt.weekday).size()\n",
    "day_negative = body_pos.groupby(data_body['DATETIME2'].dt.weekday).size()\n",
    "print('Month Positive', day_positive)\n",
    "print('Month Negative', day_negative)"
   ]
  },
  {
   "cell_type": "markdown",
   "metadata": {},
   "source": [
    "So the days reprensented in the dataset are from 0 (monday) to 6 (sunday). "
   ]
  },
  {
   "cell_type": "code",
   "execution_count": 179,
   "metadata": {},
   "outputs": [
    {
     "data": {
      "image/png": "[encoded data removed]",
      "text/plain": [
       "<Figure size 432x288 with 1 Axes>"
      ]
     },
     "metadata": {
      "needs_background": "light"
     },
     "output_type": "display_data"
    }
   ],
   "source": [
    "N = 7\n",
    "ind = np.arange(N)  # the x locations for the groups\n",
    "width = 0.27       # the width of the bars\n",
    "\n",
    "fig = plt.figure()\n",
    "ax = fig.add_subplot(111)\n",
    "\n",
    " \n",
    "dayw_pos = body_pos.groupby(data_body['DATETIME2'].dt.weekday).size()\n",
    "rects1 = ax.bar(ind, dayw_pos, width, color='g')\n",
    "dayw_neg = body_neg.groupby(data_body['DATETIME2'].dt.weekday).size()\n",
    "rects2 = ax.bar(ind+width, dayw_neg, width, color='r')\n",
    "\n",
    "ax.set_ylabel('Number of posts')\n",
    "ax.set_xlabel('Day')\n",
    "ax.set_title('Distribution of the positive and negative posts along the days of a month')\n",
    "ax.set_xticks(ind+width)\n",
    "ax.set_xticklabels( ('mon.', 'tue.', 'wed.', 'thu.', 'fri.', 'sat.', 'sun.'))\n",
    "ax.legend((rects1[0], rects2[0]), ('positif', 'negatif'))\n",
    "\n",
    "plt.show()"
   ]
  },
  {
   "cell_type": "markdown",
   "metadata": {},
   "source": [
    "**Analysis :**\n",
    "- As for the other parameter (year, month, day of the month), the amount of positive posts is higher than the amount of negative posts\n",
    "- The amount of negative posts is quite constant along the week \n",
    "- the amount of positive posts is smaller the week end, and quite constant during the week. It might be explained by the routine of the week, so the habits of beeing on the website for coffe break for example, while the week end, the events are more random and technology connection can be smaller. \n"
   ]
  },
  {
   "cell_type": "code",
   "execution_count": 177,
   "metadata": {},
   "outputs": [
    {
     "name": "stdout",
     "output_type": "stream",
     "text": [
      "The mean count of posts from monday. to friday. is  39625\n",
      "The difference between number of counts and mean for monday, tuesday, wednesday, thursday and friday respectively: \n",
      " [534, 1218, 276, 15, 2040]\n"
     ]
    }
   ],
   "source": [
    "mean_monfrid_pos = statistics.mean([dayw_pos.iloc[0], dayw_pos.iloc[1], dayw_pos.iloc[2], dayw_pos.iloc[3], dayw_pos.iloc[4]])\n",
    "print('The mean count of posts from monday. to friday. is ', mean_monfrid_pos)\n",
    "print('The difference between number of counts and mean for monday, tuesday, wednesday, thursday and friday respectively: \\n',[abs(x - mean_monfrid_pos) for x in [dayw_pos.iloc[0], dayw_pos.iloc[1], dayw_pos.iloc[2], dayw_pos.iloc[3], dayw_pos.iloc[4]]])"
   ]
  },
  {
   "cell_type": "markdown",
   "metadata": {},
   "source": [
    "So we see that the average of positive posts along the 'work week' (monday to friday) is 39 625. And we see that the day with the closer amount of posts to the average is thursday, because the difference is the smaller (15). "
   ]
  },
  {
   "cell_type": "code",
   "execution_count": 180,
   "metadata": {
    "scrolled": true
   },
   "outputs": [
    {
     "name": "stdout",
     "output_type": "stream",
     "text": [
      "The mean count of posts from monday. to friday. is  33681\n",
      "The difference between number of counts and mean for saturday and sunday respectively: \n",
      " [889, 890]\n"
     ]
    }
   ],
   "source": [
    "mean_satsun_pos = statistics.mean([dayw_pos.iloc[5], dayw_pos.iloc[6]])\n",
    "print('The mean count of posts from monday. to friday. is ', mean_satsun_pos)\n",
    "print('The difference between number of counts and mean for saturday and sunday respectively: \\n',[abs(x - mean_satsun_pos) for x in [dayw_pos.iloc[5], dayw_pos.iloc[6]]])"
   ]
  },
  {
   "cell_type": "markdown",
   "metadata": {},
   "source": [
    "So here we see the average number of posts for the weekend drop at 33 681. And we see that both saturday and sunday are at equal distance. \n",
    "As we want to be representative of the week end in our analysis, we will choose sunday, because some people are still working on the saturday and thus might have the same behavior as during the week. Thus sunday is more representative of the weekend for everyone. "
   ]
  },
  {
   "cell_type": "code",
   "execution_count": null,
   "metadata": {},
   "outputs": [],
   "source": [
    "**Ccl :** In order to assess the impact of the **DAY OF THE WEEK** on the structure of the network, we can compare 2 subgraphs : \n",
    "> - from thursday (representative of 'work week')\n",
    "> - from june (representative of the second group, with counts around 20 000)"
   ]
  }
 ],
 "metadata": {
  "kernelspec": {
   "display_name": "Python 3",
   "language": "python",
   "name": "python3"
  },
  "language_info": {
   "codemirror_mode": {
    "name": "ipython",
    "version": 3
   },
   "file_extension": ".py",
   "mimetype": "text/x-python",
   "name": "python",
   "nbconvert_exporter": "python",
   "pygments_lexer": "ipython3",
   "version": "3.8.5"
  }
 },
 "nbformat": 4,
 "nbformat_minor": 4
}
