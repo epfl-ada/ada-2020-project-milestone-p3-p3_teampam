{
 "cells": [
  {
   "cell_type": "markdown",
   "metadata": {},
   "source": [
    "# P3"
   ]
  },
  {
   "cell_type": "markdown",
   "metadata": {},
   "source": [
    "# 1.The data"
   ]
  },
  {
   "cell_type": "code",
   "execution_count": 31,
   "metadata": {},
   "outputs": [],
   "source": [
    "import pandas as pd\n",
    "import numpy as np"
   ]
  },
  {
   "cell_type": "markdown",
   "metadata": {},
   "source": [
    "## 1.1 Load the data"
   ]
  },
  {
   "cell_type": "code",
   "execution_count": 3,
   "metadata": {},
   "outputs": [
    {
     "data": {
      "text/html": [
       "<div>\n",
       "<style scoped>\n",
       "    .dataframe tbody tr th:only-of-type {\n",
       "        vertical-align: middle;\n",
       "    }\n",
       "\n",
       "    .dataframe tbody tr th {\n",
       "        vertical-align: top;\n",
       "    }\n",
       "\n",
       "    .dataframe thead th {\n",
       "        text-align: right;\n",
       "    }\n",
       "</style>\n",
       "<table border=\"1\" class=\"dataframe\">\n",
       "  <thead>\n",
       "    <tr style=\"text-align: right;\">\n",
       "      <th></th>\n",
       "      <th>SOURCE_SUBREDDIT</th>\n",
       "      <th>TARGET_SUBREDDIT</th>\n",
       "      <th>POST_ID</th>\n",
       "      <th>TIMESTAMP</th>\n",
       "      <th>LINK_SENTIMENT</th>\n",
       "      <th>PROPERTIES</th>\n",
       "    </tr>\n",
       "  </thead>\n",
       "  <tbody>\n",
       "    <tr>\n",
       "      <th>0</th>\n",
       "      <td>leagueoflegends</td>\n",
       "      <td>teamredditteams</td>\n",
       "      <td>1u4nrps</td>\n",
       "      <td>2013-12-31 16:39:58</td>\n",
       "      <td>1</td>\n",
       "      <td>345.0,298.0,0.75652173913,0.0173913043478,0.08...</td>\n",
       "    </tr>\n",
       "    <tr>\n",
       "      <th>1</th>\n",
       "      <td>theredlion</td>\n",
       "      <td>soccer</td>\n",
       "      <td>1u4qkd</td>\n",
       "      <td>2013-12-31 18:18:37</td>\n",
       "      <td>-1</td>\n",
       "      <td>101.0,98.0,0.742574257426,0.019801980198,0.049...</td>\n",
       "    </tr>\n",
       "    <tr>\n",
       "      <th>2</th>\n",
       "      <td>inlandempire</td>\n",
       "      <td>bikela</td>\n",
       "      <td>1u4qlzs</td>\n",
       "      <td>2014-01-01 14:54:35</td>\n",
       "      <td>1</td>\n",
       "      <td>85.0,85.0,0.752941176471,0.0235294117647,0.082...</td>\n",
       "    </tr>\n",
       "    <tr>\n",
       "      <th>3</th>\n",
       "      <td>nfl</td>\n",
       "      <td>cfb</td>\n",
       "      <td>1u4sjvs</td>\n",
       "      <td>2013-12-31 17:37:55</td>\n",
       "      <td>1</td>\n",
       "      <td>1124.0,949.0,0.772241992883,0.0017793594306,0....</td>\n",
       "    </tr>\n",
       "    <tr>\n",
       "      <th>4</th>\n",
       "      <td>playmygame</td>\n",
       "      <td>gamedev</td>\n",
       "      <td>1u4w5ss</td>\n",
       "      <td>2014-01-01 02:51:13</td>\n",
       "      <td>1</td>\n",
       "      <td>715.0,622.0,0.777622377622,0.00699300699301,0....</td>\n",
       "    </tr>\n",
       "  </tbody>\n",
       "</table>\n",
       "</div>"
      ],
      "text/plain": [
       "  SOURCE_SUBREDDIT TARGET_SUBREDDIT  POST_ID            TIMESTAMP  \\\n",
       "0  leagueoflegends  teamredditteams  1u4nrps  2013-12-31 16:39:58   \n",
       "1       theredlion           soccer   1u4qkd  2013-12-31 18:18:37   \n",
       "2     inlandempire           bikela  1u4qlzs  2014-01-01 14:54:35   \n",
       "3              nfl              cfb  1u4sjvs  2013-12-31 17:37:55   \n",
       "4       playmygame          gamedev  1u4w5ss  2014-01-01 02:51:13   \n",
       "\n",
       "   LINK_SENTIMENT                                         PROPERTIES  \n",
       "0               1  345.0,298.0,0.75652173913,0.0173913043478,0.08...  \n",
       "1              -1  101.0,98.0,0.742574257426,0.019801980198,0.049...  \n",
       "2               1  85.0,85.0,0.752941176471,0.0235294117647,0.082...  \n",
       "3               1  1124.0,949.0,0.772241992883,0.0017793594306,0....  \n",
       "4               1  715.0,622.0,0.777622377622,0.00699300699301,0....  "
      ]
     },
     "execution_count": 3,
     "metadata": {},
     "output_type": "execute_result"
    }
   ],
   "source": [
    "data_body = pd.read_csv('soc-redditHyperlinks-body.tsv', sep = '\\t')\n",
    "data_title = pd.read_csv('soc-redditHyperlinks-title.tsv', sep = '\\t')\n",
    "data_body.head()"
   ]
  },
  {
   "cell_type": "code",
   "execution_count": 5,
   "metadata": {},
   "outputs": [
    {
     "data": {
      "text/html": [
       "<div>\n",
       "<style scoped>\n",
       "    .dataframe tbody tr th:only-of-type {\n",
       "        vertical-align: middle;\n",
       "    }\n",
       "\n",
       "    .dataframe tbody tr th {\n",
       "        vertical-align: top;\n",
       "    }\n",
       "\n",
       "    .dataframe thead th {\n",
       "        text-align: right;\n",
       "    }\n",
       "</style>\n",
       "<table border=\"1\" class=\"dataframe\">\n",
       "  <thead>\n",
       "    <tr style=\"text-align: right;\">\n",
       "      <th></th>\n",
       "      <th>SOURCE_SUBREDDIT</th>\n",
       "      <th>TARGET_SUBREDDIT</th>\n",
       "      <th>POST_ID</th>\n",
       "      <th>TIMESTAMP</th>\n",
       "      <th>LINK_SENTIMENT</th>\n",
       "      <th>PROPERTIES</th>\n",
       "    </tr>\n",
       "  </thead>\n",
       "  <tbody>\n",
       "    <tr>\n",
       "      <th>0</th>\n",
       "      <td>rddtgaming</td>\n",
       "      <td>rddtrust</td>\n",
       "      <td>1u4pzzs</td>\n",
       "      <td>2013-12-31 16:39:18</td>\n",
       "      <td>1</td>\n",
       "      <td>25.0,23.0,0.76,0.0,0.44,0.12,0.12,4.0,4.0,0.0,...</td>\n",
       "    </tr>\n",
       "    <tr>\n",
       "      <th>1</th>\n",
       "      <td>xboxone</td>\n",
       "      <td>battlefield_4</td>\n",
       "      <td>1u4tmfs</td>\n",
       "      <td>2013-12-31 17:59:11</td>\n",
       "      <td>1</td>\n",
       "      <td>100.0,88.0,0.78,0.02,0.08,0.13,0.07,16.0,16.0,...</td>\n",
       "    </tr>\n",
       "    <tr>\n",
       "      <th>2</th>\n",
       "      <td>ps4</td>\n",
       "      <td>battlefield_4</td>\n",
       "      <td>1u4tmos</td>\n",
       "      <td>2013-12-31 17:59:40</td>\n",
       "      <td>1</td>\n",
       "      <td>100.0,88.0,0.78,0.02,0.08,0.13,0.07,16.0,16.0,...</td>\n",
       "    </tr>\n",
       "    <tr>\n",
       "      <th>3</th>\n",
       "      <td>fitnesscirclejerk</td>\n",
       "      <td>leangains</td>\n",
       "      <td>1u50xfs</td>\n",
       "      <td>2013-12-31 19:01:56</td>\n",
       "      <td>1</td>\n",
       "      <td>49.0,43.0,0.775510204082,0.0,0.265306122449,0....</td>\n",
       "    </tr>\n",
       "    <tr>\n",
       "      <th>4</th>\n",
       "      <td>fitnesscirclejerk</td>\n",
       "      <td>lifeprotips</td>\n",
       "      <td>1u51nps</td>\n",
       "      <td>2013-12-31 21:02:28</td>\n",
       "      <td>1</td>\n",
       "      <td>14.0,14.0,0.785714285714,0.0,0.428571428571,0....</td>\n",
       "    </tr>\n",
       "  </tbody>\n",
       "</table>\n",
       "</div>"
      ],
      "text/plain": [
       "    SOURCE_SUBREDDIT TARGET_SUBREDDIT  POST_ID            TIMESTAMP  \\\n",
       "0         rddtgaming         rddtrust  1u4pzzs  2013-12-31 16:39:18   \n",
       "1            xboxone    battlefield_4  1u4tmfs  2013-12-31 17:59:11   \n",
       "2                ps4    battlefield_4  1u4tmos  2013-12-31 17:59:40   \n",
       "3  fitnesscirclejerk        leangains  1u50xfs  2013-12-31 19:01:56   \n",
       "4  fitnesscirclejerk      lifeprotips  1u51nps  2013-12-31 21:02:28   \n",
       "\n",
       "   LINK_SENTIMENT                                         PROPERTIES  \n",
       "0               1  25.0,23.0,0.76,0.0,0.44,0.12,0.12,4.0,4.0,0.0,...  \n",
       "1               1  100.0,88.0,0.78,0.02,0.08,0.13,0.07,16.0,16.0,...  \n",
       "2               1  100.0,88.0,0.78,0.02,0.08,0.13,0.07,16.0,16.0,...  \n",
       "3               1  49.0,43.0,0.775510204082,0.0,0.265306122449,0....  \n",
       "4               1  14.0,14.0,0.785714285714,0.0,0.428571428571,0....  "
      ]
     },
     "execution_count": 5,
     "metadata": {},
     "output_type": "execute_result"
    }
   ],
   "source": [
    "data_title.head()"
   ]
  },
  {
   "cell_type": "markdown",
   "metadata": {},
   "source": [
    "**Create the dataframe containing body + title links**"
   ]
  },
  {
   "cell_type": "code",
   "execution_count": 6,
   "metadata": {},
   "outputs": [
    {
     "name": "stdout",
     "output_type": "stream",
     "text": [
      "Data total .(858488, 6)\n",
      "Data body .(286561, 6)\n",
      "Data title .(571927, 6)\n"
     ]
    }
   ],
   "source": [
    "data_total = pd.concat([data_body,data_title], ignore_index = True)\n",
    "print('Data total .{}'.format(data_total.shape))\n",
    "print('Data body .{}'.format(data_body.shape))\n",
    "print('Data title .{}'.format(data_title.shape))\n"
   ]
  },
  {
   "cell_type": "code",
   "execution_count": 7,
   "metadata": {},
   "outputs": [
    {
     "data": {
      "text/html": [
       "<div>\n",
       "<style scoped>\n",
       "    .dataframe tbody tr th:only-of-type {\n",
       "        vertical-align: middle;\n",
       "    }\n",
       "\n",
       "    .dataframe tbody tr th {\n",
       "        vertical-align: top;\n",
       "    }\n",
       "\n",
       "    .dataframe thead th {\n",
       "        text-align: right;\n",
       "    }\n",
       "</style>\n",
       "<table border=\"1\" class=\"dataframe\">\n",
       "  <thead>\n",
       "    <tr style=\"text-align: right;\">\n",
       "      <th></th>\n",
       "      <th>SOURCE_SUBREDDIT</th>\n",
       "      <th>TARGET_SUBREDDIT</th>\n",
       "      <th>POST_ID</th>\n",
       "      <th>TIMESTAMP</th>\n",
       "      <th>LINK_SENTIMENT</th>\n",
       "      <th>PROPERTIES</th>\n",
       "    </tr>\n",
       "  </thead>\n",
       "  <tbody>\n",
       "    <tr>\n",
       "      <th>0</th>\n",
       "      <td>leagueoflegends</td>\n",
       "      <td>teamredditteams</td>\n",
       "      <td>1u4nrps</td>\n",
       "      <td>2013-12-31 16:39:58</td>\n",
       "      <td>1</td>\n",
       "      <td>345.0,298.0,0.75652173913,0.0173913043478,0.08...</td>\n",
       "    </tr>\n",
       "    <tr>\n",
       "      <th>1</th>\n",
       "      <td>theredlion</td>\n",
       "      <td>soccer</td>\n",
       "      <td>1u4qkd</td>\n",
       "      <td>2013-12-31 18:18:37</td>\n",
       "      <td>-1</td>\n",
       "      <td>101.0,98.0,0.742574257426,0.019801980198,0.049...</td>\n",
       "    </tr>\n",
       "    <tr>\n",
       "      <th>2</th>\n",
       "      <td>inlandempire</td>\n",
       "      <td>bikela</td>\n",
       "      <td>1u4qlzs</td>\n",
       "      <td>2014-01-01 14:54:35</td>\n",
       "      <td>1</td>\n",
       "      <td>85.0,85.0,0.752941176471,0.0235294117647,0.082...</td>\n",
       "    </tr>\n",
       "    <tr>\n",
       "      <th>3</th>\n",
       "      <td>nfl</td>\n",
       "      <td>cfb</td>\n",
       "      <td>1u4sjvs</td>\n",
       "      <td>2013-12-31 17:37:55</td>\n",
       "      <td>1</td>\n",
       "      <td>1124.0,949.0,0.772241992883,0.0017793594306,0....</td>\n",
       "    </tr>\n",
       "    <tr>\n",
       "      <th>4</th>\n",
       "      <td>playmygame</td>\n",
       "      <td>gamedev</td>\n",
       "      <td>1u4w5ss</td>\n",
       "      <td>2014-01-01 02:51:13</td>\n",
       "      <td>1</td>\n",
       "      <td>715.0,622.0,0.777622377622,0.00699300699301,0....</td>\n",
       "    </tr>\n",
       "  </tbody>\n",
       "</table>\n",
       "</div>"
      ],
      "text/plain": [
       "  SOURCE_SUBREDDIT TARGET_SUBREDDIT  POST_ID            TIMESTAMP  \\\n",
       "0  leagueoflegends  teamredditteams  1u4nrps  2013-12-31 16:39:58   \n",
       "1       theredlion           soccer   1u4qkd  2013-12-31 18:18:37   \n",
       "2     inlandempire           bikela  1u4qlzs  2014-01-01 14:54:35   \n",
       "3              nfl              cfb  1u4sjvs  2013-12-31 17:37:55   \n",
       "4       playmygame          gamedev  1u4w5ss  2014-01-01 02:51:13   \n",
       "\n",
       "   LINK_SENTIMENT                                         PROPERTIES  \n",
       "0               1  345.0,298.0,0.75652173913,0.0173913043478,0.08...  \n",
       "1              -1  101.0,98.0,0.742574257426,0.019801980198,0.049...  \n",
       "2               1  85.0,85.0,0.752941176471,0.0235294117647,0.082...  \n",
       "3               1  1124.0,949.0,0.772241992883,0.0017793594306,0....  \n",
       "4               1  715.0,622.0,0.777622377622,0.00699300699301,0....  "
      ]
     },
     "execution_count": 7,
     "metadata": {},
     "output_type": "execute_result"
    }
   ],
   "source": [
    "data_total.head()"
   ]
  },
  {
   "cell_type": "markdown",
   "metadata": {},
   "source": [
    "**Note :** number of ligne (posts) in body : 286561\n",
    "number of ligne (posts) in title : 571927\n",
    "total number : 858488 = 286561 + 571927, so there is nothing in double in the 2 datasets"
   ]
  },
  {
   "cell_type": "markdown",
   "metadata": {},
   "source": [
    "## 1.2 Count the number of nodes and edges"
   ]
  },
  {
   "cell_type": "markdown",
   "metadata": {},
   "source": [
    "### Code"
   ]
  },
  {
   "cell_type": "code",
   "execution_count": 8,
   "metadata": {},
   "outputs": [
    {
     "data": {
      "text/html": [
       "<div>\n",
       "<style scoped>\n",
       "    .dataframe tbody tr th:only-of-type {\n",
       "        vertical-align: middle;\n",
       "    }\n",
       "\n",
       "    .dataframe tbody tr th {\n",
       "        vertical-align: top;\n",
       "    }\n",
       "\n",
       "    .dataframe thead th {\n",
       "        text-align: right;\n",
       "    }\n",
       "</style>\n",
       "<table border=\"1\" class=\"dataframe\">\n",
       "  <thead>\n",
       "    <tr style=\"text-align: right;\">\n",
       "      <th></th>\n",
       "      <th>body</th>\n",
       "      <th>title</th>\n",
       "      <th>total</th>\n",
       "    </tr>\n",
       "  </thead>\n",
       "  <tbody>\n",
       "    <tr>\n",
       "      <th>Nodes</th>\n",
       "      <td>35776</td>\n",
       "      <td>54075</td>\n",
       "      <td>67180</td>\n",
       "    </tr>\n",
       "    <tr>\n",
       "      <th>Edges</th>\n",
       "      <td>286561</td>\n",
       "      <td>571927</td>\n",
       "      <td>858488</td>\n",
       "    </tr>\n",
       "    <tr>\n",
       "      <th>+ edges</th>\n",
       "      <td>NaN</td>\n",
       "      <td>NaN</td>\n",
       "      <td>NaN</td>\n",
       "    </tr>\n",
       "    <tr>\n",
       "      <th>- edges</th>\n",
       "      <td>NaN</td>\n",
       "      <td>NaN</td>\n",
       "      <td>NaN</td>\n",
       "    </tr>\n",
       "    <tr>\n",
       "      <th>Triads</th>\n",
       "      <td>NaN</td>\n",
       "      <td>NaN</td>\n",
       "      <td>NaN</td>\n",
       "    </tr>\n",
       "  </tbody>\n",
       "</table>\n",
       "</div>"
      ],
      "text/plain": [
       "           body   title   total\n",
       "Nodes     35776   54075   67180\n",
       "Edges    286561  571927  858488\n",
       "+ edges     NaN     NaN     NaN\n",
       "- edges     NaN     NaN     NaN\n",
       "Triads      NaN     NaN     NaN"
      ]
     },
     "execution_count": 8,
     "metadata": {},
     "output_type": "execute_result"
    }
   ],
   "source": [
    "table = pd.DataFrame(columns = ['body', 'title', 'total'], index = ['Nodes', 'Edges', '+ edges', '- edges', 'Triads'])\n",
    "\n",
    "nb_edges_body = data_body.shape[0]\n",
    "nb_nodes_body = np.unique(np.concatenate((data_body['SOURCE_SUBREDDIT'].values , data_body['TARGET_SUBREDDIT'].values))).shape[0]\n",
    "\n",
    "nb_edges_title = data_title.shape[0]\n",
    "nb_nodes_title = np.unique(np.concatenate((data_title['SOURCE_SUBREDDIT'].values , data_title['TARGET_SUBREDDIT'].values))).shape[0]\n",
    "\n",
    "nb_edges_total = data_total.shape[0]\n",
    "nb_nodes_total = np.unique(np.concatenate((data_total['SOURCE_SUBREDDIT'].values , data_total['TARGET_SUBREDDIT'].values))).shape[0]\n",
    "\n",
    "\n",
    "table.loc['Nodes'] = [nb_nodes_body, nb_nodes_title, nb_nodes_total]\n",
    "table.loc['Edges'] = [nb_edges_body, nb_edges_title, nb_edges_total]\n",
    "\n",
    "table.head()"
   ]
  },
  {
   "cell_type": "markdown",
   "metadata": {},
   "source": [
    "### Discussion"
   ]
  },
  {
   "cell_type": "markdown",
   "metadata": {},
   "source": [
    "## 1.3 Count the proprtion of positives edges"
   ]
  },
  {
   "cell_type": "markdown",
   "metadata": {},
   "source": [
    " ### Code\n"
   ]
  },
  {
   "cell_type": "code",
   "execution_count": 9,
   "metadata": {},
   "outputs": [],
   "source": [
    "#Number of positive (negative) edges :\n",
    "#We first filter the data by keeping only +1 (or -1) values and then we find the number of lines (edges) that this filtering gives\n",
    "nb_pos_edges_body = data_body[data_body['LINK_SENTIMENT']==1].shape[0] \n",
    "nb_neg_edges_body = data_body[data_body['LINK_SENTIMENT']==-1].shape[0]\n",
    "\n",
    "nb_pos_edges_title = data_title[data_title['LINK_SENTIMENT']==1].shape[0] \n",
    "nb_neg_edges_title= data_title[data_title['LINK_SENTIMENT']==-1].shape[0]\n",
    "\n",
    "nb_pos_edges_total = data_total[data_total['LINK_SENTIMENT']==1].shape[0] \n",
    "nb_neg_edges_total = data_total[data_total['LINK_SENTIMENT']==-1].shape[0]\n",
    "\n",
    "#Proportion of positive/negative edges:\n",
    "#We divide the number of positive (or negative) edges previouly found and divide it by the total number of edges\n",
    "#We use the table1 to find the total number of edges as we already filled these informations\n",
    "perc_pos_body = nb_pos_edges_body / table.loc['Edges']['body']\n",
    "perc_neg_body = nb_neg_edges_body / table.loc['Edges']['body']\n",
    "\n",
    "perc_pos_title = nb_pos_edges_title / table.loc['Edges']['title']\n",
    "perc_neg_title = nb_neg_edges_title / table.loc['Edges']['title']\n",
    "\n",
    "perc_pos_total = nb_pos_edges_total / table.loc['Edges']['total']\n",
    "perc_neg_total = nb_neg_edges_total / table.loc['Edges']['total']"
   ]
  },
  {
   "cell_type": "code",
   "execution_count": 10,
   "metadata": {},
   "outputs": [
    {
     "data": {
      "text/html": [
       "<div>\n",
       "<style scoped>\n",
       "    .dataframe tbody tr th:only-of-type {\n",
       "        vertical-align: middle;\n",
       "    }\n",
       "\n",
       "    .dataframe tbody tr th {\n",
       "        vertical-align: top;\n",
       "    }\n",
       "\n",
       "    .dataframe thead th {\n",
       "        text-align: right;\n",
       "    }\n",
       "</style>\n",
       "<table border=\"1\" class=\"dataframe\">\n",
       "  <thead>\n",
       "    <tr style=\"text-align: right;\">\n",
       "      <th></th>\n",
       "      <th>body</th>\n",
       "      <th>title</th>\n",
       "      <th>total</th>\n",
       "    </tr>\n",
       "  </thead>\n",
       "  <tbody>\n",
       "    <tr>\n",
       "      <th>Nodes</th>\n",
       "      <td>35776</td>\n",
       "      <td>54075</td>\n",
       "      <td>67180</td>\n",
       "    </tr>\n",
       "    <tr>\n",
       "      <th>Edges</th>\n",
       "      <td>286561</td>\n",
       "      <td>571927</td>\n",
       "      <td>858488</td>\n",
       "    </tr>\n",
       "    <tr>\n",
       "      <th>+ edges</th>\n",
       "      <td>92.6%</td>\n",
       "      <td>89.3%</td>\n",
       "      <td>90.4%</td>\n",
       "    </tr>\n",
       "    <tr>\n",
       "      <th>- edges</th>\n",
       "      <td>7.4%</td>\n",
       "      <td>10.7%</td>\n",
       "      <td>9.6%</td>\n",
       "    </tr>\n",
       "    <tr>\n",
       "      <th>Triads</th>\n",
       "      <td>NaN</td>\n",
       "      <td>NaN</td>\n",
       "      <td>NaN</td>\n",
       "    </tr>\n",
       "  </tbody>\n",
       "</table>\n",
       "</div>"
      ],
      "text/plain": [
       "           body   title   total\n",
       "Nodes     35776   54075   67180\n",
       "Edges    286561  571927  858488\n",
       "+ edges   92.6%   89.3%   90.4%\n",
       "- edges    7.4%   10.7%    9.6%\n",
       "Triads      NaN     NaN     NaN"
      ]
     },
     "execution_count": 10,
     "metadata": {},
     "output_type": "execute_result"
    }
   ],
   "source": [
    "#We must indicate a percentage format : we use the {:.1%} format to have a percentage with only one decimal, as in the paper \n",
    "table.loc['+ edges'] = ['{:.1%}'.format(perc_pos_body), '{:.1%}'.format(perc_pos_title), '{:.1%}'.format(perc_pos_total)]\n",
    "table.loc['- edges'] = ['{:.1%}'.format(perc_neg_body), '{:.1%}'.format(perc_neg_title), '{:.1%}'.format(perc_neg_total)]\n",
    "\n",
    "table.head()"
   ]
  },
  {
   "cell_type": "markdown",
   "metadata": {},
   "source": [
    "### Discussion"
   ]
  },
  {
   "cell_type": "markdown",
   "metadata": {},
   "source": [
    "**ANALYSIS :**\n",
    "here we see +edges % is around 90 % (89.3 for hte title and 92.6% for the body). \n",
    "It is higher than the results for the 3 other datasets : Epinions (85%), Slashdot (77.4%) and Wiki (78.7%). \n",
    "/!\\ Have to take into account in further analysis ! "
   ]
  },
  {
   "cell_type": "code",
   "execution_count": 11,
   "metadata": {},
   "outputs": [],
   "source": [
    "#table['remove'] = [1,2,3,0,0]\n",
    "#table.head()"
   ]
  },
  {
   "cell_type": "code",
   "execution_count": 12,
   "metadata": {},
   "outputs": [],
   "source": [
    "#Remove some lines with positive link to have 80%**"
   ]
  },
  {
   "cell_type": "code",
   "execution_count": 13,
   "metadata": {},
   "outputs": [],
   "source": [
    "#data_remove = pd.concat((data_total[data_total['LINK_SENTIMENT']==-1], data_total[data_total['LINK_SENTIMENT']==1].head(329660)))\n",
    "\n",
    "#nb_edges_remove = data_remove.shape[0]\n",
    "#nb_nodes_remove = np.unique(np.concatenate((data_remove['SOURCE_SUBREDDIT'].values , data_remove['TARGET_SUBREDDIT'].values))).shape[0]\n",
    "\n",
    "#nb_pos_edges_remove = data_remove[data_remove['LINK_SENTIMENT']==1].shape[0] \n",
    "#nb_neg_edges_remove = data_remove[data_remove['LINK_SENTIMENT']==-1].shape[0]\n",
    "\n",
    "#perc_pos_remove = nb_pos_edges_remove / nb_edges_remove\n",
    "#perc_neg_remove = nb_neg_edges_remove / nb_edges_remove\n",
    "\n",
    "#table['remove'] = [nb_nodes_remove, nb_edges_remove, '{:.1%}'.format(perc_pos_remove), '{:.1%}'.format(perc_neg_remove), 0]\n",
    "#table.head()"
   ]
  },
  {
   "cell_type": "markdown",
   "metadata": {},
   "source": [
    "# Analysis of Time "
   ]
  },
  {
   "cell_type": "markdown",
   "metadata": {},
   "source": [
    "## Analyzing the global trend "
   ]
  },
  {
   "cell_type": "markdown",
   "metadata": {},
   "source": [
    "**NOTE FOR PART 2** : On the following analysis we will only consider the body dataset from reddit. As we will use sentiment score, it seams more relevant to use the one computed from a text than from a single title as it will be more nuanced and thus will represent better the overall idea of the post. "
   ]
  },
  {
   "cell_type": "markdown",
   "metadata": {},
   "source": [
    "## Global pathway of the analysis --------------------------------------------------------------------------- \n",
    "\n",
    "1) Work on the Reddit dataset\n",
    "- step 0 : work with datetime data\n",
    "- step 1 : analysis of the year \n",
    "- step 2 : analysis of the month \n",
    "- step 3 : analysis of the day of the month and of the week \n",
    "- step 4 : analyis of the hour \n",
    "\n",
    "Aim : identify the main trends among the time data, and thus define new subgraphs\n",
    "\n",
    "2) Do the structural analysis of these subgraphs \n",
    "Parameters : Centrality, Clustering, Behavior\n",
    "3) First conclusion\n",
    "\n",
    "4) Work on the wikipedia and slashdot dataset\n",
    "- same steps 0, 1, 2, 3, 4\n",
    "Aim : identify the main trends among the time data, and thus define new subgraphs\n",
    "\n",
    "5) Do the structural analysis of these second subgraphs \n",
    "Parameters : Centrality, Clustering, Behavior\n",
    "\n",
    "6) Second Conclusion\n",
    "\n",
    "7) Draw the scheme of a situation, to illustrate how the time can influence the formation of new edges compared to status and balance theory. (Abstract, with a drawing)\n",
    "\n",
    "## -----------------------------------------------------------------------------------------------------------------------------"
   ]
  },
  {
   "cell_type": "markdown",
   "metadata": {},
   "source": [
    "## 1) Work on the Reddit dataset\n",
    "### **Step 0**  : Work with datetime data"
   ]
  },
  {
   "cell_type": "code",
   "execution_count": 30,
   "metadata": {},
   "outputs": [
    {
     "name": "stdout",
     "output_type": "stream",
     "text": [
      "Exemple : the date of the first post of the dataset is : 2013-12-31 17:37:55\n",
      " Its type is  <class 'str'>\n"
     ]
    }
   ],
   "source": [
    "print('Exemple : the date of the first post of the dataset is : {}'.format(data_body['TIMESTAMP'][3]))\n",
    "print(' Its type is ',type(data_body['TIMESTAMP'][3]))"
   ]
  },
  {
   "cell_type": "markdown",
   "metadata": {},
   "source": [
    "Here the date are strings, so we need to convert them into datetime form as we want to do time manipulation (e.g. year example). "
   ]
  },
  {
   "cell_type": "code",
   "execution_count": 33,
   "metadata": {},
   "outputs": [],
   "source": [
    "# Useful libraries \n",
    "from datetime import datetime, date, time\n",
    "import calendar "
   ]
  },
  {
   "cell_type": "code",
   "execution_count": 34,
   "metadata": {},
   "outputs": [
    {
     "data": {
      "text/html": [
       "<div>\n",
       "<style scoped>\n",
       "    .dataframe tbody tr th:only-of-type {\n",
       "        vertical-align: middle;\n",
       "    }\n",
       "\n",
       "    .dataframe tbody tr th {\n",
       "        vertical-align: top;\n",
       "    }\n",
       "\n",
       "    .dataframe thead th {\n",
       "        text-align: right;\n",
       "    }\n",
       "</style>\n",
       "<table border=\"1\" class=\"dataframe\">\n",
       "  <thead>\n",
       "    <tr style=\"text-align: right;\">\n",
       "      <th></th>\n",
       "      <th>SOURCE_SUBREDDIT</th>\n",
       "      <th>TARGET_SUBREDDIT</th>\n",
       "      <th>POST_ID</th>\n",
       "      <th>TIMESTAMP</th>\n",
       "      <th>LINK_SENTIMENT</th>\n",
       "      <th>PROPERTIES</th>\n",
       "      <th>DATETIME</th>\n",
       "    </tr>\n",
       "  </thead>\n",
       "  <tbody>\n",
       "    <tr>\n",
       "      <th>0</th>\n",
       "      <td>leagueoflegends</td>\n",
       "      <td>teamredditteams</td>\n",
       "      <td>1u4nrps</td>\n",
       "      <td>2013-12-31 16:39:58</td>\n",
       "      <td>1</td>\n",
       "      <td>345.0,298.0,0.75652173913,0.0173913043478,0.08...</td>\n",
       "      <td>0.0</td>\n",
       "    </tr>\n",
       "    <tr>\n",
       "      <th>1</th>\n",
       "      <td>theredlion</td>\n",
       "      <td>soccer</td>\n",
       "      <td>1u4qkd</td>\n",
       "      <td>2013-12-31 18:18:37</td>\n",
       "      <td>-1</td>\n",
       "      <td>101.0,98.0,0.742574257426,0.019801980198,0.049...</td>\n",
       "      <td>0.0</td>\n",
       "    </tr>\n",
       "    <tr>\n",
       "      <th>2</th>\n",
       "      <td>inlandempire</td>\n",
       "      <td>bikela</td>\n",
       "      <td>1u4qlzs</td>\n",
       "      <td>2014-01-01 14:54:35</td>\n",
       "      <td>1</td>\n",
       "      <td>85.0,85.0,0.752941176471,0.0235294117647,0.082...</td>\n",
       "      <td>0.0</td>\n",
       "    </tr>\n",
       "    <tr>\n",
       "      <th>3</th>\n",
       "      <td>nfl</td>\n",
       "      <td>cfb</td>\n",
       "      <td>1u4sjvs</td>\n",
       "      <td>2013-12-31 17:37:55</td>\n",
       "      <td>1</td>\n",
       "      <td>1124.0,949.0,0.772241992883,0.0017793594306,0....</td>\n",
       "      <td>0.0</td>\n",
       "    </tr>\n",
       "    <tr>\n",
       "      <th>4</th>\n",
       "      <td>playmygame</td>\n",
       "      <td>gamedev</td>\n",
       "      <td>1u4w5ss</td>\n",
       "      <td>2014-01-01 02:51:13</td>\n",
       "      <td>1</td>\n",
       "      <td>715.0,622.0,0.777622377622,0.00699300699301,0....</td>\n",
       "      <td>0.0</td>\n",
       "    </tr>\n",
       "  </tbody>\n",
       "</table>\n",
       "</div>"
      ],
      "text/plain": [
       "  SOURCE_SUBREDDIT TARGET_SUBREDDIT  POST_ID            TIMESTAMP  \\\n",
       "0  leagueoflegends  teamredditteams  1u4nrps  2013-12-31 16:39:58   \n",
       "1       theredlion           soccer   1u4qkd  2013-12-31 18:18:37   \n",
       "2     inlandempire           bikela  1u4qlzs  2014-01-01 14:54:35   \n",
       "3              nfl              cfb  1u4sjvs  2013-12-31 17:37:55   \n",
       "4       playmygame          gamedev  1u4w5ss  2014-01-01 02:51:13   \n",
       "\n",
       "   LINK_SENTIMENT                                         PROPERTIES  DATETIME  \n",
       "0               1  345.0,298.0,0.75652173913,0.0173913043478,0.08...       0.0  \n",
       "1              -1  101.0,98.0,0.742574257426,0.019801980198,0.049...       0.0  \n",
       "2               1  85.0,85.0,0.752941176471,0.0235294117647,0.082...       0.0  \n",
       "3               1  1124.0,949.0,0.772241992883,0.0017793594306,0....       0.0  \n",
       "4               1  715.0,622.0,0.777622377622,0.00699300699301,0....       0.0  "
      ]
     },
     "execution_count": 34,
     "metadata": {},
     "output_type": "execute_result"
    }
   ],
   "source": [
    "# create the new column in the dataframe\n",
    "data_body['DATETIME'] = 0.0\n",
    "data_body.head()"
   ]
  },
  {
   "cell_type": "code",
   "execution_count": 35,
   "metadata": {},
   "outputs": [
    {
     "name": "stderr",
     "output_type": "stream",
     "text": [
      "<ipython-input-35-508a6d45eb1c>:3: SettingWithCopyWarning: \n",
      "A value is trying to be set on a copy of a slice from a DataFrame\n",
      "\n",
      "See the caveats in the documentation: https://pandas.pydata.org/pandas-docs/stable/user_guide/indexing.html#returning-a-view-versus-a-copy\n",
      "  data_body['DATETIME'][i] = datetime.strptime(data_body['TIMESTAMP'][0], \"%Y-%m-%d %H:%M:%S\")\n",
      "/home/laurine/anaconda3/lib/python3.8/site-packages/pandas/core/indexing.py:670: SettingWithCopyWarning: \n",
      "A value is trying to be set on a copy of a slice from a DataFrame\n",
      "\n",
      "See the caveats in the documentation: https://pandas.pydata.org/pandas-docs/stable/user_guide/indexing.html#returning-a-view-versus-a-copy\n",
      "  iloc._setitem_with_indexer(indexer, value)\n"
     ]
    },
    {
     "data": {
      "text/html": [
       "<div>\n",
       "<style scoped>\n",
       "    .dataframe tbody tr th:only-of-type {\n",
       "        vertical-align: middle;\n",
       "    }\n",
       "\n",
       "    .dataframe tbody tr th {\n",
       "        vertical-align: top;\n",
       "    }\n",
       "\n",
       "    .dataframe thead th {\n",
       "        text-align: right;\n",
       "    }\n",
       "</style>\n",
       "<table border=\"1\" class=\"dataframe\">\n",
       "  <thead>\n",
       "    <tr style=\"text-align: right;\">\n",
       "      <th></th>\n",
       "      <th>SOURCE_SUBREDDIT</th>\n",
       "      <th>TARGET_SUBREDDIT</th>\n",
       "      <th>POST_ID</th>\n",
       "      <th>TIMESTAMP</th>\n",
       "      <th>LINK_SENTIMENT</th>\n",
       "      <th>PROPERTIES</th>\n",
       "      <th>DATETIME</th>\n",
       "    </tr>\n",
       "  </thead>\n",
       "  <tbody>\n",
       "    <tr>\n",
       "      <th>0</th>\n",
       "      <td>leagueoflegends</td>\n",
       "      <td>teamredditteams</td>\n",
       "      <td>1u4nrps</td>\n",
       "      <td>2013-12-31 16:39:58</td>\n",
       "      <td>1</td>\n",
       "      <td>345.0,298.0,0.75652173913,0.0173913043478,0.08...</td>\n",
       "      <td>2013-12-31 16:39:58</td>\n",
       "    </tr>\n",
       "    <tr>\n",
       "      <th>1</th>\n",
       "      <td>theredlion</td>\n",
       "      <td>soccer</td>\n",
       "      <td>1u4qkd</td>\n",
       "      <td>2013-12-31 18:18:37</td>\n",
       "      <td>-1</td>\n",
       "      <td>101.0,98.0,0.742574257426,0.019801980198,0.049...</td>\n",
       "      <td>2013-12-31 16:39:58</td>\n",
       "    </tr>\n",
       "    <tr>\n",
       "      <th>2</th>\n",
       "      <td>inlandempire</td>\n",
       "      <td>bikela</td>\n",
       "      <td>1u4qlzs</td>\n",
       "      <td>2014-01-01 14:54:35</td>\n",
       "      <td>1</td>\n",
       "      <td>85.0,85.0,0.752941176471,0.0235294117647,0.082...</td>\n",
       "      <td>2013-12-31 16:39:58</td>\n",
       "    </tr>\n",
       "    <tr>\n",
       "      <th>3</th>\n",
       "      <td>nfl</td>\n",
       "      <td>cfb</td>\n",
       "      <td>1u4sjvs</td>\n",
       "      <td>2013-12-31 17:37:55</td>\n",
       "      <td>1</td>\n",
       "      <td>1124.0,949.0,0.772241992883,0.0017793594306,0....</td>\n",
       "      <td>2013-12-31 16:39:58</td>\n",
       "    </tr>\n",
       "    <tr>\n",
       "      <th>4</th>\n",
       "      <td>playmygame</td>\n",
       "      <td>gamedev</td>\n",
       "      <td>1u4w5ss</td>\n",
       "      <td>2014-01-01 02:51:13</td>\n",
       "      <td>1</td>\n",
       "      <td>715.0,622.0,0.777622377622,0.00699300699301,0....</td>\n",
       "      <td>2013-12-31 16:39:58</td>\n",
       "    </tr>\n",
       "  </tbody>\n",
       "</table>\n",
       "</div>"
      ],
      "text/plain": [
       "  SOURCE_SUBREDDIT TARGET_SUBREDDIT  POST_ID            TIMESTAMP  \\\n",
       "0  leagueoflegends  teamredditteams  1u4nrps  2013-12-31 16:39:58   \n",
       "1       theredlion           soccer   1u4qkd  2013-12-31 18:18:37   \n",
       "2     inlandempire           bikela  1u4qlzs  2014-01-01 14:54:35   \n",
       "3              nfl              cfb  1u4sjvs  2013-12-31 17:37:55   \n",
       "4       playmygame          gamedev  1u4w5ss  2014-01-01 02:51:13   \n",
       "\n",
       "   LINK_SENTIMENT                                         PROPERTIES  \\\n",
       "0               1  345.0,298.0,0.75652173913,0.0173913043478,0.08...   \n",
       "1              -1  101.0,98.0,0.742574257426,0.019801980198,0.049...   \n",
       "2               1  85.0,85.0,0.752941176471,0.0235294117647,0.082...   \n",
       "3               1  1124.0,949.0,0.772241992883,0.0017793594306,0....   \n",
       "4               1  715.0,622.0,0.777622377622,0.00699300699301,0....   \n",
       "\n",
       "              DATETIME  \n",
       "0  2013-12-31 16:39:58  \n",
       "1  2013-12-31 16:39:58  \n",
       "2  2013-12-31 16:39:58  \n",
       "3  2013-12-31 16:39:58  \n",
       "4  2013-12-31 16:39:58  "
      ]
     },
     "execution_count": 35,
     "metadata": {},
     "output_type": "execute_result"
    }
   ],
   "source": [
    "# fill this new column with the datetime content\n",
    "for i in range(0, len(data_body)):\n",
    "    data_body['DATETIME'][i] = datetime.strptime(data_body['TIMESTAMP'][0], \"%Y-%m-%d %H:%M:%S\")\n",
    "data_body.head()"
   ]
  },
  {
   "cell_type": "code",
   "execution_count": 73,
   "metadata": {},
   "outputs": [],
   "source": [
    "data_body['DATETIME2'] = pd.to_datetime(data_body['TIMESTAMP'], format='%Y-%m-%d %H:%M:%S', errors='coerce')"
   ]
  },
  {
   "cell_type": "code",
   "execution_count": 74,
   "metadata": {},
   "outputs": [
    {
     "data": {
      "text/html": [
       "<div>\n",
       "<style scoped>\n",
       "    .dataframe tbody tr th:only-of-type {\n",
       "        vertical-align: middle;\n",
       "    }\n",
       "\n",
       "    .dataframe tbody tr th {\n",
       "        vertical-align: top;\n",
       "    }\n",
       "\n",
       "    .dataframe thead th {\n",
       "        text-align: right;\n",
       "    }\n",
       "</style>\n",
       "<table border=\"1\" class=\"dataframe\">\n",
       "  <thead>\n",
       "    <tr style=\"text-align: right;\">\n",
       "      <th></th>\n",
       "      <th>SOURCE_SUBREDDIT</th>\n",
       "      <th>TARGET_SUBREDDIT</th>\n",
       "      <th>POST_ID</th>\n",
       "      <th>TIMESTAMP</th>\n",
       "      <th>LINK_SENTIMENT</th>\n",
       "      <th>PROPERTIES</th>\n",
       "      <th>DATETIME</th>\n",
       "      <th>DATETIME2</th>\n",
       "    </tr>\n",
       "  </thead>\n",
       "  <tbody>\n",
       "    <tr>\n",
       "      <th>0</th>\n",
       "      <td>leagueoflegends</td>\n",
       "      <td>teamredditteams</td>\n",
       "      <td>1u4nrps</td>\n",
       "      <td>2013-12-31 16:39:58</td>\n",
       "      <td>1</td>\n",
       "      <td>345.0,298.0,0.75652173913,0.0173913043478,0.08...</td>\n",
       "      <td>2013-12-31 16:39:58</td>\n",
       "      <td>2013-12-31 16:39:58</td>\n",
       "    </tr>\n",
       "    <tr>\n",
       "      <th>1</th>\n",
       "      <td>theredlion</td>\n",
       "      <td>soccer</td>\n",
       "      <td>1u4qkd</td>\n",
       "      <td>2013-12-31 18:18:37</td>\n",
       "      <td>-1</td>\n",
       "      <td>101.0,98.0,0.742574257426,0.019801980198,0.049...</td>\n",
       "      <td>2013-12-31 16:39:58</td>\n",
       "      <td>2013-12-31 18:18:37</td>\n",
       "    </tr>\n",
       "    <tr>\n",
       "      <th>2</th>\n",
       "      <td>inlandempire</td>\n",
       "      <td>bikela</td>\n",
       "      <td>1u4qlzs</td>\n",
       "      <td>2014-01-01 14:54:35</td>\n",
       "      <td>1</td>\n",
       "      <td>85.0,85.0,0.752941176471,0.0235294117647,0.082...</td>\n",
       "      <td>2013-12-31 16:39:58</td>\n",
       "      <td>2014-01-01 14:54:35</td>\n",
       "    </tr>\n",
       "    <tr>\n",
       "      <th>3</th>\n",
       "      <td>nfl</td>\n",
       "      <td>cfb</td>\n",
       "      <td>1u4sjvs</td>\n",
       "      <td>2013-12-31 17:37:55</td>\n",
       "      <td>1</td>\n",
       "      <td>1124.0,949.0,0.772241992883,0.0017793594306,0....</td>\n",
       "      <td>2013-12-31 16:39:58</td>\n",
       "      <td>2013-12-31 17:37:55</td>\n",
       "    </tr>\n",
       "    <tr>\n",
       "      <th>4</th>\n",
       "      <td>playmygame</td>\n",
       "      <td>gamedev</td>\n",
       "      <td>1u4w5ss</td>\n",
       "      <td>2014-01-01 02:51:13</td>\n",
       "      <td>1</td>\n",
       "      <td>715.0,622.0,0.777622377622,0.00699300699301,0....</td>\n",
       "      <td>2013-12-31 16:39:58</td>\n",
       "      <td>2014-01-01 02:51:13</td>\n",
       "    </tr>\n",
       "  </tbody>\n",
       "</table>\n",
       "</div>"
      ],
      "text/plain": [
       "  SOURCE_SUBREDDIT TARGET_SUBREDDIT  POST_ID            TIMESTAMP  \\\n",
       "0  leagueoflegends  teamredditteams  1u4nrps  2013-12-31 16:39:58   \n",
       "1       theredlion           soccer   1u4qkd  2013-12-31 18:18:37   \n",
       "2     inlandempire           bikela  1u4qlzs  2014-01-01 14:54:35   \n",
       "3              nfl              cfb  1u4sjvs  2013-12-31 17:37:55   \n",
       "4       playmygame          gamedev  1u4w5ss  2014-01-01 02:51:13   \n",
       "\n",
       "   LINK_SENTIMENT                                         PROPERTIES  \\\n",
       "0               1  345.0,298.0,0.75652173913,0.0173913043478,0.08...   \n",
       "1              -1  101.0,98.0,0.742574257426,0.019801980198,0.049...   \n",
       "2               1  85.0,85.0,0.752941176471,0.0235294117647,0.082...   \n",
       "3               1  1124.0,949.0,0.772241992883,0.0017793594306,0....   \n",
       "4               1  715.0,622.0,0.777622377622,0.00699300699301,0....   \n",
       "\n",
       "              DATETIME           DATETIME2  \n",
       "0  2013-12-31 16:39:58 2013-12-31 16:39:58  \n",
       "1  2013-12-31 16:39:58 2013-12-31 18:18:37  \n",
       "2  2013-12-31 16:39:58 2014-01-01 14:54:35  \n",
       "3  2013-12-31 16:39:58 2013-12-31 17:37:55  \n",
       "4  2013-12-31 16:39:58 2014-01-01 02:51:13  "
      ]
     },
     "execution_count": 74,
     "metadata": {},
     "output_type": "execute_result"
    }
   ],
   "source": [
    "data_body.head()"
   ]
  },
  {
   "cell_type": "code",
   "execution_count": 75,
   "metadata": {},
   "outputs": [
    {
     "name": "stdout",
     "output_type": "stream",
     "text": [
      "<class 'pandas._libs.tslibs.timestamps.Timestamp'>\n"
     ]
    }
   ],
   "source": [
    "print(type(data_body['DATETIME2'][0]))"
   ]
  },
  {
   "cell_type": "code",
   "execution_count": 67,
   "metadata": {},
   "outputs": [],
   "source": [
    "data_body['DATETIME'] = data_body['DATETIME'].dropna()"
   ]
  },
  {
   "cell_type": "markdown",
   "metadata": {},
   "source": [
    "**Split the dataset into positive and negative edges**"
   ]
  },
  {
   "cell_type": "markdown",
   "metadata": {},
   "source": [
    "*Positif*"
   ]
  },
  {
   "cell_type": "code",
   "execution_count": 229,
   "metadata": {},
   "outputs": [
    {
     "name": "stdout",
     "output_type": "stream",
     "text": [
      "data body original .(286561, 8)\n",
      "body POS (265491, 8)\n"
     ]
    }
   ],
   "source": [
    "body_pos = data_body.copy()\n",
    "body_pos = body_pos.drop(body_pos[body_pos.LINK_SENTIMENT == -1.0].index).reset_index(drop=True)\n",
    "print('data body original .{}'.format(data_body.shape))\n",
    "print('body POS {}'.format(body_pos.shape))"
   ]
  },
  {
   "cell_type": "code",
   "execution_count": 230,
   "metadata": {},
   "outputs": [
    {
     "name": "stdout",
     "output_type": "stream",
     "text": [
      "In data body : sign of post 4 =  -1\n",
      "In body pos : sign of post 4 =  1\n"
     ]
    }
   ],
   "source": [
    "print('In data body : sign of post 4 = ', data_body.iloc[1][4])\n",
    "print('In body pos : sign of post 4 = ', body_pos.iloc[1][4])"
   ]
  },
  {
   "cell_type": "code",
   "execution_count": 231,
   "metadata": {},
   "outputs": [
    {
     "data": {
      "text/html": [
       "<div>\n",
       "<style scoped>\n",
       "    .dataframe tbody tr th:only-of-type {\n",
       "        vertical-align: middle;\n",
       "    }\n",
       "\n",
       "    .dataframe tbody tr th {\n",
       "        vertical-align: top;\n",
       "    }\n",
       "\n",
       "    .dataframe thead th {\n",
       "        text-align: right;\n",
       "    }\n",
       "</style>\n",
       "<table border=\"1\" class=\"dataframe\">\n",
       "  <thead>\n",
       "    <tr style=\"text-align: right;\">\n",
       "      <th></th>\n",
       "      <th>SOURCE_SUBREDDIT</th>\n",
       "      <th>TARGET_SUBREDDIT</th>\n",
       "      <th>POST_ID</th>\n",
       "      <th>TIMESTAMP</th>\n",
       "      <th>LINK_SENTIMENT</th>\n",
       "      <th>PROPERTIES</th>\n",
       "      <th>DATETIME</th>\n",
       "      <th>DATETIME2</th>\n",
       "    </tr>\n",
       "  </thead>\n",
       "  <tbody>\n",
       "    <tr>\n",
       "      <th>0</th>\n",
       "      <td>leagueoflegends</td>\n",
       "      <td>teamredditteams</td>\n",
       "      <td>1u4nrps</td>\n",
       "      <td>2013-12-31 16:39:58</td>\n",
       "      <td>1</td>\n",
       "      <td>345.0,298.0,0.75652173913,0.0173913043478,0.08...</td>\n",
       "      <td>2013-12-31 16:39:58</td>\n",
       "      <td>2013-12-31 16:39:58</td>\n",
       "    </tr>\n",
       "    <tr>\n",
       "      <th>1</th>\n",
       "      <td>inlandempire</td>\n",
       "      <td>bikela</td>\n",
       "      <td>1u4qlzs</td>\n",
       "      <td>2014-01-01 14:54:35</td>\n",
       "      <td>1</td>\n",
       "      <td>85.0,85.0,0.752941176471,0.0235294117647,0.082...</td>\n",
       "      <td>2013-12-31 16:39:58</td>\n",
       "      <td>2014-01-01 14:54:35</td>\n",
       "    </tr>\n",
       "    <tr>\n",
       "      <th>2</th>\n",
       "      <td>nfl</td>\n",
       "      <td>cfb</td>\n",
       "      <td>1u4sjvs</td>\n",
       "      <td>2013-12-31 17:37:55</td>\n",
       "      <td>1</td>\n",
       "      <td>1124.0,949.0,0.772241992883,0.0017793594306,0....</td>\n",
       "      <td>2013-12-31 16:39:58</td>\n",
       "      <td>2013-12-31 17:37:55</td>\n",
       "    </tr>\n",
       "    <tr>\n",
       "      <th>3</th>\n",
       "      <td>playmygame</td>\n",
       "      <td>gamedev</td>\n",
       "      <td>1u4w5ss</td>\n",
       "      <td>2014-01-01 02:51:13</td>\n",
       "      <td>1</td>\n",
       "      <td>715.0,622.0,0.777622377622,0.00699300699301,0....</td>\n",
       "      <td>2013-12-31 16:39:58</td>\n",
       "      <td>2014-01-01 02:51:13</td>\n",
       "    </tr>\n",
       "    <tr>\n",
       "      <th>4</th>\n",
       "      <td>dogemarket</td>\n",
       "      <td>dogecoin</td>\n",
       "      <td>1u4w7bs</td>\n",
       "      <td>2013-12-31 18:35:44</td>\n",
       "      <td>1</td>\n",
       "      <td>1328.0,1110.0,0.768825301205,0.0143072289157,0...</td>\n",
       "      <td>2013-12-31 16:39:58</td>\n",
       "      <td>2013-12-31 18:35:44</td>\n",
       "    </tr>\n",
       "  </tbody>\n",
       "</table>\n",
       "</div>"
      ],
      "text/plain": [
       "  SOURCE_SUBREDDIT TARGET_SUBREDDIT  POST_ID            TIMESTAMP  \\\n",
       "0  leagueoflegends  teamredditteams  1u4nrps  2013-12-31 16:39:58   \n",
       "1     inlandempire           bikela  1u4qlzs  2014-01-01 14:54:35   \n",
       "2              nfl              cfb  1u4sjvs  2013-12-31 17:37:55   \n",
       "3       playmygame          gamedev  1u4w5ss  2014-01-01 02:51:13   \n",
       "4       dogemarket         dogecoin  1u4w7bs  2013-12-31 18:35:44   \n",
       "\n",
       "   LINK_SENTIMENT                                         PROPERTIES  \\\n",
       "0               1  345.0,298.0,0.75652173913,0.0173913043478,0.08...   \n",
       "1               1  85.0,85.0,0.752941176471,0.0235294117647,0.082...   \n",
       "2               1  1124.0,949.0,0.772241992883,0.0017793594306,0....   \n",
       "3               1  715.0,622.0,0.777622377622,0.00699300699301,0....   \n",
       "4               1  1328.0,1110.0,0.768825301205,0.0143072289157,0...   \n",
       "\n",
       "              DATETIME           DATETIME2  \n",
       "0  2013-12-31 16:39:58 2013-12-31 16:39:58  \n",
       "1  2013-12-31 16:39:58 2014-01-01 14:54:35  \n",
       "2  2013-12-31 16:39:58 2013-12-31 17:37:55  \n",
       "3  2013-12-31 16:39:58 2014-01-01 02:51:13  \n",
       "4  2013-12-31 16:39:58 2013-12-31 18:35:44  "
      ]
     },
     "execution_count": 231,
     "metadata": {},
     "output_type": "execute_result"
    }
   ],
   "source": [
    "body_pos.head()"
   ]
  },
  {
   "cell_type": "markdown",
   "metadata": {},
   "source": [
    "*Negatif*"
   ]
  },
  {
   "cell_type": "code",
   "execution_count": 237,
   "metadata": {},
   "outputs": [
    {
     "name": "stdout",
     "output_type": "stream",
     "text": [
      "data body original .(286561, 8)\n",
      "body NEG (21070, 8)\n"
     ]
    }
   ],
   "source": [
    "body_neg = data_body.copy()\n",
    "body_neg= body_neg.drop(body_neg[body_neg.LINK_SENTIMENT == 1.0].index).reset_index(drop=True)\n",
    "print('data body original .{}'.format(data_body.shape))\n",
    "print('body NEG {}'.format(body_neg.shape))"
   ]
  },
  {
   "cell_type": "code",
   "execution_count": 238,
   "metadata": {},
   "outputs": [
    {
     "name": "stdout",
     "output_type": "stream",
     "text": [
      "In data body : sign of post 4 =  1\n",
      "In body pos : sign of post 4 =  -1\n"
     ]
    }
   ],
   "source": [
    "print('In data body : sign of post 4 = ', data_body.iloc[0][4])\n",
    "print('In body pos : sign of post 4 = ', body_neg.iloc[0][4])"
   ]
  },
  {
   "cell_type": "code",
   "execution_count": 239,
   "metadata": {},
   "outputs": [
    {
     "data": {
      "text/html": [
       "<div>\n",
       "<style scoped>\n",
       "    .dataframe tbody tr th:only-of-type {\n",
       "        vertical-align: middle;\n",
       "    }\n",
       "\n",
       "    .dataframe tbody tr th {\n",
       "        vertical-align: top;\n",
       "    }\n",
       "\n",
       "    .dataframe thead th {\n",
       "        text-align: right;\n",
       "    }\n",
       "</style>\n",
       "<table border=\"1\" class=\"dataframe\">\n",
       "  <thead>\n",
       "    <tr style=\"text-align: right;\">\n",
       "      <th></th>\n",
       "      <th>SOURCE_SUBREDDIT</th>\n",
       "      <th>TARGET_SUBREDDIT</th>\n",
       "      <th>POST_ID</th>\n",
       "      <th>TIMESTAMP</th>\n",
       "      <th>LINK_SENTIMENT</th>\n",
       "      <th>PROPERTIES</th>\n",
       "      <th>DATETIME</th>\n",
       "      <th>DATETIME2</th>\n",
       "    </tr>\n",
       "  </thead>\n",
       "  <tbody>\n",
       "    <tr>\n",
       "      <th>0</th>\n",
       "      <td>theredlion</td>\n",
       "      <td>soccer</td>\n",
       "      <td>1u4qkd</td>\n",
       "      <td>2013-12-31 18:18:37</td>\n",
       "      <td>-1</td>\n",
       "      <td>101.0,98.0,0.742574257426,0.019801980198,0.049...</td>\n",
       "      <td>2013-12-31 16:39:58</td>\n",
       "      <td>2013-12-31 18:18:37</td>\n",
       "    </tr>\n",
       "    <tr>\n",
       "      <th>1</th>\n",
       "      <td>karmaconspiracy</td>\n",
       "      <td>funny</td>\n",
       "      <td>1u6fz3</td>\n",
       "      <td>2014-01-01 12:44:19</td>\n",
       "      <td>-1</td>\n",
       "      <td>186.0,182.0,0.741935483871,0.0376344086022,0.0...</td>\n",
       "      <td>2013-12-31 16:39:58</td>\n",
       "      <td>2014-01-01 12:44:19</td>\n",
       "    </tr>\n",
       "    <tr>\n",
       "      <th>2</th>\n",
       "      <td>badkarma</td>\n",
       "      <td>gamesell</td>\n",
       "      <td>1u6t4g</td>\n",
       "      <td>2014-01-01 16:42:14</td>\n",
       "      <td>-1</td>\n",
       "      <td>262.0,258.0,0.725190839695,0.0381679389313,0.0...</td>\n",
       "      <td>2013-12-31 16:39:58</td>\n",
       "      <td>2014-01-01 16:42:14</td>\n",
       "    </tr>\n",
       "    <tr>\n",
       "      <th>3</th>\n",
       "      <td>casualiama</td>\n",
       "      <td>teenagers</td>\n",
       "      <td>1u70s8</td>\n",
       "      <td>2014-01-01 17:09:46</td>\n",
       "      <td>-1</td>\n",
       "      <td>91.0,91.0,0.78021978022,0.032967032967,0.04395...</td>\n",
       "      <td>2013-12-31 16:39:58</td>\n",
       "      <td>2014-01-01 17:09:46</td>\n",
       "    </tr>\n",
       "    <tr>\n",
       "      <th>4</th>\n",
       "      <td>australia</td>\n",
       "      <td>sydney</td>\n",
       "      <td>1u71zd</td>\n",
       "      <td>2014-01-01 17:24:46</td>\n",
       "      <td>-1</td>\n",
       "      <td>2547.0,2158.0,0.801334903808,0.0051040439733,0...</td>\n",
       "      <td>2013-12-31 16:39:58</td>\n",
       "      <td>2014-01-01 17:24:46</td>\n",
       "    </tr>\n",
       "  </tbody>\n",
       "</table>\n",
       "</div>"
      ],
      "text/plain": [
       "  SOURCE_SUBREDDIT TARGET_SUBREDDIT POST_ID            TIMESTAMP  \\\n",
       "0       theredlion           soccer  1u4qkd  2013-12-31 18:18:37   \n",
       "1  karmaconspiracy            funny  1u6fz3  2014-01-01 12:44:19   \n",
       "2         badkarma         gamesell  1u6t4g  2014-01-01 16:42:14   \n",
       "3       casualiama        teenagers  1u70s8  2014-01-01 17:09:46   \n",
       "4        australia           sydney  1u71zd  2014-01-01 17:24:46   \n",
       "\n",
       "   LINK_SENTIMENT                                         PROPERTIES  \\\n",
       "0              -1  101.0,98.0,0.742574257426,0.019801980198,0.049...   \n",
       "1              -1  186.0,182.0,0.741935483871,0.0376344086022,0.0...   \n",
       "2              -1  262.0,258.0,0.725190839695,0.0381679389313,0.0...   \n",
       "3              -1  91.0,91.0,0.78021978022,0.032967032967,0.04395...   \n",
       "4              -1  2547.0,2158.0,0.801334903808,0.0051040439733,0...   \n",
       "\n",
       "              DATETIME           DATETIME2  \n",
       "0  2013-12-31 16:39:58 2013-12-31 18:18:37  \n",
       "1  2013-12-31 16:39:58 2014-01-01 12:44:19  \n",
       "2  2013-12-31 16:39:58 2014-01-01 16:42:14  \n",
       "3  2013-12-31 16:39:58 2014-01-01 17:09:46  \n",
       "4  2013-12-31 16:39:58 2014-01-01 17:24:46  "
      ]
     },
     "execution_count": 239,
     "metadata": {},
     "output_type": "execute_result"
    }
   ],
   "source": [
    "body_neg.head()"
   ]
  },
  {
   "cell_type": "markdown",
   "metadata": {},
   "source": [
    "### Step 1 : Analysis of the year"
   ]
  },
  {
   "cell_type": "code",
   "execution_count": 240,
   "metadata": {},
   "outputs": [],
   "source": [
    "import matplotlib.pyplot as plt"
   ]
  },
  {
   "cell_type": "code",
   "execution_count": 241,
   "metadata": {},
   "outputs": [
    {
     "name": "stdout",
     "output_type": "stream",
     "text": [
      "<class 'pandas._libs.tslibs.timestamps.Timestamp'>\n",
      "<class 'pandas._libs.tslibs.timestamps.Timestamp'>\n"
     ]
    }
   ],
   "source": [
    "# verify the type of data time \n",
    "print(type(data_body.DATETIME2[0]))\n",
    "print(type(body_pos.DATETIME2[0]))"
   ]
  },
  {
   "cell_type": "code",
   "execution_count": 291,
   "metadata": {
    "scrolled": true
   },
   "outputs": [
    {
     "name": "stdout",
     "output_type": "stream",
     "text": [
      "Year Positive DATETIME2\n",
      "2013        7\n",
      "2014    63342\n",
      "2015    88572\n",
      "2016    98167\n",
      "2017    15403\n",
      "dtype: int64\n",
      "Year Negative DATETIME2\n",
      "2013        7\n",
      "2014    21038\n",
      "2015       20\n",
      "2016        4\n",
      "2017        1\n",
      "dtype: int64\n"
     ]
    }
   ],
   "source": [
    "# Just to have an idea of what it'll look like. \n",
    "year_positive = body_pos.groupby(data_body['DATETIME2'].dt.year).size()\n",
    "year_negative = body_neg.groupby(data_body['DATETIME2'].dt.year).size()\n",
    "\n",
    "print('Year Positive', year_positive)\n",
    "print('Year Negative', year_negative)"
   ]
  },
  {
   "cell_type": "markdown",
   "metadata": {},
   "source": [
    "So there are 5 years presented in the dataset : 2013, 2014, 2015, 2016 and 2017. "
   ]
  },
  {
   "cell_type": "code",
   "execution_count": 293,
   "metadata": {},
   "outputs": [
    {
     "data": {
      "image/png": "[encoded data removed]",
      "text/plain": [
       "<Figure size 432x288 with 1 Axes>"
      ]
     },
     "metadata": {
      "needs_background": "light"
     },
     "output_type": "display_data"
    }
   ],
   "source": [
    "N = 5\n",
    "ind = np.arange(N)  # the x locations for the groups\n",
    "width = 0.27       # the width of the bars\n",
    "\n",
    "fig = plt.figure()\n",
    "ax = fig.add_subplot(111)\n",
    "\n",
    " \n",
    "year_pos = body_pos.groupby(data_body['DATETIME2'].dt.year).size()\n",
    "rects1 = ax.bar(ind, year_pos, width, color='g')\n",
    "year_neg = body_neg.groupby(data_body['DATETIME2'].dt.year).size()\n",
    "\n",
    "rects2 = ax.bar(ind+width, year_neg, width, color='r')\n",
    "\n",
    "ax.set_ylabel('Number of posts')\n",
    "ax.set_xlabel('Year')\n",
    "ax.set_title('Distribution of the positive and negative posts along the year')\n",
    "ax.set_xticks(ind+width)\n",
    "ax.set_xticklabels( ('2013', '2014', '2015', '2016', '2017') )\n",
    "ax.legend( (rects1[0], rects2[0]), ('positif', 'negatif') )\n",
    "\n",
    "plt.show()"
   ]
  },
  {
   "cell_type": "markdown",
   "metadata": {},
   "source": [
    "**Analysis :** \n",
    "- the number of post in 2013 is inexistant on the graph"
   ]
  },
  {
   "cell_type": "code",
   "execution_count": 294,
   "metadata": {},
   "outputs": [
    {
     "name": "stdout",
     "output_type": "stream",
     "text": [
      "The number of positive posts in 2013 is  7\n",
      "The number of negative posts in 2013 is  7\n",
      "So the total number of posts in 2013 is 14 while in 2016 it is 90823\n",
      "The number of positive posts in 2015 is 20, in 2016 is 4 and in 2017 is 1\n"
     ]
    }
   ],
   "source": [
    "print('The number of positive posts in 2013 is ', year_pos.iloc[0])\n",
    "print('The number of negative posts in 2013 is ', year_neg.iloc[0])\n",
    "print('So the total number of posts in 2013 is {} while in 2016 it is {}'.format(year_pos.iloc[0]+year_neg.iloc[0], vals_pos.iloc[3]+year_neg.iloc[3]))\n",
    "\n",
    "print('The number of positive posts in 2015 is {}, in 2016 is {} and in 2017 is {}'.format(year_neg.iloc[2], year_neg.iloc[3], year_neg.iloc[4]))"
   ]
  },
  {
   "cell_type": "markdown",
   "metadata": {},
   "source": [
    "- As we can see here, it might come from a problem of scale, as sometimes even if the amount of post is not null, no bar appear.The total amount of posts (positive and negative) during 2013 is very very small compared to the number of posts 2016. It is the same for the 2015 2016 and 2017 for the negative posts that don't appear, even if when we are calling the numbers they do exists. Their value is too small compared to the value of negative posts in 2014 to be seen on a graph, even when plotted alone. The small amount of posts in 2013 could be explained by the gain of popularity of the website, or the change in behavior of the population (who is more and more connected via internet and social network, and have better access to technology). The big amount of negative votes might comes from an external events. \n",
    "\n",
    "- the brutal decrease in 2017 in both positive and negative edges might be explained by loose of popularity, or the apparition of another website more performant than reddit. \n",
    "\n",
    "To be able to identify the trend among the year, we compute the ratio of neg/pos*100. "
   ]
  },
  {
   "cell_type": "code",
   "execution_count": 323,
   "metadata": {},
   "outputs": [
    {
     "data": {
      "image/png": "[encoded data removed]",
      "text/plain": [
       "<Figure size 432x288 with 1 Axes>"
      ]
     },
     "metadata": {
      "needs_background": "light"
     },
     "output_type": "display_data"
    }
   ],
   "source": [
    "ratio = [(int(b) / int(m))*100 for b,m in zip(year_neg, year_pos)]\n",
    "N = 5\n",
    "ind = np.arange(N)  # the x locations for the groups\n",
    "width = 0.27       # the width of the bars\n",
    "\n",
    "fig = plt.figure()\n",
    "ax = fig.add_subplot(111)\n",
    "\n",
    "\n",
    "rects1 = ax.bar(ind, ratio, width, color='b')\n",
    "ax.set_ylabel('Ratio')\n",
    "ax.set_xlabel('Year')\n",
    "ax.set_title('Distribution of the ratio from January to December')\n",
    "ax.set_xticks(ind)\n",
    "ax.set_xticklabels( ('2013', '2014', '2015', '2016', '2017'))\n",
    "ax.legend('ratio neg/pos*100')\n",
    "\n",
    "plt.show()"
   ]
  },
  {
   "cell_type": "markdown",
   "metadata": {},
   "source": [
    "- So here we see 3 parts : 2013 (lot of negative votes), 2014 (almost 50% 50%) and 2015-2016-2017 (almost no negative votes. \n",
    "- As we are doing this in order to compare the structure of the subnetworks, it will be easier if the networks are really different. So between 2015 2016 and 2017 we will choose 2016 as it is the year with the higher amount of positive votes, the negatives ones being quite constant along these 3 years. \n",
    "- in 2013 as we have seen there are only 7 positive and 7 negatives votes. So it is too small network to do an analysis. \n",
    "\n",
    "**Ccl :** In order to assess the impact of the **YEAR** on the structure of the network, we can compare 2 subgraphs : \n",
    "> - from the year 2014\n",
    "> - from the year 2016"
   ]
  },
  {
   "cell_type": "markdown",
   "metadata": {},
   "source": [
    "### Step 2: Analysis of the month "
   ]
  },
  {
   "cell_type": "code",
   "execution_count": 290,
   "metadata": {},
   "outputs": [
    {
     "name": "stdout",
     "output_type": "stream",
     "text": [
      "Month Positive DATETIME2\n",
      "1     28143\n",
      "2     25743\n",
      "3     21491\n",
      "4     20343\n",
      "5     20469\n",
      "6     21184\n",
      "7     22312\n",
      "8     23195\n",
      "9     19522\n",
      "10    21067\n",
      "11    20528\n",
      "12    21494\n",
      "dtype: int64\n",
      "Month Negative DATETIME2\n",
      "1     4422\n",
      "2     4425\n",
      "3     5363\n",
      "4     4980\n",
      "5     1822\n",
      "6        9\n",
      "7       12\n",
      "8        3\n",
      "9        3\n",
      "10       1\n",
      "11      19\n",
      "12      11\n",
      "dtype: int64\n"
     ]
    }
   ],
   "source": [
    "month_positive = body_pos.groupby(data_body['DATETIME2'].dt.month).size()\n",
    "month_negative = body_neg.groupby(data_body['DATETIME2'].dt.month).size()\n",
    "print('Month Positive', month_positive)\n",
    "print('Month Negative', month_negative)"
   ]
  },
  {
   "cell_type": "markdown",
   "metadata": {},
   "source": [
    "So 12 months are represented : 01 ... 12 in the dataset. "
   ]
  },
  {
   "cell_type": "code",
   "execution_count": 252,
   "metadata": {},
   "outputs": [
    {
     "data": {
      "image/png": "[encoded data removed]",
      "text/plain": [
       "<Figure size 432x288 with 1 Axes>"
      ]
     },
     "metadata": {
      "needs_background": "light"
     },
     "output_type": "display_data"
    }
   ],
   "source": [
    "N = 12\n",
    "ind = np.arange(N)  # the x locations for the groups\n",
    "width = 0.27       # the width of the bars\n",
    "\n",
    "fig = plt.figure()\n",
    "ax = fig.add_subplot(111)\n",
    "\n",
    " \n",
    "month_pos = body_pos.groupby(data_body['DATETIME2'].dt.month).size()\n",
    "rects1 = ax.bar(ind, month_pos, width, color='g')\n",
    "month_neg = body_neg.groupby(data_body['DATETIME2'].dt.month).size()\n",
    "rects2 = ax.bar(ind+width, month_neg, width, color='r')\n",
    "\n",
    "ax.set_ylabel('Number of posts')\n",
    "ax.set_xlabel('Month')\n",
    "ax.set_title('Distribution of the positive and negative posts from January to December')\n",
    "ax.set_xticks(ind+width)\n",
    "ax.set_xticklabels( ('01', '02', '03', '04', '05', '06', '07', '08', '09', '10', '11', '12'))\n",
    "ax.legend( (rects1[0], rects2[0]), ('positif', 'negatif') )\n",
    "\n",
    "plt.show()"
   ]
  },
  {
   "cell_type": "markdown",
   "metadata": {},
   "source": [
    "**Analysis :**\n",
    "- All the month do have posts\n",
    "- The difference between the number of positive and negative posts is huge, all along the year and depsite intern fluctation\n",
    "- The number of negative posts is higher at the beginning of the year (01-05) than at the end of the year (06-12)\n",
    "- So we can identify to main part on the graph : when we have both green and red barplots (01-50) and when we don't have green and red. \n",
    "- Also we can identify 2 main values of counts : around 20 000 and around 25 000 \n",
    " "
   ]
  },
  {
   "cell_type": "markdown",
   "metadata": {},
   "source": [
    "First compute the ration of positive and negative posts, to se if it is quite constant or not. "
   ]
  },
  {
   "cell_type": "code",
   "execution_count": 325,
   "metadata": {},
   "outputs": [
    {
     "data": {
      "image/png": "[encoded data removed]",
      "text/plain": [
       "<Figure size 432x288 with 1 Axes>"
      ]
     },
     "metadata": {
      "needs_background": "light"
     },
     "output_type": "display_data"
    }
   ],
   "source": [
    "ratio = [(int(b) / int(m))*100 for b,m in zip(month_neg, month_pos)]\n",
    "N = 12\n",
    "ind = np.arange(N)  # the x locations for the groups\n",
    "width = 0.27       # the width of the bars\n",
    "\n",
    "fig = plt.figure()\n",
    "ax = fig.add_subplot(111)\n",
    "\n",
    "\n",
    "rects1 = ax.bar(ind, ratio, width, color='b')\n",
    "ax.set_ylabel('ratio')\n",
    "ax.set_xlabel('month')\n",
    "ax.set_title('Distribution of the ratio from January to December')\n",
    "ax.set_xticks(ind)\n",
    "ax.set_xticklabels( ('01', '02', '03', '04', '05', '06', '07', '08', '09', '10', '11', '12'))\n",
    "ax.legend('ratio neg/pos*100')\n",
    "\n",
    "plt.show()"
   ]
  },
  {
   "cell_type": "markdown",
   "metadata": {},
   "source": [
    "- So here we have 3 parts : 01-02-05 with ratio between 10 and 15, 03-04 with ratio around 25 and 06-->12 with ratio very very small. So we'll pick one month representing each of this part to continue the analysis. "
   ]
  },
  {
   "cell_type": "code",
   "execution_count": 153,
   "metadata": {},
   "outputs": [],
   "source": [
    "import statistics"
   ]
  },
  {
   "cell_type": "code",
   "execution_count": 326,
   "metadata": {},
   "outputs": [
    {
     "name": "stdout",
     "output_type": "stream",
     "text": [
      "The mean count of posts from jan. to apr. is  24785\n",
      "The difference between number of counts and mean for january, february and may is respectively: \n",
      " [3358, 958, 4316]\n"
     ]
    }
   ],
   "source": [
    "# 01 - 02 - 05 \n",
    "mean_010205_pos = statistics.mean([month_pos.iloc[0], month_pos.iloc[1], month_pos.iloc[4]])\n",
    "print('The mean count of posts from jan. to apr. is ', mean_010205_pos)\n",
    "print('The difference between number of counts and mean for january, february and may is respectively: \\n',[abs(x - mean_010205_pos) for x in [month_pos.iloc[0], month_pos.iloc[1], month_pos.iloc[4]]])"
   ]
  },
  {
   "cell_type": "markdown",
   "metadata": {},
   "source": [
    "So we see that the average value of positive post between january, february and may is 24785. We also see that the month with the number of counts the closer to this mean is february (it as the small difference, 358) and thus the more representative."
   ]
  },
  {
   "cell_type": "code",
   "execution_count": 329,
   "metadata": {},
   "outputs": [
    {
     "name": "stdout",
     "output_type": "stream",
     "text": [
      "The mean count of posts from jan. to apr. is  20917\n",
      "The difference between number of counts and mean for march and april is respectively: \n",
      " [574, 574]\n"
     ]
    }
   ],
   "source": [
    "# 03 - 04 \n",
    "mean_0304_pos = statistics.mean([month_pos.iloc[2], month_pos.iloc[3]])\n",
    "print('The mean count of posts from jan. to apr. is ', mean_0304_pos)\n",
    "print('The difference between number of counts and mean for march and april is respectively: \\n',[abs(x - mean_0304_pos) for x in [month_pos.iloc[2], month_pos.iloc[3]]])"
   ]
  },
  {
   "cell_type": "markdown",
   "metadata": {},
   "source": [
    "So we see that the average number of positive counts between march and april is 20917. We also see that both are at equal distance to the mean. We will choose march because it has a high number of votes and thus might be more rich in the further analysis. "
   ]
  },
  {
   "cell_type": "code",
   "execution_count": 330,
   "metadata": {},
   "outputs": [
    {
     "name": "stdout",
     "output_type": "stream",
     "text": [
      "The mean count of posts from jan. to apr. is  21328\n",
      "The difference between number of counts and mean for march and april is respectively: \n",
      " [144, 984, 1867, 1806, 261, 800, 166]\n"
     ]
    }
   ],
   "source": [
    "# 06 - 12 \n",
    "# 03 - 04 \n",
    "mean_0612_pos = statistics.mean([month_pos.iloc[5], month_pos.iloc[6], month_pos.iloc[7], month_pos.iloc[8], month_pos.iloc[9], month_pos.iloc[10], month_pos.iloc[11]])\n",
    "print('The mean count of posts from jan. to apr. is ', mean_0612_pos)\n",
    "print('The difference between number of counts and mean for march and april is respectively: \\n',[abs(x - mean_0612_pos) for x in [month_pos.iloc[5], month_pos.iloc[6], month_pos.iloc[7], month_pos.iloc[8], month_pos.iloc[9], month_pos.iloc[10], month_pos.iloc[11]]])\n"
   ]
  },
  {
   "cell_type": "markdown",
   "metadata": {},
   "source": [
    "So we see that the average number of positive edges between march and april is 21328. We also see that the month closer to this average is june (difference smaller, 144) and thus it is the more representative."
   ]
  },
  {
   "cell_type": "markdown",
   "metadata": {},
   "source": [
    "**Ccl :** In order to assess the impact of the **MONTH** on the structure of the network, we can compare 2 subgraphs : \n",
    "> - from february (representative of the first group - ratio 10 -)\n",
    "> - from march (representative of the second group, -ratio 25-)\n",
    "> - from june (representative of the third group, -ration almost null)"
   ]
  },
  {
   "cell_type": "markdown",
   "metadata": {},
   "source": [
    "### Step 3: Analysis of the day"
   ]
  },
  {
   "cell_type": "code",
   "execution_count": 288,
   "metadata": {},
   "outputs": [
    {
     "name": "stdout",
     "output_type": "stream",
     "text": [
      "Month Positive DATETIME2\n",
      "1     8535\n",
      "2     9120\n",
      "3     8966\n",
      "4     8436\n",
      "5     8690\n",
      "6     8941\n",
      "7     8561\n",
      "8     8572\n",
      "9     8645\n",
      "10    8825\n",
      "11    9029\n",
      "12    8810\n",
      "13    8715\n",
      "14    8367\n",
      "15    8887\n",
      "16    9349\n",
      "17    9153\n",
      "18    8787\n",
      "19    8666\n",
      "20    9198\n",
      "21    8516\n",
      "22    8610\n",
      "23    8393\n",
      "24    8400\n",
      "25    8424\n",
      "26    8318\n",
      "27    8778\n",
      "28    8299\n",
      "29    8217\n",
      "30    8236\n",
      "31    5048\n",
      "dtype: int64\n",
      "Month Negative DATETIME2\n",
      "1     671\n",
      "2     764\n",
      "3     777\n",
      "4     773\n",
      "5     742\n",
      "6     909\n",
      "7     770\n",
      "8     806\n",
      "9     767\n",
      "10    797\n",
      "11    855\n",
      "12    625\n",
      "13    631\n",
      "14    618\n",
      "15    628\n",
      "16    692\n",
      "17    738\n",
      "18    617\n",
      "19    637\n",
      "20    603\n",
      "21    586\n",
      "22    640\n",
      "23    640\n",
      "24    691\n",
      "25    683\n",
      "26    630\n",
      "27    659\n",
      "28    664\n",
      "29    561\n",
      "30    531\n",
      "31    365\n",
      "dtype: int64\n"
     ]
    }
   ],
   "source": [
    "day_positive = body_pos.groupby(data_body['DATETIME2'].dt.day).size()\n",
    "day_negative = body_neg.groupby(data_body['DATETIME2'].dt.day).size()\n",
    "print('Month Positive', day_positive)\n",
    "print('Month Negative', day_negative)"
   ]
  },
  {
   "cell_type": "markdown",
   "metadata": {},
   "source": [
    "So we see that all the 31 days of a month are represented in the dataset. "
   ]
  },
  {
   "cell_type": "code",
   "execution_count": 263,
   "metadata": {},
   "outputs": [
    {
     "data": {
      "image/png": "[encoded data removed]",
      "text/plain": [
       "<Figure size 432x288 with 1 Axes>"
      ]
     },
     "metadata": {
      "needs_background": "light"
     },
     "output_type": "display_data"
    }
   ],
   "source": [
    "N = 31\n",
    "ind = np.arange(N)  # the x locations for the groups\n",
    "width = 0.27       # the width of the bars\n",
    "\n",
    "fig = plt.figure()\n",
    "ax = fig.add_subplot(111)\n",
    "\n",
    " \n",
    "day_pos = body_pos.groupby(data_body['DATETIME2'].dt.day).size()\n",
    "rects1 = ax.bar(ind, day_pos, width, color='g')\n",
    "day_neg = body_neg.groupby(data_body['DATETIME2'].dt.day).size()\n",
    "rects2 = ax.bar(ind+width, day_neg, width, color='r')\n",
    "\n",
    "ax.set_ylabel('Number of posts')\n",
    "ax.set_xlabel('Day')\n",
    "ax.set_title('Distribution of the positive and negative posts along the days of a month')\n",
    "ax.set_xticks(ind+width)\n",
    "ax.set_xticklabels( ('01', '02', '03', '04', '05', '06', '07', '08', '09', '10', '11', '12', '13', '14', '15', '16', '17', '18', '19', '20', '21', '22', '23', '24', '25', '26' ,'27', '28', '29', '30', '31'))\n",
    "ax.legend((rects1[0], rects2[0]), ('positif', 'negatif'))\n",
    "\n",
    "plt.show()"
   ]
  },
  {
   "cell_type": "markdown",
   "metadata": {},
   "source": [
    "**Analysis :** \n",
    "- graph not very lisible (**Change the size ?**)\n",
    "- the abrupt decrease for day 31 is because only half of the month in a year have a 31th day, so obviously there are less posts (pos and neg) done that day\n",
    "- the amount of positive post is very small compared to amount of positif posts, for all the days \n",
    "- General manner : both positive and negative counts seams to be relatively constant along the days of a month, they are some fluctuations (more visible for positive posts) but it is hard to highlight clear trend. \n",
    "\n",
    "**Ccle :** We need to do further analysis on the days to be able to identify trends. So we are going to look at the number of posts according to the day of the weem: monday, tuesday ... sunday. \n",
    "\n",
    "Compute the ratio"
   ]
  },
  {
   "cell_type": "code",
   "execution_count": 338,
   "metadata": {},
   "outputs": [
    {
     "data": {
      "image/png": "[encoded data removed]",
      "text/plain": [
       "<Figure size 432x288 with 1 Axes>"
      ]
     },
     "metadata": {
      "needs_background": "light"
     },
     "output_type": "display_data"
    }
   ],
   "source": [
    "ratio = [(int(b) / int(m))*100 for b,m in zip(day_neg, day_pos)]\n",
    "N = 31\n",
    "ind = np.arange(N)  # the x locations for the groups\n",
    "width = 0.27       # the width of the bars\n",
    "\n",
    "fig = plt.figure()\n",
    "ax = fig.add_subplot(111)\n",
    "\n",
    "rects1 = ax.bar(ind, ratio, width, color='b')\n",
    "\n",
    "ax.set_ylabel('ratio')\n",
    "ax.set_xlabel('Day')\n",
    "ax.set_title('Distribution ratio  along the days of a month')\n",
    "ax.set_xticks(ind)\n",
    "ax.set_xticklabels( ('1', '2', '3', '4', '5', '6', '7', '8', '9', '10', '11', '12', '13', '14', '15', '16', '17', '18', '19', '20', '21', '22', '23', '24', '25', '26' ,'27', '28', '29', '30', '31'))\n",
    "ax.legend('ratio')\n",
    "plt.show()"
   ]
  },
  {
   "cell_type": "markdown",
   "metadata": {},
   "source": [
    "- still hard to identify a trend. Have to look on the day og the week to try to identify pattern"
   ]
  },
  {
   "cell_type": "markdown",
   "metadata": {},
   "source": [
    "#### Step 3 : cont. Analysis day of the week"
   ]
  },
  {
   "cell_type": "code",
   "execution_count": 289,
   "metadata": {},
   "outputs": [
    {
     "name": "stdout",
     "output_type": "stream",
     "text": [
      "Month Positive DATETIME2\n",
      "0    40390\n",
      "1    40945\n",
      "2    40052\n",
      "3    39617\n",
      "4    37373\n",
      "5    32527\n",
      "6    34587\n",
      "dtype: int64\n",
      "Month Negative DATETIME2\n",
      "0    3101\n",
      "1    3458\n",
      "2    3145\n",
      "3    3123\n",
      "4    2956\n",
      "5    2542\n",
      "6    2745\n",
      "dtype: int64\n"
     ]
    }
   ],
   "source": [
    "day_positive = body_pos.groupby(data_body['DATETIME2'].dt.weekday).size()\n",
    "day_negative = body_neg.groupby(data_body['DATETIME2'].dt.weekday).size()\n",
    "print('Month Positive', day_positive)\n",
    "print('Month Negative', day_negative)"
   ]
  },
  {
   "cell_type": "markdown",
   "metadata": {},
   "source": [
    "So the days reprensented in the dataset are from 0 (monday) to 6 (sunday). "
   ]
  },
  {
   "cell_type": "code",
   "execution_count": 343,
   "metadata": {},
   "outputs": [
    {
     "data": {
      "image/png": "[encoded data removed]",
      "text/plain": [
       "<Figure size 432x288 with 1 Axes>"
      ]
     },
     "metadata": {
      "needs_background": "light"
     },
     "output_type": "display_data"
    }
   ],
   "source": [
    "N = 7\n",
    "ind = np.arange(N)  # the x locations for the groups\n",
    "width = 0.27       # the width of the bars\n",
    "\n",
    "fig = plt.figure()\n",
    "ax = fig.add_subplot(111)\n",
    "\n",
    " \n",
    "dayw_pos = body_pos.groupby(data_body['DATETIME2'].dt.weekday).size()\n",
    "rects1 = ax.bar(ind, dayw_pos, width, color='g')\n",
    "dayw_neg = body_neg.groupby(data_body['DATETIME2'].dt.weekday).size()\n",
    "rects2 = ax.bar(ind+width, dayw_neg, width, color='r')\n",
    "\n",
    "ax.set_ylabel('Number of posts')\n",
    "ax.set_xlabel('Day')\n",
    "ax.set_title('Distribution of the positive and negative posts along the days of a week')\n",
    "ax.set_xticks(ind+width)\n",
    "ax.set_xticklabels( ('mon.', 'tue.', 'wed.', 'thu.', 'fri.', 'sat.', 'sun.'))\n",
    "ax.legend((rects1[0], rects2[0]), ('positif', 'negatif'))\n",
    "\n",
    "plt.show()"
   ]
  },
  {
   "cell_type": "markdown",
   "metadata": {},
   "source": [
    "**Analysis :**\n",
    "- As for the other parameter (year, month, day of the month), the amount of positive posts is higher than the amount of negative posts\n",
    "- The amount of negative posts is quite constant along the week \n",
    "- the amount of positive posts is smaller the week end, and quite constant during the week. It might be explained by the routine of the week, so the habits of beeing on the website for coffe break for example, while the week end, the events are more random and technology connection can be smaller. \n"
   ]
  },
  {
   "cell_type": "markdown",
   "metadata": {},
   "source": [
    "Compute the ratio to ensure this analysis"
   ]
  },
  {
   "cell_type": "code",
   "execution_count": 340,
   "metadata": {},
   "outputs": [
    {
     "name": "stdout",
     "output_type": "stream",
     "text": [
      "[7.677642980935875, 8.445475638051043, 7.852292020373515, 7.882979528990081, 7.909453348674177, 7.815045961816337, 7.936507936507936]\n"
     ]
    },
    {
     "data": {
      "image/png": "[encoded data removed]",
      "text/plain": [
       "<Figure size 432x288 with 1 Axes>"
      ]
     },
     "metadata": {
      "needs_background": "light"
     },
     "output_type": "display_data"
    }
   ],
   "source": [
    "ratio = [(int(b) / int(m))*100 for b,m in zip(dayw_neg, dayw_pos)]\n",
    "print(ratio)\n",
    "N = 7\n",
    "ind = np.arange(N)  # the x locations for the groups\n",
    "width = 0.27       # the width of the bars\n",
    "\n",
    "fig = plt.figure()\n",
    "ax = fig.add_subplot(111)\n",
    "\n",
    "rects1 = ax.bar(ind, ratio, width, color='b')\n",
    "\n",
    "ax.set_ylabel('ratio')\n",
    "ax.set_xlabel('Day of the week')\n",
    "ax.set_title('Distribution ratio  along the days of a week')\n",
    "ax.set_xticks(ind)\n",
    "ax.set_xticklabels( ('mon.', 'tue.', 'wed.', 'thu.', 'fri.', 'sat.', 'sun.'))\n",
    "ax.legend('ratio')\n",
    "plt.show()"
   ]
  },
  {
   "cell_type": "markdown",
   "metadata": {},
   "source": [
    "- here we can see that in fact the ratio of positive and negative edge is quite the same all along the week \n",
    "- there is only in tuesday that the ratio is a bit bigger. \n",
    "\n",
    "**Ccl :** We can do analysis on the subset from tuesday, and one from another day of the week (ratio is similar) but as the difference is not very big, not sure we ll see something on the structure of the network.\n",
    "\n",
    "We can also do subsets from the week and from the week, as the size of the pool of posts is not the same ???"
   ]
  },
  {
   "cell_type": "markdown",
   "metadata": {},
   "source": [
    "#### Step 4: Analysis of the hour "
   ]
  },
  {
   "cell_type": "code",
   "execution_count": 342,
   "metadata": {},
   "outputs": [
    {
     "name": "stdout",
     "output_type": "stream",
     "text": [
      "Month Positive DATETIME2\n",
      "0      7089\n",
      "1      6045\n",
      "2      5634\n",
      "3      6100\n",
      "4      6867\n",
      "5      7819\n",
      "6      9938\n",
      "7     12069\n",
      "8     13372\n",
      "9     14426\n",
      "10    14189\n",
      "11    14887\n",
      "12    14571\n",
      "13    14617\n",
      "14    14994\n",
      "15    14149\n",
      "16    13267\n",
      "17    13167\n",
      "18    12418\n",
      "19    11889\n",
      "20    10925\n",
      "21     9900\n",
      "22     8934\n",
      "23     8225\n",
      "dtype: int64\n",
      "Month Negative DATETIME2\n",
      "0      423\n",
      "1      378\n",
      "2      368\n",
      "3      331\n",
      "4      433\n",
      "5      509\n",
      "6      835\n",
      "7      830\n",
      "8      983\n",
      "9     1335\n",
      "10    1167\n",
      "11    1347\n",
      "12    1232\n",
      "13    1208\n",
      "14    1345\n",
      "15    1185\n",
      "16    1091\n",
      "17    1059\n",
      "18    1025\n",
      "19     961\n",
      "20     892\n",
      "21     816\n",
      "22     757\n",
      "23     560\n",
      "dtype: int64\n"
     ]
    }
   ],
   "source": [
    "hour_positive = body_pos.groupby(data_body['DATETIME2'].dt.hour).size()\n",
    "hour_negative = body_neg.groupby(data_body['DATETIME2'].dt.hour).size()\n",
    "print('Month Positive', hour_positive)\n",
    "print('Month Negative', hour_negative)"
   ]
  },
  {
   "cell_type": "code",
   "execution_count": 348,
   "metadata": {},
   "outputs": [
    {
     "data": {
      "image/png": "[encoded data removed]",
      "text/plain": [
       "<Figure size 432x288 with 1 Axes>"
      ]
     },
     "metadata": {
      "needs_background": "light"
     },
     "output_type": "display_data"
    }
   ],
   "source": [
    "N = 24\n",
    "ind = np.arange(N)  # the x locations for the groups\n",
    "width = 0.27       # the width of the bars\n",
    "\n",
    "fig = plt.figure()\n",
    "ax = fig.add_subplot(111)\n",
    "\n",
    "hour_pos = body_pos.groupby(data_body['DATETIME2'].dt.hour).size()\n",
    "rects1 = ax.bar(ind, hour_pos, width, color='g')\n",
    "hour_neg = body_neg.groupby(data_body['DATETIME2'].dt.hour).size()\n",
    "rects2 = ax.bar(ind+width, hour_neg, width, color='r')\n",
    "\n",
    "ax.set_ylabel('Number of posts')\n",
    "ax.set_xlabel('Hour of the day')\n",
    "ax.set_title('Distribution of the positive and negative posts along the hours of a day')\n",
    "ax.set_xticks(ind+width)\n",
    "ax.set_xticklabels(('00', '01', '02', '03', '04', '05', '06', '07', '08', '09', '10', '11', '12', '13', '14', '15', '16', '17', '18', '19', '20', '21', '22', '23'))\n",
    "ax.legend((rects1[0], rects2[0]), ('positif', 'negatif'))\n",
    "\n",
    "plt.show()"
   ]
  },
  {
   "cell_type": "markdown",
   "metadata": {},
   "source": [
    "**Analysis :**\n",
    "- Seems to have smaller number of posts during night and a lot during the afternoon. Quite logical. Positive and negatives posts seams to have quite the same evolution, need to compute the ratio to show it more clearly."
   ]
  },
  {
   "cell_type": "code",
   "execution_count": 351,
   "metadata": {},
   "outputs": [
    {
     "data": {
      "image/png": "[encoded data removed]",
      "text/plain": [
       "<Figure size 432x288 with 1 Axes>"
      ]
     },
     "metadata": {
      "needs_background": "light"
     },
     "output_type": "display_data"
    }
   ],
   "source": [
    "ratio = [(int(b) / int(m))*100 for b,m in zip(hour_neg, hour_pos)]\n",
    "N = 24\n",
    "ind = np.arange(N)  # the x locations for the groups\n",
    "width = 0.27       # the width of the bars\n",
    "\n",
    "fig = plt.figure()\n",
    "ax = fig.add_subplot(111)\n",
    "\n",
    "rects1 = ax.bar(ind, ratio, width, color='b')\n",
    "\n",
    "ax.set_ylabel('ratio')\n",
    "ax.set_xlabel('hours of a day')\n",
    "ax.set_title('Distribution ratio  along the hours of a day')\n",
    "ax.set_xticks(ind)\n",
    "ax.set_xticklabels(('00', '01', '02', '03', '04', '05', '06', '07', '08', '09', '10', '11', '12', '13', '14', '15', '16', '17', '18', '19', '20', '21', '22', '23'))\n",
    "ax.legend('ratio')\n",
    "plt.show()"
   ]
  },
  {
   "cell_type": "markdown",
   "metadata": {},
   "source": [
    "- we can identify three part : low ration (5-7) for 00, 01, 02, 03, 04, 05, 07, 23 ; middle ratio (8) for 06, 10, 12, 13, 15, 16, 17, 18, 19, 20, 21, 22 and high ratio (9) for 09, 11 and 14\n",
    "\n",
    "- need to find a relevent hour for each of these parts\n"
   ]
  },
  {
   "cell_type": "code",
   "execution_count": 356,
   "metadata": {},
   "outputs": [
    {
     "name": "stdout",
     "output_type": "stream",
     "text": [
      "The mean count of posts from jan. to apr. is  7481\n",
      "The difference between number of counts and mean for march and april is respectively: \n",
      " [392, 1436, 1847, 1381, 614, 338, 4588, 744]\n"
     ]
    }
   ],
   "source": [
    "# ratio 5-7 \n",
    "mean_r57_pos = statistics.mean([hour_pos.iloc[0], hour_pos.iloc[1], hour_pos.iloc[2], hour_pos.iloc[3], hour_pos.iloc[4], hour_pos.iloc[5], hour_pos.iloc[7], hour_pos.iloc[23]])\n",
    "print('The mean count of posts from jan. to apr. is ', mean_r57_pos)\n",
    "print('The difference between number of counts and mean for march and april is respectively: \\n',[abs(x - mean_r57_pos) for x in[hour_pos.iloc[0], hour_pos.iloc[1], hour_pos.iloc[2], hour_pos.iloc[3], hour_pos.iloc[4], hour_pos.iloc[5], hour_pos.iloc[7], hour_pos.iloc[23]]])\n"
   ]
  },
  {
   "cell_type": "markdown",
   "metadata": {},
   "source": [
    "- the more representative for the ratio 5-7 is 7h "
   ]
  },
  {
   "cell_type": "code",
   "execution_count": 354,
   "metadata": {},
   "outputs": [
    {
     "name": "stdout",
     "output_type": "stream",
     "text": [
      "The mean count of posts from jan. to apr. is  12330\n",
      "The difference between number of counts and mean for march and april is respectively: \n",
      " [2392, 1859, 2241, 2287, 1819, 937, 837, 88, 441, 1405, 2430, 3396]\n"
     ]
    }
   ],
   "source": [
    "# ratio 8\n",
    "mean_r8_pos = statistics.mean([hour_pos.iloc[6], hour_pos.iloc[10], hour_pos.iloc[12], hour_pos.iloc[13], hour_pos.iloc[15], hour_pos.iloc[16], hour_pos.iloc[17], hour_pos.iloc[18], hour_pos.iloc[19], hour_pos.iloc[20], hour_pos.iloc[21], hour_pos.iloc[22]])\n",
    "print('The mean count of posts from jan. to apr. is ', mean_r8_pos)\n",
    "print('The difference between number of counts and mean for march and april is respectively: \\n',[abs(x - mean_r8_pos) for x in [hour_pos.iloc[6], hour_pos.iloc[10], hour_pos.iloc[12], hour_pos.iloc[13], hour_pos.iloc[15], hour_pos.iloc[16], hour_pos.iloc[17], hour_pos.iloc[18], hour_pos.iloc[19], hour_pos.iloc[20], hour_pos.iloc[21], hour_pos.iloc[22]]])"
   ]
  },
  {
   "cell_type": "markdown",
   "metadata": {},
   "source": [
    "- the most representative is 18h"
   ]
  },
  {
   "cell_type": "code",
   "execution_count": 355,
   "metadata": {},
   "outputs": [
    {
     "name": "stdout",
     "output_type": "stream",
     "text": [
      "The mean count of posts from jan. to apr. is  14769\n",
      "The difference between number of counts and mean for march and april is respectively: \n",
      " [343, 118, 225]\n"
     ]
    }
   ],
   "source": [
    "# ratio 9\n",
    "mean_r9_pos = statistics.mean([hour_pos.iloc[9], hour_pos.iloc[11], hour_pos.iloc[14]])\n",
    "print('The mean count of posts from jan. to apr. is ', mean_r9_pos)\n",
    "print('The difference between number of counts and mean for march and april is respectively: \\n',[abs(x - mean_r9_pos) for x in [hour_pos.iloc[9], hour_pos.iloc[11], hour_pos.iloc[14]]])"
   ]
  },
  {
   "cell_type": "markdown",
   "metadata": {},
   "source": [
    "- the most representative is 12h"
   ]
  },
  {
   "cell_type": "markdown",
   "metadata": {},
   "source": [
    "**Ccl :** In order to assess the impact of the **HOUR** on the structure of the network, we can compare  3 subgraphs : \n",
    "> - from 7h (representative of the first group - ratio 5-7 -)\n",
    "> - from 18h (representative of the second group, -ratio 8-)\n",
    "> - from 12h (representative of the third group, -ration 9-)"
   ]
  },
  {
   "cell_type": "markdown",
   "metadata": {},
   "source": [
    "## 2) Do the structural analysis of these subgraphs "
   ]
  },
  {
   "cell_type": "markdown",
   "metadata": {},
   "source": [
    " ## 3) First conclusion"
   ]
  },
  {
   "cell_type": "markdown",
   "metadata": {},
   "source": [
    "## 4) Work on the wikipedia and slashdot dataset\n",
    "\n",
    "### **Step 0**  : Work with datetime data"
   ]
  },
  {
   "cell_type": "markdown",
   "metadata": {},
   "source": [
    "load the wikipedia dataset "
   ]
  },
  {
   "cell_type": "code",
   "execution_count": 181,
   "metadata": {},
   "outputs": [],
   "source": [
    "Wikipedia_raw = open(\"Data/wikiElec.ElecBs3.txt\", mode='rt', encoding=\"utf-8\", errors=\"ignore\")\n",
    "mylines=[] #temporary set of the raw wikipedia lines \n",
    "\n",
    "for line in Wikipedia_raw:\n",
    "    mylines.append(line)"
   ]
  },
  {
   "cell_type": "code",
   "execution_count": 182,
   "metadata": {},
   "outputs": [
    {
     "data": {
      "text/plain": [
       "'V\\t1\\t7\\t2004-09-14 19:37:00\\ttexture\\n'"
      ]
     },
     "execution_count": 182,
     "metadata": {},
     "output_type": "execute_result"
    }
   ],
   "source": [
    "mylines[15]"
   ]
  },
  {
   "cell_type": "code",
   "execution_count": 195,
   "metadata": {},
   "outputs": [],
   "source": [
    "# Organisation Wikipedia data set (cont.)\n",
    "\n",
    "#Process mylines to organize information in a dataframe\n",
    "Wiki_votes= pd.DataFrame()\n",
    "for i in range(6, 128015): #128015 corresponds to the final index of the file \n",
    "    if mylines[i][0] == \"U\": # Case of a new candidate\n",
    "        line_d = mylines[i].split(\"\\t\")\n",
    "        dest = line_d[1] # dest : Candidate ID\n",
    "        j = 2\n",
    "        while mylines[i+j][0] == \"V\" and (i+j)<=len(mylines):\n",
    "            line_v = mylines[i+j].split(\"\\t\") #split the line\n",
    "            line_v.append(dest) # add the candidate ID information and the date of vote\n",
    "            Vv = pd.DataFrame(np.array([line_v]))\n",
    "            Wiki_votes = Wiki_votes.append(Vv, ignore_index=True) # add the new vote to the DataFrame containing all the votes\n",
    "            j += 1"
   ]
  },
  {
   "cell_type": "code",
   "execution_count": 198,
   "metadata": {},
   "outputs": [
    {
     "data": {
      "text/html": [
       "<div>\n",
       "<style scoped>\n",
       "    .dataframe tbody tr th:only-of-type {\n",
       "        vertical-align: middle;\n",
       "    }\n",
       "\n",
       "    .dataframe tbody tr th {\n",
       "        vertical-align: top;\n",
       "    }\n",
       "\n",
       "    .dataframe thead th {\n",
       "        text-align: right;\n",
       "    }\n",
       "</style>\n",
       "<table border=\"1\" class=\"dataframe\">\n",
       "  <thead>\n",
       "    <tr style=\"text-align: right;\">\n",
       "      <th></th>\n",
       "      <th>ID_voter</th>\n",
       "      <th>ID_candidate</th>\n",
       "      <th>Sign</th>\n",
       "      <th>Date</th>\n",
       "    </tr>\n",
       "  </thead>\n",
       "  <tbody>\n",
       "    <tr>\n",
       "      <th>0</th>\n",
       "      <td>3</td>\n",
       "      <td>30</td>\n",
       "      <td>1</td>\n",
       "      <td>2004-09-14 16:26:00</td>\n",
       "    </tr>\n",
       "    <tr>\n",
       "      <th>1</th>\n",
       "      <td>25</td>\n",
       "      <td>30</td>\n",
       "      <td>-1</td>\n",
       "      <td>2004-09-14 16:53:00</td>\n",
       "    </tr>\n",
       "    <tr>\n",
       "      <th>2</th>\n",
       "      <td>4</td>\n",
       "      <td>30</td>\n",
       "      <td>1</td>\n",
       "      <td>2004-09-14 17:08:00</td>\n",
       "    </tr>\n",
       "    <tr>\n",
       "      <th>3</th>\n",
       "      <td>5</td>\n",
       "      <td>30</td>\n",
       "      <td>1</td>\n",
       "      <td>2004-09-14 17:37:00</td>\n",
       "    </tr>\n",
       "    <tr>\n",
       "      <th>4</th>\n",
       "      <td>6</td>\n",
       "      <td>30</td>\n",
       "      <td>1</td>\n",
       "      <td>2004-09-14 19:28:00</td>\n",
       "    </tr>\n",
       "  </tbody>\n",
       "</table>\n",
       "</div>"
      ],
      "text/plain": [
       "  ID_voter ID_candidate Sign                 Date\n",
       "0        3           30    1  2004-09-14 16:26:00\n",
       "1       25           30   -1  2004-09-14 16:53:00\n",
       "2        4           30    1  2004-09-14 17:08:00\n",
       "3        5           30    1  2004-09-14 17:37:00\n",
       "4        6           30    1  2004-09-14 19:28:00"
      ]
     },
     "execution_count": 198,
     "metadata": {},
     "output_type": "execute_result"
    }
   ],
   "source": [
    "Wiki_votes.columns =['V', 'Sign','ID_voter','Date', 'Name_voter', 'ID_candidate']\n",
    "Wiki_votes = Wiki_votes.drop(['V', 'Name_voter'], axis=1)\n",
    "Wiki_votes = Wiki_votes.reindex(columns = ['ID_voter', 'ID_candidate', 'Sign', 'Date'])\n",
    "Wiki_votes.head()"
   ]
  },
  {
   "cell_type": "markdown",
   "metadata": {},
   "source": [
    "check the type of the data"
   ]
  },
  {
   "cell_type": "code",
   "execution_count": 199,
   "metadata": {},
   "outputs": [
    {
     "name": "stdout",
     "output_type": "stream",
     "text": [
      "Exemple : the date of the first post of the dataset is : 2004-09-14 17:37:00\n",
      " Its type is  <class 'str'>\n"
     ]
    }
   ],
   "source": [
    "print('Exemple : the date of the first post of the dataset is : {}'.format(Wiki_votes['Date'][3]))\n",
    "print(' Its type is ',type(Wiki_votes['Date'][3]))"
   ]
  },
  {
   "cell_type": "markdown",
   "metadata": {},
   "source": [
    "So we need to convert, as for reddit"
   ]
  },
  {
   "cell_type": "code",
   "execution_count": 206,
   "metadata": {
    "scrolled": true
   },
   "outputs": [
    {
     "data": {
      "text/html": [
       "<div>\n",
       "<style scoped>\n",
       "    .dataframe tbody tr th:only-of-type {\n",
       "        vertical-align: middle;\n",
       "    }\n",
       "\n",
       "    .dataframe tbody tr th {\n",
       "        vertical-align: top;\n",
       "    }\n",
       "\n",
       "    .dataframe thead th {\n",
       "        text-align: right;\n",
       "    }\n",
       "</style>\n",
       "<table border=\"1\" class=\"dataframe\">\n",
       "  <thead>\n",
       "    <tr style=\"text-align: right;\">\n",
       "      <th></th>\n",
       "      <th>ID_voter</th>\n",
       "      <th>ID_candidate</th>\n",
       "      <th>Sign</th>\n",
       "      <th>Date</th>\n",
       "      <th>DATETIME</th>\n",
       "    </tr>\n",
       "  </thead>\n",
       "  <tbody>\n",
       "    <tr>\n",
       "      <th>0</th>\n",
       "      <td>3</td>\n",
       "      <td>30</td>\n",
       "      <td>1</td>\n",
       "      <td>2004-09-14 16:26:00</td>\n",
       "      <td>2004-09-14 16:26:00</td>\n",
       "    </tr>\n",
       "    <tr>\n",
       "      <th>1</th>\n",
       "      <td>25</td>\n",
       "      <td>30</td>\n",
       "      <td>-1</td>\n",
       "      <td>2004-09-14 16:53:00</td>\n",
       "      <td>2004-09-14 16:53:00</td>\n",
       "    </tr>\n",
       "    <tr>\n",
       "      <th>2</th>\n",
       "      <td>4</td>\n",
       "      <td>30</td>\n",
       "      <td>1</td>\n",
       "      <td>2004-09-14 17:08:00</td>\n",
       "      <td>2004-09-14 17:08:00</td>\n",
       "    </tr>\n",
       "    <tr>\n",
       "      <th>3</th>\n",
       "      <td>5</td>\n",
       "      <td>30</td>\n",
       "      <td>1</td>\n",
       "      <td>2004-09-14 17:37:00</td>\n",
       "      <td>2004-09-14 17:37:00</td>\n",
       "    </tr>\n",
       "    <tr>\n",
       "      <th>4</th>\n",
       "      <td>6</td>\n",
       "      <td>30</td>\n",
       "      <td>1</td>\n",
       "      <td>2004-09-14 19:28:00</td>\n",
       "      <td>2004-09-14 19:28:00</td>\n",
       "    </tr>\n",
       "  </tbody>\n",
       "</table>\n",
       "</div>"
      ],
      "text/plain": [
       "  ID_voter ID_candidate Sign                 Date            DATETIME\n",
       "0        3           30    1  2004-09-14 16:26:00 2004-09-14 16:26:00\n",
       "1       25           30   -1  2004-09-14 16:53:00 2004-09-14 16:53:00\n",
       "2        4           30    1  2004-09-14 17:08:00 2004-09-14 17:08:00\n",
       "3        5           30    1  2004-09-14 17:37:00 2004-09-14 17:37:00\n",
       "4        6           30    1  2004-09-14 19:28:00 2004-09-14 19:28:00"
      ]
     },
     "execution_count": 206,
     "metadata": {},
     "output_type": "execute_result"
    }
   ],
   "source": [
    "Wiki_votes['DATETIME'] = pd.to_datetime(Wiki_votes['Date'], format='%Y-%m-%d %H:%M:%S', errors='coerce')\n",
    "Wiki_votes.head()"
   ]
  },
  {
   "cell_type": "code",
   "execution_count": 314,
   "metadata": {},
   "outputs": [
    {
     "name": "stdout",
     "output_type": "stream",
     "text": [
      "Exemple : the date of the first post of the dataset is : 2004-09-14 17:37:00\n",
      " Its type is  <class 'pandas._libs.tslibs.timestamps.Timestamp'>\n"
     ]
    }
   ],
   "source": [
    "print('Exemple : the date of the first post of the dataset is : {}'.format(Wiki_votes['DATETIME'][3]))\n",
    "print(' Its type is ',type(Wiki_votes['DATETIME'][3]))"
   ]
  },
  {
   "cell_type": "markdown",
   "metadata": {},
   "source": [
    "split into positive and negative dataset\n",
    "\n",
    "*Positive*"
   ]
  },
  {
   "cell_type": "code",
   "execution_count": 281,
   "metadata": {},
   "outputs": [
    {
     "name": "stdout",
     "output_type": "stream",
     "text": [
      "data body original .(114040, 5)\n",
      "body POS (83962, 5)\n"
     ]
    }
   ],
   "source": [
    "wiki_pos = Wiki_votes.copy()\n",
    "wiki_pos = wiki_pos.drop(wiki_pos[wiki_pos.Sign == '-1'].index).reset_index(drop=True)\n",
    "wiki_pos = wiki_pos.drop(wiki_pos[wiki_pos.Sign == '0'].index).reset_index(drop=True)\n",
    "print('data body original .{}'.format(Wiki_votes.shape))\n",
    "print('body POS {}'.format(wiki_pos.shape))"
   ]
  },
  {
   "cell_type": "code",
   "execution_count": 282,
   "metadata": {},
   "outputs": [
    {
     "data": {
      "text/html": [
       "<div>\n",
       "<style scoped>\n",
       "    .dataframe tbody tr th:only-of-type {\n",
       "        vertical-align: middle;\n",
       "    }\n",
       "\n",
       "    .dataframe tbody tr th {\n",
       "        vertical-align: top;\n",
       "    }\n",
       "\n",
       "    .dataframe thead th {\n",
       "        text-align: right;\n",
       "    }\n",
       "</style>\n",
       "<table border=\"1\" class=\"dataframe\">\n",
       "  <thead>\n",
       "    <tr style=\"text-align: right;\">\n",
       "      <th></th>\n",
       "      <th>ID_voter</th>\n",
       "      <th>ID_candidate</th>\n",
       "      <th>Sign</th>\n",
       "      <th>Date</th>\n",
       "      <th>DATETIME</th>\n",
       "    </tr>\n",
       "  </thead>\n",
       "  <tbody>\n",
       "    <tr>\n",
       "      <th>0</th>\n",
       "      <td>3</td>\n",
       "      <td>30</td>\n",
       "      <td>1</td>\n",
       "      <td>2004-09-14 16:26:00</td>\n",
       "      <td>2004-09-14 16:26:00</td>\n",
       "    </tr>\n",
       "    <tr>\n",
       "      <th>1</th>\n",
       "      <td>4</td>\n",
       "      <td>30</td>\n",
       "      <td>1</td>\n",
       "      <td>2004-09-14 17:08:00</td>\n",
       "      <td>2004-09-14 17:08:00</td>\n",
       "    </tr>\n",
       "    <tr>\n",
       "      <th>2</th>\n",
       "      <td>5</td>\n",
       "      <td>30</td>\n",
       "      <td>1</td>\n",
       "      <td>2004-09-14 17:37:00</td>\n",
       "      <td>2004-09-14 17:37:00</td>\n",
       "    </tr>\n",
       "    <tr>\n",
       "      <th>3</th>\n",
       "      <td>6</td>\n",
       "      <td>30</td>\n",
       "      <td>1</td>\n",
       "      <td>2004-09-14 19:28:00</td>\n",
       "      <td>2004-09-14 19:28:00</td>\n",
       "    </tr>\n",
       "    <tr>\n",
       "      <th>4</th>\n",
       "      <td>7</td>\n",
       "      <td>30</td>\n",
       "      <td>1</td>\n",
       "      <td>2004-09-14 19:37:00</td>\n",
       "      <td>2004-09-14 19:37:00</td>\n",
       "    </tr>\n",
       "  </tbody>\n",
       "</table>\n",
       "</div>"
      ],
      "text/plain": [
       "  ID_voter ID_candidate Sign                 Date            DATETIME\n",
       "0        3           30    1  2004-09-14 16:26:00 2004-09-14 16:26:00\n",
       "1        4           30    1  2004-09-14 17:08:00 2004-09-14 17:08:00\n",
       "2        5           30    1  2004-09-14 17:37:00 2004-09-14 17:37:00\n",
       "3        6           30    1  2004-09-14 19:28:00 2004-09-14 19:28:00\n",
       "4        7           30    1  2004-09-14 19:37:00 2004-09-14 19:37:00"
      ]
     },
     "execution_count": 282,
     "metadata": {},
     "output_type": "execute_result"
    }
   ],
   "source": [
    "wiki_pos.head()"
   ]
  },
  {
   "cell_type": "code",
   "execution_count": 283,
   "metadata": {},
   "outputs": [
    {
     "name": "stdout",
     "output_type": "stream",
     "text": [
      "In data wiki votes : sign of post 1 =  -1\n",
      "In wiki pos : sign of post 4 =  1\n"
     ]
    }
   ],
   "source": [
    "# check \n",
    "print('In data wiki votes : sign of post 1 = ', Wiki_votes['Sign'][1])\n",
    "print('In wiki pos : sign of post 4 = ', wiki_pos['Sign'][1])"
   ]
  },
  {
   "cell_type": "markdown",
   "metadata": {},
   "source": [
    "*Negative*"
   ]
  },
  {
   "cell_type": "code",
   "execution_count": 284,
   "metadata": {},
   "outputs": [
    {
     "name": "stdout",
     "output_type": "stream",
     "text": [
      "data body original .(114040, 5)\n",
      "body POS (23118, 5)\n"
     ]
    }
   ],
   "source": [
    "wiki_neg = Wiki_votes.copy()\n",
    "wiki_neg = wiki_neg.drop(wiki_neg[wiki_neg.Sign == '1'].index).reset_index(drop=True)\n",
    "wiki_neg = wiki_neg.drop(wiki_neg[wiki_neg.Sign == '0'].index).reset_index(drop=True)\n",
    "print('data body original .{}'.format(Wiki_votes.shape))\n",
    "print('body POS {}'.format(wiki_neg.shape))\n"
   ]
  },
  {
   "cell_type": "code",
   "execution_count": 285,
   "metadata": {},
   "outputs": [
    {
     "data": {
      "text/html": [
       "<div>\n",
       "<style scoped>\n",
       "    .dataframe tbody tr th:only-of-type {\n",
       "        vertical-align: middle;\n",
       "    }\n",
       "\n",
       "    .dataframe tbody tr th {\n",
       "        vertical-align: top;\n",
       "    }\n",
       "\n",
       "    .dataframe thead th {\n",
       "        text-align: right;\n",
       "    }\n",
       "</style>\n",
       "<table border=\"1\" class=\"dataframe\">\n",
       "  <thead>\n",
       "    <tr style=\"text-align: right;\">\n",
       "      <th></th>\n",
       "      <th>ID_voter</th>\n",
       "      <th>ID_candidate</th>\n",
       "      <th>Sign</th>\n",
       "      <th>Date</th>\n",
       "      <th>DATETIME</th>\n",
       "    </tr>\n",
       "  </thead>\n",
       "  <tbody>\n",
       "    <tr>\n",
       "      <th>0</th>\n",
       "      <td>25</td>\n",
       "      <td>30</td>\n",
       "      <td>-1</td>\n",
       "      <td>2004-09-14 16:53:00</td>\n",
       "      <td>2004-09-14 16:53:00</td>\n",
       "    </tr>\n",
       "    <tr>\n",
       "      <th>1</th>\n",
       "      <td>25</td>\n",
       "      <td>6</td>\n",
       "      <td>-1</td>\n",
       "      <td>2004-09-12 03:46:00</td>\n",
       "      <td>2004-09-12 03:46:00</td>\n",
       "    </tr>\n",
       "    <tr>\n",
       "      <th>2</th>\n",
       "      <td>4</td>\n",
       "      <td>8</td>\n",
       "      <td>-1</td>\n",
       "      <td>2004-09-14 22:25:00</td>\n",
       "      <td>2004-09-14 22:25:00</td>\n",
       "    </tr>\n",
       "    <tr>\n",
       "      <th>3</th>\n",
       "      <td>12</td>\n",
       "      <td>8</td>\n",
       "      <td>-1</td>\n",
       "      <td>2004-09-15 06:38:00</td>\n",
       "      <td>2004-09-15 06:38:00</td>\n",
       "    </tr>\n",
       "    <tr>\n",
       "      <th>4</th>\n",
       "      <td>78</td>\n",
       "      <td>8</td>\n",
       "      <td>-1</td>\n",
       "      <td>2004-09-15 19:25:00</td>\n",
       "      <td>2004-09-15 19:25:00</td>\n",
       "    </tr>\n",
       "  </tbody>\n",
       "</table>\n",
       "</div>"
      ],
      "text/plain": [
       "  ID_voter ID_candidate Sign                 Date            DATETIME\n",
       "0       25           30   -1  2004-09-14 16:53:00 2004-09-14 16:53:00\n",
       "1       25            6   -1  2004-09-12 03:46:00 2004-09-12 03:46:00\n",
       "2        4            8   -1  2004-09-14 22:25:00 2004-09-14 22:25:00\n",
       "3       12            8   -1  2004-09-15 06:38:00 2004-09-15 06:38:00\n",
       "4       78            8   -1  2004-09-15 19:25:00 2004-09-15 19:25:00"
      ]
     },
     "execution_count": 285,
     "metadata": {},
     "output_type": "execute_result"
    }
   ],
   "source": [
    "wiki_neg.head()"
   ]
  },
  {
   "cell_type": "code",
   "execution_count": 287,
   "metadata": {},
   "outputs": [
    {
     "name": "stdout",
     "output_type": "stream",
     "text": [
      "In data wiki votes : sign of post 1 =  1\n",
      "In wiki pos : sign of post 4 =  -1\n"
     ]
    }
   ],
   "source": [
    "# check \n",
    "print('In data wiki votes : sign of post 1 = ', Wiki_votes['Sign'][0])\n",
    "print('In wiki pos : sign of post 4 = ', wiki_neg['Sign'][0])"
   ]
  },
  {
   "cell_type": "markdown",
   "metadata": {},
   "source": [
    "#### Step 1 : Analysis of the year "
   ]
  },
  {
   "cell_type": "code",
   "execution_count": 297,
   "metadata": {},
   "outputs": [
    {
     "name": "stdout",
     "output_type": "stream",
     "text": [
      "Year Positive DATETIME\n",
      "2004     3544\n",
      "2005    21188\n",
      "2006    44588\n",
      "2007    14631\n",
      "2061        2\n",
      "2063        1\n",
      "2064        1\n",
      "2065        1\n",
      "2067        1\n",
      "2070        1\n",
      "2074        1\n",
      "2086        1\n",
      "2096        1\n",
      "2105        1\n",
      "dtype: int64\n",
      "Year Negative DATETIME\n",
      "2004     3544\n",
      "2005    19552\n",
      "2006       18\n",
      "2007        2\n",
      "2086        1\n",
      "2096        1\n",
      "dtype: int64\n"
     ]
    }
   ],
   "source": [
    "# Just to have an idea of what it'll look like. \n",
    "year_positive_wiki = wiki_pos.groupby(wiki_pos['DATETIME'].dt.year).size()\n",
    "year_negative_wiki = wiki_neg.groupby(wiki_neg['DATETIME'].dt.year).size()\n",
    "\n",
    "print('Year Positive', year_positive_wiki)\n",
    "print('Year Negative', year_negative_wiki)"
   ]
  },
  {
   "cell_type": "code",
   "execution_count": 303,
   "metadata": {},
   "outputs": [
    {
     "name": "stdout",
     "output_type": "stream",
     "text": [
      "      ID_voter ID_candidate Sign                 Date            DATETIME\n",
      "49060     4963         5092    1  2063-01-22 01:04:00 2063-01-22 01:04:00\n"
     ]
    }
   ],
   "source": [
    "print(wiki_pos[wiki_pos['DATETIME'].dt.year == 2063])"
   ]
  },
  {
   "cell_type": "markdown",
   "metadata": {},
   "source": [
    "Here we see that some of the year are not understandable as 2063. Thus we will filter the dataset to remove all the impossible years. "
   ]
  },
  {
   "cell_type": "code",
   "execution_count": 310,
   "metadata": {},
   "outputs": [],
   "source": [
    "wiki_neg = wiki_neg.drop(wiki_neg[wiki_neg['DATETIME'].dt.year > 2020].index).reset_index(drop=True)\n",
    "wiki_pos = wiki_pos.drop(wiki_pos[wiki_pos['DATETIME'].dt.year > 2020].index).reset_index(drop=True)"
   ]
  },
  {
   "cell_type": "code",
   "execution_count": 311,
   "metadata": {},
   "outputs": [
    {
     "name": "stdout",
     "output_type": "stream",
     "text": [
      "Empty DataFrame\n",
      "Columns: [ID_voter, ID_candidate, Sign, Date, DATETIME]\n",
      "Index: []\n"
     ]
    }
   ],
   "source": [
    "print(wiki_pos[wiki_pos['DATETIME'].dt.year == 2063])"
   ]
  },
  {
   "cell_type": "code",
   "execution_count": 313,
   "metadata": {},
   "outputs": [
    {
     "name": "stdout",
     "output_type": "stream",
     "text": [
      "Year Positive DATETIME\n",
      "2004     2569\n",
      "2005    17057\n",
      "2006    31915\n",
      "2007    31903\n",
      "2008      509\n",
      "dtype: int64\n",
      "Year Negative DATETIME\n",
      "2004     748\n",
      "2005    3161\n",
      "2006    9806\n",
      "2007    9294\n",
      "2008     109\n",
      "dtype: int64\n"
     ]
    }
   ],
   "source": [
    "# Check again the year distribution \n",
    "year_positive_wiki = wiki_pos.groupby(wiki_pos['DATETIME'].dt.year).size()\n",
    "year_negative_wiki = wiki_neg.groupby(wiki_neg['DATETIME'].dt.year).size()\n",
    "\n",
    "print('Year Positive', year_positive_wiki)\n",
    "print('Year Negative', year_negative_wiki)"
   ]
  },
  {
   "cell_type": "markdown",
   "metadata": {},
   "source": [
    "So years represented are from 2004 to 2008. "
   ]
  },
  {
   "cell_type": "code",
   "execution_count": 315,
   "metadata": {},
   "outputs": [
    {
     "data": {
      "image/png": "[encoded data removed]",
      "text/plain": [
       "<Figure size 432x288 with 1 Axes>"
      ]
     },
     "metadata": {
      "needs_background": "light"
     },
     "output_type": "display_data"
    }
   ],
   "source": [
    "N = 5\n",
    "ind = np.arange(N)  # the x locations for the groups\n",
    "width = 0.27       # the width of the bars\n",
    "\n",
    "fig = plt.figure()\n",
    "ax = fig.add_subplot(111)\n",
    "\n",
    " \n",
    "year_pos_wiki = wiki_pos.groupby(wiki_pos['DATETIME'].dt.year).size()\n",
    "rects1 = ax.bar(ind, year_pos_wiki, width, color='g')\n",
    "year_neg_wiki = wiki_neg.groupby(wiki_neg['DATETIME'].dt.year).size()\n",
    "rects2 = ax.bar(ind+width, year_neg_wiki, width, color='r')\n",
    "\n",
    "ax.set_ylabel('Number of posts')\n",
    "ax.set_xlabel('Year')\n",
    "ax.set_title('Distribution of the positive and negative posts along the years')\n",
    "ax.set_xticks(ind+width)\n",
    "ax.set_xticklabels( ('2004', '2005', '2006', '2007', '2008'))\n",
    "ax.legend((rects1[0], rects2[0]), ('positif', 'negatif'))\n",
    "\n",
    "plt.show()"
   ]
  },
  {
   "cell_type": "markdown",
   "metadata": {},
   "source": [
    "**Analysis :**\n",
    "- So here both the amount of positive votes is higher than the negative ones, but both seams to have the same evolution along the year. We have to compute the ratio to make sure. "
   ]
  },
  {
   "cell_type": "code",
   "execution_count": 358,
   "metadata": {},
   "outputs": [
    {
     "data": {
      "image/png": "[encoded data removed]",
      "text/plain": [
       "<Figure size 432x288 with 1 Axes>"
      ]
     },
     "metadata": {
      "needs_background": "light"
     },
     "output_type": "display_data"
    }
   ],
   "source": [
    "ratio_wiki = [(int(b) / int(m))*100 for b,m in zip(year_neg_wiki, year_pos_wiki)]\n",
    "N = 5\n",
    "ind = np.arange(N)  # the x locations for the groups\n",
    "width = 0.27       # the width of the bars\n",
    "\n",
    "fig = plt.figure()\n",
    "ax = fig.add_subplot(111)\n",
    "\n",
    "\n",
    "rects1 = ax.bar(ind, ratio_wiki, width, color='b')\n",
    "ax.set_ylabel('Number of posts')\n",
    "ax.set_xlabel('Month')\n",
    "ax.set_title('WIKIPEDIA : Distribution of the ratio from January to December')\n",
    "ax.set_xticks(ind)\n",
    "ax.set_xticklabels( ('2004', '2005', '2006', '2007', '2008'))\n",
    "ax.legend('ratio neg/pos*100')\n",
    "\n",
    "plt.show()"
   ]
  },
  {
   "cell_type": "markdown",
   "metadata": {},
   "source": [
    "- so in 2005 the ratio neg/pos*100 is smaller than in 2006 and 2007. We can see on the previous graph that between 2004 and 2007 there is a huge increase of positive votes. \n",
    "- as we want to compare two different subgraphs based on year analysis, it is more intersting to take 2005 and 2007 as 2004 and 2007 have quite the same ratio (thus 2007 is an enlargement of the situation in 2004). \n",
    "\n",
    "**Ccl :** In order to assess the impact of the **HOUR** on the structure of the network, we can compare  3 subgraphs : \n",
    "> - from 2005 (representative of the first group - ratio  15-20- )\n",
    "> - from 2007 (representative of the second group, -ratio 25-30-)\n",
    "> - from 2008 (representative of the third group, -ration 20-25-)"
   ]
  },
  {
   "cell_type": "markdown",
   "metadata": {},
   "source": [
    "#### Step 2 : Analysis of the month "
   ]
  },
  {
   "cell_type": "code",
   "execution_count": 359,
   "metadata": {},
   "outputs": [
    {
     "name": "stdout",
     "output_type": "stream",
     "text": [
      "Month Positive DATETIME\n",
      "1     6610\n",
      "2     5815\n",
      "3     6766\n",
      "4     6477\n",
      "5     7760\n",
      "6     6893\n",
      "7     6438\n",
      "8     5989\n",
      "9     6353\n",
      "10    8610\n",
      "11    8748\n",
      "12    7494\n",
      "dtype: int64\n",
      "Month Negative DATETIME\n",
      "1     2006\n",
      "2     1605\n",
      "3     1894\n",
      "4     1857\n",
      "5     2272\n",
      "6     1830\n",
      "7     2134\n",
      "8     1818\n",
      "9     1817\n",
      "10    2279\n",
      "11    1602\n",
      "12    2004\n",
      "dtype: int64\n"
     ]
    }
   ],
   "source": [
    "month_positive_wiki = wiki_pos.groupby(wiki_pos['DATETIME'].dt.month).size()\n",
    "month_negative_wiki = wiki_neg.groupby(wiki_neg['DATETIME'].dt.month).size()\n",
    "print('Month Positive', month_positive_wiki)\n",
    "print('Month Negative', month_negative_wiki)"
   ]
  },
  {
   "cell_type": "code",
   "execution_count": 361,
   "metadata": {},
   "outputs": [
    {
     "data": {
      "image/png": "[encoded data removed]",
      "text/plain": [
       "<Figure size 432x288 with 1 Axes>"
      ]
     },
     "metadata": {
      "needs_background": "light"
     },
     "output_type": "display_data"
    }
   ],
   "source": [
    "N = 12\n",
    "ind = np.arange(N)  # the x locations for the groups\n",
    "width = 0.27       # the width of the bars\n",
    "\n",
    "fig = plt.figure()\n",
    "ax = fig.add_subplot(111)\n",
    "\n",
    " \n",
    "month_pos_wiki = wiki_pos.groupby(wiki_pos['DATETIME'].dt.month).size()\n",
    "rects1 = ax.bar(ind, month_pos_wiki, width, color='g')\n",
    "month_neg_wiki = wiki_neg.groupby(wiki_neg['DATETIME'].dt.month).size()\n",
    "rects2 = ax.bar(ind+width, month_neg_wiki, width, color='r')\n",
    "\n",
    "ax.set_ylabel('Number of posts')\n",
    "ax.set_xlabel('Month')\n",
    "ax.set_title('WIKIPEDIA : Distribution of the positive and negative posts from January to December')\n",
    "ax.set_xticks(ind+width)\n",
    "ax.set_xticklabels( ('01', '02', '03', '04', '05', '06', '07', '08', '09', '10', '11', '12'))\n",
    "ax.legend( (rects1[0], rects2[0]), ('positif', 'negatif') )\n",
    "\n",
    "plt.show()"
   ]
  },
  {
   "cell_type": "markdown",
   "metadata": {},
   "source": [
    "**Analysis :**\n",
    "- hard to see if pos and neg have the same trend, need to compute the ratio"
   ]
  },
  {
   "cell_type": "code",
   "execution_count": 362,
   "metadata": {},
   "outputs": [
    {
     "data": {
      "image/png": "[encoded data removed]",
      "text/plain": [
       "<Figure size 432x288 with 1 Axes>"
      ]
     },
     "metadata": {
      "needs_background": "light"
     },
     "output_type": "display_data"
    }
   ],
   "source": [
    "ratio_w = [(int(b) / int(m))*100 for b,m in zip(month_neg_wiki, month_pos_wiki)]\n",
    "N = 12\n",
    "ind = np.arange(N)  # the x locations for the groups\n",
    "width = 0.27       # the width of the bars\n",
    "\n",
    "fig = plt.figure()\n",
    "ax = fig.add_subplot(111)\n",
    "\n",
    "\n",
    "rects1 = ax.bar(ind, ratio_w, width, color='b')\n",
    "ax.set_ylabel('ratio')\n",
    "ax.set_xlabel('month')\n",
    "ax.set_title('WIKIPEDIA : Distribution of the ratio from January to December')\n",
    "ax.set_xticks(ind)\n",
    "ax.set_xticklabels( ('01', '02', '03', '04', '05', '06', '07', '08', '09', '10', '11', '12'))\n",
    "ax.legend('ratio neg/pos*100')\n",
    "\n",
    "plt.show()"
   ]
  },
  {
   "cell_type": "markdown",
   "metadata": {},
   "source": [
    "- three parts : small ratio : month 11, high ratio : month 7, middle ratio : month 1-2-3-4-5-6-8-9-10-12\n",
    "- we have to find the more representative month for middle ratio"
   ]
  },
  {
   "cell_type": "code",
   "execution_count": 365,
   "metadata": {},
   "outputs": [
    {
     "name": "stdout",
     "output_type": "stream",
     "text": [
      "The mean count of posts from jan. to apr. is  6950\n",
      "The difference between number of counts and mean for march and april is respectively: \n",
      " [340, 1135, 184, 473, 810, 57, 961, 1798, 544]\n"
     ]
    }
   ],
   "source": [
    "# ratio middle\n",
    "mean_middle_pos = statistics.mean([month_pos_wiki.iloc[0], month_pos_wiki.iloc[1], month_pos_wiki.iloc[2], month_pos_wiki.iloc[3], month_pos_wiki.iloc[4], month_pos_wiki.iloc[5], month_pos_wiki.iloc[7], month_pos_wiki.iloc[10], month_pos_wiki.iloc[11]])\n",
    "print('The mean count of posts from jan. to apr. is ', mean_middle_pos)\n",
    "print('The difference between number of counts and mean for march and april is respectively: \\n',[abs(x - mean_middle_pos) for x in[month_pos_wiki.iloc[0], month_pos_wiki.iloc[1], month_pos_wiki.iloc[2], month_pos_wiki.iloc[3], month_pos_wiki.iloc[4], month_pos_wiki.iloc[5], month_pos_wiki.iloc[7], month_pos_wiki.iloc[10], month_pos_wiki.iloc[11]]])"
   ]
  },
  {
   "cell_type": "markdown",
   "metadata": {},
   "source": [
    "- more representative for the middle ratio is june (06) because the difference with the average value is the smaller. "
   ]
  },
  {
   "cell_type": "markdown",
   "metadata": {},
   "source": [
    "**Ccl :** In order to assess the impact of the **MONTH** on the structure of the network, we can compare  3 subgraphs : \n",
    "> - from novembre (11) (representative of the first group - low ratio < 20- )\n",
    "> - from july (07) (representative of the second group, -high ratio > 30-)\n",
    "> - from june (06) (representative of the third group, -middle ratio around 25-)"
   ]
  },
  {
   "cell_type": "markdown",
   "metadata": {},
   "source": [
    "#### Step 3 :  Analysis of the day "
   ]
  },
  {
   "cell_type": "code",
   "execution_count": 372,
   "metadata": {},
   "outputs": [
    {
     "name": "stdout",
     "output_type": "stream",
     "text": [
      "Month Positive DATETIME\n",
      "1     3056\n",
      "2     2906\n",
      "3     2962\n",
      "4     3107\n",
      "5     3325\n",
      "6     2930\n",
      "7     2987\n",
      "8     2934\n",
      "9     2801\n",
      "10    3194\n",
      "11    2921\n",
      "12    2772\n",
      "13    2777\n",
      "14    2790\n",
      "15    2690\n",
      "16    2643\n",
      "17    2521\n",
      "18    2509\n",
      "19    2418\n",
      "20    2569\n",
      "21    2486\n",
      "22    2686\n",
      "23    2742\n",
      "24    2754\n",
      "25    2343\n",
      "26    2504\n",
      "27    2392\n",
      "28    2669\n",
      "29    2252\n",
      "30    2479\n",
      "31    1834\n",
      "dtype: int64\n",
      "Month Negative DATETIME\n",
      "1     845\n",
      "2     915\n",
      "3     851\n",
      "4     825\n",
      "5     789\n",
      "6     860\n",
      "7     800\n",
      "8     808\n",
      "9     842\n",
      "10    795\n",
      "11    701\n",
      "12    693\n",
      "13    761\n",
      "14    621\n",
      "15    608\n",
      "16    732\n",
      "17    667\n",
      "18    699\n",
      "19    634\n",
      "20    643\n",
      "21    726\n",
      "22    763\n",
      "23    854\n",
      "24    755\n",
      "25    650\n",
      "26    672\n",
      "27    696\n",
      "28    733\n",
      "29    839\n",
      "30    781\n",
      "31    560\n",
      "dtype: int64\n"
     ]
    }
   ],
   "source": [
    "day_positive_wiki = wiki_pos.groupby(wiki_pos['DATETIME'].dt.day).size()\n",
    "day_negative_wiki = wiki_neg.groupby(wiki_neg['DATETIME'].dt.day).size()\n",
    "print('Month Positive', day_positive_wiki)\n",
    "print('Month Negative', day_negative_wiki)"
   ]
  },
  {
   "cell_type": "code",
   "execution_count": 375,
   "metadata": {},
   "outputs": [
    {
     "data": {
      "image/png": "[encoded data removed]",
      "text/plain": [
       "<Figure size 432x288 with 1 Axes>"
      ]
     },
     "metadata": {
      "needs_background": "light"
     },
     "output_type": "display_data"
    }
   ],
   "source": [
    "N = 31\n",
    "ind = np.arange(N)  # the x locations for the groups\n",
    "width = 0.27       # the width of the bars\n",
    "\n",
    "fig = plt.figure()\n",
    "ax = fig.add_subplot(111)\n",
    "\n",
    " \n",
    "day_pos_wiki = wiki_pos.groupby(wiki_pos['DATETIME'].dt.day).size()\n",
    "rects1 = ax.bar(ind, day_pos_wiki, width, color='g')\n",
    "day_neg_wiki = wiki_neg.groupby(wiki_neg['DATETIME'].dt.day).size()\n",
    "rects2 = ax.bar(ind+width, day_neg_wiki, width, color='r')\n",
    "\n",
    "ax.set_ylabel('Number of posts')\n",
    "ax.set_xlabel('Day')\n",
    "ax.set_title('WIKIPEDIA : Distribution of the positive and negative posts along the days of a month')\n",
    "ax.set_xticks(ind+width)\n",
    "ax.set_xticklabels( ('1', '2', '3', '4', '5', '6', '7', '8', '9', '10', '11', '12', '13', '14', '15', '16', '17', '18', '19', '20', '21', '22', '23', '24', '25', '26' ,'27', '28', '29', '30', '31'))\n",
    "ax.legend((rects1[0], rects2[0]), ('positif', 'negatif'))\n",
    "\n",
    "plt.show()"
   ]
  },
  {
   "cell_type": "markdown",
   "metadata": {},
   "source": [
    "**Analysis :**\n",
    "- compared to other graph, color red very present, it means that the ratio will probably be higher with this observation according to the day of the month \n",
    "- need to compute the ration to see overall trend"
   ]
  },
  {
   "cell_type": "code",
   "execution_count": 377,
   "metadata": {},
   "outputs": [
    {
     "data": {
      "image/png": "[encoded data removed]",
      "text/plain": [
       "<Figure size 432x288 with 1 Axes>"
      ]
     },
     "metadata": {
      "needs_background": "light"
     },
     "output_type": "display_data"
    }
   ],
   "source": [
    "ratio_w = [(int(b) / int(m))*100 for b,m in zip(day_neg_wiki, day_pos_wiki)]\n",
    "N = 31\n",
    "ind = np.arange(N)  # the x locations for the groups\n",
    "width = 0.27       # the width of the bars\n",
    "\n",
    "fig = plt.figure()\n",
    "ax = fig.add_subplot(111)\n",
    "\n",
    "rects1 = ax.bar(ind, ratio_w, width, color='b')\n",
    "\n",
    "ax.set_ylabel('ratio')\n",
    "ax.set_xlabel('Day')\n",
    "ax.set_title('WIKIPEDIA : Distribution ratio  along the days of a month')\n",
    "ax.set_xticks(ind)\n",
    "ax.set_xticklabels( ('1', '2', '3', '4', '5', '6', '7', '8', '9', '10', '11', '12', '13', '14', '15', '16', '17', '18', '19', '20', '21', '22', '23', '24', '25', '26' ,'27', '28', '29', '30', '31'))\n",
    "ax.legend('ratio')\n",
    "plt.show()"
   ]
  },
  {
   "cell_type": "markdown",
   "metadata": {},
   "source": [
    "- as for Reddit, the approach look at the day in a month not very clear, we focus on day of the week"
   ]
  },
  {
   "cell_type": "code",
   "execution_count": 378,
   "metadata": {},
   "outputs": [
    {
     "name": "stdout",
     "output_type": "stream",
     "text": [
      "Month Positive DATETIME\n",
      "0    12181\n",
      "1    13259\n",
      "2    12409\n",
      "3    12257\n",
      "4    12252\n",
      "5    11081\n",
      "6    10514\n",
      "dtype: int64\n",
      "Month Negative DATETIME\n",
      "0    3203\n",
      "1    3513\n",
      "2    3353\n",
      "3    3488\n",
      "4    3602\n",
      "5    2827\n",
      "6    3132\n",
      "dtype: int64\n"
     ]
    }
   ],
   "source": [
    "day_positive_wiki = wiki_pos.groupby(wiki_pos['DATETIME'].dt.weekday).size()\n",
    "day_negative_wiki = wiki_neg.groupby(wiki_neg['DATETIME'].dt.weekday).size()\n",
    "print('Month Positive', day_positive_wiki)\n",
    "print('Month Negative', day_negative_wiki)"
   ]
  },
  {
   "cell_type": "code",
   "execution_count": 379,
   "metadata": {},
   "outputs": [
    {
     "data": {
      "image/png": "[encoded data removed]",
      "text/plain": [
       "<Figure size 432x288 with 1 Axes>"
      ]
     },
     "metadata": {
      "needs_background": "light"
     },
     "output_type": "display_data"
    }
   ],
   "source": [
    "N = 7\n",
    "ind = np.arange(N)  # the x locations for the groups\n",
    "width = 0.27       # the width of the bars\n",
    "\n",
    "fig = plt.figure()\n",
    "ax = fig.add_subplot(111)\n",
    "\n",
    " \n",
    "dayw_pos_wiki = wiki_pos.groupby(wiki_pos['DATETIME'].dt.weekday).size()\n",
    "rects1 = ax.bar(ind, dayw_pos_wiki, width, color='g')\n",
    "dayw_neg_wiki = wiki_neg.groupby(wiki_neg['DATETIME'].dt.weekday).size()\n",
    "rects2 = ax.bar(ind+width, dayw_neg_wiki, width, color='r')\n",
    "\n",
    "ax.set_ylabel('Number of posts')\n",
    "ax.set_xlabel('Day')\n",
    "ax.set_title('WIKIPEDIA : Distribution of the positive and negative posts along the days of a week')\n",
    "ax.set_xticks(ind+width)\n",
    "ax.set_xticklabels( ('mon.', 'tue.', 'wed.', 'thu.', 'fri.', 'sat.', 'sun.'))\n",
    "ax.legend((rects1[0], rects2[0]), ('positif', 'negatif'))\n",
    "\n",
    "plt.show()"
   ]
  },
  {
   "cell_type": "markdown",
   "metadata": {},
   "source": [
    "- As to compute the ratio"
   ]
  },
  {
   "cell_type": "code",
   "execution_count": 385,
   "metadata": {},
   "outputs": [
    {
     "data": {
      "image/png": "[encoded data removed]",
      "text/plain": [
       "<Figure size 432x288 with 1 Axes>"
      ]
     },
     "metadata": {
      "needs_background": "light"
     },
     "output_type": "display_data"
    }
   ],
   "source": [
    "ratio_w = [(int(b) / int(m))*100 for b,m in zip(dayw_neg_wiki, dayw_pos_wiki)]\n",
    "N = 7\n",
    "ind = np.arange(N)  # the x locations for the groups\n",
    "width = 0.27       # the width of the bars\n",
    "\n",
    "fig = plt.figure()\n",
    "ax = fig.add_subplot(111)\n",
    "\n",
    "rects1 = ax.bar(ind, ratio_w, width, color='b')\n",
    "\n",
    "ax.set_ylabel('ratio')\n",
    "ax.set_xlabel('Day of the week')\n",
    "ax.set_title('WIKIPEDIA : Distribution ratio  along the days of a week')\n",
    "ax.set_xticks(ind)\n",
    "ax.set_xticklabels( ('mon.', 'tue.', 'wed.', 'thu.', 'fri.', 'sat.', 'sun.'))\n",
    "ax.legend('ratio')\n",
    "plt.show()"
   ]
  },
  {
   "cell_type": "markdown",
   "metadata": {},
   "source": [
    "- increase during the work week (monday to friday) and different from saturday to sunday. Saturday looks like the beginning of the week while sunday looks like friday\n",
    "- so we will focus on the extrem : monday and friday"
   ]
  },
  {
   "cell_type": "markdown",
   "metadata": {},
   "source": [
    "**Ccl :** In order to assess the impact of the **MONTH** on the structure of the network, we can compare  3 subgraphs : \n",
    "> - from monday \n",
    "> - from friday"
   ]
  },
  {
   "cell_type": "markdown",
   "metadata": {},
   "source": [
    "#### Step 4 : Analysis of the hour "
   ]
  },
  {
   "cell_type": "code",
   "execution_count": 384,
   "metadata": {},
   "outputs": [
    {
     "name": "stdout",
     "output_type": "stream",
     "text": [
      "Month Positive DATETIME\n",
      "0     4784\n",
      "1     4417\n",
      "2     4196\n",
      "3     3879\n",
      "4     3597\n",
      "5     3196\n",
      "6     2821\n",
      "7     2507\n",
      "8     2400\n",
      "9     2073\n",
      "10    2290\n",
      "11    2421\n",
      "12    2539\n",
      "13    2877\n",
      "14    3215\n",
      "15    3585\n",
      "16    3784\n",
      "17    3978\n",
      "18    4067\n",
      "19    3939\n",
      "20    4144\n",
      "21    4574\n",
      "22    4313\n",
      "23    4357\n",
      "dtype: int64\n",
      "Month Negative DATETIME\n",
      "0     1273\n",
      "1     1173\n",
      "2     1149\n",
      "3     1081\n",
      "4      952\n",
      "5      913\n",
      "6      767\n",
      "7      713\n",
      "8      595\n",
      "9      544\n",
      "10     555\n",
      "11     548\n",
      "12     686\n",
      "13     778\n",
      "14     887\n",
      "15    1040\n",
      "16    1047\n",
      "17    1157\n",
      "18    1183\n",
      "19    1093\n",
      "20    1175\n",
      "21    1270\n",
      "22    1302\n",
      "23    1237\n",
      "dtype: int64\n"
     ]
    }
   ],
   "source": [
    "hour_positive_wiki = wiki_pos.groupby(wiki_pos['DATETIME'].dt.hour).size()\n",
    "hour_negative_wiki = wiki_neg.groupby(wiki_neg['DATETIME'].dt.hour).size()\n",
    "print('Month Positive', hour_positive_wiki)\n",
    "print('Month Negative', hour_negative_wiki)"
   ]
  },
  {
   "cell_type": "code",
   "execution_count": 387,
   "metadata": {},
   "outputs": [
    {
     "data": {
      "image/png": "[encoded data removed]",
      "text/plain": [
       "<Figure size 432x288 with 1 Axes>"
      ]
     },
     "metadata": {
      "needs_background": "light"
     },
     "output_type": "display_data"
    }
   ],
   "source": [
    "N = 24\n",
    "ind = np.arange(N)  # the x locations for the groups\n",
    "width = 0.27       # the width of the bars\n",
    "\n",
    "fig = plt.figure()\n",
    "ax = fig.add_subplot(111)\n",
    "\n",
    "hour_pos_wiki = wiki_pos.groupby(wiki_pos['DATETIME'].dt.hour).size()\n",
    "rects1 = ax.bar(ind, hour_pos_wiki, width, color='g')\n",
    "hour_neg_wiki = wiki_neg.groupby(wiki_neg['DATETIME'].dt.hour).size()\n",
    "rects2 = ax.bar(ind+width, hour_neg_wiki, width, color='r')\n",
    "\n",
    "ax.set_ylabel('Number of posts')\n",
    "ax.set_xlabel('Hour of the day')\n",
    "ax.set_title('Distribution of the positive and negative posts along the hours of a day')\n",
    "ax.set_xticks(ind+width)\n",
    "ax.set_xticklabels(('00', '01', '02', '03', '04', '05', '06', '07', '08', '09', '10', '11', '12', '13', '14', '15', '16', '17', '18', '19', '20', '21', '22', '23'))\n",
    "ax.legend((rects1[0], rects2[0]), ('positif', 'negatif'))\n",
    "\n",
    "plt.show()"
   ]
  },
  {
   "cell_type": "markdown",
   "metadata": {},
   "source": [
    "**Analysis :**\n",
    "- crazy trend :) It is to have very less vote at morning - mid day then during night ... (is it because of jetlag somehow??)\n",
    "- both positive and negative seams to have the same trend, but positive seams to be more marked. Compute the ratio to check"
   ]
  },
  {
   "cell_type": "code",
   "execution_count": 390,
   "metadata": {},
   "outputs": [
    {
     "data": {
      "image/png": "[encoded data removed]",
      "text/plain": [
       "<Figure size 432x288 with 1 Axes>"
      ]
     },
     "metadata": {
      "needs_background": "light"
     },
     "output_type": "display_data"
    }
   ],
   "source": [
    "ratio_ww = [(int(b) / int(m))*100 for b,m in zip(hour_neg_wiki, hour_pos_wiki)]\n",
    "N = 24\n",
    "ind = np.arange(N)  # the x locations for the groups\n",
    "width = 0.27       # the width of the bars\n",
    "\n",
    "fig = plt.figure()\n",
    "ax = fig.add_subplot(111)\n",
    "\n",
    "rects1 = ax.bar(ind, ratio_ww, width, color='b')\n",
    "\n",
    "ax.set_ylabel('ratio')\n",
    "ax.set_xlabel('hours of a day')\n",
    "ax.set_title('WIKIPEDIA : Distribution ratio  along the hours of a day')\n",
    "ax.set_xticks(ind)\n",
    "ax.set_xticklabels(('00', '01', '02', '03', '04', '05', '06', '07', '08', '09', '10', '11', '12', '13', '14', '15', '16', '17', '18', '19', '20', '21', '22', '23'))\n",
    "ax.legend('ratio')\n",
    "plt.show()"
   ]
  },
  {
   "cell_type": "markdown",
   "metadata": {},
   "source": [
    "- kind of loosing the previous trend : so both positve and negative where behaving quite similar\n",
    "- here 2 parts : low ratio (around morning : 8, 10, 11 and then middle one (00, 01, 02, 03, 04, 05, 06, 07, 09, 12, 13, 14, 15, 16, 17, 18, 19, 20, 21, 22, 23)"
   ]
  },
  {
   "cell_type": "code",
   "execution_count": 391,
   "metadata": {},
   "outputs": [
    {
     "name": "stdout",
     "output_type": "stream",
     "text": [
      "The mean count of posts from jan. to apr. is  14149\n",
      "The difference between number of counts and mean for march and april is respectively: \n",
      " [777, 40, 738]\n"
     ]
    }
   ],
   "source": [
    "# ratio low \n",
    "mean_rlow_pos = statistics.mean([hour_pos.iloc[8], hour_pos.iloc[10], hour_pos.iloc[11]])\n",
    "print('The mean count of posts from jan. to apr. is ', mean_rlow_pos)\n",
    "print('The difference between number of counts and mean for march and april is respectively: \\n',[abs(x - mean_rlow_pos) for x in[hour_pos.iloc[8], hour_pos.iloc[10], hour_pos.iloc[11]]])\n"
   ]
  },
  {
   "cell_type": "markdown",
   "metadata": {},
   "source": [
    "- 10h is representative of low ratio"
   ]
  },
  {
   "cell_type": "code",
   "execution_count": 395,
   "metadata": {},
   "outputs": [
    {
     "name": "stdout",
     "output_type": "stream",
     "text": [
      "The mean count of posts from jan. to apr. is  10621\n",
      "The difference between number of counts and mean for march and april is respectively: \n",
      " [3532, 4576, 4987, 4521, 3754, 2802, 683, 1448, 3805, 3950, 3996, 4373, 3528, 2646, 2546, 1797, 1268, 304, 721, 1687, 2396]\n"
     ]
    }
   ],
   "source": [
    "# ratio middle \n",
    "mean_rmiddle_pos = statistics.mean([hour_pos.iloc[0], hour_pos.iloc[1], hour_pos.iloc[2], hour_pos.iloc[3], hour_pos.iloc[4], hour_pos.iloc[5], hour_pos.iloc[6], hour_pos.iloc[7], hour_pos.iloc[9], hour_pos.iloc[12], hour_pos.iloc[13], hour_pos.iloc[14], hour_pos.iloc[15], hour_pos.iloc[16], hour_pos.iloc[17], hour_pos.iloc[18], hour_pos.iloc[19], hour_pos.iloc[20], hour_pos.iloc[21], hour_pos.iloc[22], hour_pos.iloc[23]])\n",
    "print('The mean count of posts from jan. to apr. is ', mean_rmiddle_pos)\n",
    "print('The difference between number of counts and mean for march and april is respectively: \\n',[abs(x - mean_rmiddle_pos) for x in[hour_pos.iloc[0], hour_pos.iloc[1], hour_pos.iloc[2], hour_pos.iloc[3], hour_pos.iloc[4], hour_pos.iloc[5], hour_pos.iloc[6], hour_pos.iloc[7], hour_pos.iloc[9], hour_pos.iloc[12], hour_pos.iloc[13], hour_pos.iloc[14], hour_pos.iloc[15], hour_pos.iloc[16], hour_pos.iloc[17], hour_pos.iloc[18], hour_pos.iloc[19], hour_pos.iloc[20], hour_pos.iloc[21], hour_pos.iloc[22], hour_pos.iloc[23]]])\n"
   ]
  },
  {
   "cell_type": "markdown",
   "metadata": {},
   "source": [
    "- 6h is representative of the middle ratio"
   ]
  },
  {
   "cell_type": "markdown",
   "metadata": {},
   "source": [
    "**Ccl :** In order to assess the impact of the **MONTH** on the structure of the network, we can compare  3 subgraphs : \n",
    "> - from 10h \n",
    "> - from 6h"
   ]
  },
  {
   "cell_type": "markdown",
   "metadata": {},
   "source": [
    "## General question -----------------------------------------------------------------------------------------------\n",
    "\n",
    "Do you agree to define the subsets according to the ratio or do you want to divid the subsets according to the size of the sample (so the number of posts-votes for a given day/hour/year)? \n",
    "\n",
    "## ---------------------------------------------------------------------------------------------------------------------------"
   ]
  },
  {
   "cell_type": "code",
   "execution_count": null,
   "metadata": {},
   "outputs": [],
   "source": []
  }
 ],
 "metadata": {
  "kernelspec": {
   "display_name": "Python 3",
   "language": "python",
   "name": "python3"
  },
  "language_info": {
   "codemirror_mode": {
    "name": "ipython",
    "version": 3
   },
   "file_extension": ".py",
   "mimetype": "text/x-python",
   "name": "python",
   "nbconvert_exporter": "python",
   "pygments_lexer": "ipython3",
   "version": "3.8.5"
  }
 },
 "nbformat": 4,
 "nbformat_minor": 4
}
