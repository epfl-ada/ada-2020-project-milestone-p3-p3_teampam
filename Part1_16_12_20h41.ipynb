{
 "cells": [
  {
   "cell_type": "markdown",
   "metadata": {},
   "source": [
    "# P3"
   ]
  },
  {
   "cell_type": "code",
   "execution_count": 1,
   "metadata": {},
   "outputs": [],
   "source": [
    "%matplotlib inline\n",
    "%load_ext autoreload\n",
    "%autoreload 2"
   ]
  },
  {
   "cell_type": "code",
   "execution_count": 2,
   "metadata": {},
   "outputs": [],
   "source": [
    "import pandas as pd\n",
    "import numpy as np\n",
    "import networkx as nx"
   ]
  },
  {
   "cell_type": "markdown",
   "metadata": {},
   "source": [
    "# Part 1\n",
    "\n",
    "## 1.1] Replicate Table 3 for the Reddit data\n",
    "\n",
    "### 1.1.1]Load the Reddit data and do some basic analysis\n",
    "\n",
    "**Load the data**"
   ]
  },
  {
   "cell_type": "code",
   "execution_count": 3,
   "metadata": {},
   "outputs": [
    {
     "data": {
      "text/html": [
       "<div>\n",
       "<style scoped>\n",
       "    .dataframe tbody tr th:only-of-type {\n",
       "        vertical-align: middle;\n",
       "    }\n",
       "\n",
       "    .dataframe tbody tr th {\n",
       "        vertical-align: top;\n",
       "    }\n",
       "\n",
       "    .dataframe thead th {\n",
       "        text-align: right;\n",
       "    }\n",
       "</style>\n",
       "<table border=\"1\" class=\"dataframe\">\n",
       "  <thead>\n",
       "    <tr style=\"text-align: right;\">\n",
       "      <th></th>\n",
       "      <th>SOURCE_SUBREDDIT</th>\n",
       "      <th>TARGET_SUBREDDIT</th>\n",
       "      <th>POST_ID</th>\n",
       "      <th>TIMESTAMP</th>\n",
       "      <th>LINK_SENTIMENT</th>\n",
       "      <th>PROPERTIES</th>\n",
       "    </tr>\n",
       "  </thead>\n",
       "  <tbody>\n",
       "    <tr>\n",
       "      <th>0</th>\n",
       "      <td>leagueoflegends</td>\n",
       "      <td>teamredditteams</td>\n",
       "      <td>1u4nrps</td>\n",
       "      <td>2013-12-31 16:39:58</td>\n",
       "      <td>1</td>\n",
       "      <td>345.0,298.0,0.75652173913,0.0173913043478,0.08...</td>\n",
       "    </tr>\n",
       "    <tr>\n",
       "      <th>1</th>\n",
       "      <td>theredlion</td>\n",
       "      <td>soccer</td>\n",
       "      <td>1u4qkd</td>\n",
       "      <td>2013-12-31 18:18:37</td>\n",
       "      <td>-1</td>\n",
       "      <td>101.0,98.0,0.742574257426,0.019801980198,0.049...</td>\n",
       "    </tr>\n",
       "  </tbody>\n",
       "</table>\n",
       "</div>"
      ],
      "text/plain": [
       "  SOURCE_SUBREDDIT TARGET_SUBREDDIT  POST_ID            TIMESTAMP  \\\n",
       "0  leagueoflegends  teamredditteams  1u4nrps  2013-12-31 16:39:58   \n",
       "1       theredlion           soccer   1u4qkd  2013-12-31 18:18:37   \n",
       "\n",
       "   LINK_SENTIMENT                                         PROPERTIES  \n",
       "0               1  345.0,298.0,0.75652173913,0.0173913043478,0.08...  \n",
       "1              -1  101.0,98.0,0.742574257426,0.019801980198,0.049...  "
      ]
     },
     "execution_count": 3,
     "metadata": {},
     "output_type": "execute_result"
    }
   ],
   "source": [
    "data_body = pd.read_csv('soc-redditHyperlinks-body.tsv', sep = '\\t')\n",
    "data_title = pd.read_csv('soc-redditHyperlinks-title.tsv', sep = '\\t')\n",
    "data_body.head(2)"
   ]
  },
  {
   "cell_type": "markdown",
   "metadata": {},
   "source": [
    "We rename the sign column, to have consistency with datasets like wikipedia, slashdot, epinions"
   ]
  },
  {
   "cell_type": "code",
   "execution_count": 5,
   "metadata": {},
   "outputs": [
    {
     "data": {
      "text/html": [
       "<div>\n",
       "<style scoped>\n",
       "    .dataframe tbody tr th:only-of-type {\n",
       "        vertical-align: middle;\n",
       "    }\n",
       "\n",
       "    .dataframe tbody tr th {\n",
       "        vertical-align: top;\n",
       "    }\n",
       "\n",
       "    .dataframe thead th {\n",
       "        text-align: right;\n",
       "    }\n",
       "</style>\n",
       "<table border=\"1\" class=\"dataframe\">\n",
       "  <thead>\n",
       "    <tr style=\"text-align: right;\">\n",
       "      <th></th>\n",
       "      <th>SOURCE_SUBREDDIT</th>\n",
       "      <th>TARGET_SUBREDDIT</th>\n",
       "      <th>POST_ID</th>\n",
       "      <th>TIMESTAMP</th>\n",
       "      <th>Sign</th>\n",
       "      <th>PROPERTIES</th>\n",
       "    </tr>\n",
       "  </thead>\n",
       "  <tbody>\n",
       "    <tr>\n",
       "      <th>0</th>\n",
       "      <td>leagueoflegends</td>\n",
       "      <td>teamredditteams</td>\n",
       "      <td>1u4nrps</td>\n",
       "      <td>2013-12-31 16:39:58</td>\n",
       "      <td>1</td>\n",
       "      <td>345.0,298.0,0.75652173913,0.0173913043478,0.08...</td>\n",
       "    </tr>\n",
       "    <tr>\n",
       "      <th>1</th>\n",
       "      <td>theredlion</td>\n",
       "      <td>soccer</td>\n",
       "      <td>1u4qkd</td>\n",
       "      <td>2013-12-31 18:18:37</td>\n",
       "      <td>-1</td>\n",
       "      <td>101.0,98.0,0.742574257426,0.019801980198,0.049...</td>\n",
       "    </tr>\n",
       "    <tr>\n",
       "      <th>2</th>\n",
       "      <td>inlandempire</td>\n",
       "      <td>bikela</td>\n",
       "      <td>1u4qlzs</td>\n",
       "      <td>2014-01-01 14:54:35</td>\n",
       "      <td>1</td>\n",
       "      <td>85.0,85.0,0.752941176471,0.0235294117647,0.082...</td>\n",
       "    </tr>\n",
       "    <tr>\n",
       "      <th>3</th>\n",
       "      <td>nfl</td>\n",
       "      <td>cfb</td>\n",
       "      <td>1u4sjvs</td>\n",
       "      <td>2013-12-31 17:37:55</td>\n",
       "      <td>1</td>\n",
       "      <td>1124.0,949.0,0.772241992883,0.0017793594306,0....</td>\n",
       "    </tr>\n",
       "    <tr>\n",
       "      <th>4</th>\n",
       "      <td>playmygame</td>\n",
       "      <td>gamedev</td>\n",
       "      <td>1u4w5ss</td>\n",
       "      <td>2014-01-01 02:51:13</td>\n",
       "      <td>1</td>\n",
       "      <td>715.0,622.0,0.777622377622,0.00699300699301,0....</td>\n",
       "    </tr>\n",
       "    <tr>\n",
       "      <th>5</th>\n",
       "      <td>dogemarket</td>\n",
       "      <td>dogecoin</td>\n",
       "      <td>1u4w7bs</td>\n",
       "      <td>2013-12-31 18:35:44</td>\n",
       "      <td>1</td>\n",
       "      <td>1328.0,1110.0,0.768825301205,0.0143072289157,0...</td>\n",
       "    </tr>\n",
       "    <tr>\n",
       "      <th>6</th>\n",
       "      <td>locationbot</td>\n",
       "      <td>legaladvice</td>\n",
       "      <td>1u4wfes</td>\n",
       "      <td>2014-01-07 20:17:41</td>\n",
       "      <td>1</td>\n",
       "      <td>184.0,172.0,0.744565217391,0.0326086956522,0.0...</td>\n",
       "    </tr>\n",
       "    <tr>\n",
       "      <th>7</th>\n",
       "      <td>indiefied</td>\n",
       "      <td>aww</td>\n",
       "      <td>1u50pos</td>\n",
       "      <td>2014-03-03 17:00:35</td>\n",
       "      <td>1</td>\n",
       "      <td>295.0,256.0,0.749152542373,0.0203389830508,0.0...</td>\n",
       "    </tr>\n",
       "    <tr>\n",
       "      <th>8</th>\n",
       "      <td>posthardcore</td>\n",
       "      <td>bestof2013</td>\n",
       "      <td>1u5ccus</td>\n",
       "      <td>2013-12-31 23:16:20</td>\n",
       "      <td>1</td>\n",
       "      <td>3927.0,3488.0,0.719887955182,0.0229182582124,0...</td>\n",
       "    </tr>\n",
       "    <tr>\n",
       "      <th>9</th>\n",
       "      <td>posthardcore</td>\n",
       "      <td>corejerk</td>\n",
       "      <td>1u5ccus</td>\n",
       "      <td>2013-12-31 23:16:20</td>\n",
       "      <td>1</td>\n",
       "      <td>3927.0,3488.0,0.719887955182,0.0229182582124,0...</td>\n",
       "    </tr>\n",
       "  </tbody>\n",
       "</table>\n",
       "</div>"
      ],
      "text/plain": [
       "  SOURCE_SUBREDDIT TARGET_SUBREDDIT  POST_ID            TIMESTAMP  Sign  \\\n",
       "0  leagueoflegends  teamredditteams  1u4nrps  2013-12-31 16:39:58     1   \n",
       "1       theredlion           soccer   1u4qkd  2013-12-31 18:18:37    -1   \n",
       "2     inlandempire           bikela  1u4qlzs  2014-01-01 14:54:35     1   \n",
       "3              nfl              cfb  1u4sjvs  2013-12-31 17:37:55     1   \n",
       "4       playmygame          gamedev  1u4w5ss  2014-01-01 02:51:13     1   \n",
       "5       dogemarket         dogecoin  1u4w7bs  2013-12-31 18:35:44     1   \n",
       "6      locationbot      legaladvice  1u4wfes  2014-01-07 20:17:41     1   \n",
       "7        indiefied              aww  1u50pos  2014-03-03 17:00:35     1   \n",
       "8     posthardcore       bestof2013  1u5ccus  2013-12-31 23:16:20     1   \n",
       "9     posthardcore         corejerk  1u5ccus  2013-12-31 23:16:20     1   \n",
       "\n",
       "                                          PROPERTIES  \n",
       "0  345.0,298.0,0.75652173913,0.0173913043478,0.08...  \n",
       "1  101.0,98.0,0.742574257426,0.019801980198,0.049...  \n",
       "2  85.0,85.0,0.752941176471,0.0235294117647,0.082...  \n",
       "3  1124.0,949.0,0.772241992883,0.0017793594306,0....  \n",
       "4  715.0,622.0,0.777622377622,0.00699300699301,0....  \n",
       "5  1328.0,1110.0,0.768825301205,0.0143072289157,0...  \n",
       "6  184.0,172.0,0.744565217391,0.0326086956522,0.0...  \n",
       "7  295.0,256.0,0.749152542373,0.0203389830508,0.0...  \n",
       "8  3927.0,3488.0,0.719887955182,0.0229182582124,0...  \n",
       "9  3927.0,3488.0,0.719887955182,0.0229182582124,0...  "
      ]
     },
     "execution_count": 5,
     "metadata": {},
     "output_type": "execute_result"
    }
   ],
   "source": [
    "data_body = data_body.rename(columns = {'LINK_SENTIMENT' : 'Sign'})\n",
    "data_title = data_title.rename(columns = {'LINK_SENTIMENT' : 'Sign'})\n",
    "data_body.head(10)"
   ]
  },
  {
   "cell_type": "markdown",
   "metadata": {},
   "source": [
    "**Create the dataframe containing body + title links**"
   ]
  },
  {
   "cell_type": "code",
   "execution_count": 6,
   "metadata": {},
   "outputs": [
    {
     "data": {
      "text/html": [
       "<div>\n",
       "<style scoped>\n",
       "    .dataframe tbody tr th:only-of-type {\n",
       "        vertical-align: middle;\n",
       "    }\n",
       "\n",
       "    .dataframe tbody tr th {\n",
       "        vertical-align: top;\n",
       "    }\n",
       "\n",
       "    .dataframe thead th {\n",
       "        text-align: right;\n",
       "    }\n",
       "</style>\n",
       "<table border=\"1\" class=\"dataframe\">\n",
       "  <thead>\n",
       "    <tr style=\"text-align: right;\">\n",
       "      <th></th>\n",
       "      <th>SOURCE_SUBREDDIT</th>\n",
       "      <th>TARGET_SUBREDDIT</th>\n",
       "      <th>POST_ID</th>\n",
       "      <th>TIMESTAMP</th>\n",
       "      <th>Sign</th>\n",
       "      <th>PROPERTIES</th>\n",
       "    </tr>\n",
       "  </thead>\n",
       "  <tbody>\n",
       "    <tr>\n",
       "      <th>0</th>\n",
       "      <td>leagueoflegends</td>\n",
       "      <td>teamredditteams</td>\n",
       "      <td>1u4nrps</td>\n",
       "      <td>2013-12-31 16:39:58</td>\n",
       "      <td>1</td>\n",
       "      <td>345.0,298.0,0.75652173913,0.0173913043478,0.08...</td>\n",
       "    </tr>\n",
       "    <tr>\n",
       "      <th>1</th>\n",
       "      <td>theredlion</td>\n",
       "      <td>soccer</td>\n",
       "      <td>1u4qkd</td>\n",
       "      <td>2013-12-31 18:18:37</td>\n",
       "      <td>-1</td>\n",
       "      <td>101.0,98.0,0.742574257426,0.019801980198,0.049...</td>\n",
       "    </tr>\n",
       "    <tr>\n",
       "      <th>2</th>\n",
       "      <td>inlandempire</td>\n",
       "      <td>bikela</td>\n",
       "      <td>1u4qlzs</td>\n",
       "      <td>2014-01-01 14:54:35</td>\n",
       "      <td>1</td>\n",
       "      <td>85.0,85.0,0.752941176471,0.0235294117647,0.082...</td>\n",
       "    </tr>\n",
       "    <tr>\n",
       "      <th>3</th>\n",
       "      <td>nfl</td>\n",
       "      <td>cfb</td>\n",
       "      <td>1u4sjvs</td>\n",
       "      <td>2013-12-31 17:37:55</td>\n",
       "      <td>1</td>\n",
       "      <td>1124.0,949.0,0.772241992883,0.0017793594306,0....</td>\n",
       "    </tr>\n",
       "    <tr>\n",
       "      <th>4</th>\n",
       "      <td>playmygame</td>\n",
       "      <td>gamedev</td>\n",
       "      <td>1u4w5ss</td>\n",
       "      <td>2014-01-01 02:51:13</td>\n",
       "      <td>1</td>\n",
       "      <td>715.0,622.0,0.777622377622,0.00699300699301,0....</td>\n",
       "    </tr>\n",
       "  </tbody>\n",
       "</table>\n",
       "</div>"
      ],
      "text/plain": [
       "  SOURCE_SUBREDDIT TARGET_SUBREDDIT  POST_ID            TIMESTAMP  Sign  \\\n",
       "0  leagueoflegends  teamredditteams  1u4nrps  2013-12-31 16:39:58     1   \n",
       "1       theredlion           soccer   1u4qkd  2013-12-31 18:18:37    -1   \n",
       "2     inlandempire           bikela  1u4qlzs  2014-01-01 14:54:35     1   \n",
       "3              nfl              cfb  1u4sjvs  2013-12-31 17:37:55     1   \n",
       "4       playmygame          gamedev  1u4w5ss  2014-01-01 02:51:13     1   \n",
       "\n",
       "                                          PROPERTIES  \n",
       "0  345.0,298.0,0.75652173913,0.0173913043478,0.08...  \n",
       "1  101.0,98.0,0.742574257426,0.019801980198,0.049...  \n",
       "2  85.0,85.0,0.752941176471,0.0235294117647,0.082...  \n",
       "3  1124.0,949.0,0.772241992883,0.0017793594306,0....  \n",
       "4  715.0,622.0,0.777622377622,0.00699300699301,0....  "
      ]
     },
     "execution_count": 6,
     "metadata": {},
     "output_type": "execute_result"
    }
   ],
   "source": [
    "data_total = pd.concat([data_body,data_title], ignore_index = True)\n",
    "data_total.head()"
   ]
  },
  {
   "cell_type": "markdown",
   "metadata": {},
   "source": [
    "**Convert the names into ids**"
   ]
  },
  {
   "cell_type": "code",
   "execution_count": 7,
   "metadata": {},
   "outputs": [],
   "source": [
    "from gensim.corpora import Dictionary\n",
    "\n",
    "unique_subreddits = [[element] for element in list(pd.concat([data_total['SOURCE_SUBREDDIT'], data_total['TARGET_SUBREDDIT']]).sort_values().unique())]\n",
    "dct = Dictionary(unique_subreddits)\n",
    "\n",
    "data_total['FromNodeId'] = dct.doc2idx(data_total['SOURCE_SUBREDDIT'].values)\n",
    "data_total['ToNodeId'] = dct.doc2idx(data_total['TARGET_SUBREDDIT'].values)"
   ]
  },
  {
   "cell_type": "code",
   "execution_count": null,
   "metadata": {},
   "outputs": [],
   "source": []
  },
  {
   "cell_type": "code",
   "execution_count": 22,
   "metadata": {},
   "outputs": [
    {
     "data": {
      "text/html": [
       "<div>\n",
       "<style scoped>\n",
       "    .dataframe tbody tr th:only-of-type {\n",
       "        vertical-align: middle;\n",
       "    }\n",
       "\n",
       "    .dataframe tbody tr th {\n",
       "        vertical-align: top;\n",
       "    }\n",
       "\n",
       "    .dataframe thead th {\n",
       "        text-align: right;\n",
       "    }\n",
       "</style>\n",
       "<table border=\"1\" class=\"dataframe\">\n",
       "  <thead>\n",
       "    <tr style=\"text-align: right;\">\n",
       "      <th></th>\n",
       "      <th>SOURCE_SUBREDDIT</th>\n",
       "      <th>TARGET_SUBREDDIT</th>\n",
       "      <th>POST_ID</th>\n",
       "      <th>TIMESTAMP</th>\n",
       "      <th>Sign</th>\n",
       "      <th>PROPERTIES</th>\n",
       "    </tr>\n",
       "  </thead>\n",
       "  <tbody>\n",
       "    <tr>\n",
       "      <th>311</th>\n",
       "      <td>leagueoflegends</td>\n",
       "      <td>leagueoflegendsmeta</td>\n",
       "      <td>1ue5u4s</td>\n",
       "      <td>2014-01-04 07:15:08</td>\n",
       "      <td>1</td>\n",
       "      <td>705.0,604.0,0.756028368794,0.00567375886525,0....</td>\n",
       "    </tr>\n",
       "    <tr>\n",
       "      <th>27785</th>\n",
       "      <td>leagueoflegends</td>\n",
       "      <td>leagueoflegendsmeta</td>\n",
       "      <td>28luias</td>\n",
       "      <td>2014-06-19 20:03:26</td>\n",
       "      <td>1</td>\n",
       "      <td>1763.0,1431.0,0.667612024957,0.0328984685196,0...</td>\n",
       "    </tr>\n",
       "    <tr>\n",
       "      <th>78113</th>\n",
       "      <td>leagueoflegends</td>\n",
       "      <td>leagueoflegendsmeta</td>\n",
       "      <td>2ygs2ns</td>\n",
       "      <td>2015-03-09 12:18:40</td>\n",
       "      <td>1</td>\n",
       "      <td>1963.0,1643.0,0.792154865003,0.00254712175242,...</td>\n",
       "    </tr>\n",
       "    <tr>\n",
       "      <th>108915</th>\n",
       "      <td>leagueoflegends</td>\n",
       "      <td>leagueoflegendsmeta</td>\n",
       "      <td>3d3lkls</td>\n",
       "      <td>2015-07-13 00:32:14</td>\n",
       "      <td>1</td>\n",
       "      <td>4002.0,3336.0,0.755872063968,0.0114942528736,0...</td>\n",
       "    </tr>\n",
       "    <tr>\n",
       "      <th>136923</th>\n",
       "      <td>leagueoflegends</td>\n",
       "      <td>leagueoflegendsmeta</td>\n",
       "      <td>3qzyi1s</td>\n",
       "      <td>2015-10-31 20:19:30</td>\n",
       "      <td>1</td>\n",
       "      <td>1809.0,1512.0,0.782752902156,0.00110558319514,...</td>\n",
       "    </tr>\n",
       "  </tbody>\n",
       "</table>\n",
       "</div>"
      ],
      "text/plain": [
       "       SOURCE_SUBREDDIT     TARGET_SUBREDDIT  POST_ID            TIMESTAMP  \\\n",
       "311     leagueoflegends  leagueoflegendsmeta  1ue5u4s  2014-01-04 07:15:08   \n",
       "27785   leagueoflegends  leagueoflegendsmeta  28luias  2014-06-19 20:03:26   \n",
       "78113   leagueoflegends  leagueoflegendsmeta  2ygs2ns  2015-03-09 12:18:40   \n",
       "108915  leagueoflegends  leagueoflegendsmeta  3d3lkls  2015-07-13 00:32:14   \n",
       "136923  leagueoflegends  leagueoflegendsmeta  3qzyi1s  2015-10-31 20:19:30   \n",
       "\n",
       "        Sign                                         PROPERTIES  \n",
       "311        1  705.0,604.0,0.756028368794,0.00567375886525,0....  \n",
       "27785      1  1763.0,1431.0,0.667612024957,0.0328984685196,0...  \n",
       "78113      1  1963.0,1643.0,0.792154865003,0.00254712175242,...  \n",
       "108915     1  4002.0,3336.0,0.755872063968,0.0114942528736,0...  \n",
       "136923     1  1809.0,1512.0,0.782752902156,0.00110558319514,...  "
      ]
     },
     "execution_count": 22,
     "metadata": {},
     "output_type": "execute_result"
    }
   ],
   "source": [
    "test = data_body[data_body['SOURCE_SUBREDDIT'] == 'leagueoflegends']\n",
    "test[test['TARGET_SUBREDDIT'] == 'leagueoflegendsmeta']"
   ]
  },
  {
   "cell_type": "code",
   "execution_count": 21,
   "metadata": {},
   "outputs": [
    {
     "data": {
      "text/plain": [
       "5"
      ]
     },
     "execution_count": 21,
     "metadata": {},
     "output_type": "execute_result"
    }
   ],
   "source": [
    "\n",
    "np.count_nonzero(data_body[data_body['SOURCE_SUBREDDIT'] == 'leagueoflegends']['TARGET_SUBREDDIT'].values == 'leagueoflegendsmeta')"
   ]
  },
  {
   "cell_type": "markdown",
   "metadata": {},
   "source": [
    "**Count the number of nodes and edges**"
   ]
  },
  {
   "cell_type": "code",
   "execution_count": 7,
   "metadata": {},
   "outputs": [
    {
     "data": {
      "text/html": [
       "<div>\n",
       "<style scoped>\n",
       "    .dataframe tbody tr th:only-of-type {\n",
       "        vertical-align: middle;\n",
       "    }\n",
       "\n",
       "    .dataframe tbody tr th {\n",
       "        vertical-align: top;\n",
       "    }\n",
       "\n",
       "    .dataframe thead th {\n",
       "        text-align: right;\n",
       "    }\n",
       "</style>\n",
       "<table border=\"1\" class=\"dataframe\">\n",
       "  <thead>\n",
       "    <tr style=\"text-align: right;\">\n",
       "      <th></th>\n",
       "      <th>body</th>\n",
       "      <th>title</th>\n",
       "      <th>total</th>\n",
       "    </tr>\n",
       "  </thead>\n",
       "  <tbody>\n",
       "    <tr>\n",
       "      <th>Nodes</th>\n",
       "      <td>35776</td>\n",
       "      <td>54075</td>\n",
       "      <td>67180</td>\n",
       "    </tr>\n",
       "    <tr>\n",
       "      <th>Edges</th>\n",
       "      <td>286561</td>\n",
       "      <td>571927</td>\n",
       "      <td>858488</td>\n",
       "    </tr>\n",
       "    <tr>\n",
       "      <th>+ edges</th>\n",
       "      <td>NaN</td>\n",
       "      <td>NaN</td>\n",
       "      <td>NaN</td>\n",
       "    </tr>\n",
       "    <tr>\n",
       "      <th>- edges</th>\n",
       "      <td>NaN</td>\n",
       "      <td>NaN</td>\n",
       "      <td>NaN</td>\n",
       "    </tr>\n",
       "  </tbody>\n",
       "</table>\n",
       "</div>"
      ],
      "text/plain": [
       "           body   title   total\n",
       "Nodes     35776   54075   67180\n",
       "Edges    286561  571927  858488\n",
       "+ edges     NaN     NaN     NaN\n",
       "- edges     NaN     NaN     NaN"
      ]
     },
     "execution_count": 7,
     "metadata": {},
     "output_type": "execute_result"
    }
   ],
   "source": [
    "table = pd.DataFrame(columns = ['body', 'title', 'total'], index = ['Nodes', 'Edges', '+ edges', '- edges'])\n",
    "\n",
    "nb_edges_body = data_body.shape[0]\n",
    "nb_nodes_body = np.unique(np.concatenate((data_body['SOURCE_SUBREDDIT'].values , data_body['TARGET_SUBREDDIT'].values))).shape[0]\n",
    "\n",
    "nb_edges_title = data_title.shape[0]\n",
    "nb_nodes_title = np.unique(np.concatenate((data_title['SOURCE_SUBREDDIT'].values , data_title['TARGET_SUBREDDIT'].values))).shape[0]\n",
    "\n",
    "nb_edges_total = data_total.shape[0]\n",
    "nb_nodes_total = np.unique(np.concatenate((data_total['SOURCE_SUBREDDIT'].values , data_total['TARGET_SUBREDDIT'].values))).shape[0]\n",
    "\n",
    "\n",
    "table.loc['Nodes'] = [nb_nodes_body, nb_nodes_title, nb_nodes_total]\n",
    "table.loc['Edges'] = [nb_edges_body, nb_edges_title, nb_edges_total]\n",
    "\n",
    "table.head()"
   ]
  },
  {
   "cell_type": "markdown",
   "metadata": {},
   "source": [
    "**Count the proportion of positives and negative edges**\n",
    "\n",
    "To apply this to several datasets, we create a function"
   ]
  },
  {
   "cell_type": "code",
   "execution_count": 8,
   "metadata": {},
   "outputs": [],
   "source": [
    "#Number of positive (negative) edges :\n",
    "#We first filter the data by keeping only +1 (or -1) values and then we find the number of lines (edges) that this filtering gives\n",
    "nb_pos_edges_body = data_body[data_body['Sign']==1].shape[0] \n",
    "nb_neg_edges_body = data_body[data_body['Sign']==-1].shape[0]\n",
    "\n",
    "nb_pos_edges_title = data_title[data_title['Sign']==1].shape[0] \n",
    "nb_neg_edges_title= data_title[data_title['Sign']==-1].shape[0]\n",
    "\n",
    "nb_pos_edges_total = data_total[data_total['Sign']==1].shape[0] \n",
    "nb_neg_edges_total = data_total[data_total['Sign']==-1].shape[0]\n",
    "\n",
    "#Proportion of positive/negative edges:\n",
    "#We divide the number of positive (or negative) edges previouly found and divide it by the total number of edges\n",
    "#We use the table1 to find the total number of edges as we already filled these informations\n",
    "perc_pos_body = nb_pos_edges_body / table.loc['Edges']['body']\n",
    "perc_neg_body = nb_neg_edges_body / table.loc['Edges']['body']\n",
    "\n",
    "perc_pos_title = nb_pos_edges_title / table.loc['Edges']['title']\n",
    "perc_neg_title = nb_neg_edges_title / table.loc['Edges']['title']\n",
    "\n",
    "perc_pos_total = nb_pos_edges_total / table.loc['Edges']['total']\n",
    "perc_neg_total = nb_neg_edges_total / table.loc['Edges']['total']"
   ]
  },
  {
   "cell_type": "code",
   "execution_count": 9,
   "metadata": {},
   "outputs": [
    {
     "data": {
      "text/html": [
       "<div>\n",
       "<style scoped>\n",
       "    .dataframe tbody tr th:only-of-type {\n",
       "        vertical-align: middle;\n",
       "    }\n",
       "\n",
       "    .dataframe tbody tr th {\n",
       "        vertical-align: top;\n",
       "    }\n",
       "\n",
       "    .dataframe thead th {\n",
       "        text-align: right;\n",
       "    }\n",
       "</style>\n",
       "<table border=\"1\" class=\"dataframe\">\n",
       "  <thead>\n",
       "    <tr style=\"text-align: right;\">\n",
       "      <th></th>\n",
       "      <th>body</th>\n",
       "      <th>title</th>\n",
       "      <th>total</th>\n",
       "    </tr>\n",
       "  </thead>\n",
       "  <tbody>\n",
       "    <tr>\n",
       "      <th>Nodes</th>\n",
       "      <td>35776</td>\n",
       "      <td>54075</td>\n",
       "      <td>67180</td>\n",
       "    </tr>\n",
       "    <tr>\n",
       "      <th>Edges</th>\n",
       "      <td>286561</td>\n",
       "      <td>571927</td>\n",
       "      <td>858488</td>\n",
       "    </tr>\n",
       "    <tr>\n",
       "      <th>+ edges</th>\n",
       "      <td>92.6%</td>\n",
       "      <td>89.3%</td>\n",
       "      <td>90.4%</td>\n",
       "    </tr>\n",
       "    <tr>\n",
       "      <th>- edges</th>\n",
       "      <td>7.4%</td>\n",
       "      <td>10.7%</td>\n",
       "      <td>9.6%</td>\n",
       "    </tr>\n",
       "  </tbody>\n",
       "</table>\n",
       "</div>"
      ],
      "text/plain": [
       "           body   title   total\n",
       "Nodes     35776   54075   67180\n",
       "Edges    286561  571927  858488\n",
       "+ edges   92.6%   89.3%   90.4%\n",
       "- edges    7.4%   10.7%    9.6%"
      ]
     },
     "execution_count": 9,
     "metadata": {},
     "output_type": "execute_result"
    }
   ],
   "source": [
    "#We must indicate a percentage format : we use the {:.1%} format to have a percentage with only one decimal, as in the paper \n",
    "table.loc['+ edges'] = ['{:.1%}'.format(perc_pos_body), '{:.1%}'.format(perc_pos_title), '{:.1%}'.format(perc_pos_total)]\n",
    "table.loc['- edges'] = ['{:.1%}'.format(perc_neg_body), '{:.1%}'.format(perc_neg_title), '{:.1%}'.format(perc_neg_total)]\n",
    "\n",
    "table.head()"
   ]
  },
  {
   "cell_type": "markdown",
   "metadata": {},
   "source": [
    "In the following, we take the total dataframe."
   ]
  },
  {
   "cell_type": "markdown",
   "metadata": {},
   "source": [
    "### 1.1.2] Replicate table 3\n",
    "\n",
    "**Create the graph with networkx**"
   ]
  },
  {
   "cell_type": "code",
   "execution_count": 35,
   "metadata": {},
   "outputs": [],
   "source": [
    "from table3 import create_table3\n",
    "\n",
    "table3_reddit = create_table3(data_total, data_type = 'reddit')"
   ]
  },
  {
   "cell_type": "code",
   "execution_count": 36,
   "metadata": {},
   "outputs": [
    {
     "data": {
      "text/html": [
       "<div>\n",
       "<style scoped>\n",
       "    .dataframe tbody tr th:only-of-type {\n",
       "        vertical-align: middle;\n",
       "    }\n",
       "\n",
       "    .dataframe tbody tr th {\n",
       "        vertical-align: top;\n",
       "    }\n",
       "\n",
       "    .dataframe thead th {\n",
       "        text-align: right;\n",
       "    }\n",
       "</style>\n",
       "<table border=\"1\" class=\"dataframe\">\n",
       "  <thead>\n",
       "    <tr style=\"text-align: right;\">\n",
       "      <th></th>\n",
       "      <th>Triad Ti</th>\n",
       "      <th>|Ti|</th>\n",
       "      <th>p(Ti)</th>\n",
       "      <th>p0(Ti)</th>\n",
       "      <th>s(Ti)</th>\n",
       "    </tr>\n",
       "  </thead>\n",
       "  <tbody>\n",
       "    <tr>\n",
       "      <th>0</th>\n",
       "      <td>T3 +++</td>\n",
       "      <td>1644323</td>\n",
       "      <td>0.863557</td>\n",
       "      <td>0.895420</td>\n",
       "      <td>-143.680338</td>\n",
       "    </tr>\n",
       "    <tr>\n",
       "      <th>1</th>\n",
       "      <td>T1 +--</td>\n",
       "      <td>41431</td>\n",
       "      <td>0.021759</td>\n",
       "      <td>0.009851</td>\n",
       "      <td>166.372390</td>\n",
       "    </tr>\n",
       "    <tr>\n",
       "      <th>2</th>\n",
       "      <td>T2 ++-</td>\n",
       "      <td>209148</td>\n",
       "      <td>0.109839</td>\n",
       "      <td>0.093704</td>\n",
       "      <td>76.401376</td>\n",
       "    </tr>\n",
       "    <tr>\n",
       "      <th>3</th>\n",
       "      <td>T1 ---</td>\n",
       "      <td>9225</td>\n",
       "      <td>0.004845</td>\n",
       "      <td>0.001024</td>\n",
       "      <td>164.806020</td>\n",
       "    </tr>\n",
       "  </tbody>\n",
       "</table>\n",
       "</div>"
      ],
      "text/plain": [
       "  Triad Ti     |Ti|     p(Ti)    p0(Ti)       s(Ti)\n",
       "0   T3 +++  1644323  0.863557  0.895420 -143.680338\n",
       "1   T1 +--    41431  0.021759  0.009851  166.372390\n",
       "2   T2 ++-   209148  0.109839  0.093704   76.401376\n",
       "3   T1 ---     9225  0.004845  0.001024  164.806020"
      ]
     },
     "execution_count": 36,
     "metadata": {},
     "output_type": "execute_result"
    }
   ],
   "source": [
    "table3_reddit.head()"
   ]
  },
  {
   "cell_type": "code",
   "execution_count": null,
   "metadata": {},
   "outputs": [],
   "source": []
  },
  {
   "cell_type": "code",
   "execution_count": null,
   "metadata": {},
   "outputs": [],
   "source": []
  },
  {
   "cell_type": "markdown",
   "metadata": {},
   "source": [
    "## 1.2] Study the impact of the proportion of positive edge on the table 3\n",
    "\n",
    "By studying the results of this change on table 3, we can study how the proportion of positive edges impact the balance theory.\n",
    "\n",
    "### 1.2.1] Remove some lines with positive link to have a dataset with 70% of positive edges"
   ]
  },
  {
   "cell_type": "code",
   "execution_count": 41,
   "metadata": {},
   "outputs": [
    {
     "data": {
      "text/html": [
       "<div>\n",
       "<style scoped>\n",
       "    .dataframe tbody tr th:only-of-type {\n",
       "        vertical-align: middle;\n",
       "    }\n",
       "\n",
       "    .dataframe tbody tr th {\n",
       "        vertical-align: top;\n",
       "    }\n",
       "\n",
       "    .dataframe thead th {\n",
       "        text-align: right;\n",
       "    }\n",
       "</style>\n",
       "<table border=\"1\" class=\"dataframe\">\n",
       "  <thead>\n",
       "    <tr style=\"text-align: right;\">\n",
       "      <th></th>\n",
       "      <th>body</th>\n",
       "      <th>title</th>\n",
       "      <th>total</th>\n",
       "      <th>remove</th>\n",
       "    </tr>\n",
       "  </thead>\n",
       "  <tbody>\n",
       "    <tr>\n",
       "      <th>Nodes</th>\n",
       "      <td>35776</td>\n",
       "      <td>54075</td>\n",
       "      <td>67180</td>\n",
       "      <td>40375</td>\n",
       "    </tr>\n",
       "    <tr>\n",
       "      <th>Edges</th>\n",
       "      <td>286561</td>\n",
       "      <td>571927</td>\n",
       "      <td>858488</td>\n",
       "      <td>274152</td>\n",
       "    </tr>\n",
       "    <tr>\n",
       "      <th>+ edges</th>\n",
       "      <td>92.6%</td>\n",
       "      <td>89.3%</td>\n",
       "      <td>90.4%</td>\n",
       "      <td>70.0%</td>\n",
       "    </tr>\n",
       "    <tr>\n",
       "      <th>- edges</th>\n",
       "      <td>7.4%</td>\n",
       "      <td>10.7%</td>\n",
       "      <td>9.6%</td>\n",
       "      <td>30.0%</td>\n",
       "    </tr>\n",
       "  </tbody>\n",
       "</table>\n",
       "</div>"
      ],
      "text/plain": [
       "           body   title   total  remove\n",
       "Nodes     35776   54075   67180   40375\n",
       "Edges    286561  571927  858488  274152\n",
       "+ edges   92.6%   89.3%   90.4%   70.0%\n",
       "- edges    7.4%   10.7%    9.6%   30.0%"
      ]
     },
     "execution_count": 41,
     "metadata": {},
     "output_type": "execute_result"
    }
   ],
   "source": [
    "data_remove = pd.concat((data_total[data_total['Sign']==-1], data_total[data_total['Sign']==1].sample(frac = 1).head(192000)))\n",
    "\n",
    "nb_edges_remove = data_remove.shape[0]\n",
    "nb_nodes_remove = np.unique(np.concatenate((data_remove['SOURCE_SUBREDDIT'].values , data_remove['TARGET_SUBREDDIT'].values))).shape[0]\n",
    "\n",
    "nb_pos_edges_remove = data_remove[data_remove['Sign']==1].shape[0] \n",
    "nb_neg_edges_remove = data_remove[data_remove['Sign']==-1].shape[0]\n",
    "\n",
    "perc_pos_remove = nb_pos_edges_remove / nb_edges_remove\n",
    "perc_neg_remove = nb_neg_edges_remove / nb_edges_remove\n",
    "\n",
    "table['remove_70'] = [nb_nodes_remove, nb_edges_remove, '{:.1%}'.format(perc_pos_remove), '{:.1%}'.format(perc_neg_remove)]\n",
    "table.head()"
   ]
  },
  {
   "cell_type": "markdown",
   "metadata": {},
   "source": [
    "**Create table 3 for this dataset, after removal of some positive edges**"
   ]
  },
  {
   "cell_type": "code",
   "execution_count": 43,
   "metadata": {},
   "outputs": [],
   "source": [
    "from table3 import create_table3\n",
    "\n",
    "table3_reddit = create_table3(data_remove, data_type = 'reddit')"
   ]
  },
  {
   "cell_type": "code",
   "execution_count": 44,
   "metadata": {},
   "outputs": [
    {
     "data": {
      "text/html": [
       "<div>\n",
       "<style scoped>\n",
       "    .dataframe tbody tr th:only-of-type {\n",
       "        vertical-align: middle;\n",
       "    }\n",
       "\n",
       "    .dataframe tbody tr th {\n",
       "        vertical-align: top;\n",
       "    }\n",
       "\n",
       "    .dataframe thead th {\n",
       "        text-align: right;\n",
       "    }\n",
       "</style>\n",
       "<table border=\"1\" class=\"dataframe\">\n",
       "  <thead>\n",
       "    <tr style=\"text-align: right;\">\n",
       "      <th></th>\n",
       "      <th>Triad Ti</th>\n",
       "      <th>|Ti|</th>\n",
       "      <th>p(Ti)</th>\n",
       "      <th>p0(Ti)</th>\n",
       "      <th>s(Ti)</th>\n",
       "    </tr>\n",
       "  </thead>\n",
       "  <tbody>\n",
       "    <tr>\n",
       "      <th>0</th>\n",
       "      <td>T3 +++</td>\n",
       "      <td>323566</td>\n",
       "      <td>0.823078</td>\n",
       "      <td>0.591102</td>\n",
       "      <td>295.845970</td>\n",
       "    </tr>\n",
       "    <tr>\n",
       "      <th>1</th>\n",
       "      <td>T1 +--</td>\n",
       "      <td>10727</td>\n",
       "      <td>0.027287</td>\n",
       "      <td>0.108622</td>\n",
       "      <td>-163.888680</td>\n",
       "    </tr>\n",
       "    <tr>\n",
       "      <th>2</th>\n",
       "      <td>T2 ++-</td>\n",
       "      <td>56703</td>\n",
       "      <td>0.144240</td>\n",
       "      <td>0.253402</td>\n",
       "      <td>-157.356572</td>\n",
       "    </tr>\n",
       "    <tr>\n",
       "      <th>3</th>\n",
       "      <td>T1 ---</td>\n",
       "      <td>2121</td>\n",
       "      <td>0.005395</td>\n",
       "      <td>0.046874</td>\n",
       "      <td>-123.039876</td>\n",
       "    </tr>\n",
       "  </tbody>\n",
       "</table>\n",
       "</div>"
      ],
      "text/plain": [
       "  Triad Ti    |Ti|     p(Ti)    p0(Ti)       s(Ti)\n",
       "0   T3 +++  323566  0.823078  0.591102  295.845970\n",
       "1   T1 +--   10727  0.027287  0.108622 -163.888680\n",
       "2   T2 ++-   56703  0.144240  0.253402 -157.356572\n",
       "3   T1 ---    2121  0.005395  0.046874 -123.039876"
      ]
     },
     "execution_count": 44,
     "metadata": {},
     "output_type": "execute_result"
    }
   ],
   "source": [
    "table3_reddit.head()"
   ]
  },
  {
   "cell_type": "markdown",
   "metadata": {},
   "source": [
    "### 1.2.2] Remove some lines with positive link to have a dataset with 50% of positive edges"
   ]
  },
  {
   "cell_type": "code",
   "execution_count": 50,
   "metadata": {},
   "outputs": [
    {
     "data": {
      "text/html": [
       "<div>\n",
       "<style scoped>\n",
       "    .dataframe tbody tr th:only-of-type {\n",
       "        vertical-align: middle;\n",
       "    }\n",
       "\n",
       "    .dataframe tbody tr th {\n",
       "        vertical-align: top;\n",
       "    }\n",
       "\n",
       "    .dataframe thead th {\n",
       "        text-align: right;\n",
       "    }\n",
       "</style>\n",
       "<table border=\"1\" class=\"dataframe\">\n",
       "  <thead>\n",
       "    <tr style=\"text-align: right;\">\n",
       "      <th></th>\n",
       "      <th>body</th>\n",
       "      <th>title</th>\n",
       "      <th>total</th>\n",
       "      <th>remove</th>\n",
       "      <th>remove_50</th>\n",
       "    </tr>\n",
       "  </thead>\n",
       "  <tbody>\n",
       "    <tr>\n",
       "      <th>Nodes</th>\n",
       "      <td>35776</td>\n",
       "      <td>54075</td>\n",
       "      <td>67180</td>\n",
       "      <td>40375</td>\n",
       "      <td>31507</td>\n",
       "    </tr>\n",
       "    <tr>\n",
       "      <th>Edges</th>\n",
       "      <td>286561</td>\n",
       "      <td>571927</td>\n",
       "      <td>858488</td>\n",
       "      <td>274152</td>\n",
       "      <td>164152</td>\n",
       "    </tr>\n",
       "    <tr>\n",
       "      <th>+ edges</th>\n",
       "      <td>92.6%</td>\n",
       "      <td>89.3%</td>\n",
       "      <td>90.4%</td>\n",
       "      <td>70.0%</td>\n",
       "      <td>50.0%</td>\n",
       "    </tr>\n",
       "    <tr>\n",
       "      <th>- edges</th>\n",
       "      <td>7.4%</td>\n",
       "      <td>10.7%</td>\n",
       "      <td>9.6%</td>\n",
       "      <td>30.0%</td>\n",
       "      <td>50.0%</td>\n",
       "    </tr>\n",
       "  </tbody>\n",
       "</table>\n",
       "</div>"
      ],
      "text/plain": [
       "           body   title   total  remove remove_50\n",
       "Nodes     35776   54075   67180   40375     31507\n",
       "Edges    286561  571927  858488  274152    164152\n",
       "+ edges   92.6%   89.3%   90.4%   70.0%     50.0%\n",
       "- edges    7.4%   10.7%    9.6%   30.0%     50.0%"
      ]
     },
     "execution_count": 50,
     "metadata": {},
     "output_type": "execute_result"
    }
   ],
   "source": [
    "data_remove = pd.concat((data_total[data_total['Sign']==-1], data_total[data_total['Sign']==1].sample(frac = 1).head(82000)))\n",
    "\n",
    "nb_edges_remove = data_remove.shape[0]\n",
    "nb_nodes_remove = np.unique(np.concatenate((data_remove['SOURCE_SUBREDDIT'].values , data_remove['TARGET_SUBREDDIT'].values))).shape[0]\n",
    "\n",
    "nb_pos_edges_remove = data_remove[data_remove['Sign']==1].shape[0] \n",
    "nb_neg_edges_remove = data_remove[data_remove['Sign']==-1].shape[0]\n",
    "\n",
    "perc_pos_remove = nb_pos_edges_remove / nb_edges_remove\n",
    "perc_neg_remove = nb_neg_edges_remove / nb_edges_remove\n",
    "\n",
    "table['remove_50'] = [nb_nodes_remove, nb_edges_remove, '{:.1%}'.format(perc_pos_remove), '{:.1%}'.format(perc_neg_remove)]\n",
    "table.head()"
   ]
  },
  {
   "cell_type": "code",
   "execution_count": 51,
   "metadata": {},
   "outputs": [
    {
     "data": {
      "text/html": [
       "<div>\n",
       "<style scoped>\n",
       "    .dataframe tbody tr th:only-of-type {\n",
       "        vertical-align: middle;\n",
       "    }\n",
       "\n",
       "    .dataframe tbody tr th {\n",
       "        vertical-align: top;\n",
       "    }\n",
       "\n",
       "    .dataframe thead th {\n",
       "        text-align: right;\n",
       "    }\n",
       "</style>\n",
       "<table border=\"1\" class=\"dataframe\">\n",
       "  <thead>\n",
       "    <tr style=\"text-align: right;\">\n",
       "      <th></th>\n",
       "      <th>Triad Ti</th>\n",
       "      <th>|Ti|</th>\n",
       "      <th>p(Ti)</th>\n",
       "      <th>p0(Ti)</th>\n",
       "      <th>s(Ti)</th>\n",
       "    </tr>\n",
       "  </thead>\n",
       "  <tbody>\n",
       "    <tr>\n",
       "      <th>0</th>\n",
       "      <td>T3 +++</td>\n",
       "      <td>92894</td>\n",
       "      <td>0.608858</td>\n",
       "      <td>0.589994</td>\n",
       "      <td>14.980611</td>\n",
       "    </tr>\n",
       "    <tr>\n",
       "      <th>1</th>\n",
       "      <td>T1 +--</td>\n",
       "      <td>15752</td>\n",
       "      <td>0.103244</td>\n",
       "      <td>0.108608</td>\n",
       "      <td>-6.733679</td>\n",
       "    </tr>\n",
       "    <tr>\n",
       "      <th>2</th>\n",
       "      <td>T2 ++-</td>\n",
       "      <td>36952</td>\n",
       "      <td>0.242195</td>\n",
       "      <td>0.254555</td>\n",
       "      <td>-11.082951</td>\n",
       "    </tr>\n",
       "    <tr>\n",
       "      <th>3</th>\n",
       "      <td>T1 ---</td>\n",
       "      <td>6973</td>\n",
       "      <td>0.045703</td>\n",
       "      <td>0.046842</td>\n",
       "      <td>-2.105825</td>\n",
       "    </tr>\n",
       "  </tbody>\n",
       "</table>\n",
       "</div>"
      ],
      "text/plain": [
       "  Triad Ti   |Ti|     p(Ti)    p0(Ti)      s(Ti)\n",
       "0   T3 +++  92894  0.608858  0.589994  14.980611\n",
       "1   T1 +--  15752  0.103244  0.108608  -6.733679\n",
       "2   T2 ++-  36952  0.242195  0.254555 -11.082951\n",
       "3   T1 ---   6973  0.045703  0.046842  -2.105825"
      ]
     },
     "execution_count": 51,
     "metadata": {},
     "output_type": "execute_result"
    }
   ],
   "source": [
    "table3_reddit = create_table3(data_remove, data_type = 'reddit')\n",
    "table3_reddit.head()"
   ]
  },
  {
   "cell_type": "markdown",
   "metadata": {},
   "source": [
    "## 1.3] Study of reciprocated links\n",
    "\n",
    "This part consist in replicating table 4 for the reddit data to enforce or refute the conclusion the authors do about reciprocated edges : balance theory is good to predict the sign of the reciprocated link of a positive link, and status explains well the sign of the reciprocated link of a negative link. \n",
    "\n",
    "We first replicate the table 4 for the wikipedia dataset to prove that our process is correct, and to ensure the reproducibility of this part of the paper.\n",
    "\n",
    "### 1.3.1] Reciprocation of table 4 for the wikipedia dataset\n",
    "\n",
    "**Load the wikipedia data and remove its neutral links**\n",
    "\n",
    "We use the parsed file we created in P2."
   ]
  },
  {
   "cell_type": "code",
   "execution_count": 93,
   "metadata": {},
   "outputs": [],
   "source": [
    "wiki_data = pd.read_csv('wiki_parsed.txt', sep = '\\t', header = None) #we load the data\n",
    "wiki = wiki_data.rename(columns={0: \"FromNodeId\", 1 : \"ToNodeId\", 2 : \"Sign\"}) #renamethe columns\n",
    "neutral_indx = wiki[wiki.Sign==0].index.values #We filter the dataset to keep neutral links and find the values of the indexes\n",
    "wiki = wiki.drop(neutral_indx) #We drop these lines"
   ]
  },
  {
   "cell_type": "code",
   "execution_count": 95,
   "metadata": {},
   "outputs": [],
   "source": [
    "import networkx as nx\n",
    "\n",
    "G = nx.from_pandas_edgelist(wiki, 'FromNodeId', 'ToNodeId', edge_attr = 'Sign')"
   ]
  },
  {
   "cell_type": "code",
   "execution_count": 104,
   "metadata": {},
   "outputs": [],
   "source": [
    "L = []\n",
    "for node in G.nodes():\n",
    "    neighbors = G[node]\n",
    "    for neighbor in neighbors:\n",
    "        if node in G[neighbor]:\n",
    "            L.append((node, neighbor))"
   ]
  },
  {
   "cell_type": "code",
   "execution_count": 105,
   "metadata": {},
   "outputs": [
    {
     "data": {
      "text/plain": [
       "201582"
      ]
     },
     "execution_count": 105,
     "metadata": {},
     "output_type": "execute_result"
    }
   ],
   "source": [
    "len(L)"
   ]
  },
  {
   "cell_type": "markdown",
   "metadata": {},
   "source": [
    "**Create a dataframe that contains only reciprocated edges**\n",
    "\n",
    "Notation : if A links towards B, we name A as the starting node, and B as the target node.<br>\n",
    "Let A links towards B, a simple description of our strategy  to find if B links to A is to find all edges that have B as a starting node. If A is a part of the target nodes of B, then B links to A. We create a dataframe for which we only include reciprocated edges, we add both the edges from A to B, and from B to A.\n",
    "\n",
    "The detailed code strategy to find reciprocated edges is : \n",
    "- Initialization : create a dataframe that will contain the edges for which we have a reciprocation.\n",
    "- 1st loop : we loop over all starting nodes, namely we loop over each `from_node`. For each `from_node`, we filter the original dataset to only have edges that have `from_node` as starting node.\n",
    "- 2nd loop : we loop over each target node of `from_node`. For each of these `to_node`, we filter the dataset to have edges that starts from `to_node`.\n",
    "- Test assignement : if `from_node` is a part of the target node of `to_node`, then we add the edges. Sometimes there is the same edge several times : we have $A \\rightarrow B$ several times. We decide to only have each edge one time : we just include $A \\rightarrow B$ one time and $B \\rightarrow A$ one time."
   ]
  },
  {
   "cell_type": "code",
   "execution_count": 76,
   "metadata": {},
   "outputs": [
    {
     "data": {
      "text/html": [
       "<div>\n",
       "<style scoped>\n",
       "    .dataframe tbody tr th:only-of-type {\n",
       "        vertical-align: middle;\n",
       "    }\n",
       "\n",
       "    .dataframe tbody tr th {\n",
       "        vertical-align: top;\n",
       "    }\n",
       "\n",
       "    .dataframe thead th {\n",
       "        text-align: right;\n",
       "    }\n",
       "</style>\n",
       "<table border=\"1\" class=\"dataframe\">\n",
       "  <thead>\n",
       "    <tr style=\"text-align: right;\">\n",
       "      <th></th>\n",
       "      <th>FromNodeId</th>\n",
       "      <th>ToNodeId</th>\n",
       "      <th>Sign</th>\n",
       "    </tr>\n",
       "  </thead>\n",
       "  <tbody>\n",
       "    <tr>\n",
       "      <th>33</th>\n",
       "      <td>3</td>\n",
       "      <td>54</td>\n",
       "      <td>1</td>\n",
       "    </tr>\n",
       "    <tr>\n",
       "      <th>1157</th>\n",
       "      <td>54</td>\n",
       "      <td>3</td>\n",
       "      <td>1</td>\n",
       "    </tr>\n",
       "    <tr>\n",
       "      <th>720</th>\n",
       "      <td>3</td>\n",
       "      <td>28</td>\n",
       "      <td>1</td>\n",
       "    </tr>\n",
       "    <tr>\n",
       "      <th>1180</th>\n",
       "      <td>28</td>\n",
       "      <td>3</td>\n",
       "      <td>1</td>\n",
       "    </tr>\n",
       "    <tr>\n",
       "      <th>2144</th>\n",
       "      <td>3</td>\n",
       "      <td>178</td>\n",
       "      <td>1</td>\n",
       "    </tr>\n",
       "  </tbody>\n",
       "</table>\n",
       "</div>"
      ],
      "text/plain": [
       "      FromNodeId  ToNodeId  Sign\n",
       "33             3        54     1\n",
       "1157          54         3     1\n",
       "720            3        28     1\n",
       "1180          28         3     1\n",
       "2144           3       178     1"
      ]
     },
     "execution_count": 76,
     "metadata": {},
     "output_type": "execute_result"
    }
   ],
   "source": [
    "#Initialization\n",
    "wiki_reci = pd.DataFrame()\n",
    "\n",
    "#1st loop : #for all starting nodes\n",
    "for from_node in wiki['FromNodeId'].unique(): \n",
    "    #filter the dataset to have only the edges that have from_node as a starting node\n",
    "    from_df = wiki[wiki['FromNodeId'] == from_node]\n",
    "    \n",
    "    #2nd loop : for each target node for 'from_node', the starting node \n",
    "    for to_node in from_df['ToNodeId'].values : \n",
    "        #filter the dataset to have the edges that have as starting node, the target node of 'from_node'\n",
    "        to_df = wiki[wiki['FromNodeId'] == to_node] \n",
    "        \n",
    "        if from_node in to_df['ToNodeId'].values: #\n",
    "            #we add both edges\n",
    "            wiki_reci = pd.concat([wiki_reci, wiki.loc[(wiki['FromNodeId'] ==from_node) & (wiki['ToNodeId']==to_node)].head(1)])\n",
    "            wiki_reci = pd.concat([wiki_reci, wiki.loc[(wiki['FromNodeId'] == to_node) & (wiki['ToNodeId']==from_node)].head(1)])\n",
    "            #we need to drop at least one edge from the original data to not add the reciprocation several times\n",
    "            wiki = wiki.drop(wiki.loc[(wiki['FromNodeId'] ==from_node) & (wiki['ToNodeId']==to_node)].index)\n",
    "            wiki = wiki.drop(wiki.loc[(wiki['FromNodeId'] ==to_node) & (wiki['ToNodeId']==from_node)].index)\n",
    "            \n",
    "wiki_reci.head() #2min30"
   ]
  },
  {
   "cell_type": "code",
   "execution_count": null,
   "metadata": {},
   "outputs": [],
   "source": [
    "wiki_reci.shape[0]"
   ]
  },
  {
   "cell_type": "markdown",
   "metadata": {},
   "source": [
    "We first want to know what part of the original wikipedia reciprocated edges represent. The authors say that about 3-5% of the original dataset's edges are reciprocation of existing links. \n",
    "\n",
    "To check this, we divide the number of edges of this dataframe containing reciprocated edges by two time the number of edges in the original dataset (because we counted the link and its reciprocation, while in the paper they only count the reciprocation)."
   ]
  },
  {
   "cell_type": "code",
   "execution_count": 39,
   "metadata": {},
   "outputs": [
    {
     "name": "stdout",
     "output_type": "stream",
     "text": [
      "propotion of reciprocated edges : 2.96%\n"
     ]
    }
   ],
   "source": [
    "#we compute the proportion\n",
    "print('propotion of reciprocated edges : {:.2%}'.format(wiki_reci.shape[0]/(2*wiki.shape[0])))"
   ]
  },
  {
   "cell_type": "markdown",
   "metadata": {},
   "source": [
    "It seems we have a similar result than with the paper. Now we replicate table 4\n",
    "\n",
    "**Replication of table 4 for the wikipedia dataset**\n",
    "\n",
    "To do this, we first create the networkx graph associated with this dataframe. Then we replicate table 4. The idea to find the `P(+|+)` and `P(-|+)` is the following : for each node, we find each of its neighbors linked with a positive sign to it, and then we test what is the sign of the reciprocated link, and add a count to the corresponding field."
   ]
  },
  {
   "cell_type": "code",
   "execution_count": 78,
   "metadata": {},
   "outputs": [
    {
     "data": {
      "text/html": [
       "<div>\n",
       "<style scoped>\n",
       "    .dataframe tbody tr th:only-of-type {\n",
       "        vertical-align: middle;\n",
       "    }\n",
       "\n",
       "    .dataframe tbody tr th {\n",
       "        vertical-align: top;\n",
       "    }\n",
       "\n",
       "    .dataframe thead th {\n",
       "        text-align: right;\n",
       "    }\n",
       "</style>\n",
       "<table border=\"1\" class=\"dataframe\">\n",
       "  <thead>\n",
       "    <tr style=\"text-align: right;\">\n",
       "      <th></th>\n",
       "      <th>wikipedia</th>\n",
       "      <th>Count</th>\n",
       "      <th>Fraction</th>\n",
       "    </tr>\n",
       "  </thead>\n",
       "  <tbody>\n",
       "    <tr>\n",
       "      <th>0</th>\n",
       "      <td>P(+|+)</td>\n",
       "      <td>2542</td>\n",
       "      <td>0.950636</td>\n",
       "    </tr>\n",
       "    <tr>\n",
       "      <th>1</th>\n",
       "      <td>P(-|+)</td>\n",
       "      <td>132</td>\n",
       "      <td>0.049364</td>\n",
       "    </tr>\n",
       "    <tr>\n",
       "      <th>2</th>\n",
       "      <td>P(+|-)</td>\n",
       "      <td>206</td>\n",
       "      <td>0.662379</td>\n",
       "    </tr>\n",
       "    <tr>\n",
       "      <th>3</th>\n",
       "      <td>P(-|-)</td>\n",
       "      <td>105</td>\n",
       "      <td>0.337621</td>\n",
       "    </tr>\n",
       "  </tbody>\n",
       "</table>\n",
       "</div>"
      ],
      "text/plain": [
       "  wikipedia  Count  Fraction\n",
       "0    P(+|+)   2542  0.950636\n",
       "1    P(-|+)    132  0.049364\n",
       "2    P(+|-)    206  0.662379\n",
       "3    P(-|-)    105  0.337621"
      ]
     },
     "execution_count": 78,
     "metadata": {},
     "output_type": "execute_result"
    }
   ],
   "source": [
    "from table4 import create_table4\n",
    "\n",
    "table4_wiki = create_table4(wiki_reci, name_data = 'wikipedia')\n",
    "table4_wiki.head()"
   ]
  },
  {
   "attachments": {
    "efcb5830-fd78-4266-b9b0-a7c11f80fc6a.png": {
     "image/png": "[encoded data removed]"
    }
   },
   "cell_type": "markdown",
   "metadata": {},
   "source": [
    "Here is the table 4 from the paper :\n",
    ">![image.png](attachment:efcb5830-fd78-4266-b9b0-a7c11f80fc6a.png)\n",
    "\n",
    "Our results are not the exact same, but are very close to the ones in the paper. We conclude on a good replication power of the paper for this table. We use the same process for the reddit data."
   ]
  },
  {
   "cell_type": "markdown",
   "metadata": {},
   "source": [
    "### 1.3.2] Replication of table 4 for the reddit dataset\n",
    "\n",
    "We basically copy the functions from before, but with the reddit data\n",
    "\n",
    "**Create a dataframe that contains only reciprocated edges**\n",
    "\n",
    "We use the exact same code as before, but his time we use the reddit dataset."
   ]
  },
  {
   "cell_type": "code",
   "execution_count": 10,
   "metadata": {},
   "outputs": [
    {
     "data": {
      "text/html": [
       "<div>\n",
       "<style scoped>\n",
       "    .dataframe tbody tr th:only-of-type {\n",
       "        vertical-align: middle;\n",
       "    }\n",
       "\n",
       "    .dataframe tbody tr th {\n",
       "        vertical-align: top;\n",
       "    }\n",
       "\n",
       "    .dataframe thead th {\n",
       "        text-align: right;\n",
       "    }\n",
       "</style>\n",
       "<table border=\"1\" class=\"dataframe\">\n",
       "  <thead>\n",
       "    <tr style=\"text-align: right;\">\n",
       "      <th></th>\n",
       "      <th>SOURCE_SUBREDDIT</th>\n",
       "      <th>TARGET_SUBREDDIT</th>\n",
       "      <th>POST_ID</th>\n",
       "      <th>TIMESTAMP</th>\n",
       "      <th>Sign</th>\n",
       "      <th>PROPERTIES</th>\n",
       "      <th>FromNodeId</th>\n",
       "      <th>ToNodeId</th>\n",
       "    </tr>\n",
       "  </thead>\n",
       "  <tbody>\n",
       "    <tr>\n",
       "      <th>0</th>\n",
       "      <td>leagueoflegends</td>\n",
       "      <td>teamredditteams</td>\n",
       "      <td>1u4nrps</td>\n",
       "      <td>2013-12-31 16:39:58</td>\n",
       "      <td>1</td>\n",
       "      <td>345.0,298.0,0.75652173913,0.0173913043478,0.08...</td>\n",
       "      <td>32023</td>\n",
       "      <td>57105</td>\n",
       "    </tr>\n",
       "    <tr>\n",
       "      <th>6172</th>\n",
       "      <td>teamredditteams</td>\n",
       "      <td>leagueoflegends</td>\n",
       "      <td>1xoxyes</td>\n",
       "      <td>2014-02-11 23:07:12</td>\n",
       "      <td>1</td>\n",
       "      <td>288.0,252.0,0.774305555556,0.00694444444444,0....</td>\n",
       "      <td>57105</td>\n",
       "      <td>32023</td>\n",
       "    </tr>\n",
       "    <tr>\n",
       "      <th>311</th>\n",
       "      <td>leagueoflegends</td>\n",
       "      <td>leagueoflegendsmeta</td>\n",
       "      <td>1ue5u4s</td>\n",
       "      <td>2014-01-04 07:15:08</td>\n",
       "      <td>1</td>\n",
       "      <td>705.0,604.0,0.756028368794,0.00567375886525,0....</td>\n",
       "      <td>32023</td>\n",
       "      <td>32026</td>\n",
       "    </tr>\n",
       "    <tr>\n",
       "      <th>4196</th>\n",
       "      <td>leagueoflegendsmeta</td>\n",
       "      <td>leagueoflegends</td>\n",
       "      <td>1wl2hzs</td>\n",
       "      <td>2014-01-30 12:32:16</td>\n",
       "      <td>1</td>\n",
       "      <td>1117.0,928.0,0.761862130707,0.000895255147717,...</td>\n",
       "      <td>32026</td>\n",
       "      <td>32023</td>\n",
       "    </tr>\n",
       "    <tr>\n",
       "      <th>320</th>\n",
       "      <td>leagueoflegends</td>\n",
       "      <td>iama</td>\n",
       "      <td>1ueax1s</td>\n",
       "      <td>2014-01-04 08:32:51</td>\n",
       "      <td>1</td>\n",
       "      <td>110.0,110.0,0.763636363636,0.0363636363636,0.0...</td>\n",
       "      <td>32023</td>\n",
       "      <td>27319</td>\n",
       "    </tr>\n",
       "  </tbody>\n",
       "</table>\n",
       "</div>"
      ],
      "text/plain": [
       "         SOURCE_SUBREDDIT     TARGET_SUBREDDIT  POST_ID            TIMESTAMP  \\\n",
       "0         leagueoflegends      teamredditteams  1u4nrps  2013-12-31 16:39:58   \n",
       "6172      teamredditteams      leagueoflegends  1xoxyes  2014-02-11 23:07:12   \n",
       "311       leagueoflegends  leagueoflegendsmeta  1ue5u4s  2014-01-04 07:15:08   \n",
       "4196  leagueoflegendsmeta      leagueoflegends  1wl2hzs  2014-01-30 12:32:16   \n",
       "320       leagueoflegends                 iama  1ueax1s  2014-01-04 08:32:51   \n",
       "\n",
       "      Sign                                         PROPERTIES  FromNodeId  \\\n",
       "0        1  345.0,298.0,0.75652173913,0.0173913043478,0.08...       32023   \n",
       "6172     1  288.0,252.0,0.774305555556,0.00694444444444,0....       57105   \n",
       "311      1  705.0,604.0,0.756028368794,0.00567375886525,0....       32023   \n",
       "4196     1  1117.0,928.0,0.761862130707,0.000895255147717,...       32026   \n",
       "320      1  110.0,110.0,0.763636363636,0.0363636363636,0.0...       32023   \n",
       "\n",
       "      ToNodeId  \n",
       "0        57105  \n",
       "6172     32023  \n",
       "311      32026  \n",
       "4196     32023  \n",
       "320      27319  "
      ]
     },
     "execution_count": 10,
     "metadata": {},
     "output_type": "execute_result"
    }
   ],
   "source": [
    "reddit = data_total\n",
    "\n",
    "reddit_reci = pd.DataFrame()\n",
    "for from_node in reddit['FromNodeId'].unique(): #for all unique nodes\n",
    "    #filter the dataset to have only the edges that have from_node as a starting node\n",
    "    from_df = reddit[reddit['FromNodeId'] == from_node]\n",
    "    for to_node in from_df['ToNodeId'].values : #for all target node of 'from_node'\n",
    "        to_df = reddit[reddit['FromNodeId'] == to_node]\n",
    "        if from_node in to_df['ToNodeId'].values:\n",
    "            #we add both edges\n",
    "            reddit_reci = pd.concat([reddit_reci, reddit.loc[(reddit['FromNodeId'] ==from_node) & (reddit['ToNodeId']==to_node)].head(1)])\n",
    "            reddit_reci = pd.concat([reddit_reci, reddit.loc[(reddit['FromNodeId'] == to_node) & (reddit['ToNodeId']==from_node)].head(1)])\n",
    "            #we need to drop at least one edge from the original data to not add the reciprocation several times\n",
    "            reddit = reddit.drop(reddit.loc[(reddit['FromNodeId'] ==from_node) & (reddit['ToNodeId']==to_node)].index)\n",
    "            reddit = reddit.drop(reddit.loc[(reddit['FromNodeId'] ==to_node) & (reddit['ToNodeId']==from_node)].index)\n",
    "            \n",
    "reddit_reci.head() "
   ]
  },
  {
   "cell_type": "markdown",
   "metadata": {},
   "source": [
    "This operation took a very long time (hours), so i save it into a csv file to not running it again if needed."
   ]
  },
  {
   "cell_type": "code",
   "execution_count": 21,
   "metadata": {},
   "outputs": [],
   "source": [
    "#save it into a csv file\n",
    "reddit_reci.to_csv('reddit_reciprocation.csv')"
   ]
  },
  {
   "cell_type": "code",
   "execution_count": 22,
   "metadata": {},
   "outputs": [],
   "source": [
    "#If we saved the csv file, we can load it :\n",
    "reddit_reci = pd.read_csv('reddit_reciprocation.csv')"
   ]
  },
  {
   "cell_type": "code",
   "execution_count": 13,
   "metadata": {},
   "outputs": [
    {
     "name": "stdout",
     "output_type": "stream",
     "text": [
      "propotion of reciprocated edges : 5.38%\n"
     ]
    }
   ],
   "source": [
    "#we compute the proportion\n",
    "print('propotion of reciprocated edges : {:.2%}'.format(reddit_reci.shape[0]/(2*reddit.shape[0])))"
   ]
  },
  {
   "cell_type": "markdown",
   "metadata": {},
   "source": [
    "The proportion of the original dataset to be reciprocated edges is higher than for the wikipedia dataset."
   ]
  },
  {
   "cell_type": "markdown",
   "metadata": {},
   "source": [
    "**Replication of table 4**"
   ]
  },
  {
   "cell_type": "code",
   "execution_count": 23,
   "metadata": {},
   "outputs": [
    {
     "data": {
      "text/html": [
       "<div>\n",
       "<style scoped>\n",
       "    .dataframe tbody tr th:only-of-type {\n",
       "        vertical-align: middle;\n",
       "    }\n",
       "\n",
       "    .dataframe tbody tr th {\n",
       "        vertical-align: top;\n",
       "    }\n",
       "\n",
       "    .dataframe thead th {\n",
       "        text-align: right;\n",
       "    }\n",
       "</style>\n",
       "<table border=\"1\" class=\"dataframe\">\n",
       "  <thead>\n",
       "    <tr style=\"text-align: right;\">\n",
       "      <th></th>\n",
       "      <th>reddit</th>\n",
       "      <th>Count</th>\n",
       "      <th>Fraction</th>\n",
       "    </tr>\n",
       "  </thead>\n",
       "  <tbody>\n",
       "    <tr>\n",
       "      <th>0</th>\n",
       "      <td>P(+|+)</td>\n",
       "      <td>27002</td>\n",
       "      <td>0.954505</td>\n",
       "    </tr>\n",
       "    <tr>\n",
       "      <th>1</th>\n",
       "      <td>P(-|+)</td>\n",
       "      <td>1287</td>\n",
       "      <td>0.045495</td>\n",
       "    </tr>\n",
       "    <tr>\n",
       "      <th>2</th>\n",
       "      <td>P(+|-)</td>\n",
       "      <td>1482</td>\n",
       "      <td>0.878483</td>\n",
       "    </tr>\n",
       "    <tr>\n",
       "      <th>3</th>\n",
       "      <td>P(-|-)</td>\n",
       "      <td>205</td>\n",
       "      <td>0.121517</td>\n",
       "    </tr>\n",
       "  </tbody>\n",
       "</table>\n",
       "</div>"
      ],
      "text/plain": [
       "   reddit  Count  Fraction\n",
       "0  P(+|+)  27002  0.954505\n",
       "1  P(-|+)   1287  0.045495\n",
       "2  P(+|-)   1482  0.878483\n",
       "3  P(-|-)    205  0.121517"
      ]
     },
     "execution_count": 23,
     "metadata": {},
     "output_type": "execute_result"
    }
   ],
   "source": [
    "from table4 import create_table4\n",
    "\n",
    "table4_reddit = create_table4(reddit_reci, name_data = 'reddit')\n",
    "table4_reddit.head()"
   ]
  },
  {
   "cell_type": "markdown",
   "metadata": {},
   "source": [
    "The results seems to be consistent with the conclusion authors make : if A-B is positive, we have in 95.4% of cases that B-A is positive as well, which is higher than the 90% os positive links in the data. So balance theory explains well the proportion of $P(+|+)$, as a reciprocation of a positive link should be positive as well. \n",
    "\n",
    "Plus, if A-B is negative, B-A is positive in 87.8% of cases. Which is (a bit) lower than the 90% of positive edges. Therefore we say that status theory explains well the high proportion of $P(+|-)$, as if A links negatively to B (A thinks B has a ower status), then B should link positively to A (B thinks A has a higher status). "
   ]
  },
  {
   "cell_type": "markdown",
   "metadata": {},
   "source": [
    "**By curiosity, we can see several examples of links that satisfies $P(-|+)$, $P(+|-)$ and $P(-|-)$**"
   ]
  },
  {
   "cell_type": "code",
   "execution_count": 28,
   "metadata": {},
   "outputs": [
    {
     "name": "stdout",
     "output_type": "stream",
     "text": [
      "Examples of subreddits (A,B) satisfying P(-|+) : A link positive to B, B link negative to A \n",
      "example 1 :\n",
      "A : leagueoflegends\n",
      "B : gaming\n",
      "\n",
      "example 2 :\n",
      "A : leagueoflegends\n",
      "B : leagueofmemes\n",
      "\n",
      "example 3 :\n",
      "A : nfl\n",
      "B : chibears\n",
      "\n",
      "example 4 :\n",
      "A : nfl\n",
      "B : detroitlions\n",
      "\n",
      "example 5 :\n",
      "A : nfl\n",
      "B : steelers\n",
      "\n",
      "example 6 :\n",
      "A : nfl\n",
      "B : showerthoughts\n",
      "\n",
      "example 7 :\n",
      "A : dogemarket\n",
      "B : dogecoinscamwatch\n",
      "\n",
      "example 8 :\n",
      "A : metalcore\n",
      "B : music\n",
      "\n",
      "example 9 :\n",
      "A : suicidewatch\n",
      "B : needadvice\n",
      "\n",
      "example 10 :\n",
      "A : suicidewatch\n",
      "B : mensrights\n",
      "\n"
     ]
    }
   ],
   "source": [
    "#Examples of links satisfying P(-|+)\n",
    "from table4 import print_p2\n",
    "\n",
    "print_p2(reddit_reci, name_data = 'reddit', nb_ex = 10)"
   ]
  },
  {
   "cell_type": "code",
   "execution_count": 26,
   "metadata": {},
   "outputs": [
    {
     "name": "stdout",
     "output_type": "stream",
     "text": [
      "Examples of subreddits (A,B) satisfying P(+|-) : A link negative to B, B link positive to A \n",
      "example 1 :\n",
      "A : leagueoflegends\n",
      "B : cringepics\n",
      "\n",
      "example 2 :\n",
      "A : leagueoflegends\n",
      "B : gameofthrones\n",
      "\n",
      "example 3 :\n",
      "A : leagueoflegends\n",
      "B : todayilearned\n",
      "\n",
      "example 4 :\n",
      "A : leagueoflegends\n",
      "B : caitlynmains\n",
      "\n"
     ]
    }
   ],
   "source": [
    "#Examples of links satisfying P(+|-)\n",
    "from table4 import print_p3\n",
    "\n",
    "print_p3(reddit_reci, name_data = 'reddit', nb_ex = 4)"
   ]
  },
  {
   "cell_type": "code",
   "execution_count": 27,
   "metadata": {},
   "outputs": [
    {
     "name": "stdout",
     "output_type": "stream",
     "text": [
      "Examples of subreddits (A,B) satisfying P(-|-) : A link negative to B, B link positive to A \n",
      "example 1 :\n",
      "A : leagueoflegends\n",
      "B : bestof\n",
      "\n",
      "example 2 :\n",
      "A : leagueoflegends\n",
      "B : dotamasterrace\n",
      "\n",
      "example 3 :\n",
      "A : suicidewatch\n",
      "B : bestof\n",
      "\n",
      "example 4 :\n",
      "A : circlebroke\n",
      "B : shitredditsays\n",
      "\n"
     ]
    }
   ],
   "source": [
    "#Examples of links satisfying P(-|-)\n",
    "from table4 import print_p4\n",
    "\n",
    "print_p4(reddit_reci, name_data = 'reddit', nb_ex = 4)"
   ]
  },
  {
   "cell_type": "code",
   "execution_count": null,
   "metadata": {},
   "outputs": [],
   "source": []
  }
 ],
 "metadata": {
  "kernelspec": {
   "display_name": "Python 3",
   "language": "python",
   "name": "python3"
  },
  "language_info": {
   "codemirror_mode": {
    "name": "ipython",
    "version": 3
   },
   "file_extension": ".py",
   "mimetype": "text/x-python",
   "name": "python",
   "nbconvert_exporter": "python",
   "pygments_lexer": "ipython3",
   "version": "3.8.3"
  }
 },
 "nbformat": 4,
 "nbformat_minor": 4
}
