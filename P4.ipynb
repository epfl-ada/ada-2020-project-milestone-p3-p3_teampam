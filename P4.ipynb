{
  "nbformat": 4,
  "nbformat_minor": 0,
  "metadata": {
    "colab": {
      "name": "P4_final.ipynb",
      "provenance": [],
      "collapsed_sections": [],
      "toc_visible": true
    },
    "kernelspec": {
      "display_name": "Python 3",
      "language": "python",
      "name": "python3"
    },
    "language_info": {
      "codemirror_mode": {
        "name": "ipython",
        "version": 3
      },
      "file_extension": ".py",
      "mimetype": "text/x-python",
      "name": "python",
      "nbconvert_exporter": "python",
      "pygments_lexer": "ipython3",
      "version": "3.8.3"
    }
  },
  "cells": [
    {
      "cell_type": "markdown",
      "metadata": {
        "id": "WJGO0vSVpEex"
      },
      "source": [
        "# P3"
      ]
    },
    {
      "cell_type": "markdown",
      "metadata": {
        "id": "cldRdr-6nZVU"
      },
      "source": [
        "This part of the ADA project is the presentation of a creative extension to the paper studied in the replication work. For us, the paper is “Signed Networks in Social Media”, written by Jure Leskovec, Daniel Huttenlocher, and Jon Kleinberg and published on the 10-15th of April 2010 at Atlan during the 2010 Conference on Human Factor in Computing System (CHI), USA, in the Machine Learning and Web Interaction chapter. \n",
        "The original paper can be found with this <a href = https://cs.stanford.edu/people/jure/pubs/triads-chi10.pdf>link</a>, and the three datasets, Epinion, Slashdot, and Wikipedia can also be found with this <a href = https://drive.google.com/drive/folders/1r_K-XMqu5OW9vieoqNgzOTw2GA1hVVzc>link</a>.. \n",
        "\n",
        "Because social networks are a huge scientific and political strike nowadays, the comprehension of its characteristics, sensibility, and behavior are very important. Most of the researches in signed networks has only considered ever positive or negative edges. Here they are using both. They compare two major social network theories: the balance and status ones. \n",
        "Few words about the dataset they use : \n",
        "- “trust network of Epinion”, then referred to as **Epinion**\n",
        "- “Social network of technology blog Slashdot”, then referred to as **Slashdot**\n",
        "- “Wikipedia votes for admin nomination”, then referred to as **Wikipedia**\n",
        "\n",
        "Our creative extension idea will revolve around the following research question: *Are balance and status theory sufficient to investigate the structure of social networks, or are there other parameters that may have an impact?*\n",
        "\n",
        "\n",
        "So in the first part, we will study the balance and status theory following the approach explained in the paper, but on a new dataset, called **Reddit**. Thus we will be able to identify more closely the strength and limits of these methods and thus put into perspective the conclusions drawn in the study and nuance them. In the second part, we will focus on the possible impact of two variables, Time and Weight, on network structure. To do so we will identify the trend of edge distribution according to these variables to then extract subgraphs and compute network structure parameters to quantitatively compare their organization.\n",
        "\n",
        "Let's have a few words to present the new Reddit dataset. According to its Wikipedia page, it is an \"*American social news aggregation, web content rating, and discussion website*. A community on this website is called a *SubReddit*. The new dataset is a hyperlink network between subreddits. A hyperlink is a word, phrase, or image that you can click on to jump to a new document, the subreddit-to-subreddit hyperlink network we are using here is drawn from the posts that create hyperlinks between two subreddits, from writer to the receiver. So each node is a subreddit and each edge corresponds to a post. Additionally, each link has so properties computed from its post content: the number of characters, the number of words but also the positive and negative sentiment score among other ones. Two datasets are presented here, one extracted from the text content of the posts (\"body\") and the second from the \"title\". \n",
        "\n",
        "For the first part of the analysis, it appears more relevant to use both altogether as a total dataset while for the second part we have chosen to focus on the body one, as we will use sentiment score for the weight the one computed from bigger content seems to be more relevant."
      ]
    },
    {
      "cell_type": "markdown",
      "metadata": {
        "id": "5kXU185XnZVW"
      },
      "source": [
        "First we load some useful libraries."
      ]
    },
    {
      "cell_type": "code",
      "metadata": {
        "id": "ERroSG0spEe2"
      },
      "source": [
        "import pandas as pd\n",
        "import numpy as np\n",
        "import networkx as nx"
      ],
      "execution_count": 1,
      "outputs": []
    },
    {
      "cell_type": "code",
      "metadata": {
        "colab": {
          "base_uri": "https://localhost:8080/"
        },
        "id": "UoAxlca_6Ezl",
        "outputId": "76c25bbc-161d-43c5-fd8f-03a588eb9d9d"
      },
      "source": [
        "# ---------------------------------------- should comment\n",
        "from google.colab import drive\n",
        "drive.mount('/content/drive')"
      ],
      "execution_count": 2,
      "outputs": [
        {
          "output_type": "stream",
          "text": [
            "Mounted at /content/drive\n"
          ],
          "name": "stdout"
        }
      ]
    },
    {
      "cell_type": "markdown",
      "metadata": {
        "id": "hASEUmGvnZVX"
      },
      "source": [
        "Let's start with the first part, evaluation of balance and status theory using the new **Reddit** dataset. "
      ]
    },
    {
      "cell_type": "markdown",
      "metadata": {
        "id": "NfVCbElVpEe3"
      },
      "source": [
        "# Part 1\n",
        "So here we aim to analyse Reddit dataset to identify strengths and limits of the balance and status theory.\n",
        "\n",
        "## 1.1] Replicate Table 3 for the Reddit data\n",
        "First of all, we have chosen to replicate the Table 3 of the paper, but for the Reddit dataset. This table is a summary of the triad type distribution in the graph. We knwo that replication is not a creative extension, however here our goal is to use the pipeline to assess balance and status theory built in the paper to another dataset, to experience it. In that way it will allow us maybe to nuance the conclusion of the study under the light of our own conclusions with Reddit dataset. \n",
        "\n",
        "The Table 3 contains the number of triangles of the 4 triads type : \n",
        "- T0 :  ---\n",
        "- T1 :  --+\n",
        "- T2 :  -++ \n",
        "- T3 :  +++\n",
        "\n",
        "We are conscious that the replication of table 3 is the individual part of P3. Thus we didn't share our code, we imported our function to this notebook without given the code. Thus it appears here as a \"black box\", but we can still discuss the results in our ongoing analysis. \n",
        "\n",
        "### 1.1.1]Load the Reddit data and do some basic analysis\n",
        "We begin with replication of table 3, to have an idea of the basic characteristics of the network. Here we compute it for the body, title and body-title Reddit dataset. \n",
        "\n",
        "**Load the data**\n",
        "\n",
        "We define the path to the files, and then use `pd.read_csv` function to load the data. We use '\\t' as the delimitator."
      ]
    },
    {
      "cell_type": "code",
      "metadata": {
        "colab": {
          "base_uri": "https://localhost:8080/",
          "height": 165
        },
        "id": "5SBiU2uSpEe3",
        "outputId": "58d2e94c-6785-40a3-ce89-f6c469af643b"
      },
      "source": [
        "# definition of the path\n",
        "DATAFOLDER = '/content/drive/MyDrive/ADA - dataset/'\n",
        "reddit_data_body_file = DATAFOLDER + 'soc-redditHyperlinks-body.tsv'\n",
        "reddit_data_title_file = DATAFOLDER + 'soc-redditHyperlinks-title.tsv'\n",
        "wikipedia_file = DATAFOLDER + 'wikiElec.ElecBs3.txt'\n",
        "\n",
        "# Reading of the files\n",
        "data_body = pd.read_csv(reddit_data_body_file, sep = '\\t')\n",
        "data_title = pd.read_csv(reddit_data_title_file, sep = '\\t')\n",
        "data_body.head(2)"
      ],
      "execution_count": 3,
      "outputs": [
        {
          "output_type": "execute_result",
          "data": {
            "text/html": [
              "<div>\n",
              "<style scoped>\n",
              "    .dataframe tbody tr th:only-of-type {\n",
              "        vertical-align: middle;\n",
              "    }\n",
              "\n",
              "    .dataframe tbody tr th {\n",
              "        vertical-align: top;\n",
              "    }\n",
              "\n",
              "    .dataframe thead th {\n",
              "        text-align: right;\n",
              "    }\n",
              "</style>\n",
              "<table border=\"1\" class=\"dataframe\">\n",
              "  <thead>\n",
              "    <tr style=\"text-align: right;\">\n",
              "      <th></th>\n",
              "      <th>SOURCE_SUBREDDIT</th>\n",
              "      <th>TARGET_SUBREDDIT</th>\n",
              "      <th>POST_ID</th>\n",
              "      <th>TIMESTAMP</th>\n",
              "      <th>LINK_SENTIMENT</th>\n",
              "      <th>PROPERTIES</th>\n",
              "    </tr>\n",
              "  </thead>\n",
              "  <tbody>\n",
              "    <tr>\n",
              "      <th>0</th>\n",
              "      <td>leagueoflegends</td>\n",
              "      <td>teamredditteams</td>\n",
              "      <td>1u4nrps</td>\n",
              "      <td>2013-12-31 16:39:58</td>\n",
              "      <td>1</td>\n",
              "      <td>345.0,298.0,0.75652173913,0.0173913043478,0.08...</td>\n",
              "    </tr>\n",
              "    <tr>\n",
              "      <th>1</th>\n",
              "      <td>theredlion</td>\n",
              "      <td>soccer</td>\n",
              "      <td>1u4qkd</td>\n",
              "      <td>2013-12-31 18:18:37</td>\n",
              "      <td>-1</td>\n",
              "      <td>101.0,98.0,0.742574257426,0.019801980198,0.049...</td>\n",
              "    </tr>\n",
              "  </tbody>\n",
              "</table>\n",
              "</div>"
            ],
            "text/plain": [
              "  SOURCE_SUBREDDIT  ...                                         PROPERTIES\n",
              "0  leagueoflegends  ...  345.0,298.0,0.75652173913,0.0173913043478,0.08...\n",
              "1       theredlion  ...  101.0,98.0,0.742574257426,0.019801980198,0.049...\n",
              "\n",
              "[2 rows x 6 columns]"
            ]
          },
          "metadata": {
            "tags": []
          },
          "execution_count": 3
        }
      ]
    },
    {
      "cell_type": "markdown",
      "metadata": {
        "id": "JP8gFPExpEe4"
      },
      "source": [
        "We rename the sign column, to have consistency with datasets like wikipedia, slashdot, epinions"
      ]
    },
    {
      "cell_type": "code",
      "metadata": {
        "colab": {
          "base_uri": "https://localhost:8080/",
          "height": 549
        },
        "id": "SrapOY4lpEe4",
        "outputId": "b0a9d3c6-cd36-4fa8-d8a1-0c6df5aefccc"
      },
      "source": [
        "data_body = data_body.rename(columns = {'LINK_SENTIMENT' : 'Sign'})\n",
        "data_title = data_title.rename(columns = {'LINK_SENTIMENT' : 'Sign'})\n",
        "data_body.head(10)"
      ],
      "execution_count": null,
      "outputs": [
        {
          "output_type": "execute_result",
          "data": {
            "text/html": [
              "<div>\n",
              "<style scoped>\n",
              "    .dataframe tbody tr th:only-of-type {\n",
              "        vertical-align: middle;\n",
              "    }\n",
              "\n",
              "    .dataframe tbody tr th {\n",
              "        vertical-align: top;\n",
              "    }\n",
              "\n",
              "    .dataframe thead th {\n",
              "        text-align: right;\n",
              "    }\n",
              "</style>\n",
              "<table border=\"1\" class=\"dataframe\">\n",
              "  <thead>\n",
              "    <tr style=\"text-align: right;\">\n",
              "      <th></th>\n",
              "      <th>SOURCE_SUBREDDIT</th>\n",
              "      <th>TARGET_SUBREDDIT</th>\n",
              "      <th>POST_ID</th>\n",
              "      <th>TIMESTAMP</th>\n",
              "      <th>Sign</th>\n",
              "      <th>PROPERTIES</th>\n",
              "    </tr>\n",
              "  </thead>\n",
              "  <tbody>\n",
              "    <tr>\n",
              "      <th>0</th>\n",
              "      <td>leagueoflegends</td>\n",
              "      <td>teamredditteams</td>\n",
              "      <td>1u4nrps</td>\n",
              "      <td>2013-12-31 16:39:58</td>\n",
              "      <td>1</td>\n",
              "      <td>345.0,298.0,0.75652173913,0.0173913043478,0.08...</td>\n",
              "    </tr>\n",
              "    <tr>\n",
              "      <th>1</th>\n",
              "      <td>theredlion</td>\n",
              "      <td>soccer</td>\n",
              "      <td>1u4qkd</td>\n",
              "      <td>2013-12-31 18:18:37</td>\n",
              "      <td>-1</td>\n",
              "      <td>101.0,98.0,0.742574257426,0.019801980198,0.049...</td>\n",
              "    </tr>\n",
              "    <tr>\n",
              "      <th>2</th>\n",
              "      <td>inlandempire</td>\n",
              "      <td>bikela</td>\n",
              "      <td>1u4qlzs</td>\n",
              "      <td>2014-01-01 14:54:35</td>\n",
              "      <td>1</td>\n",
              "      <td>85.0,85.0,0.752941176471,0.0235294117647,0.082...</td>\n",
              "    </tr>\n",
              "    <tr>\n",
              "      <th>3</th>\n",
              "      <td>nfl</td>\n",
              "      <td>cfb</td>\n",
              "      <td>1u4sjvs</td>\n",
              "      <td>2013-12-31 17:37:55</td>\n",
              "      <td>1</td>\n",
              "      <td>1124.0,949.0,0.772241992883,0.0017793594306,0....</td>\n",
              "    </tr>\n",
              "    <tr>\n",
              "      <th>4</th>\n",
              "      <td>playmygame</td>\n",
              "      <td>gamedev</td>\n",
              "      <td>1u4w5ss</td>\n",
              "      <td>2014-01-01 02:51:13</td>\n",
              "      <td>1</td>\n",
              "      <td>715.0,622.0,0.777622377622,0.00699300699301,0....</td>\n",
              "    </tr>\n",
              "    <tr>\n",
              "      <th>5</th>\n",
              "      <td>dogemarket</td>\n",
              "      <td>dogecoin</td>\n",
              "      <td>1u4w7bs</td>\n",
              "      <td>2013-12-31 18:35:44</td>\n",
              "      <td>1</td>\n",
              "      <td>1328.0,1110.0,0.768825301205,0.0143072289157,0...</td>\n",
              "    </tr>\n",
              "    <tr>\n",
              "      <th>6</th>\n",
              "      <td>locationbot</td>\n",
              "      <td>legaladvice</td>\n",
              "      <td>1u4wfes</td>\n",
              "      <td>2014-01-07 20:17:41</td>\n",
              "      <td>1</td>\n",
              "      <td>184.0,172.0,0.744565217391,0.0326086956522,0.0...</td>\n",
              "    </tr>\n",
              "    <tr>\n",
              "      <th>7</th>\n",
              "      <td>indiefied</td>\n",
              "      <td>aww</td>\n",
              "      <td>1u50pos</td>\n",
              "      <td>2014-03-03 17:00:35</td>\n",
              "      <td>1</td>\n",
              "      <td>295.0,256.0,0.749152542373,0.0203389830508,0.0...</td>\n",
              "    </tr>\n",
              "    <tr>\n",
              "      <th>8</th>\n",
              "      <td>posthardcore</td>\n",
              "      <td>bestof2013</td>\n",
              "      <td>1u5ccus</td>\n",
              "      <td>2013-12-31 23:16:20</td>\n",
              "      <td>1</td>\n",
              "      <td>3927.0,3488.0,0.719887955182,0.0229182582124,0...</td>\n",
              "    </tr>\n",
              "    <tr>\n",
              "      <th>9</th>\n",
              "      <td>posthardcore</td>\n",
              "      <td>corejerk</td>\n",
              "      <td>1u5ccus</td>\n",
              "      <td>2013-12-31 23:16:20</td>\n",
              "      <td>1</td>\n",
              "      <td>3927.0,3488.0,0.719887955182,0.0229182582124,0...</td>\n",
              "    </tr>\n",
              "  </tbody>\n",
              "</table>\n",
              "</div>"
            ],
            "text/plain": [
              "  SOURCE_SUBREDDIT  ...                                         PROPERTIES\n",
              "0  leagueoflegends  ...  345.0,298.0,0.75652173913,0.0173913043478,0.08...\n",
              "1       theredlion  ...  101.0,98.0,0.742574257426,0.019801980198,0.049...\n",
              "2     inlandempire  ...  85.0,85.0,0.752941176471,0.0235294117647,0.082...\n",
              "3              nfl  ...  1124.0,949.0,0.772241992883,0.0017793594306,0....\n",
              "4       playmygame  ...  715.0,622.0,0.777622377622,0.00699300699301,0....\n",
              "5       dogemarket  ...  1328.0,1110.0,0.768825301205,0.0143072289157,0...\n",
              "6      locationbot  ...  184.0,172.0,0.744565217391,0.0326086956522,0.0...\n",
              "7        indiefied  ...  295.0,256.0,0.749152542373,0.0203389830508,0.0...\n",
              "8     posthardcore  ...  3927.0,3488.0,0.719887955182,0.0229182582124,0...\n",
              "9     posthardcore  ...  3927.0,3488.0,0.719887955182,0.0229182582124,0...\n",
              "\n",
              "[10 rows x 6 columns]"
            ]
          },
          "metadata": {
            "tags": []
          },
          "execution_count": 5
        }
      ]
    },
    {
      "cell_type": "markdown",
      "metadata": {
        "id": "SV22wRd3pEe5"
      },
      "source": [
        "**Create the dataframe containing body + title links**\n",
        "\n",
        "As we said we want to compute this table for the body_title dataset as well. To do this we simply concatenate the dataframes `data_title` and `data_body`."
      ]
    },
    {
      "cell_type": "code",
      "metadata": {
        "colab": {
          "base_uri": "https://localhost:8080/",
          "height": 309
        },
        "id": "-qMNLQOhpEe6",
        "outputId": "2eb927f7-b62a-4f94-9e5f-fa1ba7d9c6e9"
      },
      "source": [
        "data_total = pd.concat([data_body,data_title], ignore_index = True)\n",
        "data_total.head()"
      ],
      "execution_count": null,
      "outputs": [
        {
          "output_type": "execute_result",
          "data": {
            "text/html": [
              "<div>\n",
              "<style scoped>\n",
              "    .dataframe tbody tr th:only-of-type {\n",
              "        vertical-align: middle;\n",
              "    }\n",
              "\n",
              "    .dataframe tbody tr th {\n",
              "        vertical-align: top;\n",
              "    }\n",
              "\n",
              "    .dataframe thead th {\n",
              "        text-align: right;\n",
              "    }\n",
              "</style>\n",
              "<table border=\"1\" class=\"dataframe\">\n",
              "  <thead>\n",
              "    <tr style=\"text-align: right;\">\n",
              "      <th></th>\n",
              "      <th>SOURCE_SUBREDDIT</th>\n",
              "      <th>TARGET_SUBREDDIT</th>\n",
              "      <th>POST_ID</th>\n",
              "      <th>TIMESTAMP</th>\n",
              "      <th>Sign</th>\n",
              "      <th>PROPERTIES</th>\n",
              "    </tr>\n",
              "  </thead>\n",
              "  <tbody>\n",
              "    <tr>\n",
              "      <th>0</th>\n",
              "      <td>leagueoflegends</td>\n",
              "      <td>teamredditteams</td>\n",
              "      <td>1u4nrps</td>\n",
              "      <td>2013-12-31 16:39:58</td>\n",
              "      <td>1</td>\n",
              "      <td>345.0,298.0,0.75652173913,0.0173913043478,0.08...</td>\n",
              "    </tr>\n",
              "    <tr>\n",
              "      <th>1</th>\n",
              "      <td>theredlion</td>\n",
              "      <td>soccer</td>\n",
              "      <td>1u4qkd</td>\n",
              "      <td>2013-12-31 18:18:37</td>\n",
              "      <td>-1</td>\n",
              "      <td>101.0,98.0,0.742574257426,0.019801980198,0.049...</td>\n",
              "    </tr>\n",
              "    <tr>\n",
              "      <th>2</th>\n",
              "      <td>inlandempire</td>\n",
              "      <td>bikela</td>\n",
              "      <td>1u4qlzs</td>\n",
              "      <td>2014-01-01 14:54:35</td>\n",
              "      <td>1</td>\n",
              "      <td>85.0,85.0,0.752941176471,0.0235294117647,0.082...</td>\n",
              "    </tr>\n",
              "    <tr>\n",
              "      <th>3</th>\n",
              "      <td>nfl</td>\n",
              "      <td>cfb</td>\n",
              "      <td>1u4sjvs</td>\n",
              "      <td>2013-12-31 17:37:55</td>\n",
              "      <td>1</td>\n",
              "      <td>1124.0,949.0,0.772241992883,0.0017793594306,0....</td>\n",
              "    </tr>\n",
              "    <tr>\n",
              "      <th>4</th>\n",
              "      <td>playmygame</td>\n",
              "      <td>gamedev</td>\n",
              "      <td>1u4w5ss</td>\n",
              "      <td>2014-01-01 02:51:13</td>\n",
              "      <td>1</td>\n",
              "      <td>715.0,622.0,0.777622377622,0.00699300699301,0....</td>\n",
              "    </tr>\n",
              "  </tbody>\n",
              "</table>\n",
              "</div>"
            ],
            "text/plain": [
              "  SOURCE_SUBREDDIT  ...                                         PROPERTIES\n",
              "0  leagueoflegends  ...  345.0,298.0,0.75652173913,0.0173913043478,0.08...\n",
              "1       theredlion  ...  101.0,98.0,0.742574257426,0.019801980198,0.049...\n",
              "2     inlandempire  ...  85.0,85.0,0.752941176471,0.0235294117647,0.082...\n",
              "3              nfl  ...  1124.0,949.0,0.772241992883,0.0017793594306,0....\n",
              "4       playmygame  ...  715.0,622.0,0.777622377622,0.00699300699301,0....\n",
              "\n",
              "[5 rows x 6 columns]"
            ]
          },
          "metadata": {
            "tags": []
          },
          "execution_count": 6
        }
      ]
    },
    {
      "cell_type": "markdown",
      "metadata": {
        "id": "bT91JBggpEe6"
      },
      "source": [
        "**Convert the names into ids**\n",
        "\n",
        "Here, we use the `Dictionnary` from the `gensim` library, to create a dictionnary based on a list of strings. Then we use the `doc2idx` method to convert strings into integer ids."
      ]
    },
    {
      "cell_type": "code",
      "metadata": {
        "id": "e9T7pMZFpEe7"
      },
      "source": [
        "from gensim.corpora import Dictionary #import the library\n",
        "\n",
        "#Create the list of strings : we add each subreddit from the unique values in the \n",
        "#SOURCE_SUBREDDIT and the TARGET_SUBREDDIT columns\n",
        "unique_subreddits = [[element] for element in list(pd.concat([data_total['SOURCE_SUBREDDIT'], data_total['TARGET_SUBREDDIT']]).sort_values().unique())]\n",
        "dct = Dictionary(unique_subreddits)\n",
        "\n",
        "#we use doc2idx to convert strings into ids\n",
        "data_total['FromNodeId'] = dct.doc2idx(data_total['SOURCE_SUBREDDIT'].values)\n",
        "data_total['ToNodeId'] = dct.doc2idx(data_total['TARGET_SUBREDDIT'].values)"
      ],
      "execution_count": null,
      "outputs": []
    },
    {
      "cell_type": "markdown",
      "metadata": {
        "id": "zUwj3vfogLUZ"
      },
      "source": [
        "**Do we have the same edges several times ?**\n",
        "\n",
        "Here we want to know if a node (a subreddit) can link to another node several times. We take the example of leagueoflegends and leagueoflegendsmeta, as there are related topics, we can expect they have many links"
      ]
    },
    {
      "cell_type": "code",
      "metadata": {
        "colab": {
          "base_uri": "https://localhost:8080/",
          "height": 289
        },
        "id": "_mqz_k_ZpEe8",
        "outputId": "1a9eb88a-1045-4c3b-e35f-a5582d95066a"
      },
      "source": [
        "test_lol = data_body[data_body['SOURCE_SUBREDDIT'] == 'leagueoflegends']\n",
        "test_lol[test_lol['TARGET_SUBREDDIT'] == 'leagueoflegendsmeta']"
      ],
      "execution_count": null,
      "outputs": [
        {
          "output_type": "execute_result",
          "data": {
            "text/html": [
              "<div>\n",
              "<style scoped>\n",
              "    .dataframe tbody tr th:only-of-type {\n",
              "        vertical-align: middle;\n",
              "    }\n",
              "\n",
              "    .dataframe tbody tr th {\n",
              "        vertical-align: top;\n",
              "    }\n",
              "\n",
              "    .dataframe thead th {\n",
              "        text-align: right;\n",
              "    }\n",
              "</style>\n",
              "<table border=\"1\" class=\"dataframe\">\n",
              "  <thead>\n",
              "    <tr style=\"text-align: right;\">\n",
              "      <th></th>\n",
              "      <th>SOURCE_SUBREDDIT</th>\n",
              "      <th>TARGET_SUBREDDIT</th>\n",
              "      <th>POST_ID</th>\n",
              "      <th>TIMESTAMP</th>\n",
              "      <th>Sign</th>\n",
              "      <th>PROPERTIES</th>\n",
              "    </tr>\n",
              "  </thead>\n",
              "  <tbody>\n",
              "    <tr>\n",
              "      <th>311</th>\n",
              "      <td>leagueoflegends</td>\n",
              "      <td>leagueoflegendsmeta</td>\n",
              "      <td>1ue5u4s</td>\n",
              "      <td>2014-01-04 07:15:08</td>\n",
              "      <td>1</td>\n",
              "      <td>705.0,604.0,0.756028368794,0.00567375886525,0....</td>\n",
              "    </tr>\n",
              "    <tr>\n",
              "      <th>27785</th>\n",
              "      <td>leagueoflegends</td>\n",
              "      <td>leagueoflegendsmeta</td>\n",
              "      <td>28luias</td>\n",
              "      <td>2014-06-19 20:03:26</td>\n",
              "      <td>1</td>\n",
              "      <td>1763.0,1431.0,0.667612024957,0.0328984685196,0...</td>\n",
              "    </tr>\n",
              "    <tr>\n",
              "      <th>78113</th>\n",
              "      <td>leagueoflegends</td>\n",
              "      <td>leagueoflegendsmeta</td>\n",
              "      <td>2ygs2ns</td>\n",
              "      <td>2015-03-09 12:18:40</td>\n",
              "      <td>1</td>\n",
              "      <td>1963.0,1643.0,0.792154865003,0.00254712175242,...</td>\n",
              "    </tr>\n",
              "    <tr>\n",
              "      <th>108915</th>\n",
              "      <td>leagueoflegends</td>\n",
              "      <td>leagueoflegendsmeta</td>\n",
              "      <td>3d3lkls</td>\n",
              "      <td>2015-07-13 00:32:14</td>\n",
              "      <td>1</td>\n",
              "      <td>4002.0,3336.0,0.755872063968,0.0114942528736,0...</td>\n",
              "    </tr>\n",
              "    <tr>\n",
              "      <th>136923</th>\n",
              "      <td>leagueoflegends</td>\n",
              "      <td>leagueoflegendsmeta</td>\n",
              "      <td>3qzyi1s</td>\n",
              "      <td>2015-10-31 20:19:30</td>\n",
              "      <td>1</td>\n",
              "      <td>1809.0,1512.0,0.782752902156,0.00110558319514,...</td>\n",
              "    </tr>\n",
              "  </tbody>\n",
              "</table>\n",
              "</div>"
            ],
            "text/plain": [
              "       SOURCE_SUBREDDIT  ...                                         PROPERTIES\n",
              "311     leagueoflegends  ...  705.0,604.0,0.756028368794,0.00567375886525,0....\n",
              "27785   leagueoflegends  ...  1763.0,1431.0,0.667612024957,0.0328984685196,0...\n",
              "78113   leagueoflegends  ...  1963.0,1643.0,0.792154865003,0.00254712175242,...\n",
              "108915  leagueoflegends  ...  4002.0,3336.0,0.755872063968,0.0114942528736,0...\n",
              "136923  leagueoflegends  ...  1809.0,1512.0,0.782752902156,0.00110558319514,...\n",
              "\n",
              "[5 rows x 6 columns]"
            ]
          },
          "metadata": {
            "tags": []
          },
          "execution_count": 10
        }
      ]
    },
    {
      "cell_type": "markdown",
      "metadata": {
        "id": "EsoEFnisg4iH"
      },
      "source": [
        "We see it's possible that a source subreddit has a hyperlink to a target subreddit several times."
      ]
    },
    {
      "cell_type": "markdown",
      "metadata": {
        "id": "9bfUxnSBpEe-"
      },
      "source": [
        "**Count the number of nodes and edges**\n",
        "\n",
        "To count the number of edges, we count the number of lines in the dataframe. To count the number of nodes, we count the number of unique values in the `SOURCE_SUBREDDIT` and `TARGET_SUBREDDIT` columns. We create the table that will contain the number of nodes, the number of edges and the proportion of poistive/negative edges."
      ]
    },
    {
      "cell_type": "code",
      "metadata": {
        "id": "4VZ7lpl2pEe_",
        "outputId": "cad3fb69-484d-4426-c9ff-5981cc58189c"
      },
      "source": [
        "#Create the table\n",
        "table = pd.DataFrame(columns = ['body', 'title', 'total'], index = ['Nodes', 'Edges', '+ edges', '- edges'])\n",
        "\n",
        "nb_edges_body = data_body.shape[0]\n",
        "nb_nodes_body = np.unique(np.concatenate((data_body['SOURCE_SUBREDDIT'].values , data_body['TARGET_SUBREDDIT'].values))).shape[0]\n",
        "\n",
        "nb_edges_title = data_title.shape[0]\n",
        "nb_nodes_title = np.unique(np.concatenate((data_title['SOURCE_SUBREDDIT'].values , data_title['TARGET_SUBREDDIT'].values))).shape[0]\n",
        "\n",
        "nb_edges_total = data_total.shape[0]\n",
        "nb_nodes_total = np.unique(np.concatenate((data_total['SOURCE_SUBREDDIT'].values , data_total['TARGET_SUBREDDIT'].values))).shape[0]\n",
        "\n",
        "\n",
        "#Fill the table\n",
        "table.loc['Nodes'] = [nb_nodes_body, nb_nodes_title, nb_nodes_total]\n",
        "table.loc['Edges'] = [nb_edges_body, nb_edges_title, nb_edges_total]\n",
        "\n",
        "table.head()"
      ],
      "execution_count": null,
      "outputs": [
        {
          "output_type": "execute_result",
          "data": {
            "text/html": [
              "<div>\n",
              "<style scoped>\n",
              "    .dataframe tbody tr th:only-of-type {\n",
              "        vertical-align: middle;\n",
              "    }\n",
              "\n",
              "    .dataframe tbody tr th {\n",
              "        vertical-align: top;\n",
              "    }\n",
              "\n",
              "    .dataframe thead th {\n",
              "        text-align: right;\n",
              "    }\n",
              "</style>\n",
              "<table border=\"1\" class=\"dataframe\">\n",
              "  <thead>\n",
              "    <tr style=\"text-align: right;\">\n",
              "      <th></th>\n",
              "      <th>body</th>\n",
              "      <th>title</th>\n",
              "      <th>total</th>\n",
              "    </tr>\n",
              "  </thead>\n",
              "  <tbody>\n",
              "    <tr>\n",
              "      <th>Nodes</th>\n",
              "      <td>35776</td>\n",
              "      <td>54075</td>\n",
              "      <td>67180</td>\n",
              "    </tr>\n",
              "    <tr>\n",
              "      <th>Edges</th>\n",
              "      <td>286561</td>\n",
              "      <td>571927</td>\n",
              "      <td>858488</td>\n",
              "    </tr>\n",
              "    <tr>\n",
              "      <th>+ edges</th>\n",
              "      <td>NaN</td>\n",
              "      <td>NaN</td>\n",
              "      <td>NaN</td>\n",
              "    </tr>\n",
              "    <tr>\n",
              "      <th>- edges</th>\n",
              "      <td>NaN</td>\n",
              "      <td>NaN</td>\n",
              "      <td>NaN</td>\n",
              "    </tr>\n",
              "  </tbody>\n",
              "</table>\n",
              "</div>"
            ],
            "text/plain": [
              "           body   title   total\n",
              "Nodes     35776   54075   67180\n",
              "Edges    286561  571927  858488\n",
              "+ edges     NaN     NaN     NaN\n",
              "- edges     NaN     NaN     NaN"
            ]
          },
          "metadata": {
            "tags": []
          },
          "execution_count": 7
        }
      ]
    },
    {
      "cell_type": "markdown",
      "metadata": {
        "id": "34i36lOXpEfA"
      },
      "source": [
        "**Count the proportion of positives and negative edges**\n",
        "\n",
        "Here, for a given dataset, we count the number of posiive edges, then we compute its proportion."
      ]
    },
    {
      "cell_type": "code",
      "metadata": {
        "id": "c41bPlzcpEfB"
      },
      "source": [
        "#Number of positive (negative) edges :\n",
        "#We first filter the data by keeping only +1 (or -1) values and then we find the number of lines (edges) that this filtering gives\n",
        "nb_pos_edges_body = data_body[data_body['Sign']==1].shape[0] \n",
        "nb_neg_edges_body = data_body[data_body['Sign']==-1].shape[0]\n",
        "\n",
        "nb_pos_edges_title = data_title[data_title['Sign']==1].shape[0] \n",
        "nb_neg_edges_title= data_title[data_title['Sign']==-1].shape[0]\n",
        "\n",
        "nb_pos_edges_total = data_total[data_total['Sign']==1].shape[0] \n",
        "nb_neg_edges_total = data_total[data_total['Sign']==-1].shape[0]\n",
        "\n",
        "#Proportion of positive/negative edges:\n",
        "#We divide the number of positive (or negative) edges previouly found and divide it by the total number of edges\n",
        "#We use the table1 to find the total number of edges as we already filled these informations\n",
        "perc_pos_body = nb_pos_edges_body / table.loc['Edges']['body']\n",
        "perc_neg_body = nb_neg_edges_body / table.loc['Edges']['body']\n",
        "\n",
        "perc_pos_title = nb_pos_edges_title / table.loc['Edges']['title']\n",
        "perc_neg_title = nb_neg_edges_title / table.loc['Edges']['title']\n",
        "\n",
        "perc_pos_total = nb_pos_edges_total / table.loc['Edges']['total']\n",
        "perc_neg_total = nb_neg_edges_total / table.loc['Edges']['total']"
      ],
      "execution_count": null,
      "outputs": []
    },
    {
      "cell_type": "code",
      "metadata": {
        "id": "6h_wKvoTpEfB",
        "outputId": "fe018530-f26e-4c3f-c699-a227635bb931"
      },
      "source": [
        "#We must indicate a percentage format : we use the {:.1%} format to have a percentage with only one decimal, as in the paper \n",
        "table.loc['+ edges'] = ['{:.1%}'.format(perc_pos_body), '{:.1%}'.format(perc_pos_title), '{:.1%}'.format(perc_pos_total)]\n",
        "table.loc['- edges'] = ['{:.1%}'.format(perc_neg_body), '{:.1%}'.format(perc_neg_title), '{:.1%}'.format(perc_neg_total)]\n",
        "\n",
        "table.head()"
      ],
      "execution_count": null,
      "outputs": [
        {
          "output_type": "execute_result",
          "data": {
            "text/html": [
              "<div>\n",
              "<style scoped>\n",
              "    .dataframe tbody tr th:only-of-type {\n",
              "        vertical-align: middle;\n",
              "    }\n",
              "\n",
              "    .dataframe tbody tr th {\n",
              "        vertical-align: top;\n",
              "    }\n",
              "\n",
              "    .dataframe thead th {\n",
              "        text-align: right;\n",
              "    }\n",
              "</style>\n",
              "<table border=\"1\" class=\"dataframe\">\n",
              "  <thead>\n",
              "    <tr style=\"text-align: right;\">\n",
              "      <th></th>\n",
              "      <th>body</th>\n",
              "      <th>title</th>\n",
              "      <th>total</th>\n",
              "    </tr>\n",
              "  </thead>\n",
              "  <tbody>\n",
              "    <tr>\n",
              "      <th>Nodes</th>\n",
              "      <td>35776</td>\n",
              "      <td>54075</td>\n",
              "      <td>67180</td>\n",
              "    </tr>\n",
              "    <tr>\n",
              "      <th>Edges</th>\n",
              "      <td>286561</td>\n",
              "      <td>571927</td>\n",
              "      <td>858488</td>\n",
              "    </tr>\n",
              "    <tr>\n",
              "      <th>+ edges</th>\n",
              "      <td>92.6%</td>\n",
              "      <td>89.3%</td>\n",
              "      <td>90.4%</td>\n",
              "    </tr>\n",
              "    <tr>\n",
              "      <th>- edges</th>\n",
              "      <td>7.4%</td>\n",
              "      <td>10.7%</td>\n",
              "      <td>9.6%</td>\n",
              "    </tr>\n",
              "  </tbody>\n",
              "</table>\n",
              "</div>"
            ],
            "text/plain": [
              "           body   title   total\n",
              "Nodes     35776   54075   67180\n",
              "Edges    286561  571927  858488\n",
              "+ edges   92.6%   89.3%   90.4%\n",
              "- edges    7.4%   10.7%    9.6%"
            ]
          },
          "metadata": {
            "tags": []
          },
          "execution_count": 9
        }
      ]
    },
    {
      "cell_type": "markdown",
      "metadata": {
        "id": "yUTpFQXqpEfC"
      },
      "source": [
        "So here is the final dataframe with the results regrouped.\n",
        "\n",
        "**Analysis :** \n",
        "We can see that both body and title dataset have positive edge percentage around 90%, which is higher than the ones of the 3 original dataset Epinion, Slashdot and Wikipedia. Body and Title dataset have a total number of nodes higher than Wikipedia one and lower than Slashdot one. Thus it is at least in the same range as the study analysis, so it is ok. Finally the title dataset has the same magnitude order of edges than the Slashdot dataset, and the body one has a number of edges with Slashdot and Wikipedia one. So, as said before, it is in the same range as the study so it is ok.\n",
        "\n",
        "In the following steps of this first part, we have chosen to use the total dataframe because it has more nodes and edges. We can see on the dataframe presented that it has a bit less node than the Slashdot dataset and as much edges than the epinion one. As it contains both edges drawn from body and title of the same posts, this dataset will have many multiple edges: several links from a same nodeA to a same nodeB. As for expected because of the body and title positive edge percentage, the total Reddit dataset also has a positive edge percentage of 90.4% which around 10% higher than the one of the 3 original ones Epinion, Slashdot and wikipedia. "
      ]
    },
    {
      "cell_type": "markdown",
      "metadata": {
        "id": "nT0rGIwopEfD"
      },
      "source": [
        "### 1.1.2] Replicate table 3\n",
        "Now that we have preprocessed our data and have a better idea of their basic features, we can compute the table 3. To do so we first create the graph associtated to the total Reddit dataset using the `networkx` library.\n",
        "\n",
        "**Create the graph with networkx**\n",
        "As said before, because the replication of table 3 is part of the individual work we present it here as a \"black box\". If the reader needs more details, he can refers to the methods defined in Sinan's personal jupyter notebook."
      ]
    },
    {
      "cell_type": "code",
      "metadata": {
        "id": "9rQp_t-bpEfD"
      },
      "source": [
        "from table3 import create_table3\n",
        "\n",
        "table3_reddit = create_table3(data_total, data_type = 'reddit')"
      ],
      "execution_count": null,
      "outputs": []
    },
    {
      "cell_type": "markdown",
      "metadata": {
        "id": "c9HmI3RFnZVf"
      },
      "source": [
        "So here is the resulting Table 3 for total reddit dataset. "
      ]
    },
    {
      "cell_type": "code",
      "metadata": {
        "id": "1jqznYE7pEfD",
        "outputId": "a79fb8c2-930a-4bab-ba2f-cb77ab62ed89"
      },
      "source": [
        "table3_reddit.head()"
      ],
      "execution_count": null,
      "outputs": [
        {
          "output_type": "execute_result",
          "data": {
            "text/html": [
              "<div>\n",
              "<style scoped>\n",
              "    .dataframe tbody tr th:only-of-type {\n",
              "        vertical-align: middle;\n",
              "    }\n",
              "\n",
              "    .dataframe tbody tr th {\n",
              "        vertical-align: top;\n",
              "    }\n",
              "\n",
              "    .dataframe thead th {\n",
              "        text-align: right;\n",
              "    }\n",
              "</style>\n",
              "<table border=\"1\" class=\"dataframe\">\n",
              "  <thead>\n",
              "    <tr style=\"text-align: right;\">\n",
              "      <th></th>\n",
              "      <th>Triad Ti</th>\n",
              "      <th>|Ti|</th>\n",
              "      <th>p(Ti)</th>\n",
              "      <th>p0(Ti)</th>\n",
              "      <th>s(Ti)</th>\n",
              "    </tr>\n",
              "  </thead>\n",
              "  <tbody>\n",
              "    <tr>\n",
              "      <th>0</th>\n",
              "      <td>T3 +++</td>\n",
              "      <td>1644323</td>\n",
              "      <td>0.863557</td>\n",
              "      <td>0.895420</td>\n",
              "      <td>-143.680338</td>\n",
              "    </tr>\n",
              "    <tr>\n",
              "      <th>1</th>\n",
              "      <td>T1 +--</td>\n",
              "      <td>41431</td>\n",
              "      <td>0.021759</td>\n",
              "      <td>0.009851</td>\n",
              "      <td>166.372390</td>\n",
              "    </tr>\n",
              "    <tr>\n",
              "      <th>2</th>\n",
              "      <td>T2 ++-</td>\n",
              "      <td>209148</td>\n",
              "      <td>0.109839</td>\n",
              "      <td>0.093704</td>\n",
              "      <td>76.401376</td>\n",
              "    </tr>\n",
              "    <tr>\n",
              "      <th>3</th>\n",
              "      <td>T1 ---</td>\n",
              "      <td>9225</td>\n",
              "      <td>0.004845</td>\n",
              "      <td>0.001024</td>\n",
              "      <td>164.806020</td>\n",
              "    </tr>\n",
              "  </tbody>\n",
              "</table>\n",
              "</div>"
            ],
            "text/plain": [
              "  Triad Ti     |Ti|     p(Ti)    p0(Ti)       s(Ti)\n",
              "0   T3 +++  1644323  0.863557  0.895420 -143.680338\n",
              "1   T1 +--    41431  0.021759  0.009851  166.372390\n",
              "2   T2 ++-   209148  0.109839  0.093704   76.401376\n",
              "3   T1 ---     9225  0.004845  0.001024  164.806020"
            ]
          },
          "metadata": {
            "tags": []
          },
          "execution_count": 36
        }
      ]
    },
    {
      "cell_type": "markdown",
      "metadata": {
        "id": "Vui_ZIH4nZVf"
      },
      "source": [
        "**Analysis :** The  principle of the table 3 is that one can compare the proportion of triads (per type Ti) p(Ti) (from the |Ti|, count of triads measurements) with the proportion of triads obtained with randomized edges and thus only based on positive and negative edges proportions, p0(Ti). So if p(Ti) < p0(Ti) than the triad Ti is under-expressed while if p(Ti) > p0t(Ti) the triad Ti is over-expressed. The parameter s(Ti) is called *the surprise* and corresponds to the *number of standard deviations by which the actual quantity of type-Ti triads differs from the expected number under the random-shuffling mode*, so a quantification of the differences between observed and random resutls. \n",
        "\n",
        "***\n",
        "Reminder : the balance theory, also called Heider's theory, says that some triads, T3 (3 friends) and T1 (2 friends with a common ennemi) are more plausible than T2 (two ennemies with a common friend) and T0 (3 ennemies). The weak version of the theory, also called Davis's theory only says that T3 is more plausible than T2, but T1 and T0 have no reason to be preferred one over the other. \n",
        "***\n",
        "\n",
        "As one can see on the dataframe shown, the triads T0, T1 and T2 are over-represented (p(Ti) < p0(Ti) while the triads T3is under-represented. The over-representation of T1 is in accordance with Heider's theory however the T3 is not supposed to be under-represented, and T2 and T0 are not supposed to have a such difference of proportion with the randomized one. \n",
        "\n",
        "As a reminder, for Epinion, Slashdot and Wikipedia dataset, the results were in according with the weak version of balance theory, the Davis's theory : T2 is heavily under-represented and T0 and T1 present the same s(Ti). \n",
        "\n",
        "It is not the case for the reddit dataset, here we have found an example where  the Davis's balance theory cannot explained the triads type distribution. Therefore the use of this new dataset help to see the weakeness of the conclusions done in the paper and the balance theory may not be able to explaine edges in a undirected triad. In fact, the conclusion on the consistency of the balance theory seems to be dataset-dependant."
      ]
    },
    {
      "cell_type": "markdown",
      "metadata": {
        "id": "XIGKDYJxpEfI"
      },
      "source": [
        "## 1.2] Study of reciprocated links\n",
        "\n",
        "Now that we have an idea about how balance theroy explains the edges in reddit undirected triads, we want to assess the consistency of status theory.\n",
        "\n",
        "This part consist in replicating table 4 for the reddit data to enforce or refute the conclusion the authors do about reciprocated edges : balance theory is good to predict the sign of the reciprocated link of a positive link, and status explains well the sign of the reciprocated link of a negative link. \n",
        "\n",
        "We first replicate the table 4 for the wikipedia dataset to prove that our process is correct, and to ensure the reproducibility of this part of the paper. Again, we now that replication is not creative. However, as we have seen in the previous analysis part, our work seems to bring new lights on the paper's conclusions, thus it adds something to the study. \n",
        "\n",
        "### 1.2.1] Reciprocation of table 4 for the wikipedia dataset\n",
        "\n",
        "**Load the wikipedia data and remove its neutral links**\n",
        "\n",
        "We use the parsed file we created in P2."
      ]
    },
    {
      "cell_type": "code",
      "metadata": {
        "id": "4fr9YF2ZpEfI"
      },
      "source": [
        "wiki_data = pd.read_csv(DATAFOLDER + 'wiki_parsed.txt', sep = '\\t', header = None) #we load the data\n",
        "wiki = wiki_data.rename(columns={0: \"FromNodeId\", 1 : \"ToNodeId\", 2 : \"Sign\"}) #renamethe columns\n",
        "neutral_indx = wiki[wiki.Sign==0].index.values #We filter the dataset to keep neutral links and find the values of the indexes\n",
        "wiki = wiki.drop(neutral_indx) #We drop these lines"
      ],
      "execution_count": null,
      "outputs": []
    },
    {
      "cell_type": "markdown",
      "metadata": {
        "id": "fchuweD9pEfL"
      },
      "source": [
        "**Create a dataframe that contains only reciprocated edges**\n",
        "\n",
        "Notation : if A links towards B, we name A as the starting node, and B as the target node.<br>\n",
        "Let A links towards B, a simple description of our strategy  to find if B links to A is to find all edges that have B as a starting node. If A is a part of the target nodes of B, then B links to A. We create a dataframe for which we only include reciprocated edges, we add both the edges from A to B, and from B to A.\n",
        "\n",
        "The detailed code strategy to find reciprocated edges is : \n",
        "- Initialization : create a dataframe that will contain the edges for which we have a reciprocation.\n",
        "- 1st loop : we loop over all starting nodes, namely we loop over each `from_node`. For each `from_node`, we filter the original dataset to only have edges that have `from_node` as starting node.\n",
        "- 2nd loop : we loop over each target node of `from_node`. For each of these `to_node`, we filter the dataset to have edges that starts from `to_node`.\n",
        "- Test assignement : if `from_node` is a part of the target node of `to_node`, then we add the edges. Sometimes there is the same edge several times : we have $A \\rightarrow B$ several times. We decide to only have each edge one time : we just include $A \\rightarrow B$ one time and $B \\rightarrow A$ one time."
      ]
    },
    {
      "cell_type": "code",
      "metadata": {
        "id": "vZzIn8Y5pEfL",
        "outputId": "b03902eb-2e97-4839-9397-101e6e0f6570"
      },
      "source": [
        "#Initialization\n",
        "wiki_reci = pd.DataFrame()\n",
        "\n",
        "#1st loop : #for all starting nodes\n",
        "for from_node in wiki['FromNodeId'].unique(): \n",
        "    #filter the dataset to have only the edges that have from_node as a starting node\n",
        "    from_df = wiki[wiki['FromNodeId'] == from_node]\n",
        "    \n",
        "    #2nd loop : for each target node for 'from_node', the starting node \n",
        "    for to_node in from_df['ToNodeId'].values : \n",
        "        #filter the dataset to have the edges that have as starting node, the target node of 'from_node'\n",
        "        to_df = wiki[wiki['FromNodeId'] == to_node] \n",
        "        \n",
        "        if from_node in to_df['ToNodeId'].values: #\n",
        "            #we add both edges\n",
        "            wiki_reci = pd.concat([wiki_reci, wiki.loc[(wiki['FromNodeId'] ==from_node) & (wiki['ToNodeId']==to_node)].head(1)])\n",
        "            wiki_reci = pd.concat([wiki_reci, wiki.loc[(wiki['FromNodeId'] == to_node) & (wiki['ToNodeId']==from_node)].head(1)])\n",
        "            #we need to drop at least one edge from the original data to not add the reciprocation several times\n",
        "            wiki = wiki.drop(wiki.loc[(wiki['FromNodeId'] ==from_node) & (wiki['ToNodeId']==to_node)].index)\n",
        "            wiki = wiki.drop(wiki.loc[(wiki['FromNodeId'] ==to_node) & (wiki['ToNodeId']==from_node)].index)\n",
        "            \n",
        "wiki_reci.head() #2min30"
      ],
      "execution_count": null,
      "outputs": [
        {
          "output_type": "execute_result",
          "data": {
            "text/html": [
              "<div>\n",
              "<style scoped>\n",
              "    .dataframe tbody tr th:only-of-type {\n",
              "        vertical-align: middle;\n",
              "    }\n",
              "\n",
              "    .dataframe tbody tr th {\n",
              "        vertical-align: top;\n",
              "    }\n",
              "\n",
              "    .dataframe thead th {\n",
              "        text-align: right;\n",
              "    }\n",
              "</style>\n",
              "<table border=\"1\" class=\"dataframe\">\n",
              "  <thead>\n",
              "    <tr style=\"text-align: right;\">\n",
              "      <th></th>\n",
              "      <th>FromNodeId</th>\n",
              "      <th>ToNodeId</th>\n",
              "      <th>Sign</th>\n",
              "    </tr>\n",
              "  </thead>\n",
              "  <tbody>\n",
              "    <tr>\n",
              "      <th>33</th>\n",
              "      <td>3</td>\n",
              "      <td>54</td>\n",
              "      <td>1</td>\n",
              "    </tr>\n",
              "    <tr>\n",
              "      <th>1157</th>\n",
              "      <td>54</td>\n",
              "      <td>3</td>\n",
              "      <td>1</td>\n",
              "    </tr>\n",
              "    <tr>\n",
              "      <th>720</th>\n",
              "      <td>3</td>\n",
              "      <td>28</td>\n",
              "      <td>1</td>\n",
              "    </tr>\n",
              "    <tr>\n",
              "      <th>1180</th>\n",
              "      <td>28</td>\n",
              "      <td>3</td>\n",
              "      <td>1</td>\n",
              "    </tr>\n",
              "    <tr>\n",
              "      <th>2144</th>\n",
              "      <td>3</td>\n",
              "      <td>178</td>\n",
              "      <td>1</td>\n",
              "    </tr>\n",
              "  </tbody>\n",
              "</table>\n",
              "</div>"
            ],
            "text/plain": [
              "      FromNodeId  ToNodeId  Sign\n",
              "33             3        54     1\n",
              "1157          54         3     1\n",
              "720            3        28     1\n",
              "1180          28         3     1\n",
              "2144           3       178     1"
            ]
          },
          "metadata": {
            "tags": []
          },
          "execution_count": 76
        }
      ]
    },
    {
      "cell_type": "code",
      "metadata": {
        "id": "7go3Is8LpEfM"
      },
      "source": [
        "wiki_reci.shape[0]"
      ],
      "execution_count": null,
      "outputs": []
    },
    {
      "cell_type": "markdown",
      "metadata": {
        "id": "Wh2NaKhHpEfM"
      },
      "source": [
        "We first want to know what part of the original wikipedia reciprocated edges represent. The authors say that about 3-5% of the original dataset's edges are reciprocation of existing links. \n",
        "\n",
        "To check this, we divide the number of edges of this dataframe containing reciprocated edges by two time the number of edges in the original dataset (because we counted the link and its reciprocation, while in the paper they only count the reciprocation)."
      ]
    },
    {
      "cell_type": "code",
      "metadata": {
        "id": "D59pkNbXpEfN",
        "outputId": "6d0e784a-f157-4b9a-f86f-570306728bd7"
      },
      "source": [
        "#we compute the proportion\n",
        "print('propotion of reciprocated edges : {:.2%}'.format(wiki_reci.shape[0]/(2*wiki.shape[0])))"
      ],
      "execution_count": null,
      "outputs": [
        {
          "output_type": "stream",
          "text": [
            "propotion of reciprocated edges : 2.96%\n"
          ],
          "name": "stdout"
        }
      ]
    },
    {
      "cell_type": "markdown",
      "metadata": {
        "id": "Q8C6qG9bpEfN"
      },
      "source": [
        "It seems we have a similar result than with the paper. Now we replicate table 4\n",
        "\n",
        "**Replication of table 4 for the wikipedia dataset**\n",
        "\n",
        "To do this, we first create the networkx graph associated with this dataframe. Then we replicate table 4. The idea to find the `P(+|+)` and `P(-|+)` is the following : for each node, we find each of its neighbors linked with a positive sign to it, and then we test what is the sign of the reciprocated link, and add a count to the corresponding field."
      ]
    },
    {
      "cell_type": "code",
      "metadata": {
        "id": "HTWOFbxdpEfO",
        "outputId": "69a0763d-062b-4805-de8d-d97f1f34bcce"
      },
      "source": [
        "from table4 import create_table4\n",
        "\n",
        "table4_wiki = create_table4(wiki_reci, name_data = 'wikipedia')\n",
        "table4_wiki.head()"
      ],
      "execution_count": null,
      "outputs": [
        {
          "output_type": "execute_result",
          "data": {
            "text/html": [
              "<div>\n",
              "<style scoped>\n",
              "    .dataframe tbody tr th:only-of-type {\n",
              "        vertical-align: middle;\n",
              "    }\n",
              "\n",
              "    .dataframe tbody tr th {\n",
              "        vertical-align: top;\n",
              "    }\n",
              "\n",
              "    .dataframe thead th {\n",
              "        text-align: right;\n",
              "    }\n",
              "</style>\n",
              "<table border=\"1\" class=\"dataframe\">\n",
              "  <thead>\n",
              "    <tr style=\"text-align: right;\">\n",
              "      <th></th>\n",
              "      <th>wikipedia</th>\n",
              "      <th>Count</th>\n",
              "      <th>Fraction</th>\n",
              "    </tr>\n",
              "  </thead>\n",
              "  <tbody>\n",
              "    <tr>\n",
              "      <th>0</th>\n",
              "      <td>P(+|+)</td>\n",
              "      <td>2542</td>\n",
              "      <td>0.950636</td>\n",
              "    </tr>\n",
              "    <tr>\n",
              "      <th>1</th>\n",
              "      <td>P(-|+)</td>\n",
              "      <td>132</td>\n",
              "      <td>0.049364</td>\n",
              "    </tr>\n",
              "    <tr>\n",
              "      <th>2</th>\n",
              "      <td>P(+|-)</td>\n",
              "      <td>206</td>\n",
              "      <td>0.662379</td>\n",
              "    </tr>\n",
              "    <tr>\n",
              "      <th>3</th>\n",
              "      <td>P(-|-)</td>\n",
              "      <td>105</td>\n",
              "      <td>0.337621</td>\n",
              "    </tr>\n",
              "  </tbody>\n",
              "</table>\n",
              "</div>"
            ],
            "text/plain": [
              "  wikipedia  Count  Fraction\n",
              "0    P(+|+)   2542  0.950636\n",
              "1    P(-|+)    132  0.049364\n",
              "2    P(+|-)    206  0.662379\n",
              "3    P(-|-)    105  0.337621"
            ]
          },
          "metadata": {
            "tags": []
          },
          "execution_count": 78
        }
      ]
    },
    {
      "cell_type": "markdown",
      "metadata": {
        "id": "ce4YOhlmpEfP"
      },
      "source": [
        "Here is the table 4 from the paper :\n",
        ">![image.png](attachment:efcb5830-fd78-4266-b9b0-a7c11f80fc6a.png)\n",
        "\n",
        "Our results are not the exact same, but are very close to the ones in the paper. We compute the difference in term of percentage of expected value to quantify this difference : \n",
        "- T0 : 0.59%\n",
        "- T1 : 10.24%\n",
        "- T2: 12.84%\n",
        "- T3 : 14.83%\n",
        "So here we see that the percentage error are acceptable (<15%). We conclude on a good replication power of the paper for this table. We use the same process for the reddit data."
      ]
    },
    {
      "cell_type": "markdown",
      "metadata": {
        "id": "l8XzowoYpEfP"
      },
      "source": [
        "### 1.2.2] Replication of table 4 for the reddit dataset\n",
        "\n",
        "We basically copy the functions from before, but with the reddit data.\n",
        "\n",
        "**Create a dataframe that contains only reciprocated edges**\n",
        "\n",
        "We use the exact same code as before, but his time we use the reddit dataset."
      ]
    },
    {
      "cell_type": "code",
      "metadata": {
        "id": "e_gPQ7EHpEfQ",
        "outputId": "ad977264-7725-4b27-c9b3-4ef25e6b258f"
      },
      "source": [
        "reddit = data_total\n",
        "\n",
        "reddit_reci = pd.DataFrame()\n",
        "for from_node in reddit['FromNodeId'].unique(): #for all unique nodes\n",
        "    #filter the dataset to have only the edges that have from_node as a starting node\n",
        "    from_df = reddit[reddit['FromNodeId'] == from_node]\n",
        "    for to_node in from_df['ToNodeId'].values : #for all target node of 'from_node'\n",
        "        to_df = reddit[reddit['FromNodeId'] == to_node]\n",
        "        if from_node in to_df['ToNodeId'].values:\n",
        "            #we add both edges\n",
        "            reddit_reci = pd.concat([reddit_reci, reddit.loc[(reddit['FromNodeId'] ==from_node) & (reddit['ToNodeId']==to_node)].head(1)])\n",
        "            reddit_reci = pd.concat([reddit_reci, reddit.loc[(reddit['FromNodeId'] == to_node) & (reddit['ToNodeId']==from_node)].head(1)])\n",
        "            #we need to drop at least one edge from the original data to not add the reciprocation several times\n",
        "            reddit = reddit.drop(reddit.loc[(reddit['FromNodeId'] ==from_node) & (reddit['ToNodeId']==to_node)].index)\n",
        "            reddit = reddit.drop(reddit.loc[(reddit['FromNodeId'] ==to_node) & (reddit['ToNodeId']==from_node)].index)\n",
        "            \n",
        "reddit_reci.head() "
      ],
      "execution_count": null,
      "outputs": [
        {
          "output_type": "execute_result",
          "data": {
            "text/html": [
              "<div>\n",
              "<style scoped>\n",
              "    .dataframe tbody tr th:only-of-type {\n",
              "        vertical-align: middle;\n",
              "    }\n",
              "\n",
              "    .dataframe tbody tr th {\n",
              "        vertical-align: top;\n",
              "    }\n",
              "\n",
              "    .dataframe thead th {\n",
              "        text-align: right;\n",
              "    }\n",
              "</style>\n",
              "<table border=\"1\" class=\"dataframe\">\n",
              "  <thead>\n",
              "    <tr style=\"text-align: right;\">\n",
              "      <th></th>\n",
              "      <th>SOURCE_SUBREDDIT</th>\n",
              "      <th>TARGET_SUBREDDIT</th>\n",
              "      <th>POST_ID</th>\n",
              "      <th>TIMESTAMP</th>\n",
              "      <th>Sign</th>\n",
              "      <th>PROPERTIES</th>\n",
              "      <th>FromNodeId</th>\n",
              "      <th>ToNodeId</th>\n",
              "    </tr>\n",
              "  </thead>\n",
              "  <tbody>\n",
              "    <tr>\n",
              "      <th>0</th>\n",
              "      <td>leagueoflegends</td>\n",
              "      <td>teamredditteams</td>\n",
              "      <td>1u4nrps</td>\n",
              "      <td>2013-12-31 16:39:58</td>\n",
              "      <td>1</td>\n",
              "      <td>345.0,298.0,0.75652173913,0.0173913043478,0.08...</td>\n",
              "      <td>32023</td>\n",
              "      <td>57105</td>\n",
              "    </tr>\n",
              "    <tr>\n",
              "      <th>6172</th>\n",
              "      <td>teamredditteams</td>\n",
              "      <td>leagueoflegends</td>\n",
              "      <td>1xoxyes</td>\n",
              "      <td>2014-02-11 23:07:12</td>\n",
              "      <td>1</td>\n",
              "      <td>288.0,252.0,0.774305555556,0.00694444444444,0....</td>\n",
              "      <td>57105</td>\n",
              "      <td>32023</td>\n",
              "    </tr>\n",
              "    <tr>\n",
              "      <th>311</th>\n",
              "      <td>leagueoflegends</td>\n",
              "      <td>leagueoflegendsmeta</td>\n",
              "      <td>1ue5u4s</td>\n",
              "      <td>2014-01-04 07:15:08</td>\n",
              "      <td>1</td>\n",
              "      <td>705.0,604.0,0.756028368794,0.00567375886525,0....</td>\n",
              "      <td>32023</td>\n",
              "      <td>32026</td>\n",
              "    </tr>\n",
              "    <tr>\n",
              "      <th>4196</th>\n",
              "      <td>leagueoflegendsmeta</td>\n",
              "      <td>leagueoflegends</td>\n",
              "      <td>1wl2hzs</td>\n",
              "      <td>2014-01-30 12:32:16</td>\n",
              "      <td>1</td>\n",
              "      <td>1117.0,928.0,0.761862130707,0.000895255147717,...</td>\n",
              "      <td>32026</td>\n",
              "      <td>32023</td>\n",
              "    </tr>\n",
              "    <tr>\n",
              "      <th>320</th>\n",
              "      <td>leagueoflegends</td>\n",
              "      <td>iama</td>\n",
              "      <td>1ueax1s</td>\n",
              "      <td>2014-01-04 08:32:51</td>\n",
              "      <td>1</td>\n",
              "      <td>110.0,110.0,0.763636363636,0.0363636363636,0.0...</td>\n",
              "      <td>32023</td>\n",
              "      <td>27319</td>\n",
              "    </tr>\n",
              "  </tbody>\n",
              "</table>\n",
              "</div>"
            ],
            "text/plain": [
              "         SOURCE_SUBREDDIT     TARGET_SUBREDDIT  POST_ID            TIMESTAMP  \\\n",
              "0         leagueoflegends      teamredditteams  1u4nrps  2013-12-31 16:39:58   \n",
              "6172      teamredditteams      leagueoflegends  1xoxyes  2014-02-11 23:07:12   \n",
              "311       leagueoflegends  leagueoflegendsmeta  1ue5u4s  2014-01-04 07:15:08   \n",
              "4196  leagueoflegendsmeta      leagueoflegends  1wl2hzs  2014-01-30 12:32:16   \n",
              "320       leagueoflegends                 iama  1ueax1s  2014-01-04 08:32:51   \n",
              "\n",
              "      Sign                                         PROPERTIES  FromNodeId  \\\n",
              "0        1  345.0,298.0,0.75652173913,0.0173913043478,0.08...       32023   \n",
              "6172     1  288.0,252.0,0.774305555556,0.00694444444444,0....       57105   \n",
              "311      1  705.0,604.0,0.756028368794,0.00567375886525,0....       32023   \n",
              "4196     1  1117.0,928.0,0.761862130707,0.000895255147717,...       32026   \n",
              "320      1  110.0,110.0,0.763636363636,0.0363636363636,0.0...       32023   \n",
              "\n",
              "      ToNodeId  \n",
              "0        57105  \n",
              "6172     32023  \n",
              "311      32026  \n",
              "4196     32023  \n",
              "320      27319  "
            ]
          },
          "metadata": {
            "tags": []
          },
          "execution_count": 10
        }
      ]
    },
    {
      "cell_type": "markdown",
      "metadata": {
        "id": "HdyqLvdDpEfQ"
      },
      "source": [
        "This operation took a very long time (hours), so i save it into a csv file to not running it again if needed."
      ]
    },
    {
      "cell_type": "code",
      "metadata": {
        "id": "m_lhRktvpEfQ"
      },
      "source": [
        "#save it into a csv file\n",
        "reddit_reci.to_csv('reddit_reciprocation.csv')"
      ],
      "execution_count": null,
      "outputs": []
    },
    {
      "cell_type": "code",
      "metadata": {
        "id": "mGqWBQYwpEfR"
      },
      "source": [
        "#If we saved the csv file, we can load it :\n",
        "reddit_reci = pd.read_csv('reddit_reciprocation.csv')"
      ],
      "execution_count": null,
      "outputs": []
    },
    {
      "cell_type": "code",
      "metadata": {
        "id": "F4eU54_WpEfR",
        "outputId": "fde857cf-527a-453a-bb0f-ec03475cc81a"
      },
      "source": [
        "#we compute the proportion\n",
        "print('propotion of reciprocated edges : {:.2%}'.format(reddit_reci.shape[0]/(2*reddit.shape[0])))"
      ],
      "execution_count": null,
      "outputs": [
        {
          "output_type": "stream",
          "text": [
            "propotion of reciprocated edges : 5.38%\n"
          ],
          "name": "stdout"
        }
      ]
    },
    {
      "cell_type": "markdown",
      "metadata": {
        "id": "NItopJePpEfR"
      },
      "source": [
        "The proportion of the original dataset to be reciprocated edges is higher than for the wikipedia dataset."
      ]
    },
    {
      "cell_type": "markdown",
      "metadata": {
        "id": "BUblecfVpEfR"
      },
      "source": [
        "**Replication of table 4**"
      ]
    },
    {
      "cell_type": "code",
      "metadata": {
        "id": "IHXd1wGfpEfS",
        "outputId": "d7ed3139-5d2a-44ac-e195-7c1a972cc153"
      },
      "source": [
        "from table4 import create_table4\n",
        "\n",
        "table4_reddit = create_table4(reddit_reci, name_data = 'reddit')\n",
        "table4_reddit.head()"
      ],
      "execution_count": null,
      "outputs": [
        {
          "output_type": "execute_result",
          "data": {
            "text/html": [
              "<div>\n",
              "<style scoped>\n",
              "    .dataframe tbody tr th:only-of-type {\n",
              "        vertical-align: middle;\n",
              "    }\n",
              "\n",
              "    .dataframe tbody tr th {\n",
              "        vertical-align: top;\n",
              "    }\n",
              "\n",
              "    .dataframe thead th {\n",
              "        text-align: right;\n",
              "    }\n",
              "</style>\n",
              "<table border=\"1\" class=\"dataframe\">\n",
              "  <thead>\n",
              "    <tr style=\"text-align: right;\">\n",
              "      <th></th>\n",
              "      <th>reddit</th>\n",
              "      <th>Count</th>\n",
              "      <th>Fraction</th>\n",
              "    </tr>\n",
              "  </thead>\n",
              "  <tbody>\n",
              "    <tr>\n",
              "      <th>0</th>\n",
              "      <td>P(+|+)</td>\n",
              "      <td>27002</td>\n",
              "      <td>0.954505</td>\n",
              "    </tr>\n",
              "    <tr>\n",
              "      <th>1</th>\n",
              "      <td>P(-|+)</td>\n",
              "      <td>1287</td>\n",
              "      <td>0.045495</td>\n",
              "    </tr>\n",
              "    <tr>\n",
              "      <th>2</th>\n",
              "      <td>P(+|-)</td>\n",
              "      <td>1482</td>\n",
              "      <td>0.878483</td>\n",
              "    </tr>\n",
              "    <tr>\n",
              "      <th>3</th>\n",
              "      <td>P(-|-)</td>\n",
              "      <td>205</td>\n",
              "      <td>0.121517</td>\n",
              "    </tr>\n",
              "  </tbody>\n",
              "</table>\n",
              "</div>"
            ],
            "text/plain": [
              "   reddit  Count  Fraction\n",
              "0  P(+|+)  27002  0.954505\n",
              "1  P(-|+)   1287  0.045495\n",
              "2  P(+|-)   1482  0.878483\n",
              "3  P(-|-)    205  0.121517"
            ]
          },
          "metadata": {
            "tags": []
          },
          "execution_count": 23
        }
      ]
    },
    {
      "cell_type": "markdown",
      "metadata": {
        "id": "VpMgf3S3pEfS"
      },
      "source": [
        "**Analysis :**\n",
        "One can see that globally the fraction values of table 4 for Reddit have the same magnitude order as the results from Wikipedia dataset. Thus these results seems to be consistent with the conclusion authors make : if A-B is positive, we have in 95.4% of cases that B-A is positive as well, which is higher than the 90% of positive links in the data (original positive edge proportion). So balance theory explains well the proportion of $P(+|+)$, as a reciprocation of a positive link should be positive as well. \n",
        "\n",
        "\n",
        "The situation where A-B is negative have different output according to the theories : the balance one predicts a negative edge for B-A, while the negative one predict a positive edge. Here one can see that the if A-B is negative, B-A is positive in 87.8% of cases, which is (a bit) lower than the 90% of positive edges. \n",
        "\n",
        "\n",
        "\n",
        "Therefore we may say that status theory explains well the high proportion of $P(+|-)$, as if A links negatively to B (A thinks B has a ower status), then B should link positively to A (B thinks A has a higher status). \n",
        "\n",
        " "
      ]
    },
    {
      "cell_type": "markdown",
      "metadata": {
        "id": "zaopHb3fpEfS"
      },
      "source": [
        "**By curiosity, we can see several examples of links that satisfies $P(-|+)$, $P(+|-)$ and $P(-|-)$**"
      ]
    },
    {
      "cell_type": "code",
      "metadata": {
        "id": "KVUbRdg6pEfT",
        "outputId": "2b719ee0-8c86-4e88-e556-9dede344533a"
      },
      "source": [
        "#Examples of links satisfying P(-|+)\n",
        "from table4 import print_p2\n",
        "\n",
        "print_p2(reddit_reci, name_data = 'reddit', nb_ex = 10)"
      ],
      "execution_count": null,
      "outputs": [
        {
          "output_type": "stream",
          "text": [
            "Examples of subreddits (A,B) satisfying P(-|+) : A link positive to B, B link negative to A \n",
            "example 1 :\n",
            "A : leagueoflegends\n",
            "B : gaming\n",
            "\n",
            "example 2 :\n",
            "A : leagueoflegends\n",
            "B : leagueofmemes\n",
            "\n",
            "example 3 :\n",
            "A : nfl\n",
            "B : chibears\n",
            "\n",
            "example 4 :\n",
            "A : nfl\n",
            "B : detroitlions\n",
            "\n",
            "example 5 :\n",
            "A : nfl\n",
            "B : steelers\n",
            "\n",
            "example 6 :\n",
            "A : nfl\n",
            "B : showerthoughts\n",
            "\n",
            "example 7 :\n",
            "A : dogemarket\n",
            "B : dogecoinscamwatch\n",
            "\n",
            "example 8 :\n",
            "A : metalcore\n",
            "B : music\n",
            "\n",
            "example 9 :\n",
            "A : suicidewatch\n",
            "B : needadvice\n",
            "\n",
            "example 10 :\n",
            "A : suicidewatch\n",
            "B : mensrights\n",
            "\n"
          ],
          "name": "stdout"
        }
      ]
    },
    {
      "cell_type": "code",
      "metadata": {
        "id": "SlEdcPsUpEfT",
        "outputId": "56b1b8cc-9814-4710-dfd2-609a825eb955"
      },
      "source": [
        "#Examples of links satisfying P(+|-)\n",
        "from table4 import print_p3\n",
        "\n",
        "print_p3(reddit_reci, name_data = 'reddit', nb_ex = 4)"
      ],
      "execution_count": null,
      "outputs": [
        {
          "output_type": "stream",
          "text": [
            "Examples of subreddits (A,B) satisfying P(+|-) : A link negative to B, B link positive to A \n",
            "example 1 :\n",
            "A : leagueoflegends\n",
            "B : cringepics\n",
            "\n",
            "example 2 :\n",
            "A : leagueoflegends\n",
            "B : gameofthrones\n",
            "\n",
            "example 3 :\n",
            "A : leagueoflegends\n",
            "B : todayilearned\n",
            "\n",
            "example 4 :\n",
            "A : leagueoflegends\n",
            "B : caitlynmains\n",
            "\n"
          ],
          "name": "stdout"
        }
      ]
    },
    {
      "cell_type": "code",
      "metadata": {
        "id": "pxMKavKQpEfU",
        "outputId": "2ee55c32-6f55-45cc-9ef2-b1791403a12d"
      },
      "source": [
        "#Examples of links satisfying P(-|-)\n",
        "from table4 import print_p4\n",
        "\n",
        "print_p4(reddit_reci, name_data = 'reddit', nb_ex = 4)"
      ],
      "execution_count": null,
      "outputs": [
        {
          "output_type": "stream",
          "text": [
            "Examples of subreddits (A,B) satisfying P(-|-) : A link negative to B, B link positive to A \n",
            "example 1 :\n",
            "A : leagueoflegends\n",
            "B : bestof\n",
            "\n",
            "example 2 :\n",
            "A : leagueoflegends\n",
            "B : dotamasterrace\n",
            "\n",
            "example 3 :\n",
            "A : suicidewatch\n",
            "B : bestof\n",
            "\n",
            "example 4 :\n",
            "A : circlebroke\n",
            "B : shitredditsays\n",
            "\n"
          ],
          "name": "stdout"
        }
      ]
    },
    {
      "cell_type": "markdown",
      "metadata": {
        "id": "iDtdbIn2nZVk"
      },
      "source": [
        "## Conclusion of the first part \n",
        "\n",
        "\n",
        "We conclude that in a triad configuration, we can't assure that the balance theory can explain the sign of some links, because the study of the Reddit dataset gave results that are opposed to the balance theory : \n",
        "- only T1 overrepresented, but T3 underrepresented\n",
        "- T1 > T2 which is good appart from the fact that T2 should'nt be over represented\n",
        "--> with T3 under and T1>T2 don't follow the observations of the paper about consistency of Davis's theory\n",
        "\n",
        "Furthermore, when we have reciprocated edges, balance theory is good to predict the sign of the reciprocation of a positive link. Whereas status theory is good to predict the sign of the reciprocation of a negative link. \n",
        "\n",
        "\n",
        "\n",
        "Then we study new variables and how they may impact the network structure through calculations of centrality, clustering and behavior parameters. We begin with the time. "
      ]
    },
    {
      "cell_type": "markdown",
      "metadata": {
        "id": "2QomaG4BpGLy"
      },
      "source": [
        "# Part 2\n",
        "\n",
        "So here the idea is to **identify variables that are not taken into account in the status and balance theory** but which **may have an impact on the network structure**. It could help us to identify the strength and limits of these social theories, and thus define better their range of applications.\n",
        "During the first part of this paper analysis, which is the replication of the results, we ignore some information about the dataset we used. **Time** is the major parameter we didn’t take into account during structure network analysis, so here we’ll try to see if in fact it may have an impact on it. It is our first variable. We will also consider a second variable, the **weight** of the edges. \n",
        "\n",
        "\n",
        "The aim of the overall process is to assess the importance or not of the new variable in network structure.\n",
        "All along the analysis, we first start with the reddit dataset, and then with the wikipedia dataset used in the paper. \n",
        "\n",
        "**NOTE FOR PART 2** : On the following analysis we will only consider only the **body dataset** from reddit. As we will use sentiment score (positve and negative), it seams more relevant to use the one computed from a text than from a single title as it will be more nuanced and thus will represent better the overall idea of the post. Also as title and body are generating the same edge, we would have the same networks two time. For technical facilities and because we think that due to this similarity the two netwokrs would drive the same conclusions, we prefer to selection only one. \n",
        "\n",
        "The processus is the following: \n",
        "- work with the **REDDIT** dataset : \n",
        "1) First we identify the global trend in edges distribution according to the variable  \n",
        ">- step 0 : work with Date data\n",
        ">- step 1 : analysis of the year \n",
        ">- step 2 : analysis of the month \n",
        ">- step 3 : analysis of the day of the month and of the week \n",
        ">- step 4 : analyis of the hour \n",
        "\n",
        "Aim : identify the main trends among the time data, and thus define new subgraphs\n",
        "\n",
        "2) Do the structural analysis of these subgraphs\n",
        "\n",
        "Parameters : Centrality (degree, closeness, local clustering coefficient, centrality degree), Clustering (global), Behavior (Assortativity)\n",
        "\n",
        "3) Discussion, First conclusion \n",
        "\n",
        "- work on the **Wikipedia** dataset:\n",
        "4) Identification of global trends in edges distribution\n",
        ">- same steps 0, 1, 2, 3, 4\n",
        "Aim : same\n",
        "\n",
        "5) Do the structural analysis of these second subgraphs \n",
        ">Parameters : Same\n",
        "\n",
        "6) Discussion, Second Conclusion\n",
        "\n",
        "- Put into perspective through a scheme situation\n",
        ">- Draw the scheme of a situation, to illustrate how the time can influence the formation of new edges compared to status and balance theory. (Abstract, with a drawing).\n",
        "\n",
        "\n",
        "## 2.1] Time analysis\n",
        "\n",
        "We will apply this processus first on the Reddit dataset, and then on the wikipedia dataset, the only original one provided with the timestamp of the edge.\n",
        "\n",
        "Let's start with the identification of the global trend."
      ]
    },
    {
      "cell_type": "markdown",
      "metadata": {
        "id": "qF9w4ke0m4Eu"
      },
      "source": [
        "## 2.1.1] Work on the Reddit dataset\n",
        "### 2.1.1.1] Analyzing the global trend \n",
        "### **Step 0**  : Work with datetime data\n",
        "\n",
        "#### Transform string date data into datetime ones\n",
        "\n",
        "First we have to deal with the data representing the time. Here we print an example of how it looks like."
      ]
    },
    {
      "cell_type": "code",
      "metadata": {
        "colab": {
          "base_uri": "https://localhost:8080/"
        },
        "id": "jJvwpUkHm4Ev",
        "outputId": "b2233a5f-979e-494c-b91c-87a61409b7fb"
      },
      "source": [
        "print('Exemple : the date of the first post of the dataset is : {}'.format(data_body['TIMESTAMP'][3]))\n",
        "print(' Its type is ',type(data_body['TIMESTAMP'][3]))"
      ],
      "execution_count": null,
      "outputs": [
        {
          "output_type": "stream",
          "text": [
            "Exemple : the date of the first post of the dataset is : 2013-12-31 17:37:55\n",
            " Its type is  <class 'str'>\n"
          ],
          "name": "stdout"
        }
      ]
    },
    {
      "cell_type": "markdown",
      "metadata": {
        "id": "Mvmw17nwm4Ew"
      },
      "source": [
        "Here the date are strings, so we need to convert them into datetime form as we want to do time manipulation (e.g. year example). "
      ]
    },
    {
      "cell_type": "code",
      "metadata": {
        "id": "lEeHJ9KKm4Ew"
      },
      "source": [
        "# Useful libraries \n",
        "from datetime import datetime, date, time\n",
        "import calendar "
      ],
      "execution_count": null,
      "outputs": []
    },
    {
      "cell_type": "markdown",
      "metadata": {
        "id": "N_1X-lnOnZVm"
      },
      "source": [
        "Then we transform the string dates into*datetime* type using the `to_datetime` function with the format year-month-day and hour-minute-second."
      ]
    },
    {
      "cell_type": "code",
      "metadata": {
        "id": "15P7Dzjxm4Ex"
      },
      "source": [
        "data_body['TIMESTAMP'] = pd.to_datetime(data_body['TIMESTAMP'], format='%Y-%m-%d %H:%M:%S', errors='coerce')"
      ],
      "execution_count": null,
      "outputs": []
    },
    {
      "cell_type": "code",
      "metadata": {
        "colab": {
          "base_uri": "https://localhost:8080/",
          "height": 309
        },
        "id": "l20NW8j-m4Ex",
        "outputId": "b7e6b6d3-2051-466c-9ec2-722c6c40258e"
      },
      "source": [
        "data_body.head()"
      ],
      "execution_count": null,
      "outputs": [
        {
          "output_type": "execute_result",
          "data": {
            "text/html": [
              "<div>\n",
              "<style scoped>\n",
              "    .dataframe tbody tr th:only-of-type {\n",
              "        vertical-align: middle;\n",
              "    }\n",
              "\n",
              "    .dataframe tbody tr th {\n",
              "        vertical-align: top;\n",
              "    }\n",
              "\n",
              "    .dataframe thead th {\n",
              "        text-align: right;\n",
              "    }\n",
              "</style>\n",
              "<table border=\"1\" class=\"dataframe\">\n",
              "  <thead>\n",
              "    <tr style=\"text-align: right;\">\n",
              "      <th></th>\n",
              "      <th>SOURCE_SUBREDDIT</th>\n",
              "      <th>TARGET_SUBREDDIT</th>\n",
              "      <th>POST_ID</th>\n",
              "      <th>TIMESTAMP</th>\n",
              "      <th>Sign</th>\n",
              "      <th>PROPERTIES</th>\n",
              "    </tr>\n",
              "  </thead>\n",
              "  <tbody>\n",
              "    <tr>\n",
              "      <th>0</th>\n",
              "      <td>leagueoflegends</td>\n",
              "      <td>teamredditteams</td>\n",
              "      <td>1u4nrps</td>\n",
              "      <td>2013-12-31 16:39:58</td>\n",
              "      <td>1</td>\n",
              "      <td>345.0,298.0,0.75652173913,0.0173913043478,0.08...</td>\n",
              "    </tr>\n",
              "    <tr>\n",
              "      <th>1</th>\n",
              "      <td>theredlion</td>\n",
              "      <td>soccer</td>\n",
              "      <td>1u4qkd</td>\n",
              "      <td>2013-12-31 18:18:37</td>\n",
              "      <td>-1</td>\n",
              "      <td>101.0,98.0,0.742574257426,0.019801980198,0.049...</td>\n",
              "    </tr>\n",
              "    <tr>\n",
              "      <th>2</th>\n",
              "      <td>inlandempire</td>\n",
              "      <td>bikela</td>\n",
              "      <td>1u4qlzs</td>\n",
              "      <td>2014-01-01 14:54:35</td>\n",
              "      <td>1</td>\n",
              "      <td>85.0,85.0,0.752941176471,0.0235294117647,0.082...</td>\n",
              "    </tr>\n",
              "    <tr>\n",
              "      <th>3</th>\n",
              "      <td>nfl</td>\n",
              "      <td>cfb</td>\n",
              "      <td>1u4sjvs</td>\n",
              "      <td>2013-12-31 17:37:55</td>\n",
              "      <td>1</td>\n",
              "      <td>1124.0,949.0,0.772241992883,0.0017793594306,0....</td>\n",
              "    </tr>\n",
              "    <tr>\n",
              "      <th>4</th>\n",
              "      <td>playmygame</td>\n",
              "      <td>gamedev</td>\n",
              "      <td>1u4w5ss</td>\n",
              "      <td>2014-01-01 02:51:13</td>\n",
              "      <td>1</td>\n",
              "      <td>715.0,622.0,0.777622377622,0.00699300699301,0....</td>\n",
              "    </tr>\n",
              "  </tbody>\n",
              "</table>\n",
              "</div>"
            ],
            "text/plain": [
              "  SOURCE_SUBREDDIT  ...                                         PROPERTIES\n",
              "0  leagueoflegends  ...  345.0,298.0,0.75652173913,0.0173913043478,0.08...\n",
              "1       theredlion  ...  101.0,98.0,0.742574257426,0.019801980198,0.049...\n",
              "2     inlandempire  ...  85.0,85.0,0.752941176471,0.0235294117647,0.082...\n",
              "3              nfl  ...  1124.0,949.0,0.772241992883,0.0017793594306,0....\n",
              "4       playmygame  ...  715.0,622.0,0.777622377622,0.00699300699301,0....\n",
              "\n",
              "[5 rows x 6 columns]"
            ]
          },
          "metadata": {
            "tags": []
          },
          "execution_count": 13
        }
      ]
    },
    {
      "cell_type": "markdown",
      "metadata": {
        "id": "5FpY8ctanZVm"
      },
      "source": [
        "Here are presented the first 5 lines of the Reddit dataset, with the time data in the *datetime* type. Graphically, normally no one can see the difference."
      ]
    },
    {
      "cell_type": "code",
      "metadata": {
        "colab": {
          "base_uri": "https://localhost:8080/"
        },
        "id": "_JK7POMam4Ey",
        "outputId": "f5af6ecd-7a36-40ae-c84c-3903ecb29e4c"
      },
      "source": [
        "print(type(data_body['TIMESTAMP'][0]))"
      ],
      "execution_count": null,
      "outputs": [
        {
          "output_type": "stream",
          "text": [
            "<class 'pandas._libs.tslibs.timestamps.Timestamp'>\n"
          ],
          "name": "stdout"
        }
      ]
    },
    {
      "cell_type": "markdown",
      "metadata": {
        "id": "9zkR-EpPnZVm"
      },
      "source": [
        "However, when checking againt the type of the \"TIMESTAMP\" data, we can see that now it is Timestamp, thus the conversion worked."
      ]
    },
    {
      "cell_type": "markdown",
      "metadata": {
        "id": "ssPqEr8Im4Ey"
      },
      "source": [
        "**Split the dataset into positive and negative edges**\n",
        "\n",
        "Because we want to compute the ratio of negative versus positive edges to identify the global trends, we need to first split the dataset according to the sign of the edge."
      ]
    },
    {
      "cell_type": "markdown",
      "metadata": {
        "id": "4fJNsjz7m4Ez"
      },
      "source": [
        "*Positive*\n",
        "\n",
        "We first filter the body dataframe to have only positive edges."
      ]
    },
    {
      "cell_type": "code",
      "metadata": {
        "colab": {
          "base_uri": "https://localhost:8080/"
        },
        "id": "nhQuc8nBm4Ez",
        "outputId": "b789f43c-f91a-47c7-efdb-15eb33feb01c"
      },
      "source": [
        "body_pos = data_body.copy()\n",
        "body_pos = body_pos.drop(body_pos[body_pos.Sign == -1.0].index).reset_index(drop=True) #we drop all negative edges\n",
        "\n",
        "#size of the new dataframe\n",
        "print('data body original .{}'.format(data_body.shape))\n",
        "print('body POS {}'.format(body_pos.shape))"
      ],
      "execution_count": null,
      "outputs": [
        {
          "output_type": "stream",
          "text": [
            "data body original .(286561, 6)\n",
            "body POS (265491, 6)\n"
          ],
          "name": "stdout"
        }
      ]
    },
    {
      "cell_type": "markdown",
      "metadata": {
        "id": "8-Px7p8RjorE"
      },
      "source": [
        "Let's check we only have positive edges in `body_pos`"
      ]
    },
    {
      "cell_type": "code",
      "metadata": {
        "colab": {
          "base_uri": "https://localhost:8080/"
        },
        "id": "aRMYsASEm4Ez",
        "outputId": "7034bc5a-0a14-4ac7-d461-e4417823da4f"
      },
      "source": [
        "print('Unique values in body_pos : {} '.format(body_pos['Sign'].unique()))"
      ],
      "execution_count": null,
      "outputs": [
        {
          "output_type": "stream",
          "text": [
            "Unique values in body_pos : [1] \n"
          ],
          "name": "stdout"
        }
      ]
    },
    {
      "cell_type": "markdown",
      "metadata": {
        "id": "oKErBtaWjMF8"
      },
      "source": [
        "We see we just have positive values."
      ]
    },
    {
      "cell_type": "code",
      "metadata": {
        "colab": {
          "base_uri": "https://localhost:8080/",
          "height": 309
        },
        "id": "0hxiBSxGm4Ez",
        "outputId": "6cc2dcc1-d4b0-4524-956a-15da1a44bc59"
      },
      "source": [
        "body_pos.head()"
      ],
      "execution_count": null,
      "outputs": [
        {
          "output_type": "execute_result",
          "data": {
            "text/html": [
              "<div>\n",
              "<style scoped>\n",
              "    .dataframe tbody tr th:only-of-type {\n",
              "        vertical-align: middle;\n",
              "    }\n",
              "\n",
              "    .dataframe tbody tr th {\n",
              "        vertical-align: top;\n",
              "    }\n",
              "\n",
              "    .dataframe thead th {\n",
              "        text-align: right;\n",
              "    }\n",
              "</style>\n",
              "<table border=\"1\" class=\"dataframe\">\n",
              "  <thead>\n",
              "    <tr style=\"text-align: right;\">\n",
              "      <th></th>\n",
              "      <th>SOURCE_SUBREDDIT</th>\n",
              "      <th>TARGET_SUBREDDIT</th>\n",
              "      <th>POST_ID</th>\n",
              "      <th>TIMESTAMP</th>\n",
              "      <th>Sign</th>\n",
              "      <th>PROPERTIES</th>\n",
              "    </tr>\n",
              "  </thead>\n",
              "  <tbody>\n",
              "    <tr>\n",
              "      <th>0</th>\n",
              "      <td>leagueoflegends</td>\n",
              "      <td>teamredditteams</td>\n",
              "      <td>1u4nrps</td>\n",
              "      <td>2013-12-31 16:39:58</td>\n",
              "      <td>1</td>\n",
              "      <td>345.0,298.0,0.75652173913,0.0173913043478,0.08...</td>\n",
              "    </tr>\n",
              "    <tr>\n",
              "      <th>1</th>\n",
              "      <td>inlandempire</td>\n",
              "      <td>bikela</td>\n",
              "      <td>1u4qlzs</td>\n",
              "      <td>2014-01-01 14:54:35</td>\n",
              "      <td>1</td>\n",
              "      <td>85.0,85.0,0.752941176471,0.0235294117647,0.082...</td>\n",
              "    </tr>\n",
              "    <tr>\n",
              "      <th>2</th>\n",
              "      <td>nfl</td>\n",
              "      <td>cfb</td>\n",
              "      <td>1u4sjvs</td>\n",
              "      <td>2013-12-31 17:37:55</td>\n",
              "      <td>1</td>\n",
              "      <td>1124.0,949.0,0.772241992883,0.0017793594306,0....</td>\n",
              "    </tr>\n",
              "    <tr>\n",
              "      <th>3</th>\n",
              "      <td>playmygame</td>\n",
              "      <td>gamedev</td>\n",
              "      <td>1u4w5ss</td>\n",
              "      <td>2014-01-01 02:51:13</td>\n",
              "      <td>1</td>\n",
              "      <td>715.0,622.0,0.777622377622,0.00699300699301,0....</td>\n",
              "    </tr>\n",
              "    <tr>\n",
              "      <th>4</th>\n",
              "      <td>dogemarket</td>\n",
              "      <td>dogecoin</td>\n",
              "      <td>1u4w7bs</td>\n",
              "      <td>2013-12-31 18:35:44</td>\n",
              "      <td>1</td>\n",
              "      <td>1328.0,1110.0,0.768825301205,0.0143072289157,0...</td>\n",
              "    </tr>\n",
              "  </tbody>\n",
              "</table>\n",
              "</div>"
            ],
            "text/plain": [
              "  SOURCE_SUBREDDIT  ...                                         PROPERTIES\n",
              "0  leagueoflegends  ...  345.0,298.0,0.75652173913,0.0173913043478,0.08...\n",
              "1     inlandempire  ...  85.0,85.0,0.752941176471,0.0235294117647,0.082...\n",
              "2              nfl  ...  1124.0,949.0,0.772241992883,0.0017793594306,0....\n",
              "3       playmygame  ...  715.0,622.0,0.777622377622,0.00699300699301,0....\n",
              "4       dogemarket  ...  1328.0,1110.0,0.768825301205,0.0143072289157,0...\n",
              "\n",
              "[5 rows x 6 columns]"
            ]
          },
          "metadata": {
            "tags": []
          },
          "execution_count": 17
        }
      ]
    },
    {
      "cell_type": "markdown",
      "metadata": {
        "id": "FwgAZXcKm4E0"
      },
      "source": [
        "*Negative*\n",
        "\n",
        "We do the same but with negative edges"
      ]
    },
    {
      "cell_type": "code",
      "metadata": {
        "colab": {
          "base_uri": "https://localhost:8080/"
        },
        "id": "ZqtCbrjSm4E0",
        "outputId": "6797991c-7837-44ed-d493-8783914cc2e4"
      },
      "source": [
        "body_neg = data_body.copy()\n",
        "body_neg= body_neg.drop(body_neg[body_neg.Sign == 1.0].index).reset_index(drop=True)\n",
        "\n",
        "#size of the new dataframe\n",
        "print('data body original .{}'.format(data_body.shape))\n",
        "print('body NEG {}'.format(body_neg.shape))"
      ],
      "execution_count": null,
      "outputs": [
        {
          "output_type": "stream",
          "text": [
            "data body original .(286561, 6)\n",
            "body NEG (21070, 6)\n"
          ],
          "name": "stdout"
        }
      ]
    },
    {
      "cell_type": "code",
      "metadata": {
        "colab": {
          "base_uri": "https://localhost:8080/"
        },
        "id": "pexBSRm1m4E0",
        "outputId": "5be466f7-af36-4adc-e256-5b77993138db"
      },
      "source": [
        "print('In data body : sign of post 4 = ', data_body.iloc[0][4])\n",
        "print('In body pos : sign of post 4 = ', body_neg.iloc[0][4])"
      ],
      "execution_count": null,
      "outputs": [
        {
          "output_type": "stream",
          "text": [
            "In data body : sign of post 4 =  1\n",
            "In body pos : sign of post 4 =  -1\n"
          ],
          "name": "stdout"
        }
      ]
    },
    {
      "cell_type": "markdown",
      "metadata": {
        "id": "PAaCQ2UfnZVp"
      },
      "source": [
        "Here we check if the sign associated to the post 4 and know to be initially positive is still present in the new negative dataset. In fact it is not, so the filtering worked. "
      ]
    },
    {
      "cell_type": "code",
      "metadata": {
        "colab": {
          "base_uri": "https://localhost:8080/"
        },
        "id": "pKDn8PIfnZVp",
        "outputId": "d20655da-e1c0-4107-8597-b4016e8c1b0a"
      },
      "source": [
        "print('Unique values in body_neg : {} '.format(body_neg['Sign'].unique()))"
      ],
      "execution_count": null,
      "outputs": [
        {
          "output_type": "stream",
          "text": [
            "Unique values in body_neg : [-1] \n"
          ],
          "name": "stdout"
        }
      ]
    },
    {
      "cell_type": "markdown",
      "metadata": {
        "id": "REBjcFSnnZVp"
      },
      "source": [
        "We can aslo use the `unique` function to checl the quality of filtering. Here we can see it worked. "
      ]
    },
    {
      "cell_type": "code",
      "metadata": {
        "colab": {
          "base_uri": "https://localhost:8080/",
          "height": 309
        },
        "id": "tizAhV9Xm4E1",
        "outputId": "69bf2e1e-dba8-4a3a-a1ba-3fcd9fa95072"
      },
      "source": [
        "body_neg.head()"
      ],
      "execution_count": null,
      "outputs": [
        {
          "output_type": "execute_result",
          "data": {
            "text/html": [
              "<div>\n",
              "<style scoped>\n",
              "    .dataframe tbody tr th:only-of-type {\n",
              "        vertical-align: middle;\n",
              "    }\n",
              "\n",
              "    .dataframe tbody tr th {\n",
              "        vertical-align: top;\n",
              "    }\n",
              "\n",
              "    .dataframe thead th {\n",
              "        text-align: right;\n",
              "    }\n",
              "</style>\n",
              "<table border=\"1\" class=\"dataframe\">\n",
              "  <thead>\n",
              "    <tr style=\"text-align: right;\">\n",
              "      <th></th>\n",
              "      <th>SOURCE_SUBREDDIT</th>\n",
              "      <th>TARGET_SUBREDDIT</th>\n",
              "      <th>POST_ID</th>\n",
              "      <th>TIMESTAMP</th>\n",
              "      <th>Sign</th>\n",
              "      <th>PROPERTIES</th>\n",
              "    </tr>\n",
              "  </thead>\n",
              "  <tbody>\n",
              "    <tr>\n",
              "      <th>0</th>\n",
              "      <td>theredlion</td>\n",
              "      <td>soccer</td>\n",
              "      <td>1u4qkd</td>\n",
              "      <td>2013-12-31 18:18:37</td>\n",
              "      <td>-1</td>\n",
              "      <td>101.0,98.0,0.742574257426,0.019801980198,0.049...</td>\n",
              "    </tr>\n",
              "    <tr>\n",
              "      <th>1</th>\n",
              "      <td>karmaconspiracy</td>\n",
              "      <td>funny</td>\n",
              "      <td>1u6fz3</td>\n",
              "      <td>2014-01-01 12:44:19</td>\n",
              "      <td>-1</td>\n",
              "      <td>186.0,182.0,0.741935483871,0.0376344086022,0.0...</td>\n",
              "    </tr>\n",
              "    <tr>\n",
              "      <th>2</th>\n",
              "      <td>badkarma</td>\n",
              "      <td>gamesell</td>\n",
              "      <td>1u6t4g</td>\n",
              "      <td>2014-01-01 16:42:14</td>\n",
              "      <td>-1</td>\n",
              "      <td>262.0,258.0,0.725190839695,0.0381679389313,0.0...</td>\n",
              "    </tr>\n",
              "    <tr>\n",
              "      <th>3</th>\n",
              "      <td>casualiama</td>\n",
              "      <td>teenagers</td>\n",
              "      <td>1u70s8</td>\n",
              "      <td>2014-01-01 17:09:46</td>\n",
              "      <td>-1</td>\n",
              "      <td>91.0,91.0,0.78021978022,0.032967032967,0.04395...</td>\n",
              "    </tr>\n",
              "    <tr>\n",
              "      <th>4</th>\n",
              "      <td>australia</td>\n",
              "      <td>sydney</td>\n",
              "      <td>1u71zd</td>\n",
              "      <td>2014-01-01 17:24:46</td>\n",
              "      <td>-1</td>\n",
              "      <td>2547.0,2158.0,0.801334903808,0.0051040439733,0...</td>\n",
              "    </tr>\n",
              "  </tbody>\n",
              "</table>\n",
              "</div>"
            ],
            "text/plain": [
              "  SOURCE_SUBREDDIT  ...                                         PROPERTIES\n",
              "0       theredlion  ...  101.0,98.0,0.742574257426,0.019801980198,0.049...\n",
              "1  karmaconspiracy  ...  186.0,182.0,0.741935483871,0.0376344086022,0.0...\n",
              "2         badkarma  ...  262.0,258.0,0.725190839695,0.0381679389313,0.0...\n",
              "3       casualiama  ...  91.0,91.0,0.78021978022,0.032967032967,0.04395...\n",
              "4        australia  ...  2547.0,2158.0,0.801334903808,0.0051040439733,0...\n",
              "\n",
              "[5 rows x 6 columns]"
            ]
          },
          "metadata": {
            "tags": []
          },
          "execution_count": 21
        }
      ]
    },
    {
      "cell_type": "markdown",
      "metadata": {
        "id": "EQVlFoPynZVp"
      },
      "source": [
        "So now we have two datasets from the body Reddit original one, with respectively only the positive and only the negative edges."
      ]
    },
    {
      "cell_type": "markdown",
      "metadata": {
        "id": "JgmeT9ATm4E1"
      },
      "source": [
        "### Step 1 : Analysis of the year\n",
        "\n",
        "Let's have a look on the global trend identified for the year. "
      ]
    },
    {
      "cell_type": "code",
      "metadata": {
        "id": "ZeKRM8pBm4E1"
      },
      "source": [
        "# load useful libraries for grafique representation of the results\n",
        "import matplotlib.pyplot as plt"
      ],
      "execution_count": null,
      "outputs": []
    },
    {
      "cell_type": "code",
      "metadata": {
        "colab": {
          "base_uri": "https://localhost:8080/"
        },
        "id": "UvsxLn89m4E2",
        "outputId": "ada559b3-5a31-4780-8116-2bc40e8f571c"
      },
      "source": [
        "# verify the type of data time \n",
        "print(type(data_body.TIMESTAMP [0]))\n",
        "print(type(body_pos.TIMESTAMP [0]))"
      ],
      "execution_count": null,
      "outputs": [
        {
          "output_type": "stream",
          "text": [
            "<class 'pandas._libs.tslibs.timestamps.Timestamp'>\n",
            "<class 'pandas._libs.tslibs.timestamps.Timestamp'>\n"
          ],
          "name": "stdout"
        }
      ]
    },
    {
      "cell_type": "markdown",
      "metadata": {
        "id": "n1MfMQdOnZVq"
      },
      "source": [
        "We verify the type of the \"*TIMESTAMP*\" data, it is Timestamp so we will be able to do time manipulation, such as year extraction. Then we print the number of posts associated to the year. To do so we use the function `groupby` applied on the \"*TIMESTAMP*\" field of the dataset, after year extraction, than we take the size of the subgroups computed using the `size()` function. "
      ]
    },
    {
      "cell_type": "code",
      "metadata": {
        "colab": {
          "base_uri": "https://localhost:8080/"
        },
        "id": "iP3jzVkpm4E2",
        "scrolled": true,
        "outputId": "7bf44dc3-e300-4676-de06-05182cf5027b"
      },
      "source": [
        "# Just to have an idea of what it'll look like. \n",
        "year_positive = body_pos.groupby(data_body['TIMESTAMP'].dt.year).size()\n",
        "year_negative = body_neg.groupby(data_body['TIMESTAMP'].dt.year).size()\n",
        "\n",
        "print('Year Positive', year_positive)\n",
        "print('Year Negative', year_negative)"
      ],
      "execution_count": null,
      "outputs": [
        {
          "output_type": "stream",
          "text": [
            "Year Positive TIMESTAMP\n",
            "2013        7\n",
            "2014    63342\n",
            "2015    88572\n",
            "2016    98167\n",
            "2017    15403\n",
            "dtype: int64\n",
            "Year Negative TIMESTAMP\n",
            "2013        7\n",
            "2014    21038\n",
            "2015       20\n",
            "2016        4\n",
            "2017        1\n",
            "dtype: int64\n"
          ],
          "name": "stdout"
        }
      ]
    },
    {
      "cell_type": "markdown",
      "metadata": {
        "id": "xaofgpX-nZVq"
      },
      "source": [
        "Because differences seem to be huge between the positive and negative edges, we also compute the log version of the positve edges, to be able to grafically represent them on the same graph."
      ]
    },
    {
      "cell_type": "code",
      "metadata": {
        "colab": {
          "base_uri": "https://localhost:8080/"
        },
        "id": "0EF6PH8Fk8AX",
        "outputId": "241bea15-3c2e-4bd7-cb3b-b7a4b20acfe4"
      },
      "source": [
        "np.log(body_pos.groupby(data_body['TIMESTAMP'].dt.year).size())"
      ],
      "execution_count": null,
      "outputs": [
        {
          "output_type": "execute_result",
          "data": {
            "text/plain": [
              "TIMESTAMP\n",
              "2013     1.945910\n",
              "2014    11.056304\n",
              "2015    11.391571\n",
              "2016    11.494425\n",
              "2017     9.642318\n",
              "dtype: float64"
            ]
          },
          "metadata": {
            "tags": []
          },
          "execution_count": 25
        }
      ]
    },
    {
      "cell_type": "markdown",
      "metadata": {
        "id": "rZHVH_yUm4E2"
      },
      "source": [
        "So here we can see on the 2 dataset that there are 5 years presented in the dataset : 2013, 2014, 2015, 2016 and 2017. Now we grafically represent the distribution of the edges according to the year. To do so we create two list containing the size of the subgroups computed with `groupby` on the year extracted from '*TIMESTAMP* data, for positive and negative dataset. The x-axis represent the year. "
      ]
    },
    {
      "cell_type": "code",
      "metadata": {
        "colab": {
          "base_uri": "https://localhost:8080/",
          "height": 295
        },
        "id": "vEv4Fl0tm4E2",
        "outputId": "a5e636ea-8316-446d-f231-e21fcf9a5804"
      },
      "source": [
        "# Grafical representation of the edges (+, -) distribution according to the year \n",
        "N = 5 #number of years presented : 2013, - 14, - 15, - 16 and - 17\n",
        "ind = np.arange(N)  # the x locations for the groups\n",
        "width = 0.27       # the width of the bars\n",
        "\n",
        "fig = plt.figure()\n",
        "ax = fig.add_subplot(111)\n",
        "ax.grid()\n",
        " \n",
        "year_pos = body_pos.groupby(data_body['TIMESTAMP'].dt.year).size()\n",
        "rects1 = ax.bar(ind, year_pos, width, color='tab:green')\n",
        "\n",
        "year_neg = body_neg.groupby(data_body['TIMESTAMP'].dt.year).size()\n",
        "\n",
        "rects2 = ax.bar(ind+width, year_neg, width, color='tab:red')\n",
        "\n",
        "ax.set_ylabel('Number of posts')\n",
        "ax.set_xlabel('Year')\n",
        "ax.set_title('Distribution of the positive and negative posts along the year')\n",
        "ax.set_xticks(ind+width)\n",
        "ax.set_xticklabels( ('2013', '2014', '2015', '2016', '2017') )\n",
        "ax.legend( (rects1[0], rects2[0]), ('positive', 'negative') )\n",
        "\n",
        "plt.show()"
      ],
      "execution_count": null,
      "outputs": [
        {
          "output_type": "display_data",
          "data": {
            "image/png": "[encoded data removed]",
            "text/plain": [
              "<Figure size 432x288 with 1 Axes>"
            ]
          },
          "metadata": {
            "tags": [],
            "needs_background": "light"
          }
        }
      ]
    },
    {
      "cell_type": "markdown",
      "metadata": {
        "id": "pFoGmg7UnZVr"
      },
      "source": [
        "So has expected from the raw results values, the difference between the amount of positive and negative edges is very important and thus sometimes cannot appear on the same graph due to the scale. Thus we plot the log scale one to be able to compare them. "
      ]
    },
    {
      "cell_type": "code",
      "metadata": {
        "colab": {
          "base_uri": "https://localhost:8080/",
          "height": 295
        },
        "id": "eINHLBGwl7uW",
        "outputId": "6f41ee3b-f366-42d7-9050-296f6caf84ea"
      },
      "source": [
        "# Grafical representation of the edges (+, -) distribution according to the year \n",
        "#log scale\n",
        "N = 5\n",
        "ind = np.arange(N)  # the x locations for the groups\n",
        "width = 0.27       # the width of the bars\n",
        "\n",
        "fig = plt.figure()\n",
        "ax = fig.add_subplot(111)\n",
        "ax.grid()\n",
        " \n",
        "year_pos = body_pos.groupby(data_body['TIMESTAMP'].dt.year).size()\n",
        "rects1 = ax.bar(ind, year_pos, width, color='seagreen')\n",
        "plt.yscale('log')\n",
        "year_neg = body_neg.groupby(data_body['TIMESTAMP'].dt.year).size()\n",
        "\n",
        "rects2 = ax.bar(ind+width, year_neg, width, color='tab:red')\n",
        "\n",
        "ax.set_ylabel('Number of posts')\n",
        "ax.set_xlabel('Year')\n",
        "ax.set_title('Distribution of the positive and negative posts along the year')\n",
        "ax.set_xticks(ind+width)\n",
        "ax.set_xticklabels( ('2013', '2014', '2015', '2016', '2017') )\n",
        "ax.legend( (rects1[0], rects2[0]), ('positive', 'negative') )\n",
        "\n",
        "plt.show()"
      ],
      "execution_count": null,
      "outputs": [
        {
          "output_type": "display_data",
          "data": {
            "image/png": "[encoded data removed]",
            "text/plain": [
              "<Figure size 432x288 with 1 Axes>"
            ]
          },
          "metadata": {
            "tags": [],
            "needs_background": "light"
          }
        }
      ]
    },
    {
      "cell_type": "markdown",
      "metadata": {
        "id": "9iOwRLejmb1j"
      },
      "source": [
        "**Analysis :**\n",
        "\n",
        "- One can see that the year 2013 present the same number of positive and negative edges. However as it was inexistant on the previous graph it means that the total number of edges for 2013 is very small. In fact, looking at the raw result values, there are 7 positive and 7 negative edges for this year. These number are two small to do a network analysis on it, so we won't take them into account. These numbers are suprising between Reddit website have been create in 2005, so in 2013 it was already 8 years that it was on the internet. However, it still may have small popularity at that time. \n",
        "- Also using the raw results value we can see that the amount of negative edges for 2015, 2016 and 2017 is also very small and that can explain we cannot see the associated bars on the first graph. \n",
        "- One can see that the year 2014 - 2015 and 2016 present an interesting trend : the number of positive edges is raising while the number of negative ones is falling. Thus the ratio negative/positve might be very different, specially between the extreme. \n",
        "- The brutal decrease in 2017 in the amount of positive edges may be due to a sudden loss of popularity\n",
        "\n",
        "One hypothesis to try to explain the huge differences in the amount of negative nodes might be external event influencing people's behavior. However we would need deeper social and historical analysis to draw an explanation. Neverless here we do not focus on the reason why do we observe such trends but how such trends can impact the network structure.\n",
        "\n",
        "We then compute the ratio graph to be able to define the subgraphs representative of the trend with the following formula : \n",
        "\n",
        "$\\text{ratio} = \\frac{number of negative edges}{number of positive edges}*1000$\n",
        "\n",
        "To represent it graphically we first define a list containing the ratio associated to each year. Then we create bar graphs with year on the x-axis. As the ratio is used in percentage %, it can goes from 0% (no negative edges) to 100% (same amount of positive and negative edges)."
      ]
    },
    {
      "cell_type": "code",
      "metadata": {
        "colab": {
          "base_uri": "https://localhost:8080/",
          "height": 295
        },
        "id": "vLInQVW-m4E4",
        "outputId": "0fb258ab-35c9-4ab3-db9c-cb1e2900af1b"
      },
      "source": [
        "# Grafical representation of the the ratio of edges (-/+*100) distribution according to the year \n",
        "\n",
        "ratio = [(int(b) / int(m))*100 for b,m in zip(year_neg, year_pos)]\n",
        "N = 5\n",
        "ind = np.arange(N)  # the x locations for the groups\n",
        "width = 0.27       # the width of the bars\n",
        "\n",
        "fig = plt.figure()\n",
        "ax = fig.add_subplot(111)\n",
        "\n",
        "\n",
        "rects1 = ax.bar(ind, ratio, width, color='tab:blue', label = 'ratio neg/pos*100')\n",
        "plt.yscale('log')\n",
        "ax.set_ylabel('Ratio (%)')\n",
        "ax.set_xlabel('Year')\n",
        "ax.set_title('Distribution of the ratio from January to December')\n",
        "ax.set_xticks(ind)\n",
        "ax.set_xticklabels( ('2013', '2014', '2015', '2016', '2017'))\n",
        "plt.legend()\n",
        "\n",
        "plt.show()"
      ],
      "execution_count": null,
      "outputs": [
        {
          "output_type": "display_data",
          "data": {
            "image/png": "[encoded data removed]",
            "text/plain": [
              "<Figure size 432x288 with 1 Axes>"
            ]
          },
          "metadata": {
            "tags": [],
            "needs_background": "light"
          }
        }
      ]
    },
    {
      "cell_type": "markdown",
      "metadata": {
        "id": "iVtSSXQCm4E5"
      },
      "source": [
        "**Analysis :**\n",
        "\n",
        "- So here we see 3 parts : 2013 (lot of negative votes), 2014 (almost 40%) and 2015-2016-2017 (very small amount of negative votes).\n",
        "- As we are doing this in order to compare the structure of the subnetworks, it will be easier if the networks are really different. So between 2015 2016 and 2017 we will choose **2016** as it is the year with the higher amount of positive votes and the smallest amount of negative ones (smallest ratio). We also choose **2014** as it is the year with the higher ratio.\n",
        "- in 2013 as we have seen there are only 7 positive and 7 negatives votes. So it is too small network to do an analysis. Thus we wont' take it into account in our analysis\n",
        "\n",
        "**Ccl :** In order to assess the impact of the **YEAR** on the structure of the network, we can compare 2 subgraphs : \n",
        "> - from the year 2014 : very high ratio\n",
        "> - from the year 2016 : very small ratio"
      ]
    },
    {
      "cell_type": "markdown",
      "metadata": {
        "id": "9bEGKmTsm4E5"
      },
      "source": [
        "### Step 2: Analysis of the month \n",
        "\n",
        "Then we continue with the month's analysis. We follow the same path. First print the amount of positive and negative edges according to the month, using the `groupby` function on the month extracted \"*TIMESTAMP* values. "
      ]
    },
    {
      "cell_type": "code",
      "metadata": {
        "colab": {
          "base_uri": "https://localhost:8080/"
        },
        "id": "1fLejw_vm4E5",
        "outputId": "f2eca5e6-d0a7-4471-97cd-8d1f428375e9"
      },
      "source": [
        "month_positive = body_pos.groupby(data_body['TIMESTAMP'].dt.month).size()\n",
        "month_negative = body_neg.groupby(data_body['TIMESTAMP'].dt.month).size()\n",
        "print('Month Positive', month_positive)\n",
        "print('Month Negative', month_negative)"
      ],
      "execution_count": null,
      "outputs": [
        {
          "output_type": "stream",
          "text": [
            "Month Positive TIMESTAMP\n",
            "1     28143\n",
            "2     25743\n",
            "3     21491\n",
            "4     20343\n",
            "5     20469\n",
            "6     21184\n",
            "7     22312\n",
            "8     23195\n",
            "9     19522\n",
            "10    21067\n",
            "11    20528\n",
            "12    21494\n",
            "dtype: int64\n",
            "Month Negative TIMESTAMP\n",
            "1     4422\n",
            "2     4425\n",
            "3     5363\n",
            "4     4980\n",
            "5     1822\n",
            "6        9\n",
            "7       12\n",
            "8        3\n",
            "9        3\n",
            "10       1\n",
            "11      19\n",
            "12      11\n",
            "dtype: int64\n"
          ],
          "name": "stdout"
        }
      ]
    },
    {
      "cell_type": "markdown",
      "metadata": {
        "id": "vtGMT6QPm4E5"
      },
      "source": [
        "So 12 months are represented : 01 ... 12 in the dataset, so all the month of a year. \n",
        "\n",
        "Then we present grafically these results. The strategy applied is the same as the one for year. As there are also a lot of difference between the amount of positive and negative of edges we will also use the log scale to be able to visualize all the results."
      ]
    },
    {
      "cell_type": "code",
      "metadata": {
        "colab": {
          "base_uri": "https://localhost:8080/",
          "height": 350
        },
        "id": "IKf9K87_m4E6",
        "outputId": "9613e118-995f-4498-9af4-170d4f8a06ea"
      },
      "source": [
        "# Grafical representation of the edges (+, -) distribution according to the month \n",
        "N = 12 # number of months in a year\n",
        "ind = np.arange(N)  # the x locations for the groups\n",
        "width = 0.27       # the width of the bars\n",
        "\n",
        "fig = plt.figure(figsize = (10,5))\n",
        "ax = fig.add_subplot(111)\n",
        "\n",
        " \n",
        "month_pos = body_pos.groupby(data_body['TIMESTAMP'].dt.month).size()\n",
        "rects1 = ax.bar(ind, month_pos, width, color='seagreen')\n",
        "plt.yscale('log')\n",
        "month_neg = body_neg.groupby(data_body['TIMESTAMP'].dt.month).size()\n",
        "rects2 = ax.bar(ind+width, month_neg, width, color='tab:red')\n",
        "\n",
        "ax.set_ylabel('Number of posts')\n",
        "ax.set_xlabel('Month')\n",
        "ax.set_title('Distribution of the positive and negative posts from January to December')\n",
        "ax.set_xticks(ind+width)\n",
        "ax.set_xticklabels( ('01', '02', '03', '04', '05', '06', '07', '08', '09', '10', '11', '12'))\n",
        "ax.legend( (rects1[0], rects2[0]), ('positive', 'negative') )\n",
        "\n",
        "plt.show()"
      ],
      "execution_count": null,
      "outputs": [
        {
          "output_type": "display_data",
          "data": {
            "image/png": "[encoded data removed]",
            "text/plain": [
              "<Figure size 720x360 with 1 Axes>"
            ]
          },
          "metadata": {
            "tags": [],
            "needs_background": "light"
          }
        }
      ]
    },
    {
      "cell_type": "markdown",
      "metadata": {
        "id": "oN5_tbJEm4E6"
      },
      "source": [
        "**Analysis :**\n",
        "- All the month do have posts because we can see both red and green bars every where\n",
        "- The difference between the number of positive and negative posts is huge, all along the year and depsite intern fluctation\n",
        "- The number of negative posts is higher at the beginning of the year (01-05) than at the end of the year (06-12)\n",
        "- So we can identify two main part on the graph : when we have both important green and red barplots (01-50) and when we have important red and small green. \n",
        "\n",
        "Let's compute the ratio to see if our trend identification is right. As before we begin by creation of the list containing the ratios for each month and then we plot it according to the associated month. Because ratio are also very different between each other we use log scale to plot all of them on a single graph."
      ]
    },
    {
      "cell_type": "code",
      "metadata": {
        "colab": {
          "base_uri": "https://localhost:8080/",
          "height": 295
        },
        "id": "N4Pabqvlm4E7",
        "outputId": "29af0148-b918-48bc-f666-d1a5031741a2"
      },
      "source": [
        "# Grafical representation of the the ratio of edges (-/+*100) distribution according to the month \n",
        "\n",
        "ratio = [(int(b) / int(m))*100 for b,m in zip(month_neg, month_pos)]\n",
        "N = 12\n",
        "ind = np.arange(N)  # the x locations for the groups\n",
        "width = 0.27       # the width of the bars\n",
        "\n",
        "fig = plt.figure()\n",
        "ax = fig.add_subplot(111)\n",
        "\n",
        "\n",
        "rects1 = ax.bar(ind, ratio, width, color='tab:blue', label = 'ratio neg/pos*100')\n",
        "plt.yscale('log')\n",
        "ax.set_ylabel('ratio (%)')\n",
        "ax.set_xlabel('month')\n",
        "ax.set_title('Distribution of the ratio from January to December')\n",
        "ax.set_xticks(ind)\n",
        "ax.set_xticklabels( ('01', '02', '03', '04', '05', '06', '07', '08', '09', '10', '11', '12'))\n",
        "ax.legend()\n",
        "\n",
        "plt.show()"
      ],
      "execution_count": null,
      "outputs": [
        {
          "output_type": "display_data",
          "data": {
            "image/png": "[encoded data removed]",
            "text/plain": [
              "<Figure size 432x288 with 1 Axes>"
            ]
          },
          "metadata": {
            "tags": [],
            "needs_background": "light"
          }
        }
      ]
    },
    {
      "cell_type": "markdown",
      "metadata": {
        "id": "YG5ocSd-m4E7"
      },
      "source": [
        "**Analysis :**\n",
        "- So we find the same two big parts : high ratio (month 01 to 05) and small ratio (06 to 12). However we can also notice differences in the high ratio part that were barely visible in the first graph : thus we can splitt this part into 2 : 01-02-05 with ratio between 10 and 15 and 03-04 with ratio around 25. \n",
        "- as we want to compare month network structure, we will pick one month representating of the of these 3 parts to draw sub-graphs. To do so we compute the mean of the amount of positive edges for the group and then we calculate the difference to this mean for each month part of the group. Then we will select the one closer to the mean."
      ]
    },
    {
      "cell_type": "code",
      "metadata": {
        "id": "IVKSfUfKm4E7"
      },
      "source": [
        "import statistics"
      ],
      "execution_count": null,
      "outputs": []
    },
    {
      "cell_type": "code",
      "metadata": {
        "colab": {
          "base_uri": "https://localhost:8080/"
        },
        "id": "wzinenJQm4E8",
        "outputId": "ec840387-eed0-4cc4-ba62-35b81d1b392c"
      },
      "source": [
        "# 01 - 02 - 05 \n",
        "mean_010205_pos = statistics.mean([month_pos.iloc[0], month_pos.iloc[1], month_pos.iloc[4]])\n",
        "print('The mean count of posts from jan., feb and may is ', mean_010205_pos)\n",
        "print('The difference between number of counts and mean for january, february and may is respectively: \\n',[abs(x - mean_010205_pos) for x in [month_pos.iloc[0], month_pos.iloc[1], month_pos.iloc[4]]])"
      ],
      "execution_count": null,
      "outputs": [
        {
          "output_type": "stream",
          "text": [
            "The mean count of posts from jan. to apr. is  24785\n",
            "The difference between number of counts and mean for january, february and may is respectively: \n",
            " [3358, 958, 4316]\n"
          ],
          "name": "stdout"
        }
      ]
    },
    {
      "cell_type": "markdown",
      "metadata": {
        "id": "BRiMT-pzm4E8"
      },
      "source": [
        "So we see that the average value of positive post between january, february and may is 24785. We also see that the month with the number of counts the closer to this mean is **february** (it as the small difference, 958) and thus the more representative."
      ]
    },
    {
      "cell_type": "code",
      "metadata": {
        "colab": {
          "base_uri": "https://localhost:8080/"
        },
        "id": "XkaWSZnem4E8",
        "outputId": "1a5edcaf-876b-434a-d05e-09c18bdbfd33"
      },
      "source": [
        "# 03 - 04 \n",
        "mean_0304_pos = statistics.mean([month_pos.iloc[2], month_pos.iloc[3]])\n",
        "print('The mean count of posts from march to apr. is ', mean_0304_pos)\n",
        "print('The difference between number of counts and mean for march and april is respectively: \\n',[abs(x - mean_0304_pos) for x in [month_pos.iloc[2], month_pos.iloc[3]]])"
      ],
      "execution_count": null,
      "outputs": [
        {
          "output_type": "stream",
          "text": [
            "The mean count of posts from jan. to apr. is  20917\n",
            "The difference between number of counts and mean for march and april is respectively: \n",
            " [574, 574]\n"
          ],
          "name": "stdout"
        }
      ]
    },
    {
      "cell_type": "markdown",
      "metadata": {
        "id": "grp7tgnsm4E8"
      },
      "source": [
        "So we see that the average number of positive counts between march and april is 20917. We also see that both are at equal distance to the mean. We will choose **march** because it has a high number of votes and thus might be more rich in the further analysis. "
      ]
    },
    {
      "cell_type": "code",
      "metadata": {
        "colab": {
          "base_uri": "https://localhost:8080/"
        },
        "id": "pFfI_9rFm4E9",
        "outputId": "3b51c674-b152-4404-f078-4e449d9fa076"
      },
      "source": [
        "# 06 - 12 \n",
        "mean_0612_pos = statistics.mean([month_pos.iloc[5], month_pos.iloc[6], month_pos.iloc[7], month_pos.iloc[8], month_pos.iloc[9], month_pos.iloc[10], month_pos.iloc[11]])\n",
        "print('The mean count of posts from june. to dec. is ', mean_0612_pos)\n",
        "print('The difference between number of counts and mean for march and april is respectively: \\n',[abs(x - mean_0612_pos) for x in [month_pos.iloc[5], month_pos.iloc[6], month_pos.iloc[7], month_pos.iloc[8], month_pos.iloc[9], month_pos.iloc[10], month_pos.iloc[11]]])\n"
      ],
      "execution_count": null,
      "outputs": [
        {
          "output_type": "stream",
          "text": [
            "The mean count of posts from jan. to apr. is  21328\n",
            "The difference between number of counts and mean for march and april is respectively: \n",
            " [144, 984, 1867, 1806, 261, 800, 166]\n"
          ],
          "name": "stdout"
        }
      ]
    },
    {
      "cell_type": "markdown",
      "metadata": {
        "id": "2BQfVxK5m4E9"
      },
      "source": [
        "So we see that the average number of positive edges between june and december is 21328. We also see that the month closer to this average is **june** (difference smaller, 144) and thus it is the more representative."
      ]
    },
    {
      "cell_type": "markdown",
      "metadata": {
        "id": "rfN6Sshzm4E9"
      },
      "source": [
        "**Ccl :** In order to assess the impact of the **MONTH** on the structure of the network, we can compare 3 subgraphs : \n",
        "> - from february (representative of the first group -middle ratio -)\n",
        "> - from march (representative of the second group, -higher ratio)\n",
        "> - from june (representative of the third group, -small ratio-)"
      ]
    },
    {
      "cell_type": "markdown",
      "metadata": {
        "id": "uiV-GXdem4E9"
      },
      "source": [
        "### Step 3: Analysis of the day\n",
        "Then we continue with the analysis of the day. We follow the same pipeline. So here are the number of edges associated to each day of the month."
      ]
    },
    {
      "cell_type": "code",
      "metadata": {
        "colab": {
          "base_uri": "https://localhost:8080/"
        },
        "id": "vjfHYZzQm4E-",
        "outputId": "0d342ed5-851f-43df-a286-9bbb4699cd97"
      },
      "source": [
        "day_positive = body_pos.groupby(data_body['TIMESTAMP'].dt.day).size()\n",
        "day_negative = body_neg.groupby(data_body['TIMESTAMP'].dt.day).size()\n",
        "print('Month Positive', day_positive)\n",
        "print('Month Negative', day_negative)"
      ],
      "execution_count": null,
      "outputs": [
        {
          "output_type": "stream",
          "text": [
            "Month Positive TIMESTAMP\n",
            "1     8535\n",
            "2     9120\n",
            "3     8966\n",
            "4     8436\n",
            "5     8690\n",
            "6     8941\n",
            "7     8561\n",
            "8     8572\n",
            "9     8645\n",
            "10    8825\n",
            "11    9029\n",
            "12    8810\n",
            "13    8715\n",
            "14    8367\n",
            "15    8887\n",
            "16    9349\n",
            "17    9153\n",
            "18    8787\n",
            "19    8666\n",
            "20    9198\n",
            "21    8516\n",
            "22    8610\n",
            "23    8393\n",
            "24    8400\n",
            "25    8424\n",
            "26    8318\n",
            "27    8778\n",
            "28    8299\n",
            "29    8217\n",
            "30    8236\n",
            "31    5048\n",
            "dtype: int64\n",
            "Month Negative TIMESTAMP\n",
            "1     671\n",
            "2     764\n",
            "3     777\n",
            "4     773\n",
            "5     742\n",
            "6     909\n",
            "7     770\n",
            "8     806\n",
            "9     767\n",
            "10    797\n",
            "11    855\n",
            "12    625\n",
            "13    631\n",
            "14    618\n",
            "15    628\n",
            "16    692\n",
            "17    738\n",
            "18    617\n",
            "19    637\n",
            "20    603\n",
            "21    586\n",
            "22    640\n",
            "23    640\n",
            "24    691\n",
            "25    683\n",
            "26    630\n",
            "27    659\n",
            "28    664\n",
            "29    561\n",
            "30    531\n",
            "31    365\n",
            "dtype: int64\n"
          ],
          "name": "stdout"
        }
      ]
    },
    {
      "cell_type": "markdown",
      "metadata": {
        "id": "npKIVnS8m4E-"
      },
      "source": [
        "So we see that all the 31 days of a month are represented in the dataset. "
      ]
    },
    {
      "cell_type": "code",
      "metadata": {
        "colab": {
          "base_uri": "https://localhost:8080/",
          "height": 350
        },
        "id": "0sJszYcVm4E-",
        "outputId": "0664b709-5636-48d6-b6d3-4000b8513dbd"
      },
      "source": [
        "# Grafical representation of the edges (+, -) distribution according to the day of the month \n",
        "N = 31 #number of day in a month\n",
        "ind = np.arange(N)  # the x locations for the groups\n",
        "width = 0.27       # the width of the bars\n",
        "\n",
        "fig = plt.figure(figsize=(15,5))\n",
        "ax = fig.add_subplot(111)\n",
        "\n",
        " \n",
        "day_pos = body_pos.groupby(data_body['TIMESTAMP'].dt.day).size()\n",
        "rects1 = ax.bar(ind, day_pos, width, color='g')\n",
        "day_neg = body_neg.groupby(data_body['TIMESTAMP'].dt.day).size()\n",
        "rects2 = ax.bar(ind+width, day_neg, width, color='r')\n",
        "\n",
        "ax.set_ylabel('Number of posts')\n",
        "ax.set_xlabel('Day')\n",
        "ax.set_title('Distribution of the positive and negative posts along the days of a month')\n",
        "ax.set_xticks(ind+width)\n",
        "ax.set_xticklabels( ('01', '02', '03', '04', '05', '06', '07', '08', '09', '10', '11', '12', '13', '14', '15', '16', '17', '18', '19', '20', '21', '22', '23', '24', '25', '26' ,'27', '28', '29', '30', '31'))\n",
        "ax.legend((rects1[0], rects2[0]), ('positive', 'negative'))\n",
        "\n",
        "plt.show()"
      ],
      "execution_count": null,
      "outputs": [
        {
          "output_type": "display_data",
          "data": {
            "image/png": "[encoded data removed]",
            "text/plain": [
              "<Figure size 1080x360 with 1 Axes>"
            ]
          },
          "metadata": {
            "tags": [],
            "needs_background": "light"
          }
        }
      ]
    },
    {
      "cell_type": "markdown",
      "metadata": {
        "id": "Eg73EXE3m4E-"
      },
      "source": [
        "**Analysis :** \n",
        "- the abrupt decrease for day 31 is because only half of the month in a year have a 31th day, so obviously there are less posts (pos and neg) done that day\n",
        "- the amount of negative edges is very small compared to amount of positif edges, for all the days \n",
        "- General manner : both positive and negative counts seams to be relatively constant along the days of a month, they are some fluctuations (more visible for positive posts) but it is hard to highlight clear trend. \n",
        "\n",
        "**Ccle :** We need to do further analysis on the days to be able to identify trends. So we are going to look at the number of posts according to the day of the week: monday, tuesday ... sunday. \n",
        "\n",
        "To be sure we don't miss any trend according to the day of the year, we compute the ratio. "
      ]
    },
    {
      "cell_type": "code",
      "metadata": {
        "colab": {
          "base_uri": "https://localhost:8080/",
          "height": 350
        },
        "id": "S83CLap2m4E_",
        "outputId": "e30144cf-4803-4765-8da8-fb2777c65dd1"
      },
      "source": [
        "# Grafical representation of the the ratio of edges (-/+*100) distribution according to the day of the month \n",
        "\n",
        "ratio = [(int(b) / int(m))*100 for b,m in zip(day_neg, day_pos)]\n",
        "N = 31\n",
        "ind = np.arange(N)  # the x locations for the groups\n",
        "width = 0.27       # the width of the bars\n",
        "\n",
        "fig = plt.figure(figsize = (10,5))\n",
        "ax = fig.add_subplot(111)\n",
        "\n",
        "rects1 = ax.bar(ind, ratio, width, color='tab:blue', label ='ratio neg/pos*100')\n",
        "\n",
        "ax.set_ylabel('ratio (%)')\n",
        "ax.set_xlabel('Day')\n",
        "ax.set_title('Distribution ratio  along the days of a month')\n",
        "ax.set_xticks(ind)\n",
        "ax.set_xticklabels( ('1', '2', '3', '4', '5', '6', '7', '8', '9', '10', '11', '12', '13', '14', '15', '16', '17', '18', '19', '20', '21', '22', '23', '24', '25', '26' ,'27', '28', '29', '30', '31'))\n",
        "ax.legend()\n",
        "plt.show()"
      ],
      "execution_count": null,
      "outputs": [
        {
          "output_type": "display_data",
          "data": {
            "image/png": "[encoded data removed]",
            "text/plain": [
              "<Figure size 720x360 with 1 Axes>"
            ]
          },
          "metadata": {
            "tags": [],
            "needs_background": "light"
          }
        }
      ]
    },
    {
      "cell_type": "markdown",
      "metadata": {
        "id": "BCSlifMFm4E_"
      },
      "source": [
        "**Analysis :**\n",
        "- It is still hard to identify a trend\n",
        "- we could split it according to different range of ratios, but values seams to be quite continuous so it would be very arbitrary to define ranges among them \n",
        "\n",
        "Have to look on the day og the week to try to identify pattern"
      ]
    },
    {
      "cell_type": "markdown",
      "metadata": {
        "id": "AX3Su0oFm4E_"
      },
      "source": [
        "#### Step 3 : cont. Analysis day of the week\n",
        "\n",
        "So now we focus on the analysis of possible trend in the amount of edges according to the day of the week. As before we start by showing the amount of positive and negative edges according to the day. The week is numbered from 0 (corresponds to monday) to 6 (corresponds to sunday)."
      ]
    },
    {
      "cell_type": "code",
      "metadata": {
        "colab": {
          "base_uri": "https://localhost:8080/"
        },
        "id": "8L71fWgjm4E_",
        "outputId": "906caca7-ad2f-4b9d-d55b-b564aab0f3fa"
      },
      "source": [
        "day_positive = body_pos.groupby(data_body['TIMESTAMP'].dt.weekday).size()\n",
        "day_negative = body_neg.groupby(data_body['TIMESTAMP'].dt.weekday).size()\n",
        "print('Month Positive', day_positive)\n",
        "print('Month Negative', day_negative)"
      ],
      "execution_count": null,
      "outputs": [
        {
          "output_type": "stream",
          "text": [
            "Month Positive TIMESTAMP\n",
            "0    40390\n",
            "1    40945\n",
            "2    40052\n",
            "3    39617\n",
            "4    37373\n",
            "5    32527\n",
            "6    34587\n",
            "dtype: int64\n",
            "Month Negative TIMESTAMP\n",
            "0    3101\n",
            "1    3458\n",
            "2    3145\n",
            "3    3123\n",
            "4    2956\n",
            "5    2542\n",
            "6    2745\n",
            "dtype: int64\n"
          ],
          "name": "stdout"
        }
      ]
    },
    {
      "cell_type": "markdown",
      "metadata": {
        "id": "-Z81qpNMm4FA"
      },
      "source": [
        "So the days reprensented in the dataset are from 0 (monday) to 6 (sunday). "
      ]
    },
    {
      "cell_type": "code",
      "metadata": {
        "colab": {
          "base_uri": "https://localhost:8080/",
          "height": 350
        },
        "id": "icE3UOpam4FA",
        "outputId": "dd1da859-fa1b-45cc-db4c-39b36588034d"
      },
      "source": [
        "# Grafical representation of the edges (+, -) distribution according to the day of the week \n",
        "N = 7 #number of day in a week\n",
        "ind = np.arange(N)  # the x locations for the groups\n",
        "width = 0.27       # the width of the bars\n",
        "\n",
        "fig = plt.figure(figsize=(8,5))\n",
        "ax = fig.add_subplot(111)\n",
        "\n",
        " \n",
        "dayw_pos = body_pos.groupby(data_body['TIMESTAMP'].dt.weekday).size()\n",
        "rects1 = ax.bar(ind, dayw_pos, width, color='seagreen')\n",
        "dayw_neg = body_neg.groupby(data_body['TIMESTAMP'].dt.weekday).size()\n",
        "rects2 = ax.bar(ind+width, dayw_neg, width, color='tab:red')\n",
        "\n",
        "ax.set_ylabel('Number of posts')\n",
        "ax.set_xlabel('Day')\n",
        "ax.set_title('Distribution of the positive and negative posts along the days of a week')\n",
        "ax.set_xticks(ind+width)\n",
        "ax.set_xticklabels( ('mon.', 'tue.', 'wed.', 'thu.', 'fri.', 'sat.', 'sun.'))\n",
        "ax.legend((rects1[0], rects2[0]), ('positive', 'negative'))\n",
        "\n",
        "plt.show()"
      ],
      "execution_count": null,
      "outputs": [
        {
          "output_type": "display_data",
          "data": {
            "image/png": "[encoded data removed]",
            "text/plain": [
              "<Figure size 576x360 with 1 Axes>"
            ]
          },
          "metadata": {
            "tags": [],
            "needs_background": "light"
          }
        }
      ]
    },
    {
      "cell_type": "markdown",
      "metadata": {
        "id": "Qo4S_lVdm4FA"
      },
      "source": [
        "**Analysis :**\n",
        "- As for the other parameter (year, month, day of the month), the amount of positive posts is higher than the amount of negative posts\n",
        "- The amount of negative posts is quite constant along the week \n",
        "- the amount of positive posts is globally smaller the week end, and could be seen as constant during the week. It might be explained by the routine of the week, so the habits of beeing on the website for coffe break for example, while the week end, the events are more random and technology connection can be smaller. Also we can see a subtil trend along the week we a sligth decrease in number of positive edges (so not constant anymore), this might be due to the tireing and fedding up of people along the week. But again, here we want to analyse the impact of the trend, not the reason of the trend. Here are just some hypothesis to help to understand the trends in our mind.\n",
        "\n",
        "We have to compute the ratio to see if the subtil evolution of positive edges along the workweek is actually a trend or not."
      ]
    },
    {
      "cell_type": "code",
      "metadata": {
        "colab": {
          "base_uri": "https://localhost:8080/",
          "height": 332
        },
        "id": "s2ZhmErdm4FB",
        "outputId": "2dbaf844-7db9-4db6-ca8f-4f7c70c5123e"
      },
      "source": [
        "# Grafical representation of the the ratio of edges (-/+*100) distribution according to the day of the week\n",
        "\n",
        "ratio = [(int(b) / int(m))*100 for b,m in zip(dayw_neg, dayw_pos)]\n",
        "print(ratio)\n",
        "N = 7 # number of day of the week\n",
        "ind = np.arange(N)  # the x locations for the groups\n",
        "width = 0.27       # the width of the bars\n",
        "\n",
        "fig = plt.figure()\n",
        "ax = fig.add_subplot(111)\n",
        "\n",
        "rects1 = ax.bar(ind, ratio, width, color='tab:blue', label = 'ratio neg/pos*100')\n",
        "\n",
        "ax.set_ylabel('ratio (%)')\n",
        "ax.set_xlabel('Day of the week')\n",
        "ax.set_title('Distribution ratio  along the days of a week')\n",
        "ax.set_xticks(ind)\n",
        "ax.set_xticklabels( ('mon.', 'tue.', 'wed.', 'thu.', 'fri.', 'sat.', 'sun.'))\n",
        "ax.legend()\n",
        "plt.show()"
      ],
      "execution_count": null,
      "outputs": [
        {
          "output_type": "stream",
          "text": [
            "[7.677642980935875, 8.445475638051043, 7.852292020373515, 7.882979528990081, 7.909453348674177, 7.815045961816337, 7.936507936507936]\n"
          ],
          "name": "stdout"
        },
        {
          "output_type": "display_data",
          "data": {
            "image/png": "[encoded data removed]",
            "text/plain": [
              "<Figure size 432x288 with 1 Axes>"
            ]
          },
          "metadata": {
            "tags": [],
            "needs_background": "light"
          }
        }
      ]
    },
    {
      "cell_type": "markdown",
      "metadata": {
        "id": "uvnf1I6zm4FB"
      },
      "source": [
        "**Analysis :**\n",
        "- here we can see that in fact the ratio of positive and negative edge is quite the same all along the week (~ 7%)\n",
        "- there is only in tuesday that the ratio is a bit bigger (>8%).\n",
        "- these trends are definitively not obvious and we will have to keep it in mind when analysis the network structure parameters on the following steps\n",
        "\n",
        "**Ccl :** We can do analysis on the subset from tuesday, and one from another day of the week (ratio is similar) but as the difference is not very big, not sure we ll see something on the structure of the network.So we choose : \n",
        ">- Tuesday : representative of the bigger ratio (>8%)\n",
        ">- Saturday : reprensetative of the \"constant\" ratio (~7%)\n",
        "\n",
        "One can see here that the subtil trend we have identified in the previous graph is not visible here. It means that the amount of both positive and negative edges have quite the same evolution along the week (despite tuesday). "
      ]
    },
    {
      "cell_type": "markdown",
      "metadata": {
        "id": "QyDvr0XEm4FB"
      },
      "source": [
        "### Step 4: Analysis of the hour \n",
        "\n",
        "Now let's have a look on hour's trend. First we print the amount of edges associated to each hour of the day. We can see that they have quite the same magnitude order. Thus we will be able to plot them on the same graph without using log scale."
      ]
    },
    {
      "cell_type": "code",
      "metadata": {
        "colab": {
          "base_uri": "https://localhost:8080/"
        },
        "id": "zmd0xTTNm4FB",
        "outputId": "0507e417-3042-4d5c-99c6-116540fa60e8"
      },
      "source": [
        "hour_positive = body_pos.groupby(data_body['TIMESTAMP'].dt.hour).size()\n",
        "hour_negative = body_neg.groupby(data_body['TIMESTAMP'].dt.hour).size()\n",
        "print('Month Positive', hour_positive)\n",
        "print('Month Negative', hour_negative)"
      ],
      "execution_count": null,
      "outputs": [
        {
          "output_type": "stream",
          "text": [
            "Month Positive TIMESTAMP\n",
            "0      7089\n",
            "1      6045\n",
            "2      5634\n",
            "3      6100\n",
            "4      6867\n",
            "5      7819\n",
            "6      9938\n",
            "7     12069\n",
            "8     13372\n",
            "9     14426\n",
            "10    14189\n",
            "11    14887\n",
            "12    14571\n",
            "13    14617\n",
            "14    14994\n",
            "15    14149\n",
            "16    13267\n",
            "17    13167\n",
            "18    12418\n",
            "19    11889\n",
            "20    10925\n",
            "21     9900\n",
            "22     8934\n",
            "23     8225\n",
            "dtype: int64\n",
            "Month Negative TIMESTAMP\n",
            "0      423\n",
            "1      378\n",
            "2      368\n",
            "3      331\n",
            "4      433\n",
            "5      509\n",
            "6      835\n",
            "7      830\n",
            "8      983\n",
            "9     1335\n",
            "10    1167\n",
            "11    1347\n",
            "12    1232\n",
            "13    1208\n",
            "14    1345\n",
            "15    1185\n",
            "16    1091\n",
            "17    1059\n",
            "18    1025\n",
            "19     961\n",
            "20     892\n",
            "21     816\n",
            "22     757\n",
            "23     560\n",
            "dtype: int64\n"
          ],
          "name": "stdout"
        }
      ]
    },
    {
      "cell_type": "markdown",
      "metadata": {
        "id": "S_R2JSQknZV1"
      },
      "source": [
        "So we see that all the 24h of the day are represented. The date use the convention 00 for mid night. Now let's grafically present the results. "
      ]
    },
    {
      "cell_type": "code",
      "metadata": {
        "colab": {
          "base_uri": "https://localhost:8080/",
          "height": 350
        },
        "id": "b0BjH3Cdm4FC",
        "outputId": "9a81f737-c817-4abb-893b-a2e17ffa6a5a"
      },
      "source": [
        "# Grafical representation of the edges (+, -) distribution according to the hours of the day \n",
        "N = 24 #number of hours along a day\n",
        "ind = np.arange(N)  # the x locations for the groups\n",
        "width = 0.27       # the width of the bars\n",
        "\n",
        "fig = plt.figure(figsize=(10,5))\n",
        "ax = fig.add_subplot(111)\n",
        "\n",
        "hour_pos = body_pos.groupby(data_body['TIMESTAMP'].dt.hour).size()\n",
        "rects1 = ax.bar(ind, hour_pos, width, color='seagreen')\n",
        "hour_neg = body_neg.groupby(data_body['TIMESTAMP'].dt.hour).size()\n",
        "rects2 = ax.bar(ind+width, hour_neg, width, color='tab:red')\n",
        "\n",
        "ax.set_ylabel('Number of posts')\n",
        "ax.set_xlabel('Hour of the day')\n",
        "ax.set_title('Distribution of the positive and negative posts along the hours of a day')\n",
        "ax.set_xticks(ind+width)\n",
        "ax.set_xticklabels(('00', '01', '02', '03', '04', '05', '06', '07', '08', '09', '10', '11', '12', '13', '14', '15', '16', '17', '18', '19', '20', '21', '22', '23'))\n",
        "ax.legend((rects1[0], rects2[0]), ('positive', 'negative'))\n",
        "\n",
        "plt.show()"
      ],
      "execution_count": null,
      "outputs": [
        {
          "output_type": "display_data",
          "data": {
            "image/png": "[encoded data removed]",
            "text/plain": [
              "<Figure size 720x360 with 1 Axes>"
            ]
          },
          "metadata": {
            "tags": [],
            "needs_background": "light"
          }
        }
      ]
    },
    {
      "cell_type": "markdown",
      "metadata": {
        "id": "9rF-05JUm4FC"
      },
      "source": [
        "**Analysis :**\n",
        "- In a general manner : seams to have more edges (both positive and negative) during the day than during the night. As the two sign seams to have the same evolution we'll have to compute the ratio to see if it is effectively a trend \n",
        "\n",
        "The \"wave\" profile of the bar plot may be explained by the activity evolution of people along a day."
      ]
    },
    {
      "cell_type": "code",
      "metadata": {
        "colab": {
          "base_uri": "https://localhost:8080/",
          "height": 350
        },
        "id": "8swV8pFdm4FC",
        "outputId": "a7ef98cb-a6fa-4cc3-bdaa-dbae0bc91bf7"
      },
      "source": [
        "# Grafical representation of the the ratio of edges (-/+*100) distribution according to the hour of the day \n",
        "ratio = [(int(b) / int(m))*100 for b,m in zip(hour_neg, hour_pos)]\n",
        "N = 24 #number of hours in a day\n",
        "ind = np.arange(N)  # the x locations for the groups\n",
        "width = 0.27       # the width of the bars\n",
        "\n",
        "fig = plt.figure(figsize=(10,5))\n",
        "ax = fig.add_subplot(111)\n",
        "\n",
        "rects1 = ax.bar(ind, ratio, width, color='tab:blue', label = 'ratio neg/pos*100')\n",
        "\n",
        "ax.set_ylabel('ratio (%)')\n",
        "ax.set_xlabel('hours of a day')\n",
        "ax.set_title('Distribution ratio  along the hours of a day')\n",
        "ax.set_xticks(ind)\n",
        "ax.set_xticklabels(('00', '01', '02', '03', '04', '05', '06', '07', '08', '09', '10', '11', '12', '13', '14', '15', '16', '17', '18', '19', '20', '21', '22', '23'))\n",
        "ax.legend('ratio')\n",
        "plt.show()"
      ],
      "execution_count": null,
      "outputs": [
        {
          "output_type": "display_data",
          "data": {
            "image/png": "[encoded data removed]",
            "text/plain": [
              "<Figure size 720x360 with 1 Axes>"
            ]
          },
          "metadata": {
            "tags": [],
            "needs_background": "light"
          }
        }
      ]
    },
    {
      "cell_type": "markdown",
      "metadata": {
        "id": "qfc4QRXCm4FC"
      },
      "source": [
        "**Analysis :**\n",
        "- we can identify three part : low ration (5-7) for 0h, 1h, 2h, 3h, 4h, 5h, 7h and 23h ; middle ratio (8) for 6h, 10h, 12h, 13h, 15h, 16h, 17h, 18h, 19h, 20h, 21h and 22h ; high ratio (9) for 9h, 11h and 14h.\n",
        "- As we want to draw sub-graphs according to the hour of the day relevant of this trend, we need to find a relevent hour for each of these parts. To do so, as previously done we compute the mean of the amount of positive edges of a group and then the difference to the mean of the amount of positive edges for each hour of the group. We finally selecte the one closest to the mean."
      ]
    },
    {
      "cell_type": "code",
      "metadata": {
        "id": "0iGp-QGpm4FL",
        "outputId": "5c798425-395f-4573-e3df-f28e5fc43d76"
      },
      "source": [
        "# ratio 5-7 \n",
        "mean_r57_pos = statistics.mean([hour_pos.iloc[0], hour_pos.iloc[1], hour_pos.iloc[2], hour_pos.iloc[3], hour_pos.iloc[4], hour_pos.iloc[5], hour_pos.iloc[7], hour_pos.iloc[23]])\n",
        "print('The mean count of posts from jan. to apr. is ', mean_r57_pos)\n",
        "print('The difference between number of counts and mean for march and april is respectively: \\n',[abs(x - mean_r57_pos) for x in[hour_pos.iloc[0], hour_pos.iloc[1], hour_pos.iloc[2], hour_pos.iloc[3], hour_pos.iloc[4], hour_pos.iloc[5], hour_pos.iloc[7], hour_pos.iloc[23]]])\n"
      ],
      "execution_count": null,
      "outputs": [
        {
          "output_type": "stream",
          "text": [
            "The mean count of posts from jan. to apr. is  7481\n",
            "The difference between number of counts and mean for march and april is respectively: \n",
            " [392, 1436, 1847, 1381, 614, 338, 4588, 744]\n"
          ],
          "name": "stdout"
        }
      ]
    },
    {
      "cell_type": "markdown",
      "metadata": {
        "id": "A_PKtzIsm4FL"
      },
      "source": [
        "- the more representative for the ratio 5-7 is **7h**. "
      ]
    },
    {
      "cell_type": "code",
      "metadata": {
        "id": "TV30FiuxPuaE",
        "outputId": "779b0901-dc00-4ab1-c3fe-f0ca2989dccc"
      },
      "source": [
        "# ratio 8\n",
        "mean_r8_pos = statistics.mean([hour_pos.iloc[6], hour_pos.iloc[10], hour_pos.iloc[12], hour_pos.iloc[13], hour_pos.iloc[15], hour_pos.iloc[16], hour_pos.iloc[17], hour_pos.iloc[18], hour_pos.iloc[19], hour_pos.iloc[20], hour_pos.iloc[21], hour_pos.iloc[22]])\n",
        "print('The mean count of posts from jan. to apr. is ', mean_r8_pos)\n",
        "print('The difference between number of counts and mean for march and april is respectively: \\n',[abs(x - mean_r8_pos) for x in [hour_pos.iloc[6], hour_pos.iloc[10], hour_pos.iloc[12], hour_pos.iloc[13], hour_pos.iloc[15], hour_pos.iloc[16], hour_pos.iloc[17], hour_pos.iloc[18], hour_pos.iloc[19], hour_pos.iloc[20], hour_pos.iloc[21], hour_pos.iloc[22]]])"
      ],
      "execution_count": null,
      "outputs": [
        {
          "output_type": "stream",
          "text": [
            "The mean count of posts from jan. to apr. is  12330\n",
            "The difference between number of counts and mean for march and april is respectively: \n",
            " [2392, 1859, 2241, 2287, 1819, 937, 837, 88, 441, 1405, 2430, 3396]\n"
          ],
          "name": "stdout"
        }
      ]
    },
    {
      "cell_type": "markdown",
      "metadata": {
        "id": "f9Rz1bQiP0B8"
      },
      "source": [
        "- the most representative is **18h**."
      ]
    },
    {
      "cell_type": "code",
      "metadata": {
        "id": "cbuHl6yeP3RN",
        "outputId": "2f849e94-693d-4b58-ff18-d3875770b504"
      },
      "source": [
        "# ratio 9\n",
        "mean_r9_pos = statistics.mean([hour_pos.iloc[9], hour_pos.iloc[11], hour_pos.iloc[14]])\n",
        "print('The mean count of posts from jan. to apr. is ', mean_r9_pos)\n",
        "print('The difference between number of counts and mean for march and april is respectively: \\n',[abs(x - mean_r9_pos) for x in [hour_pos.iloc[9], hour_pos.iloc[11], hour_pos.iloc[14]]])"
      ],
      "execution_count": null,
      "outputs": [
        {
          "output_type": "stream",
          "text": [
            "The mean count of posts from jan. to apr. is  14769\n",
            "The difference between number of counts and mean for march and april is respectively: \n",
            " [343, 118, 225]\n"
          ],
          "name": "stdout"
        }
      ]
    },
    {
      "cell_type": "markdown",
      "metadata": {
        "id": "_yFK1A0zP5kU"
      },
      "source": [
        "- the most representative is **12h**."
      ]
    },
    {
      "cell_type": "markdown",
      "metadata": {
        "id": "1EsRE9GEP7Zu"
      },
      "source": [
        "**Ccl :** In order to assess the impact of the **HOUR** on the structure of the network, we can compare  3 subgraphs : \n",
        "> - from 7h (representative of the first group - ratio 5-7 -)\n",
        "> - from 18h (representative of the second group, -ratio 8-)\n",
        "> - from 12h (representative of the third group, -ration 9-)"
      ]
    },
    {
      "cell_type": "markdown",
      "metadata": {
        "id": "yPji7fUym4FN"
      },
      "source": [
        "### 2.1.1.2] Do the structural analysis of these subgraphs "
      ]
    },
    {
      "cell_type": "markdown",
      "metadata": {
        "id": "EMlDtnEem4FO"
      },
      "source": [
        "First, let's define the parameters representative of structure network we will investigate here. The three three characteristics of network structrue we want to study here are the **centrality**, the **clustering** and the **behavior**. Do do se we will computer in total  parameters: \n",
        "\n",
        "<br></br>\n",
        "- Centrality :\n",
        ">* Degree  : it corresponds to the number of incoming edges onto the node and will give a sense of how connected the nodes are in the graphs\n",
        ">* Clossness : this index quantifies the node’s relationship to all other nodes in the network by taking into account the indirect connections from that node. Thus, a high closeness index indicates a short average distance of a given node to all the other nodes; also a  node with high closeness will be affected quickly by changes in any part of the network (butterfly effect) and its own changes can have consequences on other parts of the network rapidly. In other word it tells how close the nodes are to each other.\n",
        ">* Local clustering coefficient : it is the ratio of edges that exist between the neighbours of a particular node relative and the total number of all possible edges between these neighbours. It can give cues on the local redundancy of the given node: if we remove this node, may it have an impact on the capacity of its neighbor to communicate and influence each other? Big local clustering coefficient menas that the impact will be small because neighbor nodes will still be able to communicate while small coefficients reveal possible bad consequences for neighbor communication in case of removal. In other words it gives information on the degree of how nodes cluster together with the neighbor nodes.\n",
        ">* Centrality :  It is  the number of edges attached to the node, incoming and outcoming combined\n",
        "- Clustering : \n",
        ">* Global clustering coefficient : it is the ratio of  the number of closed triplets (or 3 x triangles) over the total number of triplets (both open and closed). It gives an idea of the clustering in the whole network.\n",
        "- Behavior : \n",
        ">* Assortativity : it represents for a node the preference to attach other nodes that are similar in some way.Positive values of r indicate a correlation between nodes of similar degree, while negative values indicate relationships between nodes of different degree. In general, r lies between −1 and 1. When r = 1, the network is said to have perfect assortative mixing patterns, when r = 0 the network is non-assortative, while at r = −1 the network is completely disassortative.\n",
        "<br></br>\n",
        "\n",
        "For the properties Degree, Closeness, Local clustering coefficient and Centrality the max, min and average value for the subgraph is calculated. The average value will give a sense of parameter within the subgraph and the max, min value will give a rough indication of how big the spread is, in the form of outliers.\n",
        " \n",
        "We begin with defining a function that gets all the properties, that are interesting to compare, for a subgraph. This is made by mostly using build-in functions from the library networkx to get the properties in an efficient way."
      ]
    },
    {
      "cell_type": "code",
      "metadata": {
        "id": "RI7DNWEwm4FO"
      },
      "source": [
        "def graph_properties(G,weights=\"None\"):\n",
        "    \"\"\"\n",
        "    Calculate parameters for a subgraph. If weights is given for the network then this is taken into account \n",
        "    during the calculation of the degree. \n",
        "\n",
        "    Return a dataframe with all the parameters for the network, with rounded number to one decimal. \n",
        "\n",
        "    Input:\n",
        "    G - Graph\n",
        "    W(Optinal) - Weights inside the graph \n",
        "\n",
        "    Output:\n",
        "    df - Dataframe containing average,min and max for degree, clustering and closeness\n",
        "    \"\"\"\n",
        "\n",
        "# Degree \n",
        "    degree_sequence = sorted([d for n, d in G.degree()], reverse=True)\n",
        "    min_degree = min(degree_sequence)\n",
        "    max_degree = max(degree_sequence)\n",
        "    average_degree = np.mean(degree_sequence)\n",
        "\n",
        "# Centrality\n",
        "    centrality = [node_cent for node,node_cent in (nx.degree_centrality(G)).items()]\n",
        "    min_centrality = min(centrality)\n",
        "    max_centrality = max(centrality)\n",
        "    average_centrality = np.mean(centrality)\n",
        "    \n",
        "    \n",
        "# Assortativity\n",
        "    assortativity_degree = nx.degree_assortativity_coefficient(G)\n",
        "\n",
        "#Closeness\n",
        "    closeness = [node_c for node,node_c in (nx.closeness_centrality(G)).items()]\n",
        "    min_closeness = min(closeness)\n",
        "    max_closeness = max(closeness)\n",
        "    average_closeness = np.mean(closeness)\n",
        "\n",
        "#Clustering\n",
        "    clustering = [clusters for node,clusters in (nx.clustering(G)).items()]\n",
        "    min_cluster = min(clustering)\n",
        "    max_cluster = max(clustering)\n",
        "    average_cluster = np.mean(clustering)\n",
        "\n",
        "    global_cluster = nx.transitivity(G)\n",
        "\n",
        "  \n",
        "\n",
        "    data = {'Average': [average_degree,average_closeness,average_cluster,average_centrality],\n",
        "       'Max': [max_degree,max_closeness,max_cluster,max_centrality],\n",
        "       'Min': [min_degree,min_closeness,min_cluster,min_centrality]}\n",
        "    properties_graph = pd.DataFrame(data)\n",
        "    properties_graph.index=['Degree','Closeness','Local clustering coefficient','Centrality']\n",
        "    properties_graph.round(1)\n",
        "\n",
        "    \n",
        "    \n",
        "    \n",
        "    data = {'': [global_cluster,assortativity_degree]}\n",
        "    properties2_graph = pd.DataFrame(data)\n",
        "    properties2_graph.index=['Global clustering coefficient','Assortativity degree']\n",
        "    properties2_graph.round(1)\n",
        "\n",
        "    \n",
        "\n",
        "    \n",
        "    \n",
        "\n",
        "    return properties_graph,properties2_graph"
      ],
      "execution_count": 7,
      "outputs": []
    },
    {
      "cell_type": "markdown",
      "metadata": {
        "id": "9uleXn7_m4FO"
      },
      "source": [
        "### Computation of the parameters for the Reddits subgraphs "
      ]
    },
    {
      "cell_type": "markdown",
      "metadata": {
        "id": "7k5B0rW_m4FO"
      },
      "source": [
        "To compare the differente subgraph according to these properites the function is called on every subgraph. After that an analyze is made of the result. "
      ]
    },
    {
      "cell_type": "markdown",
      "metadata": {
        "id": "BLUI7ojwm4FP"
      },
      "source": [
        "#### Reddit - Year "
      ]
    },
    {
      "cell_type": "markdown",
      "metadata": {
        "id": "Ah_KK4LQm4FP"
      },
      "source": [
        "We begin by taking out the year we want to investigate. As previous written this is the year 2014 and 2016 for the reddit dataset. \n",
        "Reminder : \n",
        "- 2014 : high ratio\n",
        "- 2016 : low ratio"
      ]
    },
    {
      "cell_type": "code",
      "metadata": {
        "id": "zaNxlx4Wm4FP"
      },
      "source": [
        "mask_2014 = (data_body['TIMESTAMP'] > '2014-1-1') & (data_body['TIMESTAMP'] <= '2014-12-31')\n",
        "mask_2016 = (data_body['TIMESTAMP'] > '2016-1-1') & (data_body['TIMESTAMP'] <= '2016-12-31')\n",
        "\n",
        "reddit_2014 = data_body.loc[mask_2014]\n",
        "reddit_2016 = data_body.loc[mask_2016]\n"
      ],
      "execution_count": null,
      "outputs": []
    },
    {
      "cell_type": "markdown",
      "metadata": {
        "id": "MAmkdYhi7qbx"
      },
      "source": [
        "Printing the data frame to see that everthing looks fine "
      ]
    },
    {
      "cell_type": "code",
      "metadata": {
        "id": "ApkaKLn-pUus"
      },
      "source": [
        "reddit_2016.head()"
      ],
      "execution_count": null,
      "outputs": []
    },
    {
      "cell_type": "code",
      "metadata": {
        "id": "n00YYkzspiV0"
      },
      "source": [
        "reddit_2014.head()"
      ],
      "execution_count": null,
      "outputs": []
    },
    {
      "cell_type": "markdown",
      "metadata": {
        "id": "8U9YWKaA70DK"
      },
      "source": [
        "The two subgraphs are created using networkx. "
      ]
    },
    {
      "cell_type": "code",
      "metadata": {
        "id": "AdKhp8xT1juD"
      },
      "source": [
        "import networkx as nx \n",
        "reddit_2014_graph = nx.from_pandas_edgelist(reddit_2014,\"SOURCE_SUBREDDIT\",\"TARGET_SUBREDDIT\",edge_attr=\"Sign\",create_using=nx.DiGraph)\n",
        "reddit_2016_graph = nx.from_pandas_edgelist(reddit_2016,\"SOURCE_SUBREDDIT\",\"TARGET_SUBREDDIT\",edge_attr=\"Sign\",create_using=nx.DiGraph)"
      ],
      "execution_count": null,
      "outputs": []
    },
    {
      "cell_type": "markdown",
      "metadata": {
        "id": "1QGDadrf78jD"
      },
      "source": [
        "To get the properties of the subgrahp the function graph properties is called."
      ]
    },
    {
      "cell_type": "code",
      "metadata": {
        "id": "aJRlvt6d2Iw-"
      },
      "source": [
        "reddit_2014_table1,reddit_2014_table2= graph_properties(reddit_2014_graph)\n",
        "reddit_2016_table1,reddit_2016_table2 = graph_properties(reddit_2016_graph)"
      ],
      "execution_count": null,
      "outputs": []
    },
    {
      "cell_type": "markdown",
      "metadata": {
        "id": "P7KmFl4S8GTo"
      },
      "source": [
        "Printing out the result for the first table containing degree, clossness, local cluster coefficient and centrality.  "
      ]
    },
    {
      "cell_type": "code",
      "metadata": {
        "colab": {
          "base_uri": "https://localhost:8080/",
          "height": 173
        },
        "id": "iFNIgoPg3qiK",
        "outputId": "773cb7ee-f735-4b70-d95a-60d32291002f"
      },
      "source": [
        "reddit_2014_table1.head()"
      ],
      "execution_count": null,
      "outputs": [
        {
          "output_type": "execute_result",
          "data": {
            "text/html": [
              "<div>\n",
              "<style scoped>\n",
              "    .dataframe tbody tr th:only-of-type {\n",
              "        vertical-align: middle;\n",
              "    }\n",
              "\n",
              "    .dataframe tbody tr th {\n",
              "        vertical-align: top;\n",
              "    }\n",
              "\n",
              "    .dataframe thead th {\n",
              "        text-align: right;\n",
              "    }\n",
              "</style>\n",
              "<table border=\"1\" class=\"dataframe\">\n",
              "  <thead>\n",
              "    <tr style=\"text-align: right;\">\n",
              "      <th></th>\n",
              "      <th>Average</th>\n",
              "      <th>Max</th>\n",
              "      <th>Min</th>\n",
              "    </tr>\n",
              "  </thead>\n",
              "  <tbody>\n",
              "    <tr>\n",
              "      <th>Degree</th>\n",
              "      <td>5.768021</td>\n",
              "      <td>1144.000000</td>\n",
              "      <td>1.00000</td>\n",
              "    </tr>\n",
              "    <tr>\n",
              "      <th>Closeness</th>\n",
              "      <td>0.077004</td>\n",
              "      <td>0.283545</td>\n",
              "      <td>0.00000</td>\n",
              "    </tr>\n",
              "    <tr>\n",
              "      <th>Local clustering coefficient</th>\n",
              "      <td>0.104383</td>\n",
              "      <td>1.000000</td>\n",
              "      <td>0.00000</td>\n",
              "    </tr>\n",
              "    <tr>\n",
              "      <th>Centrality</th>\n",
              "      <td>0.000460</td>\n",
              "      <td>0.091330</td>\n",
              "      <td>0.00008</td>\n",
              "    </tr>\n",
              "  </tbody>\n",
              "</table>\n",
              "</div>"
            ],
            "text/plain": [
              "                               Average          Max      Min\n",
              "Degree                        5.768021  1144.000000  1.00000\n",
              "Closeness                     0.077004     0.283545  0.00000\n",
              "Local clustering coefficient  0.104383     1.000000  0.00000\n",
              "Centrality                    0.000460     0.091330  0.00008"
            ]
          },
          "metadata": {
            "tags": []
          },
          "execution_count": 127
        }
      ]
    },
    {
      "cell_type": "code",
      "metadata": {
        "colab": {
          "base_uri": "https://localhost:8080/",
          "height": 173
        },
        "id": "SECsogUt3u0v",
        "outputId": "0a7c38d2-135d-4e16-b3c6-4e3dd12de05b"
      },
      "source": [
        "reddit_2016_table1.head()"
      ],
      "execution_count": null,
      "outputs": [
        {
          "output_type": "execute_result",
          "data": {
            "text/html": [
              "<div>\n",
              "<style scoped>\n",
              "    .dataframe tbody tr th:only-of-type {\n",
              "        vertical-align: middle;\n",
              "    }\n",
              "\n",
              "    .dataframe tbody tr th {\n",
              "        vertical-align: top;\n",
              "    }\n",
              "\n",
              "    .dataframe thead th {\n",
              "        text-align: right;\n",
              "    }\n",
              "</style>\n",
              "<table border=\"1\" class=\"dataframe\">\n",
              "  <thead>\n",
              "    <tr style=\"text-align: right;\">\n",
              "      <th></th>\n",
              "      <th>Average</th>\n",
              "      <th>Max</th>\n",
              "      <th>Min</th>\n",
              "    </tr>\n",
              "  </thead>\n",
              "  <tbody>\n",
              "    <tr>\n",
              "      <th>Degree</th>\n",
              "      <td>5.856623</td>\n",
              "      <td>947.000000</td>\n",
              "      <td>1.000000</td>\n",
              "    </tr>\n",
              "    <tr>\n",
              "      <th>Closeness</th>\n",
              "      <td>0.067397</td>\n",
              "      <td>0.252930</td>\n",
              "      <td>0.000000</td>\n",
              "    </tr>\n",
              "    <tr>\n",
              "      <th>Local clustering coefficient</th>\n",
              "      <td>0.105627</td>\n",
              "      <td>1.000000</td>\n",
              "      <td>0.000000</td>\n",
              "    </tr>\n",
              "    <tr>\n",
              "      <th>Centrality</th>\n",
              "      <td>0.000300</td>\n",
              "      <td>0.048564</td>\n",
              "      <td>0.000051</td>\n",
              "    </tr>\n",
              "  </tbody>\n",
              "</table>\n",
              "</div>"
            ],
            "text/plain": [
              "                               Average         Max       Min\n",
              "Degree                        5.856623  947.000000  1.000000\n",
              "Closeness                     0.067397    0.252930  0.000000\n",
              "Local clustering coefficient  0.105627    1.000000  0.000000\n",
              "Centrality                    0.000300    0.048564  0.000051"
            ]
          },
          "metadata": {
            "tags": []
          },
          "execution_count": 128
        }
      ]
    },
    {
      "cell_type": "markdown",
      "metadata": {
        "id": "i3O10jsAzc6c"
      },
      "source": [
        "**Centrality Analysis :**\n",
        "- The table 2016, which is the subgraph with a higher amount of positive votes, shows a higher average degree per nodes. However, at the same trend is not have a significant difference, the closeness and centrality are at the same time higher in the nodes in the 2014 subgraph. This is somewhat contradictory as centrality is highly linked to the degree of the nodes. \n",
        "\n",
        "One can conclude that it did not show any big difference between the two subgraphs. To further investigate the analyses will be made by creating graphs on the other parameters, that were given under the previous chapter. "
      ]
    },
    {
      "cell_type": "markdown",
      "metadata": {
        "id": "wVZkP_FL3xUI"
      },
      "source": [
        "-------"
      ]
    },
    {
      "cell_type": "code",
      "metadata": {
        "colab": {
          "base_uri": "https://localhost:8080/",
          "height": 94
        },
        "id": "S2j2CsMK3y--",
        "outputId": "cfdf3157-42a2-4c74-89a7-09bf573b0094"
      },
      "source": [
        "reddit_2014_table2.head()"
      ],
      "execution_count": null,
      "outputs": [
        {
          "output_type": "execute_result",
          "data": {
            "text/html": [
              "<div>\n",
              "<style scoped>\n",
              "    .dataframe tbody tr th:only-of-type {\n",
              "        vertical-align: middle;\n",
              "    }\n",
              "\n",
              "    .dataframe tbody tr th {\n",
              "        vertical-align: top;\n",
              "    }\n",
              "\n",
              "    .dataframe thead th {\n",
              "        text-align: right;\n",
              "    }\n",
              "</style>\n",
              "<table border=\"1\" class=\"dataframe\">\n",
              "  <thead>\n",
              "    <tr style=\"text-align: right;\">\n",
              "      <th></th>\n",
              "      <th></th>\n",
              "    </tr>\n",
              "  </thead>\n",
              "  <tbody>\n",
              "    <tr>\n",
              "      <th>Global clustering coefficient</th>\n",
              "      <td>0.052295</td>\n",
              "    </tr>\n",
              "    <tr>\n",
              "      <th>Assortativity degree</th>\n",
              "      <td>-0.073850</td>\n",
              "    </tr>\n",
              "  </tbody>\n",
              "</table>\n",
              "</div>"
            ],
            "text/plain": [
              "                                       \n",
              "Global clustering coefficient  0.052295\n",
              "Assortativity degree          -0.073850"
            ]
          },
          "metadata": {
            "tags": []
          },
          "execution_count": 129
        }
      ]
    },
    {
      "cell_type": "code",
      "metadata": {
        "colab": {
          "base_uri": "https://localhost:8080/",
          "height": 94
        },
        "id": "JdPGst7J31rr",
        "outputId": "a8899ae6-cda8-46a6-f9ea-6505c094ece4"
      },
      "source": [
        "reddit_2016_table2.head()"
      ],
      "execution_count": null,
      "outputs": [
        {
          "output_type": "execute_result",
          "data": {
            "text/html": [
              "<div>\n",
              "<style scoped>\n",
              "    .dataframe tbody tr th:only-of-type {\n",
              "        vertical-align: middle;\n",
              "    }\n",
              "\n",
              "    .dataframe tbody tr th {\n",
              "        vertical-align: top;\n",
              "    }\n",
              "\n",
              "    .dataframe thead th {\n",
              "        text-align: right;\n",
              "    }\n",
              "</style>\n",
              "<table border=\"1\" class=\"dataframe\">\n",
              "  <thead>\n",
              "    <tr style=\"text-align: right;\">\n",
              "      <th></th>\n",
              "      <th></th>\n",
              "    </tr>\n",
              "  </thead>\n",
              "  <tbody>\n",
              "    <tr>\n",
              "      <th>Global clustering coefficient</th>\n",
              "      <td>0.051884</td>\n",
              "    </tr>\n",
              "    <tr>\n",
              "      <th>Assortativity degree</th>\n",
              "      <td>-0.068114</td>\n",
              "    </tr>\n",
              "  </tbody>\n",
              "</table>\n",
              "</div>"
            ],
            "text/plain": [
              "                                       \n",
              "Global clustering coefficient  0.051884\n",
              "Assortativity degree          -0.068114"
            ]
          },
          "metadata": {
            "tags": []
          },
          "execution_count": 130
        }
      ]
    },
    {
      "cell_type": "markdown",
      "metadata": {
        "id": "Qj7mYoJg10wK"
      },
      "source": [
        "**Clustering and Behavior analysis :**\n",
        "- Regardring the information above the difference is very small between the two subgraphs. Thus one could say that sub-graphs seem to be quite similar even if they are built from two year with a big difference in the ratio of negative/positive edges (2014, high ratio versus 2016, low one)."
      ]
    },
    {
      "cell_type": "markdown",
      "metadata": {
        "id": "tpE537KpjM6T"
      },
      "source": [
        "-------\n"
      ]
    },
    {
      "cell_type": "markdown",
      "metadata": {
        "id": "ALqD3eKsm4FP"
      },
      "source": [
        "#### Reddit - Month"
      ]
    },
    {
      "cell_type": "markdown",
      "metadata": {
        "id": "u91Koubkm4FQ"
      },
      "source": [
        "After the year the analyse is continued comapring the months. \n",
        "Reminder : \n",
        "- february : middle ratio\n",
        "- march : high ratio \n",
        "- june : low ratio\n",
        "\n",
        "We follow the same steps as before. For clarity purpose we won't repeat the comments each time. If precision needed refer to the year analysis computation above."
      ]
    },
    {
      "cell_type": "code",
      "metadata": {
        "id": "0EK-QqhBp1jT"
      },
      "source": [
        "mask_feb = (data_body['TIMESTAMP'].dt.month == 2)\n",
        "mask_march = (data_body['TIMESTAMP'].dt.month == 3)\n",
        "mask_june = (data_body['TIMESTAMP'].dt.month == 6)\n",
        "\n",
        "reddit_feb = data_body.loc[mask_feb]\n",
        "reddit_march = data_body.loc[mask_march]\n",
        "reddit_june = data_body.loc[mask_june]"
      ],
      "execution_count": null,
      "outputs": []
    },
    {
      "cell_type": "code",
      "metadata": {
        "id": "Nk4BYqYm2-Bx"
      },
      "source": [
        "reddit_feb_graph = nx.from_pandas_edgelist(reddit_feb,\"SOURCE_SUBREDDIT\",\"TARGET_SUBREDDIT\",edge_attr=\"Sign\",create_using=nx.DiGraph)\n",
        "reddit_march_graph = nx.from_pandas_edgelist(reddit_march,\"SOURCE_SUBREDDIT\",\"TARGET_SUBREDDIT\",edge_attr=\"Sign\",create_using=nx.DiGraph)\n",
        "reddit_june_graph = nx.from_pandas_edgelist(reddit_june,\"SOURCE_SUBREDDIT\",\"TARGET_SUBREDDIT\",edge_attr=\"Sign\",create_using=nx.DiGraph)"
      ],
      "execution_count": null,
      "outputs": []
    },
    {
      "cell_type": "code",
      "metadata": {
        "id": "-IffGx5v3NH5"
      },
      "source": [
        "reddit_feb_table1,reddit_feb_table2 = graph_properties(reddit_feb_graph)\n",
        "reddit_march_table1,reddit_march_table2 = graph_properties(reddit_march_graph)\n",
        "reddit_june_table1,reddit_june_table2 = graph_properties(reddit_june_graph)"
      ],
      "execution_count": null,
      "outputs": []
    },
    {
      "cell_type": "code",
      "metadata": {
        "colab": {
          "base_uri": "https://localhost:8080/",
          "height": 173
        },
        "id": "9w0VWM1K4pzV",
        "outputId": "ebef18a9-338e-4a3e-c8cb-d2208bdaf8ec"
      },
      "source": [
        "reddit_feb_table1.head()"
      ],
      "execution_count": null,
      "outputs": [
        {
          "output_type": "execute_result",
          "data": {
            "text/html": [
              "<div>\n",
              "<style scoped>\n",
              "    .dataframe tbody tr th:only-of-type {\n",
              "        vertical-align: middle;\n",
              "    }\n",
              "\n",
              "    .dataframe tbody tr th {\n",
              "        vertical-align: top;\n",
              "    }\n",
              "\n",
              "    .dataframe thead th {\n",
              "        text-align: right;\n",
              "    }\n",
              "</style>\n",
              "<table border=\"1\" class=\"dataframe\">\n",
              "  <thead>\n",
              "    <tr style=\"text-align: right;\">\n",
              "      <th></th>\n",
              "      <th>Average</th>\n",
              "      <th>Max</th>\n",
              "      <th>Min</th>\n",
              "    </tr>\n",
              "  </thead>\n",
              "  <tbody>\n",
              "    <tr>\n",
              "      <th>Degree</th>\n",
              "      <td>4.060255</td>\n",
              "      <td>456.000000</td>\n",
              "      <td>1.0000</td>\n",
              "    </tr>\n",
              "    <tr>\n",
              "      <th>Closeness</th>\n",
              "      <td>0.041900</td>\n",
              "      <td>0.191927</td>\n",
              "      <td>0.0000</td>\n",
              "    </tr>\n",
              "    <tr>\n",
              "      <th>Local clustering coefficient</th>\n",
              "      <td>0.071444</td>\n",
              "      <td>1.000000</td>\n",
              "      <td>0.0000</td>\n",
              "    </tr>\n",
              "    <tr>\n",
              "      <th>Centrality</th>\n",
              "      <td>0.000405</td>\n",
              "      <td>0.045495</td>\n",
              "      <td>0.0001</td>\n",
              "    </tr>\n",
              "  </tbody>\n",
              "</table>\n",
              "</div>"
            ],
            "text/plain": [
              "                               Average         Max     Min\n",
              "Degree                        4.060255  456.000000  1.0000\n",
              "Closeness                     0.041900    0.191927  0.0000\n",
              "Local clustering coefficient  0.071444    1.000000  0.0000\n",
              "Centrality                    0.000405    0.045495  0.0001"
            ]
          },
          "metadata": {
            "tags": []
          },
          "execution_count": 134
        }
      ]
    },
    {
      "cell_type": "code",
      "metadata": {
        "colab": {
          "base_uri": "https://localhost:8080/",
          "height": 173
        },
        "id": "ymDIyP184wCM",
        "outputId": "9159f83e-30f2-4c9f-a968-b0daea490edf"
      },
      "source": [
        "reddit_june_table1.head()"
      ],
      "execution_count": null,
      "outputs": [
        {
          "output_type": "execute_result",
          "data": {
            "text/html": [
              "<div>\n",
              "<style scoped>\n",
              "    .dataframe tbody tr th:only-of-type {\n",
              "        vertical-align: middle;\n",
              "    }\n",
              "\n",
              "    .dataframe tbody tr th {\n",
              "        vertical-align: top;\n",
              "    }\n",
              "\n",
              "    .dataframe thead th {\n",
              "        text-align: right;\n",
              "    }\n",
              "</style>\n",
              "<table border=\"1\" class=\"dataframe\">\n",
              "  <thead>\n",
              "    <tr style=\"text-align: right;\">\n",
              "      <th></th>\n",
              "      <th>Average</th>\n",
              "      <th>Max</th>\n",
              "      <th>Min</th>\n",
              "    </tr>\n",
              "  </thead>\n",
              "  <tbody>\n",
              "    <tr>\n",
              "      <th>Degree</th>\n",
              "      <td>3.915435</td>\n",
              "      <td>437.000000</td>\n",
              "      <td>1.00000</td>\n",
              "    </tr>\n",
              "    <tr>\n",
              "      <th>Closeness</th>\n",
              "      <td>0.041402</td>\n",
              "      <td>0.193965</td>\n",
              "      <td>0.00000</td>\n",
              "    </tr>\n",
              "    <tr>\n",
              "      <th>Local clustering coefficient</th>\n",
              "      <td>0.055777</td>\n",
              "      <td>1.000000</td>\n",
              "      <td>0.00000</td>\n",
              "    </tr>\n",
              "    <tr>\n",
              "      <th>Centrality</th>\n",
              "      <td>0.000470</td>\n",
              "      <td>0.052499</td>\n",
              "      <td>0.00012</td>\n",
              "    </tr>\n",
              "  </tbody>\n",
              "</table>\n",
              "</div>"
            ],
            "text/plain": [
              "                               Average         Max      Min\n",
              "Degree                        3.915435  437.000000  1.00000\n",
              "Closeness                     0.041402    0.193965  0.00000\n",
              "Local clustering coefficient  0.055777    1.000000  0.00000\n",
              "Centrality                    0.000470    0.052499  0.00012"
            ]
          },
          "metadata": {
            "tags": []
          },
          "execution_count": 135
        }
      ]
    },
    {
      "cell_type": "code",
      "metadata": {
        "colab": {
          "base_uri": "https://localhost:8080/",
          "height": 173
        },
        "id": "FYaEMp7K4siN",
        "outputId": "fe94162f-0b1b-487a-bb39-c2d4a144d95e"
      },
      "source": [
        "reddit_march_table1.head()"
      ],
      "execution_count": null,
      "outputs": [
        {
          "output_type": "execute_result",
          "data": {
            "text/html": [
              "<div>\n",
              "<style scoped>\n",
              "    .dataframe tbody tr th:only-of-type {\n",
              "        vertical-align: middle;\n",
              "    }\n",
              "\n",
              "    .dataframe tbody tr th {\n",
              "        vertical-align: top;\n",
              "    }\n",
              "\n",
              "    .dataframe thead th {\n",
              "        text-align: right;\n",
              "    }\n",
              "</style>\n",
              "<table border=\"1\" class=\"dataframe\">\n",
              "  <thead>\n",
              "    <tr style=\"text-align: right;\">\n",
              "      <th></th>\n",
              "      <th>Average</th>\n",
              "      <th>Max</th>\n",
              "      <th>Min</th>\n",
              "    </tr>\n",
              "  </thead>\n",
              "  <tbody>\n",
              "    <tr>\n",
              "      <th>Degree</th>\n",
              "      <td>4.211471</td>\n",
              "      <td>534.000000</td>\n",
              "      <td>1.000000</td>\n",
              "    </tr>\n",
              "    <tr>\n",
              "      <th>Closeness</th>\n",
              "      <td>0.044221</td>\n",
              "      <td>0.199613</td>\n",
              "      <td>0.000000</td>\n",
              "    </tr>\n",
              "    <tr>\n",
              "      <th>Local clustering coefficient</th>\n",
              "      <td>0.066476</td>\n",
              "      <td>1.000000</td>\n",
              "      <td>0.000000</td>\n",
              "    </tr>\n",
              "    <tr>\n",
              "      <th>Centrality</th>\n",
              "      <td>0.000398</td>\n",
              "      <td>0.050463</td>\n",
              "      <td>0.000095</td>\n",
              "    </tr>\n",
              "  </tbody>\n",
              "</table>\n",
              "</div>"
            ],
            "text/plain": [
              "                               Average         Max       Min\n",
              "Degree                        4.211471  534.000000  1.000000\n",
              "Closeness                     0.044221    0.199613  0.000000\n",
              "Local clustering coefficient  0.066476    1.000000  0.000000\n",
              "Centrality                    0.000398    0.050463  0.000095"
            ]
          },
          "metadata": {
            "tags": []
          },
          "execution_count": 136
        }
      ]
    },
    {
      "cell_type": "markdown",
      "metadata": {
        "id": "4CszJgVgnZWA"
      },
      "source": [
        "**Centrality analysis :**\n",
        "\n",
        "- one can see that march nodes have a higher degree and closeness.\n",
        "- February has a higher degree, closeness, and local clustering coefficient than June.\n",
        "- One thing to notice is that the higher degree the subgraph has a higher max number of the highest node it has. This might seem logical, but it can be depending on it is one node that makes the higher average or that the degrees of the nodes are higher on average.\n",
        "\n",
        "To get a better understanding this needs to be investigating more. "
      ]
    },
    {
      "cell_type": "markdown",
      "metadata": {
        "id": "jucx53lnNQLv"
      },
      "source": [
        "-----"
      ]
    },
    {
      "cell_type": "code",
      "metadata": {
        "colab": {
          "base_uri": "https://localhost:8080/",
          "height": 94
        },
        "id": "foyevbQGNSod",
        "outputId": "2b386074-cd1a-418b-ac5f-8e8b1a9bdb21"
      },
      "source": [
        "reddit_feb_table2.head()"
      ],
      "execution_count": null,
      "outputs": [
        {
          "output_type": "execute_result",
          "data": {
            "text/html": [
              "<div>\n",
              "<style scoped>\n",
              "    .dataframe tbody tr th:only-of-type {\n",
              "        vertical-align: middle;\n",
              "    }\n",
              "\n",
              "    .dataframe tbody tr th {\n",
              "        vertical-align: top;\n",
              "    }\n",
              "\n",
              "    .dataframe thead th {\n",
              "        text-align: right;\n",
              "    }\n",
              "</style>\n",
              "<table border=\"1\" class=\"dataframe\">\n",
              "  <thead>\n",
              "    <tr style=\"text-align: right;\">\n",
              "      <th></th>\n",
              "      <th></th>\n",
              "    </tr>\n",
              "  </thead>\n",
              "  <tbody>\n",
              "    <tr>\n",
              "      <th>Global clustering coefficient</th>\n",
              "      <td>0.111181</td>\n",
              "    </tr>\n",
              "    <tr>\n",
              "      <th>Assortativity degree</th>\n",
              "      <td>-0.043712</td>\n",
              "    </tr>\n",
              "  </tbody>\n",
              "</table>\n",
              "</div>"
            ],
            "text/plain": [
              "                                       \n",
              "Global clustering coefficient  0.111181\n",
              "Assortativity degree          -0.043712"
            ]
          },
          "metadata": {
            "tags": []
          },
          "execution_count": 137
        }
      ]
    },
    {
      "cell_type": "code",
      "metadata": {
        "colab": {
          "base_uri": "https://localhost:8080/",
          "height": 94
        },
        "id": "v7Jp_EWhNWC-",
        "outputId": "e094015d-1081-4938-c414-508f6bfb36c3"
      },
      "source": [
        "reddit_june_table2.head()"
      ],
      "execution_count": null,
      "outputs": [
        {
          "output_type": "execute_result",
          "data": {
            "text/html": [
              "<div>\n",
              "<style scoped>\n",
              "    .dataframe tbody tr th:only-of-type {\n",
              "        vertical-align: middle;\n",
              "    }\n",
              "\n",
              "    .dataframe tbody tr th {\n",
              "        vertical-align: top;\n",
              "    }\n",
              "\n",
              "    .dataframe thead th {\n",
              "        text-align: right;\n",
              "    }\n",
              "</style>\n",
              "<table border=\"1\" class=\"dataframe\">\n",
              "  <thead>\n",
              "    <tr style=\"text-align: right;\">\n",
              "      <th></th>\n",
              "      <th></th>\n",
              "    </tr>\n",
              "  </thead>\n",
              "  <tbody>\n",
              "    <tr>\n",
              "      <th>Global clustering coefficient</th>\n",
              "      <td>0.038852</td>\n",
              "    </tr>\n",
              "    <tr>\n",
              "      <th>Assortativity degree</th>\n",
              "      <td>-0.036498</td>\n",
              "    </tr>\n",
              "  </tbody>\n",
              "</table>\n",
              "</div>"
            ],
            "text/plain": [
              "                                       \n",
              "Global clustering coefficient  0.038852\n",
              "Assortativity degree          -0.036498"
            ]
          },
          "metadata": {
            "tags": []
          },
          "execution_count": 138
        }
      ]
    },
    {
      "cell_type": "code",
      "metadata": {
        "colab": {
          "base_uri": "https://localhost:8080/",
          "height": 94
        },
        "id": "dBL9ByA_NRAU",
        "outputId": "72be9448-50aa-4530-81f4-c6a01d44eadc"
      },
      "source": [
        "reddit_march_table2.head()"
      ],
      "execution_count": null,
      "outputs": [
        {
          "output_type": "execute_result",
          "data": {
            "text/html": [
              "<div>\n",
              "<style scoped>\n",
              "    .dataframe tbody tr th:only-of-type {\n",
              "        vertical-align: middle;\n",
              "    }\n",
              "\n",
              "    .dataframe tbody tr th {\n",
              "        vertical-align: top;\n",
              "    }\n",
              "\n",
              "    .dataframe thead th {\n",
              "        text-align: right;\n",
              "    }\n",
              "</style>\n",
              "<table border=\"1\" class=\"dataframe\">\n",
              "  <thead>\n",
              "    <tr style=\"text-align: right;\">\n",
              "      <th></th>\n",
              "      <th></th>\n",
              "    </tr>\n",
              "  </thead>\n",
              "  <tbody>\n",
              "    <tr>\n",
              "      <th>Global clustering coefficient</th>\n",
              "      <td>0.073097</td>\n",
              "    </tr>\n",
              "    <tr>\n",
              "      <th>Assortativity degree</th>\n",
              "      <td>-0.040618</td>\n",
              "    </tr>\n",
              "  </tbody>\n",
              "</table>\n",
              "</div>"
            ],
            "text/plain": [
              "                                       \n",
              "Global clustering coefficient  0.073097\n",
              "Assortativity degree          -0.040618"
            ]
          },
          "metadata": {
            "tags": []
          },
          "execution_count": 139
        }
      ]
    },
    {
      "cell_type": "markdown",
      "metadata": {
        "id": "r5vdkGuInZWC"
      },
      "source": [
        "**Clustering and Behavior analysis :**\n",
        "- Here one can see that the global clustering coefficient is higher in februrary (middle ratio) than in march (high) and june (low)\n",
        "- the Assortativity seems quite constant among the months studies\n",
        "\n",
        "\n",
        "Together with centrality analysis, we may conclude that there does not seem to be much of a trend between the number of positive edges and the investigated properties, because the difference don't appear to be statistically significant.\n"
      ]
    },
    {
      "cell_type": "markdown",
      "metadata": {
        "id": "1tFFCDLzNg6O"
      },
      "source": [
        "-----"
      ]
    },
    {
      "cell_type": "markdown",
      "metadata": {
        "id": "OPuFfZR8saUu"
      },
      "source": [
        "#### Reddit - Day"
      ]
    },
    {
      "cell_type": "markdown",
      "metadata": {
        "id": "WxkWGh9JCyng"
      },
      "source": [
        "Regarding the days of the week, two different days will be chosen to compare. Tuesday had a bigger ratio between positive and negative posts, therefore this will be a subgraph. Because the rest of the weekdays were pretty similar it does not matter which to are compared. To get contrast Saturday was chosen, to see if the weekend possibly will give different properties graph. This could in that case be because the user mode is affected by the day of the week.  "
      ]
    },
    {
      "cell_type": "code",
      "metadata": {
        "colab": {
          "base_uri": "https://localhost:8080/",
          "height": 309
        },
        "id": "1QV6J-xLum7v",
        "outputId": "b8626938-8e5c-4bbd-bb8a-adc0d830a724"
      },
      "source": [
        "data_body.head()"
      ],
      "execution_count": null,
      "outputs": [
        {
          "output_type": "execute_result",
          "data": {
            "text/html": [
              "<div>\n",
              "<style scoped>\n",
              "    .dataframe tbody tr th:only-of-type {\n",
              "        vertical-align: middle;\n",
              "    }\n",
              "\n",
              "    .dataframe tbody tr th {\n",
              "        vertical-align: top;\n",
              "    }\n",
              "\n",
              "    .dataframe thead th {\n",
              "        text-align: right;\n",
              "    }\n",
              "</style>\n",
              "<table border=\"1\" class=\"dataframe\">\n",
              "  <thead>\n",
              "    <tr style=\"text-align: right;\">\n",
              "      <th></th>\n",
              "      <th>SOURCE_SUBREDDIT</th>\n",
              "      <th>TARGET_SUBREDDIT</th>\n",
              "      <th>POST_ID</th>\n",
              "      <th>TIMESTAMP</th>\n",
              "      <th>LINK_SENTIMENT</th>\n",
              "      <th>PROPERTIES</th>\n",
              "      <th>Sentiment</th>\n",
              "    </tr>\n",
              "  </thead>\n",
              "  <tbody>\n",
              "    <tr>\n",
              "      <th>0</th>\n",
              "      <td>leagueoflegends</td>\n",
              "      <td>teamredditteams</td>\n",
              "      <td>1u4nrps</td>\n",
              "      <td>2013-12-31 16:39:58</td>\n",
              "      <td>1</td>\n",
              "      <td>345.0,298.0,0.75652173913,0.0173913043478,0.08...</td>\n",
              "      <td>0.1748</td>\n",
              "    </tr>\n",
              "    <tr>\n",
              "      <th>1</th>\n",
              "      <td>theredlion</td>\n",
              "      <td>soccer</td>\n",
              "      <td>1u4qkd</td>\n",
              "      <td>2013-12-31 18:18:37</td>\n",
              "      <td>-1</td>\n",
              "      <td>101.0,98.0,0.742574257426,0.019801980198,0.049...</td>\n",
              "      <td>0.5538</td>\n",
              "    </tr>\n",
              "    <tr>\n",
              "      <th>2</th>\n",
              "      <td>inlandempire</td>\n",
              "      <td>bikela</td>\n",
              "      <td>1u4qlzs</td>\n",
              "      <td>2014-01-01 14:54:35</td>\n",
              "      <td>1</td>\n",
              "      <td>85.0,85.0,0.752941176471,0.0235294117647,0.082...</td>\n",
              "      <td>0.0000</td>\n",
              "    </tr>\n",
              "    <tr>\n",
              "      <th>3</th>\n",
              "      <td>nfl</td>\n",
              "      <td>cfb</td>\n",
              "      <td>1u4sjvs</td>\n",
              "      <td>2013-12-31 17:37:55</td>\n",
              "      <td>1</td>\n",
              "      <td>1124.0,949.0,0.772241992883,0.0017793594306,0....</td>\n",
              "      <td>0.9672</td>\n",
              "    </tr>\n",
              "    <tr>\n",
              "      <th>4</th>\n",
              "      <td>playmygame</td>\n",
              "      <td>gamedev</td>\n",
              "      <td>1u4w5ss</td>\n",
              "      <td>2014-01-01 02:51:13</td>\n",
              "      <td>1</td>\n",
              "      <td>715.0,622.0,0.777622377622,0.00699300699301,0....</td>\n",
              "      <td>0.8906</td>\n",
              "    </tr>\n",
              "  </tbody>\n",
              "</table>\n",
              "</div>"
            ],
            "text/plain": [
              "  SOURCE_SUBREDDIT  ... Sentiment\n",
              "0  leagueoflegends  ...    0.1748\n",
              "1       theredlion  ...    0.5538\n",
              "2     inlandempire  ...    0.0000\n",
              "3              nfl  ...    0.9672\n",
              "4       playmygame  ...    0.8906\n",
              "\n",
              "[5 rows x 7 columns]"
            ]
          },
          "metadata": {
            "tags": []
          },
          "execution_count": 142
        }
      ]
    },
    {
      "cell_type": "code",
      "metadata": {
        "id": "qmyi8ffSsbEy"
      },
      "source": [
        "\n",
        "mask_tuesday = (data_body['TIMESTAMP'].dt.weekday == 1)\n",
        "reddit_tuesday = data_body.loc[mask_tuesday]\n",
        "\n",
        "mask_saturday = (data_body['TIMESTAMP'].dt.weekday == 5)\n",
        "reddit_saturday = data_body.loc[mask_saturday]\n"
      ],
      "execution_count": null,
      "outputs": []
    },
    {
      "cell_type": "code",
      "metadata": {
        "id": "EJ9KBnl33iTR"
      },
      "source": [
        "reddit_tuesday_graph = nx.from_pandas_edgelist(reddit_tuesday,\"SOURCE_SUBREDDIT\",\"TARGET_SUBREDDIT\",edge_attr=\"Sign\",create_using=nx.DiGraph)\n",
        "reddit_saturday_graph = nx.from_pandas_edgelist(reddit_saturday,\"SOURCE_SUBREDDIT\",\"TARGET_SUBREDDIT\",edge_attr=\"Sign\",create_using=nx.DiGraph)"
      ],
      "execution_count": null,
      "outputs": []
    },
    {
      "cell_type": "code",
      "metadata": {
        "id": "QWNNAONt5OUR"
      },
      "source": [
        "reddit_tuseday_table1,reddit_tuesday_table2 = graph_properties(reddit_tuesday_graph)\n",
        "reddit_saturday_table1,reddit_saturday_table2 = graph_properties(reddit_saturday_graph)"
      ],
      "execution_count": null,
      "outputs": []
    },
    {
      "cell_type": "code",
      "metadata": {
        "colab": {
          "base_uri": "https://localhost:8080/",
          "height": 173
        },
        "id": "Isid1YjtDVDd",
        "outputId": "a2fd5380-512b-4d00-e022-d42b8b0a8b7b"
      },
      "source": [
        "reddit_tuseday_table1"
      ],
      "execution_count": null,
      "outputs": [
        {
          "output_type": "execute_result",
          "data": {
            "text/html": [
              "<div>\n",
              "<style scoped>\n",
              "    .dataframe tbody tr th:only-of-type {\n",
              "        vertical-align: middle;\n",
              "    }\n",
              "\n",
              "    .dataframe tbody tr th {\n",
              "        vertical-align: top;\n",
              "    }\n",
              "\n",
              "    .dataframe thead th {\n",
              "        text-align: right;\n",
              "    }\n",
              "</style>\n",
              "<table border=\"1\" class=\"dataframe\">\n",
              "  <thead>\n",
              "    <tr style=\"text-align: right;\">\n",
              "      <th></th>\n",
              "      <th>Average</th>\n",
              "      <th>Max</th>\n",
              "      <th>Min</th>\n",
              "    </tr>\n",
              "  </thead>\n",
              "  <tbody>\n",
              "    <tr>\n",
              "      <th>Degree</th>\n",
              "      <td>4.443965</td>\n",
              "      <td>737.000000</td>\n",
              "      <td>1.000000</td>\n",
              "    </tr>\n",
              "    <tr>\n",
              "      <th>Closeness</th>\n",
              "      <td>0.050463</td>\n",
              "      <td>0.222599</td>\n",
              "      <td>0.000000</td>\n",
              "    </tr>\n",
              "    <tr>\n",
              "      <th>Local clustering coefficient</th>\n",
              "      <td>0.070541</td>\n",
              "      <td>1.000000</td>\n",
              "      <td>0.000000</td>\n",
              "    </tr>\n",
              "    <tr>\n",
              "      <th>Centrality</th>\n",
              "      <td>0.000320</td>\n",
              "      <td>0.053052</td>\n",
              "      <td>0.000072</td>\n",
              "    </tr>\n",
              "  </tbody>\n",
              "</table>\n",
              "</div>"
            ],
            "text/plain": [
              "                               Average         Max       Min\n",
              "Degree                        4.443965  737.000000  1.000000\n",
              "Closeness                     0.050463    0.222599  0.000000\n",
              "Local clustering coefficient  0.070541    1.000000  0.000000\n",
              "Centrality                    0.000320    0.053052  0.000072"
            ]
          },
          "metadata": {
            "tags": []
          },
          "execution_count": 155
        }
      ]
    },
    {
      "cell_type": "code",
      "metadata": {
        "colab": {
          "base_uri": "https://localhost:8080/",
          "height": 173
        },
        "id": "L8VX6oYvIe59",
        "outputId": "e1d1bfb5-0bdd-43aa-e6d6-e10a3e8ba785"
      },
      "source": [
        "reddit_saturday_table1"
      ],
      "execution_count": null,
      "outputs": [
        {
          "output_type": "execute_result",
          "data": {
            "text/html": [
              "<div>\n",
              "<style scoped>\n",
              "    .dataframe tbody tr th:only-of-type {\n",
              "        vertical-align: middle;\n",
              "    }\n",
              "\n",
              "    .dataframe tbody tr th {\n",
              "        vertical-align: top;\n",
              "    }\n",
              "\n",
              "    .dataframe thead th {\n",
              "        text-align: right;\n",
              "    }\n",
              "</style>\n",
              "<table border=\"1\" class=\"dataframe\">\n",
              "  <thead>\n",
              "    <tr style=\"text-align: right;\">\n",
              "      <th></th>\n",
              "      <th>Average</th>\n",
              "      <th>Max</th>\n",
              "      <th>Min</th>\n",
              "    </tr>\n",
              "  </thead>\n",
              "  <tbody>\n",
              "    <tr>\n",
              "      <th>Degree</th>\n",
              "      <td>4.123237</td>\n",
              "      <td>571.000000</td>\n",
              "      <td>1.000000</td>\n",
              "    </tr>\n",
              "    <tr>\n",
              "      <th>Closeness</th>\n",
              "      <td>0.043716</td>\n",
              "      <td>0.198134</td>\n",
              "      <td>0.000000</td>\n",
              "    </tr>\n",
              "    <tr>\n",
              "      <th>Local clustering coefficient</th>\n",
              "      <td>0.063207</td>\n",
              "      <td>1.000000</td>\n",
              "      <td>0.000000</td>\n",
              "    </tr>\n",
              "    <tr>\n",
              "      <th>Centrality</th>\n",
              "      <td>0.000336</td>\n",
              "      <td>0.046544</td>\n",
              "      <td>0.000082</td>\n",
              "    </tr>\n",
              "  </tbody>\n",
              "</table>\n",
              "</div>"
            ],
            "text/plain": [
              "                               Average         Max       Min\n",
              "Degree                        4.123237  571.000000  1.000000\n",
              "Closeness                     0.043716    0.198134  0.000000\n",
              "Local clustering coefficient  0.063207    1.000000  0.000000\n",
              "Centrality                    0.000336    0.046544  0.000082"
            ]
          },
          "metadata": {
            "tags": []
          },
          "execution_count": 156
        }
      ]
    },
    {
      "cell_type": "markdown",
      "metadata": {
        "id": "lF5P4W5anZWG"
      },
      "source": [
        "**Centrality analysis :**\n",
        "- Tuesday has a higher average degree, closeness, local clustering coefficient. It has a lower average centrality value but as it is already very very small this difference may be negligeable.\n",
        "- Node degree is more speard out for tuesday than saturday, so as the closeness\n",
        "\n",
        "This may be relation to that Tuesday has a higher amount of negative edges per amount of positive edges compared to Saturday. "
      ]
    },
    {
      "cell_type": "markdown",
      "metadata": {
        "id": "raaYGPs2IfyV"
      },
      "source": [
        "-------"
      ]
    },
    {
      "cell_type": "code",
      "metadata": {
        "colab": {
          "base_uri": "https://localhost:8080/",
          "height": 94
        },
        "id": "MnWZMrekDXuM",
        "outputId": "29ed7c24-9085-41db-a159-a3d7090f6921"
      },
      "source": [
        "reddit_tuesday_table2"
      ],
      "execution_count": null,
      "outputs": [
        {
          "output_type": "execute_result",
          "data": {
            "text/html": [
              "<div>\n",
              "<style scoped>\n",
              "    .dataframe tbody tr th:only-of-type {\n",
              "        vertical-align: middle;\n",
              "    }\n",
              "\n",
              "    .dataframe tbody tr th {\n",
              "        vertical-align: top;\n",
              "    }\n",
              "\n",
              "    .dataframe thead th {\n",
              "        text-align: right;\n",
              "    }\n",
              "</style>\n",
              "<table border=\"1\" class=\"dataframe\">\n",
              "  <thead>\n",
              "    <tr style=\"text-align: right;\">\n",
              "      <th></th>\n",
              "      <th></th>\n",
              "    </tr>\n",
              "  </thead>\n",
              "  <tbody>\n",
              "    <tr>\n",
              "      <th>Global clustering coefficient</th>\n",
              "      <td>0.049076</td>\n",
              "    </tr>\n",
              "    <tr>\n",
              "      <th>Assortativity degree</th>\n",
              "      <td>-0.045391</td>\n",
              "    </tr>\n",
              "  </tbody>\n",
              "</table>\n",
              "</div>"
            ],
            "text/plain": [
              "                                       \n",
              "Global clustering coefficient  0.049076\n",
              "Assortativity degree          -0.045391"
            ]
          },
          "metadata": {
            "tags": []
          },
          "execution_count": 157
        }
      ]
    },
    {
      "cell_type": "code",
      "metadata": {
        "colab": {
          "base_uri": "https://localhost:8080/",
          "height": 94
        },
        "id": "6uvUyzr1IiEL",
        "outputId": "9375a0d0-62bf-46a9-80b5-08925578e0ad"
      },
      "source": [
        "reddit_saturday_table2"
      ],
      "execution_count": null,
      "outputs": [
        {
          "output_type": "execute_result",
          "data": {
            "text/html": [
              "<div>\n",
              "<style scoped>\n",
              "    .dataframe tbody tr th:only-of-type {\n",
              "        vertical-align: middle;\n",
              "    }\n",
              "\n",
              "    .dataframe tbody tr th {\n",
              "        vertical-align: top;\n",
              "    }\n",
              "\n",
              "    .dataframe thead th {\n",
              "        text-align: right;\n",
              "    }\n",
              "</style>\n",
              "<table border=\"1\" class=\"dataframe\">\n",
              "  <thead>\n",
              "    <tr style=\"text-align: right;\">\n",
              "      <th></th>\n",
              "      <th></th>\n",
              "    </tr>\n",
              "  </thead>\n",
              "  <tbody>\n",
              "    <tr>\n",
              "      <th>Global clustering coefficient</th>\n",
              "      <td>0.049217</td>\n",
              "    </tr>\n",
              "    <tr>\n",
              "      <th>Assortativity degree</th>\n",
              "      <td>-0.035436</td>\n",
              "    </tr>\n",
              "  </tbody>\n",
              "</table>\n",
              "</div>"
            ],
            "text/plain": [
              "                                       \n",
              "Global clustering coefficient  0.049217\n",
              "Assortativity degree          -0.035436"
            ]
          },
          "metadata": {
            "tags": []
          },
          "execution_count": 158
        }
      ]
    },
    {
      "cell_type": "markdown",
      "metadata": {
        "id": "wGJKKeyKnZWI"
      },
      "source": [
        "**Clusetering and Behavior analysis :**\n",
        "- Almost the same global clustering coefficient for both days\n",
        "- Assortativity less smaller for tuesday : nodes tend to do edges with less similar ones\n",
        "\n",
        "So here we may say that the tuesday sub-graph has a higher centrality than the one from saturday, however because the global clustering coefficient is equal for both days we cannot say precisly how it affects the connectivity. We may also say that the nodes tend to bind more different ones in tuesday, thus groups formed are more heterogeneous than in saturday and thus by extend, other days of the week."
      ]
    },
    {
      "cell_type": "markdown",
      "metadata": {
        "id": "0xqKiIDEIjQx"
      },
      "source": [
        "--------"
      ]
    },
    {
      "cell_type": "markdown",
      "metadata": {
        "id": "v-XtoXuFLESf"
      },
      "source": [
        "-----"
      ]
    },
    {
      "cell_type": "markdown",
      "metadata": {
        "id": "PupO-tJCx_Bc"
      },
      "source": [
        "#### Reddit - hour \n",
        "\n",
        "Let's have a look on hour's sub-graphs. \n",
        "Reminder : \n",
        "- 7h : low ratio\n",
        "- 18h : middle ratio\n",
        "- 12h : high ration"
      ]
    },
    {
      "cell_type": "code",
      "metadata": {
        "id": "pfqgNhRkyBIQ"
      },
      "source": [
        "mask_7h = (data_body['TIMESTAMP'].dt.hour == 7)\n",
        "mask_18h = (data_body['TIMESTAMP'].dt.hour == 18)\n",
        "mask_12h = (data_body['TIMESTAMP'].dt.hour == 12)\n",
        "\n",
        "reddit_7h = data_body.loc[mask_7h]\n",
        "reddit_18h = data_body.loc[mask_18h]\n",
        "reddit_12h = data_body.loc[mask_12h]"
      ],
      "execution_count": null,
      "outputs": []
    },
    {
      "cell_type": "code",
      "metadata": {
        "colab": {
          "base_uri": "https://localhost:8080/",
          "height": 309
        },
        "id": "5i7ImyunyaCg",
        "outputId": "bc61dd75-d9c7-4a1a-fc3e-ffa22058f1b5"
      },
      "source": [
        "reddit_7h.head()"
      ],
      "execution_count": null,
      "outputs": [
        {
          "output_type": "execute_result",
          "data": {
            "text/html": [
              "<div>\n",
              "<style scoped>\n",
              "    .dataframe tbody tr th:only-of-type {\n",
              "        vertical-align: middle;\n",
              "    }\n",
              "\n",
              "    .dataframe tbody tr th {\n",
              "        vertical-align: top;\n",
              "    }\n",
              "\n",
              "    .dataframe thead th {\n",
              "        text-align: right;\n",
              "    }\n",
              "</style>\n",
              "<table border=\"1\" class=\"dataframe\">\n",
              "  <thead>\n",
              "    <tr style=\"text-align: right;\">\n",
              "      <th></th>\n",
              "      <th>SOURCE_SUBREDDIT</th>\n",
              "      <th>TARGET_SUBREDDIT</th>\n",
              "      <th>POST_ID</th>\n",
              "      <th>TIMESTAMP</th>\n",
              "      <th>Sign</th>\n",
              "      <th>PROPERTIES</th>\n",
              "      <th>Sentiment</th>\n",
              "    </tr>\n",
              "  </thead>\n",
              "  <tbody>\n",
              "    <tr>\n",
              "      <th>16</th>\n",
              "      <td>kpop</td>\n",
              "      <td>dota2</td>\n",
              "      <td>1u5qg2s</td>\n",
              "      <td>2014-01-01 07:05:10</td>\n",
              "      <td>1</td>\n",
              "      <td>1050.0,938.0,0.705714285714,0.0419047619048,0....</td>\n",
              "      <td>0.9136</td>\n",
              "    </tr>\n",
              "    <tr>\n",
              "      <th>17</th>\n",
              "      <td>airsoft</td>\n",
              "      <td>airsoftmarket</td>\n",
              "      <td>1u5r7js</td>\n",
              "      <td>2014-01-01 07:09:16</td>\n",
              "      <td>1</td>\n",
              "      <td>3788.0,3206.0,0.737856388596,0.0145195353749,0...</td>\n",
              "      <td>0.9891</td>\n",
              "    </tr>\n",
              "    <tr>\n",
              "      <th>21</th>\n",
              "      <td>fl_vapers</td>\n",
              "      <td>vaperequests</td>\n",
              "      <td>1u5uchs</td>\n",
              "      <td>2014-01-03 07:21:14</td>\n",
              "      <td>1</td>\n",
              "      <td>218.0,197.0,0.756880733945,0.0137614678899,0.0...</td>\n",
              "      <td>0.0000</td>\n",
              "    </tr>\n",
              "    <tr>\n",
              "      <th>30</th>\n",
              "      <td>metafitnesscirclejerk</td>\n",
              "      <td>fitnesscirclejerk</td>\n",
              "      <td>1u6b38s</td>\n",
              "      <td>2014-01-03 07:20:26</td>\n",
              "      <td>1</td>\n",
              "      <td>162.0,149.0,0.777777777778,0.0123456790123,0.0...</td>\n",
              "      <td>0.4927</td>\n",
              "    </tr>\n",
              "    <tr>\n",
              "      <th>46</th>\n",
              "      <td>bluebirds</td>\n",
              "      <td>soccer</td>\n",
              "      <td>1u6y0qs</td>\n",
              "      <td>2014-01-01 07:52:46</td>\n",
              "      <td>1</td>\n",
              "      <td>223.0,215.0,0.704035874439,0.0582959641256,0.0...</td>\n",
              "      <td>0.4404</td>\n",
              "    </tr>\n",
              "  </tbody>\n",
              "</table>\n",
              "</div>"
            ],
            "text/plain": [
              "         SOURCE_SUBREDDIT  ... Sentiment\n",
              "16                   kpop  ...    0.9136\n",
              "17                airsoft  ...    0.9891\n",
              "21              fl_vapers  ...    0.0000\n",
              "30  metafitnesscirclejerk  ...    0.4927\n",
              "46              bluebirds  ...    0.4404\n",
              "\n",
              "[5 rows x 7 columns]"
            ]
          },
          "metadata": {
            "tags": []
          },
          "execution_count": 160
        }
      ]
    },
    {
      "cell_type": "code",
      "metadata": {
        "colab": {
          "base_uri": "https://localhost:8080/",
          "height": 309
        },
        "id": "GhA9IVENyfvH",
        "outputId": "cf2c2a01-9b64-4e88-f379-368549b9b085"
      },
      "source": [
        "reddit_18h.head()"
      ],
      "execution_count": null,
      "outputs": [
        {
          "output_type": "execute_result",
          "data": {
            "text/html": [
              "<div>\n",
              "<style scoped>\n",
              "    .dataframe tbody tr th:only-of-type {\n",
              "        vertical-align: middle;\n",
              "    }\n",
              "\n",
              "    .dataframe tbody tr th {\n",
              "        vertical-align: top;\n",
              "    }\n",
              "\n",
              "    .dataframe thead th {\n",
              "        text-align: right;\n",
              "    }\n",
              "</style>\n",
              "<table border=\"1\" class=\"dataframe\">\n",
              "  <thead>\n",
              "    <tr style=\"text-align: right;\">\n",
              "      <th></th>\n",
              "      <th>SOURCE_SUBREDDIT</th>\n",
              "      <th>TARGET_SUBREDDIT</th>\n",
              "      <th>POST_ID</th>\n",
              "      <th>TIMESTAMP</th>\n",
              "      <th>Sign</th>\n",
              "      <th>PROPERTIES</th>\n",
              "      <th>Sentiment</th>\n",
              "    </tr>\n",
              "  </thead>\n",
              "  <tbody>\n",
              "    <tr>\n",
              "      <th>1</th>\n",
              "      <td>theredlion</td>\n",
              "      <td>soccer</td>\n",
              "      <td>1u4qkd</td>\n",
              "      <td>2013-12-31 18:18:37</td>\n",
              "      <td>-1</td>\n",
              "      <td>101.0,98.0,0.742574257426,0.019801980198,0.049...</td>\n",
              "      <td>0.5538</td>\n",
              "    </tr>\n",
              "    <tr>\n",
              "      <th>5</th>\n",
              "      <td>dogemarket</td>\n",
              "      <td>dogecoin</td>\n",
              "      <td>1u4w7bs</td>\n",
              "      <td>2013-12-31 18:35:44</td>\n",
              "      <td>1</td>\n",
              "      <td>1328.0,1110.0,0.768825301205,0.0143072289157,0...</td>\n",
              "      <td>0.9323</td>\n",
              "    </tr>\n",
              "    <tr>\n",
              "      <th>49</th>\n",
              "      <td>badhistory</td>\n",
              "      <td>worldpolitics</td>\n",
              "      <td>1u6zefs</td>\n",
              "      <td>2014-01-01 18:22:33</td>\n",
              "      <td>1</td>\n",
              "      <td>2796.0,2433.0,0.775751072961,0.0125178826896,0...</td>\n",
              "      <td>-0.9950</td>\n",
              "    </tr>\n",
              "    <tr>\n",
              "      <th>56</th>\n",
              "      <td>minnesotavikings</td>\n",
              "      <td>nfl</td>\n",
              "      <td>1u73nms</td>\n",
              "      <td>2014-01-01 18:13:47</td>\n",
              "      <td>1</td>\n",
              "      <td>423.0,359.0,0.77304964539,0.00709219858156,0.0...</td>\n",
              "      <td>0.7539</td>\n",
              "    </tr>\n",
              "    <tr>\n",
              "      <th>58</th>\n",
              "      <td>booksuggestions</td>\n",
              "      <td>books</td>\n",
              "      <td>1u75lns</td>\n",
              "      <td>2014-01-01 18:06:46</td>\n",
              "      <td>1</td>\n",
              "      <td>1080.0,918.0,0.781481481481,0.00925925925926,0...</td>\n",
              "      <td>0.9766</td>\n",
              "    </tr>\n",
              "  </tbody>\n",
              "</table>\n",
              "</div>"
            ],
            "text/plain": [
              "    SOURCE_SUBREDDIT  ... Sentiment\n",
              "1         theredlion  ...    0.5538\n",
              "5         dogemarket  ...    0.9323\n",
              "49        badhistory  ...   -0.9950\n",
              "56  minnesotavikings  ...    0.7539\n",
              "58   booksuggestions  ...    0.9766\n",
              "\n",
              "[5 rows x 7 columns]"
            ]
          },
          "metadata": {
            "tags": []
          },
          "execution_count": 161
        }
      ]
    },
    {
      "cell_type": "code",
      "metadata": {
        "colab": {
          "base_uri": "https://localhost:8080/",
          "height": 309
        },
        "id": "yqfUUeK0yh1F",
        "outputId": "02d802d9-1cff-44c9-cebb-4602b2cc7b7e"
      },
      "source": [
        "reddit_12h.head()"
      ],
      "execution_count": null,
      "outputs": [
        {
          "output_type": "execute_result",
          "data": {
            "text/html": [
              "<div>\n",
              "<style scoped>\n",
              "    .dataframe tbody tr th:only-of-type {\n",
              "        vertical-align: middle;\n",
              "    }\n",
              "\n",
              "    .dataframe tbody tr th {\n",
              "        vertical-align: top;\n",
              "    }\n",
              "\n",
              "    .dataframe thead th {\n",
              "        text-align: right;\n",
              "    }\n",
              "</style>\n",
              "<table border=\"1\" class=\"dataframe\">\n",
              "  <thead>\n",
              "    <tr style=\"text-align: right;\">\n",
              "      <th></th>\n",
              "      <th>SOURCE_SUBREDDIT</th>\n",
              "      <th>TARGET_SUBREDDIT</th>\n",
              "      <th>POST_ID</th>\n",
              "      <th>TIMESTAMP</th>\n",
              "      <th>Sign</th>\n",
              "      <th>PROPERTIES</th>\n",
              "      <th>Sentiment</th>\n",
              "    </tr>\n",
              "  </thead>\n",
              "  <tbody>\n",
              "    <tr>\n",
              "      <th>27</th>\n",
              "      <td>politicaldiscussion</td>\n",
              "      <td>todayilearned</td>\n",
              "      <td>1u64d9s</td>\n",
              "      <td>2014-01-01 12:50:53</td>\n",
              "      <td>1</td>\n",
              "      <td>232.0,213.0,0.771551724138,0.0172413793103,0.0...</td>\n",
              "      <td>0.4939</td>\n",
              "    </tr>\n",
              "    <tr>\n",
              "      <th>34</th>\n",
              "      <td>karmaconspiracy</td>\n",
              "      <td>funny</td>\n",
              "      <td>1u6fz3</td>\n",
              "      <td>2014-01-01 12:44:19</td>\n",
              "      <td>-1</td>\n",
              "      <td>186.0,182.0,0.741935483871,0.0376344086022,0.0...</td>\n",
              "      <td>0.3182</td>\n",
              "    </tr>\n",
              "    <tr>\n",
              "      <th>41</th>\n",
              "      <td>highqualitygifs</td>\n",
              "      <td>bestof2013</td>\n",
              "      <td>1u6pq6s</td>\n",
              "      <td>2014-01-01 12:43:00</td>\n",
              "      <td>1</td>\n",
              "      <td>1403.0,1331.0,0.700641482537,0.0306486101212,0...</td>\n",
              "      <td>0.9794</td>\n",
              "    </tr>\n",
              "    <tr>\n",
              "      <th>48</th>\n",
              "      <td>hailcorporate</td>\n",
              "      <td>firstworldanarchists</td>\n",
              "      <td>1u6zays</td>\n",
              "      <td>2014-01-01 12:19:58</td>\n",
              "      <td>1</td>\n",
              "      <td>241.0,212.0,0.775933609959,0.0124481327801,0.0...</td>\n",
              "      <td>0.4215</td>\n",
              "    </tr>\n",
              "    <tr>\n",
              "      <th>67</th>\n",
              "      <td>hailcorporate</td>\n",
              "      <td>cfb</td>\n",
              "      <td>1u7gtms</td>\n",
              "      <td>2014-01-01 12:19:58</td>\n",
              "      <td>1</td>\n",
              "      <td>966.0,818.0,0.760869565217,0.00931677018634,0....</td>\n",
              "      <td>0.3612</td>\n",
              "    </tr>\n",
              "  </tbody>\n",
              "</table>\n",
              "</div>"
            ],
            "text/plain": [
              "       SOURCE_SUBREDDIT  ... Sentiment\n",
              "27  politicaldiscussion  ...    0.4939\n",
              "34      karmaconspiracy  ...    0.3182\n",
              "41      highqualitygifs  ...    0.9794\n",
              "48        hailcorporate  ...    0.4215\n",
              "67        hailcorporate  ...    0.3612\n",
              "\n",
              "[5 rows x 7 columns]"
            ]
          },
          "metadata": {
            "tags": []
          },
          "execution_count": 162
        }
      ]
    },
    {
      "cell_type": "code",
      "metadata": {
        "id": "5MTtlBM35WAr"
      },
      "source": [
        "reddit_7h_graph = nx.from_pandas_edgelist(reddit_7h,\"SOURCE_SUBREDDIT\",\"TARGET_SUBREDDIT\",edge_attr=\"Sign\",create_using=nx.DiGraph)\n",
        "reddit_18h_graph = nx.from_pandas_edgelist(reddit_18h,\"SOURCE_SUBREDDIT\",\"TARGET_SUBREDDIT\",edge_attr=\"Sign\",create_using=nx.DiGraph)\n",
        "reddit_12h_graph = nx.from_pandas_edgelist(reddit_12h,\"SOURCE_SUBREDDIT\",\"TARGET_SUBREDDIT\",edge_attr=\"Sign\",create_using=nx.DiGraph)\n"
      ],
      "execution_count": null,
      "outputs": []
    },
    {
      "cell_type": "code",
      "metadata": {
        "id": "bim7Vr1g5pWr"
      },
      "source": [
        "reddit_7h_table1,reddit_7h_table2 = graph_properties(reddit_7h_graph)\n",
        "reddit_18h_table1,reddit_18h_table2 = graph_properties(reddit_18h_graph)\n",
        "reddit_12h_table1,reddit_12h_table2 = graph_properties(reddit_12h_graph)"
      ],
      "execution_count": null,
      "outputs": []
    },
    {
      "cell_type": "code",
      "metadata": {
        "colab": {
          "base_uri": "https://localhost:8080/",
          "height": 173
        },
        "id": "3l-hp7sj595m",
        "outputId": "80d06f08-7389-4850-ec70-1f3b6e2f673f"
      },
      "source": [
        "reddit_7h_table1.head()"
      ],
      "execution_count": null,
      "outputs": [
        {
          "output_type": "execute_result",
          "data": {
            "text/html": [
              "<div>\n",
              "<style scoped>\n",
              "    .dataframe tbody tr th:only-of-type {\n",
              "        vertical-align: middle;\n",
              "    }\n",
              "\n",
              "    .dataframe tbody tr th {\n",
              "        vertical-align: top;\n",
              "    }\n",
              "\n",
              "    .dataframe thead th {\n",
              "        text-align: right;\n",
              "    }\n",
              "</style>\n",
              "<table border=\"1\" class=\"dataframe\">\n",
              "  <thead>\n",
              "    <tr style=\"text-align: right;\">\n",
              "      <th></th>\n",
              "      <th>Average</th>\n",
              "      <th>Max</th>\n",
              "      <th>Min</th>\n",
              "    </tr>\n",
              "  </thead>\n",
              "  <tbody>\n",
              "    <tr>\n",
              "      <th>Degree</th>\n",
              "      <td>3.213051</td>\n",
              "      <td>290.000000</td>\n",
              "      <td>1.00000</td>\n",
              "    </tr>\n",
              "    <tr>\n",
              "      <th>Closeness</th>\n",
              "      <td>0.024986</td>\n",
              "      <td>0.145379</td>\n",
              "      <td>0.00000</td>\n",
              "    </tr>\n",
              "    <tr>\n",
              "      <th>Local clustering coefficient</th>\n",
              "      <td>0.036419</td>\n",
              "      <td>1.000000</td>\n",
              "      <td>0.00000</td>\n",
              "    </tr>\n",
              "    <tr>\n",
              "      <th>Centrality</th>\n",
              "      <td>0.000483</td>\n",
              "      <td>0.043609</td>\n",
              "      <td>0.00015</td>\n",
              "    </tr>\n",
              "  </tbody>\n",
              "</table>\n",
              "</div>"
            ],
            "text/plain": [
              "                               Average         Max      Min\n",
              "Degree                        3.213051  290.000000  1.00000\n",
              "Closeness                     0.024986    0.145379  0.00000\n",
              "Local clustering coefficient  0.036419    1.000000  0.00000\n",
              "Centrality                    0.000483    0.043609  0.00015"
            ]
          },
          "metadata": {
            "tags": []
          },
          "execution_count": 165
        }
      ]
    },
    {
      "cell_type": "code",
      "metadata": {
        "colab": {
          "base_uri": "https://localhost:8080/",
          "height": 173
        },
        "id": "Ea4tx4Tm6A_-",
        "outputId": "5ca19b9c-9279-4685-b8e0-d678c61c3d71"
      },
      "source": [
        "reddit_18h_table1.head()"
      ],
      "execution_count": null,
      "outputs": [
        {
          "output_type": "execute_result",
          "data": {
            "text/html": [
              "<div>\n",
              "<style scoped>\n",
              "    .dataframe tbody tr th:only-of-type {\n",
              "        vertical-align: middle;\n",
              "    }\n",
              "\n",
              "    .dataframe tbody tr th {\n",
              "        vertical-align: top;\n",
              "    }\n",
              "\n",
              "    .dataframe thead th {\n",
              "        text-align: right;\n",
              "    }\n",
              "</style>\n",
              "<table border=\"1\" class=\"dataframe\">\n",
              "  <thead>\n",
              "    <tr style=\"text-align: right;\">\n",
              "      <th></th>\n",
              "      <th>Average</th>\n",
              "      <th>Max</th>\n",
              "      <th>Min</th>\n",
              "    </tr>\n",
              "  </thead>\n",
              "  <tbody>\n",
              "    <tr>\n",
              "      <th>Degree</th>\n",
              "      <td>3.081127</td>\n",
              "      <td>285.000000</td>\n",
              "      <td>1.000000</td>\n",
              "    </tr>\n",
              "    <tr>\n",
              "      <th>Closeness</th>\n",
              "      <td>0.023130</td>\n",
              "      <td>0.142895</td>\n",
              "      <td>0.000000</td>\n",
              "    </tr>\n",
              "    <tr>\n",
              "      <th>Local clustering coefficient</th>\n",
              "      <td>0.036773</td>\n",
              "      <td>1.000000</td>\n",
              "      <td>0.000000</td>\n",
              "    </tr>\n",
              "    <tr>\n",
              "      <th>Centrality</th>\n",
              "      <td>0.000439</td>\n",
              "      <td>0.040569</td>\n",
              "      <td>0.000142</td>\n",
              "    </tr>\n",
              "  </tbody>\n",
              "</table>\n",
              "</div>"
            ],
            "text/plain": [
              "                               Average         Max       Min\n",
              "Degree                        3.081127  285.000000  1.000000\n",
              "Closeness                     0.023130    0.142895  0.000000\n",
              "Local clustering coefficient  0.036773    1.000000  0.000000\n",
              "Centrality                    0.000439    0.040569  0.000142"
            ]
          },
          "metadata": {
            "tags": []
          },
          "execution_count": 166
        }
      ]
    },
    {
      "cell_type": "code",
      "metadata": {
        "colab": {
          "base_uri": "https://localhost:8080/",
          "height": 173
        },
        "id": "pTPHOnNT6FQu",
        "outputId": "8b513696-89e5-476f-d16d-1405df9e2f77"
      },
      "source": [
        "reddit_12h_table1.head()"
      ],
      "execution_count": null,
      "outputs": [
        {
          "output_type": "execute_result",
          "data": {
            "text/html": [
              "<div>\n",
              "<style scoped>\n",
              "    .dataframe tbody tr th:only-of-type {\n",
              "        vertical-align: middle;\n",
              "    }\n",
              "\n",
              "    .dataframe tbody tr th {\n",
              "        vertical-align: top;\n",
              "    }\n",
              "\n",
              "    .dataframe thead th {\n",
              "        text-align: right;\n",
              "    }\n",
              "</style>\n",
              "<table border=\"1\" class=\"dataframe\">\n",
              "  <thead>\n",
              "    <tr style=\"text-align: right;\">\n",
              "      <th></th>\n",
              "      <th>Average</th>\n",
              "      <th>Max</th>\n",
              "      <th>Min</th>\n",
              "    </tr>\n",
              "  </thead>\n",
              "  <tbody>\n",
              "    <tr>\n",
              "      <th>Degree</th>\n",
              "      <td>3.260215</td>\n",
              "      <td>316.000000</td>\n",
              "      <td>1.000000</td>\n",
              "    </tr>\n",
              "    <tr>\n",
              "      <th>Closeness</th>\n",
              "      <td>0.028511</td>\n",
              "      <td>0.158988</td>\n",
              "      <td>0.000000</td>\n",
              "    </tr>\n",
              "    <tr>\n",
              "      <th>Local clustering coefficient</th>\n",
              "      <td>0.041013</td>\n",
              "      <td>1.000000</td>\n",
              "      <td>0.000000</td>\n",
              "    </tr>\n",
              "    <tr>\n",
              "      <th>Centrality</th>\n",
              "      <td>0.000416</td>\n",
              "      <td>0.040352</td>\n",
              "      <td>0.000128</td>\n",
              "    </tr>\n",
              "  </tbody>\n",
              "</table>\n",
              "</div>"
            ],
            "text/plain": [
              "                               Average         Max       Min\n",
              "Degree                        3.260215  316.000000  1.000000\n",
              "Closeness                     0.028511    0.158988  0.000000\n",
              "Local clustering coefficient  0.041013    1.000000  0.000000\n",
              "Centrality                    0.000416    0.040352  0.000128"
            ]
          },
          "metadata": {
            "tags": []
          },
          "execution_count": 167
        }
      ]
    },
    {
      "cell_type": "markdown",
      "metadata": {
        "id": "k4GhcByrnZWM"
      },
      "source": [
        "**Centrality analysis :** \n",
        "- degree, clossness, local clustering coefficient and centrality is the higgest in the subgraph with higest ratio (12h). \n",
        "- The 6 pm subgraph, which has a medium level of positivie edges, has lower degree, clossness and centrality than the subgraph that represent the lowest level of postive edges (7 a.m)\n",
        "\n",
        "What can be seen is that in every case where the degree and closeness is higher in average, the subgraphs node with max value in the two propeties is also higher. "
      ]
    },
    {
      "cell_type": "markdown",
      "metadata": {
        "id": "i2HrfMq0tPis"
      },
      "source": [
        "----"
      ]
    },
    {
      "cell_type": "code",
      "metadata": {
        "colab": {
          "base_uri": "https://localhost:8080/",
          "height": 94
        },
        "id": "gzgTahpqtTjV",
        "outputId": "6d8b0c34-14c6-4f0d-d1b2-4f0f27b8e4a9"
      },
      "source": [
        "reddit_7h_table2.head()"
      ],
      "execution_count": null,
      "outputs": [
        {
          "output_type": "execute_result",
          "data": {
            "text/html": [
              "<div>\n",
              "<style scoped>\n",
              "    .dataframe tbody tr th:only-of-type {\n",
              "        vertical-align: middle;\n",
              "    }\n",
              "\n",
              "    .dataframe tbody tr th {\n",
              "        vertical-align: top;\n",
              "    }\n",
              "\n",
              "    .dataframe thead th {\n",
              "        text-align: right;\n",
              "    }\n",
              "</style>\n",
              "<table border=\"1\" class=\"dataframe\">\n",
              "  <thead>\n",
              "    <tr style=\"text-align: right;\">\n",
              "      <th></th>\n",
              "      <th></th>\n",
              "    </tr>\n",
              "  </thead>\n",
              "  <tbody>\n",
              "    <tr>\n",
              "      <th>Global clustering coefficient</th>\n",
              "      <td>0.064473</td>\n",
              "    </tr>\n",
              "    <tr>\n",
              "      <th>Assortativity degree</th>\n",
              "      <td>-0.015193</td>\n",
              "    </tr>\n",
              "  </tbody>\n",
              "</table>\n",
              "</div>"
            ],
            "text/plain": [
              "                                       \n",
              "Global clustering coefficient  0.064473\n",
              "Assortativity degree          -0.015193"
            ]
          },
          "metadata": {
            "tags": []
          },
          "execution_count": 168
        }
      ]
    },
    {
      "cell_type": "code",
      "metadata": {
        "colab": {
          "base_uri": "https://localhost:8080/",
          "height": 94
        },
        "id": "uixmsEtwtU4-",
        "outputId": "96545aa4-aae5-4a36-e284-6a00a29556dd"
      },
      "source": [
        "reddit_18h_table2.head()"
      ],
      "execution_count": null,
      "outputs": [
        {
          "output_type": "execute_result",
          "data": {
            "text/html": [
              "<div>\n",
              "<style scoped>\n",
              "    .dataframe tbody tr th:only-of-type {\n",
              "        vertical-align: middle;\n",
              "    }\n",
              "\n",
              "    .dataframe tbody tr th {\n",
              "        vertical-align: top;\n",
              "    }\n",
              "\n",
              "    .dataframe thead th {\n",
              "        text-align: right;\n",
              "    }\n",
              "</style>\n",
              "<table border=\"1\" class=\"dataframe\">\n",
              "  <thead>\n",
              "    <tr style=\"text-align: right;\">\n",
              "      <th></th>\n",
              "      <th></th>\n",
              "    </tr>\n",
              "  </thead>\n",
              "  <tbody>\n",
              "    <tr>\n",
              "      <th>Global clustering coefficient</th>\n",
              "      <td>0.028567</td>\n",
              "    </tr>\n",
              "    <tr>\n",
              "      <th>Assortativity degree</th>\n",
              "      <td>-0.008251</td>\n",
              "    </tr>\n",
              "  </tbody>\n",
              "</table>\n",
              "</div>"
            ],
            "text/plain": [
              "                                       \n",
              "Global clustering coefficient  0.028567\n",
              "Assortativity degree          -0.008251"
            ]
          },
          "metadata": {
            "tags": []
          },
          "execution_count": 169
        }
      ]
    },
    {
      "cell_type": "code",
      "metadata": {
        "colab": {
          "base_uri": "https://localhost:8080/",
          "height": 94
        },
        "id": "R9jo-LOotQz8",
        "outputId": "a0e2d772-6262-4715-ff82-f682ca029f03"
      },
      "source": [
        "reddit_12h_table2.head()"
      ],
      "execution_count": null,
      "outputs": [
        {
          "output_type": "execute_result",
          "data": {
            "text/html": [
              "<div>\n",
              "<style scoped>\n",
              "    .dataframe tbody tr th:only-of-type {\n",
              "        vertical-align: middle;\n",
              "    }\n",
              "\n",
              "    .dataframe tbody tr th {\n",
              "        vertical-align: top;\n",
              "    }\n",
              "\n",
              "    .dataframe thead th {\n",
              "        text-align: right;\n",
              "    }\n",
              "</style>\n",
              "<table border=\"1\" class=\"dataframe\">\n",
              "  <thead>\n",
              "    <tr style=\"text-align: right;\">\n",
              "      <th></th>\n",
              "      <th></th>\n",
              "    </tr>\n",
              "  </thead>\n",
              "  <tbody>\n",
              "    <tr>\n",
              "      <th>Global clustering coefficient</th>\n",
              "      <td>0.036184</td>\n",
              "    </tr>\n",
              "    <tr>\n",
              "      <th>Assortativity degree</th>\n",
              "      <td>-0.024376</td>\n",
              "    </tr>\n",
              "  </tbody>\n",
              "</table>\n",
              "</div>"
            ],
            "text/plain": [
              "                                       \n",
              "Global clustering coefficient  0.036184\n",
              "Assortativity degree          -0.024376"
            ]
          },
          "metadata": {
            "tags": []
          },
          "execution_count": 170
        }
      ]
    },
    {
      "cell_type": "markdown",
      "metadata": {
        "id": "yP8ZTYS5nZWN"
      },
      "source": [
        "**Clustering and Behavior analysis :**\n",
        "- Global clustering coefficient higher for 7 a.m. than for 6 p.m and 12 a.m. (factor 2 and 3 respectively).\n",
        "- The sub-graph 12 a.m. has the smaller assortativity degree \n",
        "\n",
        "As a recap the centrality is higher and the assortatitivity is smaller for sub-graph 12 a.m. (so its node tend to bind more dissimilar one and thus groups are more heterogeneous). On the other hand sub-graph 7 a.m has the higher global clusering coefficient, and thus is very connected even if not the more central."
      ]
    },
    {
      "cell_type": "markdown",
      "metadata": {
        "id": "c8fNcp0eta1Y"
      },
      "source": [
        "-----"
      ]
    },
    {
      "cell_type": "markdown",
      "metadata": {
        "id": "QM9lDhucm4FQ"
      },
      "source": [
        " ## 2.1.1.2] First conclusion"
      ]
    },
    {
      "cell_type": "markdown",
      "metadata": {
        "id": "Orbmm_t_JlIR"
      },
      "source": [
        "Here we aimed to analysis the impact of time variable on network structure. Let's do first a quick summary about the main results we got :\n",
        "-  Year : as the differences between degree, closeness, local clustering coefficient and centrality are not big enough, they may not be statistically significant. Also the difference for global clustering and behavior are also very small. Thus it is hard to draw a conclusion about the impact of the year on Reddit subgraphs structure. *Here we may conclude that the year doesn't impact the structure, but we need further analysis with other structural parameter to ensure that*.\n",
        "- Month : It is the same idea, the differences in parameters values are very small so we were really able to draw strong conclusion despite our analysis. As for year, *we may conclude that here the month doesn't have an impact on the Reddit network structure be we have to be careful in not taking this for strong thruth but more as an first assumption, because we need deeper analysis to really exclude this parameter*.\n",
        "\n",
        "- Day : it appears that Tuesday, which has the high ratio, also has the higher average degree, closeness and local clustering coefficient. It also has the smaller assortativity. So we may say that tuesday appears to be more central and with groups more heterogeneous than saturday, and thus all the other day of the week which have the same ratio. *We can say that the day of the week may have an impact on the centrality and the behavior of the node and thus affect the global structure of the network*.\n",
        "\n",
        "- Hour : it appears that all centrality parameters are higher in the subgraph with the highest ratio (12h). This sub-graph also has a low assortativity degree. However, it is the 7h sub-graph that has the higher global clustering coefficient. From these observation we could say that the network from 12h tends to be more heterogenous and central than the other, while the one from the morning 7h is more connected. Thus *we could say that the hour of the day tend to affect the centrality and connectivity of the network structure*.\n",
        "\n",
        "\n",
        "So here we can see that the year and the month don't appear to impact a lot the structure while the day of the week and the hour seem to affect the structural parameter computed.\n",
        "\n",
        "Let's draw a small sketch to have an idea on how these trend may influence edge analysis compared to status and balance analysis. As in the paper, we considere 3 nodes A, B and C. A is positively linked to B which is positively linked to C. We are studying the edge between A and C. According to the balance theory, it is likely to be positive as the triad type +++ is more plausible than ++-. On the other hand, the edge from C to A is more likely to be negative according to status theory. Let's consider the time now. Imagine that we are a Tuesday, thus the ratio of negative edge versus positive ones is higher. Thus the edge AC would be more likely to have negative sign than another day of the week, with a smaller ratio. Also on Tuesday, nodes tend to link to less similar nodes, thus we may consider so characteristics of A and C to evaluate the possibility of their connection. If they are similar, in tuesday they will be less likely to have a connection, if they are not similar it is the reverse. Now let's imagine that it is 12h (of whatever day of the week), then it is the similar observation, it is more likely that C binds A if they are not similar compared to another hour of the day. Thus we can see that these variables can have an impact on the edge / analysis prediction and so might be useful to take them into account during network structure analysis."
      ]
    },
    {
      "cell_type": "markdown",
      "metadata": {
        "id": "PUR8OosJm4FQ"
      },
      "source": [
        "## 2.1.2] Work on the wikipedia and slashdot dataset\n",
        "\n",
        "Then we apply the same pipeline of analysis to the wikipedia dataset, which is the only we have original associated datetime data. \n",
        " \n",
        " ### 2.1.2.1] Identification of the global trend\n",
        "\n",
        "### **Step 0**  : Work with TIMESTAMP  data"
      ]
    },
    {
      "cell_type": "markdown",
      "metadata": {
        "id": "QMJ5rC_6m4FQ"
      },
      "source": [
        "Load the wikipedia dataset. To do so we basically re-used the function constructed from previous replication work."
      ]
    },
    {
      "cell_type": "code",
      "metadata": {
        "id": "Ep3YOcRhBBjz"
      },
      "source": [
        "\n",
        "wikidata = [] #Declaring that wikidata is a list \n",
        "with open(wikipedia_file, \"r\",encoding='latin-1') as a_file: #Opening and reading data from Wikipedia. Use encoding so the format match.\n",
        "    for line in a_file: #Iterating over every lines in the file \n",
        "        if \"U\t\" in line: #When U   exist in a line, change the user id of the person being nominated\n",
        "            candidate = [line for line in line.split()] #Splits up the line/string, where each word is a list item, to get the user id of the user to consider for a promotion\n",
        "        if \"V\t\" in line: #When V\t exists in a line we know that is a new voted \n",
        "            voter = [line for line in line.split()] #Splits up the line/string, where each word is a list item, to get the user id of the voter and the type of vote \n",
        "            if int(voter[1]) == 0: #If the user has voted 0, which is neutral, there is no link between the user that voted and the nominated user\n",
        "                continue #We, therefore, want to continue to the next line\n",
        "            else: #This means that the vote is 1 or -1\n",
        "                wikidata.append(int(voter[2])) #Store the 3 element of the voter string, which is user id of voter \n",
        "                wikidata.append(int(candidate[1])) #Store the 2 element of the candidate string, which is user id of the nominated user\n",
        "                wikidata.append(int(voter[1])) #Store the 2 element of the voter string, which is type of vote, 1 or -1\n",
        "                wikidata.append(voter[3]+voter[4])\n",
        "wikidata = np.reshape(wikidata, (int(len(wikidata)/4),4)) #Shapes the list to an array that has three columns and 1/3 of rows from the length of the list, because we now have split it up in three columns "
      ],
      "execution_count": 4,
      "outputs": []
    },
    {
      "cell_type": "code",
      "metadata": {
        "id": "51iFIMm7BUVL"
      },
      "source": [
        "Wiki_votes = pd.DataFrame(data=wikidata,columns = [\"FromNodeId\", \"ToNodeId\",\"Sign\",\"Date\"])"
      ],
      "execution_count": 5,
      "outputs": []
    },
    {
      "cell_type": "markdown",
      "metadata": {
        "id": "b5q32ztcm4FS"
      },
      "source": [
        "So we need to convert, as for Reddit dataset."
      ]
    },
    {
      "cell_type": "code",
      "metadata": {
        "colab": {
          "base_uri": "https://localhost:8080/",
          "height": 204
        },
        "id": "-B-0o9X8Fns7",
        "outputId": "4a4f60c7-89bf-4972-e5e4-43e1cd63201d"
      },
      "source": [
        "Wiki_votes['Date'] = pd.to_datetime(Wiki_votes['Date'], format='%Y-%m-%d%H:%M:%S', errors='coerce')\n",
        "Wiki_votes.head()\n"
      ],
      "execution_count": 6,
      "outputs": [
        {
          "output_type": "execute_result",
          "data": {
            "text/html": [
              "<div>\n",
              "<style scoped>\n",
              "    .dataframe tbody tr th:only-of-type {\n",
              "        vertical-align: middle;\n",
              "    }\n",
              "\n",
              "    .dataframe tbody tr th {\n",
              "        vertical-align: top;\n",
              "    }\n",
              "\n",
              "    .dataframe thead th {\n",
              "        text-align: right;\n",
              "    }\n",
              "</style>\n",
              "<table border=\"1\" class=\"dataframe\">\n",
              "  <thead>\n",
              "    <tr style=\"text-align: right;\">\n",
              "      <th></th>\n",
              "      <th>FromNodeId</th>\n",
              "      <th>ToNodeId</th>\n",
              "      <th>Sign</th>\n",
              "      <th>Date</th>\n",
              "    </tr>\n",
              "  </thead>\n",
              "  <tbody>\n",
              "    <tr>\n",
              "      <th>0</th>\n",
              "      <td>3</td>\n",
              "      <td>30</td>\n",
              "      <td>1</td>\n",
              "      <td>2004-09-14 16:26:00</td>\n",
              "    </tr>\n",
              "    <tr>\n",
              "      <th>1</th>\n",
              "      <td>25</td>\n",
              "      <td>30</td>\n",
              "      <td>-1</td>\n",
              "      <td>2004-09-14 16:53:00</td>\n",
              "    </tr>\n",
              "    <tr>\n",
              "      <th>2</th>\n",
              "      <td>4</td>\n",
              "      <td>30</td>\n",
              "      <td>1</td>\n",
              "      <td>2004-09-14 17:08:00</td>\n",
              "    </tr>\n",
              "    <tr>\n",
              "      <th>3</th>\n",
              "      <td>5</td>\n",
              "      <td>30</td>\n",
              "      <td>1</td>\n",
              "      <td>2004-09-14 17:37:00</td>\n",
              "    </tr>\n",
              "    <tr>\n",
              "      <th>4</th>\n",
              "      <td>6</td>\n",
              "      <td>30</td>\n",
              "      <td>1</td>\n",
              "      <td>2004-09-14 19:28:00</td>\n",
              "    </tr>\n",
              "  </tbody>\n",
              "</table>\n",
              "</div>"
            ],
            "text/plain": [
              "  FromNodeId ToNodeId Sign                Date\n",
              "0          3       30    1 2004-09-14 16:26:00\n",
              "1         25       30   -1 2004-09-14 16:53:00\n",
              "2          4       30    1 2004-09-14 17:08:00\n",
              "3          5       30    1 2004-09-14 17:37:00\n",
              "4          6       30    1 2004-09-14 19:28:00"
            ]
          },
          "metadata": {
            "tags": []
          },
          "execution_count": 6
        }
      ]
    },
    {
      "cell_type": "markdown",
      "metadata": {
        "id": "l0GqQizrm4FS"
      },
      "source": [
        "Then we check the type of the data."
      ]
    },
    {
      "cell_type": "code",
      "metadata": {
        "colab": {
          "base_uri": "https://localhost:8080/"
        },
        "id": "IxHL8eZqm4FS",
        "outputId": "93bb9557-b0ae-4e57-f3c3-cfa593a23fa0"
      },
      "source": [
        "print('Exemple : the date of the first post of the dataset is : {}'.format(Wiki_votes['Date'][3]))\n",
        "print(' Its type is ',type(Wiki_votes['Date'][3]))"
      ],
      "execution_count": null,
      "outputs": [
        {
          "output_type": "stream",
          "text": [
            "Exemple : the date of the first post of the dataset is : 2004-09-14 17:37:00\n",
            " Its type is  <class 'pandas._libs.tslibs.timestamps.Timestamp'>\n"
          ],
          "name": "stdout"
        }
      ]
    },
    {
      "cell_type": "markdown",
      "metadata": {
        "id": "89Kjz0KunZWS"
      },
      "source": [
        "As we can see it is *timestamp*, thus we will be able to used specialized time functions (i.e. year, month, day and hour extracting). "
      ]
    },
    {
      "cell_type": "markdown",
      "metadata": {
        "id": "_oC-KfHYm4FT"
      },
      "source": [
        "**split into positive and negative dataset**\n",
        "\n",
        "*Positive*"
      ]
    },
    {
      "cell_type": "code",
      "metadata": {
        "colab": {
          "base_uri": "https://localhost:8080/"
        },
        "id": "j5mnzh8wm4FT",
        "outputId": "3acec86d-71d7-4be1-a1ce-e0433290c4db"
      },
      "source": [
        "wiki_pos = Wiki_votes.copy()\n",
        "wiki_pos = wiki_pos.drop(wiki_pos[wiki_pos.Sign == '-1'].index).reset_index(drop=True)\n",
        "wiki_pos = wiki_pos.drop(wiki_pos[wiki_pos.Sign == '0'].index).reset_index(drop=True)\n",
        "print('data body original .{}'.format(Wiki_votes.shape))\n",
        "print('body POS {}'.format(wiki_pos.shape))"
      ],
      "execution_count": null,
      "outputs": [
        {
          "output_type": "stream",
          "text": [
            "data body original .(107080, 4)\n",
            "body POS (83962, 4)\n"
          ],
          "name": "stdout"
        }
      ]
    },
    {
      "cell_type": "code",
      "metadata": {
        "colab": {
          "base_uri": "https://localhost:8080/",
          "height": 204
        },
        "id": "7PAf-Rg7m4FT",
        "outputId": "975857b7-0494-44dd-adfc-e355ba84caee"
      },
      "source": [
        "wiki_pos.head()"
      ],
      "execution_count": null,
      "outputs": [
        {
          "output_type": "execute_result",
          "data": {
            "text/html": [
              "<div>\n",
              "<style scoped>\n",
              "    .dataframe tbody tr th:only-of-type {\n",
              "        vertical-align: middle;\n",
              "    }\n",
              "\n",
              "    .dataframe tbody tr th {\n",
              "        vertical-align: top;\n",
              "    }\n",
              "\n",
              "    .dataframe thead th {\n",
              "        text-align: right;\n",
              "    }\n",
              "</style>\n",
              "<table border=\"1\" class=\"dataframe\">\n",
              "  <thead>\n",
              "    <tr style=\"text-align: right;\">\n",
              "      <th></th>\n",
              "      <th>FromNodeId</th>\n",
              "      <th>ToNodeId</th>\n",
              "      <th>Sign</th>\n",
              "      <th>Date</th>\n",
              "    </tr>\n",
              "  </thead>\n",
              "  <tbody>\n",
              "    <tr>\n",
              "      <th>0</th>\n",
              "      <td>3</td>\n",
              "      <td>30</td>\n",
              "      <td>1</td>\n",
              "      <td>2004-09-14 16:26:00</td>\n",
              "    </tr>\n",
              "    <tr>\n",
              "      <th>1</th>\n",
              "      <td>4</td>\n",
              "      <td>30</td>\n",
              "      <td>1</td>\n",
              "      <td>2004-09-14 17:08:00</td>\n",
              "    </tr>\n",
              "    <tr>\n",
              "      <th>2</th>\n",
              "      <td>5</td>\n",
              "      <td>30</td>\n",
              "      <td>1</td>\n",
              "      <td>2004-09-14 17:37:00</td>\n",
              "    </tr>\n",
              "    <tr>\n",
              "      <th>3</th>\n",
              "      <td>6</td>\n",
              "      <td>30</td>\n",
              "      <td>1</td>\n",
              "      <td>2004-09-14 19:28:00</td>\n",
              "    </tr>\n",
              "    <tr>\n",
              "      <th>4</th>\n",
              "      <td>7</td>\n",
              "      <td>30</td>\n",
              "      <td>1</td>\n",
              "      <td>2004-09-14 19:37:00</td>\n",
              "    </tr>\n",
              "  </tbody>\n",
              "</table>\n",
              "</div>"
            ],
            "text/plain": [
              "  FromNodeId ToNodeId Sign                Date\n",
              "0          3       30    1 2004-09-14 16:26:00\n",
              "1          4       30    1 2004-09-14 17:08:00\n",
              "2          5       30    1 2004-09-14 17:37:00\n",
              "3          6       30    1 2004-09-14 19:28:00\n",
              "4          7       30    1 2004-09-14 19:37:00"
            ]
          },
          "metadata": {
            "tags": []
          },
          "execution_count": 101
        }
      ]
    },
    {
      "cell_type": "code",
      "metadata": {
        "colab": {
          "base_uri": "https://localhost:8080/"
        },
        "id": "zAubb59im4FT",
        "outputId": "6a71d418-dae2-4308-c73d-1066e954d25f"
      },
      "source": [
        "# check \n",
        "print('In data wiki votes : sign of post 1 = ', Wiki_votes['Sign'][1])\n",
        "print('In wiki pos : sign of post 4 = ', wiki_pos['Sign'][1])"
      ],
      "execution_count": null,
      "outputs": [
        {
          "output_type": "stream",
          "text": [
            "In data wiki votes : sign of post 1 =  -1\n",
            "In wiki pos : sign of post 4 =  1\n"
          ],
          "name": "stdout"
        }
      ]
    },
    {
      "cell_type": "markdown",
      "metadata": {
        "id": "TWA5BJMGnZWT"
      },
      "source": [
        "Here we can see that the line 4, originally containing a negative edges, has been replaced by a positvie one. Thus the transformation worked. We can check it over the all dataframe using the `unique()` function, as done for Reddit."
      ]
    },
    {
      "cell_type": "code",
      "metadata": {
        "id": "oioNwVRknZWT"
      },
      "source": [
        "print('Unique values in wiki_pos : {} '.format(wiki_pos['Sign'].unique()))"
      ],
      "execution_count": null,
      "outputs": []
    },
    {
      "cell_type": "markdown",
      "metadata": {
        "id": "3ftowkQ9m4FU"
      },
      "source": [
        "*Negative*"
      ]
    },
    {
      "cell_type": "code",
      "metadata": {
        "colab": {
          "base_uri": "https://localhost:8080/"
        },
        "id": "YbjHazpkm4FU",
        "outputId": "07de84a3-6d9a-4b9e-fbe3-d16af0efb86e"
      },
      "source": [
        "wiki_neg = Wiki_votes.copy()\n",
        "wiki_neg = wiki_neg.drop(wiki_neg[wiki_neg.Sign == '1'].index).reset_index(drop=True)\n",
        "wiki_neg = wiki_neg.drop(wiki_neg[wiki_neg.Sign == '0'].index).reset_index(drop=True)\n",
        "print('data body original .{}'.format(Wiki_votes.shape))\n",
        "print('body POS {}'.format(wiki_neg.shape))\n"
      ],
      "execution_count": null,
      "outputs": [
        {
          "output_type": "stream",
          "text": [
            "data body original .(107080, 4)\n",
            "body POS (23118, 4)\n"
          ],
          "name": "stdout"
        }
      ]
    },
    {
      "cell_type": "code",
      "metadata": {
        "colab": {
          "base_uri": "https://localhost:8080/",
          "height": 204
        },
        "id": "DujEErejm4FU",
        "outputId": "c176b850-d2e8-4a22-c087-0d7da0ecc58c"
      },
      "source": [
        "wiki_neg.head()"
      ],
      "execution_count": null,
      "outputs": [
        {
          "output_type": "execute_result",
          "data": {
            "text/html": [
              "<div>\n",
              "<style scoped>\n",
              "    .dataframe tbody tr th:only-of-type {\n",
              "        vertical-align: middle;\n",
              "    }\n",
              "\n",
              "    .dataframe tbody tr th {\n",
              "        vertical-align: top;\n",
              "    }\n",
              "\n",
              "    .dataframe thead th {\n",
              "        text-align: right;\n",
              "    }\n",
              "</style>\n",
              "<table border=\"1\" class=\"dataframe\">\n",
              "  <thead>\n",
              "    <tr style=\"text-align: right;\">\n",
              "      <th></th>\n",
              "      <th>FromNodeId</th>\n",
              "      <th>ToNodeId</th>\n",
              "      <th>Sign</th>\n",
              "      <th>Date</th>\n",
              "    </tr>\n",
              "  </thead>\n",
              "  <tbody>\n",
              "    <tr>\n",
              "      <th>0</th>\n",
              "      <td>25</td>\n",
              "      <td>30</td>\n",
              "      <td>-1</td>\n",
              "      <td>2004-09-14 16:53:00</td>\n",
              "    </tr>\n",
              "    <tr>\n",
              "      <th>1</th>\n",
              "      <td>25</td>\n",
              "      <td>6</td>\n",
              "      <td>-1</td>\n",
              "      <td>2004-09-12 03:46:00</td>\n",
              "    </tr>\n",
              "    <tr>\n",
              "      <th>2</th>\n",
              "      <td>4</td>\n",
              "      <td>8</td>\n",
              "      <td>-1</td>\n",
              "      <td>2004-09-14 22:25:00</td>\n",
              "    </tr>\n",
              "    <tr>\n",
              "      <th>3</th>\n",
              "      <td>12</td>\n",
              "      <td>8</td>\n",
              "      <td>-1</td>\n",
              "      <td>2004-09-15 06:38:00</td>\n",
              "    </tr>\n",
              "    <tr>\n",
              "      <th>4</th>\n",
              "      <td>78</td>\n",
              "      <td>8</td>\n",
              "      <td>-1</td>\n",
              "      <td>2004-09-15 19:25:00</td>\n",
              "    </tr>\n",
              "  </tbody>\n",
              "</table>\n",
              "</div>"
            ],
            "text/plain": [
              "  FromNodeId ToNodeId Sign                Date\n",
              "0         25       30   -1 2004-09-14 16:53:00\n",
              "1         25        6   -1 2004-09-12 03:46:00\n",
              "2          4        8   -1 2004-09-14 22:25:00\n",
              "3         12        8   -1 2004-09-15 06:38:00\n",
              "4         78        8   -1 2004-09-15 19:25:00"
            ]
          },
          "metadata": {
            "tags": []
          },
          "execution_count": 104
        }
      ]
    },
    {
      "cell_type": "code",
      "metadata": {
        "id": "XynfuiZom4FV"
      },
      "source": [
        "# check \n",
        "print('In data wiki votes : sign of post 1 = ', Wiki_votes['Sign'][0])\n",
        "print('In wiki pos : sign of post 1 = ', wiki_neg['Sign'][0])"
      ],
      "execution_count": null,
      "outputs": []
    },
    {
      "cell_type": "markdown",
      "metadata": {
        "id": "fx2Ud2rTnZWU"
      },
      "source": [
        "We also test the efficiency of the filtering, but on the line 1 this time, because it contains a positive edge. We see it is well removed after filtering.We can check it over the all dataframe using the `unique()` function, as done for Reddit."
      ]
    },
    {
      "cell_type": "code",
      "metadata": {
        "id": "KRu0Dx-qnZWU"
      },
      "source": [
        "print('Unique values in wiki_neg : {} '.format(wiki_neg['Sign'].unique()))"
      ],
      "execution_count": null,
      "outputs": []
    },
    {
      "cell_type": "markdown",
      "metadata": {
        "id": "1-2i-49Gm4FV"
      },
      "source": [
        "### Step 1 : Analysis of the year "
      ]
    },
    {
      "cell_type": "markdown",
      "metadata": {
        "id": "w2R1A0hWnZWV"
      },
      "source": [
        "We follow exactly the same pipeline, so we won't detail the processes as much as we did for reddit because they are the same. What it intersting here is the analysis."
      ]
    },
    {
      "cell_type": "code",
      "metadata": {
        "colab": {
          "base_uri": "https://localhost:8080/"
        },
        "id": "Daw88nrjm4FV",
        "outputId": "ff4cfbb8-4b18-4c2c-b3cb-2b55dcd3d53a"
      },
      "source": [
        "# Just to have an idea of what it'll look like. \n",
        "year_positive_wiki = wiki_pos.groupby(wiki_pos['Date'].dt.year).size()\n",
        "year_negative_wiki = wiki_neg.groupby(wiki_neg['Date'].dt.year).size()\n",
        "\n",
        "print('Year Positive', year_positive_wiki)\n",
        "print('Year Negative', year_negative_wiki)"
      ],
      "execution_count": null,
      "outputs": [
        {
          "output_type": "stream",
          "text": [
            "Year Positive Date\n",
            "2004     2569\n",
            "2005    17057\n",
            "2006    31915\n",
            "2007    31903\n",
            "2008      509\n",
            "2063        1\n",
            "2064        1\n",
            "2065        1\n",
            "2067        1\n",
            "2070        1\n",
            "2074        1\n",
            "2086        1\n",
            "2096        1\n",
            "2105        1\n",
            "dtype: int64\n",
            "Year Negative Date\n",
            "2004     748\n",
            "2005    3161\n",
            "2006    9806\n",
            "2007    9294\n",
            "2008     109\n",
            "dtype: int64\n"
          ],
          "name": "stdout"
        }
      ]
    },
    {
      "cell_type": "code",
      "metadata": {
        "colab": {
          "base_uri": "https://localhost:8080/"
        },
        "id": "5w4-0U9Em4FV",
        "outputId": "bad1638f-5782-4d5e-9ed4-d05cfb5dd148"
      },
      "source": [
        "print(wiki_pos[wiki_pos['Date'].dt.year == 2063])"
      ],
      "execution_count": null,
      "outputs": [
        {
          "output_type": "stream",
          "text": [
            "      FromNodeId ToNodeId Sign                Date\n",
            "49060       4963     5092    1 2063-01-22 01:04:00\n"
          ],
          "name": "stdout"
        }
      ]
    },
    {
      "cell_type": "markdown",
      "metadata": {
        "id": "2HW5IRYEm4FW"
      },
      "source": [
        "So here we have printed the years and the associated number of edges. As one can see, some of the year are not understandable as 2063. Thus we will filter the dataset to remove all the impossible years. We keep only the \"plausible\" one, with the condition that they are not in the future (<2020)."
      ]
    },
    {
      "cell_type": "code",
      "metadata": {
        "id": "bJkGjtSEm4FW"
      },
      "source": [
        "wiki_neg = wiki_neg.drop(wiki_neg[wiki_neg['Date'].dt.year > 2020].index).reset_index(drop=True)\n",
        "wiki_pos = wiki_pos.drop(wiki_pos[wiki_pos['Date'].dt.year > 2020].index).reset_index(drop=True)"
      ],
      "execution_count": null,
      "outputs": []
    },
    {
      "cell_type": "code",
      "metadata": {
        "colab": {
          "base_uri": "https://localhost:8080/"
        },
        "id": "72O5zS9cm4FW",
        "outputId": "b98d9074-ef25-4a33-d307-1b57589d6521"
      },
      "source": [
        "print(wiki_pos[wiki_pos['Date'].dt.year == 2063])"
      ],
      "execution_count": null,
      "outputs": [
        {
          "output_type": "stream",
          "text": [
            "Empty DataFrame\n",
            "Columns: [FromNodeId, ToNodeId, Sign, Date]\n",
            "Index: []\n"
          ],
          "name": "stdout"
        }
      ]
    },
    {
      "cell_type": "markdown",
      "metadata": {
        "id": "LujJutK-nZWW"
      },
      "source": [
        "Here we see the year 2063 was effectively removed. Now we re-print the years with the associated amounf of positive and negative edges."
      ]
    },
    {
      "cell_type": "code",
      "metadata": {
        "colab": {
          "base_uri": "https://localhost:8080/"
        },
        "id": "POeLsLk0m4FW",
        "outputId": "e92392a6-e5a9-4481-bfb0-244ac5a1001f"
      },
      "source": [
        "# Check again the year distribution \n",
        "year_positive_wiki = wiki_pos.groupby(wiki_pos['Date'].dt.year).size()\n",
        "year_negative_wiki = wiki_neg.groupby(wiki_neg['Date'].dt.year).size()\n",
        "\n",
        "print('Year Positive', year_positive_wiki)\n",
        "print('Year Negative', year_negative_wiki)"
      ],
      "execution_count": null,
      "outputs": [
        {
          "output_type": "stream",
          "text": [
            "Year Positive Date\n",
            "2004     2569\n",
            "2005    17057\n",
            "2006    31915\n",
            "2007    31903\n",
            "2008      509\n",
            "dtype: int64\n",
            "Year Negative Date\n",
            "2004     748\n",
            "2005    3161\n",
            "2006    9806\n",
            "2007    9294\n",
            "2008     109\n",
            "dtype: int64\n"
          ],
          "name": "stdout"
        }
      ]
    },
    {
      "cell_type": "markdown",
      "metadata": {
        "id": "6RppgFqHm4FX"
      },
      "source": [
        "So years represented are from 2004 to 2008. "
      ]
    },
    {
      "cell_type": "code",
      "metadata": {
        "colab": {
          "base_uri": "https://localhost:8080/",
          "height": 295
        },
        "id": "Lord-ak2m4FX",
        "outputId": "6e803cee-d101-4a2d-846d-23cc22a926e8"
      },
      "source": [
        "# Grafical representation of the edges (+, -) distribution according to the year \n",
        "N = 5 # number of years presented : 2004 --> 2008\n",
        "ind = np.arange(N)  # the x locations for the groups\n",
        "width = 0.27       # the width of the bars\n",
        "\n",
        "fig = plt.figure()\n",
        "ax = fig.add_subplot(111)\n",
        "\n",
        " \n",
        "year_pos_wiki = wiki_pos.groupby(wiki_pos['Date'].dt.year).size()\n",
        "rects1 = ax.bar(ind, year_pos_wiki, width, color='seagreen')\n",
        "plt.yscale('log')\n",
        "year_neg_wiki = wiki_neg.groupby(wiki_neg['Date'].dt.year).size()\n",
        "rects2 = ax.bar(ind+width, year_neg_wiki, width, color='tab:red')\n",
        "\n",
        "ax.set_ylabel('Number of posts')\n",
        "ax.set_xlabel('Year')\n",
        "ax.set_title('Distribution of the positive and negative posts along the years')\n",
        "ax.set_xticks(ind+width)\n",
        "ax.set_xticklabels( ('2004', '2005', '2006', '2007', '2008'))\n",
        "ax.legend((rects1[0], rects2[0]), ('positif', 'negatif'))\n",
        "\n",
        "plt.show()"
      ],
      "execution_count": null,
      "outputs": [
        {
          "output_type": "display_data",
          "data": {
            "image/png": "[encoded data removed]",
            "text/plain": [
              "<Figure size 432x288 with 1 Axes>"
            ]
          },
          "metadata": {
            "tags": [],
            "needs_background": "light"
          }
        }
      ]
    },
    {
      "cell_type": "markdown",
      "metadata": {
        "id": "HFyx2gGhm4FX"
      },
      "source": [
        "**Analysis :**\n",
        "- So here both the amount of positive votes is higher than the negative ones, but both seams to have the same evolution along the year. We have to compute the ratio to make sure. "
      ]
    },
    {
      "cell_type": "code",
      "metadata": {
        "colab": {
          "base_uri": "https://localhost:8080/",
          "height": 295
        },
        "id": "6qVqpTY3m4FX",
        "outputId": "09394be6-ed26-4e6f-fd99-88c92fd512e4"
      },
      "source": [
        "# Grafical representation of of the edges ratio (+/-*100) according to the year \n",
        "ratio_wiki = [(int(b) / int(m))*100 for b,m in zip(year_neg_wiki, year_pos_wiki)]\n",
        "N = 5\n",
        "ind = np.arange(N)  # the x locations for the groups\n",
        "width = 0.27       # the width of the bars\n",
        "\n",
        "fig = plt.figure()\n",
        "ax = fig.add_subplot(111)\n",
        "\n",
        "\n",
        "rects1 = ax.bar(ind, ratio_wiki, width, color='tab:blue', label = 'ratio neg/pos*100')\n",
        "ax.set_ylabel('Ratio(%)')\n",
        "ax.set_xlabel('Year')\n",
        "ax.set_title('WIKIPEDIA : Distribution of the ratio from January to December')\n",
        "ax.set_xticks(ind)\n",
        "ax.set_xticklabels( ('2004', '2005', '2006', '2007', '2008'))\n",
        "ax.legend()\n",
        "\n",
        "plt.show()"
      ],
      "execution_count": null,
      "outputs": [
        {
          "output_type": "display_data",
          "data": {
            "image/png": "[encoded data removed]",
            "text/plain": [
              "<Figure size 432x288 with 1 Axes>"
            ]
          },
          "metadata": {
            "tags": [],
            "needs_background": "light"
          }
        }
      ]
    },
    {
      "cell_type": "markdown",
      "metadata": {
        "id": "nuIV8-gLm4FY"
      },
      "source": [
        "**Analysis :**\n",
        "- in 2005 the ratio neg/pos*100 is smaller than in 2006 and 2007, which are quite similar. We can see on the previous graph that between 2004 and 2007 there is a huge increase of positive votes. \n",
        "- as we want to compare two different subgraphs based on year analysis, it is more intersting to take 2005 and 2007 as 2004 and 2007 have quite the same ratio (thus 2007 is an enlargement of the situation in 2004). \n",
        "- 2008 has a intermediate ratio\n",
        "\n",
        "**Ccl :** In order to assess the impact of the **Year** on the structure of the network, we can compare  3 subgraphs : \n",
        "> - from 2005 (representative of the first group - low ratio- )\n",
        "> - from 2007 (representative of the second group, -high ratio-)\n",
        "> - from 2008 (representative of the third group, -middle ratio-)"
      ]
    },
    {
      "cell_type": "markdown",
      "metadata": {
        "id": "E5ZOHqM5m4FY"
      },
      "source": [
        "### Step 2 : Analysis of the month \n",
        "\n",
        "Here are the amount of positive and edges according to the month."
      ]
    },
    {
      "cell_type": "code",
      "metadata": {
        "colab": {
          "base_uri": "https://localhost:8080/"
        },
        "id": "aXkP6BK9m4FY",
        "outputId": "70ba6342-df39-4238-c2d0-4b62051bb9df"
      },
      "source": [
        "month_positive_wiki = wiki_pos.groupby(wiki_pos['Date'].dt.month).size()\n",
        "month_negative_wiki = wiki_neg.groupby(wiki_neg['Date'].dt.month).size()\n",
        "print('Month Positive', month_positive_wiki)\n",
        "print('Month Negative', month_negative_wiki)"
      ],
      "execution_count": null,
      "outputs": [
        {
          "output_type": "stream",
          "text": [
            "Month Positive Date\n",
            "1     6610\n",
            "2     5815\n",
            "3     6766\n",
            "4     6477\n",
            "5     7760\n",
            "6     6893\n",
            "7     6438\n",
            "8     5989\n",
            "9     6353\n",
            "10    8610\n",
            "11    8748\n",
            "12    7494\n",
            "dtype: int64\n",
            "Month Negative Date\n",
            "1     2006\n",
            "2     1605\n",
            "3     1894\n",
            "4     1857\n",
            "5     2272\n",
            "6     1830\n",
            "7     2134\n",
            "8     1818\n",
            "9     1817\n",
            "10    2279\n",
            "11    1602\n",
            "12    2004\n",
            "dtype: int64\n"
          ],
          "name": "stdout"
        }
      ]
    },
    {
      "cell_type": "code",
      "metadata": {
        "colab": {
          "base_uri": "https://localhost:8080/",
          "height": 350
        },
        "id": "q5vfW5sjm4FY",
        "outputId": "d0f41b16-adc2-42a5-da6c-8234f9c179a8"
      },
      "source": [
        "# Grafical representation of the edges (+, -) distribution according to the month  \n",
        "N = 12 # number of month \n",
        "ind = np.arange(N)  # the x locations for the groups\n",
        "width = 0.27       # the width of the bars\n",
        "\n",
        "fig = plt.figure(figsize=(10,5))\n",
        "ax = fig.add_subplot(111)\n",
        "\n",
        " \n",
        "month_pos_wiki = wiki_pos.groupby(wiki_pos['Date'].dt.month).size()\n",
        "rects1 = ax.bar(ind, month_pos_wiki, width, color='seagreen')\n",
        "month_neg_wiki = wiki_neg.groupby(wiki_neg['Date'].dt.month).size()\n",
        "rects2 = ax.bar(ind+width, month_neg_wiki, width, color='tab:red')\n",
        "\n",
        "ax.set_ylabel('Number of posts')\n",
        "ax.set_xlabel('Month')\n",
        "ax.set_title('WIKIPEDIA : Distribution of the positive and negative posts from January to December')\n",
        "ax.set_xticks(ind+width)\n",
        "ax.set_xticklabels( ('01', '02', '03', '04', '05', '06', '07', '08', '09', '10', '11', '12'))\n",
        "ax.legend( (rects1[0], rects2[0]), ('positive', 'negative') )\n",
        "\n",
        "plt.show()"
      ],
      "execution_count": null,
      "outputs": [
        {
          "output_type": "display_data",
          "data": {
            "image/png": "[encoded data removed]",
            "text/plain": [
              "<Figure size 720x360 with 1 Axes>"
            ]
          },
          "metadata": {
            "tags": [],
            "needs_background": "light"
          }
        }
      ]
    },
    {
      "cell_type": "markdown",
      "metadata": {
        "id": "b1FkjFsjm4FZ"
      },
      "source": [
        "**Analysis :**\n",
        "- because of the \"wave\" profile, it is hard to see if pos and neg have the same trend\n",
        "- it is also hard to say which month has the higher number of edges in total\n",
        "\n",
        "We need to compute the ratio."
      ]
    },
    {
      "cell_type": "code",
      "metadata": {
        "colab": {
          "base_uri": "https://localhost:8080/",
          "height": 350
        },
        "id": "FokRsKZQm4FZ",
        "outputId": "08137662-10c5-419b-c69c-57d5ea1f9232"
      },
      "source": [
        "# Grafical representation of the edges ratio(-/+*100) distribution according to the year \n",
        "ratio_w = [(int(b) / int(m))*100 for b,m in zip(month_neg_wiki, month_pos_wiki)]\n",
        "N = 12 #number of months\n",
        "ind = np.arange(N)  # the x locations for the groups\n",
        "width = 0.27       # the width of the bars\n",
        "\n",
        "fig = plt.figure(figsize=(10,5))\n",
        "ax = fig.add_subplot(111)\n",
        "\n",
        "\n",
        "rects1 = ax.bar(ind, ratio_w, width, color='tab:blue', label = 'ratio neg/pos*100')\n",
        "ax.set_ylabel('ratio')\n",
        "ax.set_xlabel('month')\n",
        "ax.set_title('WIKIPEDIA : Distribution of the ratio from January to December')\n",
        "ax.set_xticks(ind)\n",
        "ax.set_xticklabels( ('01', '02', '03', '04', '05', '06', '07', '08', '09', '10', '11', '12'))\n",
        "ax.legend()\n",
        "\n",
        "plt.show()"
      ],
      "execution_count": null,
      "outputs": [
        {
          "output_type": "display_data",
          "data": {
            "image/png": "[encoded data removed]",
            "text/plain": [
              "<Figure size 720x360 with 1 Axes>"
            ]
          },
          "metadata": {
            "tags": [],
            "needs_background": "light"
          }
        }
      ]
    },
    {
      "cell_type": "markdown",
      "metadata": {
        "id": "quzhqGQkm4Fa"
      },
      "source": [
        "**Analysis :**\n",
        "- we can identify three parts : small ratio : month 11, high ratio : month 7, middle ratio : month 1-2-3-4-5-6-8-9-10-12\n",
        "- As done previously, we have to find the more representative month for middle ratio"
      ]
    },
    {
      "cell_type": "code",
      "metadata": {
        "colab": {
          "base_uri": "https://localhost:8080/"
        },
        "id": "Bq4qCz2pm4Fa",
        "outputId": "42d72ec0-61d4-4b8c-eb06-bac3704f25b6"
      },
      "source": [
        "# ratio middle\n",
        "mean_middle_pos = statistics.mean([month_pos_wiki.iloc[0], month_pos_wiki.iloc[1], month_pos_wiki.iloc[2], month_pos_wiki.iloc[3], month_pos_wiki.iloc[4], month_pos_wiki.iloc[5], month_pos_wiki.iloc[7], month_pos_wiki.iloc[10], month_pos_wiki.iloc[11]])\n",
        "print('The mean count of posts from jan. to apr. is ', mean_middle_pos)\n",
        "print('The difference between number of counts and mean for march and april is respectively: \\n',[abs(x - mean_middle_pos) for x in[month_pos_wiki.iloc[0], month_pos_wiki.iloc[1], month_pos_wiki.iloc[2], month_pos_wiki.iloc[3], month_pos_wiki.iloc[4], month_pos_wiki.iloc[5], month_pos_wiki.iloc[7], month_pos_wiki.iloc[10], month_pos_wiki.iloc[11]]])"
      ],
      "execution_count": null,
      "outputs": [
        {
          "output_type": "stream",
          "text": [
            "The mean count of posts from jan. to apr. is  6950\n",
            "The difference between number of counts and mean for march and april is respectively: \n",
            " [340, 1135, 184, 473, 810, 57, 961, 1798, 544]\n"
          ],
          "name": "stdout"
        }
      ]
    },
    {
      "cell_type": "markdown",
      "metadata": {
        "id": "0Gf-al34m4Fa"
      },
      "source": [
        "- more representative for the middle ratio is **june** (06) because the difference with the average value is the smaller. "
      ]
    },
    {
      "cell_type": "markdown",
      "metadata": {
        "id": "HypzhNtjm4Fb"
      },
      "source": [
        "**Ccl :** In order to assess the impact of the **MONTH** on the structure of the network, we can compare  3 subgraphs : \n",
        "> - from novembre (11) (representative of the first group - low ratio < 20- )\n",
        "> - from july (07) (representative of the second group, -high ratio > 30-)\n",
        "> - from june (06) (representative of the third group, -middle ratio around 25-)"
      ]
    },
    {
      "cell_type": "markdown",
      "metadata": {
        "id": "4OuJDIJGm4Fb"
      },
      "source": [
        "### Step 3 :  Analysis of the day \n",
        "Now we have a look on the day's trend. Here is presented the amount of positive and negatives edges according to the day of the month."
      ]
    },
    {
      "cell_type": "code",
      "metadata": {
        "colab": {
          "base_uri": "https://localhost:8080/"
        },
        "id": "H7cP38dBm4Fb",
        "outputId": "f55e6da6-995f-4a64-efd2-ab8c67c47ba6"
      },
      "source": [
        "day_positive_wiki = wiki_pos.groupby(wiki_pos['Date'].dt.day).size()\n",
        "day_negative_wiki = wiki_neg.groupby(wiki_neg['Date'].dt.day).size()\n",
        "print('Month Positive', day_positive_wiki)\n",
        "print('Month Negative', day_negative_wiki)"
      ],
      "execution_count": null,
      "outputs": [
        {
          "output_type": "stream",
          "text": [
            "Month Positive Date\n",
            "1     3056\n",
            "2     2906\n",
            "3     2962\n",
            "4     3107\n",
            "5     3325\n",
            "6     2930\n",
            "7     2987\n",
            "8     2934\n",
            "9     2801\n",
            "10    3194\n",
            "11    2921\n",
            "12    2772\n",
            "13    2777\n",
            "14    2790\n",
            "15    2690\n",
            "16    2643\n",
            "17    2521\n",
            "18    2509\n",
            "19    2418\n",
            "20    2569\n",
            "21    2486\n",
            "22    2686\n",
            "23    2742\n",
            "24    2754\n",
            "25    2343\n",
            "26    2504\n",
            "27    2392\n",
            "28    2669\n",
            "29    2252\n",
            "30    2479\n",
            "31    1834\n",
            "dtype: int64\n",
            "Month Negative Date\n",
            "1     845\n",
            "2     915\n",
            "3     851\n",
            "4     825\n",
            "5     789\n",
            "6     860\n",
            "7     800\n",
            "8     808\n",
            "9     842\n",
            "10    795\n",
            "11    701\n",
            "12    693\n",
            "13    761\n",
            "14    621\n",
            "15    608\n",
            "16    732\n",
            "17    667\n",
            "18    699\n",
            "19    634\n",
            "20    643\n",
            "21    726\n",
            "22    763\n",
            "23    854\n",
            "24    755\n",
            "25    650\n",
            "26    672\n",
            "27    696\n",
            "28    733\n",
            "29    839\n",
            "30    781\n",
            "31    560\n",
            "dtype: int64\n"
          ],
          "name": "stdout"
        }
      ]
    },
    {
      "cell_type": "code",
      "metadata": {
        "colab": {
          "base_uri": "https://localhost:8080/",
          "height": 350
        },
        "id": "EnmHlSePm4Fb",
        "outputId": "1d9d16c3-f10c-4879-dd79-eb865a9c2928"
      },
      "source": [
        "# Grafical representation of the edges (+, -) distribution according to the day of the month \n",
        "\n",
        "N = 31#number of days in a month\n",
        "ind = np.arange(N)  # the x locations for the groups\n",
        "width = 0.27       # the width of the bars\n",
        "\n",
        "fig = plt.figure(figsize=(10,5))\n",
        "ax = fig.add_subplot(111)\n",
        "\n",
        " \n",
        "day_pos_wiki = wiki_pos.groupby(wiki_pos['Date'].dt.day).size()\n",
        "rects1 = ax.bar(ind, day_pos_wiki, width, color='seagreen')\n",
        "day_neg_wiki = wiki_neg.groupby(wiki_neg['Date'].dt.day).size()\n",
        "rects2 = ax.bar(ind+width, day_neg_wiki, width, color='tab:red')\n",
        "\n",
        "ax.set_ylabel('Number of posts')\n",
        "ax.set_xlabel('Day')\n",
        "ax.set_title('WIKIPEDIA : Distribution of the positive and negative posts along the days of a month')\n",
        "ax.set_xticks(ind+width)\n",
        "ax.set_xticklabels( ('1', '2', '3', '4', '5', '6', '7', '8', '9', '10', '11', '12', '13', '14', '15', '16', '17', '18', '19', '20', '21', '22', '23', '24', '25', '26' ,'27', '28', '29', '30', '31'))\n",
        "ax.legend((rects1[0], rects2[0]), ('positive', 'negative'))\n",
        "\n",
        "plt.show()"
      ],
      "execution_count": null,
      "outputs": [
        {
          "output_type": "display_data",
          "data": {
            "image/png": "[encoded data removed]",
            "text/plain": [
              "<Figure size 720x360 with 1 Axes>"
            ]
          },
          "metadata": {
            "tags": [],
            "needs_background": "light"
          }
        }
      ]
    },
    {
      "cell_type": "markdown",
      "metadata": {
        "id": "5XxgPZWRm4Fc"
      },
      "source": [
        "**Analysis :**\n",
        "- compared to all the other graph, color red very present, it means that the ratio will probably be higher with this observation according to the day of the month \n",
        "- the sudden decrease for 31 is, as for Reddit, due to the fact that this day is not present in every month of the year\n",
        "\n",
        "We need to compute the ration to see overall trend"
      ]
    },
    {
      "cell_type": "code",
      "metadata": {
        "colab": {
          "base_uri": "https://localhost:8080/",
          "height": 350
        },
        "id": "1BwghgXbm4Ff",
        "outputId": "d56eb9ff-43bf-4a04-a3a9-8b485cfdfe4a"
      },
      "source": [
        "# Grafical representation of the edges ratio(-/+*100) distribution according to the year \n",
        "\n",
        "ratio_w = [(int(b) / int(m))*100 for b,m in zip(day_neg_wiki, day_pos_wiki)]\n",
        "N = 31\n",
        "ind = np.arange(N)  # the x locations for the groups\n",
        "width = 0.27       # the width of the bars\n",
        "\n",
        "fig = plt.figure(figsize=(10,5))\n",
        "ax = fig.add_subplot(111)\n",
        "\n",
        "rects1 = ax.bar(ind, ratio_w, width, color='tab:blue', label = 'ratio neg/pos*100')\n",
        "\n",
        "ax.set_ylabel('ratio(%)')\n",
        "ax.set_xlabel('Day')\n",
        "ax.set_title('WIKIPEDIA : Distribution ratio  along the days of a month')\n",
        "ax.set_xticks(ind)\n",
        "ax.set_xticklabels( ('1', '2', '3', '4', '5', '6', '7', '8', '9', '10', '11', '12', '13', '14', '15', '16', '17', '18', '19', '20', '21', '22', '23', '24', '25', '26' ,'27', '28', '29', '30', '31'))\n",
        "ax.legend()\n",
        "plt.show()"
      ],
      "execution_count": null,
      "outputs": [
        {
          "output_type": "display_data",
          "data": {
            "image/png": "[encoded data removed]",
            "text/plain": [
              "<Figure size 720x360 with 1 Axes>"
            ]
          },
          "metadata": {
            "tags": [],
            "needs_background": "light"
          }
        }
      ]
    },
    {
      "cell_type": "markdown",
      "metadata": {
        "id": "UYlvC1qum4Fg"
      },
      "source": [
        "**Analysis :**\n",
        "- as for Reddit, the approach look at the day in a month not very clear, and it appears quite hard and arbitrarly to define subgraphs from it.\n",
        "\n",
        "So we focus on day of the week\n",
        "\n",
        "#### Step 3 : cont. Analysis of the dat of the week\n",
        "\n",
        "Here is presented the amount of positive and negative according to the day of the week. As for Reddit, 0 corresponds to monday and 6 to sunday."
      ]
    },
    {
      "cell_type": "code",
      "metadata": {
        "colab": {
          "base_uri": "https://localhost:8080/"
        },
        "id": "WA8Q2ylRm4Fg",
        "outputId": "939c5e79-023a-46db-fe1a-3456b039d82d"
      },
      "source": [
        "day_positive_wiki = wiki_pos.groupby(wiki_pos['Date'].dt.weekday).size()\n",
        "day_negative_wiki = wiki_neg.groupby(wiki_neg['Date'].dt.weekday).size()\n",
        "print('Month Positive', day_positive_wiki)\n",
        "print('Month Negative', day_negative_wiki)"
      ],
      "execution_count": null,
      "outputs": [
        {
          "output_type": "stream",
          "text": [
            "Month Positive Date\n",
            "0    12181\n",
            "1    13259\n",
            "2    12409\n",
            "3    12257\n",
            "4    12252\n",
            "5    11081\n",
            "6    10514\n",
            "dtype: int64\n",
            "Month Negative Date\n",
            "0    3203\n",
            "1    3513\n",
            "2    3353\n",
            "3    3488\n",
            "4    3602\n",
            "5    2827\n",
            "6    3132\n",
            "dtype: int64\n"
          ],
          "name": "stdout"
        }
      ]
    },
    {
      "cell_type": "code",
      "metadata": {
        "colab": {
          "base_uri": "https://localhost:8080/",
          "height": 295
        },
        "id": "HNhCCi3tm4Fg",
        "outputId": "4f896827-4ba3-4b13-b31d-82c05c0345b0"
      },
      "source": [
        "# Grafical representation of the edges (+, -) distribution according to the day of the week \n",
        "\n",
        "N = 7 #number of days in a week\n",
        "ind = np.arange(N)  # the x locations for the groups\n",
        "width = 0.27       # the width of the bars\n",
        "\n",
        "fig = plt.figure()\n",
        "ax = fig.add_subplot(111)\n",
        "\n",
        " \n",
        "dayw_pos_wiki = wiki_pos.groupby(wiki_pos['Date'].dt.weekday).size()\n",
        "rects1 = ax.bar(ind, dayw_pos_wiki, width, color='seagreen')\n",
        "dayw_neg_wiki = wiki_neg.groupby(wiki_neg['Date'].dt.weekday).size()\n",
        "rects2 = ax.bar(ind+width, dayw_neg_wiki, width, color='tab:red')\n",
        "\n",
        "ax.set_ylabel('Number of posts')\n",
        "ax.set_xlabel('Day')\n",
        "ax.set_title('WIKIPEDIA : Distribution of the positive and negative posts along the days of a week')\n",
        "ax.set_xticks(ind+width)\n",
        "ax.set_xticklabels( ('mon.', 'tue.', 'wed.', 'thu.', 'fri.', 'sat.', 'sun.'))\n",
        "ax.legend((rects1[0], rects2[0]), ('positive', 'negative'))\n",
        "\n",
        "plt.show()"
      ],
      "execution_count": null,
      "outputs": [
        {
          "output_type": "display_data",
          "data": {
            "image/png": "[encoded data removed]",
            "text/plain": [
              "<Figure size 432x288 with 1 Axes>"
            ]
          },
          "metadata": {
            "tags": [],
            "needs_background": "light"
          }
        }
      ]
    },
    {
      "cell_type": "markdown",
      "metadata": {
        "id": "Uy-FCoj_m4Fh"
      },
      "source": [
        "**Analysis :**\n",
        "- It is quite hard here to identify a global trend. It would be a guess, and that is not good. We could see a small decrease for the amount of positive edges along the week but it is hard to see anything for the negative ones\n",
        "- negative are, like for the day of the month, quite a lot present compared to other graphs\n",
        "\n",
        "So we have to compute the ratio.\n"
      ]
    },
    {
      "cell_type": "code",
      "metadata": {
        "colab": {
          "base_uri": "https://localhost:8080/",
          "height": 295
        },
        "id": "xnZ6zYFXm4Fh",
        "outputId": "2082ac6c-088e-4f4d-8f61-8cc558cadcca"
      },
      "source": [
        "# Grafical representation of the edges ratio (-/+*100) distribution according to the day of the week \n",
        "\n",
        "ratio_w = [(int(b) / int(m))*100 for b,m in zip(dayw_neg_wiki, dayw_pos_wiki)]\n",
        "N = 7\n",
        "ind = np.arange(N)  # the x locations for the groups\n",
        "width = 0.27       # the width of the bars\n",
        "\n",
        "fig = plt.figure()\n",
        "ax = fig.add_subplot(111)\n",
        "\n",
        "rects1 = ax.bar(ind, ratio_w, width, color='tab:blue', label = 'ratio neg/pos*100')\n",
        "\n",
        "ax.set_ylabel('ratio')\n",
        "ax.set_xlabel('Day of the week')\n",
        "ax.set_title('WIKIPEDIA : Distribution ratio  along the days of a week')\n",
        "ax.set_xticks(ind)\n",
        "ax.set_xticklabels( ('mon.', 'tue.', 'wed.', 'thu.', 'fri.', 'sat.', 'sun.'))\n",
        "ax.legend()\n",
        "plt.show()"
      ],
      "execution_count": null,
      "outputs": [
        {
          "output_type": "display_data",
          "data": {
            "image/png": "[encoded data removed]",
            "text/plain": [
              "<Figure size 432x288 with 1 Axes>"
            ]
          },
          "metadata": {
            "tags": [],
            "needs_background": "light"
          }
        }
      ]
    },
    {
      "cell_type": "markdown",
      "metadata": {
        "id": "3j_qcqImm4Fh"
      },
      "source": [
        "**Analysis :**\n",
        "- increase of the ratio during the work week (monday to friday) and difference from saturday to sunday. Saturday looks like the beginning of the week while sunday looks like friday\n",
        "\n",
        "So we will focus on the extrem : monday and friday"
      ]
    },
    {
      "cell_type": "markdown",
      "metadata": {
        "id": "KMNe128Om4Fi"
      },
      "source": [
        "**Ccl :** In order to assess the impact of the **Day** on the structure of the network, we can compare  2 subgraphs : \n",
        "> - from monday \n",
        "> - from friday"
      ]
    },
    {
      "cell_type": "markdown",
      "metadata": {
        "id": "lOIkd2vcm4Fi"
      },
      "source": [
        "### Step 4 : Analysis of the hour \n",
        "\n",
        "Here are presented the amount of positive and negative edges according to the hour of the day. Convention 00 is mid-night."
      ]
    },
    {
      "cell_type": "code",
      "metadata": {
        "colab": {
          "base_uri": "https://localhost:8080/"
        },
        "id": "suRGFP_km4Fi",
        "outputId": "77e361a5-b41d-4c26-c8ed-8a12b2c9c4e0"
      },
      "source": [
        "hour_positive_wiki = wiki_pos.groupby(wiki_pos['Date'].dt.hour).size()\n",
        "hour_negative_wiki = wiki_neg.groupby(wiki_neg['Date'].dt.hour).size()\n",
        "print('Month Positive', hour_positive_wiki)\n",
        "print('Month Negative', hour_negative_wiki)"
      ],
      "execution_count": null,
      "outputs": [
        {
          "output_type": "stream",
          "text": [
            "Month Positive Date\n",
            "0     4784\n",
            "1     4417\n",
            "2     4196\n",
            "3     3879\n",
            "4     3597\n",
            "5     3196\n",
            "6     2821\n",
            "7     2507\n",
            "8     2400\n",
            "9     2073\n",
            "10    2290\n",
            "11    2421\n",
            "12    2539\n",
            "13    2877\n",
            "14    3215\n",
            "15    3585\n",
            "16    3784\n",
            "17    3978\n",
            "18    4067\n",
            "19    3939\n",
            "20    4144\n",
            "21    4574\n",
            "22    4313\n",
            "23    4357\n",
            "dtype: int64\n",
            "Month Negative Date\n",
            "0     1273\n",
            "1     1173\n",
            "2     1149\n",
            "3     1081\n",
            "4      952\n",
            "5      913\n",
            "6      767\n",
            "7      713\n",
            "8      595\n",
            "9      544\n",
            "10     555\n",
            "11     548\n",
            "12     686\n",
            "13     778\n",
            "14     887\n",
            "15    1040\n",
            "16    1047\n",
            "17    1157\n",
            "18    1183\n",
            "19    1093\n",
            "20    1175\n",
            "21    1270\n",
            "22    1302\n",
            "23    1237\n",
            "dtype: int64\n"
          ],
          "name": "stdout"
        }
      ]
    },
    {
      "cell_type": "code",
      "metadata": {
        "colab": {
          "base_uri": "https://localhost:8080/",
          "height": 350
        },
        "id": "A9jNqTd0m4Fi",
        "outputId": "3a09edbe-d3fd-4bcb-d359-c6c1b78484ea"
      },
      "source": [
        "# Grafical representation of the edges (+, -) distribution according to the hour of the day \n",
        "\n",
        "N = 24\n",
        "ind = np.arange(N)  # the x locations for the groups\n",
        "width = 0.27       # the width of the bars\n",
        "\n",
        "fig = plt.figure(figsize=(10,5))\n",
        "ax = fig.add_subplot(111)\n",
        "\n",
        "hour_pos_wiki = wiki_pos.groupby(wiki_pos['Date'].dt.hour).size()\n",
        "rects1 = ax.bar(ind, hour_pos_wiki, width, color='seagreen')\n",
        "hour_neg_wiki = wiki_neg.groupby(wiki_neg['Date'].dt.hour).size()\n",
        "rects2 = ax.bar(ind+width, hour_neg_wiki, width, color='tab:red')\n",
        "\n",
        "ax.set_ylabel('Number of posts')\n",
        "ax.set_xlabel('Hour of the day')\n",
        "ax.set_title('Distribution of the positive and negative posts along the hours of a day')\n",
        "ax.set_xticks(ind+width)\n",
        "ax.set_xticklabels(('00', '01', '02', '03', '04', '05', '06', '07', '08', '09', '10', '11', '12', '13', '14', '15', '16', '17', '18', '19', '20', '21', '22', '23'))\n",
        "ax.legend((rects1[0], rects2[0]), ('positive', 'negative'))\n",
        "\n",
        "plt.show()"
      ],
      "execution_count": null,
      "outputs": [
        {
          "output_type": "display_data",
          "data": {
            "image/png": "[encoded data removed]",
            "text/plain": [
              "<Figure size 720x360 with 1 Axes>"
            ]
          },
          "metadata": {
            "tags": [],
            "needs_background": "light"
          }
        }
      ]
    },
    {
      "cell_type": "markdown",
      "metadata": {
        "id": "MdUtQgAYm4Fi"
      },
      "source": [
        "**Analysis :**\n",
        "- crazy trend :) It appears to be the reverse ot the Reddit one.\n",
        "- It is to have very lot edges (both positive and negative) at morning - mid day then during night ... (may be due to some jetlag somehow? should do an analysis on geographic caracteristics of the node -which we don't have- to check)\n",
        "- both positive and negative seams to have the same trend, but positive seams to be more marked. \n",
        "\n",
        "We need to compute the ratio to check."
      ]
    },
    {
      "cell_type": "code",
      "metadata": {
        "colab": {
          "base_uri": "https://localhost:8080/",
          "height": 350
        },
        "id": "WhFjL_WHm4Fj",
        "outputId": "71ad69e5-614e-4115-8930-f5e179b942dd"
      },
      "source": [
        "# Grafical representation of the edges ratio (-/+*100) distribution according to the year \n",
        "\n",
        "ratio_ww = [(int(b) / int(m))*100 for b,m in zip(hour_neg_wiki, hour_pos_wiki)]\n",
        "N = 24\n",
        "ind = np.arange(N)  # the x locations for the groups\n",
        "width = 0.27       # the width of the bars\n",
        "\n",
        "fig = plt.figure(figsize=(10,5))\n",
        "ax = fig.add_subplot(111)\n",
        "\n",
        "rects1 = ax.bar(ind, ratio_ww, width, color='tab:blue')\n",
        "\n",
        "ax.set_ylabel('ratio')\n",
        "ax.set_xlabel('hours of a day')\n",
        "ax.set_title('WIKIPEDIA : Distribution ratio  along the hours of a day')\n",
        "ax.set_xticks(ind)\n",
        "ax.set_xticklabels(('00', '01', '02', '03', '04', '05', '06', '07', '08', '09', '10', '11', '12', '13', '14', '15', '16', '17', '18', '19', '20', '21', '22', '23'))\n",
        "ax.legend('ratio')\n",
        "plt.show()"
      ],
      "execution_count": null,
      "outputs": [
        {
          "output_type": "display_data",
          "data": {
            "image/png": "[encoded data removed]",
            "text/plain": [
              "<Figure size 720x360 with 1 Axes>"
            ]
          },
          "metadata": {
            "tags": [],
            "needs_background": "light"
          }
        }
      ]
    },
    {
      "cell_type": "markdown",
      "metadata": {
        "id": "wnfZgCI8m4Fj"
      },
      "source": [
        "**Analysis :**\n",
        "- kind of loosing the previous trend : so both positve and negative where behaving quite similar\n",
        "- here 2 parts : low ratio (around morning : 8, 10, 11 and then middle one (00, 01, 02, 03, 04, 05, 06, 07, 09, 12, 13, 14, 15, 16, 17, 18, 19, 20, 21, 22, 23)\n",
        "\n",
        "So we need to find the hour the more relevent for the both parts."
      ]
    },
    {
      "cell_type": "code",
      "metadata": {
        "colab": {
          "base_uri": "https://localhost:8080/"
        },
        "id": "EOX4ckS1m4Fj",
        "outputId": "8f300e2e-ee2d-48ad-8b67-d7423213bbc5"
      },
      "source": [
        "# ratio low \n",
        "mean_rlow_pos = statistics.mean([hour_pos.iloc[8], hour_pos.iloc[10], hour_pos.iloc[11]])\n",
        "print('The mean count of posts from jan. to apr. is ', mean_rlow_pos)\n",
        "print('The difference between number of counts and mean for march and april is respectively: \\n',[abs(x - mean_rlow_pos) for x in[hour_pos.iloc[8], hour_pos.iloc[10], hour_pos.iloc[11]]])\n"
      ],
      "execution_count": null,
      "outputs": [
        {
          "output_type": "stream",
          "text": [
            "The mean count of posts from jan. to apr. is  14149\n",
            "The difference between number of counts and mean for march and april is respectively: \n",
            " [777, 40, 738]\n"
          ],
          "name": "stdout"
        }
      ]
    },
    {
      "cell_type": "markdown",
      "metadata": {
        "id": "Wses6bHnm4Fk"
      },
      "source": [
        "- **10h** is representative of low ratio"
      ]
    },
    {
      "cell_type": "code",
      "metadata": {
        "colab": {
          "base_uri": "https://localhost:8080/"
        },
        "id": "qvE9gdHnm4Fk",
        "outputId": "0b7846d6-a4ef-4223-d868-baa5abc73856"
      },
      "source": [
        "# ratio middle \n",
        "mean_rmiddle_pos = statistics.mean([hour_pos.iloc[0], hour_pos.iloc[1], hour_pos.iloc[2], hour_pos.iloc[3], hour_pos.iloc[4], hour_pos.iloc[5], hour_pos.iloc[6], hour_pos.iloc[7], hour_pos.iloc[9], hour_pos.iloc[12], hour_pos.iloc[13], hour_pos.iloc[14], hour_pos.iloc[15], hour_pos.iloc[16], hour_pos.iloc[17], hour_pos.iloc[18], hour_pos.iloc[19], hour_pos.iloc[20], hour_pos.iloc[21], hour_pos.iloc[22], hour_pos.iloc[23]])\n",
        "print('The mean count of posts from jan. to apr. is ', mean_rmiddle_pos)\n",
        "print('The difference between number of counts and mean for march and april is respectively: \\n',[abs(x - mean_rmiddle_pos) for x in[hour_pos.iloc[0], hour_pos.iloc[1], hour_pos.iloc[2], hour_pos.iloc[3], hour_pos.iloc[4], hour_pos.iloc[5], hour_pos.iloc[6], hour_pos.iloc[7], hour_pos.iloc[9], hour_pos.iloc[12], hour_pos.iloc[13], hour_pos.iloc[14], hour_pos.iloc[15], hour_pos.iloc[16], hour_pos.iloc[17], hour_pos.iloc[18], hour_pos.iloc[19], hour_pos.iloc[20], hour_pos.iloc[21], hour_pos.iloc[22], hour_pos.iloc[23]]])\n"
      ],
      "execution_count": null,
      "outputs": [
        {
          "output_type": "stream",
          "text": [
            "The mean count of posts from jan. to apr. is  10621\n",
            "The difference between number of counts and mean for march and april is respectively: \n",
            " [3532, 4576, 4987, 4521, 3754, 2802, 683, 1448, 3805, 3950, 3996, 4373, 3528, 2646, 2546, 1797, 1268, 304, 721, 1687, 2396]\n"
          ],
          "name": "stdout"
        }
      ]
    },
    {
      "cell_type": "markdown",
      "metadata": {
        "id": "oxNRC754m4Fl"
      },
      "source": [
        "- **6h** is representative of the middle ratio"
      ]
    },
    {
      "cell_type": "markdown",
      "metadata": {
        "id": "5Miotlklm4Fl"
      },
      "source": [
        "**Ccl :** In order to assess the impact of the **hour** on the structure of the network, we can compare  2 subgraphs : \n",
        "> - from 10h : low ratio\n",
        "> - from 6h : middle ratio"
      ]
    },
    {
      "cell_type": "markdown",
      "metadata": {
        "id": "L2MIgE0R-q1m"
      },
      "source": [
        "### 2.1.2.2] Structural analysis on wikipedia subgraphs\n",
        "\n",
        "Then let’s have a look on the wikipedia dataset."
      ]
    },
    {
      "cell_type": "markdown",
      "metadata": {
        "id": "HpADYctE-0fi"
      },
      "source": [
        "#### Wikipedia - Year \n",
        "\n",
        "Three subgraphs have been computed from this dataset according to the year global trend. \n",
        "- One from 2005, representing the ratio 15-20 group,\n",
        "- one from 2007 representing the 25-30 ratio group \n",
        "- one from 2008 representing the 20-25 ratio group.\n",
        "\n",
        "Here are presented the parameters for the centrality analysis : so degree, closeness, local clustering coefficient and of course centrality degree. As these parameters are calculated for a single node, we are presenting here the min, max and average in the total network."
      ]
    },
    {
      "cell_type": "code",
      "metadata": {
        "colab": {
          "base_uri": "https://localhost:8080/",
          "height": 419
        },
        "id": "L-4BFRj0wj8m",
        "outputId": "dfd0af4e-a701-4ff3-c01c-8cc89c4e2714"
      },
      "source": [
        "Wiki_votes"
      ],
      "execution_count": null,
      "outputs": [
        {
          "output_type": "execute_result",
          "data": {
            "text/html": [
              "<div>\n",
              "<style scoped>\n",
              "    .dataframe tbody tr th:only-of-type {\n",
              "        vertical-align: middle;\n",
              "    }\n",
              "\n",
              "    .dataframe tbody tr th {\n",
              "        vertical-align: top;\n",
              "    }\n",
              "\n",
              "    .dataframe thead th {\n",
              "        text-align: right;\n",
              "    }\n",
              "</style>\n",
              "<table border=\"1\" class=\"dataframe\">\n",
              "  <thead>\n",
              "    <tr style=\"text-align: right;\">\n",
              "      <th></th>\n",
              "      <th>FromNodeId</th>\n",
              "      <th>ToNodeId</th>\n",
              "      <th>Sign</th>\n",
              "      <th>Date</th>\n",
              "      <th>Votes</th>\n",
              "    </tr>\n",
              "  </thead>\n",
              "  <tbody>\n",
              "    <tr>\n",
              "      <th>0</th>\n",
              "      <td>3</td>\n",
              "      <td>30</td>\n",
              "      <td>1</td>\n",
              "      <td>2004-09-14 16:26:00</td>\n",
              "      <td>23</td>\n",
              "    </tr>\n",
              "    <tr>\n",
              "      <th>1</th>\n",
              "      <td>25</td>\n",
              "      <td>30</td>\n",
              "      <td>-1</td>\n",
              "      <td>2004-09-14 16:53:00</td>\n",
              "      <td>100</td>\n",
              "    </tr>\n",
              "    <tr>\n",
              "      <th>2</th>\n",
              "      <td>4</td>\n",
              "      <td>30</td>\n",
              "      <td>1</td>\n",
              "      <td>2004-09-14 17:08:00</td>\n",
              "      <td>32</td>\n",
              "    </tr>\n",
              "    <tr>\n",
              "      <th>3</th>\n",
              "      <td>5</td>\n",
              "      <td>30</td>\n",
              "      <td>1</td>\n",
              "      <td>2004-09-14 17:37:00</td>\n",
              "      <td>23</td>\n",
              "    </tr>\n",
              "    <tr>\n",
              "      <th>4</th>\n",
              "      <td>6</td>\n",
              "      <td>30</td>\n",
              "      <td>1</td>\n",
              "      <td>2004-09-14 19:28:00</td>\n",
              "      <td>317</td>\n",
              "    </tr>\n",
              "    <tr>\n",
              "      <th>...</th>\n",
              "      <td>...</td>\n",
              "      <td>...</td>\n",
              "      <td>...</td>\n",
              "      <td>...</td>\n",
              "      <td>...</td>\n",
              "    </tr>\n",
              "    <tr>\n",
              "      <th>107075</th>\n",
              "      <td>8045</td>\n",
              "      <td>6307</td>\n",
              "      <td>-1</td>\n",
              "      <td>2008-01-05 23:34:00</td>\n",
              "      <td>7</td>\n",
              "    </tr>\n",
              "    <tr>\n",
              "      <th>107076</th>\n",
              "      <td>7053</td>\n",
              "      <td>6307</td>\n",
              "      <td>-1</td>\n",
              "      <td>2008-01-05 23:36:00</td>\n",
              "      <td>32</td>\n",
              "    </tr>\n",
              "    <tr>\n",
              "      <th>107077</th>\n",
              "      <td>6885</td>\n",
              "      <td>6307</td>\n",
              "      <td>-1</td>\n",
              "      <td>2008-01-06 00:44:00</td>\n",
              "      <td>19</td>\n",
              "    </tr>\n",
              "    <tr>\n",
              "      <th>107078</th>\n",
              "      <td>8243</td>\n",
              "      <td>6307</td>\n",
              "      <td>-1</td>\n",
              "      <td>2008-01-06 01:07:00</td>\n",
              "      <td>6</td>\n",
              "    </tr>\n",
              "    <tr>\n",
              "      <th>107079</th>\n",
              "      <td>3404</td>\n",
              "      <td>6307</td>\n",
              "      <td>-1</td>\n",
              "      <td>2008-01-06 01:09:00</td>\n",
              "      <td>90</td>\n",
              "    </tr>\n",
              "  </tbody>\n",
              "</table>\n",
              "<p>107080 rows × 5 columns</p>\n",
              "</div>"
            ],
            "text/plain": [
              "       FromNodeId ToNodeId Sign                Date  Votes\n",
              "0               3       30    1 2004-09-14 16:26:00     23\n",
              "1              25       30   -1 2004-09-14 16:53:00    100\n",
              "2               4       30    1 2004-09-14 17:08:00     32\n",
              "3               5       30    1 2004-09-14 17:37:00     23\n",
              "4               6       30    1 2004-09-14 19:28:00    317\n",
              "...           ...      ...  ...                 ...    ...\n",
              "107075       8045     6307   -1 2008-01-05 23:34:00      7\n",
              "107076       7053     6307   -1 2008-01-05 23:36:00     32\n",
              "107077       6885     6307   -1 2008-01-06 00:44:00     19\n",
              "107078       8243     6307   -1 2008-01-06 01:07:00      6\n",
              "107079       3404     6307   -1 2008-01-06 01:09:00     90\n",
              "\n",
              "[107080 rows x 5 columns]"
            ]
          },
          "metadata": {
            "tags": []
          },
          "execution_count": 96
        }
      ]
    },
    {
      "cell_type": "code",
      "metadata": {
        "id": "fHGU5sN9-5RQ"
      },
      "source": [
        "mask_2005 = (Wiki_votes['Date'] > '2005-1-1') & (Wiki_votes['Date'] <= '2005-12-31')\n",
        "mask_2007 = (Wiki_votes['Date'] > '2007-1-1') & (Wiki_votes['Date'] <= '2007-12-31')\n",
        "mask_2008 = (Wiki_votes['Date'] > '2008-1-1') & (Wiki_votes['Date'] <= '2008-12-31')\n",
        "\n",
        "wikipedia_2005 = Wiki_votes.loc[mask_2005]\n",
        "wikipedia_2007 = Wiki_votes.loc[mask_2007]\n",
        "wikipedia_2008 = Wiki_votes.loc[mask_2008]"
      ],
      "execution_count": null,
      "outputs": []
    },
    {
      "cell_type": "code",
      "metadata": {
        "colab": {
          "base_uri": "https://localhost:8080/",
          "height": 204
        },
        "id": "ZLxDKX2oBn4i",
        "outputId": "3a58dfbf-ed50-4cac-f9c2-e271190cfc07"
      },
      "source": [
        "wikipedia_2007.head()"
      ],
      "execution_count": null,
      "outputs": [
        {
          "output_type": "execute_result",
          "data": {
            "text/html": [
              "<div>\n",
              "<style scoped>\n",
              "    .dataframe tbody tr th:only-of-type {\n",
              "        vertical-align: middle;\n",
              "    }\n",
              "\n",
              "    .dataframe tbody tr th {\n",
              "        vertical-align: top;\n",
              "    }\n",
              "\n",
              "    .dataframe thead th {\n",
              "        text-align: right;\n",
              "    }\n",
              "</style>\n",
              "<table border=\"1\" class=\"dataframe\">\n",
              "  <thead>\n",
              "    <tr style=\"text-align: right;\">\n",
              "      <th></th>\n",
              "      <th>FromNodeId</th>\n",
              "      <th>ToNodeId</th>\n",
              "      <th>Sign</th>\n",
              "      <th>Date</th>\n",
              "      <th>Votes</th>\n",
              "    </tr>\n",
              "  </thead>\n",
              "  <tbody>\n",
              "    <tr>\n",
              "      <th>3370</th>\n",
              "      <td>625</td>\n",
              "      <td>624</td>\n",
              "      <td>1</td>\n",
              "      <td>2007-02-20 00:47:00</td>\n",
              "      <td>3</td>\n",
              "    </tr>\n",
              "    <tr>\n",
              "      <th>7091</th>\n",
              "      <td>1004</td>\n",
              "      <td>789</td>\n",
              "      <td>1</td>\n",
              "      <td>2007-04-12 23:16:00</td>\n",
              "      <td>13</td>\n",
              "    </tr>\n",
              "    <tr>\n",
              "      <th>33734</th>\n",
              "      <td>3194</td>\n",
              "      <td>3195</td>\n",
              "      <td>-1</td>\n",
              "      <td>2007-08-14 16:01:00</td>\n",
              "      <td>1</td>\n",
              "    </tr>\n",
              "    <tr>\n",
              "      <th>33943</th>\n",
              "      <td>3224</td>\n",
              "      <td>2237</td>\n",
              "      <td>-1</td>\n",
              "      <td>2007-07-10 13:06:00</td>\n",
              "      <td>1</td>\n",
              "    </tr>\n",
              "    <tr>\n",
              "      <th>42745</th>\n",
              "      <td>3794</td>\n",
              "      <td>3797</td>\n",
              "      <td>1</td>\n",
              "      <td>2007-01-06 21:49:00</td>\n",
              "      <td>48</td>\n",
              "    </tr>\n",
              "  </tbody>\n",
              "</table>\n",
              "</div>"
            ],
            "text/plain": [
              "      FromNodeId ToNodeId Sign                Date  Votes\n",
              "3370         625      624    1 2007-02-20 00:47:00      3\n",
              "7091        1004      789    1 2007-04-12 23:16:00     13\n",
              "33734       3194     3195   -1 2007-08-14 16:01:00      1\n",
              "33943       3224     2237   -1 2007-07-10 13:06:00      1\n",
              "42745       3794     3797    1 2007-01-06 21:49:00     48"
            ]
          },
          "metadata": {
            "tags": []
          },
          "execution_count": 98
        }
      ]
    },
    {
      "cell_type": "code",
      "metadata": {
        "colab": {
          "base_uri": "https://localhost:8080/",
          "height": 204
        },
        "id": "m3AB2zGYGNp8",
        "outputId": "5e29719d-dc22-463e-f25e-ed2d28423e31"
      },
      "source": [
        "wikipedia_2005.head()"
      ],
      "execution_count": null,
      "outputs": [
        {
          "output_type": "execute_result",
          "data": {
            "text/html": [
              "<div>\n",
              "<style scoped>\n",
              "    .dataframe tbody tr th:only-of-type {\n",
              "        vertical-align: middle;\n",
              "    }\n",
              "\n",
              "    .dataframe tbody tr th {\n",
              "        vertical-align: top;\n",
              "    }\n",
              "\n",
              "    .dataframe thead th {\n",
              "        text-align: right;\n",
              "    }\n",
              "</style>\n",
              "<table border=\"1\" class=\"dataframe\">\n",
              "  <thead>\n",
              "    <tr style=\"text-align: right;\">\n",
              "      <th></th>\n",
              "      <th>FromNodeId</th>\n",
              "      <th>ToNodeId</th>\n",
              "      <th>Sign</th>\n",
              "      <th>Date</th>\n",
              "      <th>Votes</th>\n",
              "    </tr>\n",
              "  </thead>\n",
              "  <tbody>\n",
              "    <tr>\n",
              "      <th>404</th>\n",
              "      <td>165</td>\n",
              "      <td>167</td>\n",
              "      <td>-1</td>\n",
              "      <td>2005-01-31 13:01:00</td>\n",
              "      <td>3</td>\n",
              "    </tr>\n",
              "    <tr>\n",
              "      <th>1149</th>\n",
              "      <td>304</td>\n",
              "      <td>322</td>\n",
              "      <td>1</td>\n",
              "      <td>2005-05-24 20:28:00</td>\n",
              "      <td>81</td>\n",
              "    </tr>\n",
              "    <tr>\n",
              "      <th>1150</th>\n",
              "      <td>72</td>\n",
              "      <td>322</td>\n",
              "      <td>1</td>\n",
              "      <td>2005-05-24 20:39:00</td>\n",
              "      <td>181</td>\n",
              "    </tr>\n",
              "    <tr>\n",
              "      <th>1151</th>\n",
              "      <td>94</td>\n",
              "      <td>322</td>\n",
              "      <td>-1</td>\n",
              "      <td>2005-05-24 21:20:00</td>\n",
              "      <td>89</td>\n",
              "    </tr>\n",
              "    <tr>\n",
              "      <th>1152</th>\n",
              "      <td>25</td>\n",
              "      <td>322</td>\n",
              "      <td>-1</td>\n",
              "      <td>2005-05-24 21:59:00</td>\n",
              "      <td>100</td>\n",
              "    </tr>\n",
              "  </tbody>\n",
              "</table>\n",
              "</div>"
            ],
            "text/plain": [
              "     FromNodeId ToNodeId Sign                Date  Votes\n",
              "404         165      167   -1 2005-01-31 13:01:00      3\n",
              "1149        304      322    1 2005-05-24 20:28:00     81\n",
              "1150         72      322    1 2005-05-24 20:39:00    181\n",
              "1151         94      322   -1 2005-05-24 21:20:00     89\n",
              "1152         25      322   -1 2005-05-24 21:59:00    100"
            ]
          },
          "metadata": {
            "tags": []
          },
          "execution_count": 99
        }
      ]
    },
    {
      "cell_type": "code",
      "metadata": {
        "id": "J84OSEgM-3bS"
      },
      "source": [
        "wikipedia_2005_graph = nx.from_pandas_edgelist(wikipedia_2005,\"FromNodeId\",\"ToNodeId\",edge_attr=\"Sign\",create_using=nx.DiGraph)\n",
        "wikipedia_2008_graph = nx.from_pandas_edgelist(wikipedia_2008,\"FromNodeId\",\"ToNodeId\",edge_attr=\"Sign\",create_using=nx.DiGraph)\n",
        "wikipedia_2007_graph = nx.from_pandas_edgelist(wikipedia_2007,\"FromNodeId\",\"ToNodeId\",edge_attr=\"Sign\",create_using=nx.DiGraph)\n",
        "wikipedia_2005_table1,wikipedia_2005_table2 = graph_properties(wikipedia_2005_graph)\n",
        "wikipedia_2007_table1,wikipedia_2007_table2 = graph_properties(wikipedia_2007_graph)\n",
        "wikipedia_2008_table1,wikipedia_2008_table2 = graph_properties(wikipedia_2008_graph)"
      ],
      "execution_count": null,
      "outputs": []
    },
    {
      "cell_type": "code",
      "metadata": {
        "colab": {
          "base_uri": "https://localhost:8080/",
          "height": 173
        },
        "id": "-tbJXPyWGtRB",
        "outputId": "b0de9f56-65dd-4616-97b4-77f49b471b4b"
      },
      "source": [
        "wikipedia_2005_table1"
      ],
      "execution_count": null,
      "outputs": [
        {
          "output_type": "execute_result",
          "data": {
            "text/html": [
              "<div>\n",
              "<style scoped>\n",
              "    .dataframe tbody tr th:only-of-type {\n",
              "        vertical-align: middle;\n",
              "    }\n",
              "\n",
              "    .dataframe tbody tr th {\n",
              "        vertical-align: top;\n",
              "    }\n",
              "\n",
              "    .dataframe thead th {\n",
              "        text-align: right;\n",
              "    }\n",
              "</style>\n",
              "<table border=\"1\" class=\"dataframe\">\n",
              "  <thead>\n",
              "    <tr style=\"text-align: right;\">\n",
              "      <th></th>\n",
              "      <th>Average</th>\n",
              "      <th>Max</th>\n",
              "      <th>Min</th>\n",
              "    </tr>\n",
              "  </thead>\n",
              "  <tbody>\n",
              "    <tr>\n",
              "      <th>Degree</th>\n",
              "      <td>20.407061</td>\n",
              "      <td>422.000000</td>\n",
              "      <td>1.000000</td>\n",
              "    </tr>\n",
              "    <tr>\n",
              "      <th>Closeness</th>\n",
              "      <td>0.067255</td>\n",
              "      <td>0.304447</td>\n",
              "      <td>0.000000</td>\n",
              "    </tr>\n",
              "    <tr>\n",
              "      <th>Local clustering coefficient</th>\n",
              "      <td>0.078754</td>\n",
              "      <td>1.000000</td>\n",
              "      <td>0.000000</td>\n",
              "    </tr>\n",
              "    <tr>\n",
              "      <th>Centrality</th>\n",
              "      <td>0.010601</td>\n",
              "      <td>0.219221</td>\n",
              "      <td>0.000519</td>\n",
              "    </tr>\n",
              "  </tbody>\n",
              "</table>\n",
              "</div>"
            ],
            "text/plain": [
              "                                Average         Max       Min\n",
              "Degree                        20.407061  422.000000  1.000000\n",
              "Closeness                      0.067255    0.304447  0.000000\n",
              "Local clustering coefficient   0.078754    1.000000  0.000000\n",
              "Centrality                     0.010601    0.219221  0.000519"
            ]
          },
          "metadata": {
            "tags": []
          },
          "execution_count": 101
        }
      ]
    },
    {
      "cell_type": "code",
      "metadata": {
        "colab": {
          "base_uri": "https://localhost:8080/",
          "height": 173
        },
        "id": "n3RPG_ENs_I2",
        "outputId": "7e7e0cf3-d8d7-49c4-fc2a-f2d32cb1d059"
      },
      "source": [
        "wikipedia_2007_table1"
      ],
      "execution_count": null,
      "outputs": [
        {
          "output_type": "execute_result",
          "data": {
            "text/html": [
              "<div>\n",
              "<style scoped>\n",
              "    .dataframe tbody tr th:only-of-type {\n",
              "        vertical-align: middle;\n",
              "    }\n",
              "\n",
              "    .dataframe tbody tr th {\n",
              "        vertical-align: top;\n",
              "    }\n",
              "\n",
              "    .dataframe thead th {\n",
              "        text-align: right;\n",
              "    }\n",
              "</style>\n",
              "<table border=\"1\" class=\"dataframe\">\n",
              "  <thead>\n",
              "    <tr style=\"text-align: right;\">\n",
              "      <th></th>\n",
              "      <th>Average</th>\n",
              "      <th>Max</th>\n",
              "      <th>Min</th>\n",
              "    </tr>\n",
              "  </thead>\n",
              "  <tbody>\n",
              "    <tr>\n",
              "      <th>Degree</th>\n",
              "      <td>21.853923</td>\n",
              "      <td>533.000000</td>\n",
              "      <td>1.000000</td>\n",
              "    </tr>\n",
              "    <tr>\n",
              "      <th>Closeness</th>\n",
              "      <td>0.057548</td>\n",
              "      <td>0.316734</td>\n",
              "      <td>0.000000</td>\n",
              "    </tr>\n",
              "    <tr>\n",
              "      <th>Local clustering coefficient</th>\n",
              "      <td>0.074431</td>\n",
              "      <td>1.000000</td>\n",
              "      <td>0.000000</td>\n",
              "    </tr>\n",
              "    <tr>\n",
              "      <th>Centrality</th>\n",
              "      <td>0.005935</td>\n",
              "      <td>0.144758</td>\n",
              "      <td>0.000272</td>\n",
              "    </tr>\n",
              "  </tbody>\n",
              "</table>\n",
              "</div>"
            ],
            "text/plain": [
              "                                Average         Max       Min\n",
              "Degree                        21.853923  533.000000  1.000000\n",
              "Closeness                      0.057548    0.316734  0.000000\n",
              "Local clustering coefficient   0.074431    1.000000  0.000000\n",
              "Centrality                     0.005935    0.144758  0.000272"
            ]
          },
          "metadata": {
            "tags": []
          },
          "execution_count": 102
        }
      ]
    },
    {
      "cell_type": "code",
      "metadata": {
        "colab": {
          "base_uri": "https://localhost:8080/",
          "height": 173
        },
        "id": "cgi1KL3SGuhq",
        "outputId": "7189e56a-2184-4899-f5e8-a7ab013ea6a0"
      },
      "source": [
        "wikipedia_2008_table1"
      ],
      "execution_count": null,
      "outputs": [
        {
          "output_type": "execute_result",
          "data": {
            "text/html": [
              "<div>\n",
              "<style scoped>\n",
              "    .dataframe tbody tr th:only-of-type {\n",
              "        vertical-align: middle;\n",
              "    }\n",
              "\n",
              "    .dataframe tbody tr th {\n",
              "        vertical-align: top;\n",
              "    }\n",
              "\n",
              "    .dataframe thead th {\n",
              "        text-align: right;\n",
              "    }\n",
              "</style>\n",
              "<table border=\"1\" class=\"dataframe\">\n",
              "  <thead>\n",
              "    <tr style=\"text-align: right;\">\n",
              "      <th></th>\n",
              "      <th>Average</th>\n",
              "      <th>Max</th>\n",
              "      <th>Min</th>\n",
              "    </tr>\n",
              "  </thead>\n",
              "  <tbody>\n",
              "    <tr>\n",
              "      <th>Degree</th>\n",
              "      <td>4.291667</td>\n",
              "      <td>114.000000</td>\n",
              "      <td>1.000000</td>\n",
              "    </tr>\n",
              "    <tr>\n",
              "      <th>Closeness</th>\n",
              "      <td>0.010002</td>\n",
              "      <td>0.413115</td>\n",
              "      <td>0.000000</td>\n",
              "    </tr>\n",
              "    <tr>\n",
              "      <th>Local clustering coefficient</th>\n",
              "      <td>0.062715</td>\n",
              "      <td>1.000000</td>\n",
              "      <td>0.000000</td>\n",
              "    </tr>\n",
              "    <tr>\n",
              "      <th>Centrality</th>\n",
              "      <td>0.014954</td>\n",
              "      <td>0.397213</td>\n",
              "      <td>0.003484</td>\n",
              "    </tr>\n",
              "  </tbody>\n",
              "</table>\n",
              "</div>"
            ],
            "text/plain": [
              "                               Average         Max       Min\n",
              "Degree                        4.291667  114.000000  1.000000\n",
              "Closeness                     0.010002    0.413115  0.000000\n",
              "Local clustering coefficient  0.062715    1.000000  0.000000\n",
              "Centrality                    0.014954    0.397213  0.003484"
            ]
          },
          "metadata": {
            "tags": []
          },
          "execution_count": 103
        }
      ]
    },
    {
      "cell_type": "markdown",
      "metadata": {
        "id": "c6iqpV-RZZXS"
      },
      "source": [
        "**Centrality analysis :**\n",
        "- First 2005 and 2007 have pretty similar average node degrees while 2008 have a very smaller one. All the three have a minimum node degree of 1 which means that there is no isolated node. \n",
        "- However both 2005 and 2008 have a similar average centrality value, while 2007 has a very lower one (factor 2). This means that there is a dissymmetry in the network structure between the years. A high average degree means that nodes tend to have a lot of incoming edges, and a high value of centrality means that nodes tend to have a high number of connections (in total both incoming and outgoing).So in the case of 2008, the high average centrality means a lot of connection per for each node. The quite low average degree is pretty surprising but could mean a disequilibrium of the sent and received number of edges, and thus could give information to node's acitivty.\n",
        "\n",
        "- we can see that the closeness average is 6 or 5 times smaller for 2008 than for 2005 and 2007. A small average closeness indicates an important average distance between a node with all the nodes. This could mean that the nodes tend to be linked to more distant ones. \n",
        "\n",
        "- All the subgraphs seem to have the same local clustering coefficient, and thus neighbors of a random node seem to be equally connected."
      ]
    },
    {
      "cell_type": "markdown",
      "metadata": {
        "id": "-OORydlSG0Af"
      },
      "source": [
        "-----------\n"
      ]
    },
    {
      "cell_type": "markdown",
      "metadata": {
        "id": "oIJzze96Ze_u"
      },
      "source": [
        "Now let’s have a look at the behaviour and clustering analysis. \n"
      ]
    },
    {
      "cell_type": "code",
      "metadata": {
        "colab": {
          "base_uri": "https://localhost:8080/",
          "height": 94
        },
        "id": "p0btOlpRG1Sx",
        "outputId": "3b98f315-d220-4d16-d19f-f01884b56acb"
      },
      "source": [
        "wikipedia_2005_table2"
      ],
      "execution_count": null,
      "outputs": [
        {
          "output_type": "execute_result",
          "data": {
            "text/html": [
              "<div>\n",
              "<style scoped>\n",
              "    .dataframe tbody tr th:only-of-type {\n",
              "        vertical-align: middle;\n",
              "    }\n",
              "\n",
              "    .dataframe tbody tr th {\n",
              "        vertical-align: top;\n",
              "    }\n",
              "\n",
              "    .dataframe thead th {\n",
              "        text-align: right;\n",
              "    }\n",
              "</style>\n",
              "<table border=\"1\" class=\"dataframe\">\n",
              "  <thead>\n",
              "    <tr style=\"text-align: right;\">\n",
              "      <th></th>\n",
              "      <th></th>\n",
              "    </tr>\n",
              "  </thead>\n",
              "  <tbody>\n",
              "    <tr>\n",
              "      <th>Global clustering coefficient</th>\n",
              "      <td>0.062375</td>\n",
              "    </tr>\n",
              "    <tr>\n",
              "      <th>Assortativity degree</th>\n",
              "      <td>-0.110852</td>\n",
              "    </tr>\n",
              "  </tbody>\n",
              "</table>\n",
              "</div>"
            ],
            "text/plain": [
              "                                       \n",
              "Global clustering coefficient  0.062375\n",
              "Assortativity degree          -0.110852"
            ]
          },
          "metadata": {
            "tags": []
          },
          "execution_count": 104
        }
      ]
    },
    {
      "cell_type": "code",
      "metadata": {
        "colab": {
          "base_uri": "https://localhost:8080/",
          "height": 94
        },
        "id": "fNMvsNkftCkC",
        "outputId": "991cae80-d013-405b-98d8-198673f2514b"
      },
      "source": [
        "wikipedia_2007_table2"
      ],
      "execution_count": null,
      "outputs": [
        {
          "output_type": "execute_result",
          "data": {
            "text/html": [
              "<div>\n",
              "<style scoped>\n",
              "    .dataframe tbody tr th:only-of-type {\n",
              "        vertical-align: middle;\n",
              "    }\n",
              "\n",
              "    .dataframe tbody tr th {\n",
              "        vertical-align: top;\n",
              "    }\n",
              "\n",
              "    .dataframe thead th {\n",
              "        text-align: right;\n",
              "    }\n",
              "</style>\n",
              "<table border=\"1\" class=\"dataframe\">\n",
              "  <thead>\n",
              "    <tr style=\"text-align: right;\">\n",
              "      <th></th>\n",
              "      <th></th>\n",
              "    </tr>\n",
              "  </thead>\n",
              "  <tbody>\n",
              "    <tr>\n",
              "      <th>Global clustering coefficient</th>\n",
              "      <td>0.061274</td>\n",
              "    </tr>\n",
              "    <tr>\n",
              "      <th>Assortativity degree</th>\n",
              "      <td>-0.153825</td>\n",
              "    </tr>\n",
              "  </tbody>\n",
              "</table>\n",
              "</div>"
            ],
            "text/plain": [
              "                                       \n",
              "Global clustering coefficient  0.061274\n",
              "Assortativity degree          -0.153825"
            ]
          },
          "metadata": {
            "tags": []
          },
          "execution_count": 105
        }
      ]
    },
    {
      "cell_type": "code",
      "metadata": {
        "colab": {
          "base_uri": "https://localhost:8080/",
          "height": 94
        },
        "id": "VTgihq9mG2Yh",
        "outputId": "2e02ae68-9a73-48f1-85ad-56dad306b464"
      },
      "source": [
        "wikipedia_2008_table2"
      ],
      "execution_count": null,
      "outputs": [
        {
          "output_type": "execute_result",
          "data": {
            "text/html": [
              "<div>\n",
              "<style scoped>\n",
              "    .dataframe tbody tr th:only-of-type {\n",
              "        vertical-align: middle;\n",
              "    }\n",
              "\n",
              "    .dataframe tbody tr th {\n",
              "        vertical-align: top;\n",
              "    }\n",
              "\n",
              "    .dataframe thead th {\n",
              "        text-align: right;\n",
              "    }\n",
              "</style>\n",
              "<table border=\"1\" class=\"dataframe\">\n",
              "  <thead>\n",
              "    <tr style=\"text-align: right;\">\n",
              "      <th></th>\n",
              "      <th></th>\n",
              "    </tr>\n",
              "  </thead>\n",
              "  <tbody>\n",
              "    <tr>\n",
              "      <th>Global clustering coefficient</th>\n",
              "      <td>0.120192</td>\n",
              "    </tr>\n",
              "    <tr>\n",
              "      <th>Assortativity degree</th>\n",
              "      <td>-0.178545</td>\n",
              "    </tr>\n",
              "  </tbody>\n",
              "</table>\n",
              "</div>"
            ],
            "text/plain": [
              "                                       \n",
              "Global clustering coefficient  0.120192\n",
              "Assortativity degree          -0.178545"
            ]
          },
          "metadata": {
            "tags": []
          },
          "execution_count": 106
        }
      ]
    },
    {
      "cell_type": "markdown",
      "metadata": {
        "id": "brLXPyFyZQPE"
      },
      "source": [
        "**Clustering and Behavior analysis :**\n",
        "- First we can see that the global clustering coefficient is the highest for 2008, compared to 2007 which is itself higher than 2005. This is in accordance with our previous observations about the high connectivity of this network.  We could also interpret this high global clustering coefficient as a bigger probability to have an edge between two nodes with a common neighbor, because its means a higher proportion of triangles in the graph.\n",
        "- For the assortativity degree, we do not see a particular trend along the 3 years. \n",
        "\n",
        "Here we are able to see changes in the network structure according to the year, especially concerning the clustering. In fact the year 2008 appears to be more tightly connected than the 2005 and 2007. It is quite important to notice this in the context of votation because it changes the possible consequences of an event at one part of the network on the final output. As population mass manipulation if you are nominated, it is very important to know this in order to assess the impact of your choice of campaign.\n",
        "These results are not aberrant in our connected world, where everyone tends to be more and more connected, even to people away (geographically, socially, culturally).\n",
        "However, these results are not obvious and further computation should be done. Here it is just an highlighting of the possible impact on the structure, to raise conscientiousness about this variable."
      ]
    },
    {
      "cell_type": "markdown",
      "metadata": {
        "id": "w6Mwcam8LzQ6"
      },
      "source": [
        "-----"
      ]
    },
    {
      "cell_type": "markdown",
      "metadata": {
        "id": "5R_Um-JInZWg"
      },
      "source": [
        "#### Wikipedia - Month"
      ]
    },
    {
      "cell_type": "markdown",
      "metadata": {
        "id": "BrUBz30iZsjc"
      },
      "source": [
        "So now we are considering time trends according to the month. \n",
        "\n",
        "As a reminder, we splitted the data according to 3 ratio neg/pos edges different. \n",
        "- The first part is from november and represent the group with low ratio (not a lot of neg edges), \n",
        "- the second part is from june and represent the group with middle ratio (quite the same amount of  pos and neg edges) \n",
        "- the third one is from july and represent the group with a high ratio (quite a lot  of negative edges).\n"
      ]
    },
    {
      "cell_type": "code",
      "metadata": {
        "id": "P4qQB5nG-zGR"
      },
      "source": [
        "mask_nov = (Wiki_votes['Date'].dt.month == 11)\n",
        "mask_july = (Wiki_votes['Date'].dt.month == 7)\n",
        "mask_june = (Wiki_votes['Date'].dt.month == 6)\n",
        "\n",
        "wikipedia_nov = Wiki_votes.loc[mask_nov]\n",
        "wikipedia_july = Wiki_votes.loc[mask_july]\n",
        "wikipedia_june = Wiki_votes.loc[mask_june]"
      ],
      "execution_count": null,
      "outputs": []
    },
    {
      "cell_type": "code",
      "metadata": {
        "colab": {
          "base_uri": "https://localhost:8080/",
          "height": 419
        },
        "id": "1Xu2DIPyHtd1",
        "outputId": "226f0300-2e05-4023-9e3c-2a1495ec5be3"
      },
      "source": [
        "wikipedia_july.head(20000)"
      ],
      "execution_count": null,
      "outputs": [
        {
          "output_type": "execute_result",
          "data": {
            "text/html": [
              "<div>\n",
              "<style scoped>\n",
              "    .dataframe tbody tr th:only-of-type {\n",
              "        vertical-align: middle;\n",
              "    }\n",
              "\n",
              "    .dataframe tbody tr th {\n",
              "        vertical-align: top;\n",
              "    }\n",
              "\n",
              "    .dataframe thead th {\n",
              "        text-align: right;\n",
              "    }\n",
              "</style>\n",
              "<table border=\"1\" class=\"dataframe\">\n",
              "  <thead>\n",
              "    <tr style=\"text-align: right;\">\n",
              "      <th></th>\n",
              "      <th>FromNodeId</th>\n",
              "      <th>ToNodeId</th>\n",
              "      <th>Sign</th>\n",
              "      <th>Date</th>\n",
              "      <th>Votes</th>\n",
              "    </tr>\n",
              "  </thead>\n",
              "  <tbody>\n",
              "    <tr>\n",
              "      <th>2106</th>\n",
              "      <td>453</td>\n",
              "      <td>192</td>\n",
              "      <td>1</td>\n",
              "      <td>2004-07-11 00:23:00</td>\n",
              "      <td>1</td>\n",
              "    </tr>\n",
              "    <tr>\n",
              "      <th>2107</th>\n",
              "      <td>18</td>\n",
              "      <td>192</td>\n",
              "      <td>-1</td>\n",
              "      <td>2004-07-11 00:37:00</td>\n",
              "      <td>12</td>\n",
              "    </tr>\n",
              "    <tr>\n",
              "      <th>2108</th>\n",
              "      <td>101</td>\n",
              "      <td>192</td>\n",
              "      <td>-1</td>\n",
              "      <td>2004-07-11 00:38:00</td>\n",
              "      <td>17</td>\n",
              "    </tr>\n",
              "    <tr>\n",
              "      <th>2109</th>\n",
              "      <td>352</td>\n",
              "      <td>192</td>\n",
              "      <td>-1</td>\n",
              "      <td>2004-07-11 00:43:00</td>\n",
              "      <td>9</td>\n",
              "    </tr>\n",
              "    <tr>\n",
              "      <th>2110</th>\n",
              "      <td>56</td>\n",
              "      <td>192</td>\n",
              "      <td>1</td>\n",
              "      <td>2004-07-11 00:46:00</td>\n",
              "      <td>24</td>\n",
              "    </tr>\n",
              "    <tr>\n",
              "      <th>...</th>\n",
              "      <td>...</td>\n",
              "      <td>...</td>\n",
              "      <td>...</td>\n",
              "      <td>...</td>\n",
              "      <td>...</td>\n",
              "    </tr>\n",
              "    <tr>\n",
              "      <th>90764</th>\n",
              "      <td>1549</td>\n",
              "      <td>5288</td>\n",
              "      <td>1</td>\n",
              "      <td>2007-07-31 22:45:00</td>\n",
              "      <td>629</td>\n",
              "    </tr>\n",
              "    <tr>\n",
              "      <th>90765</th>\n",
              "      <td>4795</td>\n",
              "      <td>5288</td>\n",
              "      <td>1</td>\n",
              "      <td>2007-07-31 22:53:00</td>\n",
              "      <td>76</td>\n",
              "    </tr>\n",
              "    <tr>\n",
              "      <th>90766</th>\n",
              "      <td>4455</td>\n",
              "      <td>5288</td>\n",
              "      <td>1</td>\n",
              "      <td>2007-07-31 23:23:00</td>\n",
              "      <td>22</td>\n",
              "    </tr>\n",
              "    <tr>\n",
              "      <th>90767</th>\n",
              "      <td>737</td>\n",
              "      <td>5288</td>\n",
              "      <td>1</td>\n",
              "      <td>2007-07-31 23:41:00</td>\n",
              "      <td>251</td>\n",
              "    </tr>\n",
              "    <tr>\n",
              "      <th>90820</th>\n",
              "      <td>7194</td>\n",
              "      <td>7195</td>\n",
              "      <td>-1</td>\n",
              "      <td>2007-07-31 13:56:00</td>\n",
              "      <td>1</td>\n",
              "    </tr>\n",
              "  </tbody>\n",
              "</table>\n",
              "<p>8572 rows × 5 columns</p>\n",
              "</div>"
            ],
            "text/plain": [
              "      FromNodeId ToNodeId Sign                Date  Votes\n",
              "2106         453      192    1 2004-07-11 00:23:00      1\n",
              "2107          18      192   -1 2004-07-11 00:37:00     12\n",
              "2108         101      192   -1 2004-07-11 00:38:00     17\n",
              "2109         352      192   -1 2004-07-11 00:43:00      9\n",
              "2110          56      192    1 2004-07-11 00:46:00     24\n",
              "...          ...      ...  ...                 ...    ...\n",
              "90764       1549     5288    1 2007-07-31 22:45:00    629\n",
              "90765       4795     5288    1 2007-07-31 22:53:00     76\n",
              "90766       4455     5288    1 2007-07-31 23:23:00     22\n",
              "90767        737     5288    1 2007-07-31 23:41:00    251\n",
              "90820       7194     7195   -1 2007-07-31 13:56:00      1\n",
              "\n",
              "[8572 rows x 5 columns]"
            ]
          },
          "metadata": {
            "tags": []
          },
          "execution_count": 108
        }
      ]
    },
    {
      "cell_type": "code",
      "metadata": {
        "id": "Ge5QbjovH1xL"
      },
      "source": [
        "wikipedia_nov_graph = nx.from_pandas_edgelist(wikipedia_nov,\"FromNodeId\",\"ToNodeId\",edge_attr=\"Sign\",create_using=nx.DiGraph)\n",
        "wikipedia_july_graph = nx.from_pandas_edgelist(wikipedia_july,\"FromNodeId\",\"ToNodeId\",edge_attr=\"Sign\",create_using=nx.DiGraph)\n",
        "wikipedia_june_graph = nx.from_pandas_edgelist(wikipedia_june,\"FromNodeId\",\"ToNodeId\",edge_attr=\"Sign\",create_using=nx.DiGraph)\n",
        "wikipedia_nov_table1,wikipedia_nov_table2 = graph_properties(wikipedia_nov_graph)\n",
        "wikipedia_july_table1,wikipedia_july_table2 = graph_properties(wikipedia_july_graph)\n",
        "wikipedia_june_table1,wikipedia_june_table2 = graph_properties(wikipedia_june_graph)"
      ],
      "execution_count": null,
      "outputs": []
    },
    {
      "cell_type": "code",
      "metadata": {
        "colab": {
          "base_uri": "https://localhost:8080/",
          "height": 173
        },
        "id": "M3rWBcCWIZh1",
        "outputId": "72b61ffa-7e9a-47fd-e693-8c834bef03c8"
      },
      "source": [
        "wikipedia_nov_table1"
      ],
      "execution_count": null,
      "outputs": [
        {
          "output_type": "execute_result",
          "data": {
            "text/html": [
              "<div>\n",
              "<style scoped>\n",
              "    .dataframe tbody tr th:only-of-type {\n",
              "        vertical-align: middle;\n",
              "    }\n",
              "\n",
              "    .dataframe tbody tr th {\n",
              "        vertical-align: top;\n",
              "    }\n",
              "\n",
              "    .dataframe thead th {\n",
              "        text-align: right;\n",
              "    }\n",
              "</style>\n",
              "<table border=\"1\" class=\"dataframe\">\n",
              "  <thead>\n",
              "    <tr style=\"text-align: right;\">\n",
              "      <th></th>\n",
              "      <th>Average</th>\n",
              "      <th>Max</th>\n",
              "      <th>Min</th>\n",
              "    </tr>\n",
              "  </thead>\n",
              "  <tbody>\n",
              "    <tr>\n",
              "      <th>Degree</th>\n",
              "      <td>10.051506</td>\n",
              "      <td>189.000000</td>\n",
              "      <td>1.000000</td>\n",
              "    </tr>\n",
              "    <tr>\n",
              "      <th>Closeness</th>\n",
              "      <td>0.016710</td>\n",
              "      <td>0.253044</td>\n",
              "      <td>0.000000</td>\n",
              "    </tr>\n",
              "    <tr>\n",
              "      <th>Local clustering coefficient</th>\n",
              "      <td>0.058889</td>\n",
              "      <td>1.000000</td>\n",
              "      <td>0.000000</td>\n",
              "    </tr>\n",
              "    <tr>\n",
              "      <th>Centrality</th>\n",
              "      <td>0.004886</td>\n",
              "      <td>0.091881</td>\n",
              "      <td>0.000486</td>\n",
              "    </tr>\n",
              "  </tbody>\n",
              "</table>\n",
              "</div>"
            ],
            "text/plain": [
              "                                Average         Max       Min\n",
              "Degree                        10.051506  189.000000  1.000000\n",
              "Closeness                      0.016710    0.253044  0.000000\n",
              "Local clustering coefficient   0.058889    1.000000  0.000000\n",
              "Centrality                     0.004886    0.091881  0.000486"
            ]
          },
          "metadata": {
            "tags": []
          },
          "execution_count": 110
        }
      ]
    },
    {
      "cell_type": "code",
      "metadata": {
        "colab": {
          "base_uri": "https://localhost:8080/",
          "height": 173
        },
        "id": "BIjXin5QIa-B",
        "outputId": "6450b700-a957-4de0-a1fd-a6afc0c37957"
      },
      "source": [
        "wikipedia_july_table1"
      ],
      "execution_count": null,
      "outputs": [
        {
          "output_type": "execute_result",
          "data": {
            "text/html": [
              "<div>\n",
              "<style scoped>\n",
              "    .dataframe tbody tr th:only-of-type {\n",
              "        vertical-align: middle;\n",
              "    }\n",
              "\n",
              "    .dataframe tbody tr th {\n",
              "        vertical-align: top;\n",
              "    }\n",
              "\n",
              "    .dataframe thead th {\n",
              "        text-align: right;\n",
              "    }\n",
              "</style>\n",
              "<table border=\"1\" class=\"dataframe\">\n",
              "  <thead>\n",
              "    <tr style=\"text-align: right;\">\n",
              "      <th></th>\n",
              "      <th>Average</th>\n",
              "      <th>Max</th>\n",
              "      <th>Min</th>\n",
              "    </tr>\n",
              "  </thead>\n",
              "  <tbody>\n",
              "    <tr>\n",
              "      <th>Degree</th>\n",
              "      <td>9.592821</td>\n",
              "      <td>244.000000</td>\n",
              "      <td>1.000000</td>\n",
              "    </tr>\n",
              "    <tr>\n",
              "      <th>Closeness</th>\n",
              "      <td>0.021830</td>\n",
              "      <td>0.287275</td>\n",
              "      <td>0.000000</td>\n",
              "    </tr>\n",
              "    <tr>\n",
              "      <th>Local clustering coefficient</th>\n",
              "      <td>0.086298</td>\n",
              "      <td>1.000000</td>\n",
              "      <td>0.000000</td>\n",
              "    </tr>\n",
              "    <tr>\n",
              "      <th>Centrality</th>\n",
              "      <td>0.005383</td>\n",
              "      <td>0.136925</td>\n",
              "      <td>0.000561</td>\n",
              "    </tr>\n",
              "  </tbody>\n",
              "</table>\n",
              "</div>"
            ],
            "text/plain": [
              "                               Average         Max       Min\n",
              "Degree                        9.592821  244.000000  1.000000\n",
              "Closeness                     0.021830    0.287275  0.000000\n",
              "Local clustering coefficient  0.086298    1.000000  0.000000\n",
              "Centrality                    0.005383    0.136925  0.000561"
            ]
          },
          "metadata": {
            "tags": []
          },
          "execution_count": 111
        }
      ]
    },
    {
      "cell_type": "code",
      "metadata": {
        "colab": {
          "base_uri": "https://localhost:8080/",
          "height": 173
        },
        "id": "bkT7LOfHIdN1",
        "outputId": "2ecf1e3f-0419-405b-a7be-53d9047635c6"
      },
      "source": [
        "wikipedia_june_table1"
      ],
      "execution_count": null,
      "outputs": [
        {
          "output_type": "execute_result",
          "data": {
            "text/html": [
              "<div>\n",
              "<style scoped>\n",
              "    .dataframe tbody tr th:only-of-type {\n",
              "        vertical-align: middle;\n",
              "    }\n",
              "\n",
              "    .dataframe tbody tr th {\n",
              "        vertical-align: top;\n",
              "    }\n",
              "\n",
              "    .dataframe thead th {\n",
              "        text-align: right;\n",
              "    }\n",
              "</style>\n",
              "<table border=\"1\" class=\"dataframe\">\n",
              "  <thead>\n",
              "    <tr style=\"text-align: right;\">\n",
              "      <th></th>\n",
              "      <th>Average</th>\n",
              "      <th>Max</th>\n",
              "      <th>Min</th>\n",
              "    </tr>\n",
              "  </thead>\n",
              "  <tbody>\n",
              "    <tr>\n",
              "      <th>Degree</th>\n",
              "      <td>10.283019</td>\n",
              "      <td>186.000000</td>\n",
              "      <td>1.00000</td>\n",
              "    </tr>\n",
              "    <tr>\n",
              "      <th>Closeness</th>\n",
              "      <td>0.018842</td>\n",
              "      <td>0.234398</td>\n",
              "      <td>0.00000</td>\n",
              "    </tr>\n",
              "    <tr>\n",
              "      <th>Local clustering coefficient</th>\n",
              "      <td>0.078658</td>\n",
              "      <td>1.000000</td>\n",
              "      <td>0.00000</td>\n",
              "    </tr>\n",
              "    <tr>\n",
              "      <th>Centrality</th>\n",
              "      <td>0.006067</td>\n",
              "      <td>0.109735</td>\n",
              "      <td>0.00059</td>\n",
              "    </tr>\n",
              "  </tbody>\n",
              "</table>\n",
              "</div>"
            ],
            "text/plain": [
              "                                Average         Max      Min\n",
              "Degree                        10.283019  186.000000  1.00000\n",
              "Closeness                      0.018842    0.234398  0.00000\n",
              "Local clustering coefficient   0.078658    1.000000  0.00000\n",
              "Centrality                     0.006067    0.109735  0.00059"
            ]
          },
          "metadata": {
            "tags": []
          },
          "execution_count": 112
        }
      ]
    },
    {
      "cell_type": "markdown",
      "metadata": {
        "id": "DupRq_XenZWi"
      },
      "source": [
        "**Centrality analysis :**\n",
        "\n",
        "Here are presented the results for centrality parameters. We can see : \n",
        "- The average degree value is quite the same for all the 3 months \n",
        "- The closeness average value is also quite constant among the 3 months \n",
        "- The local clustering coefficient is rising according to the proportion of negative edges. This means that it is small in november, higher in june and even higher in july (which has the biggest ratio). Even if it is hard to do a guess about why do we see a such trend, the arrival of the summer and holidays may have a link with people's activity and thus their amount of connections to each other. In fact a higher local clustering coefficient means that the removal of a given node will have less impact on the ability of communication of influence of its neighbor. It is quite important to notice that during votation process because it means on the other side that during winter (e.g. november), node’s communication/influence are more dependant to each other and thus individual position-taking can have a big consequences, and its nature -an opposite leader or a supporter- may become important.\n",
        "- The centrality coefficient is a bit higher in june compared to other ones, but as for the closeness, the difference may not be big enough to allow any conclusions"
      ]
    },
    {
      "cell_type": "markdown",
      "metadata": {
        "id": "kYBhBlulIiKP"
      },
      "source": [
        "------"
      ]
    },
    {
      "cell_type": "markdown",
      "metadata": {
        "id": "ylaZ3qy_Z3_5"
      },
      "source": [
        "Now let’s have a look at the clustering and behavior parameters"
      ]
    },
    {
      "cell_type": "code",
      "metadata": {
        "colab": {
          "base_uri": "https://localhost:8080/",
          "height": 94
        },
        "id": "Ix4Mm4PaIjvT",
        "outputId": "76a5be33-7158-4a21-ba6d-acebc4584afb"
      },
      "source": [
        "wikipedia_nov_table2"
      ],
      "execution_count": null,
      "outputs": [
        {
          "output_type": "execute_result",
          "data": {
            "text/html": [
              "<div>\n",
              "<style scoped>\n",
              "    .dataframe tbody tr th:only-of-type {\n",
              "        vertical-align: middle;\n",
              "    }\n",
              "\n",
              "    .dataframe tbody tr th {\n",
              "        vertical-align: top;\n",
              "    }\n",
              "\n",
              "    .dataframe thead th {\n",
              "        text-align: right;\n",
              "    }\n",
              "</style>\n",
              "<table border=\"1\" class=\"dataframe\">\n",
              "  <thead>\n",
              "    <tr style=\"text-align: right;\">\n",
              "      <th></th>\n",
              "      <th></th>\n",
              "    </tr>\n",
              "  </thead>\n",
              "  <tbody>\n",
              "    <tr>\n",
              "      <th>Global clustering coefficient</th>\n",
              "      <td>0.061379</td>\n",
              "    </tr>\n",
              "    <tr>\n",
              "      <th>Assortativity degree</th>\n",
              "      <td>-0.078402</td>\n",
              "    </tr>\n",
              "  </tbody>\n",
              "</table>\n",
              "</div>"
            ],
            "text/plain": [
              "                                       \n",
              "Global clustering coefficient  0.061379\n",
              "Assortativity degree          -0.078402"
            ]
          },
          "metadata": {
            "tags": []
          },
          "execution_count": 113
        }
      ]
    },
    {
      "cell_type": "code",
      "metadata": {
        "colab": {
          "base_uri": "https://localhost:8080/",
          "height": 94
        },
        "id": "NxYYO_mPIl0s",
        "outputId": "af71e196-c39c-47e6-980b-c57d7424a8d5"
      },
      "source": [
        "wikipedia_june_table2"
      ],
      "execution_count": null,
      "outputs": [
        {
          "output_type": "execute_result",
          "data": {
            "text/html": [
              "<div>\n",
              "<style scoped>\n",
              "    .dataframe tbody tr th:only-of-type {\n",
              "        vertical-align: middle;\n",
              "    }\n",
              "\n",
              "    .dataframe tbody tr th {\n",
              "        vertical-align: top;\n",
              "    }\n",
              "\n",
              "    .dataframe thead th {\n",
              "        text-align: right;\n",
              "    }\n",
              "</style>\n",
              "<table border=\"1\" class=\"dataframe\">\n",
              "  <thead>\n",
              "    <tr style=\"text-align: right;\">\n",
              "      <th></th>\n",
              "      <th></th>\n",
              "    </tr>\n",
              "  </thead>\n",
              "  <tbody>\n",
              "    <tr>\n",
              "      <th>Global clustering coefficient</th>\n",
              "      <td>0.093659</td>\n",
              "    </tr>\n",
              "    <tr>\n",
              "      <th>Assortativity degree</th>\n",
              "      <td>-0.059507</td>\n",
              "    </tr>\n",
              "  </tbody>\n",
              "</table>\n",
              "</div>"
            ],
            "text/plain": [
              "                                       \n",
              "Global clustering coefficient  0.093659\n",
              "Assortativity degree          -0.059507"
            ]
          },
          "metadata": {
            "tags": []
          },
          "execution_count": 114
        }
      ]
    },
    {
      "cell_type": "code",
      "metadata": {
        "colab": {
          "base_uri": "https://localhost:8080/",
          "height": 94
        },
        "id": "tMMbJIwGInlR",
        "outputId": "3fc5d231-202c-4fa9-f097-fe80144180d7"
      },
      "source": [
        "wikipedia_july_table2"
      ],
      "execution_count": null,
      "outputs": [
        {
          "output_type": "execute_result",
          "data": {
            "text/html": [
              "<div>\n",
              "<style scoped>\n",
              "    .dataframe tbody tr th:only-of-type {\n",
              "        vertical-align: middle;\n",
              "    }\n",
              "\n",
              "    .dataframe tbody tr th {\n",
              "        vertical-align: top;\n",
              "    }\n",
              "\n",
              "    .dataframe thead th {\n",
              "        text-align: right;\n",
              "    }\n",
              "</style>\n",
              "<table border=\"1\" class=\"dataframe\">\n",
              "  <thead>\n",
              "    <tr style=\"text-align: right;\">\n",
              "      <th></th>\n",
              "      <th></th>\n",
              "    </tr>\n",
              "  </thead>\n",
              "  <tbody>\n",
              "    <tr>\n",
              "      <th>Global clustering coefficient</th>\n",
              "      <td>0.098919</td>\n",
              "    </tr>\n",
              "    <tr>\n",
              "      <th>Assortativity degree</th>\n",
              "      <td>-0.100510</td>\n",
              "    </tr>\n",
              "  </tbody>\n",
              "</table>\n",
              "</div>"
            ],
            "text/plain": [
              "                                       \n",
              "Global clustering coefficient  0.098919\n",
              "Assortativity degree          -0.100510"
            ]
          },
          "metadata": {
            "tags": []
          },
          "execution_count": 115
        }
      ]
    },
    {
      "cell_type": "markdown",
      "metadata": {
        "id": "T3Axq1psZ9Xa"
      },
      "source": [
        "**Clustering and Behavior analysis :**\n",
        "- The global clustering coefficient is higher in summer (june - july) than in winter (november). It means that nodes tend to create more close triangles during summer than winter. As the local clustering coefficient, this trend may be explained by the atmosphere of the summer, and the rise of activating associated. What we can say is that the summer months present a network more connected. \n",
        "- The assortativity doesn't have a very clear global trend. We can only say that July is the closest one to zero, which means that it tends to be more non-assortative and November and even more July tend to be more disassortative. It is quite hard to explain these observations. \n",
        "\n",
        "\n",
        "It is quite hard to explain all the trends, sometimes quite small or illogical but here it is not our goal. However these observations and understanding could be important in a votation process because as we have seen that may have an impact on the global structure of the network. With the local clustering coefficient, we have seen that the network tends to be more influenceable in winter than in summer, thus political calculations may take it into account. Also it appears that the summer network tends to be more connected, so with more closed triangles than in winter. Thus people are more connected and as they are influencing each other, the strategy of communication of a candidate may change (could focus on a group of people, because they tend to be more connected than patchy ones in the winter where it would be more difficult to talk to a group). Finally, even if the trend is not very logical, assortativity may give important information on the network structure. November and July seem to be more diss-assortative, thus it means that links between nodes are not very similar. So for a candidate talking to a group, it is important to have conscious of this, an adapt its speech : it would be perhaps more nuanced than if all people were similar, because its aim is to gather as many people as possible, so not to offend/ hurt or shock any part of the listening assembly."
      ]
    },
    {
      "cell_type": "markdown",
      "metadata": {
        "id": "DdNPD5VUMC-i"
      },
      "source": [
        "------"
      ]
    },
    {
      "cell_type": "markdown",
      "metadata": {
        "id": "pwpkSTFZKQC7"
      },
      "source": [
        "#### Wikipedia - Day \n",
        "As a reminder, we have created 2 subgraphs according to the trend observed along the week. We have seen that the ratio neg/pos is becoming more important along the workweek, and that during the week-end, saturday looks like monday and sunday looks like friday. With very basic psychology, one interpretation would be that along the week people are getting more and more tired and are generally fed up. On saturday it is the beginning of the weekend, so people are more happy and then tend to vote less negatively, while on sunday it is the end of the weekend, so people are sad and annoyed by the situation. This try of explanation is based on the idea that people’s mood influences the vote. To be more precise in the analysis of trend’s observations we would need to go further in social analysis/explanation, but we are not competent here. Anyway, this trial of explanation can give an idea. \n",
        "\n",
        "So here we have chosen to build a subgraph from votes \n",
        "- on monday, representing the low ratio of the beginning of the week (and saturday, people happy?),\n",
        "- one from friday, representing the end of workweek and sunday (people fed up?). \n"
      ]
    },
    {
      "cell_type": "code",
      "metadata": {
        "id": "gTaKl2vpKRgm"
      },
      "source": [
        "mask_monday = (Wiki_votes['Date'].dt.weekday == 0)\n",
        "mask_friday = (Wiki_votes['Date'].dt.weekday == 4)\n",
        "\n",
        "wikipedia_monday = Wiki_votes.loc[mask_monday]\n",
        "wikipedia_friday = Wiki_votes.loc[mask_friday]"
      ],
      "execution_count": 8,
      "outputs": []
    },
    {
      "cell_type": "code",
      "metadata": {
        "id": "Z9nJCr7qK4eF"
      },
      "source": [
        "wikipedia_monday_graph = nx.from_pandas_edgelist(wikipedia_monday,\"FromNodeId\",\"ToNodeId\",edge_attr=\"Sign\",create_using=nx.DiGraph)\n",
        "wikipedia_friday_graph = nx.from_pandas_edgelist(wikipedia_friday,\"FromNodeId\",\"ToNodeId\",edge_attr=\"Sign\",create_using=nx.DiGraph)\n",
        "\n",
        "\n",
        "wikipedia_monday_table1,wikipedia_monday_table2 = graph_properties(wikipedia_monday_graph)\n",
        "wikipedia_friday_table1,wikipedia_friday_table2= graph_properties(wikipedia_friday_graph)"
      ],
      "execution_count": 9,
      "outputs": []
    },
    {
      "cell_type": "code",
      "metadata": {
        "colab": {
          "base_uri": "https://localhost:8080/",
          "height": 173
        },
        "id": "mJsrgIayLPnb",
        "outputId": "7b43f437-aca0-475c-d055-6e21949c3b47"
      },
      "source": [
        "wikipedia_monday_table1"
      ],
      "execution_count": null,
      "outputs": [
        {
          "output_type": "execute_result",
          "data": {
            "text/html": [
              "<div>\n",
              "<style scoped>\n",
              "    .dataframe tbody tr th:only-of-type {\n",
              "        vertical-align: middle;\n",
              "    }\n",
              "\n",
              "    .dataframe tbody tr th {\n",
              "        vertical-align: top;\n",
              "    }\n",
              "\n",
              "    .dataframe thead th {\n",
              "        text-align: right;\n",
              "    }\n",
              "</style>\n",
              "<table border=\"1\" class=\"dataframe\">\n",
              "  <thead>\n",
              "    <tr style=\"text-align: right;\">\n",
              "      <th></th>\n",
              "      <th>Average</th>\n",
              "      <th>Max</th>\n",
              "      <th>Min</th>\n",
              "    </tr>\n",
              "  </thead>\n",
              "  <tbody>\n",
              "    <tr>\n",
              "      <th>Degree</th>\n",
              "      <td>8.846087</td>\n",
              "      <td>166.000000</td>\n",
              "      <td>1.000000</td>\n",
              "    </tr>\n",
              "    <tr>\n",
              "      <th>Closeness</th>\n",
              "      <td>0.047316</td>\n",
              "      <td>0.179846</td>\n",
              "      <td>0.000000</td>\n",
              "    </tr>\n",
              "    <tr>\n",
              "      <th>Local clustering coefficient</th>\n",
              "      <td>0.017640</td>\n",
              "      <td>1.000000</td>\n",
              "      <td>0.000000</td>\n",
              "    </tr>\n",
              "    <tr>\n",
              "      <th>Centrality</th>\n",
              "      <td>0.002555</td>\n",
              "      <td>0.047949</td>\n",
              "      <td>0.000289</td>\n",
              "    </tr>\n",
              "  </tbody>\n",
              "</table>\n",
              "</div>"
            ],
            "text/plain": [
              "                               Average         Max       Min\n",
              "Degree                        8.846087  166.000000  1.000000\n",
              "Closeness                     0.047316    0.179846  0.000000\n",
              "Local clustering coefficient  0.017640    1.000000  0.000000\n",
              "Centrality                    0.002555    0.047949  0.000289"
            ]
          },
          "metadata": {
            "tags": []
          },
          "execution_count": 125
        }
      ]
    },
    {
      "cell_type": "code",
      "metadata": {
        "colab": {
          "base_uri": "https://localhost:8080/",
          "height": 173
        },
        "id": "nGTR592BLRNM",
        "outputId": "a60ca8c2-fd88-4e69-bb82-8ca9a56c2859"
      },
      "source": [
        "wikipedia_friday_table1"
      ],
      "execution_count": null,
      "outputs": [
        {
          "output_type": "execute_result",
          "data": {
            "text/html": [
              "<div>\n",
              "<style scoped>\n",
              "    .dataframe tbody tr th:only-of-type {\n",
              "        vertical-align: middle;\n",
              "    }\n",
              "\n",
              "    .dataframe tbody tr th {\n",
              "        vertical-align: top;\n",
              "    }\n",
              "\n",
              "    .dataframe thead th {\n",
              "        text-align: right;\n",
              "    }\n",
              "</style>\n",
              "<table border=\"1\" class=\"dataframe\">\n",
              "  <thead>\n",
              "    <tr style=\"text-align: right;\">\n",
              "      <th></th>\n",
              "      <th>Average</th>\n",
              "      <th>Max</th>\n",
              "      <th>Min</th>\n",
              "    </tr>\n",
              "  </thead>\n",
              "  <tbody>\n",
              "    <tr>\n",
              "      <th>Degree</th>\n",
              "      <td>8.909245</td>\n",
              "      <td>233.000000</td>\n",
              "      <td>1.000000</td>\n",
              "    </tr>\n",
              "    <tr>\n",
              "      <th>Closeness</th>\n",
              "      <td>0.047259</td>\n",
              "      <td>0.197214</td>\n",
              "      <td>0.000000</td>\n",
              "    </tr>\n",
              "    <tr>\n",
              "      <th>Local clustering coefficient</th>\n",
              "      <td>0.019541</td>\n",
              "      <td>0.500000</td>\n",
              "      <td>0.000000</td>\n",
              "    </tr>\n",
              "    <tr>\n",
              "      <th>Centrality</th>\n",
              "      <td>0.002520</td>\n",
              "      <td>0.065894</td>\n",
              "      <td>0.000283</td>\n",
              "    </tr>\n",
              "  </tbody>\n",
              "</table>\n",
              "</div>"
            ],
            "text/plain": [
              "                               Average         Max       Min\n",
              "Degree                        8.909245  233.000000  1.000000\n",
              "Closeness                     0.047259    0.197214  0.000000\n",
              "Local clustering coefficient  0.019541    0.500000  0.000000\n",
              "Centrality                    0.002520    0.065894  0.000283"
            ]
          },
          "metadata": {
            "tags": []
          },
          "execution_count": 126
        }
      ]
    },
    {
      "cell_type": "markdown",
      "metadata": {
        "id": "cm0OHBb_nZWl"
      },
      "source": [
        "**Centrality analysis :**\n",
        "- Friday appears to have a higher average degree and local clustering coefficient\n",
        "- monday appears to have a higher closeness and centrality\n",
        "\n",
        "However the difference are really small and thus may not be statistically significant. Neverless what we can notice is taht the spread out of node degree is much more important for friday than monday, with a higher maximum value."
      ]
    },
    {
      "cell_type": "markdown",
      "metadata": {
        "id": "Y5NJuOBeLUnR"
      },
      "source": [
        "----------"
      ]
    },
    {
      "cell_type": "code",
      "metadata": {
        "id": "icPQtdfDLT9R",
        "colab": {
          "base_uri": "https://localhost:8080/",
          "height": 94
        },
        "outputId": "04dfcdda-eaaa-44fa-98a5-bfb417288e54"
      },
      "source": [
        "wikipedia_monday_table2"
      ],
      "execution_count": 10,
      "outputs": [
        {
          "output_type": "execute_result",
          "data": {
            "text/html": [
              "<div>\n",
              "<style scoped>\n",
              "    .dataframe tbody tr th:only-of-type {\n",
              "        vertical-align: middle;\n",
              "    }\n",
              "\n",
              "    .dataframe tbody tr th {\n",
              "        vertical-align: top;\n",
              "    }\n",
              "\n",
              "    .dataframe thead th {\n",
              "        text-align: right;\n",
              "    }\n",
              "</style>\n",
              "<table border=\"1\" class=\"dataframe\">\n",
              "  <thead>\n",
              "    <tr style=\"text-align: right;\">\n",
              "      <th></th>\n",
              "      <th></th>\n",
              "    </tr>\n",
              "  </thead>\n",
              "  <tbody>\n",
              "    <tr>\n",
              "      <th>Global clustering coefficient</th>\n",
              "      <td>0.017420</td>\n",
              "    </tr>\n",
              "    <tr>\n",
              "      <th>Assortativity degree</th>\n",
              "      <td>-0.015305</td>\n",
              "    </tr>\n",
              "  </tbody>\n",
              "</table>\n",
              "</div>"
            ],
            "text/plain": [
              "                                       \n",
              "Global clustering coefficient  0.017420\n",
              "Assortativity degree          -0.015305"
            ]
          },
          "metadata": {
            "tags": []
          },
          "execution_count": 10
        }
      ]
    },
    {
      "cell_type": "code",
      "metadata": {
        "id": "wOerM9HfLXau",
        "colab": {
          "base_uri": "https://localhost:8080/",
          "height": 94
        },
        "outputId": "cb0b1e4c-f1c3-4498-9efa-f64a4bd2e3f4"
      },
      "source": [
        "wikipedia_friday_table2"
      ],
      "execution_count": 11,
      "outputs": [
        {
          "output_type": "execute_result",
          "data": {
            "text/html": [
              "<div>\n",
              "<style scoped>\n",
              "    .dataframe tbody tr th:only-of-type {\n",
              "        vertical-align: middle;\n",
              "    }\n",
              "\n",
              "    .dataframe tbody tr th {\n",
              "        vertical-align: top;\n",
              "    }\n",
              "\n",
              "    .dataframe thead th {\n",
              "        text-align: right;\n",
              "    }\n",
              "</style>\n",
              "<table border=\"1\" class=\"dataframe\">\n",
              "  <thead>\n",
              "    <tr style=\"text-align: right;\">\n",
              "      <th></th>\n",
              "      <th></th>\n",
              "    </tr>\n",
              "  </thead>\n",
              "  <tbody>\n",
              "    <tr>\n",
              "      <th>Global clustering coefficient</th>\n",
              "      <td>0.019813</td>\n",
              "    </tr>\n",
              "    <tr>\n",
              "      <th>Assortativity degree</th>\n",
              "      <td>-0.012944</td>\n",
              "    </tr>\n",
              "  </tbody>\n",
              "</table>\n",
              "</div>"
            ],
            "text/plain": [
              "                                       \n",
              "Global clustering coefficient  0.019813\n",
              "Assortativity degree          -0.012944"
            ]
          },
          "metadata": {
            "tags": []
          },
          "execution_count": 11
        }
      ]
    },
    {
      "cell_type": "markdown",
      "metadata": {
        "id": "pfrC5PIenZWm"
      },
      "source": [
        "**Clustering and Behavior analysis :**\n",
        "- global clustering coefficient higher in friday\n",
        "- assortativity degree closer to zero in friday\n",
        "\n",
        "What we may say that friday appreas to be more tighly connected than monday. However due to the very small difference observed it is hard to truly conclude something and we may need deeper analysis involving other paramters. \n",
        "So with what we have, we may say that day of the week may impact a little bit the connectivity of the network. "
      ]
    },
    {
      "cell_type": "markdown",
      "metadata": {
        "id": "jKVf_uK3MPOM"
      },
      "source": [
        "-----"
      ]
    },
    {
      "cell_type": "markdown",
      "metadata": {
        "id": "9IHEMWxYLwxc"
      },
      "source": [
        "#### Wikipedia - Hour"
      ]
    },
    {
      "cell_type": "markdown",
      "metadata": {
        "id": "uD34bcRdaUC3"
      },
      "source": [
        "Now we focus on the hour of the day. After plotting the ratio of neg/pos edges according to the hour of the day, we were able to identify 2 groups. We have drawn : \n",
        "- a first subgraph from 10h, representing the group with low ratio, \n",
        "- a second one from 6h representative from the high ratio. \n",
        "\n",
        "As we were able to see on the graph of the ratio, lower one corresponds to the mid-day period, while higher one corresponds to the afternoon/night and morning period. One could understand it during the lunch break, people tend to be more happy and thus vote less negatively. Of course it is only an hypothesis, but it can give an idea. \n",
        "Let’s have a look at the centrality parameters. "
      ]
    },
    {
      "cell_type": "code",
      "metadata": {
        "id": "bgzMz4APm4Fm"
      },
      "source": [
        "mask_10h = (Wiki_votes['Date'].dt.hour == 10)\n",
        "mask_6h = (Wiki_votes['Date'].dt.hour == 6)\n",
        "\n",
        "wikipedia_10h = Wiki_votes.loc[mask_10h]\n",
        "wikipedia_6h = Wiki_votes.loc[mask_6h]"
      ],
      "execution_count": null,
      "outputs": []
    },
    {
      "cell_type": "code",
      "metadata": {
        "colab": {
          "base_uri": "https://localhost:8080/",
          "height": 204
        },
        "id": "uNW8dzywMhV8",
        "outputId": "b9e85575-06b7-45a8-e4be-0ee8aabf6648"
      },
      "source": [
        "wikipedia_6h.head()"
      ],
      "execution_count": null,
      "outputs": [
        {
          "output_type": "execute_result",
          "data": {
            "text/html": [
              "<div>\n",
              "<style scoped>\n",
              "    .dataframe tbody tr th:only-of-type {\n",
              "        vertical-align: middle;\n",
              "    }\n",
              "\n",
              "    .dataframe tbody tr th {\n",
              "        vertical-align: top;\n",
              "    }\n",
              "\n",
              "    .dataframe thead th {\n",
              "        text-align: right;\n",
              "    }\n",
              "</style>\n",
              "<table border=\"1\" class=\"dataframe\">\n",
              "  <thead>\n",
              "    <tr style=\"text-align: right;\">\n",
              "      <th></th>\n",
              "      <th>FromNodeId</th>\n",
              "      <th>ToNodeId</th>\n",
              "      <th>Sign</th>\n",
              "      <th>Date</th>\n",
              "      <th>Votes</th>\n",
              "    </tr>\n",
              "  </thead>\n",
              "  <tbody>\n",
              "    <tr>\n",
              "      <th>10</th>\n",
              "      <td>12</td>\n",
              "      <td>30</td>\n",
              "      <td>1</td>\n",
              "      <td>2004-09-15 06:56:00</td>\n",
              "      <td>74</td>\n",
              "    </tr>\n",
              "    <tr>\n",
              "      <th>68</th>\n",
              "      <td>11</td>\n",
              "      <td>61</td>\n",
              "      <td>1</td>\n",
              "      <td>2004-09-12 06:21:00</td>\n",
              "      <td>791</td>\n",
              "    </tr>\n",
              "    <tr>\n",
              "      <th>84</th>\n",
              "      <td>27</td>\n",
              "      <td>6</td>\n",
              "      <td>1</td>\n",
              "      <td>2004-09-11 06:13:00</td>\n",
              "      <td>104</td>\n",
              "    </tr>\n",
              "    <tr>\n",
              "      <th>85</th>\n",
              "      <td>11</td>\n",
              "      <td>6</td>\n",
              "      <td>1</td>\n",
              "      <td>2004-09-11 06:50:00</td>\n",
              "      <td>791</td>\n",
              "    </tr>\n",
              "    <tr>\n",
              "      <th>128</th>\n",
              "      <td>12</td>\n",
              "      <td>8</td>\n",
              "      <td>-1</td>\n",
              "      <td>2004-09-15 06:38:00</td>\n",
              "      <td>74</td>\n",
              "    </tr>\n",
              "  </tbody>\n",
              "</table>\n",
              "</div>"
            ],
            "text/plain": [
              "    FromNodeId ToNodeId Sign                Date  Votes\n",
              "10          12       30    1 2004-09-15 06:56:00     74\n",
              "68          11       61    1 2004-09-12 06:21:00    791\n",
              "84          27        6    1 2004-09-11 06:13:00    104\n",
              "85          11        6    1 2004-09-11 06:50:00    791\n",
              "128         12        8   -1 2004-09-15 06:38:00     74"
            ]
          },
          "metadata": {
            "tags": []
          },
          "execution_count": 123
        }
      ]
    },
    {
      "cell_type": "code",
      "metadata": {
        "colab": {
          "base_uri": "https://localhost:8080/",
          "height": 204
        },
        "id": "oiKTPtdzMjCC",
        "outputId": "5c9fba14-95f5-4570-82cb-b74c91fb8766"
      },
      "source": [
        "wikipedia_10h.head()"
      ],
      "execution_count": null,
      "outputs": [
        {
          "output_type": "execute_result",
          "data": {
            "text/html": [
              "<div>\n",
              "<style scoped>\n",
              "    .dataframe tbody tr th:only-of-type {\n",
              "        vertical-align: middle;\n",
              "    }\n",
              "\n",
              "    .dataframe tbody tr th {\n",
              "        vertical-align: top;\n",
              "    }\n",
              "\n",
              "    .dataframe thead th {\n",
              "        text-align: right;\n",
              "    }\n",
              "</style>\n",
              "<table border=\"1\" class=\"dataframe\">\n",
              "  <thead>\n",
              "    <tr style=\"text-align: right;\">\n",
              "      <th></th>\n",
              "      <th>FromNodeId</th>\n",
              "      <th>ToNodeId</th>\n",
              "      <th>Sign</th>\n",
              "      <th>Date</th>\n",
              "      <th>Votes</th>\n",
              "    </tr>\n",
              "  </thead>\n",
              "  <tbody>\n",
              "    <tr>\n",
              "      <th>50</th>\n",
              "      <td>47</td>\n",
              "      <td>54</td>\n",
              "      <td>1</td>\n",
              "      <td>2004-09-16 10:28:00</td>\n",
              "      <td>158</td>\n",
              "    </tr>\n",
              "    <tr>\n",
              "      <th>51</th>\n",
              "      <td>48</td>\n",
              "      <td>54</td>\n",
              "      <td>1</td>\n",
              "      <td>2004-09-16 10:39:00</td>\n",
              "      <td>22</td>\n",
              "    </tr>\n",
              "    <tr>\n",
              "      <th>55</th>\n",
              "      <td>50</td>\n",
              "      <td>54</td>\n",
              "      <td>1</td>\n",
              "      <td>2004-09-17 10:47:00</td>\n",
              "      <td>14</td>\n",
              "    </tr>\n",
              "    <tr>\n",
              "      <th>75</th>\n",
              "      <td>14</td>\n",
              "      <td>61</td>\n",
              "      <td>1</td>\n",
              "      <td>2004-09-13 10:22:00</td>\n",
              "      <td>121</td>\n",
              "    </tr>\n",
              "    <tr>\n",
              "      <th>137</th>\n",
              "      <td>45</td>\n",
              "      <td>8</td>\n",
              "      <td>-1</td>\n",
              "      <td>2004-09-16 10:08:00</td>\n",
              "      <td>9</td>\n",
              "    </tr>\n",
              "  </tbody>\n",
              "</table>\n",
              "</div>"
            ],
            "text/plain": [
              "    FromNodeId ToNodeId Sign                Date  Votes\n",
              "50          47       54    1 2004-09-16 10:28:00    158\n",
              "51          48       54    1 2004-09-16 10:39:00     22\n",
              "55          50       54    1 2004-09-17 10:47:00     14\n",
              "75          14       61    1 2004-09-13 10:22:00    121\n",
              "137         45        8   -1 2004-09-16 10:08:00      9"
            ]
          },
          "metadata": {
            "tags": []
          },
          "execution_count": 124
        }
      ]
    },
    {
      "cell_type": "code",
      "metadata": {
        "id": "QIvp2XJ3L0Px"
      },
      "source": [
        "wikipedia_10h_graph = nx.from_pandas_edgelist(wikipedia_10h,\"FromNodeId\",\"ToNodeId\",edge_attr=\"Sign\",create_using=nx.DiGraph)\n",
        "wikipedia_6h_graph = nx.from_pandas_edgelist(wikipedia_6h,\"FromNodeId\",\"ToNodeId\",edge_attr=\"Sign\",create_using=nx.DiGraph)\n",
        "\n",
        "\n",
        "wikipedia_10h_table1,wikipedia_10h_table2 = graph_properties(wikipedia_10h_graph)\n",
        "wikipedia_6h_table1,wikipedia_6h_table2 = graph_properties(wikipedia_6h_graph)"
      ],
      "execution_count": null,
      "outputs": []
    },
    {
      "cell_type": "code",
      "metadata": {
        "colab": {
          "base_uri": "https://localhost:8080/",
          "height": 173
        },
        "id": "R_bh8AHJN6SN",
        "outputId": "0eaddd07-ff88-477a-8357-6d5570f96e98"
      },
      "source": [
        "wikipedia_10h_table1"
      ],
      "execution_count": null,
      "outputs": [
        {
          "output_type": "execute_result",
          "data": {
            "text/html": [
              "<div>\n",
              "<style scoped>\n",
              "    .dataframe tbody tr th:only-of-type {\n",
              "        vertical-align: middle;\n",
              "    }\n",
              "\n",
              "    .dataframe tbody tr th {\n",
              "        vertical-align: top;\n",
              "    }\n",
              "\n",
              "    .dataframe thead th {\n",
              "        text-align: right;\n",
              "    }\n",
              "</style>\n",
              "<table border=\"1\" class=\"dataframe\">\n",
              "  <thead>\n",
              "    <tr style=\"text-align: right;\">\n",
              "      <th></th>\n",
              "      <th>Average</th>\n",
              "      <th>Max</th>\n",
              "      <th>Min</th>\n",
              "    </tr>\n",
              "  </thead>\n",
              "  <tbody>\n",
              "    <tr>\n",
              "      <th>Degree</th>\n",
              "      <td>3.057558</td>\n",
              "      <td>82.000000</td>\n",
              "      <td>1.000000</td>\n",
              "    </tr>\n",
              "    <tr>\n",
              "      <th>Closeness</th>\n",
              "      <td>0.002978</td>\n",
              "      <td>0.027898</td>\n",
              "      <td>0.000000</td>\n",
              "    </tr>\n",
              "    <tr>\n",
              "      <th>Local clustering coefficient</th>\n",
              "      <td>0.005650</td>\n",
              "      <td>0.500000</td>\n",
              "      <td>0.000000</td>\n",
              "    </tr>\n",
              "    <tr>\n",
              "      <th>Centrality</th>\n",
              "      <td>0.001646</td>\n",
              "      <td>0.044133</td>\n",
              "      <td>0.000538</td>\n",
              "    </tr>\n",
              "  </tbody>\n",
              "</table>\n",
              "</div>"
            ],
            "text/plain": [
              "                               Average        Max       Min\n",
              "Degree                        3.057558  82.000000  1.000000\n",
              "Closeness                     0.002978   0.027898  0.000000\n",
              "Local clustering coefficient  0.005650   0.500000  0.000000\n",
              "Centrality                    0.001646   0.044133  0.000538"
            ]
          },
          "metadata": {
            "tags": []
          },
          "execution_count": 122
        }
      ]
    },
    {
      "cell_type": "code",
      "metadata": {
        "colab": {
          "base_uri": "https://localhost:8080/",
          "height": 173
        },
        "id": "_YbnZ9BEN7XA",
        "outputId": "7acd6762-58d7-4f60-be9e-6db711a698e1"
      },
      "source": [
        "wikipedia_6h_table1"
      ],
      "execution_count": null,
      "outputs": [
        {
          "output_type": "execute_result",
          "data": {
            "text/html": [
              "<div>\n",
              "<style scoped>\n",
              "    .dataframe tbody tr th:only-of-type {\n",
              "        vertical-align: middle;\n",
              "    }\n",
              "\n",
              "    .dataframe tbody tr th {\n",
              "        vertical-align: top;\n",
              "    }\n",
              "\n",
              "    .dataframe thead th {\n",
              "        text-align: right;\n",
              "    }\n",
              "</style>\n",
              "<table border=\"1\" class=\"dataframe\">\n",
              "  <thead>\n",
              "    <tr style=\"text-align: right;\">\n",
              "      <th></th>\n",
              "      <th>Average</th>\n",
              "      <th>Max</th>\n",
              "      <th>Min</th>\n",
              "    </tr>\n",
              "  </thead>\n",
              "  <tbody>\n",
              "    <tr>\n",
              "      <th>Degree</th>\n",
              "      <td>3.427887</td>\n",
              "      <td>63.000000</td>\n",
              "      <td>1.000000</td>\n",
              "    </tr>\n",
              "    <tr>\n",
              "      <th>Closeness</th>\n",
              "      <td>0.005022</td>\n",
              "      <td>0.036394</td>\n",
              "      <td>0.000000</td>\n",
              "    </tr>\n",
              "    <tr>\n",
              "      <th>Local clustering coefficient</th>\n",
              "      <td>0.004731</td>\n",
              "      <td>0.500000</td>\n",
              "      <td>0.000000</td>\n",
              "    </tr>\n",
              "    <tr>\n",
              "      <th>Centrality</th>\n",
              "      <td>0.001643</td>\n",
              "      <td>0.030201</td>\n",
              "      <td>0.000479</td>\n",
              "    </tr>\n",
              "  </tbody>\n",
              "</table>\n",
              "</div>"
            ],
            "text/plain": [
              "                               Average        Max       Min\n",
              "Degree                        3.427887  63.000000  1.000000\n",
              "Closeness                     0.005022   0.036394  0.000000\n",
              "Local clustering coefficient  0.004731   0.500000  0.000000\n",
              "Centrality                    0.001643   0.030201  0.000479"
            ]
          },
          "metadata": {
            "tags": []
          },
          "execution_count": 119
        }
      ]
    },
    {
      "cell_type": "markdown",
      "metadata": {
        "id": "zie6zFYOacAK"
      },
      "source": [
        "**Centrality analysis :**\n",
        "- The degree and closeness is higher for 6h than 10h : in the morning/afternoon may be more edge-sensitize (affected quickly for an event on another part of the network) than at mid-day\n",
        "- local clustering coefficient and entrality values are quite the same for both sub-graphs.\n",
        "\n",
        "For now we can say that both subgraphs are quite similar according to centrality parameters. Let’s have a look at behavior and clustering ones. \n"
      ]
    },
    {
      "cell_type": "markdown",
      "metadata": {
        "id": "--otcw5gN-Mk"
      },
      "source": [
        "------"
      ]
    },
    {
      "cell_type": "code",
      "metadata": {
        "colab": {
          "base_uri": "https://localhost:8080/",
          "height": 94
        },
        "id": "eIXncdR3N_SY",
        "outputId": "0a43e9ce-2d48-4679-bcfb-b0d436fe8945"
      },
      "source": [
        "wikipedia_10h_table2"
      ],
      "execution_count": null,
      "outputs": [
        {
          "output_type": "execute_result",
          "data": {
            "text/html": [
              "<div>\n",
              "<style scoped>\n",
              "    .dataframe tbody tr th:only-of-type {\n",
              "        vertical-align: middle;\n",
              "    }\n",
              "\n",
              "    .dataframe tbody tr th {\n",
              "        vertical-align: top;\n",
              "    }\n",
              "\n",
              "    .dataframe thead th {\n",
              "        text-align: right;\n",
              "    }\n",
              "</style>\n",
              "<table border=\"1\" class=\"dataframe\">\n",
              "  <thead>\n",
              "    <tr style=\"text-align: right;\">\n",
              "      <th></th>\n",
              "      <th></th>\n",
              "    </tr>\n",
              "  </thead>\n",
              "  <tbody>\n",
              "    <tr>\n",
              "      <th>Global clustering coefficient</th>\n",
              "      <td>0.002137</td>\n",
              "    </tr>\n",
              "    <tr>\n",
              "      <th>Assortativity degree</th>\n",
              "      <td>-0.099332</td>\n",
              "    </tr>\n",
              "  </tbody>\n",
              "</table>\n",
              "</div>"
            ],
            "text/plain": [
              "                                       \n",
              "Global clustering coefficient  0.002137\n",
              "Assortativity degree          -0.099332"
            ]
          },
          "metadata": {
            "tags": []
          },
          "execution_count": 120
        }
      ]
    },
    {
      "cell_type": "code",
      "metadata": {
        "colab": {
          "base_uri": "https://localhost:8080/",
          "height": 94
        },
        "id": "Pm9l0hSJOBR8",
        "outputId": "20c657c5-384b-48e7-e3f7-f66b5fb68355"
      },
      "source": [
        "wikipedia_6h_table2"
      ],
      "execution_count": null,
      "outputs": [
        {
          "output_type": "execute_result",
          "data": {
            "text/html": [
              "<div>\n",
              "<style scoped>\n",
              "    .dataframe tbody tr th:only-of-type {\n",
              "        vertical-align: middle;\n",
              "    }\n",
              "\n",
              "    .dataframe tbody tr th {\n",
              "        vertical-align: top;\n",
              "    }\n",
              "\n",
              "    .dataframe thead th {\n",
              "        text-align: right;\n",
              "    }\n",
              "</style>\n",
              "<table border=\"1\" class=\"dataframe\">\n",
              "  <thead>\n",
              "    <tr style=\"text-align: right;\">\n",
              "      <th></th>\n",
              "      <th></th>\n",
              "    </tr>\n",
              "  </thead>\n",
              "  <tbody>\n",
              "    <tr>\n",
              "      <th>Global clustering coefficient</th>\n",
              "      <td>0.002967</td>\n",
              "    </tr>\n",
              "    <tr>\n",
              "      <th>Assortativity degree</th>\n",
              "      <td>-0.088337</td>\n",
              "    </tr>\n",
              "  </tbody>\n",
              "</table>\n",
              "</div>"
            ],
            "text/plain": [
              "                                       \n",
              "Global clustering coefficient  0.002967\n",
              "Assortativity degree          -0.088337"
            ]
          },
          "metadata": {
            "tags": []
          },
          "execution_count": 121
        }
      ]
    },
    {
      "cell_type": "markdown",
      "metadata": {
        "id": "A1Vmfo86agcQ"
      },
      "source": [
        "**Behavior and clustering analysis**:\n",
        "\n",
        "- Both global clustering and assortativity values are really similar for 6 and 10h. There is a slight increase in global clustering coefficient for 6h and a small diminution of assortativity degree. That may mean that the nodes are less aggregated to similar ones and that they tend to form more triangles. Thus the network at 6h would be more connected, and with more heterogeneous groups than at 10h. \n",
        "\n",
        "However these differences are so small that we would need further analysis to be able to assess this conclusion. Here it is just to raise curiosity about this trend, and there is a cue that something could be impacted.\n",
        "\n",
        "So here we have analysed the possible impact of the hour on the voting network structure of wikipedia. As we were able to see comparing the different parameters between the 6h and 10h subgraphs, the differences are very very small. However one could say it reveals dissimmetry in network structure according to the hour of the day. Because the difference are small we have to be more careful about conclusions here, and add nuances to our possible extrapolations.\n",
        "\n",
        "We had to do this analysis to carefully say this. However, further analysis is needed to properly exclude this variable from the group of network structure influencing ones.\n",
        "\n"
      ]
    },
    {
      "cell_type": "markdown",
      "metadata": {
        "id": "1KhHrz2P4FIJ"
      },
      "source": [
        "<b> Wikipedia conclusion </b>\n",
        "\n",
        "So here we have tried to analysis the impact of timestamp data associated to the edges on the network structure of the *wikipedia dataset*. We present a small recap of the conclusions drawn from the analysis of year, month, day and hours variables impact on the network structure parameters :\n",
        "\n",
        "- Year : it appears that the year 2008 is more tighly connected than the 2 others 2004-7. The difference in  average degree and centrality shows a structure dissimmetry between incoming and outcoming edges between the different years. 2008 has a lower average degree but the same centrality as 2005, thus it could mean that 2008's node tend to be more active than the other subsets. The smaller closeness in 2008 may indicates connections with further people in average and its important clustering coefficient may show a high connectivity. *So year appears to have quite an important impact on the network structure, specially on centrality and clustering parameters*.\n",
        "\n",
        "- Month : it appears that the local clustering coefficient is raising in accordance with the proportion of negative edges (and thus the ratio).  So in a month with a high ratio (as july), the removal a of given node will have less important impact on the ability of its neighbors to communicate and influence each others. This parameter is very important because it is an index of the dependancy of the node to each other. *So month appears to have an important and strategy influence on the network structure, specially for node's dependancy*.\n",
        "\n",
        "- Day : Differences in parameters for day's subgraphs were pretty small and thus harder to analyse. Neverless we could say that Friday appears to be more connected  than monday due to the higher global clustering coefficient, and also less heterogeneous as its assortativity average is closer to zero. However we need further network structure analysis with other parameters to go deeper in the analysis.\n",
        "\n",
        "- Hour : it appears that the centrality is higher is sub-graph from higher ratio, at least for degree and closeness parameters. This may means that for 6h, the nodes tends to less agregate with similar ones and have more connections. However, as for the day, the small difference do not allow to properly concluse and we may need further analysis with other parameters to deeply assess the impact of the hour on network structure.\n",
        "\n",
        "So as a resume, year and month appear to impact quite a lot the structure while day and hour semas to less affect it.\n",
        "\n",
        "Thus, in the context of wikipedia dataset, one can say that it might be very important to take Time variable and more specifically year and month into account when analysing network structure. As the edges represent votes, it might be very interesting to adapt the communication strategy of a canditate according to the network structure and thus the time of the election.\n",
        "\n",
        "Let's draw a small sketch to show how time could impact the election. If we have a situation with 3 nodes A, B and C. A positively links to B anf B positively link to C. We are considering the edge between A and C. In the case of the balance theory, the edge A-C is more likely to be positive because the triad +++ is more plausible than ++-. On the other hand, according to the status theory, the link from C to A is more likely to be negative, as A will have a lower status from C's point of view. Now if we consider the time. Imagine that you are in 2005, we know that its ratio of negative versus positive edges is the lowest one. Thus the probability that the AC edge is negative is pretty lower compared to the same probability in 2008, when the ratio is higher. Now transport yourself in 2008. We have seen that the network seems to be more tightly connected, with high global clustering coefficient. So the probability that an edge effectively exists between A and C is higher than if you were in 2005-7. Also the dissymmetry in incoming-outcoming edges indicates a more important activity of the nodes. Thus the situation can rapidly change, and the nodes are influenced a lot by all their neighbors. So it would appear a bit restraint to consider only the node B in order to study the link between A and C, as it might be influence by other common neighbors (appears to likely be numerous in 2008). Now take a step back and imagine you are in july (whatever the year). There the ratio of negative versus positive edge is the highest of the year, so the probability that the edge AC is negative is very important compared to another month, i.e. novembre where the ratio is low. Also in July the nodes are more independent to each other. So the possible neighbors of C, other than only A and B might have less influence on C and thus on edge C-A. However if you are now in november,  nodes are more dependant to each other. So the removal of a common neighbor from C and B (not A) might have an important impact on their ability to communicate, thus it could finally impact the C-A edge. It is just a theoretical example, to try to highlight the importance that year and month may have in structure network analysis. As communication strategy is a key point in politics, knowing the way the network is structured is an undeniable advantage and can be critical strategically."
      ]
    },
    {
      "cell_type": "markdown",
      "metadata": {
        "id": "SVTnPl03Mccf"
      },
      "source": [
        "-----"
      ]
    },
    {
      "cell_type": "markdown",
      "metadata": {
        "id": "x32n6nVxanog"
      },
      "source": [
        "<b>Time analysis final conclusion:</b>\n",
        "\n",
        "From the work done and presented here, we were able to see different things. In a general manner we can conclude that time variables can affect in the network structure in different ways and thus might be taken into account during the analysis. Here we present 3 key points to remember from this analysis.\n",
        " \n",
        "1) One can say that the importance of time variable depend on the dataset. So inside a unique dataset, year, month, day and hour can have different importance on the edges distribution and structure network. Here we have investigated the ratio of negative versus positive edges to draw our sub-graphs according to overall trend. Another way of thinking might be to base the dataset splitting according to the total amount of edge. So for example one could say that year and month appear to have very small effect on Reddit network structure while day and hour could affect its structure parameters.\n",
        "\n",
        "2) One can say that the importance of time variables are different from one dataset to another. We have seen that both month and year appear to impact connectivity of Wikipedia network structure while it doesn't have effect on the Reddit one. On the other hand, Day and Hour seem to be irrelevant for the Wikipedia network structure while it could impact the Reddit one.\n",
        "\n",
        "Thus we cannot say a general rule about time variables that must be taken into account when performing network structure analysis. We cannot universally withdraw variables and extrapolate the conclusions done on Reddit and Wikipedia datasets, because first, they are contradictory and second, they reveal the importance of doing the time analysis on the graph of interest to identify relevant time variables.\n",
        "\n",
        "Finally we have seen that the global trend identified for each of the variables are very different according to the dataset. It seams logic as the two datasets are coming from two different website and nodes-edges don't represent the same things. However it is important to keep in mind that a prior social-historic analysis of the situation associated with the dataset or website might be very useful in the understanding of the trend and thus the analysis after. So at the first point, one might do a global trend analysis on its dataset to identify the subgraphs he will look into. We don't have general rules to split the dataset as it depends on its nature.\n",
        "\n",
        "However here our goal is to use the pipeline to assess balance and status theory built in the paper to another dataset, to experience it. In that way it will allow us maybe to nuance the conclusion of the study under the light of our own conclusions with Reddit dataset."
      ]
    },
    {
      "cell_type": "markdown",
      "metadata": {
        "id": "d2m4Mx-ihIz8"
      },
      "source": [
        "# 5) Weights \n"
      ]
    },
    {
      "cell_type": "markdown",
      "metadata": {
        "id": "Nt7qvZvxsxLS"
      },
      "source": [
        "In this section, we will be grouping the data in weights from the data set. This is done to see if we can find any parameters giving a trend for the properties of the graph. \n",
        "\n",
        "The subgraph will be looked at to have significantly different from each other, in terms of weights. It will also be taken to account the subgraph will represent a large enough data set to do the analyze. In total three different subgraphs for every data set will be created. One with low values another with middle values and lastly one with high values. "
      ]
    },
    {
      "cell_type": "code",
      "metadata": {
        "colab": {
          "base_uri": "https://localhost:8080/",
          "height": 265
        },
        "id": "FQR8GiA_6AJz",
        "outputId": "18e086b5-7ff4-4eac-c280-46a9d7f76a17"
      },
      "source": [
        "import matplotlib.pyplot as plt\n",
        "fig = plt.figure()\n",
        "plt.hist(data_body['Sentiment'].tolist())\n",
        "plt.show()"
      ],
      "execution_count": null,
      "outputs": [
        {
          "output_type": "display_data",
          "data": {
            "image/png": "[encoded data removed]",
            "text/plain": [
              "<Figure size 432x288 with 1 Axes>"
            ]
          },
          "metadata": {
            "tags": [],
            "needs_background": "light"
          }
        }
      ]
    },
    {
      "cell_type": "markdown",
      "metadata": {
        "id": "pCFOG2RICEIL"
      },
      "source": [
        "Out of the information about the distribution in the histogram, three subgraphs will be formed for further analyses. These three will represent one with a low sentiment score, mean sentiment score, and high sentiment score. \n",
        "\n",
        "By looking at the histogram we can see that a large number of the post have a score between -1.00 and -0.875, thus this will represent the subgraph with a low sentiment score. At the same time, one can see a large number of posts with a sentiment score between 0 and 0.125. That will represent the middle number. Lastly one can see that the score between 0.875 and 1 includes a very large number of posts, therefore this will be used as representing the subgraph with a high score. \n",
        "\n"
      ]
    },
    {
      "cell_type": "code",
      "metadata": {
        "id": "vi2J3uUGHuZI"
      },
      "source": [
        "mask_low_sentiment = (data_body['Sentiment'] >= -1) & (data_body['Sentiment'] <= -0.875)\n",
        "mask_middle_sentiment = (data_body['Sentiment'] >= 0) & (data_body['Sentiment'] <= 0.125)\n",
        "mask_high_sentiment = (data_body['Sentiment'] <= 1) & (data_body['Sentiment'] >= 0.875)\n",
        "\n",
        "reddit_low_sentiment = data_body.loc[mask_low_sentiment]\n",
        "reddit_middle_sentiment = data_body.loc[mask_middle_sentiment]\n",
        "reddit_high_sentiment = data_body.loc[mask_high_sentiment]"
      ],
      "execution_count": null,
      "outputs": []
    },
    {
      "cell_type": "code",
      "metadata": {
        "id": "0vKvWzRYPNGM"
      },
      "source": [
        "reddit_low_sentiment_graph = nx.from_pandas_edgelist(reddit_low_sentiment,\"SOURCE_SUBREDDIT\",\"TARGET_SUBREDDIT\",edge_attr=\"Sign\",create_using=nx.DiGraph)\n",
        "reddit_middle_sentiment_graph= nx.from_pandas_edgelist(reddit_middle_sentiment,\"SOURCE_SUBREDDIT\",\"TARGET_SUBREDDIT\",edge_attr=\"Sign\",create_using=nx.DiGraph)\n",
        "reddit_high_sentiment_graph= nx.from_pandas_edgelist(reddit_high_sentiment,\"SOURCE_SUBREDDIT\",\"TARGET_SUBREDDIT\",edge_attr=\"Sign\",create_using=nx.DiGraph)\n"
      ],
      "execution_count": null,
      "outputs": []
    },
    {
      "cell_type": "code",
      "metadata": {
        "id": "8tYODF3rPliG"
      },
      "source": [
        "reddit_low_sentiment_table1,reddit_low_sentiment_table2 = graph_properties(reddit_low_sentiment_graph) \n",
        "reddit_middle_sentiment_table1,reddit_middle_sentiment_table2 = graph_properties(reddit_middle_sentiment_graph) \n",
        "reddit_high_sentiment_table1,reddit_high_sentiment_table2 = graph_properties(reddit_high_sentiment_graph) "
      ],
      "execution_count": null,
      "outputs": []
    },
    {
      "cell_type": "code",
      "metadata": {
        "colab": {
          "base_uri": "https://localhost:8080/",
          "height": 173
        },
        "id": "YZC1-PPVV7_H",
        "outputId": "6c3f396d-a0a4-46ba-d8b4-e13199db237a"
      },
      "source": [
        "reddit_low_sentiment_table1"
      ],
      "execution_count": null,
      "outputs": [
        {
          "output_type": "execute_result",
          "data": {
            "text/html": [
              "<div>\n",
              "<style scoped>\n",
              "    .dataframe tbody tr th:only-of-type {\n",
              "        vertical-align: middle;\n",
              "    }\n",
              "\n",
              "    .dataframe tbody tr th {\n",
              "        vertical-align: top;\n",
              "    }\n",
              "\n",
              "    .dataframe thead th {\n",
              "        text-align: right;\n",
              "    }\n",
              "</style>\n",
              "<table border=\"1\" class=\"dataframe\">\n",
              "  <thead>\n",
              "    <tr style=\"text-align: right;\">\n",
              "      <th></th>\n",
              "      <th>Average</th>\n",
              "      <th>Max</th>\n",
              "      <th>Min</th>\n",
              "    </tr>\n",
              "  </thead>\n",
              "  <tbody>\n",
              "    <tr>\n",
              "      <th>Degree</th>\n",
              "      <td>4.594022</td>\n",
              "      <td>609.000000</td>\n",
              "      <td>1.000000</td>\n",
              "    </tr>\n",
              "    <tr>\n",
              "      <th>Closeness</th>\n",
              "      <td>0.045287</td>\n",
              "      <td>0.180528</td>\n",
              "      <td>0.000000</td>\n",
              "    </tr>\n",
              "    <tr>\n",
              "      <th>Local clustering coefficient</th>\n",
              "      <td>0.073576</td>\n",
              "      <td>1.000000</td>\n",
              "      <td>0.000000</td>\n",
              "    </tr>\n",
              "    <tr>\n",
              "      <th>Centrality</th>\n",
              "      <td>0.000616</td>\n",
              "      <td>0.081635</td>\n",
              "      <td>0.000134</td>\n",
              "    </tr>\n",
              "  </tbody>\n",
              "</table>\n",
              "</div>"
            ],
            "text/plain": [
              "                               Average         Max       Min\n",
              "Degree                        4.594022  609.000000  1.000000\n",
              "Closeness                     0.045287    0.180528  0.000000\n",
              "Local clustering coefficient  0.073576    1.000000  0.000000\n",
              "Centrality                    0.000616    0.081635  0.000134"
            ]
          },
          "metadata": {
            "tags": []
          },
          "execution_count": 20
        }
      ]
    },
    {
      "cell_type": "code",
      "metadata": {
        "colab": {
          "base_uri": "https://localhost:8080/",
          "height": 173
        },
        "id": "uQII7Ho-V9VE",
        "outputId": "04aa6f48-6902-4e9e-87de-3077d269454b"
      },
      "source": [
        "reddit_middle_sentiment_table1"
      ],
      "execution_count": null,
      "outputs": [
        {
          "output_type": "execute_result",
          "data": {
            "text/html": [
              "<div>\n",
              "<style scoped>\n",
              "    .dataframe tbody tr th:only-of-type {\n",
              "        vertical-align: middle;\n",
              "    }\n",
              "\n",
              "    .dataframe tbody tr th {\n",
              "        vertical-align: top;\n",
              "    }\n",
              "\n",
              "    .dataframe thead th {\n",
              "        text-align: right;\n",
              "    }\n",
              "</style>\n",
              "<table border=\"1\" class=\"dataframe\">\n",
              "  <thead>\n",
              "    <tr style=\"text-align: right;\">\n",
              "      <th></th>\n",
              "      <th>Average</th>\n",
              "      <th>Max</th>\n",
              "      <th>Min</th>\n",
              "    </tr>\n",
              "  </thead>\n",
              "  <tbody>\n",
              "    <tr>\n",
              "      <th>Degree</th>\n",
              "      <td>4.276664</td>\n",
              "      <td>976.000000</td>\n",
              "      <td>1.000000</td>\n",
              "    </tr>\n",
              "    <tr>\n",
              "      <th>Closeness</th>\n",
              "      <td>0.043907</td>\n",
              "      <td>0.222027</td>\n",
              "      <td>0.000000</td>\n",
              "    </tr>\n",
              "    <tr>\n",
              "      <th>Local clustering coefficient</th>\n",
              "      <td>0.054479</td>\n",
              "      <td>1.000000</td>\n",
              "      <td>0.000000</td>\n",
              "    </tr>\n",
              "    <tr>\n",
              "      <th>Centrality</th>\n",
              "      <td>0.000311</td>\n",
              "      <td>0.070915</td>\n",
              "      <td>0.000073</td>\n",
              "    </tr>\n",
              "  </tbody>\n",
              "</table>\n",
              "</div>"
            ],
            "text/plain": [
              "                               Average         Max       Min\n",
              "Degree                        4.276664  976.000000  1.000000\n",
              "Closeness                     0.043907    0.222027  0.000000\n",
              "Local clustering coefficient  0.054479    1.000000  0.000000\n",
              "Centrality                    0.000311    0.070915  0.000073"
            ]
          },
          "metadata": {
            "tags": []
          },
          "execution_count": 21
        }
      ]
    },
    {
      "cell_type": "code",
      "metadata": {
        "colab": {
          "base_uri": "https://localhost:8080/",
          "height": 173
        },
        "id": "7Q6i8U1EWAwA",
        "outputId": "cd4c8b82-e6b5-4706-ab5d-54ae7eefbc76"
      },
      "source": [
        "reddit_high_sentiment_table1"
      ],
      "execution_count": null,
      "outputs": [
        {
          "output_type": "execute_result",
          "data": {
            "text/html": [
              "<div>\n",
              "<style scoped>\n",
              "    .dataframe tbody tr th:only-of-type {\n",
              "        vertical-align: middle;\n",
              "    }\n",
              "\n",
              "    .dataframe tbody tr th {\n",
              "        vertical-align: top;\n",
              "    }\n",
              "\n",
              "    .dataframe thead th {\n",
              "        text-align: right;\n",
              "    }\n",
              "</style>\n",
              "<table border=\"1\" class=\"dataframe\">\n",
              "  <thead>\n",
              "    <tr style=\"text-align: right;\">\n",
              "      <th></th>\n",
              "      <th>Average</th>\n",
              "      <th>Max</th>\n",
              "      <th>Min</th>\n",
              "    </tr>\n",
              "  </thead>\n",
              "  <tbody>\n",
              "    <tr>\n",
              "      <th>Degree</th>\n",
              "      <td>5.259896</td>\n",
              "      <td>787.000000</td>\n",
              "      <td>1.00000</td>\n",
              "    </tr>\n",
              "    <tr>\n",
              "      <th>Closeness</th>\n",
              "      <td>0.069383</td>\n",
              "      <td>0.253256</td>\n",
              "      <td>0.00000</td>\n",
              "    </tr>\n",
              "    <tr>\n",
              "      <th>Local clustering coefficient</th>\n",
              "      <td>0.111606</td>\n",
              "      <td>1.000000</td>\n",
              "      <td>0.00000</td>\n",
              "    </tr>\n",
              "    <tr>\n",
              "      <th>Centrality</th>\n",
              "      <td>0.000263</td>\n",
              "      <td>0.039336</td>\n",
              "      <td>0.00005</td>\n",
              "    </tr>\n",
              "  </tbody>\n",
              "</table>\n",
              "</div>"
            ],
            "text/plain": [
              "                               Average         Max      Min\n",
              "Degree                        5.259896  787.000000  1.00000\n",
              "Closeness                     0.069383    0.253256  0.00000\n",
              "Local clustering coefficient  0.111606    1.000000  0.00000\n",
              "Centrality                    0.000263    0.039336  0.00005"
            ]
          },
          "metadata": {
            "tags": []
          },
          "execution_count": 22
        }
      ]
    },
    {
      "cell_type": "markdown",
      "metadata": {
        "id": "W6ZhMb_IWDL9"
      },
      "source": [
        "------"
      ]
    },
    {
      "cell_type": "code",
      "metadata": {
        "colab": {
          "base_uri": "https://localhost:8080/",
          "height": 94
        },
        "id": "Kn9R3ki1WEWL",
        "outputId": "e62066e7-bc77-4a8d-9360-3a739555c1d7"
      },
      "source": [
        "reddit_low_sentiment_table2"
      ],
      "execution_count": null,
      "outputs": [
        {
          "output_type": "execute_result",
          "data": {
            "text/html": [
              "<div>\n",
              "<style scoped>\n",
              "    .dataframe tbody tr th:only-of-type {\n",
              "        vertical-align: middle;\n",
              "    }\n",
              "\n",
              "    .dataframe tbody tr th {\n",
              "        vertical-align: top;\n",
              "    }\n",
              "\n",
              "    .dataframe thead th {\n",
              "        text-align: right;\n",
              "    }\n",
              "</style>\n",
              "<table border=\"1\" class=\"dataframe\">\n",
              "  <thead>\n",
              "    <tr style=\"text-align: right;\">\n",
              "      <th></th>\n",
              "      <th></th>\n",
              "    </tr>\n",
              "  </thead>\n",
              "  <tbody>\n",
              "    <tr>\n",
              "      <th>Global clustering coefficient</th>\n",
              "      <td>0.032196</td>\n",
              "    </tr>\n",
              "    <tr>\n",
              "      <th>Assortativity degree</th>\n",
              "      <td>-0.094474</td>\n",
              "    </tr>\n",
              "  </tbody>\n",
              "</table>\n",
              "</div>"
            ],
            "text/plain": [
              "                                       \n",
              "Global clustering coefficient  0.032196\n",
              "Assortativity degree          -0.094474"
            ]
          },
          "metadata": {
            "tags": []
          },
          "execution_count": 23
        }
      ]
    },
    {
      "cell_type": "code",
      "metadata": {
        "colab": {
          "base_uri": "https://localhost:8080/",
          "height": 94
        },
        "id": "zcMqJvvHWGKZ",
        "outputId": "87de9cdd-35aa-4fbd-b007-ef51f539b302"
      },
      "source": [
        "reddit_middle_sentiment_table2"
      ],
      "execution_count": null,
      "outputs": [
        {
          "output_type": "execute_result",
          "data": {
            "text/html": [
              "<div>\n",
              "<style scoped>\n",
              "    .dataframe tbody tr th:only-of-type {\n",
              "        vertical-align: middle;\n",
              "    }\n",
              "\n",
              "    .dataframe tbody tr th {\n",
              "        vertical-align: top;\n",
              "    }\n",
              "\n",
              "    .dataframe thead th {\n",
              "        text-align: right;\n",
              "    }\n",
              "</style>\n",
              "<table border=\"1\" class=\"dataframe\">\n",
              "  <thead>\n",
              "    <tr style=\"text-align: right;\">\n",
              "      <th></th>\n",
              "      <th></th>\n",
              "    </tr>\n",
              "  </thead>\n",
              "  <tbody>\n",
              "    <tr>\n",
              "      <th>Global clustering coefficient</th>\n",
              "      <td>0.030376</td>\n",
              "    </tr>\n",
              "    <tr>\n",
              "      <th>Assortativity degree</th>\n",
              "      <td>-0.095623</td>\n",
              "    </tr>\n",
              "  </tbody>\n",
              "</table>\n",
              "</div>"
            ],
            "text/plain": [
              "                                       \n",
              "Global clustering coefficient  0.030376\n",
              "Assortativity degree          -0.095623"
            ]
          },
          "metadata": {
            "tags": []
          },
          "execution_count": 24
        }
      ]
    },
    {
      "cell_type": "code",
      "metadata": {
        "colab": {
          "base_uri": "https://localhost:8080/",
          "height": 94
        },
        "id": "VWvz4rQmWJCE",
        "outputId": "fa0d9906-409a-40d8-b965-1b78e9a38ae8"
      },
      "source": [
        "reddit_high_sentiment_table2"
      ],
      "execution_count": null,
      "outputs": [
        {
          "output_type": "execute_result",
          "data": {
            "text/html": [
              "<div>\n",
              "<style scoped>\n",
              "    .dataframe tbody tr th:only-of-type {\n",
              "        vertical-align: middle;\n",
              "    }\n",
              "\n",
              "    .dataframe tbody tr th {\n",
              "        vertical-align: top;\n",
              "    }\n",
              "\n",
              "    .dataframe thead th {\n",
              "        text-align: right;\n",
              "    }\n",
              "</style>\n",
              "<table border=\"1\" class=\"dataframe\">\n",
              "  <thead>\n",
              "    <tr style=\"text-align: right;\">\n",
              "      <th></th>\n",
              "      <th></th>\n",
              "    </tr>\n",
              "  </thead>\n",
              "  <tbody>\n",
              "    <tr>\n",
              "      <th>Global clustering coefficient</th>\n",
              "      <td>0.048057</td>\n",
              "    </tr>\n",
              "    <tr>\n",
              "      <th>Assortativity degree</th>\n",
              "      <td>-0.062167</td>\n",
              "    </tr>\n",
              "  </tbody>\n",
              "</table>\n",
              "</div>"
            ],
            "text/plain": [
              "                                       \n",
              "Global clustering coefficient  0.048057\n",
              "Assortativity degree          -0.062167"
            ]
          },
          "metadata": {
            "tags": []
          },
          "execution_count": 25
        }
      ]
    },
    {
      "cell_type": "markdown",
      "metadata": {
        "id": "JhPiMoFRWM4W"
      },
      "source": [
        "-----"
      ]
    },
    {
      "cell_type": "markdown",
      "metadata": {
        "id": "PUvus8hmsCNE"
      },
      "source": [
        "The AND between the graphs fluctuates in the range of 4 to 5. The AD does not seem linked to the level of sentiment score. For the AC, LCC, ACD and GCC the result is fluctuating in the same way, where the middle sentiment score has a lower value in the properties of the graph.  Why this occurs is to find a reason for, but overall that trend is not very significant. "
      ]
    },
    {
      "cell_type": "markdown",
      "metadata": {
        "id": "S7nuIXE0u9lw"
      },
      "source": [
        "------"
      ]
    },
    {
      "cell_type": "markdown",
      "metadata": {
        "id": "D8UTC2Epu-hq"
      },
      "source": [
        "On the wikipedia data set weight will be depending on how many votes a user has made. This can be seen as a one measurement on how trustworthy a user is, thus a user that only vote one time might even be a fake account. "
      ]
    },
    {
      "cell_type": "markdown",
      "metadata": {
        "id": "63m8SR513HUU"
      },
      "source": [
        "Start by making a function to calculate the number of votes per user. "
      ]
    },
    {
      "cell_type": "code",
      "metadata": {
        "id": "0RTlDFQEsi-U"
      },
      "source": [
        "def number_votes(i):\n",
        "    mask = Wiki_votes['FromNodeId'].values == i\n",
        "    number_of_votes = np.count_nonzero(mask)\n",
        "    return number_of_votes"
      ],
      "execution_count": null,
      "outputs": []
    },
    {
      "cell_type": "markdown",
      "metadata": {
        "id": "DtewejZ23LrY"
      },
      "source": [
        "Calling this function belowed using lambda function to get the number of votes per user, insert in the column votes for every vote. "
      ]
    },
    {
      "cell_type": "code",
      "metadata": {
        "id": "WciQtaWSslsC"
      },
      "source": [
        "Wiki_votes[\"Votes\"] = Wiki_votes[\"FromNodeId\"].apply(lambda x: number_votes(x))"
      ],
      "execution_count": null,
      "outputs": []
    },
    {
      "cell_type": "markdown",
      "metadata": {
        "id": "y5MgFnsl3ZSc"
      },
      "source": [
        "Following this the number of votes per user is then ploted. "
      ]
    },
    {
      "cell_type": "code",
      "metadata": {
        "colab": {
          "base_uri": "https://localhost:8080/",
          "height": 265
        },
        "id": "Ztr_cb87uymo",
        "outputId": "5dbd0ba4-36c9-4db1-d56f-14f1cc9bd047"
      },
      "source": [
        "fig = plt.figure()\n",
        "plt.hist(Wiki_votes[\"Votes\"].tolist())\n",
        "plt.show()"
      ],
      "execution_count": null,
      "outputs": [
        {
          "output_type": "display_data",
          "data": {
            "image/png": "[encoded data removed]",
            "text/plain": [
              "<Figure size 432x288 with 1 Axes>"
            ]
          },
          "metadata": {
            "tags": [],
            "needs_background": "light"
          }
        }
      ]
    },
    {
      "cell_type": "markdown",
      "metadata": {
        "id": "FiacMbRR3dEb"
      },
      "source": [
        "We can now see the distribution of users per their number of votes, above. The selection of the subgraphs can then be made by taking three different subgraphs that have a big distinction and still are not to small. \n",
        "\n",
        "Here vote between 100 and 200 will represent the low number of votes, the user how has votes between 400 and 500 votes will represent the middle one, and votes between 800 and 900 will represent the high number of votes. In the code below this subgraph is created.  "
      ]
    },
    {
      "cell_type": "code",
      "metadata": {
        "id": "EuI8oVcVu5pV"
      },
      "source": [
        "mask_low_votes = (Wiki_votes[\"Votes\"] >= 100) & (Wiki_votes[\"Votes\"] <= 200)\n",
        "mask_middle_votes = (Wiki_votes[\"Votes\"] >= 400) & (Wiki_votes[\"Votes\"] <= 500)\n",
        "mask_high_votes = (Wiki_votes[\"Votes\"] >= 800) & (Wiki_votes[\"Votes\"] <= 900)\n",
        "\n",
        "wiki_low_sentiment = Wiki_votes.loc[mask_low_votes]\n",
        "wiki_middle_sentiment = Wiki_votes.loc[mask_middle_votes]\n",
        "wiki_high_sentiment = Wiki_votes.loc[mask_high_votes]"
      ],
      "execution_count": null,
      "outputs": []
    },
    {
      "cell_type": "code",
      "metadata": {
        "colab": {
          "base_uri": "https://localhost:8080/"
        },
        "id": "07uzpbto5PzK",
        "outputId": "d4b5eedb-603f-4272-b0ad-a8c233fc347e"
      },
      "source": [
        "wikipedia_low_graph = nx.from_pandas_edgelist(wiki_low_sentiment,\"FromNodeId\",\"ToNodeId\",edge_attr=\"Sign\",create_using=nx.DiGraph)\n",
        "wikipedia_middle_graph = nx.from_pandas_edgelist(wiki_middle_sentiment,\"FromNodeId\",\"ToNodeId\",edge_attr=\"Sign\",create_using=nx.DiGraph)\n",
        "wikipedia_high_graph = nx.from_pandas_edgelist(wiki_high_sentiment,\"FromNodeId\",\"ToNodeId\",edge_attr=\"Sign\",create_using=nx.DiGraph)\n",
        "\n",
        "wikipedia_low_table1,wikipedia_low_table2 = graph_properties(wikipedia_low_graph)\n",
        "wikipedia_middle_table1,wikipedia_middle_table2 = graph_properties(wikipedia_middle_graph)\n",
        "wikipedia_high_table1,wikipedia_high_table2 = graph_properties(wikipedia_high_graph)"
      ],
      "execution_count": null,
      "outputs": [
        {
          "output_type": "stream",
          "text": [
            "/usr/local/lib/python3.6/dist-packages/networkx/algorithms/assortativity/correlation.py:287: RuntimeWarning: invalid value encountered in double_scalars\n",
            "  return (xy * (M - ab)).sum() / numpy.sqrt(vara * varb)\n"
          ],
          "name": "stderr"
        }
      ]
    },
    {
      "cell_type": "code",
      "metadata": {
        "colab": {
          "base_uri": "https://localhost:8080/",
          "height": 173
        },
        "id": "dyPgC5zj5VpG",
        "outputId": "a1db2597-440d-4e85-a466-151c703861cb"
      },
      "source": [
        "wikipedia_low_table1"
      ],
      "execution_count": null,
      "outputs": [
        {
          "output_type": "execute_result",
          "data": {
            "text/html": [
              "<div>\n",
              "<style scoped>\n",
              "    .dataframe tbody tr th:only-of-type {\n",
              "        vertical-align: middle;\n",
              "    }\n",
              "\n",
              "    .dataframe tbody tr th {\n",
              "        vertical-align: top;\n",
              "    }\n",
              "\n",
              "    .dataframe thead th {\n",
              "        text-align: right;\n",
              "    }\n",
              "</style>\n",
              "<table border=\"1\" class=\"dataframe\">\n",
              "  <thead>\n",
              "    <tr style=\"text-align: right;\">\n",
              "      <th></th>\n",
              "      <th>Average</th>\n",
              "      <th>Max</th>\n",
              "      <th>Min</th>\n",
              "    </tr>\n",
              "  </thead>\n",
              "  <tbody>\n",
              "    <tr>\n",
              "      <th>Degree</th>\n",
              "      <td>19.001334</td>\n",
              "      <td>208.000000</td>\n",
              "      <td>1.000000</td>\n",
              "    </tr>\n",
              "    <tr>\n",
              "      <th>Closeness</th>\n",
              "      <td>0.025550</td>\n",
              "      <td>0.043724</td>\n",
              "      <td>0.000000</td>\n",
              "    </tr>\n",
              "    <tr>\n",
              "      <th>Local clustering coefficient</th>\n",
              "      <td>0.159898</td>\n",
              "      <td>1.000000</td>\n",
              "      <td>0.000000</td>\n",
              "    </tr>\n",
              "    <tr>\n",
              "      <th>Centrality</th>\n",
              "      <td>0.008453</td>\n",
              "      <td>0.092527</td>\n",
              "      <td>0.000445</td>\n",
              "    </tr>\n",
              "  </tbody>\n",
              "</table>\n",
              "</div>"
            ],
            "text/plain": [
              "                                Average         Max       Min\n",
              "Degree                        19.001334  208.000000  1.000000\n",
              "Closeness                      0.025550    0.043724  0.000000\n",
              "Local clustering coefficient   0.159898    1.000000  0.000000\n",
              "Centrality                     0.008453    0.092527  0.000445"
            ]
          },
          "metadata": {
            "tags": []
          },
          "execution_count": 36
        }
      ]
    },
    {
      "cell_type": "code",
      "metadata": {
        "colab": {
          "base_uri": "https://localhost:8080/",
          "height": 173
        },
        "id": "JmCBCqsv5Xr5",
        "outputId": "3c5cb267-6f88-4c87-ce3e-728ebfb10c70"
      },
      "source": [
        "wikipedia_middle_table1"
      ],
      "execution_count": null,
      "outputs": [
        {
          "output_type": "execute_result",
          "data": {
            "text/html": [
              "<div>\n",
              "<style scoped>\n",
              "    .dataframe tbody tr th:only-of-type {\n",
              "        vertical-align: middle;\n",
              "    }\n",
              "\n",
              "    .dataframe tbody tr th {\n",
              "        vertical-align: top;\n",
              "    }\n",
              "\n",
              "    .dataframe thead th {\n",
              "        text-align: right;\n",
              "    }\n",
              "</style>\n",
              "<table border=\"1\" class=\"dataframe\">\n",
              "  <thead>\n",
              "    <tr style=\"text-align: right;\">\n",
              "      <th></th>\n",
              "      <th>Average</th>\n",
              "      <th>Max</th>\n",
              "      <th>Min</th>\n",
              "    </tr>\n",
              "  </thead>\n",
              "  <tbody>\n",
              "    <tr>\n",
              "      <th>Degree</th>\n",
              "      <td>3.488411</td>\n",
              "      <td>473.000000</td>\n",
              "      <td>1.000000</td>\n",
              "    </tr>\n",
              "    <tr>\n",
              "      <th>Closeness</th>\n",
              "      <td>0.001653</td>\n",
              "      <td>0.004143</td>\n",
              "      <td>0.000000</td>\n",
              "    </tr>\n",
              "    <tr>\n",
              "      <th>Local clustering coefficient</th>\n",
              "      <td>0.243319</td>\n",
              "      <td>1.000000</td>\n",
              "      <td>0.000000</td>\n",
              "    </tr>\n",
              "    <tr>\n",
              "      <th>Centrality</th>\n",
              "      <td>0.002890</td>\n",
              "      <td>0.391881</td>\n",
              "      <td>0.000829</td>\n",
              "    </tr>\n",
              "  </tbody>\n",
              "</table>\n",
              "</div>"
            ],
            "text/plain": [
              "                               Average         Max       Min\n",
              "Degree                        3.488411  473.000000  1.000000\n",
              "Closeness                     0.001653    0.004143  0.000000\n",
              "Local clustering coefficient  0.243319    1.000000  0.000000\n",
              "Centrality                    0.002890    0.391881  0.000829"
            ]
          },
          "metadata": {
            "tags": []
          },
          "execution_count": 37
        }
      ]
    },
    {
      "cell_type": "code",
      "metadata": {
        "colab": {
          "base_uri": "https://localhost:8080/",
          "height": 173
        },
        "id": "-yU0ogpw5aJK",
        "outputId": "b01d95e2-7231-4e89-8912-31481836f824"
      },
      "source": [
        "wikipedia_high_table1"
      ],
      "execution_count": null,
      "outputs": [
        {
          "output_type": "execute_result",
          "data": {
            "text/html": [
              "<div>\n",
              "<style scoped>\n",
              "    .dataframe tbody tr th:only-of-type {\n",
              "        vertical-align: middle;\n",
              "    }\n",
              "\n",
              "    .dataframe tbody tr th {\n",
              "        vertical-align: top;\n",
              "    }\n",
              "\n",
              "    .dataframe thead th {\n",
              "        text-align: right;\n",
              "    }\n",
              "</style>\n",
              "<table border=\"1\" class=\"dataframe\">\n",
              "  <thead>\n",
              "    <tr style=\"text-align: right;\">\n",
              "      <th></th>\n",
              "      <th>Average</th>\n",
              "      <th>Max</th>\n",
              "      <th>Min</th>\n",
              "    </tr>\n",
              "  </thead>\n",
              "  <tbody>\n",
              "    <tr>\n",
              "      <th>Degree</th>\n",
              "      <td>1.997416</td>\n",
              "      <td>773.000000</td>\n",
              "      <td>1.000000</td>\n",
              "    </tr>\n",
              "    <tr>\n",
              "      <th>Closeness</th>\n",
              "      <td>0.001292</td>\n",
              "      <td>0.001294</td>\n",
              "      <td>0.000000</td>\n",
              "    </tr>\n",
              "    <tr>\n",
              "      <th>Local clustering coefficient</th>\n",
              "      <td>0.000000</td>\n",
              "      <td>0.000000</td>\n",
              "      <td>0.000000</td>\n",
              "    </tr>\n",
              "    <tr>\n",
              "      <th>Centrality</th>\n",
              "      <td>0.002584</td>\n",
              "      <td>1.000000</td>\n",
              "      <td>0.001294</td>\n",
              "    </tr>\n",
              "  </tbody>\n",
              "</table>\n",
              "</div>"
            ],
            "text/plain": [
              "                               Average         Max       Min\n",
              "Degree                        1.997416  773.000000  1.000000\n",
              "Closeness                     0.001292    0.001294  0.000000\n",
              "Local clustering coefficient  0.000000    0.000000  0.000000\n",
              "Centrality                    0.002584    1.000000  0.001294"
            ]
          },
          "metadata": {
            "tags": []
          },
          "execution_count": 38
        }
      ]
    },
    {
      "cell_type": "markdown",
      "metadata": {
        "id": "K8He3oOJ6VZ8"
      },
      "source": [
        "-----"
      ]
    },
    {
      "cell_type": "code",
      "metadata": {
        "colab": {
          "base_uri": "https://localhost:8080/",
          "height": 94
        },
        "id": "jB7msjpA6U3b",
        "outputId": "f6d5e462-c54f-4a4a-ed8b-c366d2d73410"
      },
      "source": [
        "wikipedia_low_table2"
      ],
      "execution_count": null,
      "outputs": [
        {
          "output_type": "execute_result",
          "data": {
            "text/html": [
              "<div>\n",
              "<style scoped>\n",
              "    .dataframe tbody tr th:only-of-type {\n",
              "        vertical-align: middle;\n",
              "    }\n",
              "\n",
              "    .dataframe tbody tr th {\n",
              "        vertical-align: top;\n",
              "    }\n",
              "\n",
              "    .dataframe thead th {\n",
              "        text-align: right;\n",
              "    }\n",
              "</style>\n",
              "<table border=\"1\" class=\"dataframe\">\n",
              "  <thead>\n",
              "    <tr style=\"text-align: right;\">\n",
              "      <th></th>\n",
              "      <th></th>\n",
              "    </tr>\n",
              "  </thead>\n",
              "  <tbody>\n",
              "    <tr>\n",
              "      <th>Global clustering coefficient</th>\n",
              "      <td>0.018022</td>\n",
              "    </tr>\n",
              "    <tr>\n",
              "      <th>Assortativity degree</th>\n",
              "      <td>-0.046083</td>\n",
              "    </tr>\n",
              "  </tbody>\n",
              "</table>\n",
              "</div>"
            ],
            "text/plain": [
              "                                       \n",
              "Global clustering coefficient  0.018022\n",
              "Assortativity degree          -0.046083"
            ]
          },
          "metadata": {
            "tags": []
          },
          "execution_count": 39
        }
      ]
    },
    {
      "cell_type": "code",
      "metadata": {
        "colab": {
          "base_uri": "https://localhost:8080/",
          "height": 94
        },
        "id": "YBExAMKR6ZEp",
        "outputId": "20b60bd4-5450-4a30-d5d4-1d7211702d16"
      },
      "source": [
        "wikipedia_middle_table2"
      ],
      "execution_count": null,
      "outputs": [
        {
          "output_type": "execute_result",
          "data": {
            "text/html": [
              "<div>\n",
              "<style scoped>\n",
              "    .dataframe tbody tr th:only-of-type {\n",
              "        vertical-align: middle;\n",
              "    }\n",
              "\n",
              "    .dataframe tbody tr th {\n",
              "        vertical-align: top;\n",
              "    }\n",
              "\n",
              "    .dataframe thead th {\n",
              "        text-align: right;\n",
              "    }\n",
              "</style>\n",
              "<table border=\"1\" class=\"dataframe\">\n",
              "  <thead>\n",
              "    <tr style=\"text-align: right;\">\n",
              "      <th></th>\n",
              "      <th></th>\n",
              "    </tr>\n",
              "  </thead>\n",
              "  <tbody>\n",
              "    <tr>\n",
              "      <th>Global clustering coefficient</th>\n",
              "      <td>0.001198</td>\n",
              "    </tr>\n",
              "    <tr>\n",
              "      <th>Assortativity degree</th>\n",
              "      <td>-0.070573</td>\n",
              "    </tr>\n",
              "  </tbody>\n",
              "</table>\n",
              "</div>"
            ],
            "text/plain": [
              "                                       \n",
              "Global clustering coefficient  0.001198\n",
              "Assortativity degree          -0.070573"
            ]
          },
          "metadata": {
            "tags": []
          },
          "execution_count": 40
        }
      ]
    },
    {
      "cell_type": "code",
      "metadata": {
        "colab": {
          "base_uri": "https://localhost:8080/",
          "height": 94
        },
        "id": "npXklVWR6b0M",
        "outputId": "0cb99538-486e-4cf9-d97a-9e842919fc1a"
      },
      "source": [
        "wikipedia_high_table2"
      ],
      "execution_count": null,
      "outputs": [
        {
          "output_type": "execute_result",
          "data": {
            "text/html": [
              "<div>\n",
              "<style scoped>\n",
              "    .dataframe tbody tr th:only-of-type {\n",
              "        vertical-align: middle;\n",
              "    }\n",
              "\n",
              "    .dataframe tbody tr th {\n",
              "        vertical-align: top;\n",
              "    }\n",
              "\n",
              "    .dataframe thead th {\n",
              "        text-align: right;\n",
              "    }\n",
              "</style>\n",
              "<table border=\"1\" class=\"dataframe\">\n",
              "  <thead>\n",
              "    <tr style=\"text-align: right;\">\n",
              "      <th></th>\n",
              "      <th></th>\n",
              "    </tr>\n",
              "  </thead>\n",
              "  <tbody>\n",
              "    <tr>\n",
              "      <th>Global clustering coefficient</th>\n",
              "      <td>0.0</td>\n",
              "    </tr>\n",
              "    <tr>\n",
              "      <th>Assortativity degree</th>\n",
              "      <td>NaN</td>\n",
              "    </tr>\n",
              "  </tbody>\n",
              "</table>\n",
              "</div>"
            ],
            "text/plain": [
              "                                  \n",
              "Global clustering coefficient  0.0\n",
              "Assortativity degree           NaN"
            ]
          },
          "metadata": {
            "tags": []
          },
          "execution_count": 41
        }
      ]
    },
    {
      "cell_type": "markdown",
      "metadata": {
        "id": "z51jnlip6u9T"
      },
      "source": [
        "-----"
      ]
    },
    {
      "cell_type": "markdown",
      "metadata": {
        "id": "3pJfuspo6xVj"
      },
      "source": [
        "The result from the subgraph show a clear tendency in increasing number of average degree and closeness between the users with lower number votes, thus it does not seem to exist a tighter link between the users with a similar number of votes. As earlier explained the number of votes can be seen as a measurement of trustworthiness. The properties in the subgraphs show that the more trustworthy a user is the less expected is the user to have a connection to similar users, in terms of a number of votes. Of course, this comes with the consideration that the number of a user is considerably larger for a graph with a low number of votes, thus it is possible to have a total higher number of edges. At the same does the measurement of the subgraph, between the highest number of votes by a user, have the max degree by one user at 773 compared to 208 for the subgraph with the lowest votes. That shows that in fact the subgraph with the lowest number of votes has the node with the highest degree."
      ]
    },
    {
      "cell_type": "markdown",
      "metadata": {
        "id": "CJSVDqVDOVFI"
      },
      "source": [
        "#### Conclusion on weights "
      ]
    },
    {
      "cell_type": "markdown",
      "metadata": {
        "id": "Evay28mBOVFJ"
      },
      "source": [
        "By grouping the Reddit data set by sentiment score the result was that the middle one had the fewest connections. If the sentiment score is in the middle the post neither contains strongly positive or negative opinions. This in contrast with a post that had a low or high sentiment score which was more strongly connected to posts with the same score. This indicates that similar posts are stronger linked to each other. To be sure of this effect further analysis had to be done. When grouping the Wikipedia, by the number of votes per user, it was shown that users that had a done a lower amount of votes were more strongly linked to each other, compared to the other subgraphs. Users with the highest amount of votes were least strongly linked with each other. This is not in the line with the result for the Reddit grouping by sentiment score, but it is not necessarily a contradiction of the result as it a different type of grouping. By this, we can conclude that the strength of subgraphs of the network can be highly affected by how similar the nodes are. Furthermore, this can be depending on how significant and extreme the similarity is. Post that was neither positive nor negative, thus neutral, did not have a strong connection. In the same way, the users that belong to the category with the lowest number of made votes had instead stronger connection."
      ]
    }
  ]
}